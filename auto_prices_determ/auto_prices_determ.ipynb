{
 "cells": [
  {
   "cell_type": "markdown",
   "metadata": {},
   "source": [
    "# Определение стоимости автомобилей"
   ]
  },
  {
   "cell_type": "markdown",
   "metadata": {},
   "source": [
    "Сервис по продаже автомобилей с пробегом разрабатывает приложение для привлечения новых клиентов. В нём можно быстро узнать рыночную стоимость своего автомобиля. В распоряжении имеются исторические данные: технические характеристики, комплектации и цены автомобилей. Необходимо посторить модель для определения стоимости автомобиля. \n",
    "\n",
    "Заказчику важны:\n",
    "\n",
    "- качество предсказания;\n",
    "- скорость предсказания;\n",
    "- время обучения.\n",
    "\n",
    "\n",
    "Предоставленный файл формата CSV cогласно приложенному описанию включает следующие столбцы:\n",
    "\n",
    "    -DateCrawled — дата скачивания анкеты из базы\n",
    "    -VehicleType — тип автомобильного кузова\n",
    "    -RegistrationYear — год регистрации автомобиля\n",
    "    -Gearbox — тип коробки передач\n",
    "    -Power — мощность (л. с.)\n",
    "    -Model — модель автомобиля\n",
    "    -Kilometer — пробег (км)\n",
    "    -RegistrationMonth — месяц регистрации автомобиля\n",
    "    -FuelType — тип топлива\n",
    "    -Brand — марка автомобиля\n",
    "    -NotRepaired — была машина в ремонте или нет\n",
    "    -DateCreated — дата создания анкеты\n",
    "    -NumberOfPictures — количество фотографий автомобиля\n",
    "    -PostalCode — почтовый индекс владельца анкеты (пользователя)\n",
    "    -LastSeen — дата последней активности пользователя\n",
    "    -Price - цена (евро)"
   ]
  },
  {
   "cell_type": "markdown",
   "metadata": {},
   "source": [
    "## Подготовка данных"
   ]
  },
  {
   "cell_type": "code",
   "execution_count": 1,
   "metadata": {},
   "outputs": [
    {
     "name": "stderr",
     "output_type": "stream",
     "text": [
      "C:\\Users\\lebeda\\anaconda3\\envs\\praktikum_env_win_new\\lib\\site-packages\\statsmodels\\tools\\_testing.py:19: FutureWarning: pandas.util.testing is deprecated. Use the functions in the public API at pandas.testing instead.\n",
      "  import pandas.util.testing as tm\n"
     ]
    }
   ],
   "source": [
    "import category_encoders as ce\n",
    "import lightgbm as lgb\n",
    "import numpy as np\n",
    "import pandas as pd\n",
    "import time\n",
    "import warnings\n",
    "\n",
    "from lightgbm import LGBMRegressor\n",
    "from sklearn.ensemble import RandomForestRegressor\n",
    "from sklearn.linear_model import LinearRegression\n",
    "from sklearn.metrics import make_scorer\n",
    "from sklearn.metrics import mean_squared_error\n",
    "from sklearn.model_selection import RandomizedSearchCV\n",
    "from sklearn.model_selection import GridSearchCV\n",
    "from sklearn.model_selection import cross_val_score\n",
    "from sklearn.model_selection import train_test_split\n",
    "from sklearn.preprocessing import OrdinalEncoder\n",
    "from sklearn.preprocessing import StandardScaler\n",
    "from sklearn.tree import DecisionTreeRegressor\n",
    "from sklearn.utils import shuffle"
   ]
  },
  {
   "cell_type": "code",
   "execution_count": 2,
   "metadata": {},
   "outputs": [],
   "source": [
    "%matplotlib inline"
   ]
  },
  {
   "cell_type": "code",
   "execution_count": 3,
   "metadata": {},
   "outputs": [],
   "source": [
    "warnings.simplefilter('ignore')"
   ]
  },
  {
   "cell_type": "markdown",
   "metadata": {},
   "source": [
    "### Чтение и первичный анализ данных"
   ]
  },
  {
   "cell_type": "markdown",
   "metadata": {},
   "source": [
    "Для изучения предоставленных данных получим первые 5 строк таблицы, изучим общую информацию о таблице, получим данные о количестве пропусков, полных дубликатов. Выведем описательные статистики значений, содержащихся в файле, списки и количество уникальных значений столбцов."
   ]
  },
  {
   "cell_type": "code",
   "execution_count": 4,
   "metadata": {},
   "outputs": [],
   "source": [
    "df = pd.read_csv(r'C:\\Users\\lebeda\\Yandex_Practicum\\Yandex_projects\\data_sets\\prjkt_11(sp14)\\autos.csv') #чтение предоставленного файла"
   ]
  },
  {
   "cell_type": "code",
   "execution_count": 5,
   "metadata": {},
   "outputs": [
    {
     "data": {
      "text/html": [
       "<div>\n",
       "<style scoped>\n",
       "    .dataframe tbody tr th:only-of-type {\n",
       "        vertical-align: middle;\n",
       "    }\n",
       "\n",
       "    .dataframe tbody tr th {\n",
       "        vertical-align: top;\n",
       "    }\n",
       "\n",
       "    .dataframe thead th {\n",
       "        text-align: right;\n",
       "    }\n",
       "</style>\n",
       "<table border=\"1\" class=\"dataframe\">\n",
       "  <thead>\n",
       "    <tr style=\"text-align: right;\">\n",
       "      <th></th>\n",
       "      <th>DateCrawled</th>\n",
       "      <th>Price</th>\n",
       "      <th>VehicleType</th>\n",
       "      <th>RegistrationYear</th>\n",
       "      <th>Gearbox</th>\n",
       "      <th>Power</th>\n",
       "      <th>Model</th>\n",
       "      <th>Kilometer</th>\n",
       "      <th>RegistrationMonth</th>\n",
       "      <th>FuelType</th>\n",
       "      <th>Brand</th>\n",
       "      <th>NotRepaired</th>\n",
       "      <th>DateCreated</th>\n",
       "      <th>NumberOfPictures</th>\n",
       "      <th>PostalCode</th>\n",
       "      <th>LastSeen</th>\n",
       "    </tr>\n",
       "  </thead>\n",
       "  <tbody>\n",
       "    <tr>\n",
       "      <th>0</th>\n",
       "      <td>2016-03-24 11:52:17</td>\n",
       "      <td>480</td>\n",
       "      <td>NaN</td>\n",
       "      <td>1993</td>\n",
       "      <td>manual</td>\n",
       "      <td>0</td>\n",
       "      <td>golf</td>\n",
       "      <td>150000</td>\n",
       "      <td>0</td>\n",
       "      <td>petrol</td>\n",
       "      <td>volkswagen</td>\n",
       "      <td>NaN</td>\n",
       "      <td>2016-03-24 00:00:00</td>\n",
       "      <td>0</td>\n",
       "      <td>70435</td>\n",
       "      <td>2016-04-07 03:16:57</td>\n",
       "    </tr>\n",
       "    <tr>\n",
       "      <th>1</th>\n",
       "      <td>2016-03-24 10:58:45</td>\n",
       "      <td>18300</td>\n",
       "      <td>coupe</td>\n",
       "      <td>2011</td>\n",
       "      <td>manual</td>\n",
       "      <td>190</td>\n",
       "      <td>NaN</td>\n",
       "      <td>125000</td>\n",
       "      <td>5</td>\n",
       "      <td>gasoline</td>\n",
       "      <td>audi</td>\n",
       "      <td>yes</td>\n",
       "      <td>2016-03-24 00:00:00</td>\n",
       "      <td>0</td>\n",
       "      <td>66954</td>\n",
       "      <td>2016-04-07 01:46:50</td>\n",
       "    </tr>\n",
       "    <tr>\n",
       "      <th>2</th>\n",
       "      <td>2016-03-14 12:52:21</td>\n",
       "      <td>9800</td>\n",
       "      <td>suv</td>\n",
       "      <td>2004</td>\n",
       "      <td>auto</td>\n",
       "      <td>163</td>\n",
       "      <td>grand</td>\n",
       "      <td>125000</td>\n",
       "      <td>8</td>\n",
       "      <td>gasoline</td>\n",
       "      <td>jeep</td>\n",
       "      <td>NaN</td>\n",
       "      <td>2016-03-14 00:00:00</td>\n",
       "      <td>0</td>\n",
       "      <td>90480</td>\n",
       "      <td>2016-04-05 12:47:46</td>\n",
       "    </tr>\n",
       "    <tr>\n",
       "      <th>3</th>\n",
       "      <td>2016-03-17 16:54:04</td>\n",
       "      <td>1500</td>\n",
       "      <td>small</td>\n",
       "      <td>2001</td>\n",
       "      <td>manual</td>\n",
       "      <td>75</td>\n",
       "      <td>golf</td>\n",
       "      <td>150000</td>\n",
       "      <td>6</td>\n",
       "      <td>petrol</td>\n",
       "      <td>volkswagen</td>\n",
       "      <td>no</td>\n",
       "      <td>2016-03-17 00:00:00</td>\n",
       "      <td>0</td>\n",
       "      <td>91074</td>\n",
       "      <td>2016-03-17 17:40:17</td>\n",
       "    </tr>\n",
       "    <tr>\n",
       "      <th>4</th>\n",
       "      <td>2016-03-31 17:25:20</td>\n",
       "      <td>3600</td>\n",
       "      <td>small</td>\n",
       "      <td>2008</td>\n",
       "      <td>manual</td>\n",
       "      <td>69</td>\n",
       "      <td>fabia</td>\n",
       "      <td>90000</td>\n",
       "      <td>7</td>\n",
       "      <td>gasoline</td>\n",
       "      <td>skoda</td>\n",
       "      <td>no</td>\n",
       "      <td>2016-03-31 00:00:00</td>\n",
       "      <td>0</td>\n",
       "      <td>60437</td>\n",
       "      <td>2016-04-06 10:17:21</td>\n",
       "    </tr>\n",
       "  </tbody>\n",
       "</table>\n",
       "</div>"
      ],
      "text/plain": [
       "           DateCrawled  Price VehicleType  RegistrationYear Gearbox  Power  \\\n",
       "0  2016-03-24 11:52:17    480         NaN              1993  manual      0   \n",
       "1  2016-03-24 10:58:45  18300       coupe              2011  manual    190   \n",
       "2  2016-03-14 12:52:21   9800         suv              2004    auto    163   \n",
       "3  2016-03-17 16:54:04   1500       small              2001  manual     75   \n",
       "4  2016-03-31 17:25:20   3600       small              2008  manual     69   \n",
       "\n",
       "   Model  Kilometer  RegistrationMonth  FuelType       Brand NotRepaired  \\\n",
       "0   golf     150000                  0    petrol  volkswagen         NaN   \n",
       "1    NaN     125000                  5  gasoline        audi         yes   \n",
       "2  grand     125000                  8  gasoline        jeep         NaN   \n",
       "3   golf     150000                  6    petrol  volkswagen          no   \n",
       "4  fabia      90000                  7  gasoline       skoda          no   \n",
       "\n",
       "           DateCreated  NumberOfPictures  PostalCode             LastSeen  \n",
       "0  2016-03-24 00:00:00                 0       70435  2016-04-07 03:16:57  \n",
       "1  2016-03-24 00:00:00                 0       66954  2016-04-07 01:46:50  \n",
       "2  2016-03-14 00:00:00                 0       90480  2016-04-05 12:47:46  \n",
       "3  2016-03-17 00:00:00                 0       91074  2016-03-17 17:40:17  \n",
       "4  2016-03-31 00:00:00                 0       60437  2016-04-06 10:17:21  "
      ]
     },
     "execution_count": 5,
     "metadata": {},
     "output_type": "execute_result"
    }
   ],
   "source": [
    "df.head()"
   ]
  },
  {
   "cell_type": "code",
   "execution_count": 6,
   "metadata": {
    "scrolled": true
   },
   "outputs": [
    {
     "name": "stdout",
     "output_type": "stream",
     "text": [
      "<class 'pandas.core.frame.DataFrame'>\n",
      "RangeIndex: 354369 entries, 0 to 354368\n",
      "Data columns (total 16 columns):\n",
      " #   Column             Non-Null Count   Dtype \n",
      "---  ------             --------------   ----- \n",
      " 0   DateCrawled        354369 non-null  object\n",
      " 1   Price              354369 non-null  int64 \n",
      " 2   VehicleType        316879 non-null  object\n",
      " 3   RegistrationYear   354369 non-null  int64 \n",
      " 4   Gearbox            334536 non-null  object\n",
      " 5   Power              354369 non-null  int64 \n",
      " 6   Model              334664 non-null  object\n",
      " 7   Kilometer          354369 non-null  int64 \n",
      " 8   RegistrationMonth  354369 non-null  int64 \n",
      " 9   FuelType           321474 non-null  object\n",
      " 10  Brand              354369 non-null  object\n",
      " 11  NotRepaired        283215 non-null  object\n",
      " 12  DateCreated        354369 non-null  object\n",
      " 13  NumberOfPictures   354369 non-null  int64 \n",
      " 14  PostalCode         354369 non-null  int64 \n",
      " 15  LastSeen           354369 non-null  object\n",
      "dtypes: int64(7), object(9)\n",
      "memory usage: 43.3+ MB\n"
     ]
    }
   ],
   "source": [
    "df.info()"
   ]
  },
  {
   "cell_type": "code",
   "execution_count": 7,
   "metadata": {},
   "outputs": [
    {
     "data": {
      "text/plain": [
       "(354369, 16)"
      ]
     },
     "execution_count": 7,
     "metadata": {},
     "output_type": "execute_result"
    }
   ],
   "source": [
    "df.shape"
   ]
  },
  {
   "cell_type": "code",
   "execution_count": 8,
   "metadata": {},
   "outputs": [
    {
     "data": {
      "text/plain": [
       "DateCrawled              0\n",
       "Price                    0\n",
       "VehicleType          37490\n",
       "RegistrationYear         0\n",
       "Gearbox              19833\n",
       "Power                    0\n",
       "Model                19705\n",
       "Kilometer                0\n",
       "RegistrationMonth        0\n",
       "FuelType             32895\n",
       "Brand                    0\n",
       "NotRepaired          71154\n",
       "DateCreated              0\n",
       "NumberOfPictures         0\n",
       "PostalCode               0\n",
       "LastSeen                 0\n",
       "dtype: int64"
      ]
     },
     "execution_count": 8,
     "metadata": {},
     "output_type": "execute_result"
    }
   ],
   "source": [
    "df.isna().sum()"
   ]
  },
  {
   "cell_type": "code",
   "execution_count": 9,
   "metadata": {},
   "outputs": [
    {
     "data": {
      "text/plain": [
       "4"
      ]
     },
     "execution_count": 9,
     "metadata": {},
     "output_type": "execute_result"
    }
   ],
   "source": [
    "df.duplicated().sum()"
   ]
  },
  {
   "cell_type": "code",
   "execution_count": 10,
   "metadata": {},
   "outputs": [
    {
     "data": {
      "text/html": [
       "<div>\n",
       "<style scoped>\n",
       "    .dataframe tbody tr th:only-of-type {\n",
       "        vertical-align: middle;\n",
       "    }\n",
       "\n",
       "    .dataframe tbody tr th {\n",
       "        vertical-align: top;\n",
       "    }\n",
       "\n",
       "    .dataframe thead th {\n",
       "        text-align: right;\n",
       "    }\n",
       "</style>\n",
       "<table border=\"1\" class=\"dataframe\">\n",
       "  <thead>\n",
       "    <tr style=\"text-align: right;\">\n",
       "      <th></th>\n",
       "      <th>DateCrawled</th>\n",
       "      <th>Price</th>\n",
       "      <th>VehicleType</th>\n",
       "      <th>RegistrationYear</th>\n",
       "      <th>Gearbox</th>\n",
       "      <th>Power</th>\n",
       "      <th>Model</th>\n",
       "      <th>Kilometer</th>\n",
       "      <th>RegistrationMonth</th>\n",
       "      <th>FuelType</th>\n",
       "      <th>Brand</th>\n",
       "      <th>NotRepaired</th>\n",
       "      <th>DateCreated</th>\n",
       "      <th>NumberOfPictures</th>\n",
       "      <th>PostalCode</th>\n",
       "      <th>LastSeen</th>\n",
       "    </tr>\n",
       "  </thead>\n",
       "  <tbody>\n",
       "    <tr>\n",
       "      <th>count</th>\n",
       "      <td>354369</td>\n",
       "      <td>354369.000000</td>\n",
       "      <td>316879</td>\n",
       "      <td>354369.000000</td>\n",
       "      <td>334536</td>\n",
       "      <td>354369.000000</td>\n",
       "      <td>334664</td>\n",
       "      <td>354369.000000</td>\n",
       "      <td>354369.000000</td>\n",
       "      <td>321474</td>\n",
       "      <td>354369</td>\n",
       "      <td>283215</td>\n",
       "      <td>354369</td>\n",
       "      <td>354369.0</td>\n",
       "      <td>354369.000000</td>\n",
       "      <td>354369</td>\n",
       "    </tr>\n",
       "    <tr>\n",
       "      <th>unique</th>\n",
       "      <td>271174</td>\n",
       "      <td>NaN</td>\n",
       "      <td>8</td>\n",
       "      <td>NaN</td>\n",
       "      <td>2</td>\n",
       "      <td>NaN</td>\n",
       "      <td>250</td>\n",
       "      <td>NaN</td>\n",
       "      <td>NaN</td>\n",
       "      <td>7</td>\n",
       "      <td>40</td>\n",
       "      <td>2</td>\n",
       "      <td>109</td>\n",
       "      <td>NaN</td>\n",
       "      <td>NaN</td>\n",
       "      <td>179150</td>\n",
       "    </tr>\n",
       "    <tr>\n",
       "      <th>top</th>\n",
       "      <td>2016-03-24 14:49:47</td>\n",
       "      <td>NaN</td>\n",
       "      <td>sedan</td>\n",
       "      <td>NaN</td>\n",
       "      <td>manual</td>\n",
       "      <td>NaN</td>\n",
       "      <td>golf</td>\n",
       "      <td>NaN</td>\n",
       "      <td>NaN</td>\n",
       "      <td>petrol</td>\n",
       "      <td>volkswagen</td>\n",
       "      <td>no</td>\n",
       "      <td>2016-04-03 00:00:00</td>\n",
       "      <td>NaN</td>\n",
       "      <td>NaN</td>\n",
       "      <td>2016-04-06 13:45:54</td>\n",
       "    </tr>\n",
       "    <tr>\n",
       "      <th>freq</th>\n",
       "      <td>7</td>\n",
       "      <td>NaN</td>\n",
       "      <td>91457</td>\n",
       "      <td>NaN</td>\n",
       "      <td>268251</td>\n",
       "      <td>NaN</td>\n",
       "      <td>29232</td>\n",
       "      <td>NaN</td>\n",
       "      <td>NaN</td>\n",
       "      <td>216352</td>\n",
       "      <td>77013</td>\n",
       "      <td>247161</td>\n",
       "      <td>13719</td>\n",
       "      <td>NaN</td>\n",
       "      <td>NaN</td>\n",
       "      <td>17</td>\n",
       "    </tr>\n",
       "    <tr>\n",
       "      <th>mean</th>\n",
       "      <td>NaN</td>\n",
       "      <td>4416.656776</td>\n",
       "      <td>NaN</td>\n",
       "      <td>2004.234448</td>\n",
       "      <td>NaN</td>\n",
       "      <td>110.094337</td>\n",
       "      <td>NaN</td>\n",
       "      <td>128211.172535</td>\n",
       "      <td>5.714645</td>\n",
       "      <td>NaN</td>\n",
       "      <td>NaN</td>\n",
       "      <td>NaN</td>\n",
       "      <td>NaN</td>\n",
       "      <td>0.0</td>\n",
       "      <td>50508.689087</td>\n",
       "      <td>NaN</td>\n",
       "    </tr>\n",
       "    <tr>\n",
       "      <th>std</th>\n",
       "      <td>NaN</td>\n",
       "      <td>4514.158514</td>\n",
       "      <td>NaN</td>\n",
       "      <td>90.227958</td>\n",
       "      <td>NaN</td>\n",
       "      <td>189.850405</td>\n",
       "      <td>NaN</td>\n",
       "      <td>37905.341530</td>\n",
       "      <td>3.726421</td>\n",
       "      <td>NaN</td>\n",
       "      <td>NaN</td>\n",
       "      <td>NaN</td>\n",
       "      <td>NaN</td>\n",
       "      <td>0.0</td>\n",
       "      <td>25783.096248</td>\n",
       "      <td>NaN</td>\n",
       "    </tr>\n",
       "    <tr>\n",
       "      <th>min</th>\n",
       "      <td>NaN</td>\n",
       "      <td>0.000000</td>\n",
       "      <td>NaN</td>\n",
       "      <td>1000.000000</td>\n",
       "      <td>NaN</td>\n",
       "      <td>0.000000</td>\n",
       "      <td>NaN</td>\n",
       "      <td>5000.000000</td>\n",
       "      <td>0.000000</td>\n",
       "      <td>NaN</td>\n",
       "      <td>NaN</td>\n",
       "      <td>NaN</td>\n",
       "      <td>NaN</td>\n",
       "      <td>0.0</td>\n",
       "      <td>1067.000000</td>\n",
       "      <td>NaN</td>\n",
       "    </tr>\n",
       "    <tr>\n",
       "      <th>25%</th>\n",
       "      <td>NaN</td>\n",
       "      <td>1050.000000</td>\n",
       "      <td>NaN</td>\n",
       "      <td>1999.000000</td>\n",
       "      <td>NaN</td>\n",
       "      <td>69.000000</td>\n",
       "      <td>NaN</td>\n",
       "      <td>125000.000000</td>\n",
       "      <td>3.000000</td>\n",
       "      <td>NaN</td>\n",
       "      <td>NaN</td>\n",
       "      <td>NaN</td>\n",
       "      <td>NaN</td>\n",
       "      <td>0.0</td>\n",
       "      <td>30165.000000</td>\n",
       "      <td>NaN</td>\n",
       "    </tr>\n",
       "    <tr>\n",
       "      <th>50%</th>\n",
       "      <td>NaN</td>\n",
       "      <td>2700.000000</td>\n",
       "      <td>NaN</td>\n",
       "      <td>2003.000000</td>\n",
       "      <td>NaN</td>\n",
       "      <td>105.000000</td>\n",
       "      <td>NaN</td>\n",
       "      <td>150000.000000</td>\n",
       "      <td>6.000000</td>\n",
       "      <td>NaN</td>\n",
       "      <td>NaN</td>\n",
       "      <td>NaN</td>\n",
       "      <td>NaN</td>\n",
       "      <td>0.0</td>\n",
       "      <td>49413.000000</td>\n",
       "      <td>NaN</td>\n",
       "    </tr>\n",
       "    <tr>\n",
       "      <th>75%</th>\n",
       "      <td>NaN</td>\n",
       "      <td>6400.000000</td>\n",
       "      <td>NaN</td>\n",
       "      <td>2008.000000</td>\n",
       "      <td>NaN</td>\n",
       "      <td>143.000000</td>\n",
       "      <td>NaN</td>\n",
       "      <td>150000.000000</td>\n",
       "      <td>9.000000</td>\n",
       "      <td>NaN</td>\n",
       "      <td>NaN</td>\n",
       "      <td>NaN</td>\n",
       "      <td>NaN</td>\n",
       "      <td>0.0</td>\n",
       "      <td>71083.000000</td>\n",
       "      <td>NaN</td>\n",
       "    </tr>\n",
       "    <tr>\n",
       "      <th>max</th>\n",
       "      <td>NaN</td>\n",
       "      <td>20000.000000</td>\n",
       "      <td>NaN</td>\n",
       "      <td>9999.000000</td>\n",
       "      <td>NaN</td>\n",
       "      <td>20000.000000</td>\n",
       "      <td>NaN</td>\n",
       "      <td>150000.000000</td>\n",
       "      <td>12.000000</td>\n",
       "      <td>NaN</td>\n",
       "      <td>NaN</td>\n",
       "      <td>NaN</td>\n",
       "      <td>NaN</td>\n",
       "      <td>0.0</td>\n",
       "      <td>99998.000000</td>\n",
       "      <td>NaN</td>\n",
       "    </tr>\n",
       "  </tbody>\n",
       "</table>\n",
       "</div>"
      ],
      "text/plain": [
       "                DateCrawled          Price VehicleType  RegistrationYear  \\\n",
       "count                354369  354369.000000      316879     354369.000000   \n",
       "unique               271174            NaN           8               NaN   \n",
       "top     2016-03-24 14:49:47            NaN       sedan               NaN   \n",
       "freq                      7            NaN       91457               NaN   \n",
       "mean                    NaN    4416.656776         NaN       2004.234448   \n",
       "std                     NaN    4514.158514         NaN         90.227958   \n",
       "min                     NaN       0.000000         NaN       1000.000000   \n",
       "25%                     NaN    1050.000000         NaN       1999.000000   \n",
       "50%                     NaN    2700.000000         NaN       2003.000000   \n",
       "75%                     NaN    6400.000000         NaN       2008.000000   \n",
       "max                     NaN   20000.000000         NaN       9999.000000   \n",
       "\n",
       "       Gearbox          Power   Model      Kilometer  RegistrationMonth  \\\n",
       "count   334536  354369.000000  334664  354369.000000      354369.000000   \n",
       "unique       2            NaN     250            NaN                NaN   \n",
       "top     manual            NaN    golf            NaN                NaN   \n",
       "freq    268251            NaN   29232            NaN                NaN   \n",
       "mean       NaN     110.094337     NaN  128211.172535           5.714645   \n",
       "std        NaN     189.850405     NaN   37905.341530           3.726421   \n",
       "min        NaN       0.000000     NaN    5000.000000           0.000000   \n",
       "25%        NaN      69.000000     NaN  125000.000000           3.000000   \n",
       "50%        NaN     105.000000     NaN  150000.000000           6.000000   \n",
       "75%        NaN     143.000000     NaN  150000.000000           9.000000   \n",
       "max        NaN   20000.000000     NaN  150000.000000          12.000000   \n",
       "\n",
       "       FuelType       Brand NotRepaired          DateCreated  \\\n",
       "count    321474      354369      283215               354369   \n",
       "unique        7          40           2                  109   \n",
       "top      petrol  volkswagen          no  2016-04-03 00:00:00   \n",
       "freq     216352       77013      247161                13719   \n",
       "mean        NaN         NaN         NaN                  NaN   \n",
       "std         NaN         NaN         NaN                  NaN   \n",
       "min         NaN         NaN         NaN                  NaN   \n",
       "25%         NaN         NaN         NaN                  NaN   \n",
       "50%         NaN         NaN         NaN                  NaN   \n",
       "75%         NaN         NaN         NaN                  NaN   \n",
       "max         NaN         NaN         NaN                  NaN   \n",
       "\n",
       "        NumberOfPictures     PostalCode             LastSeen  \n",
       "count           354369.0  354369.000000               354369  \n",
       "unique               NaN            NaN               179150  \n",
       "top                  NaN            NaN  2016-04-06 13:45:54  \n",
       "freq                 NaN            NaN                   17  \n",
       "mean                 0.0   50508.689087                  NaN  \n",
       "std                  0.0   25783.096248                  NaN  \n",
       "min                  0.0    1067.000000                  NaN  \n",
       "25%                  0.0   30165.000000                  NaN  \n",
       "50%                  0.0   49413.000000                  NaN  \n",
       "75%                  0.0   71083.000000                  NaN  \n",
       "max                  0.0   99998.000000                  NaN  "
      ]
     },
     "execution_count": 10,
     "metadata": {},
     "output_type": "execute_result"
    }
   ],
   "source": [
    "df.describe(include = 'all')"
   ]
  },
  {
   "cell_type": "code",
   "execution_count": 11,
   "metadata": {},
   "outputs": [
    {
     "name": "stdout",
     "output_type": "stream",
     "text": [
      "DateCrawled 271174 ['2016-03-24 11:52:17' '2016-03-24 10:58:45' '2016-03-14 12:52:21' ...\n",
      " '2016-03-21 09:50:58' '2016-03-14 17:48:27' '2016-03-19 18:57:12']\n",
      "Price 3731 [  480 18300  9800 ... 12395 18429 10985]\n",
      "VehicleType 8 [nan 'coupe' 'suv' 'small' 'sedan' 'convertible' 'bus' 'wagon' 'other']\n",
      "RegistrationYear 151 [1993 2011 2004 2001 2008 1995 1980 2014 1998 2005 1910 2016 2007 2009\n",
      " 2002 2018 1997 1990 2017 1981 2003 1994 1991 1984 2006 1999 2012 2010\n",
      " 2000 1992 2013 1996 1985 1989 2015 1982 1976 1983 1973 1111 1969 1971\n",
      " 1987 1986 1988 1970 1965 1945 1925 1974 1979 1955 1978 1972 1968 1977\n",
      " 1961 1960 1966 1975 1963 1964 5000 1954 1958 1967 1959 9999 1956 3200\n",
      " 1000 1941 8888 1500 2200 4100 1962 1929 1957 1940 3000 2066 1949 2019\n",
      " 1937 1951 1800 1953 1234 8000 5300 9000 2900 6000 5900 5911 1933 1400\n",
      " 1950 4000 1948 1952 1200 8500 1932 1255 3700 3800 4800 1942 7000 1935\n",
      " 1936 6500 1923 2290 2500 1930 1001 9450 1944 1943 1934 1938 1688 2800\n",
      " 1253 1928 1919 5555 5600 1600 2222 1039 9996 1300 8455 1931 1915 4500\n",
      " 1920 1602 7800 9229 1947 1927 7100 8200 1946 7500 3500]\n",
      "Gearbox 2 ['manual' 'auto' nan]\n",
      "Power 712 [    0   190   163    75    69   102   109    50   125   101   105   140\n",
      "   115   131    60   136   160   231    90   118   193    99   113   218\n",
      "   122   129    70   306    95    61   177    80   170    55   143    64\n",
      "   286   232   150   156    82   155    54   185    87   180    86    84\n",
      "   224   235   200   178   265    77   110   144   120   116   184   126\n",
      "   204    88   194   305   197   179   250    45   313    41   165    98\n",
      "   130   114   211    56   201   213    58   107    83   174   100   220\n",
      "    85    73   192    68    66   299    74    52   147    65   310    71\n",
      "    97   239   203     5   300   103   258   320    63    81   148    44\n",
      "   145   230   280   260   104   188   333   186   117   141    59   132\n",
      "   234   158    39    92    51   135    53   209    43   146    67   106\n",
      "   166   276   344    72   249   237   245   111   326   279    23   138\n",
      "   175    96   226    26    37   301   334   128   133   124    33   219\n",
      "   241   167    94   182   196   238  1398   228   112    48   272   139\n",
      "  1799    40   240    79   256   360   243   375   252   396   340   108\n",
      "   121   345   187   289   222   198   284   450   233   387   152   347\n",
      "   172    57   137   212   476   314    30     7    47   173   290   207\n",
      "   205   171   750    78    91    89   349   325    76   151   350   953\n",
      "    93   142   500   343   199   119   164    16   264   367   208   210\n",
      "    46   435  1001   225   127   176   161   603   307   354    35   206\n",
      "   771   355   273   223   255   123   154   149  7515  1400   268   620\n",
      "   169   400   275    34     2   242  1779   285   162   328  1753   329\n",
      "   134   420   247   168 10317   215    18   330   283    62    10   214\n",
      "   183   254    15   321   322   315   952   600   181   426   599   379\n",
      "   999    22   157    42   195   553     4   309   507   381   271   440\n",
      "   189   401  1111  2729    21   236  1240  1704   521     1  1900   270\n",
      "    24   159   292   808   515  1200   303    29    38  1993    14   216\n",
      "   610   504    49   267   331   363   261   385  1011   253   696 10520\n",
      "   376   227   311    27   217    20  1999    11  1056    25   394    12\n",
      "   298   296  1659   294   551  6920   246    17  1800  1625   368   390\n",
      "   221  1367   259   606   327  2017  1597   266   374   392     9   405\n",
      "    13   262   601   430   295     8   411   900   541  7512   382 10218\n",
      "  7544  1102   287    19   751   297  1090   457   282   602   388     6\n",
      "  1000  5411   335  1360   202  3750   805  1062  1024 11530   364  1796\n",
      "  5000   269   460  1002   288  1780 12012 17932   316  2005  1399   191\n",
      "   278  1300   380   257   449  1256   153  1653   520   560   281 12510\n",
      "     3  1500   386    32  1202  2016  1436  1405   671   274  1288  1055\n",
      " 10912 15016  6226  1115   277  1105   341  1223  2340  8404  1968   338\n",
      "   445  1920   370   517  4400 10710 10522  9010   431  1164 11509   371\n",
      "  1501   428 11635    36   304   348  1703  1910  1995   579 10000   580\n",
      "   408    31  1005   358  1403   489  5575 19211   585   960   365   353\n",
      "   490   352  1801   346   550  3199   800  7508  1312   357  1937   950\n",
      "  4700  1600  3454 19208   251   850   337   700  8011  2331  2789   487\n",
      "   519  2461  6006  3500  5815  6018  1781  1503   612  1596   229  1506\n",
      "  5809 15020  5867  2172  1598 17410  1363   584  1054   851  1339   318\n",
      "   510   525  1700    28  1151   685  6011   317   703  1771 15001   514\n",
      "   362   332   324  6045   530   425   308  6010   475   903   640  2000\n",
      "   248   651  2799 17011   505  1103  1521   351 16051   398  9000  1998\n",
      " 10311   409  1230 17019 12684  8259  1895   901  1317   871   909  2201\n",
      "  1595   776 17700 11011  1199   459  1162  1120 15033  1896   339   361\n",
      "   574  6512   454   650 13616   604   607 16312  1082   336 20000   416\n",
      "   678  6012  1401  1021  1870 13636  1250  9710   323  1158  2009   902\n",
      "  6062  1275   572   244   399  1016   743  1221  2402 16011  1362   544\n",
      "   645   907   702 12512  1986  1003  1432  9013  9011   442  1017  1394\n",
      " 15017 10910  1992   540  2018 11025  1433  1701  2792  1502  1239  1390\n",
      " 14009  1160  1351 11111  1783  9007   923  1149   754  1988   402  2004\n",
      "  5420  1793  1324   356  7511  1299   293 19312  1079  1689   998  1100\n",
      "  9012  1933   508 16311   682  1252  1922  7529   732  2389  2200  1707\n",
      "  1416  8500  1012   485  3000 10110   421  4507  1631  7518   377  1004\n",
      "  2007  2598  1548  1241]\n",
      "Model 250 ['golf' nan 'grand' 'fabia' '3er' '2_reihe' 'other' 'c_max' '3_reihe'\n",
      " 'passat' 'navara' 'ka' 'polo' 'twingo' 'a_klasse' 'scirocco' '5er'\n",
      " 'meriva' 'arosa' 'c4' 'civic' 'transporter' 'punto' 'e_klasse' 'clio'\n",
      " 'kadett' 'kangoo' 'corsa' 'one' 'fortwo' '1er' 'b_klasse' 'signum'\n",
      " 'astra' 'a8' 'jetta' 'fiesta' 'c_klasse' 'micra' 'vito' 'sprinter' '156'\n",
      " 'escort' 'forester' 'xc_reihe' 'scenic' 'a4' 'a1' 'insignia' 'combo'\n",
      " 'focus' 'tt' 'a6' 'jazz' 'omega' 'slk' '7er' '80' '147' '100' 'z_reihe'\n",
      " 'sportage' 'sorento' 'v40' 'ibiza' 'mustang' 'eos' 'touran' 'getz' 'a3'\n",
      " 'almera' 'megane' 'lupo' 'r19' 'zafira' 'caddy' 'mondeo' 'cordoba' 'colt'\n",
      " 'impreza' 'vectra' 'berlingo' 'tiguan' 'i_reihe' 'espace' 'sharan'\n",
      " '6_reihe' 'panda' 'up' 'seicento' 'ceed' '5_reihe' 'yeti' 'octavia' 'mii'\n",
      " 'rx_reihe' '6er' 'modus' 'fox' 'matiz' 'beetle' 'c1' 'rio' 'touareg'\n",
      " 'logan' 'spider' 'cuore' 's_max' 'a2' 'galaxy' 'c3' 'viano' 's_klasse'\n",
      " '1_reihe' 'avensis' 'roomster' 'sl' 'kaefer' 'santa' 'cooper' 'leon'\n",
      " '4_reihe' 'a5' '500' 'laguna' 'ptcruiser' 'clk' 'primera' 'x_reihe'\n",
      " 'exeo' '159' 'transit' 'juke' 'qashqai' 'carisma' 'accord' 'corolla'\n",
      " 'lanos' 'phaeton' 'verso' 'swift' 'rav' 'picanto' 'boxster' 'kalos'\n",
      " 'superb' 'stilo' 'alhambra' 'mx_reihe' 'roadster' 'ypsilon' 'cayenne'\n",
      " 'galant' 'justy' '90' 'sirion' 'crossfire' 'agila' 'duster' 'cr_reihe'\n",
      " 'v50' 'c_reihe' 'v_klasse' 'm_klasse' 'yaris' 'c5' 'aygo' 'cc' 'carnival'\n",
      " 'fusion' '911' 'bora' 'forfour' 'm_reihe' 'cl' 'tigra' '300c' 'spark'\n",
      " 'v70' 'kuga' 'x_type' 'ducato' 's_type' 'x_trail' 'toledo' 'altea'\n",
      " 'voyager' 'calibra' 'bravo' 'antara' 'tucson' 'citigo' 'jimny' 'wrangler'\n",
      " 'lybra' 'q7' 'lancer' 'captiva' 'c2' 'discovery' 'freelander' 'sandero'\n",
      " 'note' '900' 'cherokee' 'clubman' 'samara' 'defender' '601' 'cx_reihe'\n",
      " 'legacy' 'pajero' 'auris' 'niva' 's60' 'nubira' 'vivaro' 'g_klasse'\n",
      " 'lodgy' '850' 'range_rover' 'q3' 'serie_2' 'glk' 'charade' 'croma'\n",
      " 'outlander' 'doblo' 'musa' 'move' '9000' 'v60' '145' 'aveo' '200' 'b_max'\n",
      " 'range_rover_sport' 'terios' 'rangerover' 'q5' 'range_rover_evoque'\n",
      " 'materia' 'delta' 'gl' 'kalina' 'amarok' 'elefantino' 'i3' 'kappa'\n",
      " 'serie_3' 'serie_1']\n",
      "Kilometer 13 [150000 125000  90000  40000  30000  70000   5000 100000  60000  20000\n",
      "  80000  50000  10000]\n",
      "RegistrationMonth 13 [ 0  5  8  6  7 10 12 11  2  3  1  4  9]\n",
      "FuelType 7 ['petrol' 'gasoline' nan 'lpg' 'other' 'hybrid' 'cng' 'electric']\n",
      "Brand 40 ['volkswagen' 'audi' 'jeep' 'skoda' 'bmw' 'peugeot' 'ford' 'mazda'\n",
      " 'nissan' 'renault' 'mercedes_benz' 'opel' 'seat' 'citroen' 'honda' 'fiat'\n",
      " 'mini' 'smart' 'hyundai' 'sonstige_autos' 'alfa_romeo' 'subaru' 'volvo'\n",
      " 'mitsubishi' 'kia' 'suzuki' 'lancia' 'toyota' 'chevrolet' 'dacia'\n",
      " 'daihatsu' 'trabant' 'saab' 'chrysler' 'jaguar' 'daewoo' 'porsche'\n",
      " 'rover' 'land_rover' 'lada']\n",
      "NotRepaired 2 [nan 'yes' 'no']\n"
     ]
    },
    {
     "name": "stdout",
     "output_type": "stream",
     "text": [
      "DateCreated 109 ['2016-03-24 00:00:00' '2016-03-14 00:00:00' '2016-03-17 00:00:00'\n",
      " '2016-03-31 00:00:00' '2016-04-04 00:00:00' '2016-04-01 00:00:00'\n",
      " '2016-03-21 00:00:00' '2016-03-26 00:00:00' '2016-04-07 00:00:00'\n",
      " '2016-03-15 00:00:00' '2016-03-11 00:00:00' '2016-03-20 00:00:00'\n",
      " '2016-03-23 00:00:00' '2016-03-27 00:00:00' '2016-03-12 00:00:00'\n",
      " '2016-03-13 00:00:00' '2016-03-18 00:00:00' '2016-03-10 00:00:00'\n",
      " '2016-03-07 00:00:00' '2016-03-09 00:00:00' '2016-03-08 00:00:00'\n",
      " '2016-04-03 00:00:00' '2016-03-29 00:00:00' '2016-03-25 00:00:00'\n",
      " '2016-03-28 00:00:00' '2016-03-30 00:00:00' '2016-03-22 00:00:00'\n",
      " '2016-02-09 00:00:00' '2016-03-05 00:00:00' '2016-04-02 00:00:00'\n",
      " '2016-03-16 00:00:00' '2016-03-19 00:00:00' '2016-04-05 00:00:00'\n",
      " '2016-03-06 00:00:00' '2016-02-12 00:00:00' '2016-03-03 00:00:00'\n",
      " '2016-03-01 00:00:00' '2016-03-04 00:00:00' '2016-04-06 00:00:00'\n",
      " '2016-02-15 00:00:00' '2016-02-24 00:00:00' '2016-02-27 00:00:00'\n",
      " '2015-03-20 00:00:00' '2016-02-28 00:00:00' '2016-02-17 00:00:00'\n",
      " '2016-01-27 00:00:00' '2016-02-20 00:00:00' '2016-02-29 00:00:00'\n",
      " '2016-02-10 00:00:00' '2016-02-23 00:00:00' '2016-02-21 00:00:00'\n",
      " '2015-11-02 00:00:00' '2016-02-19 00:00:00' '2016-02-26 00:00:00'\n",
      " '2016-02-11 00:00:00' '2016-01-10 00:00:00' '2016-02-06 00:00:00'\n",
      " '2016-02-18 00:00:00' '2016-01-29 00:00:00' '2016-03-02 00:00:00'\n",
      " '2015-12-06 00:00:00' '2016-01-24 00:00:00' '2016-01-30 00:00:00'\n",
      " '2016-02-02 00:00:00' '2016-02-16 00:00:00' '2016-02-13 00:00:00'\n",
      " '2016-02-05 00:00:00' '2016-02-22 00:00:00' '2015-11-17 00:00:00'\n",
      " '2014-03-10 00:00:00' '2016-02-07 00:00:00' '2016-01-23 00:00:00'\n",
      " '2016-02-25 00:00:00' '2016-02-14 00:00:00' '2016-01-02 00:00:00'\n",
      " '2015-09-04 00:00:00' '2015-11-12 00:00:00' '2015-12-27 00:00:00'\n",
      " '2015-11-24 00:00:00' '2016-01-20 00:00:00' '2016-02-03 00:00:00'\n",
      " '2015-12-05 00:00:00' '2015-08-07 00:00:00' '2016-01-28 00:00:00'\n",
      " '2016-01-31 00:00:00' '2016-02-08 00:00:00' '2016-01-07 00:00:00'\n",
      " '2016-01-22 00:00:00' '2016-01-18 00:00:00' '2016-01-08 00:00:00'\n",
      " '2015-11-23 00:00:00' '2016-01-13 00:00:00' '2016-01-17 00:00:00'\n",
      " '2016-01-15 00:00:00' '2015-11-08 00:00:00' '2016-01-26 00:00:00'\n",
      " '2016-02-04 00:00:00' '2016-01-25 00:00:00' '2016-01-16 00:00:00'\n",
      " '2015-08-10 00:00:00' '2016-01-03 00:00:00' '2016-01-19 00:00:00'\n",
      " '2015-12-30 00:00:00' '2016-02-01 00:00:00' '2015-12-17 00:00:00'\n",
      " '2015-11-10 00:00:00' '2016-01-06 00:00:00' '2015-09-09 00:00:00'\n",
      " '2015-06-18 00:00:00']\n",
      "NumberOfPictures 1 [0]\n",
      "PostalCode 8143 [70435 66954 90480 ... 38528 38325 31096]\n",
      "LastSeen 179150 ['2016-04-07 03:16:57' '2016-04-07 01:46:50' '2016-04-05 12:47:46' ...\n",
      " '2016-03-19 20:44:43' '2016-03-29 10:17:23' '2016-03-21 10:42:49']\n"
     ]
    }
   ],
   "source": [
    "for column in df.columns:\n",
    "     print(column, df[column].nunique(), df[column].unique())\n"
   ]
  },
  {
   "cell_type": "markdown",
   "metadata": {},
   "source": [
    "**Первичный анализ данных выявил следующие аномалии и артефакты:**\n",
    "\n",
    " - В 5 из 16 столбцов ('VehicleType', 'Gearbox', 'Model', 'FuelType', 'NotRepaired') присутсвуют пропуски значений в значимом количестве (не менее 19705 из 354369 строк, то есть не менее 5,56 %).\n",
    " \n",
    " \n",
    " - В таблице присутствует 4 строки, которые являются полными дубликатами.\n",
    " \n",
    " \n",
    " - В столбце 'Price' минимальные значения уровня цен определены в 0 евро - такое часто встречается в реальных объявлениях, если продавец не определился с ценой, однако для целей прогонозирования цены такое авто не подходит.\n",
    " \n",
    " \n",
    " - В стобце 'RegistrationYear' присутствуют аномальные значения года регистрации автомобиля как по нижней границе условно допустимого диапазона (например, 1900 год), так и по верхней (последний год выгрузки объявлений 2016 год). Вероятно, это связано с ошибками записи или занесения информации в карточку обявления.\n",
    " \n",
    " \n",
    " - В стобце 'RegistrationMonth\t' - месяц регистрации присутсвуют значния 0, что не соответсвует нормальному диапазону данных (1-12).\n",
    " \n",
    " \n",
    " - В столбце 'Power' (мощность в лошадиных силах) присутсвуют сверхмалые значения (0) и сверхбольшие значения (более 500). \n",
    "  \n",
    "  \n",
    " Наличие нулевых значений мощности могло быть вызвано ошибкой занесения данных или их отсутсвием.\n",
    "  \n",
    "  Сверхбольшие значения мощности - это, вероятно, ошибки занесения данных, так как на текуший момент мощности суперкаров лежат в пределах от 500 до 1600 л.с., при этом их стоимость далеко не ограничивается приведенным максимальным значением цены в 20000 евро.\n",
    "  \n",
    "  \n",
    " - Cтолбец 'NumberOfPictures' (количество фотографий автомобиля) не содержит никаких других значений - кроме нуля. Столбец неинформативен. По сути данные в нем отсутсвуют."
   ]
  },
  {
   "cell_type": "markdown",
   "metadata": {},
   "source": [
    "### Подготовка данных"
   ]
  },
  {
   "cell_type": "markdown",
   "metadata": {},
   "source": [
    "**_Удаление полных дубликатов строк._**"
   ]
  },
  {
   "cell_type": "code",
   "execution_count": 12,
   "metadata": {},
   "outputs": [],
   "source": [
    "df.drop_duplicates(inplace=True)\n",
    "df= df.reset_index(drop=True)"
   ]
  },
  {
   "cell_type": "markdown",
   "metadata": {},
   "source": [
    "**_Удаление строк с нулевым значением цены ('Price')._**"
   ]
  },
  {
   "cell_type": "markdown",
   "metadata": {},
   "source": [
    "Так как цена является целевым признаком при построении прогноза, заполнение пропусков в соответвующем столбце средними или иными значениями неуместно. "
   ]
  },
  {
   "cell_type": "code",
   "execution_count": 13,
   "metadata": {
    "scrolled": true
   },
   "outputs": [
    {
     "data": {
      "text/plain": [
       "array([[<AxesSubplot:title={'center':'Price'}>]], dtype=object)"
      ]
     },
     "execution_count": 13,
     "metadata": {},
     "output_type": "execute_result"
    },
    {
     "data": {
      "image/png": "[encoded data removed]",
      "text/plain": [
       "<Figure size 432x288 with 1 Axes>"
      ]
     },
     "metadata": {
      "needs_background": "light"
     },
     "output_type": "display_data"
    }
   ],
   "source": [
    "df.hist('Price', bins=(80)) #гистограмма для уровня разброса цен"
   ]
  },
  {
   "cell_type": "code",
   "execution_count": 14,
   "metadata": {
    "scrolled": true
   },
   "outputs": [
    {
     "data": {
      "text/plain": [
       "<AxesSubplot:>"
      ]
     },
     "execution_count": 14,
     "metadata": {},
     "output_type": "execute_result"
    },
    {
     "data": {
      "image/png": "[encoded data removed]",
      "text/plain": [
       "<Figure size 432x288 with 1 Axes>"
      ]
     },
     "metadata": {
      "needs_background": "light"
     },
     "output_type": "display_data"
    }
   ],
   "source": [
    "df.boxplot('Price') #'ящик с усами' для уровня цен"
   ]
  },
  {
   "cell_type": "code",
   "execution_count": 15,
   "metadata": {
    "scrolled": true
   },
   "outputs": [
    {
     "data": {
      "text/plain": [
       "10772"
      ]
     },
     "execution_count": 15,
     "metadata": {},
     "output_type": "execute_result"
    }
   ],
   "source": [
    "df.query('Price == 0')['Price'].count() #количество строк с нулевым значением цен"
   ]
  },
  {
   "cell_type": "code",
   "execution_count": 16,
   "metadata": {
    "scrolled": true
   },
   "outputs": [
    {
     "data": {
      "text/plain": [
       "13314"
      ]
     },
     "execution_count": 16,
     "metadata": {},
     "output_type": "execute_result"
    }
   ],
   "source": [
    "df.query('Price < 100')['Price'].count() #количество строк со значением цен менее 100 евро"
   ]
  },
  {
   "cell_type": "code",
   "execution_count": 17,
   "metadata": {
    "scrolled": true
   },
   "outputs": [
    {
     "data": {
      "text/plain": [
       "36054"
      ]
     },
     "execution_count": 17,
     "metadata": {},
     "output_type": "execute_result"
    }
   ],
   "source": [
    "df.query('Price < 500')['Price'].count() #количество строк с нулевым значением цен менее 500 евро"
   ]
  },
  {
   "cell_type": "markdown",
   "metadata": {},
   "source": [
    "В качестве критерия недостоверности цен определим стоимость автомобиля менее 100 евро. Количество строк с ценами менее 100 евро составляет около 3,7% от общего объема информации, удалим такие строки."
   ]
  },
  {
   "cell_type": "code",
   "execution_count": 18,
   "metadata": {},
   "outputs": [],
   "source": [
    "df = df.query('Price >= 100').reset_index(drop=True) #удаление строк со значениями цен ниже 100 евро"
   ]
  },
  {
   "cell_type": "markdown",
   "metadata": {},
   "source": [
    "**_Удаление строк с аномальным значением года регистрации автомобиля ('RegistrationYear')._**"
   ]
  },
  {
   "cell_type": "markdown",
   "metadata": {},
   "source": [
    "Чтобы избежать ошибок в процессе прогонозирования удалим строки с аномальными значениями годов выпуска авто (раньше сроков начала промышленного производства и позже года последней даты выгрузки, так как на момент выгрузки год регистрации автомобиля не может превышать года выгрузки объявления)."
   ]
  },
  {
   "cell_type": "code",
   "execution_count": 19,
   "metadata": {},
   "outputs": [
    {
     "data": {
      "text/plain": [
       "2016"
      ]
     },
     "execution_count": 19,
     "metadata": {},
     "output_type": "execute_result"
    }
   ],
   "source": [
    "#последний (\"старший\") год выгрузки данных\n",
    "pd.DatetimeIndex(df.DateCrawled).year.max()"
   ]
  },
  {
   "cell_type": "code",
   "execution_count": 20,
   "metadata": {},
   "outputs": [
    {
     "data": {
      "text/plain": [
       "9999"
      ]
     },
     "execution_count": 20,
     "metadata": {},
     "output_type": "execute_result"
    }
   ],
   "source": [
    "df.RegistrationYear.max() #последний, старейший год регистрации"
   ]
  },
  {
   "cell_type": "code",
   "execution_count": 21,
   "metadata": {},
   "outputs": [
    {
     "data": {
      "text/plain": [
       "13687"
      ]
     },
     "execution_count": 21,
     "metadata": {},
     "output_type": "execute_result"
    }
   ],
   "source": [
    "#количество записей со сроком регистрации превышающем дату последнего года выгрузки\n",
    "df.query('RegistrationYear > 2016')['RegistrationYear'].count() "
   ]
  },
  {
   "cell_type": "code",
   "execution_count": 22,
   "metadata": {},
   "outputs": [
    {
     "data": {
      "text/plain": [
       "13730"
      ]
     },
     "execution_count": 22,
     "metadata": {},
     "output_type": "execute_result"
    }
   ],
   "source": [
    "#колличество строк с аномальным значением года регистрации автомобиля\n",
    "df.query('RegistrationYear < 1900 or RegistrationYear > 2016')['RegistrationYear'].count() "
   ]
  },
  {
   "cell_type": "code",
   "execution_count": 23,
   "metadata": {},
   "outputs": [],
   "source": [
    "#удаление строк с аномальным годом регистрации автомобиля\n",
    "df = df.query('RegistrationYear >= 1900 or RegistrationYear <= 2016').reset_index(drop=True)"
   ]
  },
  {
   "cell_type": "markdown",
   "metadata": {},
   "source": [
    "**_Заполнение пропусков в столбце модели автомобиля ('Model')_**"
   ]
  },
  {
   "cell_type": "markdown",
   "metadata": {},
   "source": [
    "Восстановить наименование модели автомобиля на основании прочих данных достаточно сложно, однако пропусков в этом столбце весомое колличество (более 19000) и удалять их некорректро. Заполним пропуски в столбце модели автомобиля значением 'other', которое уже используется в таблице."
   ]
  },
  {
   "cell_type": "code",
   "execution_count": 24,
   "metadata": {},
   "outputs": [
    {
     "data": {
      "text/plain": [
       "23499"
      ]
     },
     "execution_count": 24,
     "metadata": {},
     "output_type": "execute_result"
    }
   ],
   "source": [
    "df.query('Model == \"other\"').Model.count()"
   ]
  },
  {
   "cell_type": "code",
   "execution_count": 25,
   "metadata": {},
   "outputs": [
    {
     "data": {
      "text/html": [
       "<div>\n",
       "<style scoped>\n",
       "    .dataframe tbody tr th:only-of-type {\n",
       "        vertical-align: middle;\n",
       "    }\n",
       "\n",
       "    .dataframe tbody tr th {\n",
       "        vertical-align: top;\n",
       "    }\n",
       "\n",
       "    .dataframe thead th {\n",
       "        text-align: right;\n",
       "    }\n",
       "</style>\n",
       "<table border=\"1\" class=\"dataframe\">\n",
       "  <thead>\n",
       "    <tr style=\"text-align: right;\">\n",
       "      <th></th>\n",
       "      <th>DateCrawled</th>\n",
       "      <th>Price</th>\n",
       "      <th>VehicleType</th>\n",
       "      <th>RegistrationYear</th>\n",
       "      <th>Gearbox</th>\n",
       "      <th>Power</th>\n",
       "      <th>Model</th>\n",
       "      <th>Kilometer</th>\n",
       "      <th>RegistrationMonth</th>\n",
       "      <th>FuelType</th>\n",
       "      <th>Brand</th>\n",
       "      <th>NotRepaired</th>\n",
       "      <th>DateCreated</th>\n",
       "      <th>NumberOfPictures</th>\n",
       "      <th>PostalCode</th>\n",
       "      <th>LastSeen</th>\n",
       "    </tr>\n",
       "  </thead>\n",
       "  <tbody>\n",
       "    <tr>\n",
       "      <th>23</th>\n",
       "      <td>2016-03-13 20:40:49</td>\n",
       "      <td>500</td>\n",
       "      <td>sedan</td>\n",
       "      <td>1990</td>\n",
       "      <td>manual</td>\n",
       "      <td>118</td>\n",
       "      <td>other</td>\n",
       "      <td>150000</td>\n",
       "      <td>10</td>\n",
       "      <td>petrol</td>\n",
       "      <td>mercedes_benz</td>\n",
       "      <td>yes</td>\n",
       "      <td>2016-03-13 00:00:00</td>\n",
       "      <td>0</td>\n",
       "      <td>35390</td>\n",
       "      <td>2016-03-13 20:40:49</td>\n",
       "    </tr>\n",
       "    <tr>\n",
       "      <th>37</th>\n",
       "      <td>2016-04-01 17:45:07</td>\n",
       "      <td>11900</td>\n",
       "      <td>other</td>\n",
       "      <td>2002</td>\n",
       "      <td>manual</td>\n",
       "      <td>129</td>\n",
       "      <td>other</td>\n",
       "      <td>150000</td>\n",
       "      <td>11</td>\n",
       "      <td>gasoline</td>\n",
       "      <td>volkswagen</td>\n",
       "      <td>no</td>\n",
       "      <td>2016-04-01 00:00:00</td>\n",
       "      <td>0</td>\n",
       "      <td>10551</td>\n",
       "      <td>2016-04-05 12:47:30</td>\n",
       "    </tr>\n",
       "    <tr>\n",
       "      <th>38</th>\n",
       "      <td>2016-03-25 15:50:30</td>\n",
       "      <td>1500</td>\n",
       "      <td>bus</td>\n",
       "      <td>1984</td>\n",
       "      <td>manual</td>\n",
       "      <td>70</td>\n",
       "      <td>other</td>\n",
       "      <td>150000</td>\n",
       "      <td>8</td>\n",
       "      <td>gasoline</td>\n",
       "      <td>mercedes_benz</td>\n",
       "      <td>no</td>\n",
       "      <td>2016-03-25 00:00:00</td>\n",
       "      <td>0</td>\n",
       "      <td>22767</td>\n",
       "      <td>2016-03-27 03:17:02</td>\n",
       "    </tr>\n",
       "    <tr>\n",
       "      <th>50</th>\n",
       "      <td>2016-04-04 10:57:36</td>\n",
       "      <td>1400</td>\n",
       "      <td>NaN</td>\n",
       "      <td>2016</td>\n",
       "      <td>manual</td>\n",
       "      <td>55</td>\n",
       "      <td>other</td>\n",
       "      <td>5000</td>\n",
       "      <td>1</td>\n",
       "      <td>NaN</td>\n",
       "      <td>hyundai</td>\n",
       "      <td>NaN</td>\n",
       "      <td>2016-04-04 00:00:00</td>\n",
       "      <td>0</td>\n",
       "      <td>34454</td>\n",
       "      <td>2016-04-06 12:45:43</td>\n",
       "    </tr>\n",
       "    <tr>\n",
       "      <th>55</th>\n",
       "      <td>2016-03-10 20:53:19</td>\n",
       "      <td>2399</td>\n",
       "      <td>NaN</td>\n",
       "      <td>2018</td>\n",
       "      <td>manual</td>\n",
       "      <td>64</td>\n",
       "      <td>other</td>\n",
       "      <td>125000</td>\n",
       "      <td>3</td>\n",
       "      <td>NaN</td>\n",
       "      <td>seat</td>\n",
       "      <td>no</td>\n",
       "      <td>2016-03-10 00:00:00</td>\n",
       "      <td>0</td>\n",
       "      <td>33397</td>\n",
       "      <td>2016-03-25 10:17:37</td>\n",
       "    </tr>\n",
       "    <tr>\n",
       "      <th>64</th>\n",
       "      <td>2016-03-21 12:47:55</td>\n",
       "      <td>2100</td>\n",
       "      <td>suv</td>\n",
       "      <td>2000</td>\n",
       "      <td>manual</td>\n",
       "      <td>105</td>\n",
       "      <td>other</td>\n",
       "      <td>150000</td>\n",
       "      <td>8</td>\n",
       "      <td>petrol</td>\n",
       "      <td>honda</td>\n",
       "      <td>no</td>\n",
       "      <td>2016-02-09 00:00:00</td>\n",
       "      <td>0</td>\n",
       "      <td>85244</td>\n",
       "      <td>2016-03-31 16:46:09</td>\n",
       "    </tr>\n",
       "    <tr>\n",
       "      <th>65</th>\n",
       "      <td>2016-03-15 09:51:05</td>\n",
       "      <td>1280</td>\n",
       "      <td>sedan</td>\n",
       "      <td>1992</td>\n",
       "      <td>auto</td>\n",
       "      <td>109</td>\n",
       "      <td>other</td>\n",
       "      <td>150000</td>\n",
       "      <td>9</td>\n",
       "      <td>petrol</td>\n",
       "      <td>mercedes_benz</td>\n",
       "      <td>NaN</td>\n",
       "      <td>2016-03-15 00:00:00</td>\n",
       "      <td>0</td>\n",
       "      <td>86163</td>\n",
       "      <td>2016-04-05 19:18:21</td>\n",
       "    </tr>\n",
       "    <tr>\n",
       "      <th>83</th>\n",
       "      <td>2016-03-13 19:52:34</td>\n",
       "      <td>1800</td>\n",
       "      <td>bus</td>\n",
       "      <td>2001</td>\n",
       "      <td>manual</td>\n",
       "      <td>87</td>\n",
       "      <td>other</td>\n",
       "      <td>150000</td>\n",
       "      <td>7</td>\n",
       "      <td>gasoline</td>\n",
       "      <td>mitsubishi</td>\n",
       "      <td>no</td>\n",
       "      <td>2016-03-13 00:00:00</td>\n",
       "      <td>0</td>\n",
       "      <td>24116</td>\n",
       "      <td>2016-03-17 13:47:41</td>\n",
       "    </tr>\n",
       "    <tr>\n",
       "      <th>87</th>\n",
       "      <td>2016-04-02 23:25:25</td>\n",
       "      <td>1222</td>\n",
       "      <td>sedan</td>\n",
       "      <td>1984</td>\n",
       "      <td>auto</td>\n",
       "      <td>180</td>\n",
       "      <td>other</td>\n",
       "      <td>150000</td>\n",
       "      <td>3</td>\n",
       "      <td>petrol</td>\n",
       "      <td>opel</td>\n",
       "      <td>NaN</td>\n",
       "      <td>2016-04-02 00:00:00</td>\n",
       "      <td>0</td>\n",
       "      <td>57290</td>\n",
       "      <td>2016-04-06 14:44:57</td>\n",
       "    </tr>\n",
       "    <tr>\n",
       "      <th>109</th>\n",
       "      <td>2016-04-04 09:50:15</td>\n",
       "      <td>3500</td>\n",
       "      <td>coupe</td>\n",
       "      <td>1991</td>\n",
       "      <td>manual</td>\n",
       "      <td>160</td>\n",
       "      <td>other</td>\n",
       "      <td>150000</td>\n",
       "      <td>5</td>\n",
       "      <td>petrol</td>\n",
       "      <td>volkswagen</td>\n",
       "      <td>no</td>\n",
       "      <td>2016-04-04 00:00:00</td>\n",
       "      <td>0</td>\n",
       "      <td>66111</td>\n",
       "      <td>2016-04-06 11:17:02</td>\n",
       "    </tr>\n",
       "  </tbody>\n",
       "</table>\n",
       "</div>"
      ],
      "text/plain": [
       "             DateCrawled  Price VehicleType  RegistrationYear Gearbox  Power  \\\n",
       "23   2016-03-13 20:40:49    500       sedan              1990  manual    118   \n",
       "37   2016-04-01 17:45:07  11900       other              2002  manual    129   \n",
       "38   2016-03-25 15:50:30   1500         bus              1984  manual     70   \n",
       "50   2016-04-04 10:57:36   1400         NaN              2016  manual     55   \n",
       "55   2016-03-10 20:53:19   2399         NaN              2018  manual     64   \n",
       "64   2016-03-21 12:47:55   2100         suv              2000  manual    105   \n",
       "65   2016-03-15 09:51:05   1280       sedan              1992    auto    109   \n",
       "83   2016-03-13 19:52:34   1800         bus              2001  manual     87   \n",
       "87   2016-04-02 23:25:25   1222       sedan              1984    auto    180   \n",
       "109  2016-04-04 09:50:15   3500       coupe              1991  manual    160   \n",
       "\n",
       "     Model  Kilometer  RegistrationMonth  FuelType          Brand NotRepaired  \\\n",
       "23   other     150000                 10    petrol  mercedes_benz         yes   \n",
       "37   other     150000                 11  gasoline     volkswagen          no   \n",
       "38   other     150000                  8  gasoline  mercedes_benz          no   \n",
       "50   other       5000                  1       NaN        hyundai         NaN   \n",
       "55   other     125000                  3       NaN           seat          no   \n",
       "64   other     150000                  8    petrol          honda          no   \n",
       "65   other     150000                  9    petrol  mercedes_benz         NaN   \n",
       "83   other     150000                  7  gasoline     mitsubishi          no   \n",
       "87   other     150000                  3    petrol           opel         NaN   \n",
       "109  other     150000                  5    petrol     volkswagen          no   \n",
       "\n",
       "             DateCreated  NumberOfPictures  PostalCode             LastSeen  \n",
       "23   2016-03-13 00:00:00                 0       35390  2016-03-13 20:40:49  \n",
       "37   2016-04-01 00:00:00                 0       10551  2016-04-05 12:47:30  \n",
       "38   2016-03-25 00:00:00                 0       22767  2016-03-27 03:17:02  \n",
       "50   2016-04-04 00:00:00                 0       34454  2016-04-06 12:45:43  \n",
       "55   2016-03-10 00:00:00                 0       33397  2016-03-25 10:17:37  \n",
       "64   2016-02-09 00:00:00                 0       85244  2016-03-31 16:46:09  \n",
       "65   2016-03-15 00:00:00                 0       86163  2016-04-05 19:18:21  \n",
       "83   2016-03-13 00:00:00                 0       24116  2016-03-17 13:47:41  \n",
       "87   2016-04-02 00:00:00                 0       57290  2016-04-06 14:44:57  \n",
       "109  2016-04-04 00:00:00                 0       66111  2016-04-06 11:17:02  "
      ]
     },
     "execution_count": 25,
     "metadata": {},
     "output_type": "execute_result"
    }
   ],
   "source": [
    "df.query('Model == \"other\"').head(10)"
   ]
  },
  {
   "cell_type": "markdown",
   "metadata": {},
   "source": [
    "Как видно из выше представленных данных наименование модели \"other\" не является каким-либо уникальным (в том числе именем собственным), позволяющим однозначно идентифицировать конкретню модель конкретной марки определенного вида кузова. Оно в том числе используется ввиду отсутствия данных."
   ]
  },
  {
   "cell_type": "code",
   "execution_count": 26,
   "metadata": {},
   "outputs": [],
   "source": [
    "df.Model = df.Model.fillna('other')"
   ]
  },
  {
   "cell_type": "markdown",
   "metadata": {},
   "source": [
    "**_Заполнение пропусков в столбце тип коробки передач ('Gearbox')_**"
   ]
  },
  {
   "cell_type": "markdown",
   "metadata": {},
   "source": [
    "В столбце типа коробки предач присутствует только два уникальных значения: автоматическая коробка передач и механическая. Поскольку данный признак - это важный элемент определения стоимости автомобиля, то пропуски в этом столбце невозможно заполнить каким-то конкретным значением ввиду разнонобразия комлектаций моделей авто (для любой модели могут быть характерны оба вида коробок передач). Заполним пропуски значением 'undefined_gbt' (неустановленный тип КПП - undefined gearbox type)"
   ]
  },
  {
   "cell_type": "code",
   "execution_count": 27,
   "metadata": {},
   "outputs": [],
   "source": [
    "df.Gearbox = df.Gearbox.fillna('undefined_gbt')"
   ]
  },
  {
   "cell_type": "markdown",
   "metadata": {},
   "source": [
    "**_Заполнение пропусков в столбце тип топлива ('FuelType')_**"
   ]
  },
  {
   "cell_type": "markdown",
   "metadata": {},
   "source": [
    "Аналогично предыдущему пункту поступим с пропусками в столбце типа топлива. Так как одна и та же модель может иметь комлектации на разном виде топлива, и этот параметр также влияет на цену авто, заполним пропуски значением 'undefined_ft' (undefined_fuel_type - неустановленный тип топлива)"
   ]
  },
  {
   "cell_type": "code",
   "execution_count": 28,
   "metadata": {},
   "outputs": [],
   "source": [
    "df.FuelType = df.FuelType.fillna('undefined_ft')"
   ]
  },
  {
   "cell_type": "markdown",
   "metadata": {},
   "source": [
    "**_Заполнение пропусков в столбце тип кузова ('VehicleType')_**"
   ]
  },
  {
   "cell_type": "markdown",
   "metadata": {},
   "source": [
    "Одна и та же модель автомобиля может быть выпущена в разных кузовах (например, седан, универсал, хетчбек); кроме того, при заполнеии типа кузова в существующей таблице могут быть допущены ошибки (например, в таблице присутсвует строка, в которой автомобиль компакт-класса Nissan Micra отнесен к классу автобусов). Таким образом, заполнение пропусков на основании модели автомобиля также нецелесообразно. Заполним пропуски в столбце типа кузова значением 'other', которое уже используется в таблице."
   ]
  },
  {
   "cell_type": "code",
   "execution_count": 29,
   "metadata": {},
   "outputs": [],
   "source": [
    "df.VehicleType = df.VehicleType.fillna('other')"
   ]
  },
  {
   "cell_type": "markdown",
   "metadata": {},
   "source": [
    "**_Заполнение пропусков в столбце информации о ремонте автомобиля ('NotRepaired')_**"
   ]
  },
  {
   "cell_type": "markdown",
   "metadata": {},
   "source": [
    "В отсутсвии какой-либо информации о наличии факта ремонта автомобиля заполним пропуски в столбце информации о ремонте автомобиля значением 'no_information' (\"нет информации\")."
   ]
  },
  {
   "cell_type": "code",
   "execution_count": 30,
   "metadata": {},
   "outputs": [],
   "source": [
    "df.NotRepaired = df.NotRepaired.fillna('no_information')"
   ]
  },
  {
   "cell_type": "markdown",
   "metadata": {},
   "source": [
    "**_Замена нулевых значений месяца регистации автомобиля на значение 1._**"
   ]
  },
  {
   "cell_type": "markdown",
   "metadata": {},
   "source": [
    "В случае, если месяцем регистации автомобиля указано значение 0, будем интерпритировать такое значение как отсутсвие конкретных данных по месяцу, а за месяц регисрации будем применять значение 1 - начало года регистрации."
   ]
  },
  {
   "cell_type": "code",
   "execution_count": 31,
   "metadata": {},
   "outputs": [
    {
     "data": {
      "text/plain": [
       "31633"
      ]
     },
     "execution_count": 31,
     "metadata": {},
     "output_type": "execute_result"
    }
   ],
   "source": [
    "df.query('RegistrationMonth == 0')['RegistrationMonth'].count() #колличество строк с месяцем регистрации автомобиля 0"
   ]
  },
  {
   "cell_type": "code",
   "execution_count": 32,
   "metadata": {},
   "outputs": [],
   "source": [
    "#замена месяца регистрации автомобиля со значением 0 на значение 1\n",
    "df.loc[(df.RegistrationMonth == 0), 'RegistrationMonth'] = 1"
   ]
  },
  {
   "cell_type": "markdown",
   "metadata": {},
   "source": [
    "**_Обработка строк с аномальным значением мощности автомобиля._**"
   ]
  },
  {
   "cell_type": "markdown",
   "metadata": {},
   "source": [
    "Удалим строки с анаомально высокими значениями мощности автомобиля. Автомобили с мощностью более 500 - 600 л.с. относятся к категории супер- и гиперкаров. Учитывая то, что в таблице максимальная стоимость автомобилей не превышает 20000 евро, будем считать, что подобные автомобили в таблице отсутсвуют; авто в таблице с такими значениями мощности - это некорретно занесенные данные."
   ]
  },
  {
   "cell_type": "code",
   "execution_count": 33,
   "metadata": {
    "scrolled": true
   },
   "outputs": [
    {
     "data": {
      "text/plain": [
       "353"
      ]
     },
     "execution_count": 33,
     "metadata": {},
     "output_type": "execute_result"
    }
   ],
   "source": [
    "#количество строк с аномально высоким значением мощности автомомбиля\n",
    "df.query('Power > 600')['Power'].count() "
   ]
  },
  {
   "cell_type": "code",
   "execution_count": 34,
   "metadata": {
    "scrolled": true
   },
   "outputs": [],
   "source": [
    "#удаление строк с аномально высоким значением мощности автомомбиля\n",
    "df = df.query('Power < 600').reset_index(drop=True)"
   ]
  },
  {
   "cell_type": "markdown",
   "metadata": {},
   "source": [
    "Также определим количество строк с нулевым значением мощности автомобилей."
   ]
  },
  {
   "cell_type": "code",
   "execution_count": 35,
   "metadata": {},
   "outputs": [
    {
     "data": {
      "text/plain": [
       "35062"
      ]
     },
     "execution_count": 35,
     "metadata": {},
     "output_type": "execute_result"
    }
   ],
   "source": [
    "#количество строк с нулевыми значениями мощности автомобиля\n",
    "df.query('Power == 0')['Power'].count()"
   ]
  },
  {
   "cell_type": "markdown",
   "metadata": {},
   "source": [
    "Использование подобных значений мощности некорретно, так как по сути - это отсутствующие данные. Ввиду того, что диапазон мощности двигателей моторной гаммы одной модели достаточно узок, заменим нулевые значения мощности на усредненное по конкретной модели значение. Данное действие приблизит значения мощностей к адекватному уровню."
   ]
  },
  {
   "cell_type": "code",
   "execution_count": 36,
   "metadata": {},
   "outputs": [
    {
     "data": {
      "text/plain": [
       "{'golf': 96.62274638352454,\n",
       " 'other': 101.95030395887906,\n",
       " 'grand': 156.79963898916967,\n",
       " 'fabia': 73.8824101068999,\n",
       " '3er': 141.51991185266803,\n",
       " '2_reihe': 87.7721145745577,\n",
       " 'c_max': 114.49337260677467,\n",
       " '3_reihe': 100.51264705882353,\n",
       " 'passat': 121.00020449897751,\n",
       " 'navara': 144.54444444444445,\n",
       " 'ka': 52.273151750972765,\n",
       " 'polo': 58.94062099871959,\n",
       " 'twingo': 51.61064366848969,\n",
       " 'a_klasse': 86.3159688412853,\n",
       " 'scirocco': 148.71039182282794,\n",
       " '5er': 181.99894819879043,\n",
       " 'meriva': 97.54501452081317,\n",
       " 'arosa': 45.66743648960739,\n",
       " 'c4': 109.12814645308924,\n",
       " 'civic': 94.42003105590062,\n",
       " 'transporter': 96.82733347704247,\n",
       " 'punto': 58.08980733374767,\n",
       " 'e_klasse': 162.6491041603401,\n",
       " 'clio': 64.97495631916132,\n",
       " 'kadett': 67.50931677018633,\n",
       " 'kangoo': 62.20384204909285,\n",
       " 'one': 88.14915254237287,\n",
       " 'fortwo': 54.61561842412906,\n",
       " '1er': 137.6352435530086,\n",
       " 'b_klasse': 115.22784810126582,\n",
       " 'signum': 151.28423236514521,\n",
       " 'astra': 95.54873472529587,\n",
       " 'a8': 255.5224171539961,\n",
       " 'jetta': 91.09510086455332,\n",
       " 'fiesta': 64.02096022930849,\n",
       " 'c_klasse': 137.56974604343026,\n",
       " 'micra': 53.10482921083628,\n",
       " 'vito': 105.72546728971963,\n",
       " 'sprinter': 98.79150066401063,\n",
       " '156': 138.28114478114477,\n",
       " 'escort': 77.32926829268293,\n",
       " 'forester': 132.31746031746033,\n",
       " 'xc_reihe': 182.10526315789474,\n",
       " 'scenic': 95.22048364153628,\n",
       " 'a4': 138.74072143452878,\n",
       " 'a1': 103.3429054054054,\n",
       " 'insignia': 160.30537974683546,\n",
       " 'combo': 70.56218905472637,\n",
       " 'focus': 102.94804967640371,\n",
       " 'tt': 191.85862393967955,\n",
       " 'corsa': 58.34555888223553,\n",
       " 'a6': 176.02376941793,\n",
       " 'jazz': 79.8695652173913,\n",
       " 'omega': 135.71212121212122,\n",
       " 'slk': 169.6006600660066,\n",
       " '7er': 237.68340163934425,\n",
       " '80': 95.43938379102478,\n",
       " '147': 113.26428571428572,\n",
       " '100': 127.66666666666667,\n",
       " 'z_reihe': 172.08898305084745,\n",
       " 'sportage': 126.89024390243902,\n",
       " 'sorento': 145.68249258160236,\n",
       " 'v40': 108.5420054200542,\n",
       " 'ibiza': 75.94706778370144,\n",
       " 'mustang': 200.17073170731706,\n",
       " 'eos': 144.32358674463939,\n",
       " 'touran': 114.58091893473808,\n",
       " 'getz': 63.01452784503632,\n",
       " 'a3': 120.32606161532057,\n",
       " 'almera': 85.19251336898395,\n",
       " 'megane': 96.83968368080518,\n",
       " 'lupo': 51.785742574257426,\n",
       " 'r19': 71.6283185840708,\n",
       " 'zafira': 110.95492768247561,\n",
       " 'caddy': 82.72603626943005,\n",
       " 'mondeo': 116.27743990732696,\n",
       " 'cordoba': 67.43915343915344,\n",
       " 'colt': 79.74582338902148,\n",
       " 'impreza': 155.4418604651163,\n",
       " 'vectra': 109.67209474463361,\n",
       " 'berlingo': 78.11567164179104,\n",
       " 'tiguan': 141.10381679389312,\n",
       " 'i_reihe': 98.46437346437347,\n",
       " 'espace': 123.00701754385965,\n",
       " 'sharan': 109.93771626297578,\n",
       " '6_reihe': 119.68500797448166,\n",
       " 'panda': 53.123493975903614,\n",
       " 'up': 66.32753623188405,\n",
       " 'seicento': 42.411949685534594,\n",
       " 'ceed': 115.58870967741936,\n",
       " '5_reihe': 128.77701149425286,\n",
       " 'yeti': 120.11494252873563,\n",
       " 'octavia': 119.9731672256828,\n",
       " 'mii': 64.64197530864197,\n",
       " 'rx_reihe': 188.875,\n",
       " '6er': 278.83216783216784,\n",
       " 'modus': 73.99050632911393,\n",
       " 'fox': 52.45776566757493,\n",
       " 'matiz': 48.4279176201373,\n",
       " 'beetle': 108.4319306930693,\n",
       " 'c1': 62.21818181818182,\n",
       " 'rio': 84.86118980169972,\n",
       " 'touareg': 207.18563922942207,\n",
       " 'logan': 75.20689655172414,\n",
       " 'spider': 135.59893048128342,\n",
       " 'cuore': 45.55367231638418,\n",
       " 's_max': 152.38747099767983,\n",
       " 'a2': 70.76566757493188,\n",
       " 'galaxy': 116.44762757385855,\n",
       " 'c3': 72.31663326653306,\n",
       " 'viano': 143.71875,\n",
       " 's_klasse': 220.73974208675264,\n",
       " '1_reihe': 57.29402390438247,\n",
       " 'avensis': 131.825,\n",
       " 'roomster': 85.91208791208791,\n",
       " 'sl': 230.2532637075718,\n",
       " 'kaefer': 33.29197080291971,\n",
       " 'santa': 143.0906148867314,\n",
       " 'cooper': 134.63641078838174,\n",
       " 'leon': 136.12256049960968,\n",
       " '4_reihe': 128.88636363636363,\n",
       " 'a5': 200.07865168539325,\n",
       " '500': 69.8079911209767,\n",
       " 'laguna': 112.71593533487298,\n",
       " 'ptcruiser': 123.55102040816327,\n",
       " 'clk': 177.08022598870056,\n",
       " 'primera': 101.42833052276559,\n",
       " 'x_reihe': 186.66134185303514,\n",
       " 'exeo': 148.94,\n",
       " '159': 167.2608695652174,\n",
       " 'transit': 85.04851752021564,\n",
       " 'juke': 122.06930693069307,\n",
       " 'qashqai': 124.62689393939394,\n",
       " 'carisma': 97.28172588832487,\n",
       " 'accord': 138.90029325513197,\n",
       " 'corolla': 90.25074183976261,\n",
       " 'lanos': 63.883720930232556,\n",
       " 'phaeton': 237.0095238095238,\n",
       " 'verso': 130.6883116883117,\n",
       " 'swift': 78.78970588235295,\n",
       " 'rav': 134.77971014492755,\n",
       " 'picanto': 61.328729281767956,\n",
       " 'boxster': 217.47926267281105,\n",
       " 'kalos': 69.14736842105263,\n",
       " 'superb': 152.9254143646409,\n",
       " 'stilo': 96.31195840554592,\n",
       " 'alhambra': 114.83522727272727,\n",
       " 'roadster': 72.8,\n",
       " 'ypsilon': 59.411167512690355,\n",
       " 'cayenne': 332.10043668122273,\n",
       " 'galant': 131.253112033195,\n",
       " 'justy': 66.71969696969697,\n",
       " '90': 118.55913978494624,\n",
       " 'sirion': 70.84671532846716,\n",
       " 'crossfire': 200.703125,\n",
       " 'agila': 57.10304449648712,\n",
       " 'duster': 100.00990099009901,\n",
       " 'cr_reihe': 130.31231231231232,\n",
       " 'v50': 135.10714285714286,\n",
       " 'mx_reihe': 113.84141414141415,\n",
       " 'c_reihe': 146.19791666666666,\n",
       " 'v_klasse': 110.42068965517241,\n",
       " 'm_klasse': 201.7406216505895,\n",
       " 'yaris': 73.22124756335283,\n",
       " 'c5': 134.72362869198312,\n",
       " 'aygo': 62.056603773584904,\n",
       " 'cc': 160.09774436090225,\n",
       " 'carnival': 119.95539033457248,\n",
       " 'fusion': 75.21476510067114,\n",
       " '911': 204.6865671641791,\n",
       " 'bora': 110.23384253819036,\n",
       " 'forfour': 76.25132275132275,\n",
       " 'cl': 237.8909090909091,\n",
       " 'tigra': 92.02949061662198,\n",
       " '300c': 218.3453237410072,\n",
       " 'spark': 71.36363636363636,\n",
       " 'v70': 157.7034035656402,\n",
       " 'kuga': 143.46984126984128,\n",
       " 'x_type': 157.53614457831324,\n",
       " 'ducato': 90.3133971291866,\n",
       " 's_type': 223.625,\n",
       " 'x_trail': 126.4679802955665,\n",
       " 'toledo': 99.69375,\n",
       " 'altea': 119.5123287671233,\n",
       " 'voyager': 124.375,\n",
       " 'calibra': 125.32978723404256,\n",
       " 'bravo': 98.16887417218543,\n",
       " 'antara': 133.69811320754718,\n",
       " 'tucson': 134.65217391304347,\n",
       " 'citigo': 64.62637362637362,\n",
       " 'jimny': 75.72169811320755,\n",
       " 'wrangler': 139.42424242424244,\n",
       " 'lybra': 107.78,\n",
       " 'q7': 232.08415841584159,\n",
       " 'lancer': 107.88837209302325,\n",
       " 'captiva': 149.61077844311376,\n",
       " 'c2': 65.60621761658031,\n",
       " 'discovery': 154.85897435897436,\n",
       " 'freelander': 110.77358490566037,\n",
       " 'sandero': 77.16838487972508,\n",
       " 'note': 88.79069767441861,\n",
       " '900': 131.3125,\n",
       " 'cherokee': 149.19375,\n",
       " 'clubman': 129.5,\n",
       " 'samara': 31.0,\n",
       " 'defender': 97.45945945945945,\n",
       " '601': 17.280802292263612,\n",
       " 'cx_reihe': 173.0,\n",
       " 'legacy': 129.52941176470588,\n",
       " 'pajero': 133.76960784313727,\n",
       " 'auris': 116.12875536480686,\n",
       " 'niva': 66.67460317460318,\n",
       " 's60': 163.8,\n",
       " 'm_reihe': 324.33898305084745,\n",
       " 'nubira': 103.40677966101696,\n",
       " 'vivaro': 101.48160535117057,\n",
       " 'g_klasse': 108.47252747252747,\n",
       " 'lodgy': 85.71428571428571,\n",
       " '850': 135.45544554455446,\n",
       " 'range_rover': 184.58666666666667,\n",
       " 'q3': 148.76923076923077,\n",
       " 'serie_2': 56.375,\n",
       " 'glk': 185.73015873015873,\n",
       " 'charade': 60.888888888888886,\n",
       " 'croma': 126.97777777777777,\n",
       " 'outlander': 145.03361344537817,\n",
       " 'doblo': 80.46417445482867,\n",
       " 'musa': 82.8695652173913,\n",
       " 'move': 41.18,\n",
       " '9000': 158.67857142857142,\n",
       " 'v60': 162.85714285714286,\n",
       " 'aveo': 82.97435897435898,\n",
       " '200': 179.64705882352942,\n",
       " '145': 91.20454545454545,\n",
       " 'b_max': 95.96153846153847,\n",
       " 'range_rover_sport': 210.96296296296296,\n",
       " 'terios': 86.68571428571428,\n",
       " 'rangerover': 107.0,\n",
       " 'q5': 200.0625,\n",
       " 'range_rover_evoque': 296.0,\n",
       " 'materia': 95.94444444444444,\n",
       " 'delta': 111.3529411764706,\n",
       " 'gl': 251.41666666666666,\n",
       " 'kalina': 47.77777777777778,\n",
       " 'amarok': 149.92307692307693,\n",
       " 'elefantino': 52.5,\n",
       " 'i3': 89.25,\n",
       " 'kappa': 148.28571428571428,\n",
       " 'serie_3': 68.66666666666667,\n",
       " 'serie_1': 0.0}"
      ]
     },
     "execution_count": 36,
     "metadata": {},
     "output_type": "execute_result"
    }
   ],
   "source": [
    "#создание словаря средних мощностей моделей автомобилей\n",
    "model_power_dict = {} \n",
    "for i in df.Model.unique().tolist():\n",
    "    model_power_dict[i] = df.query('Model == @i')['Power'].dropna().mean()\n",
    "model_power_dict"
   ]
  },
  {
   "cell_type": "markdown",
   "metadata": {},
   "source": [
    "На основании полученного словаря проведем замену нулевых значений мощности на среднее значение для конкретной модели, данные приведем к целочисленному типу."
   ]
  },
  {
   "cell_type": "code",
   "execution_count": 37,
   "metadata": {},
   "outputs": [],
   "source": [
    "df.Power = df.where(df.Power == 0)['Model'].map(model_power_dict).fillna(df.Power).astype(int)"
   ]
  },
  {
   "cell_type": "code",
   "execution_count": 38,
   "metadata": {},
   "outputs": [
    {
     "data": {
      "text/html": [
       "<div>\n",
       "<style scoped>\n",
       "    .dataframe tbody tr th:only-of-type {\n",
       "        vertical-align: middle;\n",
       "    }\n",
       "\n",
       "    .dataframe tbody tr th {\n",
       "        vertical-align: top;\n",
       "    }\n",
       "\n",
       "    .dataframe thead th {\n",
       "        text-align: right;\n",
       "    }\n",
       "</style>\n",
       "<table border=\"1\" class=\"dataframe\">\n",
       "  <thead>\n",
       "    <tr style=\"text-align: right;\">\n",
       "      <th></th>\n",
       "      <th>DateCrawled</th>\n",
       "      <th>Price</th>\n",
       "      <th>VehicleType</th>\n",
       "      <th>RegistrationYear</th>\n",
       "      <th>Gearbox</th>\n",
       "      <th>Power</th>\n",
       "      <th>Model</th>\n",
       "      <th>Kilometer</th>\n",
       "      <th>RegistrationMonth</th>\n",
       "      <th>FuelType</th>\n",
       "      <th>Brand</th>\n",
       "      <th>NotRepaired</th>\n",
       "      <th>DateCreated</th>\n",
       "      <th>NumberOfPictures</th>\n",
       "      <th>PostalCode</th>\n",
       "      <th>LastSeen</th>\n",
       "    </tr>\n",
       "  </thead>\n",
       "  <tbody>\n",
       "    <tr>\n",
       "      <th>225164</th>\n",
       "      <td>2016-03-30 11:39:08</td>\n",
       "      <td>3800</td>\n",
       "      <td>wagon</td>\n",
       "      <td>1978</td>\n",
       "      <td>manual</td>\n",
       "      <td>0</td>\n",
       "      <td>serie_1</td>\n",
       "      <td>30000</td>\n",
       "      <td>1</td>\n",
       "      <td>gasoline</td>\n",
       "      <td>land_rover</td>\n",
       "      <td>no_information</td>\n",
       "      <td>2016-03-30 00:00:00</td>\n",
       "      <td>0</td>\n",
       "      <td>49824</td>\n",
       "      <td>2016-03-30 11:39:08</td>\n",
       "    </tr>\n",
       "  </tbody>\n",
       "</table>\n",
       "</div>"
      ],
      "text/plain": [
       "                DateCrawled  Price VehicleType  RegistrationYear Gearbox  \\\n",
       "225164  2016-03-30 11:39:08   3800       wagon              1978  manual   \n",
       "\n",
       "        Power    Model  Kilometer  RegistrationMonth  FuelType       Brand  \\\n",
       "225164      0  serie_1      30000                  1  gasoline  land_rover   \n",
       "\n",
       "           NotRepaired          DateCreated  NumberOfPictures  PostalCode  \\\n",
       "225164  no_information  2016-03-30 00:00:00                 0       49824   \n",
       "\n",
       "                   LastSeen  \n",
       "225164  2016-03-30 11:39:08  "
      ]
     },
     "execution_count": 38,
     "metadata": {},
     "output_type": "execute_result"
    }
   ],
   "source": [
    "df.query('Power==0') #проверка наличия записей с нулевым значением мощности"
   ]
  },
  {
   "cell_type": "code",
   "execution_count": 39,
   "metadata": {
    "scrolled": true
   },
   "outputs": [
    {
     "data": {
      "text/html": [
       "<div>\n",
       "<style scoped>\n",
       "    .dataframe tbody tr th:only-of-type {\n",
       "        vertical-align: middle;\n",
       "    }\n",
       "\n",
       "    .dataframe tbody tr th {\n",
       "        vertical-align: top;\n",
       "    }\n",
       "\n",
       "    .dataframe thead th {\n",
       "        text-align: right;\n",
       "    }\n",
       "</style>\n",
       "<table border=\"1\" class=\"dataframe\">\n",
       "  <thead>\n",
       "    <tr style=\"text-align: right;\">\n",
       "      <th></th>\n",
       "      <th>DateCrawled</th>\n",
       "      <th>Price</th>\n",
       "      <th>VehicleType</th>\n",
       "      <th>RegistrationYear</th>\n",
       "      <th>Gearbox</th>\n",
       "      <th>Power</th>\n",
       "      <th>Model</th>\n",
       "      <th>Kilometer</th>\n",
       "      <th>RegistrationMonth</th>\n",
       "      <th>FuelType</th>\n",
       "      <th>Brand</th>\n",
       "      <th>NotRepaired</th>\n",
       "      <th>DateCreated</th>\n",
       "      <th>NumberOfPictures</th>\n",
       "      <th>PostalCode</th>\n",
       "      <th>LastSeen</th>\n",
       "    </tr>\n",
       "  </thead>\n",
       "  <tbody>\n",
       "    <tr>\n",
       "      <th>225164</th>\n",
       "      <td>2016-03-30 11:39:08</td>\n",
       "      <td>3800</td>\n",
       "      <td>wagon</td>\n",
       "      <td>1978</td>\n",
       "      <td>manual</td>\n",
       "      <td>0</td>\n",
       "      <td>serie_1</td>\n",
       "      <td>30000</td>\n",
       "      <td>1</td>\n",
       "      <td>gasoline</td>\n",
       "      <td>land_rover</td>\n",
       "      <td>no_information</td>\n",
       "      <td>2016-03-30 00:00:00</td>\n",
       "      <td>0</td>\n",
       "      <td>49824</td>\n",
       "      <td>2016-03-30 11:39:08</td>\n",
       "    </tr>\n",
       "  </tbody>\n",
       "</table>\n",
       "</div>"
      ],
      "text/plain": [
       "                DateCrawled  Price VehicleType  RegistrationYear Gearbox  \\\n",
       "225164  2016-03-30 11:39:08   3800       wagon              1978  manual   \n",
       "\n",
       "        Power    Model  Kilometer  RegistrationMonth  FuelType       Brand  \\\n",
       "225164      0  serie_1      30000                  1  gasoline  land_rover   \n",
       "\n",
       "           NotRepaired          DateCreated  NumberOfPictures  PostalCode  \\\n",
       "225164  no_information  2016-03-30 00:00:00                 0       49824   \n",
       "\n",
       "                   LastSeen  \n",
       "225164  2016-03-30 11:39:08  "
      ]
     },
     "execution_count": 39,
     "metadata": {},
     "output_type": "execute_result"
    }
   ],
   "source": [
    "df.query('Model==\"serie_1\"')"
   ]
  },
  {
   "cell_type": "markdown",
   "metadata": {},
   "source": [
    "Как видно, в одной из записей замены не произошло вледствие наличия единственной записи по указанной модели автомобиля, удалим эту строку."
   ]
  },
  {
   "cell_type": "code",
   "execution_count": 40,
   "metadata": {},
   "outputs": [],
   "source": [
    "df = df.drop(index=[225164]).reset_index(drop=True)"
   ]
  },
  {
   "cell_type": "code",
   "execution_count": 41,
   "metadata": {},
   "outputs": [
    {
     "data": {
      "text/plain": [
       "DateCrawled          0\n",
       "Price                0\n",
       "VehicleType          0\n",
       "RegistrationYear     0\n",
       "Gearbox              0\n",
       "Power                0\n",
       "Model                0\n",
       "Kilometer            0\n",
       "RegistrationMonth    0\n",
       "FuelType             0\n",
       "Brand                0\n",
       "NotRepaired          0\n",
       "DateCreated          0\n",
       "NumberOfPictures     0\n",
       "PostalCode           0\n",
       "LastSeen             0\n",
       "dtype: int64"
      ]
     },
     "execution_count": 41,
     "metadata": {},
     "output_type": "execute_result"
    }
   ],
   "source": [
    "df.isna().sum() #количество пропусков по столбцам после обработки"
   ]
  },
  {
   "cell_type": "code",
   "execution_count": 42,
   "metadata": {},
   "outputs": [
    {
     "name": "stdout",
     "output_type": "stream",
     "text": [
      "<class 'pandas.core.frame.DataFrame'>\n",
      "RangeIndex: 340688 entries, 0 to 340687\n",
      "Data columns (total 16 columns):\n",
      " #   Column             Non-Null Count   Dtype \n",
      "---  ------             --------------   ----- \n",
      " 0   DateCrawled        340688 non-null  object\n",
      " 1   Price              340688 non-null  int64 \n",
      " 2   VehicleType        340688 non-null  object\n",
      " 3   RegistrationYear   340688 non-null  int64 \n",
      " 4   Gearbox            340688 non-null  object\n",
      " 5   Power              340688 non-null  int32 \n",
      " 6   Model              340688 non-null  object\n",
      " 7   Kilometer          340688 non-null  int64 \n",
      " 8   RegistrationMonth  340688 non-null  int64 \n",
      " 9   FuelType           340688 non-null  object\n",
      " 10  Brand              340688 non-null  object\n",
      " 11  NotRepaired        340688 non-null  object\n",
      " 12  DateCreated        340688 non-null  object\n",
      " 13  NumberOfPictures   340688 non-null  int64 \n",
      " 14  PostalCode         340688 non-null  int64 \n",
      " 15  LastSeen           340688 non-null  object\n",
      "dtypes: int32(1), int64(6), object(9)\n",
      "memory usage: 40.3+ MB\n"
     ]
    }
   ],
   "source": [
    "df.info()"
   ]
  },
  {
   "cell_type": "markdown",
   "metadata": {},
   "source": [
    "Пропуски и артефакты обработаны. Потеря данных несущественна и составила 13681 строк или примерно 3.86 %."
   ]
  },
  {
   "cell_type": "markdown",
   "metadata": {},
   "source": [
    "### Подготовка таблицы признаков и целевого признака для обучающей модели, получение обущающих, валидационных и тестовых выборок."
   ]
  },
  {
   "cell_type": "markdown",
   "metadata": {},
   "source": [
    "**Подотовка целевого признака**"
   ]
  },
  {
   "cell_type": "markdown",
   "metadata": {},
   "source": [
    "В качестве целевого признака согласно цели проекта обозначем цену автомобиля 'Price'."
   ]
  },
  {
   "cell_type": "code",
   "execution_count": 43,
   "metadata": {},
   "outputs": [],
   "source": [
    "target = df.Price"
   ]
  },
  {
   "cell_type": "markdown",
   "metadata": {},
   "source": [
    "**Подотовка таблицы признаков**"
   ]
  },
  {
   "cell_type": "markdown",
   "metadata": {},
   "source": [
    "Для целей прогнозирования стоимости автомобиля не иммеют значения параметры публикации и использования самого объявления, такие как время публикации ('DateCreated'), время последнего просмотра ('LastSeen'), дата скачивания анкеты из базы ('DateCrawled'), количество фотографий ('NumberOfPictures'), невысокую ценность в определении стоимости должен играть и почтовый индекс владельца ('PostalCode'). Все остальные призаки должны использоваться для определения предполагаемой цены автомобиля."
   ]
  },
  {
   "cell_type": "code",
   "execution_count": 44,
   "metadata": {},
   "outputs": [
    {
     "data": {
      "text/html": [
       "<div>\n",
       "<style scoped>\n",
       "    .dataframe tbody tr th:only-of-type {\n",
       "        vertical-align: middle;\n",
       "    }\n",
       "\n",
       "    .dataframe tbody tr th {\n",
       "        vertical-align: top;\n",
       "    }\n",
       "\n",
       "    .dataframe thead th {\n",
       "        text-align: right;\n",
       "    }\n",
       "</style>\n",
       "<table border=\"1\" class=\"dataframe\">\n",
       "  <thead>\n",
       "    <tr style=\"text-align: right;\">\n",
       "      <th></th>\n",
       "      <th>VehicleType</th>\n",
       "      <th>RegistrationYear</th>\n",
       "      <th>Gearbox</th>\n",
       "      <th>Power</th>\n",
       "      <th>Model</th>\n",
       "      <th>Kilometer</th>\n",
       "      <th>RegistrationMonth</th>\n",
       "      <th>FuelType</th>\n",
       "      <th>Brand</th>\n",
       "      <th>NotRepaired</th>\n",
       "    </tr>\n",
       "  </thead>\n",
       "  <tbody>\n",
       "    <tr>\n",
       "      <th>0</th>\n",
       "      <td>other</td>\n",
       "      <td>1993</td>\n",
       "      <td>manual</td>\n",
       "      <td>96</td>\n",
       "      <td>golf</td>\n",
       "      <td>150000</td>\n",
       "      <td>1</td>\n",
       "      <td>petrol</td>\n",
       "      <td>volkswagen</td>\n",
       "      <td>no_information</td>\n",
       "    </tr>\n",
       "    <tr>\n",
       "      <th>1</th>\n",
       "      <td>coupe</td>\n",
       "      <td>2011</td>\n",
       "      <td>manual</td>\n",
       "      <td>190</td>\n",
       "      <td>other</td>\n",
       "      <td>125000</td>\n",
       "      <td>5</td>\n",
       "      <td>gasoline</td>\n",
       "      <td>audi</td>\n",
       "      <td>yes</td>\n",
       "    </tr>\n",
       "    <tr>\n",
       "      <th>2</th>\n",
       "      <td>suv</td>\n",
       "      <td>2004</td>\n",
       "      <td>auto</td>\n",
       "      <td>163</td>\n",
       "      <td>grand</td>\n",
       "      <td>125000</td>\n",
       "      <td>8</td>\n",
       "      <td>gasoline</td>\n",
       "      <td>jeep</td>\n",
       "      <td>no_information</td>\n",
       "    </tr>\n",
       "    <tr>\n",
       "      <th>3</th>\n",
       "      <td>small</td>\n",
       "      <td>2001</td>\n",
       "      <td>manual</td>\n",
       "      <td>75</td>\n",
       "      <td>golf</td>\n",
       "      <td>150000</td>\n",
       "      <td>6</td>\n",
       "      <td>petrol</td>\n",
       "      <td>volkswagen</td>\n",
       "      <td>no</td>\n",
       "    </tr>\n",
       "    <tr>\n",
       "      <th>4</th>\n",
       "      <td>small</td>\n",
       "      <td>2008</td>\n",
       "      <td>manual</td>\n",
       "      <td>69</td>\n",
       "      <td>fabia</td>\n",
       "      <td>90000</td>\n",
       "      <td>7</td>\n",
       "      <td>gasoline</td>\n",
       "      <td>skoda</td>\n",
       "      <td>no</td>\n",
       "    </tr>\n",
       "  </tbody>\n",
       "</table>\n",
       "</div>"
      ],
      "text/plain": [
       "  VehicleType  RegistrationYear Gearbox  Power  Model  Kilometer  \\\n",
       "0       other              1993  manual     96   golf     150000   \n",
       "1       coupe              2011  manual    190  other     125000   \n",
       "2         suv              2004    auto    163  grand     125000   \n",
       "3       small              2001  manual     75   golf     150000   \n",
       "4       small              2008  manual     69  fabia      90000   \n",
       "\n",
       "   RegistrationMonth  FuelType       Brand     NotRepaired  \n",
       "0                  1    petrol  volkswagen  no_information  \n",
       "1                  5  gasoline        audi             yes  \n",
       "2                  8  gasoline        jeep  no_information  \n",
       "3                  6    petrol  volkswagen              no  \n",
       "4                  7  gasoline       skoda              no  "
      ]
     },
     "execution_count": 44,
     "metadata": {},
     "output_type": "execute_result"
    }
   ],
   "source": [
    "features = df.drop(columns=['Price', 'DateCreated', 'LastSeen', 'DateCrawled','NumberOfPictures', 'PostalCode'], axis=0)\n",
    "features.head()"
   ]
  },
  {
   "cell_type": "code",
   "execution_count": 45,
   "metadata": {
    "scrolled": true
   },
   "outputs": [
    {
     "data": {
      "text/plain": [
       "(340688, 10)"
      ]
     },
     "execution_count": 45,
     "metadata": {},
     "output_type": "execute_result"
    }
   ],
   "source": [
    "features.shape"
   ]
  },
  {
   "cell_type": "code",
   "execution_count": 46,
   "metadata": {
    "scrolled": true
   },
   "outputs": [
    {
     "data": {
      "text/plain": [
       "(340688,)"
      ]
     },
     "execution_count": 46,
     "metadata": {},
     "output_type": "execute_result"
    }
   ],
   "source": [
    "target.shape"
   ]
  },
  {
   "cell_type": "markdown",
   "metadata": {},
   "source": [
    "Часть из представленных признаков относится к категориальному типу, далее для задачи регрессии преобразуем категориальные признаки в числовые, однако для различных моделей обучения будем использовать различные техники кодирования (порядковое или прямое) в сочетании со стандартизацией признаков."
   ]
  },
  {
   "cell_type": "markdown",
   "metadata": {},
   "source": [
    "### Вывод"
   ]
  },
  {
   "cell_type": "markdown",
   "metadata": {},
   "source": [
    "Прпредоставленный файл - таблица из 354639 строк и 16 столбцов. Каждая строка содержит информацию с описанием представленного на продажу автомобиля (цена, марка, модель, тип кузова, мощность двигателя, тип топлива, пробег, информация о ремонте, тип КПП, почтовый код владельца, колчество фотографий), а также информацию об операциях с объявлением (время создания, время последнего просмотра, время выгрузки из базы данных). \n",
    "\n",
    "Согласно приложенному описанию таблица включает следующие столбцы:\n",
    "\n",
    "    -DateCrawled — дата скачивания анкеты из базы\n",
    "    -VehicleType — тип автомобильного кузова\n",
    "    -RegistrationYear — год регистрации автомобиля\n",
    "    -Gearbox — тип коробки передач\n",
    "    -Power — мощность (л. с.)\n",
    "    -Model — модель автомобиля\n",
    "    -Kilometer — пробег (км)\n",
    "    -RegistrationMonth — месяц регистрации автомобиля\n",
    "    -FuelType — тип топлива\n",
    "    -Brand — марка автомобиля\n",
    "    -NotRepaired — информация о ремонте\n",
    "    -DateCreated — дата создания анкеты\n",
    "    -NumberOfPictures — количество фотографий автомобиля\n",
    "    -PostalCode — почтовый индекс владельца анкеты (пользователя)\n",
    "    -LastSeen — дата последней активности пользователя\n",
    "    -Price - цена (евро)\n",
    "\n",
    "В ходе поготовкки данных проведены следующие операции:\n",
    "\n",
    "\n",
    " - В 5 из 16 столбцов ('VehicleType', 'Gearbox', 'Model', 'FuelType', 'NotRepaired') обнаружены пропуски значений - произведена замена пропусков на значения, обозначающие отсутствие информации по данным признакам.\n",
    " \n",
    " \n",
    " - Обнаружены 4 строки, которые являются полными дубликатами - строки удалены.\n",
    " \n",
    " \n",
    " - В столбце 'Price' для строк с ценой автомобиля менее 100 евро данные удалены.\n",
    " \n",
    " \n",
    " - В столбце 'RegistrationYear' обнаружены аномальные значения года регистрации автомобиля - строки, включаюшие сроки регистрации раньше 1900 года и позже 2016 года, удалены.\n",
    " \n",
    " \n",
    " - В стобце 'RegistrationMonth\t месяц регистрации обнаружены значения 0 - заменены на 1.\n",
    " \n",
    " \n",
    " - В столбце 'Power' (мощность в лошадиных силах) обнаружены сверхмалые значения (0 л.с.) - заменены на среднее значение мощности для модели; сверхбольшие значения (более 600 л.с.) - строки удалены.\n",
    " \n",
    "  \n",
    "\n",
    "- Произведенно выделение целевого признака (target) - столбец 'Price' (цена)- и признаков (features) для моделей обучения ('VehicleType', 'RegistrationYear', 'Gearbox', 'Power', 'Model','Kilometer', 'RegistrationMonth', 'FuelType', 'Brand', 'NotRepaired', 'PostalCode'), включающие только характеристики автомобиля и индекс владельца."
   ]
  },
  {
   "cell_type": "markdown",
   "metadata": {},
   "source": [
    "## Обучение моделей"
   ]
  },
  {
   "cell_type": "markdown",
   "metadata": {},
   "source": [
    "Для обучения и валидации моделей с учетом их специфических возможностей создадим функцию получения необходимых выборок."
   ]
  },
  {
   "cell_type": "code",
   "execution_count": 47,
   "metadata": {},
   "outputs": [],
   "source": [
    "def sample_trn_tst_val(features, target):\n",
    "    features_train, features_test_valid, target_train, target_test_valid = train_test_split(features, target, \n",
    "                                                                                            test_size=0.4, \n",
    "                                                                                            random_state = 12345)\n",
    "    features_test, features_valid, target_test, target_valid = train_test_split(features_test_valid, \n",
    "                                                                                        target_test_valid, \n",
    "                                                                                        test_size=0.5, \n",
    "                                                                                        random_state = 12345)\n",
    "    \n",
    "    return features_train, target_train, features_valid, target_valid, features_test, target_test"
   ]
  },
  {
   "cell_type": "markdown",
   "metadata": {},
   "source": [
    "Для предсказаний стоимости автомобиля реализуем и оценим качество следующих моделей: линейная регрессия, решающее дерево, случайный лес, градиентный бустинг."
   ]
  },
  {
   "cell_type": "markdown",
   "metadata": {},
   "source": [
    "### Модель линейной регрессии"
   ]
  },
  {
   "cell_type": "markdown",
   "metadata": {},
   "source": [
    "Для модели линейной регресии преобразуем категориальные признаки в численные техникой прямого кодирования (OHE), как наиболее оптимальной для задач линейной регресии, с удалением первых столбцов полученных фиктивных признаков для оптимизации процесса обучения и исключения \"дамми-ловушки\"."
   ]
  },
  {
   "cell_type": "code",
   "execution_count": 48,
   "metadata": {},
   "outputs": [],
   "source": [
    "features_lr = pd.get_dummies(features, columns=['VehicleType', 'Gearbox', 'FuelType', 'Brand', 'NotRepaired'], drop_first=True)"
   ]
  },
  {
   "cell_type": "code",
   "execution_count": 49,
   "metadata": {},
   "outputs": [
    {
     "data": {
      "text/html": [
       "<div>\n",
       "<style scoped>\n",
       "    .dataframe tbody tr th:only-of-type {\n",
       "        vertical-align: middle;\n",
       "    }\n",
       "\n",
       "    .dataframe tbody tr th {\n",
       "        vertical-align: top;\n",
       "    }\n",
       "\n",
       "    .dataframe thead th {\n",
       "        text-align: right;\n",
       "    }\n",
       "</style>\n",
       "<table border=\"1\" class=\"dataframe\">\n",
       "  <thead>\n",
       "    <tr style=\"text-align: right;\">\n",
       "      <th></th>\n",
       "      <th>RegistrationYear</th>\n",
       "      <th>Power</th>\n",
       "      <th>Model_0</th>\n",
       "      <th>Model_1</th>\n",
       "      <th>Model_2</th>\n",
       "      <th>Model_3</th>\n",
       "      <th>Model_4</th>\n",
       "      <th>Model_5</th>\n",
       "      <th>Model_6</th>\n",
       "      <th>Model_7</th>\n",
       "      <th>...</th>\n",
       "      <th>Brand_smart</th>\n",
       "      <th>Brand_sonstige_autos</th>\n",
       "      <th>Brand_subaru</th>\n",
       "      <th>Brand_suzuki</th>\n",
       "      <th>Brand_toyota</th>\n",
       "      <th>Brand_trabant</th>\n",
       "      <th>Brand_volkswagen</th>\n",
       "      <th>Brand_volvo</th>\n",
       "      <th>NotRepaired_no_information</th>\n",
       "      <th>NotRepaired_yes</th>\n",
       "    </tr>\n",
       "  </thead>\n",
       "  <tbody>\n",
       "    <tr>\n",
       "      <th>0</th>\n",
       "      <td>1993</td>\n",
       "      <td>96</td>\n",
       "      <td>0</td>\n",
       "      <td>0</td>\n",
       "      <td>0</td>\n",
       "      <td>0</td>\n",
       "      <td>0</td>\n",
       "      <td>0</td>\n",
       "      <td>0</td>\n",
       "      <td>1</td>\n",
       "      <td>...</td>\n",
       "      <td>0</td>\n",
       "      <td>0</td>\n",
       "      <td>0</td>\n",
       "      <td>0</td>\n",
       "      <td>0</td>\n",
       "      <td>0</td>\n",
       "      <td>1</td>\n",
       "      <td>0</td>\n",
       "      <td>1</td>\n",
       "      <td>0</td>\n",
       "    </tr>\n",
       "    <tr>\n",
       "      <th>1</th>\n",
       "      <td>2011</td>\n",
       "      <td>190</td>\n",
       "      <td>0</td>\n",
       "      <td>0</td>\n",
       "      <td>0</td>\n",
       "      <td>0</td>\n",
       "      <td>0</td>\n",
       "      <td>0</td>\n",
       "      <td>1</td>\n",
       "      <td>0</td>\n",
       "      <td>...</td>\n",
       "      <td>0</td>\n",
       "      <td>0</td>\n",
       "      <td>0</td>\n",
       "      <td>0</td>\n",
       "      <td>0</td>\n",
       "      <td>0</td>\n",
       "      <td>0</td>\n",
       "      <td>0</td>\n",
       "      <td>0</td>\n",
       "      <td>1</td>\n",
       "    </tr>\n",
       "    <tr>\n",
       "      <th>2</th>\n",
       "      <td>2004</td>\n",
       "      <td>163</td>\n",
       "      <td>0</td>\n",
       "      <td>0</td>\n",
       "      <td>0</td>\n",
       "      <td>0</td>\n",
       "      <td>0</td>\n",
       "      <td>0</td>\n",
       "      <td>1</td>\n",
       "      <td>1</td>\n",
       "      <td>...</td>\n",
       "      <td>0</td>\n",
       "      <td>0</td>\n",
       "      <td>0</td>\n",
       "      <td>0</td>\n",
       "      <td>0</td>\n",
       "      <td>0</td>\n",
       "      <td>0</td>\n",
       "      <td>0</td>\n",
       "      <td>1</td>\n",
       "      <td>0</td>\n",
       "    </tr>\n",
       "    <tr>\n",
       "      <th>3</th>\n",
       "      <td>2001</td>\n",
       "      <td>75</td>\n",
       "      <td>0</td>\n",
       "      <td>0</td>\n",
       "      <td>0</td>\n",
       "      <td>0</td>\n",
       "      <td>0</td>\n",
       "      <td>0</td>\n",
       "      <td>0</td>\n",
       "      <td>1</td>\n",
       "      <td>...</td>\n",
       "      <td>0</td>\n",
       "      <td>0</td>\n",
       "      <td>0</td>\n",
       "      <td>0</td>\n",
       "      <td>0</td>\n",
       "      <td>0</td>\n",
       "      <td>1</td>\n",
       "      <td>0</td>\n",
       "      <td>0</td>\n",
       "      <td>0</td>\n",
       "    </tr>\n",
       "    <tr>\n",
       "      <th>4</th>\n",
       "      <td>2008</td>\n",
       "      <td>69</td>\n",
       "      <td>0</td>\n",
       "      <td>0</td>\n",
       "      <td>0</td>\n",
       "      <td>0</td>\n",
       "      <td>0</td>\n",
       "      <td>1</td>\n",
       "      <td>0</td>\n",
       "      <td>0</td>\n",
       "      <td>...</td>\n",
       "      <td>0</td>\n",
       "      <td>0</td>\n",
       "      <td>0</td>\n",
       "      <td>0</td>\n",
       "      <td>0</td>\n",
       "      <td>0</td>\n",
       "      <td>0</td>\n",
       "      <td>0</td>\n",
       "      <td>0</td>\n",
       "      <td>0</td>\n",
       "    </tr>\n",
       "  </tbody>\n",
       "</table>\n",
       "<p>5 rows × 69 columns</p>\n",
       "</div>"
      ],
      "text/plain": [
       "   RegistrationYear  Power  Model_0  Model_1  Model_2  Model_3  Model_4  \\\n",
       "0              1993     96        0        0        0        0        0   \n",
       "1              2011    190        0        0        0        0        0   \n",
       "2              2004    163        0        0        0        0        0   \n",
       "3              2001     75        0        0        0        0        0   \n",
       "4              2008     69        0        0        0        0        0   \n",
       "\n",
       "   Model_5  Model_6  Model_7  ...  Brand_smart  Brand_sonstige_autos  \\\n",
       "0        0        0        1  ...            0                     0   \n",
       "1        0        1        0  ...            0                     0   \n",
       "2        0        1        1  ...            0                     0   \n",
       "3        0        0        1  ...            0                     0   \n",
       "4        1        0        0  ...            0                     0   \n",
       "\n",
       "   Brand_subaru  Brand_suzuki  Brand_toyota  Brand_trabant  Brand_volkswagen  \\\n",
       "0             0             0             0              0                 1   \n",
       "1             0             0             0              0                 0   \n",
       "2             0             0             0              0                 0   \n",
       "3             0             0             0              0                 1   \n",
       "4             0             0             0              0                 0   \n",
       "\n",
       "   Brand_volvo  NotRepaired_no_information  NotRepaired_yes  \n",
       "0            0                           1                0  \n",
       "1            0                           0                1  \n",
       "2            0                           1                0  \n",
       "3            0                           0                0  \n",
       "4            0                           0                0  \n",
       "\n",
       "[5 rows x 69 columns]"
      ]
     },
     "execution_count": 49,
     "metadata": {},
     "output_type": "execute_result"
    }
   ],
   "source": [
    "encoder= ce.BinaryEncoder(cols=['Model'],return_df=True)\n",
    "features_lr=encoder.fit_transform(features_lr) \n",
    "features_lr.head()"
   ]
  },
  {
   "cell_type": "code",
   "execution_count": 50,
   "metadata": {},
   "outputs": [
    {
     "data": {
      "text/plain": [
       "(340688, 69)"
      ]
     },
     "execution_count": 50,
     "metadata": {},
     "output_type": "execute_result"
    }
   ],
   "source": [
    "features_lr.shape"
   ]
  },
  {
   "cell_type": "code",
   "execution_count": 51,
   "metadata": {},
   "outputs": [],
   "source": [
    "features_train_lr, target_train_lr, features_valid_lr, target_valid_lr, features_test_lr, target_test_lr = sample_trn_tst_val(features_lr, target)"
   ]
  },
  {
   "cell_type": "code",
   "execution_count": 52,
   "metadata": {},
   "outputs": [
    {
     "data": {
      "text/plain": [
       "(204412, 69)"
      ]
     },
     "execution_count": 52,
     "metadata": {},
     "output_type": "execute_result"
    }
   ],
   "source": [
    "features_train_lr.shape"
   ]
  },
  {
   "cell_type": "code",
   "execution_count": 53,
   "metadata": {},
   "outputs": [
    {
     "data": {
      "text/plain": [
       "(204412,)"
      ]
     },
     "execution_count": 53,
     "metadata": {},
     "output_type": "execute_result"
    }
   ],
   "source": [
    "target_train_lr.shape"
   ]
  },
  {
   "cell_type": "code",
   "execution_count": 54,
   "metadata": {},
   "outputs": [
    {
     "data": {
      "text/plain": [
       "(68138, 69)"
      ]
     },
     "execution_count": 54,
     "metadata": {},
     "output_type": "execute_result"
    }
   ],
   "source": [
    "features_valid_lr.shape"
   ]
  },
  {
   "cell_type": "code",
   "execution_count": 55,
   "metadata": {},
   "outputs": [
    {
     "data": {
      "text/plain": [
       "(68138,)"
      ]
     },
     "execution_count": 55,
     "metadata": {},
     "output_type": "execute_result"
    }
   ],
   "source": [
    "target_valid_lr.shape"
   ]
  },
  {
   "cell_type": "code",
   "execution_count": 56,
   "metadata": {},
   "outputs": [
    {
     "data": {
      "text/plain": [
       "(68138, 69)"
      ]
     },
     "execution_count": 56,
     "metadata": {},
     "output_type": "execute_result"
    }
   ],
   "source": [
    "features_test_lr.shape"
   ]
  },
  {
   "cell_type": "code",
   "execution_count": 57,
   "metadata": {
    "scrolled": true
   },
   "outputs": [
    {
     "data": {
      "text/plain": [
       "(68138,)"
      ]
     },
     "execution_count": 57,
     "metadata": {},
     "output_type": "execute_result"
    }
   ],
   "source": [
    "target_test_lr.shape"
   ]
  },
  {
   "cell_type": "markdown",
   "metadata": {},
   "source": [
    "Проведем масштабирование признаков для модели линейной регресии."
   ]
  },
  {
   "cell_type": "code",
   "execution_count": 58,
   "metadata": {
    "scrolled": true
   },
   "outputs": [],
   "source": [
    "scaler = StandardScaler()\n",
    "scaler.fit(features_train_lr) \n",
    "\n",
    "features_train_scaled_lr = scaler.transform(features_train_lr)\n",
    "features_test_scaled_lr = scaler.transform(features_test_lr)\n",
    "features_valid_scaled_lr = scaler.transform(features_valid_lr)\n",
    "\n",
    "pd.options.mode.chained_assignment = None"
   ]
  },
  {
   "cell_type": "markdown",
   "metadata": {},
   "source": [
    "Обучим модель линейной регрессии."
   ]
  },
  {
   "cell_type": "code",
   "execution_count": 59,
   "metadata": {
    "scrolled": true
   },
   "outputs": [],
   "source": [
    " # подготовка и обучение модели линейной регресии\n",
    "model_lr = LinearRegression().fit(features_train_scaled_lr, target_train_lr)\n",
    "\n",
    "predicted_valid_lr = model_lr.predict(features_valid_scaled_lr)\n",
    "rmse_predict_lr = mean_squared_error(target_valid_lr, predicted_valid_lr, squared=False)"
   ]
  },
  {
   "cell_type": "code",
   "execution_count": 60,
   "metadata": {},
   "outputs": [
    {
     "data": {
      "text/plain": [
       "2980.0532386951822"
      ]
     },
     "execution_count": 60,
     "metadata": {},
     "output_type": "execute_result"
    }
   ],
   "source": [
    "rmse_predict_lr"
   ]
  },
  {
   "cell_type": "markdown",
   "metadata": {},
   "source": [
    "### Модели решающего дерева и случайного леса"
   ]
  },
  {
   "cell_type": "markdown",
   "metadata": {},
   "source": [
    "Для моделей решаюшего дерева и случайго леса преобразуем категориальные признаки в численные техникой порядкового кодирования (OE), как наиболее оптимальной для обучения \"деревянных\" моделей."
   ]
  },
  {
   "cell_type": "code",
   "execution_count": 61,
   "metadata": {},
   "outputs": [],
   "source": [
    "encoder = OrdinalEncoder()\n",
    "features_wm = pd.DataFrame(encoder.fit_transform(features), columns=features.columns)"
   ]
  },
  {
   "cell_type": "code",
   "execution_count": 62,
   "metadata": {},
   "outputs": [
    {
     "data": {
      "text/plain": [
       "(340688, 10)"
      ]
     },
     "execution_count": 62,
     "metadata": {},
     "output_type": "execute_result"
    }
   ],
   "source": [
    "features_wm.shape"
   ]
  },
  {
   "cell_type": "code",
   "execution_count": 63,
   "metadata": {},
   "outputs": [],
   "source": [
    "features_train_wm, target_train_wm, features_valid_wm, target_valid_wm, features_test_wm, target_test_wm = sample_trn_tst_val(features_wm, target)"
   ]
  },
  {
   "cell_type": "code",
   "execution_count": 64,
   "metadata": {},
   "outputs": [
    {
     "data": {
      "text/plain": [
       "(204412, 10)"
      ]
     },
     "execution_count": 64,
     "metadata": {},
     "output_type": "execute_result"
    }
   ],
   "source": [
    "features_train_wm.shape"
   ]
  },
  {
   "cell_type": "code",
   "execution_count": 65,
   "metadata": {},
   "outputs": [
    {
     "data": {
      "text/plain": [
       "(204412,)"
      ]
     },
     "execution_count": 65,
     "metadata": {},
     "output_type": "execute_result"
    }
   ],
   "source": [
    "target_train_wm.shape"
   ]
  },
  {
   "cell_type": "code",
   "execution_count": 66,
   "metadata": {},
   "outputs": [
    {
     "data": {
      "text/plain": [
       "(68138, 10)"
      ]
     },
     "execution_count": 66,
     "metadata": {},
     "output_type": "execute_result"
    }
   ],
   "source": [
    "features_valid_wm.shape"
   ]
  },
  {
   "cell_type": "code",
   "execution_count": 67,
   "metadata": {},
   "outputs": [
    {
     "data": {
      "text/plain": [
       "(68138,)"
      ]
     },
     "execution_count": 67,
     "metadata": {},
     "output_type": "execute_result"
    }
   ],
   "source": [
    "target_valid_wm.shape"
   ]
  },
  {
   "cell_type": "code",
   "execution_count": 68,
   "metadata": {},
   "outputs": [
    {
     "data": {
      "text/plain": [
       "(68138, 10)"
      ]
     },
     "execution_count": 68,
     "metadata": {},
     "output_type": "execute_result"
    }
   ],
   "source": [
    "features_test_wm.shape"
   ]
  },
  {
   "cell_type": "code",
   "execution_count": 69,
   "metadata": {},
   "outputs": [
    {
     "data": {
      "text/plain": [
       "(68138,)"
      ]
     },
     "execution_count": 69,
     "metadata": {},
     "output_type": "execute_result"
    }
   ],
   "source": [
    "target_test_wm.shape"
   ]
  },
  {
   "cell_type": "markdown",
   "metadata": {},
   "source": [
    "Проведем масштабирование признаков для моделей решающего дерева и случайного леса."
   ]
  },
  {
   "cell_type": "code",
   "execution_count": 70,
   "metadata": {},
   "outputs": [],
   "source": [
    "scaler.fit(features_train_wm) \n",
    "\n",
    "features_train_scaled_wm = scaler.transform(features_train_wm)\n",
    "features_valid_scaled_wm = scaler.transform(features_valid_wm)\n",
    "features_test_scaled_wm = scaler.transform(features_test_wm)\n",
    "\n",
    "pd.options.mode.chained_assignment = None"
   ]
  },
  {
   "cell_type": "markdown",
   "metadata": {},
   "source": [
    "#### Модель решающего дерева"
   ]
  },
  {
   "cell_type": "markdown",
   "metadata": {},
   "source": [
    "Обучим модель решающего дерева и проведем подбор его оптимальной глубины."
   ]
  },
  {
   "cell_type": "code",
   "execution_count": 71,
   "metadata": {},
   "outputs": [
    {
     "name": "stdout",
     "output_type": "stream",
     "text": [
      "Наилучшая метрика: -2018.6650553456227  при значении гиперпараметра: {'max_depth': 13}\n"
     ]
    }
   ],
   "source": [
    "parametrs_dt = {'max_depth': range (1, 51, 2)}\n",
    "\n",
    "grid_dt = GridSearchCV(DecisionTreeRegressor(random_state=12345), parametrs_dt, scoring='neg_root_mean_squared_error', cv=3)\n",
    "grid_dt.fit(features_train_scaled_wm, target_train_wm)\n",
    "\n",
    "print('Наилучшая метрика:',  grid_dt.best_score_, ' при значении гиперпараметра:', grid_dt.best_params_)"
   ]
  },
  {
   "cell_type": "code",
   "execution_count": 72,
   "metadata": {},
   "outputs": [],
   "source": [
    "best_depht_dt = grid_dt.best_params_['max_depth']"
   ]
  },
  {
   "cell_type": "markdown",
   "metadata": {},
   "source": [
    "Наилучший результат достигается при глубине: 13. Принятая к анализу модель решающего дерева будет выглядеть следующим образом."
   ]
  },
  {
   "cell_type": "code",
   "execution_count": 73,
   "metadata": {},
   "outputs": [],
   "source": [
    "model_dt = DecisionTreeRegressor(random_state=12345, max_depth=best_depht_dt)"
   ]
  },
  {
   "cell_type": "markdown",
   "metadata": {},
   "source": [
    "\n",
    "#### Модель случайного леса"
   ]
  },
  {
   "cell_type": "markdown",
   "metadata": {},
   "source": [
    "Обучим модель случайного леса и проведем подбор его оптимальной глубины и количества деревьев."
   ]
  },
  {
   "cell_type": "code",
   "execution_count": 74,
   "metadata": {
    "scrolled": true
   },
   "outputs": [
    {
     "name": "stdout",
     "output_type": "stream",
     "text": [
      "Fitting 3 folds for each of 48 candidates, totalling 144 fits\n",
      "[CV 1/3; 1/48] START max_depth=10, n_estimators=20..............................\n",
      "[CV 1/3; 1/48] END max_depth=10, n_estimators=20;, score=-1921.707 total time=  19.3s\n",
      "[CV 2/3; 1/48] START max_depth=10, n_estimators=20..............................\n",
      "[CV 2/3; 1/48] END max_depth=10, n_estimators=20;, score=-1917.954 total time=  19.5s\n",
      "[CV 3/3; 1/48] START max_depth=10, n_estimators=20..............................\n",
      "[CV 3/3; 1/48] END max_depth=10, n_estimators=20;, score=-1926.531 total time=  18.9s\n",
      "[CV 1/3; 2/48] START max_depth=10, n_estimators=25..............................\n",
      "[CV 1/3; 2/48] END max_depth=10, n_estimators=25;, score=-1920.374 total time=  23.7s\n",
      "[CV 2/3; 2/48] START max_depth=10, n_estimators=25..............................\n",
      "[CV 2/3; 2/48] END max_depth=10, n_estimators=25;, score=-1916.555 total time=  24.6s\n",
      "[CV 3/3; 2/48] START max_depth=10, n_estimators=25..............................\n",
      "[CV 3/3; 2/48] END max_depth=10, n_estimators=25;, score=-1925.056 total time=  24.2s\n",
      "[CV 1/3; 3/48] START max_depth=10, n_estimators=30..............................\n",
      "[CV 1/3; 3/48] END max_depth=10, n_estimators=30;, score=-1918.481 total time=  29.0s\n",
      "[CV 2/3; 3/48] START max_depth=10, n_estimators=30..............................\n",
      "[CV 2/3; 3/48] END max_depth=10, n_estimators=30;, score=-1914.490 total time=  29.1s\n",
      "[CV 3/3; 3/48] START max_depth=10, n_estimators=30..............................\n",
      "[CV 3/3; 3/48] END max_depth=10, n_estimators=30;, score=-1925.018 total time=  29.7s\n",
      "[CV 1/3; 4/48] START max_depth=10, n_estimators=35..............................\n",
      "[CV 1/3; 4/48] END max_depth=10, n_estimators=35;, score=-1918.692 total time=  33.7s\n",
      "[CV 2/3; 4/48] START max_depth=10, n_estimators=35..............................\n",
      "[CV 2/3; 4/48] END max_depth=10, n_estimators=35;, score=-1914.205 total time=  34.3s\n",
      "[CV 3/3; 4/48] START max_depth=10, n_estimators=35..............................\n",
      "[CV 3/3; 4/48] END max_depth=10, n_estimators=35;, score=-1923.576 total time=  33.4s\n",
      "[CV 1/3; 5/48] START max_depth=10, n_estimators=40..............................\n",
      "[CV 1/3; 5/48] END max_depth=10, n_estimators=40;, score=-1918.349 total time=  38.5s\n",
      "[CV 2/3; 5/48] START max_depth=10, n_estimators=40..............................\n",
      "[CV 2/3; 5/48] END max_depth=10, n_estimators=40;, score=-1913.905 total time=  38.1s\n",
      "[CV 3/3; 5/48] START max_depth=10, n_estimators=40..............................\n",
      "[CV 3/3; 5/48] END max_depth=10, n_estimators=40;, score=-1923.950 total time=  40.0s\n",
      "[CV 1/3; 6/48] START max_depth=10, n_estimators=45..............................\n",
      "[CV 1/3; 6/48] END max_depth=10, n_estimators=45;, score=-1917.717 total time=  44.5s\n",
      "[CV 2/3; 6/48] START max_depth=10, n_estimators=45..............................\n",
      "[CV 2/3; 6/48] END max_depth=10, n_estimators=45;, score=-1913.474 total time=  43.8s\n",
      "[CV 3/3; 6/48] START max_depth=10, n_estimators=45..............................\n",
      "[CV 3/3; 6/48] END max_depth=10, n_estimators=45;, score=-1922.875 total time=  43.6s\n",
      "[CV 1/3; 7/48] START max_depth=10, n_estimators=50..............................\n",
      "[CV 1/3; 7/48] END max_depth=10, n_estimators=50;, score=-1917.175 total time=  48.0s\n",
      "[CV 2/3; 7/48] START max_depth=10, n_estimators=50..............................\n",
      "[CV 2/3; 7/48] END max_depth=10, n_estimators=50;, score=-1912.892 total time=  47.9s\n",
      "[CV 3/3; 7/48] START max_depth=10, n_estimators=50..............................\n",
      "[CV 3/3; 7/48] END max_depth=10, n_estimators=50;, score=-1922.523 total time=  47.6s\n",
      "[CV 1/3; 8/48] START max_depth=10, n_estimators=55..............................\n",
      "[CV 1/3; 8/48] END max_depth=10, n_estimators=55;, score=-1916.654 total time=  54.4s\n",
      "[CV 2/3; 8/48] START max_depth=10, n_estimators=55..............................\n",
      "[CV 2/3; 8/48] END max_depth=10, n_estimators=55;, score=-1912.413 total time=  53.5s\n",
      "[CV 3/3; 8/48] START max_depth=10, n_estimators=55..............................\n",
      "[CV 3/3; 8/48] END max_depth=10, n_estimators=55;, score=-1922.173 total time=  52.5s\n",
      "[CV 1/3; 9/48] START max_depth=12, n_estimators=20..............................\n",
      "[CV 1/3; 9/48] END max_depth=12, n_estimators=20;, score=-1819.248 total time=  21.1s\n",
      "[CV 2/3; 9/48] START max_depth=12, n_estimators=20..............................\n",
      "[CV 2/3; 9/48] END max_depth=12, n_estimators=20;, score=-1814.514 total time=  21.2s\n",
      "[CV 3/3; 9/48] START max_depth=12, n_estimators=20..............................\n",
      "[CV 3/3; 9/48] END max_depth=12, n_estimators=20;, score=-1826.939 total time=  21.1s\n",
      "[CV 1/3; 10/48] START max_depth=12, n_estimators=25.............................\n",
      "[CV 1/3; 10/48] END max_depth=12, n_estimators=25;, score=-1817.554 total time=  26.9s\n",
      "[CV 2/3; 10/48] START max_depth=12, n_estimators=25.............................\n",
      "[CV 2/3; 10/48] END max_depth=12, n_estimators=25;, score=-1811.475 total time=  26.4s\n",
      "[CV 3/3; 10/48] START max_depth=12, n_estimators=25.............................\n",
      "[CV 3/3; 10/48] END max_depth=12, n_estimators=25;, score=-1823.172 total time=  26.5s\n",
      "[CV 1/3; 11/48] START max_depth=12, n_estimators=30.............................\n",
      "[CV 1/3; 11/48] END max_depth=12, n_estimators=30;, score=-1814.963 total time=  31.8s\n",
      "[CV 2/3; 11/48] START max_depth=12, n_estimators=30.............................\n",
      "[CV 2/3; 11/48] END max_depth=12, n_estimators=30;, score=-1808.673 total time=  31.6s\n",
      "[CV 3/3; 11/48] START max_depth=12, n_estimators=30.............................\n",
      "[CV 3/3; 11/48] END max_depth=12, n_estimators=30;, score=-1822.263 total time=  32.2s\n",
      "[CV 1/3; 12/48] START max_depth=12, n_estimators=35.............................\n",
      "[CV 1/3; 12/48] END max_depth=12, n_estimators=35;, score=-1814.587 total time=  37.1s\n",
      "[CV 2/3; 12/48] START max_depth=12, n_estimators=35.............................\n",
      "[CV 2/3; 12/48] END max_depth=12, n_estimators=35;, score=-1808.216 total time=  37.1s\n",
      "[CV 3/3; 12/48] START max_depth=12, n_estimators=35.............................\n",
      "[CV 3/3; 12/48] END max_depth=12, n_estimators=35;, score=-1819.944 total time=  37.4s\n",
      "[CV 1/3; 13/48] START max_depth=12, n_estimators=40.............................\n",
      "[CV 1/3; 13/48] END max_depth=12, n_estimators=40;, score=-1814.337 total time=  44.1s\n",
      "[CV 2/3; 13/48] START max_depth=12, n_estimators=40.............................\n",
      "[CV 2/3; 13/48] END max_depth=12, n_estimators=40;, score=-1807.431 total time=  42.9s\n",
      "[CV 3/3; 13/48] START max_depth=12, n_estimators=40.............................\n",
      "[CV 3/3; 13/48] END max_depth=12, n_estimators=40;, score=-1819.925 total time=  44.8s\n",
      "[CV 1/3; 14/48] START max_depth=12, n_estimators=45.............................\n",
      "[CV 1/3; 14/48] END max_depth=12, n_estimators=45;, score=-1813.913 total time=  48.0s\n",
      "[CV 2/3; 14/48] START max_depth=12, n_estimators=45.............................\n",
      "[CV 2/3; 14/48] END max_depth=12, n_estimators=45;, score=-1807.227 total time=  52.2s\n",
      "[CV 3/3; 14/48] START max_depth=12, n_estimators=45.............................\n",
      "[CV 3/3; 14/48] END max_depth=12, n_estimators=45;, score=-1818.193 total time=  48.1s\n",
      "[CV 1/3; 15/48] START max_depth=12, n_estimators=50.............................\n",
      "[CV 1/3; 15/48] END max_depth=12, n_estimators=50;, score=-1811.944 total time=  53.3s\n",
      "[CV 2/3; 15/48] START max_depth=12, n_estimators=50.............................\n",
      "[CV 2/3; 15/48] END max_depth=12, n_estimators=50;, score=-1806.980 total time=  52.9s\n",
      "[CV 3/3; 15/48] START max_depth=12, n_estimators=50.............................\n",
      "[CV 3/3; 15/48] END max_depth=12, n_estimators=50;, score=-1817.561 total time=  53.2s\n",
      "[CV 1/3; 16/48] START max_depth=12, n_estimators=55.............................\n",
      "[CV 1/3; 16/48] END max_depth=12, n_estimators=55;, score=-1810.778 total time=  58.7s\n",
      "[CV 2/3; 16/48] START max_depth=12, n_estimators=55.............................\n",
      "[CV 2/3; 16/48] END max_depth=12, n_estimators=55;, score=-1805.851 total time=  59.4s\n",
      "[CV 3/3; 16/48] START max_depth=12, n_estimators=55.............................\n",
      "[CV 3/3; 16/48] END max_depth=12, n_estimators=55;, score=-1816.975 total time=  58.3s\n",
      "[CV 1/3; 17/48] START max_depth=14, n_estimators=20.............................\n",
      "[CV 1/3; 17/48] END max_depth=14, n_estimators=20;, score=-1752.057 total time=  23.6s\n",
      "[CV 2/3; 17/48] START max_depth=14, n_estimators=20.............................\n"
     ]
    },
    {
     "name": "stdout",
     "output_type": "stream",
     "text": [
      "[CV 2/3; 17/48] END max_depth=14, n_estimators=20;, score=-1750.694 total time=  22.9s\n",
      "[CV 3/3; 17/48] START max_depth=14, n_estimators=20.............................\n",
      "[CV 3/3; 17/48] END max_depth=14, n_estimators=20;, score=-1763.180 total time=  23.2s\n",
      "[CV 1/3; 18/48] START max_depth=14, n_estimators=25.............................\n",
      "[CV 1/3; 18/48] END max_depth=14, n_estimators=25;, score=-1749.970 total time=  28.7s\n",
      "[CV 2/3; 18/48] START max_depth=14, n_estimators=25.............................\n",
      "[CV 2/3; 18/48] END max_depth=14, n_estimators=25;, score=-1745.920 total time=  28.9s\n",
      "[CV 3/3; 18/48] START max_depth=14, n_estimators=25.............................\n",
      "[CV 3/3; 18/48] END max_depth=14, n_estimators=25;, score=-1758.357 total time=  28.8s\n",
      "[CV 1/3; 19/48] START max_depth=14, n_estimators=30.............................\n",
      "[CV 1/3; 19/48] END max_depth=14, n_estimators=30;, score=-1745.267 total time=  35.0s\n",
      "[CV 2/3; 19/48] START max_depth=14, n_estimators=30.............................\n",
      "[CV 2/3; 19/48] END max_depth=14, n_estimators=30;, score=-1743.526 total time=  34.7s\n",
      "[CV 3/3; 19/48] START max_depth=14, n_estimators=30.............................\n",
      "[CV 3/3; 19/48] END max_depth=14, n_estimators=30;, score=-1756.431 total time=  34.7s\n",
      "[CV 1/3; 20/48] START max_depth=14, n_estimators=35.............................\n",
      "[CV 1/3; 20/48] END max_depth=14, n_estimators=35;, score=-1743.909 total time=  47.2s\n",
      "[CV 2/3; 20/48] START max_depth=14, n_estimators=35.............................\n",
      "[CV 2/3; 20/48] END max_depth=14, n_estimators=35;, score=-1742.425 total time=  40.0s\n",
      "[CV 3/3; 20/48] START max_depth=14, n_estimators=35.............................\n",
      "[CV 3/3; 20/48] END max_depth=14, n_estimators=35;, score=-1753.382 total time=  40.9s\n",
      "[CV 1/3; 21/48] START max_depth=14, n_estimators=40.............................\n",
      "[CV 1/3; 21/48] END max_depth=14, n_estimators=40;, score=-1742.431 total time=  46.5s\n",
      "[CV 2/3; 21/48] START max_depth=14, n_estimators=40.............................\n",
      "[CV 2/3; 21/48] END max_depth=14, n_estimators=40;, score=-1740.387 total time=  46.1s\n",
      "[CV 3/3; 21/48] START max_depth=14, n_estimators=40.............................\n",
      "[CV 3/3; 21/48] END max_depth=14, n_estimators=40;, score=-1752.935 total time=  46.0s\n",
      "[CV 1/3; 22/48] START max_depth=14, n_estimators=45.............................\n",
      "[CV 1/3; 22/48] END max_depth=14, n_estimators=45;, score=-1741.755 total time=  52.0s\n",
      "[CV 2/3; 22/48] START max_depth=14, n_estimators=45.............................\n",
      "[CV 2/3; 22/48] END max_depth=14, n_estimators=45;, score=-1739.568 total time=  57.2s\n",
      "[CV 3/3; 22/48] START max_depth=14, n_estimators=45.............................\n",
      "[CV 3/3; 22/48] END max_depth=14, n_estimators=45;, score=-1750.805 total time=  52.8s\n",
      "[CV 1/3; 23/48] START max_depth=14, n_estimators=50.............................\n",
      "[CV 1/3; 23/48] END max_depth=14, n_estimators=50;, score=-1739.422 total time= 1.0min\n",
      "[CV 2/3; 23/48] START max_depth=14, n_estimators=50.............................\n",
      "[CV 2/3; 23/48] END max_depth=14, n_estimators=50;, score=-1739.084 total time= 1.2min\n",
      "[CV 3/3; 23/48] START max_depth=14, n_estimators=50.............................\n",
      "[CV 3/3; 23/48] END max_depth=14, n_estimators=50;, score=-1749.578 total time= 1.2min\n",
      "[CV 1/3; 24/48] START max_depth=14, n_estimators=55.............................\n",
      "[CV 1/3; 24/48] END max_depth=14, n_estimators=55;, score=-1738.521 total time= 1.3min\n",
      "[CV 2/3; 24/48] START max_depth=14, n_estimators=55.............................\n",
      "[CV 2/3; 24/48] END max_depth=14, n_estimators=55;, score=-1738.424 total time= 1.1min\n",
      "[CV 3/3; 24/48] START max_depth=14, n_estimators=55.............................\n",
      "[CV 3/3; 24/48] END max_depth=14, n_estimators=55;, score=-1748.724 total time= 1.1min\n",
      "[CV 1/3; 25/48] START max_depth=16, n_estimators=20.............................\n",
      "[CV 1/3; 25/48] END max_depth=16, n_estimators=20;, score=-1715.896 total time=  24.5s\n",
      "[CV 2/3; 25/48] START max_depth=16, n_estimators=20.............................\n",
      "[CV 2/3; 25/48] END max_depth=16, n_estimators=20;, score=-1721.605 total time=  24.8s\n",
      "[CV 3/3; 25/48] START max_depth=16, n_estimators=20.............................\n",
      "[CV 3/3; 25/48] END max_depth=16, n_estimators=20;, score=-1729.696 total time=  24.7s\n",
      "[CV 1/3; 26/48] START max_depth=16, n_estimators=25.............................\n",
      "[CV 1/3; 26/48] END max_depth=16, n_estimators=25;, score=-1712.384 total time=  30.9s\n",
      "[CV 2/3; 26/48] START max_depth=16, n_estimators=25.............................\n",
      "[CV 2/3; 26/48] END max_depth=16, n_estimators=25;, score=-1714.493 total time=  34.2s\n",
      "[CV 3/3; 26/48] START max_depth=16, n_estimators=25.............................\n",
      "[CV 3/3; 26/48] END max_depth=16, n_estimators=25;, score=-1724.691 total time=  31.3s\n",
      "[CV 1/3; 27/48] START max_depth=16, n_estimators=30.............................\n",
      "[CV 1/3; 27/48] END max_depth=16, n_estimators=30;, score=-1707.981 total time=  38.5s\n",
      "[CV 2/3; 27/48] START max_depth=16, n_estimators=30.............................\n",
      "[CV 2/3; 27/48] END max_depth=16, n_estimators=30;, score=-1711.437 total time=  39.0s\n",
      "[CV 3/3; 27/48] START max_depth=16, n_estimators=30.............................\n",
      "[CV 3/3; 27/48] END max_depth=16, n_estimators=30;, score=-1722.542 total time=  41.4s\n",
      "[CV 1/3; 28/48] START max_depth=16, n_estimators=35.............................\n",
      "[CV 1/3; 28/48] END max_depth=16, n_estimators=35;, score=-1706.115 total time=  50.7s\n",
      "[CV 2/3; 28/48] START max_depth=16, n_estimators=35.............................\n",
      "[CV 2/3; 28/48] END max_depth=16, n_estimators=35;, score=-1709.338 total time=  47.7s\n",
      "[CV 3/3; 28/48] START max_depth=16, n_estimators=35.............................\n",
      "[CV 3/3; 28/48] END max_depth=16, n_estimators=35;, score=-1719.635 total time=  43.0s\n",
      "[CV 1/3; 29/48] START max_depth=16, n_estimators=40.............................\n",
      "[CV 1/3; 29/48] END max_depth=16, n_estimators=40;, score=-1704.357 total time=  49.4s\n",
      "[CV 2/3; 29/48] START max_depth=16, n_estimators=40.............................\n",
      "[CV 2/3; 29/48] END max_depth=16, n_estimators=40;, score=-1707.433 total time=  48.9s\n",
      "[CV 3/3; 29/48] START max_depth=16, n_estimators=40.............................\n",
      "[CV 3/3; 29/48] END max_depth=16, n_estimators=40;, score=-1718.187 total time=  49.1s\n",
      "[CV 1/3; 30/48] START max_depth=16, n_estimators=45.............................\n",
      "[CV 1/3; 30/48] END max_depth=16, n_estimators=45;, score=-1703.125 total time=  55.3s\n",
      "[CV 2/3; 30/48] START max_depth=16, n_estimators=45.............................\n",
      "[CV 2/3; 30/48] END max_depth=16, n_estimators=45;, score=-1706.127 total time=  55.4s\n",
      "[CV 3/3; 30/48] START max_depth=16, n_estimators=45.............................\n",
      "[CV 3/3; 30/48] END max_depth=16, n_estimators=45;, score=-1715.995 total time=  57.9s\n",
      "[CV 1/3; 31/48] START max_depth=16, n_estimators=50.............................\n",
      "[CV 1/3; 31/48] END max_depth=16, n_estimators=50;, score=-1701.805 total time= 1.0min\n",
      "[CV 2/3; 31/48] START max_depth=16, n_estimators=50.............................\n",
      "[CV 2/3; 31/48] END max_depth=16, n_estimators=50;, score=-1705.388 total time= 1.1min\n",
      "[CV 3/3; 31/48] START max_depth=16, n_estimators=50.............................\n",
      "[CV 3/3; 31/48] END max_depth=16, n_estimators=50;, score=-1715.206 total time= 1.0min\n",
      "[CV 1/3; 32/48] START max_depth=16, n_estimators=55.............................\n",
      "[CV 1/3; 32/48] END max_depth=16, n_estimators=55;, score=-1701.229 total time= 1.1min\n",
      "[CV 2/3; 32/48] START max_depth=16, n_estimators=55.............................\n",
      "[CV 2/3; 32/48] END max_depth=16, n_estimators=55;, score=-1704.837 total time= 1.1min\n",
      "[CV 3/3; 32/48] START max_depth=16, n_estimators=55.............................\n",
      "[CV 3/3; 32/48] END max_depth=16, n_estimators=55;, score=-1714.407 total time= 1.1min\n",
      "[CV 1/3; 33/48] START max_depth=18, n_estimators=20.............................\n",
      "[CV 1/3; 33/48] END max_depth=18, n_estimators=20;, score=-1706.393 total time=  26.6s\n",
      "[CV 2/3; 33/48] START max_depth=18, n_estimators=20.............................\n",
      "[CV 2/3; 33/48] END max_depth=18, n_estimators=20;, score=-1714.358 total time=  26.1s\n",
      "[CV 3/3; 33/48] START max_depth=18, n_estimators=20.............................\n"
     ]
    },
    {
     "name": "stdout",
     "output_type": "stream",
     "text": [
      "[CV 3/3; 33/48] END max_depth=18, n_estimators=20;, score=-1721.000 total time=  26.4s\n",
      "[CV 1/3; 34/48] START max_depth=18, n_estimators=25.............................\n",
      "[CV 1/3; 34/48] END max_depth=18, n_estimators=25;, score=-1702.105 total time=  32.8s\n",
      "[CV 2/3; 34/48] START max_depth=18, n_estimators=25.............................\n",
      "[CV 2/3; 34/48] END max_depth=18, n_estimators=25;, score=-1706.462 total time=  32.9s\n",
      "[CV 3/3; 34/48] START max_depth=18, n_estimators=25.............................\n",
      "[CV 3/3; 34/48] END max_depth=18, n_estimators=25;, score=-1714.690 total time=  32.7s\n",
      "[CV 1/3; 35/48] START max_depth=18, n_estimators=30.............................\n",
      "[CV 1/3; 35/48] END max_depth=18, n_estimators=30;, score=-1698.080 total time=  39.5s\n",
      "[CV 2/3; 35/48] START max_depth=18, n_estimators=30.............................\n",
      "[CV 2/3; 35/48] END max_depth=18, n_estimators=30;, score=-1703.223 total time=  39.3s\n",
      "[CV 3/3; 35/48] START max_depth=18, n_estimators=30.............................\n",
      "[CV 3/3; 35/48] END max_depth=18, n_estimators=30;, score=-1712.484 total time=  39.1s\n",
      "[CV 1/3; 36/48] START max_depth=18, n_estimators=35.............................\n",
      "[CV 1/3; 36/48] END max_depth=18, n_estimators=35;, score=-1695.501 total time=  46.3s\n",
      "[CV 2/3; 36/48] START max_depth=18, n_estimators=35.............................\n",
      "[CV 2/3; 36/48] END max_depth=18, n_estimators=35;, score=-1700.335 total time=  46.0s\n",
      "[CV 3/3; 36/48] START max_depth=18, n_estimators=35.............................\n",
      "[CV 3/3; 36/48] END max_depth=18, n_estimators=35;, score=-1708.062 total time=  45.9s\n",
      "[CV 1/3; 37/48] START max_depth=18, n_estimators=40.............................\n",
      "[CV 1/3; 37/48] END max_depth=18, n_estimators=40;, score=-1692.781 total time=  52.6s\n",
      "[CV 2/3; 37/48] START max_depth=18, n_estimators=40.............................\n",
      "[CV 2/3; 37/48] END max_depth=18, n_estimators=40;, score=-1698.102 total time=  53.3s\n",
      "[CV 3/3; 37/48] START max_depth=18, n_estimators=40.............................\n",
      "[CV 3/3; 37/48] END max_depth=18, n_estimators=40;, score=-1706.517 total time=  52.2s\n",
      "[CV 1/3; 38/48] START max_depth=18, n_estimators=45.............................\n",
      "[CV 1/3; 38/48] END max_depth=18, n_estimators=45;, score=-1692.125 total time=  59.4s\n",
      "[CV 2/3; 38/48] START max_depth=18, n_estimators=45.............................\n",
      "[CV 2/3; 38/48] END max_depth=18, n_estimators=45;, score=-1697.008 total time=  59.2s\n",
      "[CV 3/3; 38/48] START max_depth=18, n_estimators=45.............................\n",
      "[CV 3/3; 38/48] END max_depth=18, n_estimators=45;, score=-1704.260 total time=  58.8s\n",
      "[CV 1/3; 39/48] START max_depth=18, n_estimators=50.............................\n",
      "[CV 1/3; 39/48] END max_depth=18, n_estimators=50;, score=-1690.314 total time= 1.1min\n",
      "[CV 2/3; 39/48] START max_depth=18, n_estimators=50.............................\n",
      "[CV 2/3; 39/48] END max_depth=18, n_estimators=50;, score=-1696.128 total time= 1.1min\n",
      "[CV 3/3; 39/48] START max_depth=18, n_estimators=50.............................\n",
      "[CV 3/3; 39/48] END max_depth=18, n_estimators=50;, score=-1702.879 total time= 1.1min\n",
      "[CV 1/3; 40/48] START max_depth=18, n_estimators=55.............................\n",
      "[CV 1/3; 40/48] END max_depth=18, n_estimators=55;, score=-1689.560 total time= 1.2min\n",
      "[CV 2/3; 40/48] START max_depth=18, n_estimators=55.............................\n",
      "[CV 2/3; 40/48] END max_depth=18, n_estimators=55;, score=-1695.103 total time= 1.2min\n",
      "[CV 3/3; 40/48] START max_depth=18, n_estimators=55.............................\n",
      "[CV 3/3; 40/48] END max_depth=18, n_estimators=55;, score=-1702.259 total time= 1.2min\n",
      "[CV 1/3; 41/48] START max_depth=20, n_estimators=20.............................\n",
      "[CV 1/3; 41/48] END max_depth=20, n_estimators=20;, score=-1707.147 total time=  28.2s\n",
      "[CV 2/3; 41/48] START max_depth=20, n_estimators=20.............................\n",
      "[CV 2/3; 41/48] END max_depth=20, n_estimators=20;, score=-1719.033 total time=  27.9s\n",
      "[CV 3/3; 41/48] START max_depth=20, n_estimators=20.............................\n",
      "[CV 3/3; 41/48] END max_depth=20, n_estimators=20;, score=-1727.879 total time=  27.6s\n",
      "[CV 1/3; 42/48] START max_depth=20, n_estimators=25.............................\n",
      "[CV 1/3; 42/48] END max_depth=20, n_estimators=25;, score=-1702.119 total time=  35.1s\n",
      "[CV 2/3; 42/48] START max_depth=20, n_estimators=25.............................\n",
      "[CV 2/3; 42/48] END max_depth=20, n_estimators=25;, score=-1710.522 total time=  35.0s\n",
      "[CV 3/3; 42/48] START max_depth=20, n_estimators=25.............................\n",
      "[CV 3/3; 42/48] END max_depth=20, n_estimators=25;, score=-1720.866 total time=  34.6s\n",
      "[CV 1/3; 43/48] START max_depth=20, n_estimators=30.............................\n",
      "[CV 1/3; 43/48] END max_depth=20, n_estimators=30;, score=-1696.830 total time=  41.7s\n",
      "[CV 2/3; 43/48] START max_depth=20, n_estimators=30.............................\n",
      "[CV 2/3; 43/48] END max_depth=20, n_estimators=30;, score=-1706.816 total time=  41.8s\n",
      "[CV 3/3; 43/48] START max_depth=20, n_estimators=30.............................\n",
      "[CV 3/3; 43/48] END max_depth=20, n_estimators=30;, score=-1718.505 total time=  41.7s\n",
      "[CV 1/3; 44/48] START max_depth=20, n_estimators=35.............................\n",
      "[CV 1/3; 44/48] END max_depth=20, n_estimators=35;, score=-1695.340 total time=  49.0s\n",
      "[CV 2/3; 44/48] START max_depth=20, n_estimators=35.............................\n",
      "[CV 2/3; 44/48] END max_depth=20, n_estimators=35;, score=-1703.442 total time=  50.8s\n",
      "[CV 3/3; 44/48] START max_depth=20, n_estimators=35.............................\n",
      "[CV 3/3; 44/48] END max_depth=20, n_estimators=35;, score=-1714.240 total time=  50.4s\n",
      "[CV 1/3; 45/48] START max_depth=20, n_estimators=40.............................\n",
      "[CV 1/3; 45/48] END max_depth=20, n_estimators=40;, score=-1693.207 total time=  56.8s\n",
      "[CV 2/3; 45/48] START max_depth=20, n_estimators=40.............................\n",
      "[CV 2/3; 45/48] END max_depth=20, n_estimators=40;, score=-1701.012 total time=  56.1s\n",
      "[CV 3/3; 45/48] START max_depth=20, n_estimators=40.............................\n",
      "[CV 3/3; 45/48] END max_depth=20, n_estimators=40;, score=-1711.286 total time=  58.8s\n",
      "[CV 1/3; 46/48] START max_depth=20, n_estimators=45.............................\n",
      "[CV 1/3; 46/48] END max_depth=20, n_estimators=45;, score=-1692.232 total time= 1.1min\n",
      "[CV 2/3; 46/48] START max_depth=20, n_estimators=45.............................\n",
      "[CV 2/3; 46/48] END max_depth=20, n_estimators=45;, score=-1699.642 total time= 1.1min\n",
      "[CV 3/3; 46/48] START max_depth=20, n_estimators=45.............................\n",
      "[CV 3/3; 46/48] END max_depth=20, n_estimators=45;, score=-1708.760 total time= 1.0min\n",
      "[CV 1/3; 47/48] START max_depth=20, n_estimators=50.............................\n",
      "[CV 1/3; 47/48] END max_depth=20, n_estimators=50;, score=-1690.499 total time= 1.2min\n",
      "[CV 2/3; 47/48] START max_depth=20, n_estimators=50.............................\n",
      "[CV 2/3; 47/48] END max_depth=20, n_estimators=50;, score=-1697.877 total time= 1.2min\n",
      "[CV 3/3; 47/48] START max_depth=20, n_estimators=50.............................\n",
      "[CV 3/3; 47/48] END max_depth=20, n_estimators=50;, score=-1706.977 total time= 1.3min\n",
      "[CV 1/3; 48/48] START max_depth=20, n_estimators=55.............................\n",
      "[CV 1/3; 48/48] END max_depth=20, n_estimators=55;, score=-1689.800 total time= 1.4min\n",
      "[CV 2/3; 48/48] START max_depth=20, n_estimators=55.............................\n",
      "[CV 2/3; 48/48] END max_depth=20, n_estimators=55;, score=-1696.929 total time= 2.0min\n",
      "[CV 3/3; 48/48] START max_depth=20, n_estimators=55.............................\n",
      "[CV 3/3; 48/48] END max_depth=20, n_estimators=55;, score=-1705.370 total time= 1.7min\n",
      "Наилучшая метрика: -1695.640682394319  при значении гиперпараметра: {'max_depth': 18, 'n_estimators': 55}\n"
     ]
    }
   ],
   "source": [
    "parametrs_rf = {'n_estimators': range(20, 56, 5), 'max_depth': range(10, 21, 2)}\n",
    "\n",
    "grid_rf = GridSearchCV(RandomForestRegressor(random_state=12345), parametrs_rf, scoring='neg_root_mean_squared_error', cv=3, verbose=10)\n",
    "grid_rf.fit(features_train_scaled_wm, target_train_wm)\n",
    "\n",
    "print('Наилучшая метрика:',  grid_rf.best_score_, ' при значении гиперпараметра:', grid_rf.best_params_)"
   ]
  },
  {
   "cell_type": "code",
   "execution_count": 75,
   "metadata": {},
   "outputs": [
    {
     "data": {
      "text/plain": [
       "18"
      ]
     },
     "execution_count": 75,
     "metadata": {},
     "output_type": "execute_result"
    }
   ],
   "source": [
    "grid_rf.best_params_['max_depth']"
   ]
  },
  {
   "cell_type": "code",
   "execution_count": 76,
   "metadata": {},
   "outputs": [
    {
     "data": {
      "text/plain": [
       "55"
      ]
     },
     "execution_count": 76,
     "metadata": {},
     "output_type": "execute_result"
    }
   ],
   "source": [
    "grid_rf.best_params_['n_estimators']"
   ]
  },
  {
   "cell_type": "markdown",
   "metadata": {},
   "source": [
    "Как видно из полученных данных, наилучший результат прогноза достигается при глубине 18 и количестве деревьев 55. При этом с ростом количества деревьев качество метрики растет, однако при увеличиении количества деревьев с величины 30 и далее точность прогноза растет, но незначительно, однако время обучения и прогнозирования при этом растет."
   ]
  },
  {
   "cell_type": "code",
   "execution_count": 77,
   "metadata": {},
   "outputs": [],
   "source": [
    "best_est_rf = grid_rf.best_params_['n_estimators']\n",
    "best_depht_rf = grid_rf.best_params_['max_depth']"
   ]
  },
  {
   "cell_type": "markdown",
   "metadata": {},
   "source": [
    "Принятая к анализу модель случайного леса будет выглядеть следующим образом."
   ]
  },
  {
   "cell_type": "code",
   "execution_count": 78,
   "metadata": {},
   "outputs": [],
   "source": [
    "model_rf = RandomForestRegressor(random_state=12345, n_estimators=best_est_rf, max_depth=best_depht_rf)"
   ]
  },
  {
   "cell_type": "markdown",
   "metadata": {},
   "source": [
    "### Модель градиентного бустинга"
   ]
  },
  {
   "cell_type": "markdown",
   "metadata": {},
   "source": [
    "Построим модель градиентного бустинга на базе библиотеки LightGBM и подберем ее оптимальные гиперпараметры. Ввиду большого времени  обучения подберем 2-3 параметра. Подбор парметров будем проводить на оносвании признаков, полученных прямым кодированием (для \"деревянных моделей\")."
   ]
  },
  {
   "cell_type": "markdown",
   "metadata": {},
   "source": [
    "Для передачи модели категориальных признаков в исходном виде изменим их тип с 'object' на 'category'."
   ]
  },
  {
   "cell_type": "code",
   "execution_count": 79,
   "metadata": {},
   "outputs": [],
   "source": [
    "cat_features = ['VehicleType', 'Gearbox', 'Model', 'FuelType', 'Brand', 'NotRepaired']\n",
    "\n",
    "features_gb = features\n",
    "\n",
    "for c in cat_features:\n",
    "    features_gb[c] = features[c].astype('category')"
   ]
  },
  {
   "cell_type": "code",
   "execution_count": 80,
   "metadata": {},
   "outputs": [],
   "source": [
    "features_train_gb, target_train_gb, features_valid_gb, target_valid_gb, features_test_gb, target_test_gb = sample_trn_tst_val(features_gb, target)"
   ]
  },
  {
   "cell_type": "code",
   "execution_count": 81,
   "metadata": {},
   "outputs": [],
   "source": [
    "scaler.fit(features_train_gb[['RegistrationYear', 'Power', 'Kilometer', 'RegistrationMonth']]) \n",
    "\n",
    "features_train_gb[['RegistrationYear', 'Power', 'Kilometer', 'RegistrationMonth']] = scaler.transform(features_train_gb[['RegistrationYear', 'Power', 'Kilometer', 'RegistrationMonth']])\n",
    "features_test_gb[['RegistrationYear', 'Power', 'Kilometer', 'RegistrationMonth']]= scaler.transform(features_test_gb[['RegistrationYear', 'Power', 'Kilometer', 'RegistrationMonth']])\n",
    "features_valid_gb[['RegistrationYear', 'Power', 'Kilometer', 'RegistrationMonth']] = scaler.transform(features_valid_gb[['RegistrationYear', 'Power', 'Kilometer', 'RegistrationMonth']])\n",
    "\n",
    "pd.options.mode.chained_assignment = None"
   ]
  },
  {
   "cell_type": "code",
   "execution_count": 82,
   "metadata": {
    "scrolled": true
   },
   "outputs": [
    {
     "name": "stdout",
     "output_type": "stream",
     "text": [
      "Fitting 3 folds for each of 25 candidates, totalling 75 fits\n",
      "[CV 1/3; 1/25] START n_estimators=100, num_leaves=50............................\n",
      "[CV 1/3; 1/25] END n_estimators=100, num_leaves=50;, score=-1639.137 total time=   4.2s\n",
      "[CV 2/3; 1/25] START n_estimators=100, num_leaves=50............................\n",
      "[CV 2/3; 1/25] END n_estimators=100, num_leaves=50;, score=-1657.273 total time=   2.4s\n",
      "[CV 3/3; 1/25] START n_estimators=100, num_leaves=50............................\n",
      "[CV 3/3; 1/25] END n_estimators=100, num_leaves=50;, score=-1656.596 total time=   2.9s\n",
      "[CV 1/3; 2/25] START n_estimators=100, num_leaves=75............................\n",
      "[CV 1/3; 2/25] END n_estimators=100, num_leaves=75;, score=-1622.860 total time=   3.3s\n",
      "[CV 2/3; 2/25] START n_estimators=100, num_leaves=75............................\n",
      "[CV 2/3; 2/25] END n_estimators=100, num_leaves=75;, score=-1638.101 total time=   4.1s\n",
      "[CV 3/3; 2/25] START n_estimators=100, num_leaves=75............................\n",
      "[CV 3/3; 2/25] END n_estimators=100, num_leaves=75;, score=-1632.132 total time=   3.5s\n",
      "[CV 1/3; 3/25] START n_estimators=100, num_leaves=100...........................\n",
      "[CV 1/3; 3/25] END n_estimators=100, num_leaves=100;, score=-1610.233 total time=   3.0s\n",
      "[CV 2/3; 3/25] START n_estimators=100, num_leaves=100...........................\n",
      "[CV 2/3; 3/25] END n_estimators=100, num_leaves=100;, score=-1624.982 total time=   3.0s\n",
      "[CV 3/3; 3/25] START n_estimators=100, num_leaves=100...........................\n",
      "[CV 3/3; 3/25] END n_estimators=100, num_leaves=100;, score=-1622.692 total time=   7.3s\n",
      "[CV 1/3; 4/25] START n_estimators=100, num_leaves=125...........................\n",
      "[CV 1/3; 4/25] END n_estimators=100, num_leaves=125;, score=-1603.615 total time=  10.2s\n",
      "[CV 2/3; 4/25] START n_estimators=100, num_leaves=125...........................\n",
      "[CV 2/3; 4/25] END n_estimators=100, num_leaves=125;, score=-1621.445 total time=   8.5s\n",
      "[CV 3/3; 4/25] START n_estimators=100, num_leaves=125...........................\n",
      "[CV 3/3; 4/25] END n_estimators=100, num_leaves=125;, score=-1614.487 total time=   5.1s\n",
      "[CV 1/3; 5/25] START n_estimators=100, num_leaves=150...........................\n",
      "[CV 1/3; 5/25] END n_estimators=100, num_leaves=150;, score=-1599.916 total time=   7.4s\n",
      "[CV 2/3; 5/25] START n_estimators=100, num_leaves=150...........................\n",
      "[CV 2/3; 5/25] END n_estimators=100, num_leaves=150;, score=-1612.110 total time=   9.3s\n",
      "[CV 3/3; 5/25] START n_estimators=100, num_leaves=150...........................\n",
      "[CV 3/3; 5/25] END n_estimators=100, num_leaves=150;, score=-1605.446 total time=   5.6s\n",
      "[CV 1/3; 6/25] START n_estimators=150, num_leaves=50............................\n",
      "[CV 1/3; 6/25] END n_estimators=150, num_leaves=50;, score=-1622.870 total time=   4.8s\n",
      "[CV 2/3; 6/25] START n_estimators=150, num_leaves=50............................\n",
      "[CV 2/3; 6/25] END n_estimators=150, num_leaves=50;, score=-1640.001 total time=   3.7s\n",
      "[CV 3/3; 6/25] START n_estimators=150, num_leaves=50............................\n",
      "[CV 3/3; 6/25] END n_estimators=150, num_leaves=50;, score=-1636.365 total time=   3.5s\n",
      "[CV 1/3; 7/25] START n_estimators=150, num_leaves=75............................\n",
      "[CV 1/3; 7/25] END n_estimators=150, num_leaves=75;, score=-1608.197 total time=   6.7s\n",
      "[CV 2/3; 7/25] START n_estimators=150, num_leaves=75............................\n",
      "[CV 2/3; 7/25] END n_estimators=150, num_leaves=75;, score=-1622.974 total time=   7.6s\n",
      "[CV 3/3; 7/25] START n_estimators=150, num_leaves=75............................\n",
      "[CV 3/3; 7/25] END n_estimators=150, num_leaves=75;, score=-1615.573 total time=   6.6s\n",
      "[CV 1/3; 8/25] START n_estimators=150, num_leaves=100...........................\n",
      "[CV 1/3; 8/25] END n_estimators=150, num_leaves=100;, score=-1596.918 total time=   5.0s\n",
      "[CV 2/3; 8/25] START n_estimators=150, num_leaves=100...........................\n",
      "[CV 2/3; 8/25] END n_estimators=150, num_leaves=100;, score=-1612.161 total time=   4.8s\n",
      "[CV 3/3; 8/25] START n_estimators=150, num_leaves=100...........................\n",
      "[CV 3/3; 8/25] END n_estimators=150, num_leaves=100;, score=-1610.904 total time=   6.6s\n",
      "[CV 1/3; 9/25] START n_estimators=150, num_leaves=125...........................\n",
      "[CV 1/3; 9/25] END n_estimators=150, num_leaves=125;, score=-1594.569 total time=   6.7s\n",
      "[CV 2/3; 9/25] START n_estimators=150, num_leaves=125...........................\n",
      "[CV 2/3; 9/25] END n_estimators=150, num_leaves=125;, score=-1611.081 total time=   9.6s\n",
      "[CV 3/3; 9/25] START n_estimators=150, num_leaves=125...........................\n",
      "[CV 3/3; 9/25] END n_estimators=150, num_leaves=125;, score=-1604.493 total time=  11.4s\n",
      "[CV 1/3; 10/25] START n_estimators=150, num_leaves=150..........................\n",
      "[CV 1/3; 10/25] END n_estimators=150, num_leaves=150;, score=-1590.643 total time=   6.7s\n",
      "[CV 2/3; 10/25] START n_estimators=150, num_leaves=150..........................\n",
      "[CV 2/3; 10/25] END n_estimators=150, num_leaves=150;, score=-1602.345 total time=   5.1s\n",
      "[CV 3/3; 10/25] START n_estimators=150, num_leaves=150..........................\n",
      "[CV 3/3; 10/25] END n_estimators=150, num_leaves=150;, score=-1597.606 total time=   7.3s\n",
      "[CV 1/3; 11/25] START n_estimators=200, num_leaves=50...........................\n",
      "[CV 1/3; 11/25] END n_estimators=200, num_leaves=50;, score=-1613.116 total time=   4.4s\n",
      "[CV 2/3; 11/25] START n_estimators=200, num_leaves=50...........................\n",
      "[CV 2/3; 11/25] END n_estimators=200, num_leaves=50;, score=-1629.843 total time=   3.9s\n",
      "[CV 3/3; 11/25] START n_estimators=200, num_leaves=50...........................\n",
      "[CV 3/3; 11/25] END n_estimators=200, num_leaves=50;, score=-1627.928 total time=   5.4s\n",
      "[CV 1/3; 12/25] START n_estimators=200, num_leaves=75...........................\n",
      "[CV 1/3; 12/25] END n_estimators=200, num_leaves=75;, score=-1600.335 total time=   5.4s\n",
      "[CV 2/3; 12/25] START n_estimators=200, num_leaves=75...........................\n",
      "[CV 2/3; 12/25] END n_estimators=200, num_leaves=75;, score=-1615.409 total time=   4.2s\n",
      "[CV 3/3; 12/25] START n_estimators=200, num_leaves=75...........................\n",
      "[CV 3/3; 12/25] END n_estimators=200, num_leaves=75;, score=-1608.500 total time=   5.4s\n",
      "[CV 1/3; 13/25] START n_estimators=200, num_leaves=100..........................\n",
      "[CV 1/3; 13/25] END n_estimators=200, num_leaves=100;, score=-1591.262 total time=   6.1s\n",
      "[CV 2/3; 13/25] START n_estimators=200, num_leaves=100..........................\n",
      "[CV 2/3; 13/25] END n_estimators=200, num_leaves=100;, score=-1607.099 total time=   5.6s\n",
      "[CV 3/3; 13/25] START n_estimators=200, num_leaves=100..........................\n",
      "[CV 3/3; 13/25] END n_estimators=200, num_leaves=100;, score=-1604.119 total time=   7.7s\n",
      "[CV 1/3; 14/25] START n_estimators=200, num_leaves=125..........................\n",
      "[CV 1/3; 14/25] END n_estimators=200, num_leaves=125;, score=-1589.130 total time=   6.2s\n",
      "[CV 2/3; 14/25] START n_estimators=200, num_leaves=125..........................\n",
      "[CV 2/3; 14/25] END n_estimators=200, num_leaves=125;, score=-1605.626 total time=   7.7s\n",
      "[CV 3/3; 14/25] START n_estimators=200, num_leaves=125..........................\n",
      "[CV 3/3; 14/25] END n_estimators=200, num_leaves=125;, score=-1600.346 total time=   6.4s\n",
      "[CV 1/3; 15/25] START n_estimators=200, num_leaves=150..........................\n",
      "[CV 1/3; 15/25] END n_estimators=200, num_leaves=150;, score=-1586.654 total time=   7.6s\n",
      "[CV 2/3; 15/25] START n_estimators=200, num_leaves=150..........................\n",
      "[CV 2/3; 15/25] END n_estimators=200, num_leaves=150;, score=-1598.558 total time=   8.9s\n",
      "[CV 3/3; 15/25] START n_estimators=200, num_leaves=150..........................\n",
      "[CV 3/3; 15/25] END n_estimators=200, num_leaves=150;, score=-1593.561 total time=   7.9s\n",
      "[CV 1/3; 16/25] START n_estimators=250, num_leaves=50...........................\n",
      "[CV 1/3; 16/25] END n_estimators=250, num_leaves=50;, score=-1608.396 total time=   5.4s\n",
      "[CV 2/3; 16/25] START n_estimators=250, num_leaves=50...........................\n",
      "[CV 2/3; 16/25] END n_estimators=250, num_leaves=50;, score=-1622.650 total time=   4.4s\n",
      "[CV 3/3; 16/25] START n_estimators=250, num_leaves=50...........................\n",
      "[CV 3/3; 16/25] END n_estimators=250, num_leaves=50;, score=-1620.843 total time=   6.0s\n",
      "[CV 1/3; 17/25] START n_estimators=250, num_leaves=75...........................\n"
     ]
    },
    {
     "name": "stdout",
     "output_type": "stream",
     "text": [
      "[CV 1/3; 17/25] END n_estimators=250, num_leaves=75;, score=-1595.048 total time=   6.0s\n",
      "[CV 2/3; 17/25] START n_estimators=250, num_leaves=75...........................\n",
      "[CV 2/3; 17/25] END n_estimators=250, num_leaves=75;, score=-1608.349 total time=   5.8s\n",
      "[CV 3/3; 17/25] START n_estimators=250, num_leaves=75...........................\n",
      "[CV 3/3; 17/25] END n_estimators=250, num_leaves=75;, score=-1604.478 total time=   7.4s\n",
      "[CV 1/3; 18/25] START n_estimators=250, num_leaves=100..........................\n",
      "[CV 1/3; 18/25] END n_estimators=250, num_leaves=100;, score=-1588.120 total time=   6.2s\n",
      "[CV 2/3; 18/25] START n_estimators=250, num_leaves=100..........................\n",
      "[CV 2/3; 18/25] END n_estimators=250, num_leaves=100;, score=-1603.056 total time=   8.9s\n",
      "[CV 3/3; 18/25] START n_estimators=250, num_leaves=100..........................\n",
      "[CV 3/3; 18/25] END n_estimators=250, num_leaves=100;, score=-1600.050 total time=   7.2s\n",
      "[CV 1/3; 19/25] START n_estimators=250, num_leaves=125..........................\n",
      "[CV 1/3; 19/25] END n_estimators=250, num_leaves=125;, score=-1585.950 total time=  10.3s\n",
      "[CV 2/3; 19/25] START n_estimators=250, num_leaves=125..........................\n",
      "[CV 2/3; 19/25] END n_estimators=250, num_leaves=125;, score=-1602.257 total time=   8.9s\n",
      "[CV 3/3; 19/25] START n_estimators=250, num_leaves=125..........................\n",
      "[CV 3/3; 19/25] END n_estimators=250, num_leaves=125;, score=-1596.483 total time=   9.8s\n",
      "[CV 1/3; 20/25] START n_estimators=250, num_leaves=150..........................\n",
      "[CV 1/3; 20/25] END n_estimators=250, num_leaves=150;, score=-1585.070 total time=  12.2s\n",
      "[CV 2/3; 20/25] START n_estimators=250, num_leaves=150..........................\n",
      "[CV 2/3; 20/25] END n_estimators=250, num_leaves=150;, score=-1596.498 total time=   9.8s\n",
      "[CV 3/3; 20/25] START n_estimators=250, num_leaves=150..........................\n",
      "[CV 3/3; 20/25] END n_estimators=250, num_leaves=150;, score=-1591.153 total time=  11.6s\n",
      "[CV 1/3; 21/25] START n_estimators=300, num_leaves=50...........................\n",
      "[CV 1/3; 21/25] END n_estimators=300, num_leaves=50;, score=-1601.802 total time=   7.3s\n",
      "[CV 2/3; 21/25] START n_estimators=300, num_leaves=50...........................\n",
      "[CV 2/3; 21/25] END n_estimators=300, num_leaves=50;, score=-1617.735 total time=   6.5s\n",
      "[CV 3/3; 21/25] START n_estimators=300, num_leaves=50...........................\n",
      "[CV 3/3; 21/25] END n_estimators=300, num_leaves=50;, score=-1616.441 total time=   7.1s\n",
      "[CV 1/3; 22/25] START n_estimators=300, num_leaves=75...........................\n",
      "[CV 1/3; 22/25] END n_estimators=300, num_leaves=75;, score=-1590.029 total time=   8.2s\n",
      "[CV 2/3; 22/25] START n_estimators=300, num_leaves=75...........................\n",
      "[CV 2/3; 22/25] END n_estimators=300, num_leaves=75;, score=-1605.901 total time=   7.9s\n",
      "[CV 3/3; 22/25] START n_estimators=300, num_leaves=75...........................\n",
      "[CV 3/3; 22/25] END n_estimators=300, num_leaves=75;, score=-1599.480 total time=   8.1s\n",
      "[CV 1/3; 23/25] START n_estimators=300, num_leaves=100..........................\n",
      "[CV 1/3; 23/25] END n_estimators=300, num_leaves=100;, score=-1586.470 total time=  10.5s\n",
      "[CV 2/3; 23/25] START n_estimators=300, num_leaves=100..........................\n",
      "[CV 2/3; 23/25] END n_estimators=300, num_leaves=100;, score=-1600.052 total time=   9.7s\n",
      "[CV 3/3; 23/25] START n_estimators=300, num_leaves=100..........................\n",
      "[CV 3/3; 23/25] END n_estimators=300, num_leaves=100;, score=-1598.345 total time=  10.9s\n",
      "[CV 1/3; 24/25] START n_estimators=300, num_leaves=125..........................\n",
      "[CV 1/3; 24/25] END n_estimators=300, num_leaves=125;, score=-1585.040 total time=  13.2s\n",
      "[CV 2/3; 24/25] START n_estimators=300, num_leaves=125..........................\n",
      "[CV 2/3; 24/25] END n_estimators=300, num_leaves=125;, score=-1600.558 total time=  11.9s\n",
      "[CV 3/3; 24/25] START n_estimators=300, num_leaves=125..........................\n",
      "[CV 3/3; 24/25] END n_estimators=300, num_leaves=125;, score=-1593.638 total time=  12.0s\n",
      "[CV 1/3; 25/25] START n_estimators=300, num_leaves=150..........................\n",
      "[CV 1/3; 25/25] END n_estimators=300, num_leaves=150;, score=-1583.494 total time=  13.5s\n",
      "[CV 2/3; 25/25] START n_estimators=300, num_leaves=150..........................\n",
      "[CV 2/3; 25/25] END n_estimators=300, num_leaves=150;, score=-1595.145 total time=  13.9s\n",
      "[CV 3/3; 25/25] START n_estimators=300, num_leaves=150..........................\n",
      "[CV 3/3; 25/25] END n_estimators=300, num_leaves=150;, score=-1588.705 total time=  14.6s\n",
      "Наилучшая метрика: -1589.1147975107244  при значении гиперпараметра: {'n_estimators': 300, 'num_leaves': 150}\n"
     ]
    }
   ],
   "source": [
    "parametrs_gb = {'n_estimators': range(100, 301, 50), 'num_leaves': range(50, 151, 25)}\n",
    "\n",
    "grid_gb = GridSearchCV(LGBMRegressor(boosting_type='gbdt'), parametrs_gb, scoring='neg_root_mean_squared_error', cv=3, verbose=10)\n",
    "grid_gb.fit(features_train_gb, target_train_gb)\n",
    "\n",
    "print('Наилучшая метрика:',  grid_gb.best_score_, ' при значении гиперпараметра:', grid_gb.best_params_)"
   ]
  },
  {
   "cell_type": "code",
   "execution_count": 83,
   "metadata": {},
   "outputs": [
    {
     "data": {
      "text/plain": [
       "150"
      ]
     },
     "execution_count": 83,
     "metadata": {},
     "output_type": "execute_result"
    }
   ],
   "source": [
    "grid_gb.best_params_['num_leaves']"
   ]
  },
  {
   "cell_type": "code",
   "execution_count": 84,
   "metadata": {},
   "outputs": [
    {
     "data": {
      "text/plain": [
       "300"
      ]
     },
     "execution_count": 84,
     "metadata": {},
     "output_type": "execute_result"
    }
   ],
   "source": [
    "grid_gb.best_params_['n_estimators']"
   ]
  },
  {
   "cell_type": "code",
   "execution_count": 85,
   "metadata": {},
   "outputs": [],
   "source": [
    "best_est_gb = grid_gb.best_params_['n_estimators']\n",
    "best_num_leaves_gb = grid_gb.best_params_['num_leaves']"
   ]
  },
  {
   "cell_type": "markdown",
   "metadata": {},
   "source": [
    "Принятая к анализу модель градиентного бустинга будет выглядеть следующим образом."
   ]
  },
  {
   "cell_type": "code",
   "execution_count": 86,
   "metadata": {},
   "outputs": [],
   "source": [
    "model_lgmb = LGBMRegressor(boosting_type='gbdt', num_leaves=best_num_leaves_gb, n_estimators=best_est_gb)"
   ]
  },
  {
   "cell_type": "markdown",
   "metadata": {},
   "source": [
    "### Вывод"
   ]
  },
  {
   "cell_type": "markdown",
   "metadata": {},
   "source": [
    "Для обучения моделей произведена кодировка обучающего набора признаков различными способами: для линейной регреcсии - прямое каодирование, для моделей \"решающего дерева\", \"случайного леса\" и градиентного бустинга - порядковой кодирование. \n",
    "\n",
    "Произведен подбор оптимальных гиперпараметров для каждой из моделей для последующего сравнительного анализа"
   ]
  },
  {
   "cell_type": "markdown",
   "metadata": {},
   "source": [
    "## Анализ моделей"
   ]
  },
  {
   "cell_type": "markdown",
   "metadata": {},
   "source": [
    "### Сравнительный анализ моделей"
   ]
  },
  {
   "cell_type": "markdown",
   "metadata": {},
   "source": [
    "Проведем сравнительный анализ полученных моделей обучения на основании времени обучения, времени предсказания и точности прогноза по метрике RMSE. Тестирование будем выполнять на тестовых частях полученных выборок.\n",
    "\n",
    "Напишем цикл для получения сводных данных."
   ]
  },
  {
   "cell_type": "code",
   "execution_count": 87,
   "metadata": {
    "scrolled": true
   },
   "outputs": [
    {
     "name": "stdout",
     "output_type": "stream",
     "text": [
      "Время обучения: LinearRegression() 4.339703798294067\n",
      "Время прогнозирования: LinearRegression() 0.1405799388885498\n",
      "Точность прогноза: -2981.1667997851864\n",
      "\n",
      "Время обучения: DecisionTreeRegressor(max_depth=13, random_state=12345) 2.392277479171753\n",
      "Время прогнозирования: DecisionTreeRegressor(max_depth=13, random_state=12345) 0.062478065490722656\n",
      "Точность прогноза: -2180.025489769267\n",
      "\n",
      "Время обучения: RandomForestRegressor(max_depth=18, n_estimators=55, random_state=12345) 115.39454126358032\n",
      "Время прогнозирования: RandomForestRegressor(max_depth=18, n_estimators=55, random_state=12345) 1.9081809520721436\n",
      "Точность прогноза: -1804.3189714279179\n",
      "\n",
      "Время обучения: LGBMRegressor(n_estimators=300, num_leaves=150) 9.56231951713562\n",
      "Время прогнозирования: LGBMRegressor(n_estimators=300, num_leaves=150) 5.907241582870483\n",
      "Точность прогноза: -1640.273761012766\n",
      "\n"
     ]
    }
   ],
   "source": [
    "fit_time = []\n",
    "predict_time = []\n",
    "rmse_mean = []\n",
    "\n",
    "for i in [model_lr, model_dt, model_rf, model_lgmb]:\n",
    "    if i == model_lr:\n",
    "        fit_set  = [features_train_scaled_lr, target_train_lr]\n",
    "        valid_set = [features_valid_scaled_lr, target_valid_lr]\n",
    "    elif i == model_lgmb:\n",
    "        fit_set  = [features_train_gb, target_train_gb]\n",
    "        valid_set = [features_valid_gb, target_valid_gb]\n",
    "    else:\n",
    "        fit_set  = [features_train_scaled_wm, target_train_wm]\n",
    "        valid_set = [features_test_scaled_wm, target_test_wm]\n",
    "    \n",
    "    startTime_fit= time.time() # время начала замера\n",
    "    i.fit(fit_set[0], fit_set[1])\n",
    "    endTime_fit = time.time() #время конца замера\n",
    "    totalTime_fit = endTime_fit - startTime_fit #вычисляем затраченное время\n",
    "    print('Время обучения:', i, totalTime_fit)\n",
    "    \n",
    "    startTime_predict = time.time() # время начала замера\n",
    "    i.predict(valid_set[0])\n",
    "    endTime_predict = time.time() #время конца замера\n",
    "    totalTime_predict = endTime_predict - startTime_predict #вычисляем затраченное время\n",
    "    print('Время прогнозирования:', i, totalTime_predict)\n",
    "    \n",
    "    rmse = cross_val_score(i, valid_set[0], valid_set[1], cv=5, scoring='neg_root_mean_squared_error').mean()\n",
    "    #rmse = mean_squared_error(test_set[1],  i.predict(test_set[0]),  squared=False)\n",
    "    print('Точность прогноза:', rmse)\n",
    "    \n",
    "    print()\n",
    "    \n",
    "    fit_time.append(totalTime_fit)\n",
    "    predict_time.append(totalTime_predict)\n",
    "    rmse_mean.append(rmse) "
   ]
  },
  {
   "cell_type": "code",
   "execution_count": 88,
   "metadata": {},
   "outputs": [],
   "source": [
    "compare = {'Lenear Regression':[fit_time[0], predict_time[0], rmse_mean[0]], \n",
    "           'Dicision Tree':[fit_time[1], predict_time[1], rmse_mean[1]], \n",
    "           'Random Forest':[fit_time[2], predict_time[2], rmse_mean[2]], \n",
    "           'Gradient Boosting(LGBMachine)':[fit_time[3], predict_time[3], rmse_mean[3]]}\n",
    "\n",
    "compare_df = pd.DataFrame(compare, index=['Время обучения', 'Время прогоноза', 'RMSE'])"
   ]
  },
  {
   "cell_type": "code",
   "execution_count": 89,
   "metadata": {},
   "outputs": [
    {
     "data": {
      "text/html": [
       "<div>\n",
       "<style scoped>\n",
       "    .dataframe tbody tr th:only-of-type {\n",
       "        vertical-align: middle;\n",
       "    }\n",
       "\n",
       "    .dataframe tbody tr th {\n",
       "        vertical-align: top;\n",
       "    }\n",
       "\n",
       "    .dataframe thead th {\n",
       "        text-align: right;\n",
       "    }\n",
       "</style>\n",
       "<table border=\"1\" class=\"dataframe\">\n",
       "  <thead>\n",
       "    <tr style=\"text-align: right;\">\n",
       "      <th></th>\n",
       "      <th>Lenear Regression</th>\n",
       "      <th>Dicision Tree</th>\n",
       "      <th>Random Forest</th>\n",
       "      <th>Gradient Boosting(LGBMachine)</th>\n",
       "    </tr>\n",
       "  </thead>\n",
       "  <tbody>\n",
       "    <tr>\n",
       "      <th>Время обучения</th>\n",
       "      <td>4.339704</td>\n",
       "      <td>2.392277</td>\n",
       "      <td>115.394541</td>\n",
       "      <td>9.562320</td>\n",
       "    </tr>\n",
       "    <tr>\n",
       "      <th>Время прогоноза</th>\n",
       "      <td>0.140580</td>\n",
       "      <td>0.062478</td>\n",
       "      <td>1.908181</td>\n",
       "      <td>5.907242</td>\n",
       "    </tr>\n",
       "    <tr>\n",
       "      <th>RMSE</th>\n",
       "      <td>-2981.166800</td>\n",
       "      <td>-2180.025490</td>\n",
       "      <td>-1804.318971</td>\n",
       "      <td>-1640.273761</td>\n",
       "    </tr>\n",
       "  </tbody>\n",
       "</table>\n",
       "</div>"
      ],
      "text/plain": [
       "                 Lenear Regression  Dicision Tree  Random Forest  \\\n",
       "Время обучения            4.339704       2.392277     115.394541   \n",
       "Время прогоноза           0.140580       0.062478       1.908181   \n",
       "RMSE                  -2981.166800   -2180.025490   -1804.318971   \n",
       "\n",
       "                 Gradient Boosting(LGBMachine)  \n",
       "Время обучения                        9.562320  \n",
       "Время прогоноза                       5.907242  \n",
       "RMSE                              -1640.273761  "
      ]
     },
     "execution_count": 89,
     "metadata": {},
     "output_type": "execute_result"
    }
   ],
   "source": [
    "compare_df"
   ]
  },
  {
   "cell_type": "markdown",
   "metadata": {},
   "source": [
    "Анализ сводных результатов показывает, что наилучшим качеством метрики обладает модель градиентного бустинга (neg_RMSE=-1640), наихудшим - модель линейной регресии (neg_RMSE=-2981). \n",
    "\n",
    "Наименьшее время обучения у модели \"решающего дерева\", далее по возрастанию - время  обучения линейной регресии , градиентного  бустинга, и наибольшее - у \"случайного леса\".\n",
    "\n",
    "Наименьшее время прогноза у модели \"решающего дерева\", далее по возрастанию - время прогонозирования линейной регресии, \"случайного леса\"  и  наибольшее - у градиентного бустинга."
   ]
  },
  {
   "cell_type": "markdown",
   "metadata": {},
   "source": [
    "### Тестирование наилучшей модели на тестовой выборке"
   ]
  },
  {
   "cell_type": "markdown",
   "metadata": {},
   "source": [
    "Протестируем наилучшую с точки зрения качества модель на тестовой выборке."
   ]
  },
  {
   "cell_type": "code",
   "execution_count": 90,
   "metadata": {},
   "outputs": [
    {
     "name": "stdout",
     "output_type": "stream",
     "text": [
      "RMSE LGBMRegressor: 1569.4586614096213\n"
     ]
    }
   ],
   "source": [
    "rmse = mean_squared_error(target_test_gb,  model_lgmb.predict(features_test_gb),  squared=False)\n",
    "print('RMSE LGBMRegressor:', rmse)"
   ]
  },
  {
   "cell_type": "markdown",
   "metadata": {},
   "source": [
    "Как видно из результатов тестирования на тестовой выборки метрика RMSE выше средней, определенной на кроссвалидации."
   ]
  },
  {
   "cell_type": "markdown",
   "metadata": {},
   "source": [
    "### Вывод"
   ]
  },
  {
   "cell_type": "markdown",
   "metadata": {},
   "source": [
    "Наилучшим качеством метрики обладает модель градиентного бустинга, однако она достаточно времязатратна с точки зрения обучения модели и получения прогноза. Самая быстрообучаемая и прогонозирующая модель - модель \"решающего дерева\", однако ее точность с точки зрения выбраной метрики не достаточно велика. Вероятно, наиболее оптимальной моделью является модель градиентного бустинга как с точки зрения точности, так и с точки зрения временных затрат."
   ]
  },
  {
   "cell_type": "markdown",
   "metadata": {},
   "source": [
    "## Вывод"
   ]
  },
  {
   "cell_type": "markdown",
   "metadata": {},
   "source": [
    "Цель проекта - построение оптимальной модели прогонозирования для определении стоимости автомобиля. База исследования - файл формата CSV, содержащий цену, технические данные и прочие описательные данные объявлений.\n",
    "\n",
    "В ходе подготовки данных выполнены следующие операции:\n",
    "- В 5 из 16 столбцов ('VehicleType', 'Gearbox', 'Model', 'FuelType', 'NotRepaired') обнаружены пропуски значений - произведена замена пропусков на значения, обозначающие отсутсвие информации по данным признакам.\n",
    " \n",
    " \n",
    " - Обнаружены 4 строки, которые являются полными дубликатами - строки удалены.\n",
    " \n",
    " \n",
    " - Строки с ценой автомобиля менее 100 евро (в столбце 'Price') удалены.\n",
    " \n",
    " \n",
    " - В столбце 'RegistrationYear' обнаружены аномальные значения года регистрации автомобиля - строки включаюшие сроки регистрации раньше 1900 года и позже 2016 года удалены.\n",
    " \n",
    " \n",
    " - В стобце 'RegistrationMonth\t месяц регистрации обнаружены значения 0 - заменены на 1.\n",
    " \n",
    " \n",
    " - В столбце 'Power' (мощность в лошадиных силах) обнаружены сверхмалые значения (0) - заменены на среднее значение мощности для модели; сверхбольшие значения (более 600) - строки удалены.\n",
    " \n",
    "  \n",
    "\n",
    " - Произведенно выделение целевого признака (target) - столбец 'Price' (цена)- и признаков (features) для моделей обучения ('VehicleType', 'RegistrationYear', 'Gearbox', 'Power', 'Model','Kilometer', 'RegistrationMonth', 'FuelType', 'Brand', 'NotRepaired', 'PostalCode'), включающие только характеристики автомобиля и индекс владельца\n",
    " \n",
    " - Признаки и целевой признак разбиты на обучающую, валидационную и тестовые выборки в соотношенн 3/1/1.\n",
    "\n",
    " - Категориальные признаки ('VehicleType', 'Gearbox', 'Model', 'FuelType', 'Brand', 'NotRepaired') закодированы методами прямого кодирования OHE (для модели линейной регрессии), бинарного кодирования (признак 'Model' для линейной регрессии) и порядкового кодирования OE (для остальных моделей). Проведено масштабирования признаков.\n",
    " \n",
    " \n",
    " Для рассматриваемых моделей регресии (\"решающее дерево\", \"случайный лес\", градиентный бустинг) произведено обучение и подбор оптимальных гиперпараметров на базе валидационной выборки.\n",
    " \n",
    " \n",
    " На базе тестовой выборки проведен анализ времен обучения, прогонозирования и метрики прогонозирования RMSE.\n",
    " \n",
    "Наилучшим качеством метрики обладает модель градиентного бустинга, но не является самой быстрореализуемой. Самая быстрообучаемая и прогонозирующая модель - модель \"решающего дерева\". Наиболее оптимальной моделью является модель  градиентного бустинга как с точки зрения точности, так и с точки зрения временных затрат."
   ]
  }
 ],
 "metadata": {
  "ExecuteTimeLog": [
   {
    "duration": 51,
    "start_time": "2022-04-25T13:01:27.463Z"
   },
   {
    "duration": 495,
    "start_time": "2022-04-25T13:01:30.702Z"
   },
   {
    "duration": 926,
    "start_time": "2022-04-25T13:01:31.198Z"
   },
   {
    "duration": 994,
    "start_time": "2022-04-25T13:02:14.759Z"
   },
   {
    "duration": 883,
    "start_time": "2022-04-25T13:04:54.462Z"
   },
   {
    "duration": 836,
    "start_time": "2022-04-25T13:09:06.054Z"
   },
   {
    "duration": 16,
    "start_time": "2022-04-25T13:09:38.991Z"
   },
   {
    "duration": 122,
    "start_time": "2022-04-25T13:17:10.134Z"
   },
   {
    "duration": 20,
    "start_time": "2022-04-25T13:25:05.929Z"
   },
   {
    "duration": 14,
    "start_time": "2022-04-25T13:26:06.268Z"
   },
   {
    "duration": 23,
    "start_time": "2022-04-25T13:26:22.738Z"
   },
   {
    "duration": 21,
    "start_time": "2022-04-25T13:28:01.812Z"
   },
   {
    "duration": 162,
    "start_time": "2022-04-25T13:28:01.836Z"
   },
   {
    "duration": 27,
    "start_time": "2022-04-25T13:28:02.000Z"
   },
   {
    "duration": 130,
    "start_time": "2022-04-25T13:28:21.398Z"
   },
   {
    "duration": 498,
    "start_time": "2022-04-25T13:29:01.440Z"
   },
   {
    "duration": 125,
    "start_time": "2022-04-25T13:33:39.994Z"
   },
   {
    "duration": 20,
    "start_time": "2022-04-25T13:42:12.995Z"
   },
   {
    "duration": 85,
    "start_time": "2022-04-25T18:12:28.493Z"
   },
   {
    "duration": 874,
    "start_time": "2022-04-25T18:12:41.719Z"
   },
   {
    "duration": 1692,
    "start_time": "2022-04-25T18:12:42.595Z"
   },
   {
    "duration": 234,
    "start_time": "2022-04-25T18:12:44.289Z"
   },
   {
    "duration": 47,
    "start_time": "2022-04-25T18:12:44.527Z"
   },
   {
    "duration": 871,
    "start_time": "2022-04-25T18:12:44.580Z"
   },
   {
    "duration": 223,
    "start_time": "2022-04-25T18:12:45.453Z"
   },
   {
    "duration": 44,
    "start_time": "2022-04-25T18:12:45.680Z"
   },
   {
    "duration": 3,
    "start_time": "2022-04-25T18:14:41.895Z"
   },
   {
    "duration": 29,
    "start_time": "2022-04-25T18:15:16.869Z"
   },
   {
    "duration": 14,
    "start_time": "2022-04-25T18:15:33.279Z"
   },
   {
    "duration": 232,
    "start_time": "2022-04-25T18:15:36.724Z"
   },
   {
    "duration": 82,
    "start_time": "2022-04-25T18:20:12.589Z"
   },
   {
    "duration": 22,
    "start_time": "2022-04-25T18:20:21.692Z"
   },
   {
    "duration": 2087,
    "start_time": "2022-04-25T18:50:48.823Z"
   },
   {
    "duration": 43,
    "start_time": "2022-04-25T18:50:50.912Z"
   },
   {
    "duration": 0,
    "start_time": "2022-04-25T18:50:50.957Z"
   },
   {
    "duration": 0,
    "start_time": "2022-04-25T18:50:50.958Z"
   },
   {
    "duration": 0,
    "start_time": "2022-04-25T18:50:50.959Z"
   },
   {
    "duration": 0,
    "start_time": "2022-04-25T18:50:50.960Z"
   },
   {
    "duration": 0,
    "start_time": "2022-04-25T18:50:50.961Z"
   },
   {
    "duration": 0,
    "start_time": "2022-04-25T18:50:50.962Z"
   },
   {
    "duration": 0,
    "start_time": "2022-04-25T18:50:50.963Z"
   },
   {
    "duration": 0,
    "start_time": "2022-04-25T18:50:50.964Z"
   },
   {
    "duration": 3,
    "start_time": "2022-04-25T18:51:08.122Z"
   },
   {
    "duration": 395,
    "start_time": "2022-04-25T18:51:09.511Z"
   },
   {
    "duration": 26,
    "start_time": "2022-04-25T18:51:14.025Z"
   },
   {
    "duration": 2062,
    "start_time": "2022-04-25T18:52:00.005Z"
   },
   {
    "duration": 9,
    "start_time": "2022-04-25T18:52:20.547Z"
   },
   {
    "duration": 2,
    "start_time": "2022-04-25T18:53:00.870Z"
   },
   {
    "duration": 3,
    "start_time": "2022-04-25T18:53:03.217Z"
   },
   {
    "duration": 2031,
    "start_time": "2022-04-25T18:53:07.500Z"
   },
   {
    "duration": 2,
    "start_time": "2022-04-25T18:53:10.061Z"
   },
   {
    "duration": 9,
    "start_time": "2022-04-25T18:53:12.139Z"
   },
   {
    "duration": 2057,
    "start_time": "2022-04-25T18:53:33.517Z"
   },
   {
    "duration": 2,
    "start_time": "2022-04-25T18:53:35.579Z"
   },
   {
    "duration": 9,
    "start_time": "2022-04-25T18:53:37.475Z"
   },
   {
    "duration": 2092,
    "start_time": "2022-04-25T18:55:20.975Z"
   },
   {
    "duration": 8,
    "start_time": "2022-04-25T18:55:31.066Z"
   },
   {
    "duration": 2004,
    "start_time": "2022-04-25T18:55:31.076Z"
   },
   {
    "duration": 367,
    "start_time": "2022-04-25T18:55:33.082Z"
   },
   {
    "duration": 59,
    "start_time": "2022-04-25T18:55:33.451Z"
   },
   {
    "duration": 0,
    "start_time": "2022-04-25T18:55:33.512Z"
   },
   {
    "duration": 0,
    "start_time": "2022-04-25T18:55:33.513Z"
   },
   {
    "duration": 0,
    "start_time": "2022-04-25T18:55:33.514Z"
   },
   {
    "duration": 0,
    "start_time": "2022-04-25T18:55:33.515Z"
   },
   {
    "duration": 0,
    "start_time": "2022-04-25T18:55:33.516Z"
   },
   {
    "duration": 0,
    "start_time": "2022-04-25T18:55:33.517Z"
   },
   {
    "duration": 7,
    "start_time": "2022-04-25T18:55:54.193Z"
   },
   {
    "duration": 7,
    "start_time": "2022-04-25T18:56:20.440Z"
   },
   {
    "duration": 746,
    "start_time": "2022-04-25T18:56:27.969Z"
   },
   {
    "duration": 9,
    "start_time": "2022-04-25T18:56:28.717Z"
   },
   {
    "duration": 7,
    "start_time": "2022-04-25T18:56:54.213Z"
   },
   {
    "duration": 7,
    "start_time": "2022-04-25T18:57:00.369Z"
   },
   {
    "duration": 7,
    "start_time": "2022-04-25T18:57:55.160Z"
   },
   {
    "duration": 2642,
    "start_time": "2022-04-25T18:58:42.928Z"
   },
   {
    "duration": 2,
    "start_time": "2022-04-25T18:58:46.376Z"
   },
   {
    "duration": 782,
    "start_time": "2022-04-25T18:58:48.048Z"
   },
   {
    "duration": 18,
    "start_time": "2022-04-25T18:58:49.419Z"
   },
   {
    "duration": 7,
    "start_time": "2022-04-25T18:59:08.592Z"
   },
   {
    "duration": 2866,
    "start_time": "2022-04-25T18:59:08.601Z"
   },
   {
    "duration": 3,
    "start_time": "2022-04-25T18:59:11.469Z"
   },
   {
    "duration": 752,
    "start_time": "2022-04-25T18:59:11.474Z"
   },
   {
    "duration": 76,
    "start_time": "2022-04-25T18:59:12.228Z"
   },
   {
    "duration": 0,
    "start_time": "2022-04-25T18:59:12.306Z"
   },
   {
    "duration": 0,
    "start_time": "2022-04-25T18:59:12.307Z"
   },
   {
    "duration": 0,
    "start_time": "2022-04-25T18:59:12.308Z"
   },
   {
    "duration": 0,
    "start_time": "2022-04-25T18:59:12.309Z"
   },
   {
    "duration": 0,
    "start_time": "2022-04-25T18:59:12.310Z"
   },
   {
    "duration": 105,
    "start_time": "2022-04-25T18:59:24.779Z"
   },
   {
    "duration": 2485,
    "start_time": "2022-04-25T19:00:54.397Z"
   },
   {
    "duration": 3,
    "start_time": "2022-04-25T19:01:00.475Z"
   },
   {
    "duration": 1050,
    "start_time": "2022-04-25T19:01:01.924Z"
   },
   {
    "duration": 9,
    "start_time": "2022-04-25T19:01:03.227Z"
   },
   {
    "duration": 7,
    "start_time": "2022-04-25T19:01:40.446Z"
   },
   {
    "duration": 2034,
    "start_time": "2022-04-25T19:03:09.108Z"
   },
   {
    "duration": 2932,
    "start_time": "2022-04-25T19:03:18.643Z"
   },
   {
    "duration": 3,
    "start_time": "2022-04-25T19:03:21.577Z"
   },
   {
    "duration": 8,
    "start_time": "2022-04-25T19:03:21.581Z"
   },
   {
    "duration": 767,
    "start_time": "2022-04-25T19:03:21.590Z"
   },
   {
    "duration": 66,
    "start_time": "2022-04-25T19:03:22.359Z"
   },
   {
    "duration": 0,
    "start_time": "2022-04-25T19:03:22.427Z"
   },
   {
    "duration": 0,
    "start_time": "2022-04-25T19:03:22.428Z"
   },
   {
    "duration": 0,
    "start_time": "2022-04-25T19:03:22.429Z"
   },
   {
    "duration": 0,
    "start_time": "2022-04-25T19:03:22.430Z"
   },
   {
    "duration": 0,
    "start_time": "2022-04-25T19:03:22.447Z"
   },
   {
    "duration": 8,
    "start_time": "2022-04-25T19:04:40.531Z"
   },
   {
    "duration": 6752,
    "start_time": "2022-04-25T19:05:00.913Z"
   },
   {
    "duration": 6855,
    "start_time": "2022-04-25T19:05:20.912Z"
   },
   {
    "duration": 3413,
    "start_time": "2022-04-25T19:07:14.006Z"
   },
   {
    "duration": 421,
    "start_time": "2022-04-25T19:07:17.422Z"
   },
   {
    "duration": 3,
    "start_time": "2022-04-25T19:07:17.844Z"
   },
   {
    "duration": 771,
    "start_time": "2022-04-25T19:07:17.850Z"
   },
   {
    "duration": 70,
    "start_time": "2022-04-25T19:07:18.622Z"
   },
   {
    "duration": 0,
    "start_time": "2022-04-25T19:07:18.694Z"
   },
   {
    "duration": 0,
    "start_time": "2022-04-25T19:07:18.696Z"
   },
   {
    "duration": 0,
    "start_time": "2022-04-25T19:07:18.697Z"
   },
   {
    "duration": 0,
    "start_time": "2022-04-25T19:07:18.698Z"
   },
   {
    "duration": 0,
    "start_time": "2022-04-25T19:07:18.699Z"
   },
   {
    "duration": 2077,
    "start_time": "2022-04-25T19:14:58.556Z"
   },
   {
    "duration": 2097,
    "start_time": "2022-04-25T19:15:11.620Z"
   },
   {
    "duration": 396,
    "start_time": "2022-04-25T19:15:13.720Z"
   },
   {
    "duration": 3,
    "start_time": "2022-04-25T19:15:14.117Z"
   },
   {
    "duration": 748,
    "start_time": "2022-04-25T19:15:14.122Z"
   },
   {
    "duration": 58,
    "start_time": "2022-04-25T19:15:14.872Z"
   },
   {
    "duration": 0,
    "start_time": "2022-04-25T19:15:14.931Z"
   },
   {
    "duration": 0,
    "start_time": "2022-04-25T19:15:14.933Z"
   },
   {
    "duration": 0,
    "start_time": "2022-04-25T19:15:14.933Z"
   },
   {
    "duration": 0,
    "start_time": "2022-04-25T19:15:14.947Z"
   },
   {
    "duration": 0,
    "start_time": "2022-04-25T19:15:14.948Z"
   },
   {
    "duration": 3,
    "start_time": "2022-04-25T19:16:45.710Z"
   },
   {
    "duration": 98887,
    "start_time": "2022-04-25T19:18:11.829Z"
   },
   {
    "duration": 388,
    "start_time": "2022-04-25T19:19:50.718Z"
   },
   {
    "duration": 2,
    "start_time": "2022-04-25T19:19:51.108Z"
   },
   {
    "duration": 776,
    "start_time": "2022-04-25T19:19:51.112Z"
   },
   {
    "duration": 68,
    "start_time": "2022-04-25T19:19:51.890Z"
   },
   {
    "duration": 0,
    "start_time": "2022-04-25T19:19:51.959Z"
   },
   {
    "duration": 0,
    "start_time": "2022-04-25T19:19:51.960Z"
   },
   {
    "duration": 0,
    "start_time": "2022-04-25T19:19:51.961Z"
   },
   {
    "duration": 0,
    "start_time": "2022-04-25T19:19:51.962Z"
   },
   {
    "duration": 0,
    "start_time": "2022-04-25T19:19:51.963Z"
   },
   {
    "duration": 2046,
    "start_time": "2022-04-25T19:22:50.626Z"
   },
   {
    "duration": 2124,
    "start_time": "2022-04-25T19:23:29.105Z"
   },
   {
    "duration": 2142,
    "start_time": "2022-04-25T19:24:42.538Z"
   },
   {
    "duration": 413,
    "start_time": "2022-04-25T19:24:44.683Z"
   },
   {
    "duration": 3,
    "start_time": "2022-04-25T19:24:45.098Z"
   },
   {
    "duration": 776,
    "start_time": "2022-04-25T19:24:45.103Z"
   },
   {
    "duration": 69,
    "start_time": "2022-04-25T19:24:45.881Z"
   },
   {
    "duration": 0,
    "start_time": "2022-04-25T19:24:45.951Z"
   },
   {
    "duration": 0,
    "start_time": "2022-04-25T19:24:45.952Z"
   },
   {
    "duration": 0,
    "start_time": "2022-04-25T19:24:45.954Z"
   },
   {
    "duration": 0,
    "start_time": "2022-04-25T19:24:45.955Z"
   },
   {
    "duration": 0,
    "start_time": "2022-04-25T19:24:45.956Z"
   },
   {
    "duration": 38459,
    "start_time": "2022-04-25T19:26:28.889Z"
   },
   {
    "duration": 3,
    "start_time": "2022-04-25T19:27:19.388Z"
   },
   {
    "duration": 353,
    "start_time": "2022-04-25T19:27:19.394Z"
   },
   {
    "duration": 3,
    "start_time": "2022-04-25T19:27:19.749Z"
   },
   {
    "duration": 801,
    "start_time": "2022-04-25T19:27:19.754Z"
   },
   {
    "duration": 3,
    "start_time": "2022-04-25T19:27:20.557Z"
   },
   {
    "duration": 137,
    "start_time": "2022-04-25T19:27:20.562Z"
   },
   {
    "duration": 20,
    "start_time": "2022-04-25T19:27:20.701Z"
   },
   {
    "duration": 4,
    "start_time": "2022-04-25T19:27:20.722Z"
   },
   {
    "duration": 142,
    "start_time": "2022-04-25T19:27:20.748Z"
   },
   {
    "duration": 23,
    "start_time": "2022-04-25T19:27:20.892Z"
   },
   {
    "duration": 19,
    "start_time": "2022-04-25T19:29:31.370Z"
   },
   {
    "duration": 60,
    "start_time": "2022-04-25T19:31:27.914Z"
   },
   {
    "duration": 430,
    "start_time": "2022-04-25T19:31:34.417Z"
   },
   {
    "duration": 118,
    "start_time": "2022-04-25T19:32:12.778Z"
   },
   {
    "duration": 712,
    "start_time": "2022-04-25T19:35:29.045Z"
   },
   {
    "duration": 10,
    "start_time": "2022-04-25T19:38:25.803Z"
   },
   {
    "duration": 10,
    "start_time": "2022-04-25T19:38:37.042Z"
   },
   {
    "duration": 8,
    "start_time": "2022-04-25T19:38:43.277Z"
   },
   {
    "duration": 9,
    "start_time": "2022-04-25T19:39:18.371Z"
   },
   {
    "duration": 10,
    "start_time": "2022-04-25T19:41:09.363Z"
   },
   {
    "duration": 9,
    "start_time": "2022-04-25T19:41:15.568Z"
   },
   {
    "duration": 9,
    "start_time": "2022-04-25T19:41:21.170Z"
   },
   {
    "duration": 11,
    "start_time": "2022-04-25T19:41:25.393Z"
   },
   {
    "duration": 906,
    "start_time": "2022-04-25T21:30:41.698Z"
   },
   {
    "duration": 119,
    "start_time": "2022-04-25T21:31:02.018Z"
   },
   {
    "duration": 12,
    "start_time": "2022-04-25T21:31:27.237Z"
   },
   {
    "duration": 511,
    "start_time": "2022-04-25T21:32:02.242Z"
   },
   {
    "duration": 486,
    "start_time": "2022-04-25T21:32:19.620Z"
   },
   {
    "duration": 491,
    "start_time": "2022-04-25T21:33:02.796Z"
   },
   {
    "duration": 1037,
    "start_time": "2022-04-25T21:33:36.576Z"
   },
   {
    "duration": 4,
    "start_time": "2022-04-25T21:33:43.549Z"
   },
   {
    "duration": 1397,
    "start_time": "2022-04-25T21:33:43.555Z"
   },
   {
    "duration": 3,
    "start_time": "2022-04-25T21:33:44.954Z"
   },
   {
    "duration": 738,
    "start_time": "2022-04-25T21:33:44.959Z"
   },
   {
    "duration": 3,
    "start_time": "2022-04-25T21:33:45.699Z"
   },
   {
    "duration": 16,
    "start_time": "2022-04-25T21:33:45.704Z"
   },
   {
    "duration": 137,
    "start_time": "2022-04-25T21:33:45.721Z"
   },
   {
    "duration": 4,
    "start_time": "2022-04-25T21:33:45.860Z"
   },
   {
    "duration": 124,
    "start_time": "2022-04-25T21:33:45.865Z"
   },
   {
    "duration": 427,
    "start_time": "2022-04-25T21:33:45.991Z"
   },
   {
    "duration": 85,
    "start_time": "2022-04-25T21:33:46.420Z"
   },
   {
    "duration": 696,
    "start_time": "2022-04-25T21:33:46.506Z"
   },
   {
    "duration": 10,
    "start_time": "2022-04-25T21:33:47.203Z"
   },
   {
    "duration": 8,
    "start_time": "2022-04-25T21:33:47.214Z"
   },
   {
    "duration": 580,
    "start_time": "2022-04-25T21:33:47.224Z"
   },
   {
    "duration": 1,
    "start_time": "2022-04-25T21:33:47.805Z"
   },
   {
    "duration": 0,
    "start_time": "2022-04-25T21:33:47.807Z"
   },
   {
    "duration": 8,
    "start_time": "2022-04-25T21:34:13.305Z"
   },
   {
    "duration": 9,
    "start_time": "2022-04-25T21:34:18.578Z"
   },
   {
    "duration": 8,
    "start_time": "2022-04-25T21:34:21.336Z"
   },
   {
    "duration": 8,
    "start_time": "2022-04-25T21:34:28.403Z"
   },
   {
    "duration": 3,
    "start_time": "2022-04-25T21:35:22.716Z"
   },
   {
    "duration": 1380,
    "start_time": "2022-04-25T21:35:22.720Z"
   },
   {
    "duration": 3,
    "start_time": "2022-04-25T21:35:24.102Z"
   },
   {
    "duration": 752,
    "start_time": "2022-04-25T21:35:24.106Z"
   },
   {
    "duration": 3,
    "start_time": "2022-04-25T21:35:24.860Z"
   },
   {
    "duration": 19,
    "start_time": "2022-04-25T21:35:24.864Z"
   },
   {
    "duration": 139,
    "start_time": "2022-04-25T21:35:24.884Z"
   },
   {
    "duration": 4,
    "start_time": "2022-04-25T21:35:25.024Z"
   },
   {
    "duration": 131,
    "start_time": "2022-04-25T21:35:25.029Z"
   },
   {
    "duration": 440,
    "start_time": "2022-04-25T21:35:25.162Z"
   },
   {
    "duration": 91,
    "start_time": "2022-04-25T21:35:25.604Z"
   },
   {
    "duration": 686,
    "start_time": "2022-04-25T21:35:25.697Z"
   },
   {
    "duration": 9,
    "start_time": "2022-04-25T21:35:26.385Z"
   },
   {
    "duration": 8,
    "start_time": "2022-04-25T21:35:26.395Z"
   },
   {
    "duration": 459,
    "start_time": "2022-04-25T21:35:26.405Z"
   },
   {
    "duration": 11,
    "start_time": "2022-04-25T21:35:26.866Z"
   },
   {
    "duration": 21,
    "start_time": "2022-04-25T21:35:26.879Z"
   },
   {
    "duration": 521,
    "start_time": "2022-04-25T21:35:40.218Z"
   },
   {
    "duration": 13,
    "start_time": "2022-04-25T21:35:41.735Z"
   },
   {
    "duration": 685,
    "start_time": "2022-04-25T21:36:07.969Z"
   },
   {
    "duration": 459,
    "start_time": "2022-04-25T21:36:20.840Z"
   },
   {
    "duration": 476,
    "start_time": "2022-04-25T21:36:26.737Z"
   },
   {
    "duration": 12,
    "start_time": "2022-04-25T21:36:28.110Z"
   },
   {
    "duration": 116,
    "start_time": "2022-04-25T21:36:35.642Z"
   },
   {
    "duration": 8,
    "start_time": "2022-04-25T21:39:54.916Z"
   },
   {
    "duration": 34,
    "start_time": "2022-04-25T21:40:00.107Z"
   },
   {
    "duration": 18,
    "start_time": "2022-04-25T21:40:14.636Z"
   },
   {
    "duration": 4,
    "start_time": "2022-04-25T21:40:42.845Z"
   },
   {
    "duration": 1439,
    "start_time": "2022-04-25T21:40:42.853Z"
   },
   {
    "duration": 3,
    "start_time": "2022-04-25T21:40:44.293Z"
   },
   {
    "duration": 775,
    "start_time": "2022-04-25T21:40:44.298Z"
   },
   {
    "duration": 2,
    "start_time": "2022-04-25T21:40:45.076Z"
   },
   {
    "duration": 18,
    "start_time": "2022-04-25T21:40:45.080Z"
   },
   {
    "duration": 144,
    "start_time": "2022-04-25T21:40:45.099Z"
   },
   {
    "duration": 3,
    "start_time": "2022-04-25T21:40:45.247Z"
   },
   {
    "duration": 127,
    "start_time": "2022-04-25T21:40:45.252Z"
   },
   {
    "duration": 448,
    "start_time": "2022-04-25T21:40:45.382Z"
   },
   {
    "duration": 90,
    "start_time": "2022-04-25T21:40:45.833Z"
   },
   {
    "duration": 723,
    "start_time": "2022-04-25T21:40:45.924Z"
   },
   {
    "duration": 9,
    "start_time": "2022-04-25T21:40:46.649Z"
   },
   {
    "duration": 8,
    "start_time": "2022-04-25T21:40:46.660Z"
   },
   {
    "duration": 546,
    "start_time": "2022-04-25T21:40:46.669Z"
   },
   {
    "duration": 15,
    "start_time": "2022-04-25T21:40:47.217Z"
   },
   {
    "duration": 514,
    "start_time": "2022-04-25T21:40:47.233Z"
   },
   {
    "duration": 20,
    "start_time": "2022-04-25T21:40:47.749Z"
   },
   {
    "duration": 50,
    "start_time": "2022-04-25T21:41:49.242Z"
   },
   {
    "duration": 8,
    "start_time": "2022-04-25T21:42:00.954Z"
   },
   {
    "duration": 101,
    "start_time": "2022-04-25T21:42:15.004Z"
   },
   {
    "duration": 9,
    "start_time": "2022-04-25T21:42:15.861Z"
   },
   {
    "duration": 117,
    "start_time": "2022-04-25T21:42:25.845Z"
   },
   {
    "duration": 72,
    "start_time": "2022-04-25T21:43:13.618Z"
   },
   {
    "duration": 96,
    "start_time": "2022-04-25T21:43:49.346Z"
   },
   {
    "duration": 15,
    "start_time": "2022-04-25T21:46:33.073Z"
   },
   {
    "duration": 25,
    "start_time": "2022-04-25T21:46:42.428Z"
   },
   {
    "duration": 10,
    "start_time": "2022-04-25T21:47:10.618Z"
   },
   {
    "duration": 9,
    "start_time": "2022-04-25T21:49:02.640Z"
   },
   {
    "duration": 92,
    "start_time": "2022-04-25T21:50:25.759Z"
   },
   {
    "duration": 444,
    "start_time": "2022-04-25T21:55:21.957Z"
   },
   {
    "duration": 465,
    "start_time": "2022-04-25T21:55:37.483Z"
   },
   {
    "duration": 7,
    "start_time": "2022-04-25T22:00:12.928Z"
   },
   {
    "duration": 8,
    "start_time": "2022-04-25T22:01:02.901Z"
   },
   {
    "duration": 3,
    "start_time": "2022-04-25T22:01:31.126Z"
   },
   {
    "duration": 1465,
    "start_time": "2022-04-25T22:01:31.134Z"
   },
   {
    "duration": 4,
    "start_time": "2022-04-25T22:01:32.601Z"
   },
   {
    "duration": 771,
    "start_time": "2022-04-25T22:01:32.606Z"
   },
   {
    "duration": 2,
    "start_time": "2022-04-25T22:01:33.379Z"
   },
   {
    "duration": 19,
    "start_time": "2022-04-25T22:01:33.382Z"
   },
   {
    "duration": 125,
    "start_time": "2022-04-25T22:01:33.402Z"
   },
   {
    "duration": 3,
    "start_time": "2022-04-25T22:01:33.528Z"
   },
   {
    "duration": 115,
    "start_time": "2022-04-25T22:01:33.547Z"
   },
   {
    "duration": 441,
    "start_time": "2022-04-25T22:01:33.664Z"
   },
   {
    "duration": 91,
    "start_time": "2022-04-25T22:01:34.107Z"
   },
   {
    "duration": 694,
    "start_time": "2022-04-25T22:01:34.199Z"
   },
   {
    "duration": 9,
    "start_time": "2022-04-25T22:01:34.895Z"
   },
   {
    "duration": 7,
    "start_time": "2022-04-25T22:01:34.906Z"
   },
   {
    "duration": 545,
    "start_time": "2022-04-25T22:01:34.915Z"
   },
   {
    "duration": 17,
    "start_time": "2022-04-25T22:01:35.462Z"
   },
   {
    "duration": 120,
    "start_time": "2022-04-25T22:01:35.481Z"
   },
   {
    "duration": 10,
    "start_time": "2022-04-25T22:01:35.603Z"
   },
   {
    "duration": 112,
    "start_time": "2022-04-25T22:01:35.614Z"
   },
   {
    "duration": 28,
    "start_time": "2022-04-25T22:01:35.727Z"
   },
   {
    "duration": 6,
    "start_time": "2022-04-25T22:01:35.756Z"
   },
   {
    "duration": 25,
    "start_time": "2022-04-25T22:01:35.764Z"
   },
   {
    "duration": 7,
    "start_time": "2022-04-25T22:02:03.110Z"
   },
   {
    "duration": 21,
    "start_time": "2022-04-25T22:02:07.381Z"
   },
   {
    "duration": 8,
    "start_time": "2022-04-25T22:03:17.895Z"
   },
   {
    "duration": 3,
    "start_time": "2022-04-25T22:04:09.569Z"
   },
   {
    "duration": 1501,
    "start_time": "2022-04-25T22:04:09.574Z"
   },
   {
    "duration": 3,
    "start_time": "2022-04-25T22:04:11.077Z"
   },
   {
    "duration": 775,
    "start_time": "2022-04-25T22:04:11.081Z"
   },
   {
    "duration": 2,
    "start_time": "2022-04-25T22:04:11.858Z"
   },
   {
    "duration": 18,
    "start_time": "2022-04-25T22:04:11.862Z"
   },
   {
    "duration": 126,
    "start_time": "2022-04-25T22:04:11.882Z"
   },
   {
    "duration": 3,
    "start_time": "2022-04-25T22:04:12.010Z"
   },
   {
    "duration": 129,
    "start_time": "2022-04-25T22:04:12.015Z"
   },
   {
    "duration": 439,
    "start_time": "2022-04-25T22:04:12.148Z"
   },
   {
    "duration": 90,
    "start_time": "2022-04-25T22:04:12.590Z"
   },
   {
    "duration": 698,
    "start_time": "2022-04-25T22:04:12.682Z"
   },
   {
    "duration": 9,
    "start_time": "2022-04-25T22:04:13.382Z"
   },
   {
    "duration": 8,
    "start_time": "2022-04-25T22:04:13.392Z"
   },
   {
    "duration": 548,
    "start_time": "2022-04-25T22:04:13.402Z"
   },
   {
    "duration": 17,
    "start_time": "2022-04-25T22:04:13.952Z"
   },
   {
    "duration": 125,
    "start_time": "2022-04-25T22:04:13.970Z"
   },
   {
    "duration": 9,
    "start_time": "2022-04-25T22:04:14.097Z"
   },
   {
    "duration": 121,
    "start_time": "2022-04-25T22:04:14.108Z"
   },
   {
    "duration": 25,
    "start_time": "2022-04-25T22:04:14.231Z"
   },
   {
    "duration": 7,
    "start_time": "2022-04-25T22:04:14.257Z"
   },
   {
    "duration": 22,
    "start_time": "2022-04-25T22:04:14.265Z"
   },
   {
    "duration": 20,
    "start_time": "2022-04-25T22:07:02.373Z"
   },
   {
    "duration": 3,
    "start_time": "2022-04-25T22:07:45.371Z"
   },
   {
    "duration": 1334,
    "start_time": "2022-04-25T22:07:45.375Z"
   },
   {
    "duration": 2,
    "start_time": "2022-04-25T22:07:46.711Z"
   },
   {
    "duration": 751,
    "start_time": "2022-04-25T22:07:46.717Z"
   },
   {
    "duration": 2,
    "start_time": "2022-04-25T22:07:47.470Z"
   },
   {
    "duration": 16,
    "start_time": "2022-04-25T22:07:47.474Z"
   },
   {
    "duration": 139,
    "start_time": "2022-04-25T22:07:47.492Z"
   },
   {
    "duration": 4,
    "start_time": "2022-04-25T22:07:47.633Z"
   },
   {
    "duration": 128,
    "start_time": "2022-04-25T22:07:47.639Z"
   },
   {
    "duration": 443,
    "start_time": "2022-04-25T22:07:47.771Z"
   },
   {
    "duration": 94,
    "start_time": "2022-04-25T22:07:48.216Z"
   },
   {
    "duration": 690,
    "start_time": "2022-04-25T22:07:48.312Z"
   },
   {
    "duration": 11,
    "start_time": "2022-04-25T22:07:49.004Z"
   },
   {
    "duration": 9,
    "start_time": "2022-04-25T22:07:49.016Z"
   },
   {
    "duration": 550,
    "start_time": "2022-04-25T22:07:49.026Z"
   },
   {
    "duration": 16,
    "start_time": "2022-04-25T22:07:49.578Z"
   },
   {
    "duration": 126,
    "start_time": "2022-04-25T22:07:49.595Z"
   },
   {
    "duration": 9,
    "start_time": "2022-04-25T22:07:49.723Z"
   },
   {
    "duration": 105,
    "start_time": "2022-04-25T22:07:49.734Z"
   },
   {
    "duration": 19,
    "start_time": "2022-04-25T22:07:49.847Z"
   },
   {
    "duration": 6,
    "start_time": "2022-04-25T22:07:49.867Z"
   },
   {
    "duration": 21,
    "start_time": "2022-04-25T22:07:49.874Z"
   },
   {
    "duration": 20,
    "start_time": "2022-04-25T22:07:49.896Z"
   },
   {
    "duration": 9,
    "start_time": "2022-04-25T22:08:03.226Z"
   },
   {
    "duration": 72,
    "start_time": "2022-04-26T11:20:41.494Z"
   },
   {
    "duration": 4,
    "start_time": "2022-04-26T11:20:48.928Z"
   },
   {
    "duration": 1731,
    "start_time": "2022-04-26T11:20:48.935Z"
   },
   {
    "duration": 0,
    "start_time": "2022-04-26T11:20:50.669Z"
   },
   {
    "duration": 0,
    "start_time": "2022-04-26T11:20:50.670Z"
   },
   {
    "duration": 0,
    "start_time": "2022-04-26T11:20:50.672Z"
   },
   {
    "duration": 0,
    "start_time": "2022-04-26T11:20:50.673Z"
   },
   {
    "duration": 0,
    "start_time": "2022-04-26T11:20:50.684Z"
   },
   {
    "duration": 0,
    "start_time": "2022-04-26T11:20:50.686Z"
   },
   {
    "duration": 0,
    "start_time": "2022-04-26T11:20:50.687Z"
   },
   {
    "duration": 0,
    "start_time": "2022-04-26T11:20:50.689Z"
   },
   {
    "duration": 0,
    "start_time": "2022-04-26T11:20:50.690Z"
   },
   {
    "duration": 0,
    "start_time": "2022-04-26T11:20:50.691Z"
   },
   {
    "duration": 0,
    "start_time": "2022-04-26T11:20:50.692Z"
   },
   {
    "duration": 0,
    "start_time": "2022-04-26T11:20:50.694Z"
   },
   {
    "duration": 0,
    "start_time": "2022-04-26T11:20:50.695Z"
   },
   {
    "duration": 0,
    "start_time": "2022-04-26T11:20:50.697Z"
   },
   {
    "duration": 0,
    "start_time": "2022-04-26T11:20:50.699Z"
   },
   {
    "duration": 0,
    "start_time": "2022-04-26T11:20:50.700Z"
   },
   {
    "duration": 0,
    "start_time": "2022-04-26T11:20:50.703Z"
   },
   {
    "duration": 0,
    "start_time": "2022-04-26T11:20:50.706Z"
   },
   {
    "duration": 0,
    "start_time": "2022-04-26T11:20:50.707Z"
   },
   {
    "duration": 0,
    "start_time": "2022-04-26T11:20:50.710Z"
   },
   {
    "duration": 0,
    "start_time": "2022-04-26T11:20:50.712Z"
   },
   {
    "duration": 0,
    "start_time": "2022-04-26T11:20:50.715Z"
   },
   {
    "duration": 5,
    "start_time": "2022-04-26T11:21:21.963Z"
   },
   {
    "duration": 2239,
    "start_time": "2022-04-26T11:21:21.970Z"
   },
   {
    "duration": 4,
    "start_time": "2022-04-26T11:21:24.212Z"
   },
   {
    "duration": 1166,
    "start_time": "2022-04-26T11:21:24.219Z"
   },
   {
    "duration": 3,
    "start_time": "2022-04-26T11:21:25.389Z"
   },
   {
    "duration": 40,
    "start_time": "2022-04-26T11:21:25.396Z"
   },
   {
    "duration": 195,
    "start_time": "2022-04-26T11:21:25.439Z"
   },
   {
    "duration": 6,
    "start_time": "2022-04-26T11:21:25.637Z"
   },
   {
    "duration": 302,
    "start_time": "2022-04-26T11:21:25.646Z"
   },
   {
    "duration": 1009,
    "start_time": "2022-04-26T11:21:25.951Z"
   },
   {
    "duration": 168,
    "start_time": "2022-04-26T11:21:26.964Z"
   },
   {
    "duration": 1482,
    "start_time": "2022-04-26T11:21:27.134Z"
   },
   {
    "duration": 14,
    "start_time": "2022-04-26T11:21:28.618Z"
   },
   {
    "duration": 11,
    "start_time": "2022-04-26T11:21:28.634Z"
   },
   {
    "duration": 1069,
    "start_time": "2022-04-26T11:21:28.647Z"
   },
   {
    "duration": 22,
    "start_time": "2022-04-26T11:21:29.718Z"
   },
   {
    "duration": 293,
    "start_time": "2022-04-26T11:21:29.742Z"
   },
   {
    "duration": 13,
    "start_time": "2022-04-26T11:21:30.037Z"
   },
   {
    "duration": 169,
    "start_time": "2022-04-26T11:21:30.053Z"
   },
   {
    "duration": 28,
    "start_time": "2022-04-26T11:21:30.224Z"
   },
   {
    "duration": 35,
    "start_time": "2022-04-26T11:21:30.254Z"
   },
   {
    "duration": 23,
    "start_time": "2022-04-26T11:21:30.293Z"
   },
   {
    "duration": 64,
    "start_time": "2022-04-26T11:21:30.318Z"
   },
   {
    "duration": 36,
    "start_time": "2022-04-26T11:21:30.384Z"
   },
   {
    "duration": 155,
    "start_time": "2022-04-26T11:50:19.309Z"
   },
   {
    "duration": 134,
    "start_time": "2022-04-26T11:51:09.870Z"
   },
   {
    "duration": 61,
    "start_time": "2022-04-26T11:51:25.550Z"
   },
   {
    "duration": 31,
    "start_time": "2022-04-26T11:51:53.268Z"
   },
   {
    "duration": 37,
    "start_time": "2022-04-26T11:55:15.207Z"
   },
   {
    "duration": 38,
    "start_time": "2022-04-26T12:25:53.559Z"
   },
   {
    "duration": 198,
    "start_time": "2022-04-26T12:26:38.457Z"
   },
   {
    "duration": 34,
    "start_time": "2022-04-26T12:27:11.502Z"
   },
   {
    "duration": 35,
    "start_time": "2022-04-26T12:27:27.089Z"
   },
   {
    "duration": 59,
    "start_time": "2022-04-26T12:36:07.206Z"
   },
   {
    "duration": 3845,
    "start_time": "2022-04-26T12:38:34.640Z"
   },
   {
    "duration": 3708,
    "start_time": "2022-04-26T12:39:06.405Z"
   },
   {
    "duration": 3829,
    "start_time": "2022-04-26T12:40:13.040Z"
   },
   {
    "duration": 62,
    "start_time": "2022-04-26T12:40:52.084Z"
   },
   {
    "duration": 41,
    "start_time": "2022-04-26T12:40:57.279Z"
   },
   {
    "duration": 59,
    "start_time": "2022-04-26T12:41:05.741Z"
   },
   {
    "duration": 3944,
    "start_time": "2022-04-26T12:41:21.512Z"
   },
   {
    "duration": 30,
    "start_time": "2022-04-26T12:41:47.749Z"
   },
   {
    "duration": 3912,
    "start_time": "2022-04-26T12:41:57.205Z"
   },
   {
    "duration": 3827,
    "start_time": "2022-04-26T12:42:14.069Z"
   },
   {
    "duration": 10,
    "start_time": "2022-04-26T12:44:09.346Z"
   },
   {
    "duration": 3818,
    "start_time": "2022-04-26T12:49:42.932Z"
   },
   {
    "duration": 85,
    "start_time": "2022-04-26T12:51:08.242Z"
   },
   {
    "duration": 3688,
    "start_time": "2022-04-26T12:51:16.662Z"
   },
   {
    "duration": 3990,
    "start_time": "2022-04-26T13:04:50.730Z"
   },
   {
    "duration": 5,
    "start_time": "2022-04-26T13:05:31.358Z"
   },
   {
    "duration": 2052,
    "start_time": "2022-04-26T13:05:31.381Z"
   },
   {
    "duration": 4,
    "start_time": "2022-04-26T13:05:33.435Z"
   },
   {
    "duration": 1207,
    "start_time": "2022-04-26T13:05:33.441Z"
   },
   {
    "duration": 3,
    "start_time": "2022-04-26T13:05:34.651Z"
   },
   {
    "duration": 44,
    "start_time": "2022-04-26T13:05:34.656Z"
   },
   {
    "duration": 247,
    "start_time": "2022-04-26T13:05:34.703Z"
   },
   {
    "duration": 5,
    "start_time": "2022-04-26T13:05:34.953Z"
   },
   {
    "duration": 214,
    "start_time": "2022-04-26T13:05:34.960Z"
   },
   {
    "duration": 784,
    "start_time": "2022-04-26T13:05:35.176Z"
   },
   {
    "duration": 148,
    "start_time": "2022-04-26T13:05:35.964Z"
   },
   {
    "duration": 1247,
    "start_time": "2022-04-26T13:05:36.114Z"
   },
   {
    "duration": 900,
    "start_time": "2022-04-26T13:05:37.363Z"
   },
   {
    "duration": 36,
    "start_time": "2022-04-26T13:05:38.265Z"
   },
   {
    "duration": 181,
    "start_time": "2022-04-26T13:05:38.303Z"
   },
   {
    "duration": 20,
    "start_time": "2022-04-26T13:05:38.486Z"
   },
   {
    "duration": 171,
    "start_time": "2022-04-26T13:05:38.508Z"
   },
   {
    "duration": 39,
    "start_time": "2022-04-26T13:05:38.683Z"
   },
   {
    "duration": 10,
    "start_time": "2022-04-26T13:05:38.725Z"
   },
   {
    "duration": 14,
    "start_time": "2022-04-26T13:05:38.737Z"
   },
   {
    "duration": 172,
    "start_time": "2022-04-26T13:05:38.753Z"
   },
   {
    "duration": 26,
    "start_time": "2022-04-26T13:05:38.928Z"
   },
   {
    "duration": 64,
    "start_time": "2022-04-26T13:05:38.957Z"
   },
   {
    "duration": 29,
    "start_time": "2022-04-26T13:05:39.032Z"
   },
   {
    "duration": 3963,
    "start_time": "2022-04-26T13:05:39.063Z"
   },
   {
    "duration": 10,
    "start_time": "2022-04-26T13:05:43.028Z"
   },
   {
    "duration": 3854,
    "start_time": "2022-04-26T13:05:43.040Z"
   },
   {
    "duration": 49,
    "start_time": "2022-04-26T13:05:46.896Z"
   },
   {
    "duration": 3831,
    "start_time": "2022-04-26T13:06:13.314Z"
   },
   {
    "duration": 5,
    "start_time": "2022-04-27T06:13:54.151Z"
   },
   {
    "duration": 2296,
    "start_time": "2022-04-27T06:13:54.158Z"
   },
   {
    "duration": 4,
    "start_time": "2022-04-27T06:13:56.456Z"
   },
   {
    "duration": 1142,
    "start_time": "2022-04-27T06:13:56.462Z"
   },
   {
    "duration": 4,
    "start_time": "2022-04-27T06:13:57.607Z"
   },
   {
    "duration": 30,
    "start_time": "2022-04-27T06:13:57.613Z"
   },
   {
    "duration": 196,
    "start_time": "2022-04-27T06:13:57.645Z"
   },
   {
    "duration": 5,
    "start_time": "2022-04-27T06:13:57.843Z"
   },
   {
    "duration": 187,
    "start_time": "2022-04-27T06:13:57.850Z"
   },
   {
    "duration": 686,
    "start_time": "2022-04-27T06:13:58.040Z"
   },
   {
    "duration": 126,
    "start_time": "2022-04-27T06:13:58.728Z"
   },
   {
    "duration": 1109,
    "start_time": "2022-04-27T06:13:58.856Z"
   },
   {
    "duration": 900,
    "start_time": "2022-04-27T06:13:59.967Z"
   },
   {
    "duration": 43,
    "start_time": "2022-04-27T06:14:00.872Z"
   },
   {
    "duration": 183,
    "start_time": "2022-04-27T06:14:00.918Z"
   },
   {
    "duration": 15,
    "start_time": "2022-04-27T06:14:01.104Z"
   },
   {
    "duration": 193,
    "start_time": "2022-04-27T06:14:01.121Z"
   },
   {
    "duration": 28,
    "start_time": "2022-04-27T06:14:01.318Z"
   },
   {
    "duration": 18,
    "start_time": "2022-04-27T06:14:01.349Z"
   },
   {
    "duration": 46,
    "start_time": "2022-04-27T06:14:01.369Z"
   },
   {
    "duration": 128,
    "start_time": "2022-04-27T06:14:01.418Z"
   },
   {
    "duration": 27,
    "start_time": "2022-04-27T06:14:01.548Z"
   },
   {
    "duration": 48,
    "start_time": "2022-04-27T06:14:01.577Z"
   },
   {
    "duration": 30,
    "start_time": "2022-04-27T06:14:01.627Z"
   },
   {
    "duration": 3639,
    "start_time": "2022-04-27T06:14:01.659Z"
   },
   {
    "duration": 12,
    "start_time": "2022-04-27T06:14:05.301Z"
   },
   {
    "duration": 3818,
    "start_time": "2022-04-27T06:14:05.315Z"
   },
   {
    "duration": 35,
    "start_time": "2022-04-27T06:14:09.135Z"
   },
   {
    "duration": 184,
    "start_time": "2022-04-27T06:17:00.700Z"
   },
   {
    "duration": 58,
    "start_time": "2022-04-27T06:17:11.971Z"
   },
   {
    "duration": 32,
    "start_time": "2022-04-27T06:18:46.530Z"
   },
   {
    "duration": 74,
    "start_time": "2022-04-27T06:22:00.055Z"
   },
   {
    "duration": 3320,
    "start_time": "2022-04-27T06:22:10.311Z"
   },
   {
    "duration": 3344,
    "start_time": "2022-04-27T06:23:46.052Z"
   },
   {
    "duration": 27,
    "start_time": "2022-04-27T06:28:18.390Z"
   },
   {
    "duration": 10,
    "start_time": "2022-04-27T06:50:37.716Z"
   },
   {
    "duration": 4,
    "start_time": "2022-04-27T06:50:46.016Z"
   },
   {
    "duration": 1907,
    "start_time": "2022-04-27T06:50:46.023Z"
   },
   {
    "duration": 3,
    "start_time": "2022-04-27T06:50:47.933Z"
   },
   {
    "duration": 1067,
    "start_time": "2022-04-27T06:50:47.938Z"
   },
   {
    "duration": 3,
    "start_time": "2022-04-27T06:50:49.008Z"
   },
   {
    "duration": 28,
    "start_time": "2022-04-27T06:50:49.013Z"
   },
   {
    "duration": 179,
    "start_time": "2022-04-27T06:50:49.043Z"
   },
   {
    "duration": 5,
    "start_time": "2022-04-27T06:50:49.224Z"
   },
   {
    "duration": 172,
    "start_time": "2022-04-27T06:50:49.231Z"
   },
   {
    "duration": 679,
    "start_time": "2022-04-27T06:50:49.405Z"
   },
   {
    "duration": 122,
    "start_time": "2022-04-27T06:50:50.087Z"
   },
   {
    "duration": 1031,
    "start_time": "2022-04-27T06:50:50.211Z"
   },
   {
    "duration": 810,
    "start_time": "2022-04-27T06:50:51.244Z"
   },
   {
    "duration": 39,
    "start_time": "2022-04-27T06:50:52.056Z"
   },
   {
    "duration": 185,
    "start_time": "2022-04-27T06:50:52.097Z"
   },
   {
    "duration": 19,
    "start_time": "2022-04-27T06:50:52.284Z"
   },
   {
    "duration": 172,
    "start_time": "2022-04-27T06:50:52.305Z"
   },
   {
    "duration": 32,
    "start_time": "2022-04-27T06:50:52.479Z"
   },
   {
    "duration": 7,
    "start_time": "2022-04-27T06:50:52.513Z"
   },
   {
    "duration": 13,
    "start_time": "2022-04-27T06:50:52.522Z"
   },
   {
    "duration": 160,
    "start_time": "2022-04-27T06:50:52.537Z"
   },
   {
    "duration": 28,
    "start_time": "2022-04-27T06:50:52.699Z"
   },
   {
    "duration": 30,
    "start_time": "2022-04-27T06:50:52.729Z"
   },
   {
    "duration": 52,
    "start_time": "2022-04-27T06:50:52.761Z"
   },
   {
    "duration": 3306,
    "start_time": "2022-04-27T06:50:52.815Z"
   },
   {
    "duration": 22,
    "start_time": "2022-04-27T06:50:56.123Z"
   },
   {
    "duration": 9,
    "start_time": "2022-04-27T06:50:56.147Z"
   },
   {
    "duration": 3423,
    "start_time": "2022-04-27T06:50:56.158Z"
   },
   {
    "duration": 39,
    "start_time": "2022-04-27T06:50:59.586Z"
   },
   {
    "duration": 120,
    "start_time": "2022-04-27T06:51:03.159Z"
   },
   {
    "duration": 28,
    "start_time": "2022-04-27T06:51:04.210Z"
   },
   {
    "duration": 78,
    "start_time": "2022-04-27T07:07:47.308Z"
   },
   {
    "duration": 228,
    "start_time": "2022-04-27T07:08:10.507Z"
   },
   {
    "duration": 4,
    "start_time": "2022-04-27T07:08:34.458Z"
   },
   {
    "duration": 2256,
    "start_time": "2022-04-27T07:08:34.465Z"
   },
   {
    "duration": 5,
    "start_time": "2022-04-27T07:08:36.724Z"
   },
   {
    "duration": 1130,
    "start_time": "2022-04-27T07:08:36.732Z"
   },
   {
    "duration": 3,
    "start_time": "2022-04-27T07:08:37.864Z"
   },
   {
    "duration": 47,
    "start_time": "2022-04-27T07:08:37.869Z"
   },
   {
    "duration": 192,
    "start_time": "2022-04-27T07:08:37.918Z"
   },
   {
    "duration": 6,
    "start_time": "2022-04-27T07:08:38.112Z"
   },
   {
    "duration": 191,
    "start_time": "2022-04-27T07:08:38.122Z"
   },
   {
    "duration": 679,
    "start_time": "2022-04-27T07:08:38.315Z"
   },
   {
    "duration": 124,
    "start_time": "2022-04-27T07:08:38.997Z"
   },
   {
    "duration": 1097,
    "start_time": "2022-04-27T07:08:39.124Z"
   },
   {
    "duration": 850,
    "start_time": "2022-04-27T07:08:40.224Z"
   },
   {
    "duration": 34,
    "start_time": "2022-04-27T07:08:41.076Z"
   },
   {
    "duration": 191,
    "start_time": "2022-04-27T07:08:41.112Z"
   },
   {
    "duration": 14,
    "start_time": "2022-04-27T07:08:41.305Z"
   },
   {
    "duration": 183,
    "start_time": "2022-04-27T07:08:41.321Z"
   },
   {
    "duration": 244,
    "start_time": "2022-04-27T07:08:41.507Z"
   },
   {
    "duration": 26,
    "start_time": "2022-04-27T07:08:41.753Z"
   },
   {
    "duration": 19,
    "start_time": "2022-04-27T07:08:41.781Z"
   },
   {
    "duration": 26,
    "start_time": "2022-04-27T07:08:41.802Z"
   },
   {
    "duration": 148,
    "start_time": "2022-04-27T07:08:41.831Z"
   },
   {
    "duration": 42,
    "start_time": "2022-04-27T07:08:41.981Z"
   },
   {
    "duration": 64,
    "start_time": "2022-04-27T07:08:42.029Z"
   },
   {
    "duration": 35,
    "start_time": "2022-04-27T07:08:42.096Z"
   },
   {
    "duration": 3528,
    "start_time": "2022-04-27T07:08:42.134Z"
   },
   {
    "duration": 34,
    "start_time": "2022-04-27T07:08:45.664Z"
   },
   {
    "duration": 11,
    "start_time": "2022-04-27T07:08:45.702Z"
   },
   {
    "duration": 3427,
    "start_time": "2022-04-27T07:08:45.715Z"
   },
   {
    "duration": 49,
    "start_time": "2022-04-27T07:08:49.145Z"
   },
   {
    "duration": 245,
    "start_time": "2022-04-27T07:09:07.100Z"
   },
   {
    "duration": 218,
    "start_time": "2022-04-27T07:09:37.013Z"
   },
   {
    "duration": 190,
    "start_time": "2022-04-27T07:10:00.863Z"
   },
   {
    "duration": 188,
    "start_time": "2022-04-27T07:10:06.913Z"
   },
   {
    "duration": 276,
    "start_time": "2022-04-27T07:10:46.945Z"
   },
   {
    "duration": 34,
    "start_time": "2022-04-27T07:11:03.563Z"
   },
   {
    "duration": 36,
    "start_time": "2022-04-27T07:11:43.243Z"
   },
   {
    "duration": 30,
    "start_time": "2022-04-27T07:11:54.133Z"
   },
   {
    "duration": 5,
    "start_time": "2022-04-27T07:13:03.358Z"
   },
   {
    "duration": 2620,
    "start_time": "2022-04-27T07:13:03.378Z"
   },
   {
    "duration": 5,
    "start_time": "2022-04-27T07:13:06.001Z"
   },
   {
    "duration": 2499,
    "start_time": "2022-04-27T07:13:06.008Z"
   },
   {
    "duration": 3,
    "start_time": "2022-04-27T07:13:08.510Z"
   },
   {
    "duration": 27,
    "start_time": "2022-04-27T07:13:08.516Z"
   },
   {
    "duration": 202,
    "start_time": "2022-04-27T07:13:08.546Z"
   },
   {
    "duration": 5,
    "start_time": "2022-04-27T07:13:08.750Z"
   },
   {
    "duration": 192,
    "start_time": "2022-04-27T07:13:08.757Z"
   },
   {
    "duration": 737,
    "start_time": "2022-04-27T07:13:08.951Z"
   },
   {
    "duration": 131,
    "start_time": "2022-04-27T07:13:09.696Z"
   },
   {
    "duration": 1209,
    "start_time": "2022-04-27T07:13:09.829Z"
   },
   {
    "duration": 829,
    "start_time": "2022-04-27T07:13:11.041Z"
   },
   {
    "duration": 37,
    "start_time": "2022-04-27T07:13:11.872Z"
   },
   {
    "duration": 182,
    "start_time": "2022-04-27T07:13:11.911Z"
   },
   {
    "duration": 14,
    "start_time": "2022-04-27T07:13:12.095Z"
   },
   {
    "duration": 176,
    "start_time": "2022-04-27T07:13:12.111Z"
   },
   {
    "duration": 198,
    "start_time": "2022-04-27T07:13:12.289Z"
   },
   {
    "duration": 0,
    "start_time": "2022-04-27T07:13:12.493Z"
   },
   {
    "duration": 0,
    "start_time": "2022-04-27T07:13:12.495Z"
   },
   {
    "duration": 0,
    "start_time": "2022-04-27T07:13:12.497Z"
   },
   {
    "duration": 0,
    "start_time": "2022-04-27T07:13:12.498Z"
   },
   {
    "duration": 0,
    "start_time": "2022-04-27T07:13:12.500Z"
   },
   {
    "duration": 0,
    "start_time": "2022-04-27T07:13:12.501Z"
   },
   {
    "duration": 0,
    "start_time": "2022-04-27T07:13:12.502Z"
   },
   {
    "duration": 0,
    "start_time": "2022-04-27T07:13:12.503Z"
   },
   {
    "duration": 0,
    "start_time": "2022-04-27T07:13:12.504Z"
   },
   {
    "duration": 0,
    "start_time": "2022-04-27T07:13:12.505Z"
   },
   {
    "duration": 0,
    "start_time": "2022-04-27T07:13:12.507Z"
   },
   {
    "duration": 0,
    "start_time": "2022-04-27T07:13:12.508Z"
   },
   {
    "duration": 0,
    "start_time": "2022-04-27T07:13:12.509Z"
   },
   {
    "duration": 0,
    "start_time": "2022-04-27T07:13:12.510Z"
   },
   {
    "duration": 38,
    "start_time": "2022-04-27T07:13:20.039Z"
   },
   {
    "duration": 44,
    "start_time": "2022-04-27T07:13:28.623Z"
   },
   {
    "duration": 44,
    "start_time": "2022-04-27T07:13:44.242Z"
   },
   {
    "duration": 16,
    "start_time": "2022-04-27T07:13:50.776Z"
   },
   {
    "duration": 4,
    "start_time": "2022-04-27T07:14:19.828Z"
   },
   {
    "duration": 11,
    "start_time": "2022-04-27T07:14:19.834Z"
   },
   {
    "duration": 10,
    "start_time": "2022-04-27T07:14:19.847Z"
   },
   {
    "duration": 1063,
    "start_time": "2022-04-27T07:14:19.894Z"
   },
   {
    "duration": 3,
    "start_time": "2022-04-27T07:14:20.959Z"
   },
   {
    "duration": 40,
    "start_time": "2022-04-27T07:14:20.964Z"
   },
   {
    "duration": 176,
    "start_time": "2022-04-27T07:14:21.007Z"
   },
   {
    "duration": 9,
    "start_time": "2022-04-27T07:14:21.186Z"
   },
   {
    "duration": 177,
    "start_time": "2022-04-27T07:14:21.197Z"
   },
   {
    "duration": 648,
    "start_time": "2022-04-27T07:14:21.380Z"
   },
   {
    "duration": 124,
    "start_time": "2022-04-27T07:14:22.031Z"
   },
   {
    "duration": 1066,
    "start_time": "2022-04-27T07:14:22.157Z"
   },
   {
    "duration": 806,
    "start_time": "2022-04-27T07:14:23.226Z"
   },
   {
    "duration": 24,
    "start_time": "2022-04-27T07:14:24.035Z"
   },
   {
    "duration": 172,
    "start_time": "2022-04-27T07:14:24.062Z"
   },
   {
    "duration": 14,
    "start_time": "2022-04-27T07:14:24.236Z"
   },
   {
    "duration": 169,
    "start_time": "2022-04-27T07:14:24.252Z"
   },
   {
    "duration": 71,
    "start_time": "2022-04-27T07:14:24.423Z"
   },
   {
    "duration": 228,
    "start_time": "2022-04-27T07:14:24.496Z"
   },
   {
    "duration": 30,
    "start_time": "2022-04-27T07:14:24.726Z"
   },
   {
    "duration": 52,
    "start_time": "2022-04-27T07:14:24.759Z"
   },
   {
    "duration": 8,
    "start_time": "2022-04-27T07:14:24.813Z"
   },
   {
    "duration": 13,
    "start_time": "2022-04-27T07:14:24.824Z"
   },
   {
    "duration": 139,
    "start_time": "2022-04-27T07:14:24.840Z"
   },
   {
    "duration": 35,
    "start_time": "2022-04-27T07:14:24.981Z"
   },
   {
    "duration": 45,
    "start_time": "2022-04-27T07:14:25.018Z"
   },
   {
    "duration": 55,
    "start_time": "2022-04-27T07:14:25.065Z"
   },
   {
    "duration": 4689,
    "start_time": "2022-04-27T07:14:25.123Z"
   },
   {
    "duration": 24,
    "start_time": "2022-04-27T07:14:29.814Z"
   },
   {
    "duration": 10,
    "start_time": "2022-04-27T07:14:29.841Z"
   },
   {
    "duration": 5029,
    "start_time": "2022-04-27T07:14:29.853Z"
   },
   {
    "duration": 40,
    "start_time": "2022-04-27T07:14:34.884Z"
   },
   {
    "duration": 172,
    "start_time": "2022-04-27T07:17:29.184Z"
   },
   {
    "duration": 4,
    "start_time": "2022-04-27T07:17:50.987Z"
   },
   {
    "duration": 1956,
    "start_time": "2022-04-27T07:17:50.994Z"
   },
   {
    "duration": 4,
    "start_time": "2022-04-27T07:17:52.953Z"
   },
   {
    "duration": 2251,
    "start_time": "2022-04-27T07:17:52.960Z"
   },
   {
    "duration": 4,
    "start_time": "2022-04-27T07:17:55.214Z"
   },
   {
    "duration": 42,
    "start_time": "2022-04-27T07:17:55.221Z"
   },
   {
    "duration": 266,
    "start_time": "2022-04-27T07:17:55.266Z"
   },
   {
    "duration": 6,
    "start_time": "2022-04-27T07:17:55.534Z"
   },
   {
    "duration": 180,
    "start_time": "2022-04-27T07:17:55.542Z"
   },
   {
    "duration": 688,
    "start_time": "2022-04-27T07:17:55.726Z"
   },
   {
    "duration": 120,
    "start_time": "2022-04-27T07:17:56.416Z"
   },
   {
    "duration": 1038,
    "start_time": "2022-04-27T07:17:56.538Z"
   },
   {
    "duration": 784,
    "start_time": "2022-04-27T07:17:57.578Z"
   },
   {
    "duration": 36,
    "start_time": "2022-04-27T07:17:58.364Z"
   },
   {
    "duration": 171,
    "start_time": "2022-04-27T07:17:58.402Z"
   },
   {
    "duration": 18,
    "start_time": "2022-04-27T07:17:58.576Z"
   },
   {
    "duration": 162,
    "start_time": "2022-04-27T07:17:58.596Z"
   },
   {
    "duration": 190,
    "start_time": "2022-04-27T07:17:58.761Z"
   },
   {
    "duration": 27,
    "start_time": "2022-04-27T07:17:58.953Z"
   },
   {
    "duration": 15,
    "start_time": "2022-04-27T07:17:58.982Z"
   },
   {
    "duration": 12,
    "start_time": "2022-04-27T07:17:59.000Z"
   },
   {
    "duration": 146,
    "start_time": "2022-04-27T07:17:59.014Z"
   },
   {
    "duration": 39,
    "start_time": "2022-04-27T07:17:59.163Z"
   },
   {
    "duration": 29,
    "start_time": "2022-04-27T07:17:59.204Z"
   },
   {
    "duration": 27,
    "start_time": "2022-04-27T07:17:59.236Z"
   },
   {
    "duration": 3394,
    "start_time": "2022-04-27T07:17:59.265Z"
   },
   {
    "duration": 33,
    "start_time": "2022-04-27T07:18:02.661Z"
   },
   {
    "duration": 8,
    "start_time": "2022-04-27T07:18:02.699Z"
   },
   {
    "duration": 3355,
    "start_time": "2022-04-27T07:18:02.709Z"
   },
   {
    "duration": 45,
    "start_time": "2022-04-27T07:18:06.067Z"
   },
   {
    "duration": 164,
    "start_time": "2022-04-27T07:19:02.648Z"
   },
   {
    "duration": 177,
    "start_time": "2022-04-27T07:19:15.111Z"
   },
   {
    "duration": 803,
    "start_time": "2022-04-27T07:20:11.748Z"
   },
   {
    "duration": 80,
    "start_time": "2022-04-27T07:20:28.216Z"
   },
   {
    "duration": 61,
    "start_time": "2022-04-27T07:21:16.607Z"
   },
   {
    "duration": 28,
    "start_time": "2022-04-27T07:21:22.867Z"
   },
   {
    "duration": 33,
    "start_time": "2022-04-27T07:25:42.167Z"
   },
   {
    "duration": 36,
    "start_time": "2022-04-27T07:31:51.099Z"
   },
   {
    "duration": 177,
    "start_time": "2022-04-27T07:32:20.366Z"
   },
   {
    "duration": 5,
    "start_time": "2022-04-27T07:32:57.549Z"
   },
   {
    "duration": 2296,
    "start_time": "2022-04-27T07:32:57.562Z"
   },
   {
    "duration": 8,
    "start_time": "2022-04-27T07:32:59.863Z"
   },
   {
    "duration": 1222,
    "start_time": "2022-04-27T07:32:59.874Z"
   },
   {
    "duration": 4,
    "start_time": "2022-04-27T07:33:01.098Z"
   },
   {
    "duration": 35,
    "start_time": "2022-04-27T07:33:01.106Z"
   },
   {
    "duration": 228,
    "start_time": "2022-04-27T07:33:01.144Z"
   },
   {
    "duration": 19,
    "start_time": "2022-04-27T07:33:01.375Z"
   },
   {
    "duration": 190,
    "start_time": "2022-04-27T07:33:01.397Z"
   },
   {
    "duration": 862,
    "start_time": "2022-04-27T07:33:01.593Z"
   },
   {
    "duration": 174,
    "start_time": "2022-04-27T07:33:02.458Z"
   },
   {
    "duration": 1198,
    "start_time": "2022-04-27T07:33:02.634Z"
   },
   {
    "duration": 905,
    "start_time": "2022-04-27T07:33:03.834Z"
   },
   {
    "duration": 28,
    "start_time": "2022-04-27T07:33:04.741Z"
   },
   {
    "duration": 211,
    "start_time": "2022-04-27T07:33:04.775Z"
   },
   {
    "duration": 14,
    "start_time": "2022-04-27T07:33:04.988Z"
   },
   {
    "duration": 170,
    "start_time": "2022-04-27T07:33:05.004Z"
   },
   {
    "duration": 31,
    "start_time": "2022-04-27T07:33:05.177Z"
   },
   {
    "duration": 26,
    "start_time": "2022-04-27T07:33:05.210Z"
   },
   {
    "duration": 178,
    "start_time": "2022-04-27T07:33:05.239Z"
   },
   {
    "duration": 27,
    "start_time": "2022-04-27T07:33:05.419Z"
   },
   {
    "duration": 8,
    "start_time": "2022-04-27T07:33:05.449Z"
   },
   {
    "duration": 39,
    "start_time": "2022-04-27T07:33:05.459Z"
   },
   {
    "duration": 168,
    "start_time": "2022-04-27T07:33:05.501Z"
   },
   {
    "duration": 43,
    "start_time": "2022-04-27T07:33:05.671Z"
   },
   {
    "duration": 36,
    "start_time": "2022-04-27T07:33:05.716Z"
   },
   {
    "duration": 43,
    "start_time": "2022-04-27T07:33:05.755Z"
   },
   {
    "duration": 3234,
    "start_time": "2022-04-27T07:33:05.800Z"
   },
   {
    "duration": 22,
    "start_time": "2022-04-27T07:33:09.036Z"
   },
   {
    "duration": 35,
    "start_time": "2022-04-27T07:33:09.061Z"
   },
   {
    "duration": 3439,
    "start_time": "2022-04-27T07:33:09.098Z"
   },
   {
    "duration": 35,
    "start_time": "2022-04-27T07:33:12.539Z"
   },
   {
    "duration": 51,
    "start_time": "2022-04-27T07:33:57.637Z"
   },
   {
    "duration": 285,
    "start_time": "2022-04-27T07:46:33.109Z"
   },
   {
    "duration": 243,
    "start_time": "2022-04-27T07:47:23.129Z"
   },
   {
    "duration": 30,
    "start_time": "2022-04-27T07:47:27.847Z"
   },
   {
    "duration": 269,
    "start_time": "2022-04-27T07:47:28.789Z"
   },
   {
    "duration": 42,
    "start_time": "2022-04-27T07:51:14.829Z"
   },
   {
    "duration": 29,
    "start_time": "2022-04-27T07:53:00.960Z"
   },
   {
    "duration": 26,
    "start_time": "2022-04-27T08:00:25.639Z"
   },
   {
    "duration": 33,
    "start_time": "2022-04-27T08:00:26.521Z"
   },
   {
    "duration": 154,
    "start_time": "2022-04-27T08:00:33.016Z"
   },
   {
    "duration": 27,
    "start_time": "2022-04-27T08:02:44.559Z"
   },
   {
    "duration": 29,
    "start_time": "2022-04-27T08:09:05.378Z"
   },
   {
    "duration": 32,
    "start_time": "2022-04-27T08:09:07.597Z"
   },
   {
    "duration": 166,
    "start_time": "2022-04-27T08:10:18.471Z"
   },
   {
    "duration": 13,
    "start_time": "2022-04-27T08:32:15.420Z"
   },
   {
    "duration": 11,
    "start_time": "2022-04-27T08:35:53.011Z"
   },
   {
    "duration": 5,
    "start_time": "2022-04-27T08:36:02.923Z"
   },
   {
    "duration": 2323,
    "start_time": "2022-04-27T08:36:02.931Z"
   },
   {
    "duration": 4,
    "start_time": "2022-04-27T08:36:05.256Z"
   },
   {
    "duration": 1205,
    "start_time": "2022-04-27T08:36:05.263Z"
   },
   {
    "duration": 3,
    "start_time": "2022-04-27T08:36:06.470Z"
   },
   {
    "duration": 53,
    "start_time": "2022-04-27T08:36:06.475Z"
   },
   {
    "duration": 200,
    "start_time": "2022-04-27T08:36:06.533Z"
   },
   {
    "duration": 6,
    "start_time": "2022-04-27T08:36:06.735Z"
   },
   {
    "duration": 195,
    "start_time": "2022-04-27T08:36:06.743Z"
   },
   {
    "duration": 778,
    "start_time": "2022-04-27T08:36:06.942Z"
   },
   {
    "duration": 161,
    "start_time": "2022-04-27T08:36:07.723Z"
   },
   {
    "duration": 1178,
    "start_time": "2022-04-27T08:36:07.886Z"
   },
   {
    "duration": 864,
    "start_time": "2022-04-27T08:36:09.066Z"
   },
   {
    "duration": 27,
    "start_time": "2022-04-27T08:36:09.932Z"
   },
   {
    "duration": 191,
    "start_time": "2022-04-27T08:36:09.961Z"
   },
   {
    "duration": 12,
    "start_time": "2022-04-27T08:36:10.155Z"
   },
   {
    "duration": 165,
    "start_time": "2022-04-27T08:36:10.170Z"
   },
   {
    "duration": 27,
    "start_time": "2022-04-27T08:36:10.337Z"
   },
   {
    "duration": 43,
    "start_time": "2022-04-27T08:36:10.366Z"
   },
   {
    "duration": 46,
    "start_time": "2022-04-27T08:36:10.411Z"
   },
   {
    "duration": 30,
    "start_time": "2022-04-27T08:36:10.459Z"
   },
   {
    "duration": 45,
    "start_time": "2022-04-27T08:36:10.491Z"
   },
   {
    "duration": 33,
    "start_time": "2022-04-27T08:36:10.542Z"
   },
   {
    "duration": 21,
    "start_time": "2022-04-27T08:36:10.577Z"
   },
   {
    "duration": 31,
    "start_time": "2022-04-27T08:36:10.610Z"
   },
   {
    "duration": 156,
    "start_time": "2022-04-27T08:36:10.643Z"
   },
   {
    "duration": 37,
    "start_time": "2022-04-27T08:36:10.801Z"
   },
   {
    "duration": 73,
    "start_time": "2022-04-27T08:36:10.845Z"
   },
   {
    "duration": 240,
    "start_time": "2022-04-27T08:36:10.923Z"
   },
   {
    "duration": 57,
    "start_time": "2022-04-27T08:36:11.166Z"
   },
   {
    "duration": 4054,
    "start_time": "2022-04-27T08:36:11.227Z"
   },
   {
    "duration": 39,
    "start_time": "2022-04-27T08:36:15.283Z"
   },
   {
    "duration": 29,
    "start_time": "2022-04-27T08:36:15.325Z"
   },
   {
    "duration": 4306,
    "start_time": "2022-04-27T08:36:15.356Z"
   },
   {
    "duration": 67,
    "start_time": "2022-04-27T08:36:19.665Z"
   },
   {
    "duration": 10,
    "start_time": "2022-04-27T08:37:38.927Z"
   },
   {
    "duration": 9,
    "start_time": "2022-04-27T08:37:41.636Z"
   },
   {
    "duration": 7,
    "start_time": "2022-04-27T08:37:50.442Z"
   },
   {
    "duration": 2284,
    "start_time": "2022-04-27T08:37:50.452Z"
   },
   {
    "duration": 5,
    "start_time": "2022-04-27T08:37:52.738Z"
   },
   {
    "duration": 1412,
    "start_time": "2022-04-27T08:37:52.746Z"
   },
   {
    "duration": 3,
    "start_time": "2022-04-27T08:37:54.161Z"
   },
   {
    "duration": 51,
    "start_time": "2022-04-27T08:37:54.166Z"
   },
   {
    "duration": 216,
    "start_time": "2022-04-27T08:37:54.220Z"
   },
   {
    "duration": 5,
    "start_time": "2022-04-27T08:37:54.438Z"
   },
   {
    "duration": 222,
    "start_time": "2022-04-27T08:37:54.445Z"
   },
   {
    "duration": 783,
    "start_time": "2022-04-27T08:37:54.670Z"
   },
   {
    "duration": 132,
    "start_time": "2022-04-27T08:37:55.455Z"
   },
   {
    "duration": 1390,
    "start_time": "2022-04-27T08:37:55.590Z"
   },
   {
    "duration": 867,
    "start_time": "2022-04-27T08:37:56.982Z"
   },
   {
    "duration": 27,
    "start_time": "2022-04-27T08:37:57.852Z"
   },
   {
    "duration": 187,
    "start_time": "2022-04-27T08:37:57.881Z"
   },
   {
    "duration": 13,
    "start_time": "2022-04-27T08:37:58.070Z"
   },
   {
    "duration": 173,
    "start_time": "2022-04-27T08:37:58.095Z"
   },
   {
    "duration": 49,
    "start_time": "2022-04-27T08:37:58.270Z"
   },
   {
    "duration": 42,
    "start_time": "2022-04-27T08:37:58.321Z"
   },
   {
    "duration": 35,
    "start_time": "2022-04-27T08:37:58.365Z"
   },
   {
    "duration": 46,
    "start_time": "2022-04-27T08:37:58.409Z"
   },
   {
    "duration": 31,
    "start_time": "2022-04-27T08:37:58.458Z"
   },
   {
    "duration": 43,
    "start_time": "2022-04-27T08:37:58.493Z"
   },
   {
    "duration": 9,
    "start_time": "2022-04-27T08:37:58.540Z"
   },
   {
    "duration": 18,
    "start_time": "2022-04-27T08:37:58.551Z"
   },
   {
    "duration": 180,
    "start_time": "2022-04-27T08:37:58.571Z"
   },
   {
    "duration": 47,
    "start_time": "2022-04-27T08:37:58.754Z"
   },
   {
    "duration": 49,
    "start_time": "2022-04-27T08:37:58.807Z"
   },
   {
    "duration": 260,
    "start_time": "2022-04-27T08:37:58.858Z"
   },
   {
    "duration": 49,
    "start_time": "2022-04-27T08:37:59.120Z"
   },
   {
    "duration": 3840,
    "start_time": "2022-04-27T08:37:59.171Z"
   },
   {
    "duration": 22,
    "start_time": "2022-04-27T08:38:03.019Z"
   },
   {
    "duration": 9,
    "start_time": "2022-04-27T08:38:03.044Z"
   },
   {
    "duration": 3900,
    "start_time": "2022-04-27T08:38:03.055Z"
   },
   {
    "duration": 49,
    "start_time": "2022-04-27T08:38:06.958Z"
   },
   {
    "duration": 3564,
    "start_time": "2022-04-27T08:51:42.049Z"
   },
   {
    "duration": 3343,
    "start_time": "2022-04-27T08:52:38.891Z"
   },
   {
    "duration": 3767,
    "start_time": "2022-04-27T08:54:10.421Z"
   },
   {
    "duration": 4508,
    "start_time": "2022-04-27T08:55:24.093Z"
   },
   {
    "duration": 3987,
    "start_time": "2022-04-27T08:56:08.135Z"
   },
   {
    "duration": 50,
    "start_time": "2022-04-27T10:25:51.886Z"
   },
   {
    "duration": 3,
    "start_time": "2022-04-27T10:26:02.953Z"
   },
   {
    "duration": 1569,
    "start_time": "2022-04-27T10:26:02.958Z"
   },
   {
    "duration": 3,
    "start_time": "2022-04-27T10:26:04.530Z"
   },
   {
    "duration": 864,
    "start_time": "2022-04-27T10:26:04.535Z"
   },
   {
    "duration": 6,
    "start_time": "2022-04-27T10:26:05.401Z"
   },
   {
    "duration": 22,
    "start_time": "2022-04-27T10:26:05.409Z"
   },
   {
    "duration": 154,
    "start_time": "2022-04-27T10:26:05.433Z"
   },
   {
    "duration": 4,
    "start_time": "2022-04-27T10:26:05.589Z"
   },
   {
    "duration": 139,
    "start_time": "2022-04-27T10:26:05.607Z"
   },
   {
    "duration": 502,
    "start_time": "2022-04-27T10:26:05.748Z"
   },
   {
    "duration": 102,
    "start_time": "2022-04-27T10:26:06.253Z"
   },
   {
    "duration": 817,
    "start_time": "2022-04-27T10:26:06.356Z"
   },
   {
    "duration": 605,
    "start_time": "2022-04-27T10:26:07.174Z"
   },
   {
    "duration": 19,
    "start_time": "2022-04-27T10:26:07.780Z"
   },
   {
    "duration": 130,
    "start_time": "2022-04-27T10:26:07.801Z"
   },
   {
    "duration": 10,
    "start_time": "2022-04-27T10:26:07.932Z"
   },
   {
    "duration": 113,
    "start_time": "2022-04-27T10:26:07.944Z"
   },
   {
    "duration": 21,
    "start_time": "2022-04-27T10:26:08.058Z"
   },
   {
    "duration": 33,
    "start_time": "2022-04-27T10:26:08.081Z"
   },
   {
    "duration": 21,
    "start_time": "2022-04-27T10:26:08.116Z"
   },
   {
    "duration": 21,
    "start_time": "2022-04-27T10:26:08.139Z"
   },
   {
    "duration": 45,
    "start_time": "2022-04-27T10:26:08.161Z"
   },
   {
    "duration": 27,
    "start_time": "2022-04-27T10:26:08.208Z"
   },
   {
    "duration": 6,
    "start_time": "2022-04-27T10:26:08.237Z"
   },
   {
    "duration": 9,
    "start_time": "2022-04-27T10:26:08.245Z"
   },
   {
    "duration": 131,
    "start_time": "2022-04-27T10:26:08.256Z"
   },
   {
    "duration": 27,
    "start_time": "2022-04-27T10:26:08.389Z"
   },
   {
    "duration": 2724,
    "start_time": "2022-04-27T10:26:08.418Z"
   },
   {
    "duration": 35,
    "start_time": "2022-04-27T10:26:11.146Z"
   },
   {
    "duration": 15,
    "start_time": "2022-04-27T10:26:51.172Z"
   },
   {
    "duration": 26,
    "start_time": "2022-04-27T10:27:23.171Z"
   },
   {
    "duration": 38,
    "start_time": "2022-04-27T10:28:30.601Z"
   },
   {
    "duration": 26,
    "start_time": "2022-04-27T10:28:33.761Z"
   },
   {
    "duration": 4,
    "start_time": "2022-04-27T10:29:05.255Z"
   },
   {
    "duration": 1479,
    "start_time": "2022-04-27T10:29:05.260Z"
   },
   {
    "duration": 5,
    "start_time": "2022-04-27T10:29:06.742Z"
   },
   {
    "duration": 942,
    "start_time": "2022-04-27T10:29:06.749Z"
   },
   {
    "duration": 2,
    "start_time": "2022-04-27T10:29:07.693Z"
   },
   {
    "duration": 25,
    "start_time": "2022-04-27T10:29:07.698Z"
   },
   {
    "duration": 154,
    "start_time": "2022-04-27T10:29:07.724Z"
   },
   {
    "duration": 3,
    "start_time": "2022-04-27T10:29:07.880Z"
   },
   {
    "duration": 151,
    "start_time": "2022-04-27T10:29:07.885Z"
   },
   {
    "duration": 530,
    "start_time": "2022-04-27T10:29:08.038Z"
   },
   {
    "duration": 106,
    "start_time": "2022-04-27T10:29:08.569Z"
   },
   {
    "duration": 887,
    "start_time": "2022-04-27T10:29:08.677Z"
   },
   {
    "duration": 626,
    "start_time": "2022-04-27T10:29:09.566Z"
   },
   {
    "duration": 26,
    "start_time": "2022-04-27T10:29:10.194Z"
   },
   {
    "duration": 133,
    "start_time": "2022-04-27T10:29:10.224Z"
   },
   {
    "duration": 11,
    "start_time": "2022-04-27T10:29:10.358Z"
   },
   {
    "duration": 126,
    "start_time": "2022-04-27T10:29:10.371Z"
   },
   {
    "duration": 30,
    "start_time": "2022-04-27T10:29:10.499Z"
   },
   {
    "duration": 32,
    "start_time": "2022-04-27T10:29:10.532Z"
   },
   {
    "duration": 50,
    "start_time": "2022-04-27T10:29:10.567Z"
   },
   {
    "duration": 29,
    "start_time": "2022-04-27T10:29:10.620Z"
   },
   {
    "duration": 23,
    "start_time": "2022-04-27T10:29:10.651Z"
   },
   {
    "duration": 48,
    "start_time": "2022-04-27T10:29:10.676Z"
   },
   {
    "duration": 7,
    "start_time": "2022-04-27T10:29:10.726Z"
   },
   {
    "duration": 12,
    "start_time": "2022-04-27T10:29:10.735Z"
   },
   {
    "duration": 114,
    "start_time": "2022-04-27T10:29:10.749Z"
   },
   {
    "duration": 21,
    "start_time": "2022-04-27T10:29:10.865Z"
   },
   {
    "duration": 2956,
    "start_time": "2022-04-27T10:29:10.888Z"
   },
   {
    "duration": 30,
    "start_time": "2022-04-27T10:29:13.845Z"
   },
   {
    "duration": 40,
    "start_time": "2022-04-27T10:29:13.877Z"
   },
   {
    "duration": 33,
    "start_time": "2022-04-27T10:30:09.577Z"
   },
   {
    "duration": 26,
    "start_time": "2022-04-27T10:30:10.616Z"
   },
   {
    "duration": 55,
    "start_time": "2022-04-27T10:35:10.705Z"
   },
   {
    "duration": 25,
    "start_time": "2022-04-27T10:35:13.107Z"
   },
   {
    "duration": 3,
    "start_time": "2022-04-27T10:35:28.957Z"
   },
   {
    "duration": 1374,
    "start_time": "2022-04-27T10:35:28.962Z"
   },
   {
    "duration": 3,
    "start_time": "2022-04-27T10:35:30.338Z"
   },
   {
    "duration": 875,
    "start_time": "2022-04-27T10:35:30.342Z"
   },
   {
    "duration": 2,
    "start_time": "2022-04-27T10:35:31.220Z"
   },
   {
    "duration": 33,
    "start_time": "2022-04-27T10:35:31.224Z"
   },
   {
    "duration": 145,
    "start_time": "2022-04-27T10:35:31.259Z"
   },
   {
    "duration": 4,
    "start_time": "2022-04-27T10:35:31.408Z"
   },
   {
    "duration": 150,
    "start_time": "2022-04-27T10:35:31.413Z"
   },
   {
    "duration": 510,
    "start_time": "2022-04-27T10:35:31.565Z"
   },
   {
    "duration": 108,
    "start_time": "2022-04-27T10:35:32.078Z"
   },
   {
    "duration": 819,
    "start_time": "2022-04-27T10:35:32.188Z"
   },
   {
    "duration": 608,
    "start_time": "2022-04-27T10:35:33.009Z"
   },
   {
    "duration": 19,
    "start_time": "2022-04-27T10:35:33.619Z"
   },
   {
    "duration": 138,
    "start_time": "2022-04-27T10:35:33.639Z"
   },
   {
    "duration": 10,
    "start_time": "2022-04-27T10:35:33.779Z"
   },
   {
    "duration": 111,
    "start_time": "2022-04-27T10:35:33.791Z"
   },
   {
    "duration": 19,
    "start_time": "2022-04-27T10:35:33.908Z"
   },
   {
    "duration": 21,
    "start_time": "2022-04-27T10:35:33.929Z"
   },
   {
    "duration": 20,
    "start_time": "2022-04-27T10:35:33.952Z"
   },
   {
    "duration": 49,
    "start_time": "2022-04-27T10:35:33.974Z"
   },
   {
    "duration": 22,
    "start_time": "2022-04-27T10:35:34.025Z"
   },
   {
    "duration": 22,
    "start_time": "2022-04-27T10:35:34.049Z"
   },
   {
    "duration": 6,
    "start_time": "2022-04-27T10:35:34.073Z"
   },
   {
    "duration": 33,
    "start_time": "2022-04-27T10:35:34.081Z"
   },
   {
    "duration": 112,
    "start_time": "2022-04-27T10:35:34.116Z"
   },
   {
    "duration": 20,
    "start_time": "2022-04-27T10:35:34.230Z"
   },
   {
    "duration": 2716,
    "start_time": "2022-04-27T10:35:34.252Z"
   },
   {
    "duration": 49,
    "start_time": "2022-04-27T10:35:36.971Z"
   },
   {
    "duration": 22,
    "start_time": "2022-04-27T10:35:37.022Z"
   },
   {
    "duration": 201,
    "start_time": "2022-04-27T10:39:51.267Z"
   },
   {
    "duration": 30,
    "start_time": "2022-04-27T10:39:52.706Z"
   },
   {
    "duration": 40,
    "start_time": "2022-04-27T10:40:50.946Z"
   },
   {
    "duration": 19,
    "start_time": "2022-04-27T10:41:03.637Z"
   },
   {
    "duration": 66,
    "start_time": "2022-04-27T10:42:53.838Z"
   },
   {
    "duration": 38,
    "start_time": "2022-04-27T10:46:35.989Z"
   },
   {
    "duration": 31,
    "start_time": "2022-04-27T10:46:37.029Z"
   },
   {
    "duration": 22,
    "start_time": "2022-04-27T10:46:38.467Z"
   },
   {
    "duration": 142,
    "start_time": "2022-04-27T10:48:02.786Z"
   },
   {
    "duration": 16,
    "start_time": "2022-04-27T10:48:16.416Z"
   },
   {
    "duration": 183,
    "start_time": "2022-04-27T10:48:38.787Z"
   },
   {
    "duration": 6,
    "start_time": "2022-04-27T10:49:07.506Z"
   },
   {
    "duration": 1519,
    "start_time": "2022-04-27T10:49:07.515Z"
   },
   {
    "duration": 3,
    "start_time": "2022-04-27T10:49:09.036Z"
   },
   {
    "duration": 960,
    "start_time": "2022-04-27T10:49:09.041Z"
   },
   {
    "duration": 4,
    "start_time": "2022-04-27T10:49:10.005Z"
   },
   {
    "duration": 33,
    "start_time": "2022-04-27T10:49:10.011Z"
   },
   {
    "duration": 196,
    "start_time": "2022-04-27T10:49:10.046Z"
   },
   {
    "duration": 5,
    "start_time": "2022-04-27T10:49:10.244Z"
   },
   {
    "duration": 197,
    "start_time": "2022-04-27T10:49:10.254Z"
   },
   {
    "duration": 639,
    "start_time": "2022-04-27T10:49:10.453Z"
   },
   {
    "duration": 104,
    "start_time": "2022-04-27T10:49:11.093Z"
   },
   {
    "duration": 1034,
    "start_time": "2022-04-27T10:49:11.199Z"
   },
   {
    "duration": 753,
    "start_time": "2022-04-27T10:49:12.238Z"
   },
   {
    "duration": 34,
    "start_time": "2022-04-27T10:49:12.993Z"
   },
   {
    "duration": 149,
    "start_time": "2022-04-27T10:49:13.030Z"
   },
   {
    "duration": 13,
    "start_time": "2022-04-27T10:49:13.181Z"
   },
   {
    "duration": 136,
    "start_time": "2022-04-27T10:49:13.197Z"
   },
   {
    "duration": 21,
    "start_time": "2022-04-27T10:49:13.336Z"
   },
   {
    "duration": 22,
    "start_time": "2022-04-27T10:49:13.359Z"
   },
   {
    "duration": 53,
    "start_time": "2022-04-27T10:49:13.383Z"
   },
   {
    "duration": 32,
    "start_time": "2022-04-27T10:49:13.439Z"
   },
   {
    "duration": 47,
    "start_time": "2022-04-27T10:49:13.473Z"
   },
   {
    "duration": 25,
    "start_time": "2022-04-27T10:49:13.522Z"
   },
   {
    "duration": 8,
    "start_time": "2022-04-27T10:49:13.549Z"
   },
   {
    "duration": 17,
    "start_time": "2022-04-27T10:49:13.560Z"
   },
   {
    "duration": 138,
    "start_time": "2022-04-27T10:49:13.579Z"
   },
   {
    "duration": 30,
    "start_time": "2022-04-27T10:49:13.719Z"
   },
   {
    "duration": 3518,
    "start_time": "2022-04-27T10:49:13.751Z"
   },
   {
    "duration": 212,
    "start_time": "2022-04-27T10:49:17.272Z"
   },
   {
    "duration": 53,
    "start_time": "2022-04-27T10:49:17.486Z"
   },
   {
    "duration": 33,
    "start_time": "2022-04-27T10:49:17.541Z"
   },
   {
    "duration": 58,
    "start_time": "2022-04-27T10:49:17.576Z"
   },
   {
    "duration": 38,
    "start_time": "2022-04-27T10:50:52.512Z"
   },
   {
    "duration": 122,
    "start_time": "2022-04-27T10:51:39.642Z"
   },
   {
    "duration": 194,
    "start_time": "2022-04-27T10:51:53.439Z"
   },
   {
    "duration": 177,
    "start_time": "2022-04-27T10:52:59.398Z"
   },
   {
    "duration": 165,
    "start_time": "2022-04-27T10:53:29.086Z"
   },
   {
    "duration": 190,
    "start_time": "2022-04-27T10:55:21.028Z"
   },
   {
    "duration": 196,
    "start_time": "2022-04-27T10:56:04.897Z"
   },
   {
    "duration": 216,
    "start_time": "2022-04-27T10:59:05.862Z"
   },
   {
    "duration": 204,
    "start_time": "2022-04-27T11:00:12.159Z"
   },
   {
    "duration": 41,
    "start_time": "2022-04-27T11:00:13.400Z"
   },
   {
    "duration": 9,
    "start_time": "2022-04-27T11:00:16.479Z"
   },
   {
    "duration": 24,
    "start_time": "2022-04-27T11:00:17.880Z"
   },
   {
    "duration": 174,
    "start_time": "2022-04-27T11:01:00.683Z"
   },
   {
    "duration": 40,
    "start_time": "2022-04-27T11:01:01.802Z"
   },
   {
    "duration": 9,
    "start_time": "2022-04-27T11:01:02.290Z"
   },
   {
    "duration": 31,
    "start_time": "2022-04-27T11:01:03.000Z"
   },
   {
    "duration": 7,
    "start_time": "2022-04-27T11:01:13.813Z"
   },
   {
    "duration": 1538,
    "start_time": "2022-04-27T11:01:13.823Z"
   },
   {
    "duration": 3,
    "start_time": "2022-04-27T11:01:15.363Z"
   },
   {
    "duration": 995,
    "start_time": "2022-04-27T11:01:15.368Z"
   },
   {
    "duration": 3,
    "start_time": "2022-04-27T11:01:16.364Z"
   },
   {
    "duration": 19,
    "start_time": "2022-04-27T11:01:16.369Z"
   },
   {
    "duration": 164,
    "start_time": "2022-04-27T11:01:16.390Z"
   },
   {
    "duration": 3,
    "start_time": "2022-04-27T11:01:16.556Z"
   },
   {
    "duration": 162,
    "start_time": "2022-04-27T11:01:16.562Z"
   },
   {
    "duration": 559,
    "start_time": "2022-04-27T11:01:16.727Z"
   },
   {
    "duration": 110,
    "start_time": "2022-04-27T11:01:17.289Z"
   },
   {
    "duration": 892,
    "start_time": "2022-04-27T11:01:17.409Z"
   },
   {
    "duration": 655,
    "start_time": "2022-04-27T11:01:18.308Z"
   },
   {
    "duration": 19,
    "start_time": "2022-04-27T11:01:18.964Z"
   },
   {
    "duration": 148,
    "start_time": "2022-04-27T11:01:18.985Z"
   },
   {
    "duration": 10,
    "start_time": "2022-04-27T11:01:19.135Z"
   },
   {
    "duration": 129,
    "start_time": "2022-04-27T11:01:19.147Z"
   },
   {
    "duration": 20,
    "start_time": "2022-04-27T11:01:19.278Z"
   },
   {
    "duration": 29,
    "start_time": "2022-04-27T11:01:19.307Z"
   },
   {
    "duration": 22,
    "start_time": "2022-04-27T11:01:19.338Z"
   },
   {
    "duration": 21,
    "start_time": "2022-04-27T11:01:19.361Z"
   },
   {
    "duration": 53,
    "start_time": "2022-04-27T11:01:19.384Z"
   },
   {
    "duration": 22,
    "start_time": "2022-04-27T11:01:19.439Z"
   },
   {
    "duration": 7,
    "start_time": "2022-04-27T11:01:19.464Z"
   },
   {
    "duration": 37,
    "start_time": "2022-04-27T11:01:19.473Z"
   },
   {
    "duration": 97,
    "start_time": "2022-04-27T11:01:19.512Z"
   },
   {
    "duration": 27,
    "start_time": "2022-04-27T11:01:19.612Z"
   },
   {
    "duration": 3012,
    "start_time": "2022-04-27T11:01:19.641Z"
   },
   {
    "duration": 260,
    "start_time": "2022-04-27T11:01:22.655Z"
   },
   {
    "duration": 37,
    "start_time": "2022-04-27T11:01:22.918Z"
   },
   {
    "duration": 54,
    "start_time": "2022-04-27T11:01:22.956Z"
   },
   {
    "duration": 28,
    "start_time": "2022-04-27T11:01:23.012Z"
   },
   {
    "duration": 233,
    "start_time": "2022-04-27T11:03:28.867Z"
   },
   {
    "duration": 32,
    "start_time": "2022-04-27T11:03:31.763Z"
   },
   {
    "duration": 9,
    "start_time": "2022-04-27T11:03:32.690Z"
   },
   {
    "duration": 23,
    "start_time": "2022-04-27T11:03:33.740Z"
   },
   {
    "duration": 22,
    "start_time": "2022-04-27T11:03:44.299Z"
   },
   {
    "duration": 222,
    "start_time": "2022-04-27T11:04:39.610Z"
   },
   {
    "duration": 17,
    "start_time": "2022-04-27T11:04:40.379Z"
   },
   {
    "duration": 26,
    "start_time": "2022-04-27T11:04:42.449Z"
   },
   {
    "duration": 3,
    "start_time": "2022-04-27T11:04:51.486Z"
   },
   {
    "duration": 1624,
    "start_time": "2022-04-27T11:04:51.503Z"
   },
   {
    "duration": 2,
    "start_time": "2022-04-27T11:04:53.129Z"
   },
   {
    "duration": 902,
    "start_time": "2022-04-27T11:04:53.133Z"
   },
   {
    "duration": 2,
    "start_time": "2022-04-27T11:04:54.037Z"
   },
   {
    "duration": 22,
    "start_time": "2022-04-27T11:04:54.041Z"
   },
   {
    "duration": 155,
    "start_time": "2022-04-27T11:04:54.064Z"
   },
   {
    "duration": 4,
    "start_time": "2022-04-27T11:04:54.221Z"
   },
   {
    "duration": 153,
    "start_time": "2022-04-27T11:04:54.228Z"
   },
   {
    "duration": 552,
    "start_time": "2022-04-27T11:04:54.383Z"
   },
   {
    "duration": 119,
    "start_time": "2022-04-27T11:04:54.938Z"
   },
   {
    "duration": 886,
    "start_time": "2022-04-27T11:04:55.059Z"
   },
   {
    "duration": 629,
    "start_time": "2022-04-27T11:04:55.946Z"
   },
   {
    "duration": 18,
    "start_time": "2022-04-27T11:04:56.577Z"
   },
   {
    "duration": 139,
    "start_time": "2022-04-27T11:04:56.597Z"
   },
   {
    "duration": 10,
    "start_time": "2022-04-27T11:04:56.737Z"
   },
   {
    "duration": 119,
    "start_time": "2022-04-27T11:04:56.749Z"
   },
   {
    "duration": 21,
    "start_time": "2022-04-27T11:04:56.870Z"
   },
   {
    "duration": 38,
    "start_time": "2022-04-27T11:04:56.893Z"
   },
   {
    "duration": 21,
    "start_time": "2022-04-27T11:04:56.933Z"
   },
   {
    "duration": 20,
    "start_time": "2022-04-27T11:04:56.956Z"
   },
   {
    "duration": 51,
    "start_time": "2022-04-27T11:04:56.978Z"
   },
   {
    "duration": 20,
    "start_time": "2022-04-27T11:04:57.030Z"
   },
   {
    "duration": 6,
    "start_time": "2022-04-27T11:04:57.052Z"
   },
   {
    "duration": 11,
    "start_time": "2022-04-27T11:04:57.059Z"
   },
   {
    "duration": 131,
    "start_time": "2022-04-27T11:04:57.072Z"
   },
   {
    "duration": 26,
    "start_time": "2022-04-27T11:04:57.205Z"
   },
   {
    "duration": 2833,
    "start_time": "2022-04-27T11:04:57.233Z"
   },
   {
    "duration": 205,
    "start_time": "2022-04-27T11:05:00.069Z"
   },
   {
    "duration": 16,
    "start_time": "2022-04-27T11:05:00.275Z"
   },
   {
    "duration": 42,
    "start_time": "2022-04-27T11:05:00.292Z"
   },
   {
    "duration": 20,
    "start_time": "2022-04-27T11:07:58.929Z"
   },
   {
    "duration": 169,
    "start_time": "2022-04-27T11:08:30.850Z"
   },
   {
    "duration": 25,
    "start_time": "2022-04-27T11:08:32.849Z"
   },
   {
    "duration": 19,
    "start_time": "2022-04-27T11:08:36.049Z"
   },
   {
    "duration": 21,
    "start_time": "2022-04-27T11:08:37.567Z"
   },
   {
    "duration": 2689,
    "start_time": "2022-04-27T11:08:49.798Z"
   },
   {
    "duration": 176,
    "start_time": "2022-04-27T11:08:54.767Z"
   },
   {
    "duration": 30,
    "start_time": "2022-04-27T11:08:56.006Z"
   },
   {
    "duration": 19,
    "start_time": "2022-04-27T11:08:57.725Z"
   },
   {
    "duration": 15,
    "start_time": "2022-04-27T11:12:13.242Z"
   },
   {
    "duration": 37,
    "start_time": "2022-04-27T11:14:32.482Z"
   },
   {
    "duration": 16,
    "start_time": "2022-04-27T11:14:38.802Z"
   },
   {
    "duration": 139,
    "start_time": "2022-04-27T11:15:06.884Z"
   },
   {
    "duration": 4,
    "start_time": "2022-04-27T11:15:23.552Z"
   },
   {
    "duration": 2158,
    "start_time": "2022-04-27T11:15:23.558Z"
   },
   {
    "duration": 2,
    "start_time": "2022-04-27T11:15:25.718Z"
   },
   {
    "duration": 830,
    "start_time": "2022-04-27T11:15:25.722Z"
   },
   {
    "duration": 2,
    "start_time": "2022-04-27T11:15:26.554Z"
   },
   {
    "duration": 19,
    "start_time": "2022-04-27T11:15:26.557Z"
   },
   {
    "duration": 152,
    "start_time": "2022-04-27T11:15:26.578Z"
   },
   {
    "duration": 4,
    "start_time": "2022-04-27T11:15:26.731Z"
   },
   {
    "duration": 143,
    "start_time": "2022-04-27T11:15:26.737Z"
   },
   {
    "duration": 482,
    "start_time": "2022-04-27T11:15:26.881Z"
   },
   {
    "duration": 101,
    "start_time": "2022-04-27T11:15:27.365Z"
   },
   {
    "duration": 774,
    "start_time": "2022-04-27T11:15:27.468Z"
   },
   {
    "duration": 581,
    "start_time": "2022-04-27T11:15:28.244Z"
   },
   {
    "duration": 18,
    "start_time": "2022-04-27T11:15:28.827Z"
   },
   {
    "duration": 136,
    "start_time": "2022-04-27T11:15:28.846Z"
   },
   {
    "duration": 11,
    "start_time": "2022-04-27T11:15:28.983Z"
   },
   {
    "duration": 119,
    "start_time": "2022-04-27T11:15:28.995Z"
   },
   {
    "duration": 20,
    "start_time": "2022-04-27T11:15:29.116Z"
   },
   {
    "duration": 21,
    "start_time": "2022-04-27T11:15:29.138Z"
   },
   {
    "duration": 21,
    "start_time": "2022-04-27T11:15:29.160Z"
   },
   {
    "duration": 37,
    "start_time": "2022-04-27T11:15:29.182Z"
   },
   {
    "duration": 22,
    "start_time": "2022-04-27T11:15:29.221Z"
   },
   {
    "duration": 19,
    "start_time": "2022-04-27T11:15:29.245Z"
   },
   {
    "duration": 6,
    "start_time": "2022-04-27T11:15:29.267Z"
   },
   {
    "duration": 40,
    "start_time": "2022-04-27T11:15:29.275Z"
   },
   {
    "duration": 73,
    "start_time": "2022-04-27T11:15:29.316Z"
   },
   {
    "duration": 33,
    "start_time": "2022-04-27T11:15:29.391Z"
   },
   {
    "duration": 2573,
    "start_time": "2022-04-27T11:15:29.426Z"
   },
   {
    "duration": 239,
    "start_time": "2022-04-27T11:15:32.001Z"
   },
   {
    "duration": 15,
    "start_time": "2022-04-27T11:15:32.242Z"
   },
   {
    "duration": 19,
    "start_time": "2022-04-27T11:15:32.259Z"
   },
   {
    "duration": 128,
    "start_time": "2022-04-27T11:15:32.280Z"
   },
   {
    "duration": 21,
    "start_time": "2022-04-27T11:15:32.410Z"
   },
   {
    "duration": 124,
    "start_time": "2022-04-27T11:17:24.642Z"
   },
   {
    "duration": 123,
    "start_time": "2022-04-27T11:19:33.256Z"
   },
   {
    "duration": 3,
    "start_time": "2022-04-27T11:27:41.732Z"
   },
   {
    "duration": 8,
    "start_time": "2022-04-27T11:28:18.183Z"
   },
   {
    "duration": 30,
    "start_time": "2022-04-27T11:38:27.154Z"
   },
   {
    "duration": 30,
    "start_time": "2022-04-27T11:39:01.236Z"
   },
   {
    "duration": 838,
    "start_time": "2022-04-27T11:48:57.182Z"
   },
   {
    "duration": 113,
    "start_time": "2022-04-27T12:54:21.059Z"
   },
   {
    "duration": 4,
    "start_time": "2022-04-27T12:54:31.262Z"
   },
   {
    "duration": 4,
    "start_time": "2022-04-27T12:54:45.428Z"
   },
   {
    "duration": 1456,
    "start_time": "2022-04-27T12:54:45.434Z"
   },
   {
    "duration": 3,
    "start_time": "2022-04-27T12:54:46.892Z"
   },
   {
    "duration": 837,
    "start_time": "2022-04-27T12:54:46.897Z"
   },
   {
    "duration": 3,
    "start_time": "2022-04-27T12:54:47.737Z"
   },
   {
    "duration": 20,
    "start_time": "2022-04-27T12:54:47.742Z"
   },
   {
    "duration": 163,
    "start_time": "2022-04-27T12:54:47.764Z"
   },
   {
    "duration": 5,
    "start_time": "2022-04-27T12:54:47.929Z"
   },
   {
    "duration": 148,
    "start_time": "2022-04-27T12:54:47.937Z"
   },
   {
    "duration": 494,
    "start_time": "2022-04-27T12:54:48.087Z"
   },
   {
    "duration": 103,
    "start_time": "2022-04-27T12:54:48.583Z"
   },
   {
    "duration": 798,
    "start_time": "2022-04-27T12:54:48.688Z"
   },
   {
    "duration": 580,
    "start_time": "2022-04-27T12:54:49.488Z"
   },
   {
    "duration": 19,
    "start_time": "2022-04-27T12:54:50.070Z"
   },
   {
    "duration": 137,
    "start_time": "2022-04-27T12:54:50.091Z"
   },
   {
    "duration": 10,
    "start_time": "2022-04-27T12:54:50.230Z"
   },
   {
    "duration": 115,
    "start_time": "2022-04-27T12:54:50.242Z"
   },
   {
    "duration": 20,
    "start_time": "2022-04-27T12:54:50.359Z"
   },
   {
    "duration": 35,
    "start_time": "2022-04-27T12:54:50.381Z"
   },
   {
    "duration": 28,
    "start_time": "2022-04-27T12:54:50.419Z"
   },
   {
    "duration": 20,
    "start_time": "2022-04-27T12:54:50.449Z"
   },
   {
    "duration": 44,
    "start_time": "2022-04-27T12:54:50.471Z"
   },
   {
    "duration": 22,
    "start_time": "2022-04-27T12:54:50.518Z"
   },
   {
    "duration": 6,
    "start_time": "2022-04-27T12:54:50.543Z"
   },
   {
    "duration": 11,
    "start_time": "2022-04-27T12:54:50.550Z"
   },
   {
    "duration": 122,
    "start_time": "2022-04-27T12:54:50.563Z"
   },
   {
    "duration": 32,
    "start_time": "2022-04-27T12:54:50.686Z"
   },
   {
    "duration": 2597,
    "start_time": "2022-04-27T12:54:50.720Z"
   },
   {
    "duration": 190,
    "start_time": "2022-04-27T12:54:53.319Z"
   },
   {
    "duration": 19,
    "start_time": "2022-04-27T12:54:53.511Z"
   },
   {
    "duration": 20,
    "start_time": "2022-04-27T12:54:53.531Z"
   },
   {
    "duration": 107,
    "start_time": "2022-04-27T12:54:53.553Z"
   },
   {
    "duration": 128,
    "start_time": "2022-04-27T12:54:53.662Z"
   },
   {
    "duration": 135,
    "start_time": "2022-04-27T12:54:53.792Z"
   },
   {
    "duration": 3,
    "start_time": "2022-04-27T12:54:53.931Z"
   },
   {
    "duration": 31,
    "start_time": "2022-04-27T12:54:53.935Z"
   },
   {
    "duration": 3,
    "start_time": "2022-04-27T12:54:53.968Z"
   },
   {
    "duration": 79,
    "start_time": "2022-04-27T12:54:53.973Z"
   },
   {
    "duration": 0,
    "start_time": "2022-04-27T12:54:54.053Z"
   },
   {
    "duration": 3,
    "start_time": "2022-04-27T12:57:54.996Z"
   },
   {
    "duration": 1457,
    "start_time": "2022-04-27T12:57:55.001Z"
   },
   {
    "duration": 3,
    "start_time": "2022-04-27T12:57:56.460Z"
   },
   {
    "duration": 958,
    "start_time": "2022-04-27T12:57:56.465Z"
   },
   {
    "duration": 4,
    "start_time": "2022-04-27T12:57:57.427Z"
   },
   {
    "duration": 18,
    "start_time": "2022-04-27T12:57:57.434Z"
   },
   {
    "duration": 183,
    "start_time": "2022-04-27T12:57:57.454Z"
   },
   {
    "duration": 4,
    "start_time": "2022-04-27T12:57:57.639Z"
   },
   {
    "duration": 163,
    "start_time": "2022-04-27T12:57:57.644Z"
   },
   {
    "duration": 521,
    "start_time": "2022-04-27T12:57:57.812Z"
   },
   {
    "duration": 105,
    "start_time": "2022-04-27T12:57:58.334Z"
   },
   {
    "duration": 861,
    "start_time": "2022-04-27T12:57:58.440Z"
   },
   {
    "duration": 659,
    "start_time": "2022-04-27T12:57:59.302Z"
   },
   {
    "duration": 17,
    "start_time": "2022-04-27T12:57:59.962Z"
   },
   {
    "duration": 119,
    "start_time": "2022-04-27T12:57:59.981Z"
   },
   {
    "duration": 11,
    "start_time": "2022-04-27T12:58:00.102Z"
   },
   {
    "duration": 111,
    "start_time": "2022-04-27T12:58:00.115Z"
   },
   {
    "duration": 22,
    "start_time": "2022-04-27T12:58:00.228Z"
   },
   {
    "duration": 43,
    "start_time": "2022-04-27T12:58:00.252Z"
   },
   {
    "duration": 23,
    "start_time": "2022-04-27T12:58:00.297Z"
   },
   {
    "duration": 35,
    "start_time": "2022-04-27T12:58:00.322Z"
   },
   {
    "duration": 37,
    "start_time": "2022-04-27T12:58:00.359Z"
   },
   {
    "duration": 26,
    "start_time": "2022-04-27T12:58:00.398Z"
   },
   {
    "duration": 7,
    "start_time": "2022-04-27T12:58:00.426Z"
   },
   {
    "duration": 10,
    "start_time": "2022-04-27T12:58:00.435Z"
   },
   {
    "duration": 93,
    "start_time": "2022-04-27T12:58:00.447Z"
   },
   {
    "duration": 19,
    "start_time": "2022-04-27T12:58:00.542Z"
   },
   {
    "duration": 2575,
    "start_time": "2022-04-27T12:58:00.565Z"
   },
   {
    "duration": 182,
    "start_time": "2022-04-27T12:58:03.142Z"
   },
   {
    "duration": 17,
    "start_time": "2022-04-27T12:58:03.326Z"
   },
   {
    "duration": 19,
    "start_time": "2022-04-27T12:58:03.345Z"
   },
   {
    "duration": 118,
    "start_time": "2022-04-27T12:58:03.365Z"
   },
   {
    "duration": 129,
    "start_time": "2022-04-27T12:58:03.485Z"
   },
   {
    "duration": 137,
    "start_time": "2022-04-27T12:58:03.616Z"
   },
   {
    "duration": 2,
    "start_time": "2022-04-27T12:58:03.755Z"
   },
   {
    "duration": 49,
    "start_time": "2022-04-27T12:58:03.759Z"
   },
   {
    "duration": 74,
    "start_time": "2022-04-27T12:58:03.810Z"
   },
   {
    "duration": 0,
    "start_time": "2022-04-27T12:58:03.886Z"
   },
   {
    "duration": 83,
    "start_time": "2022-04-27T13:18:36.435Z"
   },
   {
    "duration": 842,
    "start_time": "2022-04-27T13:20:36.029Z"
   },
   {
    "duration": 797,
    "start_time": "2022-04-27T13:20:58.349Z"
   },
   {
    "duration": 3609,
    "start_time": "2022-04-27T13:26:47.145Z"
   },
   {
    "duration": 4248,
    "start_time": "2022-04-27T13:28:45.957Z"
   },
   {
    "duration": 53,
    "start_time": "2022-04-27T13:38:24.540Z"
   },
   {
    "duration": 4,
    "start_time": "2022-04-27T13:39:55.736Z"
   },
   {
    "duration": 1920,
    "start_time": "2022-04-27T13:39:55.742Z"
   },
   {
    "duration": 2,
    "start_time": "2022-04-27T13:39:57.664Z"
   },
   {
    "duration": 823,
    "start_time": "2022-04-27T13:39:57.668Z"
   },
   {
    "duration": 3,
    "start_time": "2022-04-27T13:39:58.492Z"
   },
   {
    "duration": 19,
    "start_time": "2022-04-27T13:39:58.497Z"
   },
   {
    "duration": 148,
    "start_time": "2022-04-27T13:39:58.517Z"
   },
   {
    "duration": 4,
    "start_time": "2022-04-27T13:39:58.667Z"
   },
   {
    "duration": 147,
    "start_time": "2022-04-27T13:39:58.673Z"
   },
   {
    "duration": 488,
    "start_time": "2022-04-27T13:39:58.822Z"
   },
   {
    "duration": 101,
    "start_time": "2022-04-27T13:39:59.312Z"
   },
   {
    "duration": 772,
    "start_time": "2022-04-27T13:39:59.415Z"
   },
   {
    "duration": 565,
    "start_time": "2022-04-27T13:40:00.189Z"
   },
   {
    "duration": 17,
    "start_time": "2022-04-27T13:40:00.755Z"
   },
   {
    "duration": 126,
    "start_time": "2022-04-27T13:40:00.775Z"
   },
   {
    "duration": 11,
    "start_time": "2022-04-27T13:40:00.903Z"
   },
   {
    "duration": 106,
    "start_time": "2022-04-27T13:40:00.916Z"
   },
   {
    "duration": 21,
    "start_time": "2022-04-27T13:40:01.023Z"
   },
   {
    "duration": 21,
    "start_time": "2022-04-27T13:40:01.046Z"
   },
   {
    "duration": 42,
    "start_time": "2022-04-27T13:40:01.069Z"
   },
   {
    "duration": 25,
    "start_time": "2022-04-27T13:40:01.113Z"
   },
   {
    "duration": 26,
    "start_time": "2022-04-27T13:40:01.139Z"
   },
   {
    "duration": 25,
    "start_time": "2022-04-27T13:40:01.167Z"
   },
   {
    "duration": 15,
    "start_time": "2022-04-27T13:40:01.194Z"
   },
   {
    "duration": 8,
    "start_time": "2022-04-27T13:40:01.211Z"
   },
   {
    "duration": 105,
    "start_time": "2022-04-27T13:40:01.221Z"
   },
   {
    "duration": 20,
    "start_time": "2022-04-27T13:40:01.328Z"
   },
   {
    "duration": 2607,
    "start_time": "2022-04-27T13:40:01.350Z"
   },
   {
    "duration": 192,
    "start_time": "2022-04-27T13:40:03.958Z"
   },
   {
    "duration": 18,
    "start_time": "2022-04-27T13:40:04.151Z"
   },
   {
    "duration": 40,
    "start_time": "2022-04-27T13:40:04.171Z"
   },
   {
    "duration": 74,
    "start_time": "2022-04-27T13:40:04.212Z"
   },
   {
    "duration": 146,
    "start_time": "2022-04-27T13:40:04.288Z"
   },
   {
    "duration": 149,
    "start_time": "2022-04-27T13:40:04.436Z"
   },
   {
    "duration": 3,
    "start_time": "2022-04-27T13:40:04.587Z"
   },
   {
    "duration": 42,
    "start_time": "2022-04-27T13:40:04.592Z"
   },
   {
    "duration": 1026,
    "start_time": "2022-04-27T13:40:04.636Z"
   },
   {
    "duration": 3627,
    "start_time": "2022-04-27T13:40:05.664Z"
   },
   {
    "duration": 119,
    "start_time": "2022-04-27T13:40:09.293Z"
   },
   {
    "duration": 4,
    "start_time": "2022-04-27T13:40:58.502Z"
   },
   {
    "duration": 1402,
    "start_time": "2022-04-27T13:40:58.508Z"
   },
   {
    "duration": 3,
    "start_time": "2022-04-27T13:40:59.912Z"
   },
   {
    "duration": 820,
    "start_time": "2022-04-27T13:40:59.916Z"
   },
   {
    "duration": 3,
    "start_time": "2022-04-27T13:41:00.738Z"
   },
   {
    "duration": 25,
    "start_time": "2022-04-27T13:41:00.743Z"
   },
   {
    "duration": 148,
    "start_time": "2022-04-27T13:41:00.770Z"
   },
   {
    "duration": 4,
    "start_time": "2022-04-27T13:41:00.919Z"
   },
   {
    "duration": 143,
    "start_time": "2022-04-27T13:41:00.924Z"
   },
   {
    "duration": 479,
    "start_time": "2022-04-27T13:41:01.069Z"
   },
   {
    "duration": 106,
    "start_time": "2022-04-27T13:41:01.552Z"
   },
   {
    "duration": 800,
    "start_time": "2022-04-27T13:41:01.660Z"
   },
   {
    "duration": 566,
    "start_time": "2022-04-27T13:41:02.462Z"
   },
   {
    "duration": 19,
    "start_time": "2022-04-27T13:41:03.030Z"
   },
   {
    "duration": 124,
    "start_time": "2022-04-27T13:41:03.051Z"
   },
   {
    "duration": 9,
    "start_time": "2022-04-27T13:41:03.177Z"
   },
   {
    "duration": 111,
    "start_time": "2022-04-27T13:41:03.188Z"
   },
   {
    "duration": 21,
    "start_time": "2022-04-27T13:41:03.301Z"
   },
   {
    "duration": 26,
    "start_time": "2022-04-27T13:41:03.324Z"
   },
   {
    "duration": 22,
    "start_time": "2022-04-27T13:41:03.351Z"
   },
   {
    "duration": 38,
    "start_time": "2022-04-27T13:41:03.375Z"
   },
   {
    "duration": 23,
    "start_time": "2022-04-27T13:41:03.415Z"
   },
   {
    "duration": 20,
    "start_time": "2022-04-27T13:41:03.439Z"
   },
   {
    "duration": 7,
    "start_time": "2022-04-27T13:41:03.460Z"
   },
   {
    "duration": 9,
    "start_time": "2022-04-27T13:41:03.469Z"
   },
   {
    "duration": 100,
    "start_time": "2022-04-27T13:41:03.507Z"
   },
   {
    "duration": 20,
    "start_time": "2022-04-27T13:41:03.609Z"
   },
   {
    "duration": 2625,
    "start_time": "2022-04-27T13:41:03.631Z"
   },
   {
    "duration": 188,
    "start_time": "2022-04-27T13:41:06.259Z"
   },
   {
    "duration": 14,
    "start_time": "2022-04-27T13:41:06.449Z"
   },
   {
    "duration": 18,
    "start_time": "2022-04-27T13:41:06.464Z"
   },
   {
    "duration": 89,
    "start_time": "2022-04-27T13:41:06.484Z"
   },
   {
    "duration": 133,
    "start_time": "2022-04-27T13:41:06.575Z"
   },
   {
    "duration": 133,
    "start_time": "2022-04-27T13:41:06.709Z"
   },
   {
    "duration": 2,
    "start_time": "2022-04-27T13:41:06.844Z"
   },
   {
    "duration": 34,
    "start_time": "2022-04-27T13:41:06.848Z"
   },
   {
    "duration": 794,
    "start_time": "2022-04-27T13:41:06.883Z"
   },
   {
    "duration": 3601,
    "start_time": "2022-04-27T13:41:07.679Z"
   },
   {
    "duration": 126,
    "start_time": "2022-04-27T13:41:11.281Z"
   },
   {
    "duration": 15,
    "start_time": "2022-04-27T13:42:14.388Z"
   },
   {
    "duration": 15,
    "start_time": "2022-04-27T13:42:20.009Z"
   },
   {
    "duration": 14,
    "start_time": "2022-04-27T13:43:41.573Z"
   },
   {
    "duration": 14,
    "start_time": "2022-04-27T13:43:49.927Z"
   },
   {
    "duration": 14,
    "start_time": "2022-04-27T13:45:16.756Z"
   },
   {
    "duration": 326633,
    "start_time": "2022-04-27T13:45:47.978Z"
   },
   {
    "duration": 51,
    "start_time": "2022-04-27T19:14:57.387Z"
   },
   {
    "duration": 5,
    "start_time": "2022-04-27T19:15:33.403Z"
   },
   {
    "duration": 1627,
    "start_time": "2022-04-27T19:15:33.417Z"
   },
   {
    "duration": 4,
    "start_time": "2022-04-27T19:15:35.046Z"
   },
   {
    "duration": 6832,
    "start_time": "2022-04-27T19:15:35.052Z"
   },
   {
    "duration": 2,
    "start_time": "2022-04-27T19:15:41.886Z"
   },
   {
    "duration": 21,
    "start_time": "2022-04-27T19:15:41.889Z"
   },
   {
    "duration": 142,
    "start_time": "2022-04-27T19:15:41.912Z"
   },
   {
    "duration": 3,
    "start_time": "2022-04-27T19:15:42.056Z"
   },
   {
    "duration": 131,
    "start_time": "2022-04-27T19:15:42.061Z"
   },
   {
    "duration": 427,
    "start_time": "2022-04-27T19:15:42.194Z"
   },
   {
    "duration": 90,
    "start_time": "2022-04-27T19:15:42.623Z"
   },
   {
    "duration": 776,
    "start_time": "2022-04-27T19:15:42.715Z"
   },
   {
    "duration": 502,
    "start_time": "2022-04-27T19:15:43.493Z"
   },
   {
    "duration": 22,
    "start_time": "2022-04-27T19:15:43.999Z"
   },
   {
    "duration": 110,
    "start_time": "2022-04-27T19:15:44.022Z"
   },
   {
    "duration": 10,
    "start_time": "2022-04-27T19:15:44.134Z"
   },
   {
    "duration": 102,
    "start_time": "2022-04-27T19:15:44.146Z"
   },
   {
    "duration": 19,
    "start_time": "2022-04-27T19:15:44.249Z"
   },
   {
    "duration": 32,
    "start_time": "2022-04-27T19:15:44.270Z"
   },
   {
    "duration": 23,
    "start_time": "2022-04-27T19:15:44.305Z"
   },
   {
    "duration": 20,
    "start_time": "2022-04-27T19:15:44.329Z"
   },
   {
    "duration": 19,
    "start_time": "2022-04-27T19:15:44.351Z"
   },
   {
    "duration": 46,
    "start_time": "2022-04-27T19:15:44.372Z"
   },
   {
    "duration": 5,
    "start_time": "2022-04-27T19:15:44.420Z"
   },
   {
    "duration": 10,
    "start_time": "2022-04-27T19:15:44.426Z"
   },
   {
    "duration": 97,
    "start_time": "2022-04-27T19:15:44.437Z"
   },
   {
    "duration": 17,
    "start_time": "2022-04-27T19:15:44.536Z"
   },
   {
    "duration": 1325,
    "start_time": "2022-04-27T19:15:44.554Z"
   },
   {
    "duration": 0,
    "start_time": "2022-04-27T19:15:45.881Z"
   },
   {
    "duration": 0,
    "start_time": "2022-04-27T19:15:45.882Z"
   },
   {
    "duration": 0,
    "start_time": "2022-04-27T19:15:45.883Z"
   },
   {
    "duration": 0,
    "start_time": "2022-04-27T19:15:45.884Z"
   },
   {
    "duration": 0,
    "start_time": "2022-04-27T19:15:45.886Z"
   },
   {
    "duration": 0,
    "start_time": "2022-04-27T19:15:45.886Z"
   },
   {
    "duration": 0,
    "start_time": "2022-04-27T19:15:45.887Z"
   },
   {
    "duration": 0,
    "start_time": "2022-04-27T19:15:45.900Z"
   },
   {
    "duration": 0,
    "start_time": "2022-04-27T19:15:45.901Z"
   },
   {
    "duration": 0,
    "start_time": "2022-04-27T19:15:45.902Z"
   },
   {
    "duration": 0,
    "start_time": "2022-04-27T19:15:45.903Z"
   },
   {
    "duration": 0,
    "start_time": "2022-04-27T19:15:45.904Z"
   },
   {
    "duration": 3,
    "start_time": "2022-04-27T19:16:18.442Z"
   },
   {
    "duration": 1444,
    "start_time": "2022-04-27T19:16:18.451Z"
   },
   {
    "duration": 2,
    "start_time": "2022-04-27T19:16:19.897Z"
   },
   {
    "duration": 733,
    "start_time": "2022-04-27T19:16:19.901Z"
   },
   {
    "duration": 3,
    "start_time": "2022-04-27T19:16:20.636Z"
   },
   {
    "duration": 17,
    "start_time": "2022-04-27T19:16:20.640Z"
   },
   {
    "duration": 130,
    "start_time": "2022-04-27T19:16:20.659Z"
   },
   {
    "duration": 3,
    "start_time": "2022-04-27T19:16:20.790Z"
   },
   {
    "duration": 117,
    "start_time": "2022-04-27T19:16:20.800Z"
   },
   {
    "duration": 387,
    "start_time": "2022-04-27T19:16:20.918Z"
   },
   {
    "duration": 76,
    "start_time": "2022-04-27T19:16:21.307Z"
   },
   {
    "duration": 725,
    "start_time": "2022-04-27T19:16:21.384Z"
   },
   {
    "duration": 466,
    "start_time": "2022-04-27T19:16:22.111Z"
   },
   {
    "duration": 22,
    "start_time": "2022-04-27T19:16:22.579Z"
   },
   {
    "duration": 98,
    "start_time": "2022-04-27T19:16:22.602Z"
   },
   {
    "duration": 9,
    "start_time": "2022-04-27T19:16:22.701Z"
   },
   {
    "duration": 89,
    "start_time": "2022-04-27T19:16:22.712Z"
   },
   {
    "duration": 17,
    "start_time": "2022-04-27T19:16:22.803Z"
   },
   {
    "duration": 17,
    "start_time": "2022-04-27T19:16:22.821Z"
   },
   {
    "duration": 25,
    "start_time": "2022-04-27T19:16:22.840Z"
   },
   {
    "duration": 39,
    "start_time": "2022-04-27T19:16:22.866Z"
   },
   {
    "duration": 19,
    "start_time": "2022-04-27T19:16:22.907Z"
   },
   {
    "duration": 16,
    "start_time": "2022-04-27T19:16:22.927Z"
   },
   {
    "duration": 5,
    "start_time": "2022-04-27T19:16:22.945Z"
   },
   {
    "duration": 8,
    "start_time": "2022-04-27T19:16:22.951Z"
   },
   {
    "duration": 102,
    "start_time": "2022-04-27T19:16:22.960Z"
   },
   {
    "duration": 16,
    "start_time": "2022-04-27T19:16:23.064Z"
   },
   {
    "duration": 2111,
    "start_time": "2022-04-27T19:16:23.081Z"
   },
   {
    "duration": 159,
    "start_time": "2022-04-27T19:16:25.195Z"
   },
   {
    "duration": 12,
    "start_time": "2022-04-27T19:16:25.356Z"
   },
   {
    "duration": 30,
    "start_time": "2022-04-27T19:16:25.370Z"
   },
   {
    "duration": 64,
    "start_time": "2022-04-27T19:16:25.402Z"
   },
   {
    "duration": 116,
    "start_time": "2022-04-27T19:16:25.468Z"
   },
   {
    "duration": 118,
    "start_time": "2022-04-27T19:16:25.585Z"
   },
   {
    "duration": 16,
    "start_time": "2022-04-27T19:16:25.705Z"
   },
   {
    "duration": 31,
    "start_time": "2022-04-27T19:16:25.723Z"
   },
   {
    "duration": 70,
    "start_time": "2022-04-27T19:16:25.755Z"
   },
   {
    "duration": 2,
    "start_time": "2022-04-27T19:16:25.827Z"
   },
   {
    "duration": 19,
    "start_time": "2022-04-27T19:16:25.831Z"
   },
   {
    "duration": 20,
    "start_time": "2022-04-27T19:16:25.852Z"
   },
   {
    "duration": 4,
    "start_time": "2022-04-27T19:17:33.749Z"
   },
   {
    "duration": 4,
    "start_time": "2022-04-27T19:17:36.513Z"
   },
   {
    "duration": 3,
    "start_time": "2022-04-27T19:17:55.720Z"
   },
   {
    "duration": 4,
    "start_time": "2022-04-27T19:17:58.725Z"
   },
   {
    "duration": 4,
    "start_time": "2022-04-27T19:18:22.080Z"
   },
   {
    "duration": 4,
    "start_time": "2022-04-27T19:18:31.622Z"
   },
   {
    "duration": 37,
    "start_time": "2022-04-27T19:20:14.361Z"
   },
   {
    "duration": 3,
    "start_time": "2022-04-27T19:20:46.475Z"
   },
   {
    "duration": 5,
    "start_time": "2022-04-27T19:20:47.401Z"
   },
   {
    "duration": 3,
    "start_time": "2022-04-27T19:21:32.137Z"
   },
   {
    "duration": 4,
    "start_time": "2022-04-27T19:21:32.774Z"
   },
   {
    "duration": 4,
    "start_time": "2022-04-27T19:21:33.465Z"
   },
   {
    "duration": 4,
    "start_time": "2022-04-27T19:21:34.152Z"
   },
   {
    "duration": 663,
    "start_time": "2022-04-27T19:26:50.864Z"
   },
   {
    "duration": 613,
    "start_time": "2022-04-27T19:27:05.536Z"
   },
   {
    "duration": 560,
    "start_time": "2022-04-27T19:27:26.430Z"
   },
   {
    "duration": 4,
    "start_time": "2022-04-27T19:27:49.630Z"
   },
   {
    "duration": 1593,
    "start_time": "2022-04-27T19:27:49.643Z"
   },
   {
    "duration": 3,
    "start_time": "2022-04-27T19:27:51.238Z"
   },
   {
    "duration": 758,
    "start_time": "2022-04-27T19:27:51.243Z"
   },
   {
    "duration": 2,
    "start_time": "2022-04-27T19:27:52.003Z"
   },
   {
    "duration": 20,
    "start_time": "2022-04-27T19:27:52.007Z"
   },
   {
    "duration": 132,
    "start_time": "2022-04-27T19:27:52.028Z"
   },
   {
    "duration": 4,
    "start_time": "2022-04-27T19:27:52.162Z"
   },
   {
    "duration": 137,
    "start_time": "2022-04-27T19:27:52.168Z"
   },
   {
    "duration": 432,
    "start_time": "2022-04-27T19:27:52.307Z"
   },
   {
    "duration": 123,
    "start_time": "2022-04-27T19:27:52.740Z"
   },
   {
    "duration": 1198,
    "start_time": "2022-04-27T19:27:52.865Z"
   },
   {
    "duration": 844,
    "start_time": "2022-04-27T19:27:54.066Z"
   },
   {
    "duration": 24,
    "start_time": "2022-04-27T19:27:54.912Z"
   },
   {
    "duration": 164,
    "start_time": "2022-04-27T19:27:54.940Z"
   },
   {
    "duration": 12,
    "start_time": "2022-04-27T19:27:55.106Z"
   },
   {
    "duration": 112,
    "start_time": "2022-04-27T19:27:55.120Z"
   },
   {
    "duration": 27,
    "start_time": "2022-04-27T19:27:55.234Z"
   },
   {
    "duration": 20,
    "start_time": "2022-04-27T19:27:55.263Z"
   },
   {
    "duration": 32,
    "start_time": "2022-04-27T19:27:55.285Z"
   },
   {
    "duration": 28,
    "start_time": "2022-04-27T19:27:55.318Z"
   },
   {
    "duration": 21,
    "start_time": "2022-04-27T19:27:55.348Z"
   },
   {
    "duration": 40,
    "start_time": "2022-04-27T19:27:55.370Z"
   },
   {
    "duration": 7,
    "start_time": "2022-04-27T19:27:55.412Z"
   },
   {
    "duration": 24,
    "start_time": "2022-04-27T19:27:55.420Z"
   },
   {
    "duration": 97,
    "start_time": "2022-04-27T19:27:55.446Z"
   },
   {
    "duration": 25,
    "start_time": "2022-04-27T19:27:55.545Z"
   },
   {
    "duration": 3435,
    "start_time": "2022-04-27T19:27:55.572Z"
   },
   {
    "duration": 266,
    "start_time": "2022-04-27T19:27:59.010Z"
   },
   {
    "duration": 26,
    "start_time": "2022-04-27T19:27:59.278Z"
   },
   {
    "duration": 31,
    "start_time": "2022-04-27T19:27:59.307Z"
   },
   {
    "duration": 120,
    "start_time": "2022-04-27T19:27:59.340Z"
   },
   {
    "duration": 120,
    "start_time": "2022-04-27T19:27:59.462Z"
   },
   {
    "duration": 149,
    "start_time": "2022-04-27T19:27:59.584Z"
   },
   {
    "duration": 2,
    "start_time": "2022-04-27T19:27:59.735Z"
   },
   {
    "duration": 31,
    "start_time": "2022-04-27T19:27:59.739Z"
   },
   {
    "duration": 4,
    "start_time": "2022-04-27T19:27:59.772Z"
   },
   {
    "duration": 5,
    "start_time": "2022-04-27T19:27:59.800Z"
   },
   {
    "duration": 81,
    "start_time": "2022-04-27T19:27:59.806Z"
   },
   {
    "duration": 4,
    "start_time": "2022-04-27T19:27:59.889Z"
   },
   {
    "duration": 5,
    "start_time": "2022-04-27T19:27:59.900Z"
   },
   {
    "duration": 16,
    "start_time": "2022-04-27T19:27:59.910Z"
   },
   {
    "duration": 9,
    "start_time": "2022-04-27T19:27:59.928Z"
   },
   {
    "duration": 52,
    "start_time": "2022-04-27T19:27:59.939Z"
   },
   {
    "duration": 9,
    "start_time": "2022-04-27T19:27:59.993Z"
   },
   {
    "duration": 23,
    "start_time": "2022-04-27T19:28:00.004Z"
   },
   {
    "duration": 8,
    "start_time": "2022-04-27T19:28:00.029Z"
   },
   {
    "duration": 7,
    "start_time": "2022-04-27T19:28:00.038Z"
   },
   {
    "duration": 682,
    "start_time": "2022-04-27T19:28:00.047Z"
   },
   {
    "duration": 190,
    "start_time": "2022-04-27T19:28:00.732Z"
   },
   {
    "duration": 0,
    "start_time": "2022-04-27T19:28:00.924Z"
   },
   {
    "duration": 578,
    "start_time": "2022-04-27T19:28:33.401Z"
   },
   {
    "duration": 3,
    "start_time": "2022-04-27T19:29:18.627Z"
   },
   {
    "duration": 4,
    "start_time": "2022-04-27T19:29:33.576Z"
   },
   {
    "duration": 4,
    "start_time": "2022-04-27T19:29:42.027Z"
   },
   {
    "duration": 3,
    "start_time": "2022-04-27T19:30:43.955Z"
   },
   {
    "duration": 3,
    "start_time": "2022-04-27T19:30:44.617Z"
   },
   {
    "duration": 4,
    "start_time": "2022-04-27T19:30:45.130Z"
   },
   {
    "duration": 4,
    "start_time": "2022-04-27T19:31:06.965Z"
   },
   {
    "duration": 3,
    "start_time": "2022-04-27T19:31:11.249Z"
   },
   {
    "duration": 337,
    "start_time": "2022-04-27T19:33:37.060Z"
   },
   {
    "duration": 3,
    "start_time": "2022-04-27T19:33:37.956Z"
   },
   {
    "duration": 112,
    "start_time": "2022-04-27T19:33:38.811Z"
   },
   {
    "duration": 3,
    "start_time": "2022-04-27T19:33:39.733Z"
   },
   {
    "duration": 116,
    "start_time": "2022-04-27T19:33:40.643Z"
   },
   {
    "duration": 4,
    "start_time": "2022-04-27T19:33:41.166Z"
   },
   {
    "duration": 4,
    "start_time": "2022-04-27T19:33:58.252Z"
   },
   {
    "duration": 5,
    "start_time": "2022-04-27T19:36:40.743Z"
   },
   {
    "duration": 5,
    "start_time": "2022-04-27T19:36:56.110Z"
   },
   {
    "duration": 156,
    "start_time": "2022-04-27T19:37:03.069Z"
   },
   {
    "duration": 4,
    "start_time": "2022-04-27T19:37:03.659Z"
   },
   {
    "duration": 362,
    "start_time": "2022-04-27T19:41:34.699Z"
   },
   {
    "duration": 4,
    "start_time": "2022-04-27T19:41:42.725Z"
   },
   {
    "duration": 639,
    "start_time": "2022-04-27T19:41:55.108Z"
   },
   {
    "duration": 4,
    "start_time": "2022-04-27T19:41:55.934Z"
   },
   {
    "duration": 568,
    "start_time": "2022-04-27T19:46:03.687Z"
   },
   {
    "duration": 6,
    "start_time": "2022-04-27T19:46:13.922Z"
   },
   {
    "duration": 4,
    "start_time": "2022-04-27T19:46:23.298Z"
   },
   {
    "duration": 3,
    "start_time": "2022-04-27T19:46:53.829Z"
   },
   {
    "duration": 4,
    "start_time": "2022-04-27T19:47:33.091Z"
   },
   {
    "duration": 4,
    "start_time": "2022-04-27T20:08:54.597Z"
   },
   {
    "duration": 12,
    "start_time": "2022-04-27T20:09:24.432Z"
   },
   {
    "duration": 30,
    "start_time": "2022-04-27T20:09:35.734Z"
   },
   {
    "duration": 4,
    "start_time": "2022-04-27T20:09:36.380Z"
   },
   {
    "duration": 4,
    "start_time": "2022-04-27T20:09:37.244Z"
   },
   {
    "duration": 92,
    "start_time": "2022-04-27T20:09:57.014Z"
   },
   {
    "duration": 4,
    "start_time": "2022-04-27T20:09:57.543Z"
   },
   {
    "duration": 7,
    "start_time": "2022-04-27T20:09:58.700Z"
   },
   {
    "duration": 4,
    "start_time": "2022-04-27T20:10:38.366Z"
   },
   {
    "duration": 4,
    "start_time": "2022-04-27T20:10:51.385Z"
   },
   {
    "duration": 3,
    "start_time": "2022-04-28T03:04:46.755Z"
   },
   {
    "duration": 1601,
    "start_time": "2022-04-28T03:04:46.767Z"
   },
   {
    "duration": 3,
    "start_time": "2022-04-28T03:04:48.369Z"
   },
   {
    "duration": 786,
    "start_time": "2022-04-28T03:04:48.373Z"
   },
   {
    "duration": 2,
    "start_time": "2022-04-28T03:04:49.161Z"
   },
   {
    "duration": 18,
    "start_time": "2022-04-28T03:04:49.165Z"
   },
   {
    "duration": 145,
    "start_time": "2022-04-28T03:04:49.184Z"
   },
   {
    "duration": 4,
    "start_time": "2022-04-28T03:04:49.331Z"
   },
   {
    "duration": 139,
    "start_time": "2022-04-28T03:04:49.337Z"
   },
   {
    "duration": 460,
    "start_time": "2022-04-28T03:04:49.478Z"
   },
   {
    "duration": 95,
    "start_time": "2022-04-28T03:04:49.940Z"
   },
   {
    "duration": 722,
    "start_time": "2022-04-28T03:04:50.037Z"
   },
   {
    "duration": 541,
    "start_time": "2022-04-28T03:04:50.761Z"
   },
   {
    "duration": 19,
    "start_time": "2022-04-28T03:04:51.303Z"
   },
   {
    "duration": 118,
    "start_time": "2022-04-28T03:04:51.324Z"
   },
   {
    "duration": 9,
    "start_time": "2022-04-28T03:04:51.444Z"
   },
   {
    "duration": 110,
    "start_time": "2022-04-28T03:04:51.455Z"
   },
   {
    "duration": 17,
    "start_time": "2022-04-28T03:04:51.567Z"
   },
   {
    "duration": 22,
    "start_time": "2022-04-28T03:04:51.586Z"
   },
   {
    "duration": 17,
    "start_time": "2022-04-28T03:04:51.610Z"
   },
   {
    "duration": 18,
    "start_time": "2022-04-28T03:04:51.629Z"
   },
   {
    "duration": 19,
    "start_time": "2022-04-28T03:04:51.648Z"
   },
   {
    "duration": 49,
    "start_time": "2022-04-28T03:04:51.668Z"
   },
   {
    "duration": 6,
    "start_time": "2022-04-28T03:04:51.719Z"
   },
   {
    "duration": 11,
    "start_time": "2022-04-28T03:04:51.726Z"
   },
   {
    "duration": 114,
    "start_time": "2022-04-28T03:04:51.738Z"
   },
   {
    "duration": 21,
    "start_time": "2022-04-28T03:04:51.853Z"
   },
   {
    "duration": 2771,
    "start_time": "2022-04-28T03:04:51.875Z"
   },
   {
    "duration": 317,
    "start_time": "2022-04-28T03:04:54.699Z"
   },
   {
    "duration": 15,
    "start_time": "2022-04-28T03:04:55.018Z"
   },
   {
    "duration": 74,
    "start_time": "2022-04-28T03:04:55.035Z"
   },
   {
    "duration": 132,
    "start_time": "2022-04-28T03:04:55.111Z"
   },
   {
    "duration": 263,
    "start_time": "2022-04-28T03:04:55.244Z"
   },
   {
    "duration": 134,
    "start_time": "2022-04-28T03:04:55.509Z"
   },
   {
    "duration": 2,
    "start_time": "2022-04-28T03:04:55.645Z"
   },
   {
    "duration": 29,
    "start_time": "2022-04-28T03:04:55.649Z"
   },
   {
    "duration": 4,
    "start_time": "2022-04-28T03:04:55.679Z"
   },
   {
    "duration": 18,
    "start_time": "2022-04-28T03:04:55.684Z"
   },
   {
    "duration": 75,
    "start_time": "2022-04-28T03:04:55.704Z"
   },
   {
    "duration": 19,
    "start_time": "2022-04-28T03:04:55.781Z"
   },
   {
    "duration": 5,
    "start_time": "2022-04-28T03:04:55.801Z"
   },
   {
    "duration": 4,
    "start_time": "2022-04-28T03:04:55.808Z"
   },
   {
    "duration": 4,
    "start_time": "2022-04-28T03:04:55.814Z"
   },
   {
    "duration": 37,
    "start_time": "2022-04-28T03:04:55.820Z"
   },
   {
    "duration": 4,
    "start_time": "2022-04-28T03:04:55.858Z"
   },
   {
    "duration": 36,
    "start_time": "2022-04-28T03:04:55.864Z"
   },
   {
    "duration": 4,
    "start_time": "2022-04-28T03:04:55.901Z"
   },
   {
    "duration": 8,
    "start_time": "2022-04-28T03:04:55.906Z"
   },
   {
    "duration": 382,
    "start_time": "2022-04-28T03:04:55.915Z"
   },
   {
    "duration": 122,
    "start_time": "2022-04-28T03:04:56.300Z"
   },
   {
    "duration": 127,
    "start_time": "2022-04-28T03:04:56.424Z"
   },
   {
    "duration": 4,
    "start_time": "2022-04-28T03:04:56.552Z"
   },
   {
    "duration": 6,
    "start_time": "2022-04-28T03:04:56.557Z"
   },
   {
    "duration": 24,
    "start_time": "2022-04-28T03:04:56.565Z"
   },
   {
    "duration": 102,
    "start_time": "2022-04-28T03:04:56.600Z"
   },
   {
    "duration": 0,
    "start_time": "2022-04-28T03:04:56.704Z"
   },
   {
    "duration": 0,
    "start_time": "2022-04-28T03:04:56.705Z"
   },
   {
    "duration": 0,
    "start_time": "2022-04-28T03:04:56.706Z"
   },
   {
    "duration": 0,
    "start_time": "2022-04-28T03:04:56.707Z"
   },
   {
    "duration": 0,
    "start_time": "2022-04-28T03:04:56.707Z"
   },
   {
    "duration": 0,
    "start_time": "2022-04-28T03:04:56.709Z"
   },
   {
    "duration": 0,
    "start_time": "2022-04-28T03:04:56.710Z"
   },
   {
    "duration": 0,
    "start_time": "2022-04-28T03:04:56.711Z"
   },
   {
    "duration": 0,
    "start_time": "2022-04-28T03:04:56.712Z"
   },
   {
    "duration": 0,
    "start_time": "2022-04-28T03:04:56.714Z"
   },
   {
    "duration": 0,
    "start_time": "2022-04-28T03:04:56.715Z"
   },
   {
    "duration": 4,
    "start_time": "2022-04-28T03:05:13.881Z"
   },
   {
    "duration": 116,
    "start_time": "2022-04-28T03:08:08.414Z"
   },
   {
    "duration": 106,
    "start_time": "2022-04-28T03:08:09.346Z"
   },
   {
    "duration": 4,
    "start_time": "2022-04-28T03:08:09.969Z"
   },
   {
    "duration": 3,
    "start_time": "2022-04-28T03:08:10.763Z"
   },
   {
    "duration": 4,
    "start_time": "2022-04-28T03:08:15.547Z"
   },
   {
    "duration": 9,
    "start_time": "2022-04-28T03:15:03.866Z"
   },
   {
    "duration": 9,
    "start_time": "2022-04-28T03:15:10.032Z"
   },
   {
    "duration": 9,
    "start_time": "2022-04-28T03:16:37.632Z"
   },
   {
    "duration": 4,
    "start_time": "2022-04-28T03:16:47.173Z"
   },
   {
    "duration": 700,
    "start_time": "2022-04-28T03:18:20.507Z"
   },
   {
    "duration": 36,
    "start_time": "2022-04-28T03:18:41.486Z"
   },
   {
    "duration": 359,
    "start_time": "2022-04-28T03:22:03.051Z"
   },
   {
    "duration": 113,
    "start_time": "2022-04-28T03:22:03.938Z"
   },
   {
    "duration": 115,
    "start_time": "2022-04-28T03:22:04.593Z"
   },
   {
    "duration": 3,
    "start_time": "2022-04-28T03:22:12.641Z"
   },
   {
    "duration": 1500,
    "start_time": "2022-04-28T03:22:12.651Z"
   },
   {
    "duration": 3,
    "start_time": "2022-04-28T03:22:14.153Z"
   },
   {
    "duration": 855,
    "start_time": "2022-04-28T03:22:14.157Z"
   },
   {
    "duration": 3,
    "start_time": "2022-04-28T03:22:15.014Z"
   },
   {
    "duration": 24,
    "start_time": "2022-04-28T03:22:15.018Z"
   },
   {
    "duration": 138,
    "start_time": "2022-04-28T03:22:15.044Z"
   },
   {
    "duration": 4,
    "start_time": "2022-04-28T03:22:15.184Z"
   },
   {
    "duration": 134,
    "start_time": "2022-04-28T03:22:15.190Z"
   },
   {
    "duration": 463,
    "start_time": "2022-04-28T03:22:15.326Z"
   },
   {
    "duration": 86,
    "start_time": "2022-04-28T03:22:15.792Z"
   },
   {
    "duration": 728,
    "start_time": "2022-04-28T03:22:15.880Z"
   },
   {
    "duration": 535,
    "start_time": "2022-04-28T03:22:16.609Z"
   },
   {
    "duration": 19,
    "start_time": "2022-04-28T03:22:17.146Z"
   },
   {
    "duration": 126,
    "start_time": "2022-04-28T03:22:17.166Z"
   },
   {
    "duration": 13,
    "start_time": "2022-04-28T03:22:17.294Z"
   },
   {
    "duration": 107,
    "start_time": "2022-04-28T03:22:17.309Z"
   },
   {
    "duration": 20,
    "start_time": "2022-04-28T03:22:17.418Z"
   },
   {
    "duration": 20,
    "start_time": "2022-04-28T03:22:17.440Z"
   },
   {
    "duration": 38,
    "start_time": "2022-04-28T03:22:17.462Z"
   },
   {
    "duration": 22,
    "start_time": "2022-04-28T03:22:17.502Z"
   },
   {
    "duration": 48,
    "start_time": "2022-04-28T03:22:17.526Z"
   },
   {
    "duration": 29,
    "start_time": "2022-04-28T03:22:17.576Z"
   },
   {
    "duration": 6,
    "start_time": "2022-04-28T03:22:17.607Z"
   },
   {
    "duration": 36,
    "start_time": "2022-04-28T03:22:17.614Z"
   },
   {
    "duration": 124,
    "start_time": "2022-04-28T03:22:17.652Z"
   },
   {
    "duration": 31,
    "start_time": "2022-04-28T03:22:17.778Z"
   },
   {
    "duration": 3467,
    "start_time": "2022-04-28T03:22:17.811Z"
   },
   {
    "duration": 250,
    "start_time": "2022-04-28T03:22:21.283Z"
   },
   {
    "duration": 19,
    "start_time": "2022-04-28T03:22:21.536Z"
   },
   {
    "duration": 26,
    "start_time": "2022-04-28T03:22:21.557Z"
   },
   {
    "duration": 115,
    "start_time": "2022-04-28T03:22:21.585Z"
   },
   {
    "duration": 218,
    "start_time": "2022-04-28T03:22:21.702Z"
   },
   {
    "duration": 228,
    "start_time": "2022-04-28T03:22:21.922Z"
   },
   {
    "duration": 3,
    "start_time": "2022-04-28T03:22:22.152Z"
   },
   {
    "duration": 57,
    "start_time": "2022-04-28T03:22:22.157Z"
   },
   {
    "duration": 4,
    "start_time": "2022-04-28T03:22:22.215Z"
   },
   {
    "duration": 14,
    "start_time": "2022-04-28T03:22:22.220Z"
   },
   {
    "duration": 85,
    "start_time": "2022-04-28T03:22:22.236Z"
   },
   {
    "duration": 3,
    "start_time": "2022-04-28T03:22:22.323Z"
   },
   {
    "duration": 10,
    "start_time": "2022-04-28T03:22:22.327Z"
   },
   {
    "duration": 5,
    "start_time": "2022-04-28T03:22:22.339Z"
   },
   {
    "duration": 6,
    "start_time": "2022-04-28T03:22:22.345Z"
   },
   {
    "duration": 38,
    "start_time": "2022-04-28T03:22:22.352Z"
   },
   {
    "duration": 3,
    "start_time": "2022-04-28T03:22:22.392Z"
   },
   {
    "duration": 11,
    "start_time": "2022-04-28T03:22:22.396Z"
   },
   {
    "duration": 8,
    "start_time": "2022-04-28T03:22:22.409Z"
   },
   {
    "duration": 7,
    "start_time": "2022-04-28T03:22:22.418Z"
   },
   {
    "duration": 375,
    "start_time": "2022-04-28T03:22:22.426Z"
   },
   {
    "duration": 124,
    "start_time": "2022-04-28T03:22:22.803Z"
   },
   {
    "duration": 123,
    "start_time": "2022-04-28T03:22:22.929Z"
   },
   {
    "duration": 4,
    "start_time": "2022-04-28T03:22:23.054Z"
   },
   {
    "duration": 10,
    "start_time": "2022-04-28T03:22:23.059Z"
   },
   {
    "duration": 5,
    "start_time": "2022-04-28T03:22:23.070Z"
   },
   {
    "duration": 852,
    "start_time": "2022-04-28T03:22:23.076Z"
   },
   {
    "duration": 39,
    "start_time": "2022-04-28T03:22:23.930Z"
   },
   {
    "duration": 168,
    "start_time": "2022-04-28T03:22:23.971Z"
   },
   {
    "duration": 0,
    "start_time": "2022-04-28T03:22:24.141Z"
   },
   {
    "duration": 3,
    "start_time": "2022-04-28T05:06:41.564Z"
   },
   {
    "duration": 70,
    "start_time": "2022-04-28T05:07:44.194Z"
   },
   {
    "duration": 28,
    "start_time": "2022-04-28T05:10:21.745Z"
   },
   {
    "duration": 8,
    "start_time": "2022-04-28T05:10:42.434Z"
   },
   {
    "duration": 4,
    "start_time": "2022-04-28T05:10:55.045Z"
   },
   {
    "duration": 4,
    "start_time": "2022-04-28T05:11:15.085Z"
   },
   {
    "duration": 4,
    "start_time": "2022-04-28T05:11:27.234Z"
   },
   {
    "duration": 4,
    "start_time": "2022-04-28T05:11:37.724Z"
   },
   {
    "duration": 378,
    "start_time": "2022-04-28T05:12:09.733Z"
   },
   {
    "duration": 98,
    "start_time": "2022-04-28T05:12:10.310Z"
   },
   {
    "duration": 3,
    "start_time": "2022-04-28T05:12:10.669Z"
   },
   {
    "duration": 4,
    "start_time": "2022-04-28T05:12:11.410Z"
   },
   {
    "duration": 4,
    "start_time": "2022-04-28T05:12:11.870Z"
   },
   {
    "duration": 3,
    "start_time": "2022-04-28T05:12:15.030Z"
   },
   {
    "duration": 3,
    "start_time": "2022-04-28T05:12:30.832Z"
   },
   {
    "duration": 3,
    "start_time": "2022-04-28T05:12:45.468Z"
   },
   {
    "duration": 2261,
    "start_time": "2022-04-28T05:13:35.635Z"
   },
   {
    "duration": 18387,
    "start_time": "2022-04-28T05:18:53.313Z"
   },
   {
    "duration": 18299,
    "start_time": "2022-04-28T05:20:58.803Z"
   },
   {
    "duration": 17,
    "start_time": "2022-04-28T05:21:55.794Z"
   },
   {
    "duration": 14,
    "start_time": "2022-04-28T05:23:26.596Z"
   },
   {
    "duration": 18681,
    "start_time": "2022-04-28T05:23:33.135Z"
   },
   {
    "duration": 664,
    "start_time": "2022-04-28T05:31:25.320Z"
   },
   {
    "duration": 652,
    "start_time": "2022-04-28T05:32:11.203Z"
   },
   {
    "duration": 659,
    "start_time": "2022-04-28T05:32:30.569Z"
   },
   {
    "duration": 4,
    "start_time": "2022-04-28T05:32:46.401Z"
   },
   {
    "duration": 9,
    "start_time": "2022-04-28T05:35:04.471Z"
   },
   {
    "duration": 36,
    "start_time": "2022-04-28T05:35:11.377Z"
   },
   {
    "duration": 15,
    "start_time": "2022-04-28T05:35:11.415Z"
   },
   {
    "duration": 4,
    "start_time": "2022-04-28T05:35:40.642Z"
   },
   {
    "duration": 5,
    "start_time": "2022-04-28T05:35:51.519Z"
   },
   {
    "duration": 4,
    "start_time": "2022-04-28T05:36:17.441Z"
   },
   {
    "duration": 5,
    "start_time": "2022-04-28T05:36:18.120Z"
   },
   {
    "duration": 4,
    "start_time": "2022-04-28T05:36:42.639Z"
   },
   {
    "duration": 3,
    "start_time": "2022-04-28T05:36:43.280Z"
   },
   {
    "duration": 78,
    "start_time": "2022-04-28T05:39:20.321Z"
   },
   {
    "duration": 4,
    "start_time": "2022-04-28T05:56:46.062Z"
   },
   {
    "duration": 9,
    "start_time": "2022-04-28T05:56:46.764Z"
   },
   {
    "duration": 6,
    "start_time": "2022-04-28T05:57:25.331Z"
   },
   {
    "duration": 2,
    "start_time": "2022-04-28T05:57:32.427Z"
   },
   {
    "duration": 2,
    "start_time": "2022-04-28T05:57:33.077Z"
   },
   {
    "duration": 9,
    "start_time": "2022-04-28T05:59:53.545Z"
   },
   {
    "duration": 104679,
    "start_time": "2022-04-28T06:00:02.235Z"
   },
   {
    "duration": 86,
    "start_time": "2022-04-28T06:01:46.916Z"
   },
   {
    "duration": 25805,
    "start_time": "2022-04-28T06:02:41.996Z"
   },
   {
    "duration": 3,
    "start_time": "2022-04-28T06:05:45.981Z"
   },
   {
    "duration": 2,
    "start_time": "2022-04-28T06:05:47.069Z"
   },
   {
    "duration": 108412,
    "start_time": "2022-04-28T06:05:48.189Z"
   },
   {
    "duration": 73,
    "start_time": "2022-04-28T06:12:39.817Z"
   },
   {
    "duration": 191,
    "start_time": "2022-04-28T06:12:41.728Z"
   },
   {
    "duration": 202,
    "start_time": "2022-04-28T06:13:08.211Z"
   },
   {
    "duration": 10,
    "start_time": "2022-04-28T06:13:31.609Z"
   },
   {
    "duration": 7,
    "start_time": "2022-04-28T06:14:18.615Z"
   },
   {
    "duration": 95,
    "start_time": "2022-04-28T06:14:30.711Z"
   },
   {
    "duration": 49781,
    "start_time": "2022-04-28T06:14:54.608Z"
   },
   {
    "duration": 52782,
    "start_time": "2022-04-28T06:32:38.779Z"
   },
   {
    "duration": 21,
    "start_time": "2022-04-28T06:36:19.536Z"
   },
   {
    "duration": 1687,
    "start_time": "2022-04-28T06:36:19.560Z"
   },
   {
    "duration": 3,
    "start_time": "2022-04-28T06:36:21.249Z"
   },
   {
    "duration": 1220,
    "start_time": "2022-04-28T06:36:21.253Z"
   },
   {
    "duration": 3,
    "start_time": "2022-04-28T06:36:22.476Z"
   },
   {
    "duration": 38,
    "start_time": "2022-04-28T06:36:22.481Z"
   },
   {
    "duration": 131,
    "start_time": "2022-04-28T06:36:22.521Z"
   },
   {
    "duration": 4,
    "start_time": "2022-04-28T06:36:22.654Z"
   },
   {
    "duration": 130,
    "start_time": "2022-04-28T06:36:22.659Z"
   },
   {
    "duration": 480,
    "start_time": "2022-04-28T06:36:22.790Z"
   },
   {
    "duration": 124,
    "start_time": "2022-04-28T06:36:23.272Z"
   },
   {
    "duration": 857,
    "start_time": "2022-04-28T06:36:23.401Z"
   },
   {
    "duration": 571,
    "start_time": "2022-04-28T06:36:24.260Z"
   },
   {
    "duration": 25,
    "start_time": "2022-04-28T06:36:24.835Z"
   },
   {
    "duration": 120,
    "start_time": "2022-04-28T06:36:24.861Z"
   },
   {
    "duration": 18,
    "start_time": "2022-04-28T06:36:24.982Z"
   },
   {
    "duration": 104,
    "start_time": "2022-04-28T06:36:25.002Z"
   },
   {
    "duration": 18,
    "start_time": "2022-04-28T06:36:25.108Z"
   },
   {
    "duration": 20,
    "start_time": "2022-04-28T06:36:25.128Z"
   },
   {
    "duration": 19,
    "start_time": "2022-04-28T06:36:25.149Z"
   },
   {
    "duration": 45,
    "start_time": "2022-04-28T06:36:25.170Z"
   },
   {
    "duration": 25,
    "start_time": "2022-04-28T06:36:25.217Z"
   },
   {
    "duration": 37,
    "start_time": "2022-04-28T06:36:25.244Z"
   },
   {
    "duration": 6,
    "start_time": "2022-04-28T06:36:25.283Z"
   },
   {
    "duration": 11,
    "start_time": "2022-04-28T06:36:25.299Z"
   },
   {
    "duration": 72,
    "start_time": "2022-04-28T06:36:25.312Z"
   },
   {
    "duration": 34,
    "start_time": "2022-04-28T06:36:25.386Z"
   },
   {
    "duration": 2637,
    "start_time": "2022-04-28T06:36:25.421Z"
   },
   {
    "duration": 178,
    "start_time": "2022-04-28T06:36:28.060Z"
   },
   {
    "duration": 14,
    "start_time": "2022-04-28T06:36:28.240Z"
   },
   {
    "duration": 19,
    "start_time": "2022-04-28T06:36:28.256Z"
   },
   {
    "duration": 126,
    "start_time": "2022-04-28T06:36:28.277Z"
   },
   {
    "duration": 121,
    "start_time": "2022-04-28T06:36:28.404Z"
   },
   {
    "duration": 128,
    "start_time": "2022-04-28T06:36:28.526Z"
   },
   {
    "duration": 3,
    "start_time": "2022-04-28T06:36:28.655Z"
   },
   {
    "duration": 51,
    "start_time": "2022-04-28T06:36:28.660Z"
   },
   {
    "duration": 4,
    "start_time": "2022-04-28T06:36:28.713Z"
   },
   {
    "duration": 10,
    "start_time": "2022-04-28T06:36:28.719Z"
   },
   {
    "duration": 85,
    "start_time": "2022-04-28T06:36:28.731Z"
   },
   {
    "duration": 5,
    "start_time": "2022-04-28T06:36:28.818Z"
   },
   {
    "duration": 4,
    "start_time": "2022-04-28T06:36:28.827Z"
   },
   {
    "duration": 5,
    "start_time": "2022-04-28T06:36:28.833Z"
   },
   {
    "duration": 17,
    "start_time": "2022-04-28T06:36:28.840Z"
   },
   {
    "duration": 46,
    "start_time": "2022-04-28T06:36:28.858Z"
   },
   {
    "duration": 4,
    "start_time": "2022-04-28T06:36:28.905Z"
   },
   {
    "duration": 25,
    "start_time": "2022-04-28T06:36:28.911Z"
   },
   {
    "duration": 5,
    "start_time": "2022-04-28T06:36:28.938Z"
   },
   {
    "duration": 4,
    "start_time": "2022-04-28T06:36:28.945Z"
   },
   {
    "duration": 743,
    "start_time": "2022-04-28T06:36:28.950Z"
   },
   {
    "duration": 7,
    "start_time": "2022-04-28T06:36:29.695Z"
   },
   {
    "duration": 398,
    "start_time": "2022-04-28T06:36:29.703Z"
   },
   {
    "duration": 106,
    "start_time": "2022-04-28T06:36:30.102Z"
   },
   {
    "duration": 5,
    "start_time": "2022-04-28T06:36:30.210Z"
   },
   {
    "duration": 6,
    "start_time": "2022-04-28T06:36:30.217Z"
   },
   {
    "duration": 10,
    "start_time": "2022-04-28T06:36:30.225Z"
   },
   {
    "duration": 9,
    "start_time": "2022-04-28T06:36:30.237Z"
   },
   {
    "duration": 10,
    "start_time": "2022-04-28T06:36:30.248Z"
   },
   {
    "duration": 9,
    "start_time": "2022-04-28T06:36:30.260Z"
   },
   {
    "duration": 2341,
    "start_time": "2022-04-28T06:36:30.271Z"
   },
   {
    "duration": 22389,
    "start_time": "2022-04-28T06:36:32.613Z"
   },
   {
    "duration": 796,
    "start_time": "2022-04-28T06:36:55.004Z"
   },
   {
    "duration": 5,
    "start_time": "2022-04-28T06:36:55.802Z"
   },
   {
    "duration": 54,
    "start_time": "2022-04-28T06:36:55.808Z"
   },
   {
    "duration": 21,
    "start_time": "2022-04-28T06:36:55.864Z"
   },
   {
    "duration": 15,
    "start_time": "2022-04-28T06:36:55.886Z"
   },
   {
    "duration": 6,
    "start_time": "2022-04-28T06:36:55.903Z"
   },
   {
    "duration": 8,
    "start_time": "2022-04-28T06:36:55.910Z"
   },
   {
    "duration": 8,
    "start_time": "2022-04-28T06:36:55.919Z"
   },
   {
    "duration": 8,
    "start_time": "2022-04-28T06:36:55.928Z"
   },
   {
    "duration": 6,
    "start_time": "2022-04-28T06:36:55.937Z"
   },
   {
    "duration": 105,
    "start_time": "2022-04-28T06:36:55.945Z"
   },
   {
    "duration": 193,
    "start_time": "2022-04-28T06:36:56.051Z"
   },
   {
    "duration": 0,
    "start_time": "2022-04-28T06:36:56.246Z"
   },
   {
    "duration": 0,
    "start_time": "2022-04-28T06:36:56.248Z"
   },
   {
    "duration": 0,
    "start_time": "2022-04-28T06:36:56.250Z"
   },
   {
    "duration": 0,
    "start_time": "2022-04-28T06:36:56.251Z"
   },
   {
    "duration": 0,
    "start_time": "2022-04-28T06:36:56.253Z"
   },
   {
    "duration": 52322,
    "start_time": "2022-04-28T06:48:16.306Z"
   },
   {
    "duration": 10,
    "start_time": "2022-04-28T06:51:43.034Z"
   },
   {
    "duration": 14,
    "start_time": "2022-04-28T06:52:05.832Z"
   },
   {
    "duration": 71,
    "start_time": "2022-04-28T06:52:11.907Z"
   },
   {
    "duration": 0,
    "start_time": "2022-04-28T07:12:44.434Z"
   },
   {
    "duration": 1648856,
    "start_time": "2022-04-28T07:12:49.932Z"
   },
   {
    "duration": 556043,
    "start_time": "2022-04-28T07:51:29.678Z"
   },
   {
    "duration": 2414895,
    "start_time": "2022-04-28T08:07:00.231Z"
   },
   {
    "duration": 7751,
    "start_time": "2022-04-28T08:47:33.346Z"
   },
   {
    "duration": 208511,
    "start_time": "2022-04-28T08:48:10.626Z"
   },
   {
    "duration": 15,
    "start_time": "2022-04-28T08:51:45.747Z"
   },
   {
    "duration": 16,
    "start_time": "2022-04-28T08:51:53.913Z"
   },
   {
    "duration": 10563,
    "start_time": "2022-04-28T08:52:24.417Z"
   },
   {
    "duration": 178968,
    "start_time": "2022-04-28T08:52:54.936Z"
   },
   {
    "duration": 2207859,
    "start_time": "2022-04-28T08:57:03.320Z"
   },
   {
    "duration": 7,
    "start_time": "2022-04-28T09:47:02.587Z"
   },
   {
    "duration": 8,
    "start_time": "2022-04-28T09:50:46.664Z"
   },
   {
    "duration": 1127744,
    "start_time": "2022-04-28T09:52:12.805Z"
   },
   {
    "duration": 1251063,
    "start_time": "2022-04-28T10:15:44.271Z"
   },
   {
    "duration": 1172384,
    "start_time": "2022-04-28T10:42:37.424Z"
   },
   {
    "duration": 1508927,
    "start_time": "2022-04-28T11:02:17.999Z"
   },
   {
    "duration": 44,
    "start_time": "2022-04-28T11:28:01.937Z"
   },
   {
    "duration": 1627,
    "start_time": "2022-04-28T11:28:14.567Z"
   },
   {
    "duration": 69,
    "start_time": "2022-04-28T11:28:23.558Z"
   },
   {
    "duration": 4,
    "start_time": "2022-04-28T11:29:31.493Z"
   },
   {
    "duration": 1579,
    "start_time": "2022-04-28T11:29:31.498Z"
   },
   {
    "duration": 3,
    "start_time": "2022-04-28T11:29:33.078Z"
   },
   {
    "duration": 11780,
    "start_time": "2022-04-28T11:29:33.082Z"
   },
   {
    "duration": 2,
    "start_time": "2022-04-28T11:29:44.864Z"
   },
   {
    "duration": 22,
    "start_time": "2022-04-28T11:29:44.868Z"
   },
   {
    "duration": 141,
    "start_time": "2022-04-28T11:29:44.891Z"
   },
   {
    "duration": 3,
    "start_time": "2022-04-28T11:29:45.034Z"
   },
   {
    "duration": 137,
    "start_time": "2022-04-28T11:29:45.040Z"
   },
   {
    "duration": 455,
    "start_time": "2022-04-28T11:29:45.179Z"
   },
   {
    "duration": 89,
    "start_time": "2022-04-28T11:29:45.636Z"
   },
   {
    "duration": 720,
    "start_time": "2022-04-28T11:29:45.726Z"
   },
   {
    "duration": 527,
    "start_time": "2022-04-28T11:29:46.447Z"
   },
   {
    "duration": 28,
    "start_time": "2022-04-28T11:29:46.975Z"
   },
   {
    "duration": 113,
    "start_time": "2022-04-28T11:29:47.005Z"
   },
   {
    "duration": 10,
    "start_time": "2022-04-28T11:29:47.120Z"
   },
   {
    "duration": 107,
    "start_time": "2022-04-28T11:29:47.131Z"
   },
   {
    "duration": 18,
    "start_time": "2022-04-28T11:29:47.240Z"
   },
   {
    "duration": 19,
    "start_time": "2022-04-28T11:29:47.260Z"
   },
   {
    "duration": 35,
    "start_time": "2022-04-28T11:29:47.281Z"
   },
   {
    "duration": 17,
    "start_time": "2022-04-28T11:29:47.318Z"
   },
   {
    "duration": 20,
    "start_time": "2022-04-28T11:29:47.337Z"
   },
   {
    "duration": 19,
    "start_time": "2022-04-28T11:29:47.358Z"
   },
   {
    "duration": 6,
    "start_time": "2022-04-28T11:29:47.399Z"
   },
   {
    "duration": 8,
    "start_time": "2022-04-28T11:29:47.407Z"
   },
   {
    "duration": 108,
    "start_time": "2022-04-28T11:29:47.416Z"
   },
   {
    "duration": 20,
    "start_time": "2022-04-28T11:29:47.526Z"
   },
   {
    "duration": 2328,
    "start_time": "2022-04-28T11:29:47.547Z"
   },
   {
    "duration": 175,
    "start_time": "2022-04-28T11:29:49.876Z"
   },
   {
    "duration": 14,
    "start_time": "2022-04-28T11:29:50.053Z"
   },
   {
    "duration": 32,
    "start_time": "2022-04-28T11:29:50.069Z"
   },
   {
    "duration": 77,
    "start_time": "2022-04-28T11:29:50.102Z"
   },
   {
    "duration": 129,
    "start_time": "2022-04-28T11:29:50.181Z"
   },
   {
    "duration": 122,
    "start_time": "2022-04-28T11:29:50.312Z"
   },
   {
    "duration": 3,
    "start_time": "2022-04-28T11:29:50.436Z"
   },
   {
    "duration": 33,
    "start_time": "2022-04-28T11:29:50.440Z"
   },
   {
    "duration": 3,
    "start_time": "2022-04-28T11:29:50.475Z"
   },
   {
    "duration": 22,
    "start_time": "2022-04-28T11:29:50.480Z"
   },
   {
    "duration": 81,
    "start_time": "2022-04-28T11:29:50.504Z"
   },
   {
    "duration": 4,
    "start_time": "2022-04-28T11:29:50.587Z"
   },
   {
    "duration": 4,
    "start_time": "2022-04-28T11:29:50.600Z"
   },
   {
    "duration": 11,
    "start_time": "2022-04-28T11:29:50.605Z"
   },
   {
    "duration": 11,
    "start_time": "2022-04-28T11:29:50.617Z"
   },
   {
    "duration": 40,
    "start_time": "2022-04-28T11:29:50.630Z"
   },
   {
    "duration": 3,
    "start_time": "2022-04-28T11:29:50.671Z"
   },
   {
    "duration": 11,
    "start_time": "2022-04-28T11:29:50.676Z"
   },
   {
    "duration": 12,
    "start_time": "2022-04-28T11:29:50.688Z"
   },
   {
    "duration": 19,
    "start_time": "2022-04-28T11:29:50.702Z"
   },
   {
    "duration": 742,
    "start_time": "2022-04-28T11:29:50.723Z"
   },
   {
    "duration": 4,
    "start_time": "2022-04-28T11:29:51.467Z"
   },
   {
    "duration": 404,
    "start_time": "2022-04-28T11:29:51.473Z"
   },
   {
    "duration": 101,
    "start_time": "2022-04-28T11:29:51.879Z"
   },
   {
    "duration": 4,
    "start_time": "2022-04-28T11:29:51.981Z"
   },
   {
    "duration": 14,
    "start_time": "2022-04-28T11:29:51.986Z"
   },
   {
    "duration": 7,
    "start_time": "2022-04-28T11:29:52.002Z"
   },
   {
    "duration": 6,
    "start_time": "2022-04-28T11:29:52.010Z"
   },
   {
    "duration": 6,
    "start_time": "2022-04-28T11:29:52.017Z"
   },
   {
    "duration": 8,
    "start_time": "2022-04-28T11:29:52.024Z"
   },
   {
    "duration": 2711,
    "start_time": "2022-04-28T11:29:52.033Z"
   },
   {
    "duration": 18658,
    "start_time": "2022-04-28T11:29:54.746Z"
   },
   {
    "duration": 751,
    "start_time": "2022-04-28T11:30:13.407Z"
   },
   {
    "duration": 4,
    "start_time": "2022-04-28T11:30:14.160Z"
   },
   {
    "duration": 56,
    "start_time": "2022-04-28T11:30:14.165Z"
   },
   {
    "duration": 20,
    "start_time": "2022-04-28T11:30:14.223Z"
   },
   {
    "duration": 4,
    "start_time": "2022-04-28T11:30:14.245Z"
   },
   {
    "duration": 8,
    "start_time": "2022-04-28T11:30:14.250Z"
   },
   {
    "duration": 7,
    "start_time": "2022-04-28T11:30:14.259Z"
   },
   {
    "duration": 5,
    "start_time": "2022-04-28T11:30:14.267Z"
   },
   {
    "duration": 24,
    "start_time": "2022-04-28T11:30:14.276Z"
   },
   {
    "duration": 3,
    "start_time": "2022-04-28T11:30:14.302Z"
   },
   {
    "duration": 97,
    "start_time": "2022-04-28T11:30:14.307Z"
   },
   {
    "duration": 2,
    "start_time": "2022-04-28T11:30:14.406Z"
   },
   {
    "duration": 194,
    "start_time": "2022-04-28T11:30:14.410Z"
   },
   {
    "duration": 0,
    "start_time": "2022-04-28T11:30:14.606Z"
   },
   {
    "duration": 0,
    "start_time": "2022-04-28T11:30:14.607Z"
   },
   {
    "duration": 0,
    "start_time": "2022-04-28T11:30:14.608Z"
   },
   {
    "duration": 0,
    "start_time": "2022-04-28T11:30:14.609Z"
   },
   {
    "duration": 0,
    "start_time": "2022-04-28T11:30:14.610Z"
   },
   {
    "duration": 0,
    "start_time": "2022-04-28T11:30:14.611Z"
   },
   {
    "duration": 0,
    "start_time": "2022-04-28T11:30:14.611Z"
   },
   {
    "duration": 2,
    "start_time": "2022-04-28T11:31:12.644Z"
   },
   {
    "duration": 3,
    "start_time": "2022-04-28T11:31:19.374Z"
   },
   {
    "duration": 505013,
    "start_time": "2022-04-28T11:31:20.569Z"
   },
   {
    "duration": 560530,
    "start_time": "2022-04-28T11:41:27.687Z"
   },
   {
    "duration": 1658510,
    "start_time": "2022-04-28T11:53:36.335Z"
   },
   {
    "duration": 25903,
    "start_time": "2022-04-28T12:22:38.532Z"
   },
   {
    "duration": 46,
    "start_time": "2022-04-28T12:23:21.289Z"
   },
   {
    "duration": 3,
    "start_time": "2022-04-28T12:23:29.665Z"
   },
   {
    "duration": 1911,
    "start_time": "2022-04-28T12:23:29.687Z"
   },
   {
    "duration": 3,
    "start_time": "2022-04-28T12:23:31.600Z"
   },
   {
    "duration": 13740,
    "start_time": "2022-04-28T12:23:31.605Z"
   },
   {
    "duration": 2,
    "start_time": "2022-04-28T12:23:45.347Z"
   },
   {
    "duration": 20,
    "start_time": "2022-04-28T12:23:45.351Z"
   },
   {
    "duration": 141,
    "start_time": "2022-04-28T12:23:45.372Z"
   },
   {
    "duration": 3,
    "start_time": "2022-04-28T12:23:45.515Z"
   },
   {
    "duration": 130,
    "start_time": "2022-04-28T12:23:45.520Z"
   },
   {
    "duration": 456,
    "start_time": "2022-04-28T12:23:45.652Z"
   },
   {
    "duration": 94,
    "start_time": "2022-04-28T12:23:46.111Z"
   },
   {
    "duration": 700,
    "start_time": "2022-04-28T12:23:46.207Z"
   },
   {
    "duration": 547,
    "start_time": "2022-04-28T12:23:46.909Z"
   },
   {
    "duration": 18,
    "start_time": "2022-04-28T12:23:47.458Z"
   },
   {
    "duration": 122,
    "start_time": "2022-04-28T12:23:47.478Z"
   },
   {
    "duration": 10,
    "start_time": "2022-04-28T12:23:47.602Z"
   },
   {
    "duration": 110,
    "start_time": "2022-04-28T12:23:47.613Z"
   },
   {
    "duration": 22,
    "start_time": "2022-04-28T12:23:47.725Z"
   },
   {
    "duration": 32,
    "start_time": "2022-04-28T12:23:47.749Z"
   },
   {
    "duration": 33,
    "start_time": "2022-04-28T12:23:47.800Z"
   },
   {
    "duration": 33,
    "start_time": "2022-04-28T12:23:47.835Z"
   },
   {
    "duration": 34,
    "start_time": "2022-04-28T12:23:47.870Z"
   },
   {
    "duration": 19,
    "start_time": "2022-04-28T12:23:47.905Z"
   },
   {
    "duration": 5,
    "start_time": "2022-04-28T12:23:47.926Z"
   },
   {
    "duration": 10,
    "start_time": "2022-04-28T12:23:47.933Z"
   },
   {
    "duration": 123,
    "start_time": "2022-04-28T12:23:47.944Z"
   },
   {
    "duration": 19,
    "start_time": "2022-04-28T12:23:48.069Z"
   },
   {
    "duration": 2269,
    "start_time": "2022-04-28T12:23:48.090Z"
   },
   {
    "duration": 169,
    "start_time": "2022-04-28T12:23:50.363Z"
   },
   {
    "duration": 19,
    "start_time": "2022-04-28T12:23:50.534Z"
   },
   {
    "duration": 28,
    "start_time": "2022-04-28T12:23:50.555Z"
   },
   {
    "duration": 100,
    "start_time": "2022-04-28T12:23:50.600Z"
   },
   {
    "duration": 221,
    "start_time": "2022-04-28T12:23:50.702Z"
   },
   {
    "duration": 229,
    "start_time": "2022-04-28T12:23:50.925Z"
   },
   {
    "duration": 3,
    "start_time": "2022-04-28T12:23:51.156Z"
   },
   {
    "duration": 40,
    "start_time": "2022-04-28T12:23:51.161Z"
   },
   {
    "duration": 4,
    "start_time": "2022-04-28T12:23:51.203Z"
   },
   {
    "duration": 6,
    "start_time": "2022-04-28T12:23:51.209Z"
   },
   {
    "duration": 86,
    "start_time": "2022-04-28T12:23:51.217Z"
   },
   {
    "duration": 3,
    "start_time": "2022-04-28T12:23:51.305Z"
   },
   {
    "duration": 5,
    "start_time": "2022-04-28T12:23:51.310Z"
   },
   {
    "duration": 4,
    "start_time": "2022-04-28T12:23:51.317Z"
   },
   {
    "duration": 4,
    "start_time": "2022-04-28T12:23:51.323Z"
   },
   {
    "duration": 35,
    "start_time": "2022-04-28T12:23:51.329Z"
   },
   {
    "duration": 3,
    "start_time": "2022-04-28T12:23:51.366Z"
   },
   {
    "duration": 31,
    "start_time": "2022-04-28T12:23:51.370Z"
   },
   {
    "duration": 4,
    "start_time": "2022-04-28T12:23:51.402Z"
   },
   {
    "duration": 7,
    "start_time": "2022-04-28T12:23:51.407Z"
   },
   {
    "duration": 701,
    "start_time": "2022-04-28T12:23:51.415Z"
   },
   {
    "duration": 4,
    "start_time": "2022-04-28T12:23:52.118Z"
   },
   {
    "duration": 395,
    "start_time": "2022-04-28T12:23:52.123Z"
   },
   {
    "duration": 101,
    "start_time": "2022-04-28T12:23:52.520Z"
   },
   {
    "duration": 3,
    "start_time": "2022-04-28T12:23:52.623Z"
   },
   {
    "duration": 6,
    "start_time": "2022-04-28T12:23:52.628Z"
   },
   {
    "duration": 5,
    "start_time": "2022-04-28T12:23:52.635Z"
   },
   {
    "duration": 6,
    "start_time": "2022-04-28T12:23:52.641Z"
   },
   {
    "duration": 7,
    "start_time": "2022-04-28T12:23:52.648Z"
   },
   {
    "duration": 6,
    "start_time": "2022-04-28T12:23:52.657Z"
   },
   {
    "duration": 2356,
    "start_time": "2022-04-28T12:23:52.664Z"
   },
   {
    "duration": 23184,
    "start_time": "2022-04-28T12:23:55.022Z"
   },
   {
    "duration": 741,
    "start_time": "2022-04-28T12:24:18.209Z"
   },
   {
    "duration": 3,
    "start_time": "2022-04-28T12:24:18.952Z"
   },
   {
    "duration": 55,
    "start_time": "2022-04-28T12:24:18.957Z"
   },
   {
    "duration": 21,
    "start_time": "2022-04-28T12:24:19.013Z"
   },
   {
    "duration": 4,
    "start_time": "2022-04-28T12:24:19.035Z"
   },
   {
    "duration": 6,
    "start_time": "2022-04-28T12:24:19.040Z"
   },
   {
    "duration": 11,
    "start_time": "2022-04-28T12:24:19.047Z"
   },
   {
    "duration": 5,
    "start_time": "2022-04-28T12:24:19.060Z"
   },
   {
    "duration": 6,
    "start_time": "2022-04-28T12:24:19.066Z"
   },
   {
    "duration": 7,
    "start_time": "2022-04-28T12:24:19.073Z"
   },
   {
    "duration": 82,
    "start_time": "2022-04-28T12:24:19.100Z"
   },
   {
    "duration": 3,
    "start_time": "2022-04-28T12:24:19.183Z"
   },
   {
    "duration": 14,
    "start_time": "2022-04-28T12:24:19.187Z"
   },
   {
    "duration": 10,
    "start_time": "2022-04-28T12:24:19.202Z"
   },
   {
    "duration": 50503,
    "start_time": "2022-04-28T12:24:19.213Z"
   },
   {
    "duration": 0,
    "start_time": "2022-04-28T12:25:09.717Z"
   },
   {
    "duration": 0,
    "start_time": "2022-04-28T12:25:09.719Z"
   },
   {
    "duration": 0,
    "start_time": "2022-04-28T12:25:09.719Z"
   },
   {
    "duration": 0,
    "start_time": "2022-04-28T12:25:09.720Z"
   },
   {
    "duration": 0,
    "start_time": "2022-04-28T12:25:09.721Z"
   },
   {
    "duration": 204,
    "start_time": "2022-04-28T12:25:19.904Z"
   },
   {
    "duration": 197,
    "start_time": "2022-04-28T12:25:23.888Z"
   },
   {
    "duration": 3,
    "start_time": "2022-04-28T12:25:32.778Z"
   },
   {
    "duration": 81,
    "start_time": "2022-04-28T17:14:52.791Z"
   },
   {
    "duration": 6,
    "start_time": "2022-04-28T17:15:03.750Z"
   },
   {
    "duration": 2556,
    "start_time": "2022-04-28T17:15:03.767Z"
   },
   {
    "duration": 5,
    "start_time": "2022-04-28T17:15:06.326Z"
   },
   {
    "duration": 1330,
    "start_time": "2022-04-28T17:15:06.333Z"
   },
   {
    "duration": 4,
    "start_time": "2022-04-28T17:15:07.666Z"
   },
   {
    "duration": 29,
    "start_time": "2022-04-28T17:15:07.672Z"
   },
   {
    "duration": 280,
    "start_time": "2022-04-28T17:15:07.704Z"
   },
   {
    "duration": 6,
    "start_time": "2022-04-28T17:15:07.986Z"
   },
   {
    "duration": 203,
    "start_time": "2022-04-28T17:15:07.993Z"
   },
   {
    "duration": 729,
    "start_time": "2022-04-28T17:15:08.199Z"
   },
   {
    "duration": 135,
    "start_time": "2022-04-28T17:15:08.932Z"
   },
   {
    "duration": 1221,
    "start_time": "2022-04-28T17:15:09.070Z"
   },
   {
    "duration": 1003,
    "start_time": "2022-04-28T17:15:10.294Z"
   },
   {
    "duration": 33,
    "start_time": "2022-04-28T17:15:11.300Z"
   },
   {
    "duration": 193,
    "start_time": "2022-04-28T17:15:11.336Z"
   },
   {
    "duration": 22,
    "start_time": "2022-04-28T17:15:11.531Z"
   },
   {
    "duration": 178,
    "start_time": "2022-04-28T17:15:11.556Z"
   },
   {
    "duration": 36,
    "start_time": "2022-04-28T17:15:11.736Z"
   },
   {
    "duration": 35,
    "start_time": "2022-04-28T17:15:11.775Z"
   },
   {
    "duration": 46,
    "start_time": "2022-04-28T17:15:11.812Z"
   },
   {
    "duration": 42,
    "start_time": "2022-04-28T17:15:11.861Z"
   },
   {
    "duration": 61,
    "start_time": "2022-04-28T17:15:11.906Z"
   },
   {
    "duration": 45,
    "start_time": "2022-04-28T17:15:11.970Z"
   },
   {
    "duration": 8,
    "start_time": "2022-04-28T17:15:12.018Z"
   },
   {
    "duration": 36,
    "start_time": "2022-04-28T17:15:12.029Z"
   },
   {
    "duration": 179,
    "start_time": "2022-04-28T17:15:12.068Z"
   },
   {
    "duration": 34,
    "start_time": "2022-04-28T17:15:12.249Z"
   },
   {
    "duration": 3659,
    "start_time": "2022-04-28T17:15:12.286Z"
   },
   {
    "duration": 250,
    "start_time": "2022-04-28T17:15:15.959Z"
   },
   {
    "duration": 21,
    "start_time": "2022-04-28T17:15:16.212Z"
   },
   {
    "duration": 47,
    "start_time": "2022-04-28T17:15:16.235Z"
   },
   {
    "duration": 150,
    "start_time": "2022-04-28T17:15:16.284Z"
   },
   {
    "duration": 168,
    "start_time": "2022-04-28T17:15:16.437Z"
   },
   {
    "duration": 180,
    "start_time": "2022-04-28T17:15:16.608Z"
   },
   {
    "duration": 3,
    "start_time": "2022-04-28T17:15:16.790Z"
   },
   {
    "duration": 63,
    "start_time": "2022-04-28T17:15:16.795Z"
   },
   {
    "duration": 8,
    "start_time": "2022-04-28T17:15:16.861Z"
   },
   {
    "duration": 13,
    "start_time": "2022-04-28T17:15:16.871Z"
   },
   {
    "duration": 188,
    "start_time": "2022-04-28T17:15:16.886Z"
   },
   {
    "duration": 5,
    "start_time": "2022-04-28T17:15:17.077Z"
   },
   {
    "duration": 7,
    "start_time": "2022-04-28T17:15:17.084Z"
   },
   {
    "duration": 6,
    "start_time": "2022-04-28T17:15:17.093Z"
   },
   {
    "duration": 5,
    "start_time": "2022-04-28T17:15:17.101Z"
   },
   {
    "duration": 109,
    "start_time": "2022-04-28T17:15:17.108Z"
   },
   {
    "duration": 5,
    "start_time": "2022-04-28T17:15:17.220Z"
   },
   {
    "duration": 7,
    "start_time": "2022-04-28T17:15:17.227Z"
   },
   {
    "duration": 8,
    "start_time": "2022-04-28T17:15:17.254Z"
   },
   {
    "duration": 20,
    "start_time": "2022-04-28T17:15:17.265Z"
   },
   {
    "duration": 1586,
    "start_time": "2022-04-28T17:15:17.287Z"
   },
   {
    "duration": 5,
    "start_time": "2022-04-28T17:15:18.875Z"
   },
   {
    "duration": 699,
    "start_time": "2022-04-28T17:15:18.882Z"
   },
   {
    "duration": 145,
    "start_time": "2022-04-28T17:15:19.583Z"
   },
   {
    "duration": 6,
    "start_time": "2022-04-28T17:15:19.730Z"
   },
   {
    "duration": 16,
    "start_time": "2022-04-28T17:15:19.738Z"
   },
   {
    "duration": 23,
    "start_time": "2022-04-28T17:15:19.758Z"
   },
   {
    "duration": 7,
    "start_time": "2022-04-28T17:15:19.783Z"
   },
   {
    "duration": 9,
    "start_time": "2022-04-28T17:15:19.793Z"
   },
   {
    "duration": 10,
    "start_time": "2022-04-28T17:15:19.804Z"
   },
   {
    "duration": 3250,
    "start_time": "2022-04-28T17:15:19.817Z"
   },
   {
    "duration": 32188,
    "start_time": "2022-04-28T17:15:23.071Z"
   },
   {
    "duration": 1413,
    "start_time": "2022-04-28T17:15:55.261Z"
   },
   {
    "duration": 5,
    "start_time": "2022-04-28T17:15:56.676Z"
   },
   {
    "duration": 87,
    "start_time": "2022-04-28T17:15:56.684Z"
   },
   {
    "duration": 26,
    "start_time": "2022-04-28T17:15:56.773Z"
   },
   {
    "duration": 5,
    "start_time": "2022-04-28T17:15:56.801Z"
   },
   {
    "duration": 7,
    "start_time": "2022-04-28T17:15:56.808Z"
   },
   {
    "duration": 37,
    "start_time": "2022-04-28T17:15:56.817Z"
   },
   {
    "duration": 11,
    "start_time": "2022-04-28T17:15:56.857Z"
   },
   {
    "duration": 7,
    "start_time": "2022-04-28T17:15:56.870Z"
   },
   {
    "duration": 8,
    "start_time": "2022-04-28T17:15:56.878Z"
   },
   {
    "duration": 156,
    "start_time": "2022-04-28T17:15:56.888Z"
   },
   {
    "duration": 5,
    "start_time": "2022-04-28T17:15:57.047Z"
   },
   {
    "duration": 19,
    "start_time": "2022-04-28T17:15:57.054Z"
   },
   {
    "duration": 10,
    "start_time": "2022-04-28T17:15:57.075Z"
   },
   {
    "duration": 10,
    "start_time": "2022-04-28T17:15:57.087Z"
   },
   {
    "duration": 2029992,
    "start_time": "2022-04-28T17:15:57.099Z"
   },
   {
    "duration": 4,
    "start_time": "2022-04-28T17:49:47.093Z"
   },
   {
    "duration": 6,
    "start_time": "2022-04-28T17:49:47.100Z"
   },
   {
    "duration": 8,
    "start_time": "2022-04-28T17:49:47.109Z"
   },
   {
    "duration": 33,
    "start_time": "2022-04-28T17:49:47.119Z"
   },
   {
    "duration": 184,
    "start_time": "2022-04-28T17:51:02.617Z"
   },
   {
    "duration": 1007638,
    "start_time": "2022-04-28T17:51:32.316Z"
   },
   {
    "duration": 5,
    "start_time": "2022-04-28T18:17:36.146Z"
   },
   {
    "duration": 2135,
    "start_time": "2022-04-28T18:17:36.159Z"
   },
   {
    "duration": 4,
    "start_time": "2022-04-28T18:17:38.297Z"
   },
   {
    "duration": 1161,
    "start_time": "2022-04-28T18:17:38.303Z"
   },
   {
    "duration": 3,
    "start_time": "2022-04-28T18:17:39.467Z"
   },
   {
    "duration": 38,
    "start_time": "2022-04-28T18:17:39.472Z"
   },
   {
    "duration": 181,
    "start_time": "2022-04-28T18:17:39.512Z"
   },
   {
    "duration": 5,
    "start_time": "2022-04-28T18:17:39.695Z"
   },
   {
    "duration": 179,
    "start_time": "2022-04-28T18:17:39.703Z"
   },
   {
    "duration": 809,
    "start_time": "2022-04-28T18:17:39.885Z"
   },
   {
    "duration": 137,
    "start_time": "2022-04-28T18:17:40.699Z"
   },
   {
    "duration": 1157,
    "start_time": "2022-04-28T18:17:40.838Z"
   },
   {
    "duration": 935,
    "start_time": "2022-04-28T18:17:41.997Z"
   },
   {
    "duration": 34,
    "start_time": "2022-04-28T18:17:42.935Z"
   },
   {
    "duration": 193,
    "start_time": "2022-04-28T18:17:42.972Z"
   },
   {
    "duration": 14,
    "start_time": "2022-04-28T18:17:43.167Z"
   },
   {
    "duration": 183,
    "start_time": "2022-04-28T18:17:43.184Z"
   },
   {
    "duration": 29,
    "start_time": "2022-04-28T18:17:43.370Z"
   },
   {
    "duration": 51,
    "start_time": "2022-04-28T18:17:43.401Z"
   },
   {
    "duration": 29,
    "start_time": "2022-04-28T18:17:43.455Z"
   },
   {
    "duration": 30,
    "start_time": "2022-04-28T18:17:43.487Z"
   },
   {
    "duration": 56,
    "start_time": "2022-04-28T18:17:43.519Z"
   },
   {
    "duration": 31,
    "start_time": "2022-04-28T18:17:43.577Z"
   },
   {
    "duration": 8,
    "start_time": "2022-04-28T18:17:43.611Z"
   },
   {
    "duration": 15,
    "start_time": "2022-04-28T18:17:43.651Z"
   },
   {
    "duration": 147,
    "start_time": "2022-04-28T18:17:43.668Z"
   },
   {
    "duration": 38,
    "start_time": "2022-04-28T18:17:43.817Z"
   },
   {
    "duration": 3768,
    "start_time": "2022-04-28T18:17:43.857Z"
   },
   {
    "duration": 314,
    "start_time": "2022-04-28T18:17:47.632Z"
   },
   {
    "duration": 23,
    "start_time": "2022-04-28T18:17:47.949Z"
   },
   {
    "duration": 32,
    "start_time": "2022-04-28T18:17:47.974Z"
   },
   {
    "duration": 199,
    "start_time": "2022-04-28T18:17:48.009Z"
   },
   {
    "duration": 162,
    "start_time": "2022-04-28T18:17:48.210Z"
   },
   {
    "duration": 179,
    "start_time": "2022-04-28T18:17:48.375Z"
   },
   {
    "duration": 3,
    "start_time": "2022-04-28T18:17:48.556Z"
   },
   {
    "duration": 51,
    "start_time": "2022-04-28T18:17:48.562Z"
   },
   {
    "duration": 5,
    "start_time": "2022-04-28T18:17:48.615Z"
   },
   {
    "duration": 33,
    "start_time": "2022-04-28T18:17:48.623Z"
   },
   {
    "duration": 176,
    "start_time": "2022-04-28T18:17:48.658Z"
   },
   {
    "duration": 16,
    "start_time": "2022-04-28T18:17:48.836Z"
   },
   {
    "duration": 7,
    "start_time": "2022-04-28T18:17:48.855Z"
   },
   {
    "duration": 8,
    "start_time": "2022-04-28T18:17:48.864Z"
   },
   {
    "duration": 10,
    "start_time": "2022-04-28T18:17:48.875Z"
   },
   {
    "duration": 104,
    "start_time": "2022-04-28T18:17:48.887Z"
   },
   {
    "duration": 6,
    "start_time": "2022-04-28T18:17:48.993Z"
   },
   {
    "duration": 9,
    "start_time": "2022-04-28T18:17:49.002Z"
   },
   {
    "duration": 39,
    "start_time": "2022-04-28T18:17:49.013Z"
   },
   {
    "duration": 6,
    "start_time": "2022-04-28T18:17:49.054Z"
   },
   {
    "duration": 1557,
    "start_time": "2022-04-28T18:17:49.062Z"
   },
   {
    "duration": 6,
    "start_time": "2022-04-28T18:17:50.621Z"
   },
   {
    "duration": 622,
    "start_time": "2022-04-28T18:17:50.629Z"
   },
   {
    "duration": 128,
    "start_time": "2022-04-28T18:17:51.254Z"
   },
   {
    "duration": 5,
    "start_time": "2022-04-28T18:17:51.384Z"
   },
   {
    "duration": 11,
    "start_time": "2022-04-28T18:17:51.391Z"
   },
   {
    "duration": 9,
    "start_time": "2022-04-28T18:17:51.405Z"
   },
   {
    "duration": 14,
    "start_time": "2022-04-28T18:17:51.417Z"
   },
   {
    "duration": 16,
    "start_time": "2022-04-28T18:17:51.434Z"
   },
   {
    "duration": 8,
    "start_time": "2022-04-28T18:17:51.453Z"
   },
   {
    "duration": 4208,
    "start_time": "2022-04-28T18:17:51.464Z"
   },
   {
    "duration": 26784,
    "start_time": "2022-04-28T18:17:55.675Z"
   },
   {
    "duration": 1140,
    "start_time": "2022-04-28T18:18:22.461Z"
   },
   {
    "duration": 5,
    "start_time": "2022-04-28T18:18:23.603Z"
   },
   {
    "duration": 76,
    "start_time": "2022-04-28T18:18:23.610Z"
   },
   {
    "duration": 26,
    "start_time": "2022-04-28T18:18:23.688Z"
   },
   {
    "duration": 6,
    "start_time": "2022-04-28T18:18:23.716Z"
   },
   {
    "duration": 28,
    "start_time": "2022-04-28T18:18:23.724Z"
   },
   {
    "duration": 5,
    "start_time": "2022-04-28T18:18:23.754Z"
   },
   {
    "duration": 8,
    "start_time": "2022-04-28T18:18:23.760Z"
   },
   {
    "duration": 11,
    "start_time": "2022-04-28T18:18:23.770Z"
   },
   {
    "duration": 9,
    "start_time": "2022-04-28T18:18:23.783Z"
   },
   {
    "duration": 136,
    "start_time": "2022-04-28T18:18:23.794Z"
   },
   {
    "duration": 3,
    "start_time": "2022-04-28T18:18:23.933Z"
   },
   {
    "duration": 19,
    "start_time": "2022-04-28T18:18:23.938Z"
   },
   {
    "duration": 10,
    "start_time": "2022-04-28T18:18:23.959Z"
   },
   {
    "duration": 11,
    "start_time": "2022-04-28T18:18:23.971Z"
   },
   {
    "duration": 7,
    "start_time": "2022-04-28T18:18:23.984Z"
   },
   {
    "duration": 427589,
    "start_time": "2022-04-28T18:18:23.993Z"
   },
   {
    "duration": 4,
    "start_time": "2022-04-28T18:25:31.584Z"
   },
   {
    "duration": 22,
    "start_time": "2022-04-28T18:25:31.590Z"
   },
   {
    "duration": 24,
    "start_time": "2022-04-28T18:25:31.615Z"
   },
   {
    "duration": 41,
    "start_time": "2022-04-28T18:25:31.642Z"
   },
   {
    "duration": 580032,
    "start_time": "2022-04-28T18:25:53.172Z"
   },
   {
    "duration": 86975,
    "start_time": "2022-04-28T18:37:01.694Z"
   },
   {
    "duration": 245083,
    "start_time": "2022-04-28T18:39:05.493Z"
   },
   {
    "duration": 5,
    "start_time": "2022-04-28T18:51:07.219Z"
   },
   {
    "duration": 1995,
    "start_time": "2022-04-28T18:51:07.227Z"
   },
   {
    "duration": 4,
    "start_time": "2022-04-28T18:51:09.224Z"
   },
   {
    "duration": 1142,
    "start_time": "2022-04-28T18:51:09.230Z"
   },
   {
    "duration": 3,
    "start_time": "2022-04-28T18:51:10.376Z"
   },
   {
    "duration": 45,
    "start_time": "2022-04-28T18:51:10.380Z"
   },
   {
    "duration": 169,
    "start_time": "2022-04-28T18:51:10.427Z"
   },
   {
    "duration": 8,
    "start_time": "2022-04-28T18:51:10.598Z"
   },
   {
    "duration": 173,
    "start_time": "2022-04-28T18:51:10.608Z"
   },
   {
    "duration": 785,
    "start_time": "2022-04-28T18:51:10.784Z"
   },
   {
    "duration": 164,
    "start_time": "2022-04-28T18:51:11.573Z"
   },
   {
    "duration": 1208,
    "start_time": "2022-04-28T18:51:11.740Z"
   },
   {
    "duration": 900,
    "start_time": "2022-04-28T18:51:12.952Z"
   },
   {
    "duration": 30,
    "start_time": "2022-04-28T18:51:13.855Z"
   },
   {
    "duration": 208,
    "start_time": "2022-04-28T18:51:13.887Z"
   },
   {
    "duration": 13,
    "start_time": "2022-04-28T18:51:14.097Z"
   },
   {
    "duration": 211,
    "start_time": "2022-04-28T18:51:14.112Z"
   },
   {
    "duration": 32,
    "start_time": "2022-04-28T18:51:14.330Z"
   },
   {
    "duration": 31,
    "start_time": "2022-04-28T18:51:14.364Z"
   },
   {
    "duration": 28,
    "start_time": "2022-04-28T18:51:14.397Z"
   },
   {
    "duration": 53,
    "start_time": "2022-04-28T18:51:14.428Z"
   },
   {
    "duration": 38,
    "start_time": "2022-04-28T18:51:14.484Z"
   },
   {
    "duration": 59,
    "start_time": "2022-04-28T18:51:14.525Z"
   },
   {
    "duration": 9,
    "start_time": "2022-04-28T18:51:14.586Z"
   },
   {
    "duration": 35,
    "start_time": "2022-04-28T18:51:14.597Z"
   },
   {
    "duration": 161,
    "start_time": "2022-04-28T18:51:14.635Z"
   },
   {
    "duration": 38,
    "start_time": "2022-04-28T18:51:14.799Z"
   },
   {
    "duration": 3631,
    "start_time": "2022-04-28T18:51:14.851Z"
   },
   {
    "duration": 258,
    "start_time": "2022-04-28T18:51:18.489Z"
   },
   {
    "duration": 23,
    "start_time": "2022-04-28T18:51:18.751Z"
   },
   {
    "duration": 29,
    "start_time": "2022-04-28T18:51:18.776Z"
   },
   {
    "duration": 201,
    "start_time": "2022-04-28T18:51:18.807Z"
   },
   {
    "duration": 155,
    "start_time": "2022-04-28T18:51:19.010Z"
   },
   {
    "duration": 170,
    "start_time": "2022-04-28T18:51:19.167Z"
   },
   {
    "duration": 12,
    "start_time": "2022-04-28T18:51:19.340Z"
   },
   {
    "duration": 59,
    "start_time": "2022-04-28T18:51:19.355Z"
   },
   {
    "duration": 6,
    "start_time": "2022-04-28T18:51:19.417Z"
   },
   {
    "duration": 29,
    "start_time": "2022-04-28T18:51:19.425Z"
   },
   {
    "duration": 158,
    "start_time": "2022-04-28T18:51:19.456Z"
   },
   {
    "duration": 5,
    "start_time": "2022-04-28T18:51:19.616Z"
   },
   {
    "duration": 10,
    "start_time": "2022-04-28T18:51:19.623Z"
   },
   {
    "duration": 22,
    "start_time": "2022-04-28T18:51:19.635Z"
   },
   {
    "duration": 18,
    "start_time": "2022-04-28T18:51:19.659Z"
   },
   {
    "duration": 64,
    "start_time": "2022-04-28T18:51:19.679Z"
   },
   {
    "duration": 7,
    "start_time": "2022-04-28T18:51:19.746Z"
   },
   {
    "duration": 10,
    "start_time": "2022-04-28T18:51:19.755Z"
   },
   {
    "duration": 11,
    "start_time": "2022-04-28T18:51:19.767Z"
   },
   {
    "duration": 7,
    "start_time": "2022-04-28T18:51:19.780Z"
   },
   {
    "duration": 1490,
    "start_time": "2022-04-28T18:51:19.790Z"
   },
   {
    "duration": 6,
    "start_time": "2022-04-28T18:51:21.282Z"
   },
   {
    "duration": 594,
    "start_time": "2022-04-28T18:51:21.290Z"
   },
   {
    "duration": 137,
    "start_time": "2022-04-28T18:51:21.887Z"
   },
   {
    "duration": 6,
    "start_time": "2022-04-28T18:51:22.026Z"
   },
   {
    "duration": 22,
    "start_time": "2022-04-28T18:51:22.034Z"
   },
   {
    "duration": 14,
    "start_time": "2022-04-28T18:51:22.059Z"
   },
   {
    "duration": 10,
    "start_time": "2022-04-28T18:51:22.076Z"
   },
   {
    "duration": 13,
    "start_time": "2022-04-28T18:51:22.088Z"
   },
   {
    "duration": 18,
    "start_time": "2022-04-28T18:51:22.104Z"
   },
   {
    "duration": 3298,
    "start_time": "2022-04-28T18:51:22.125Z"
   },
   {
    "duration": 32831,
    "start_time": "2022-04-28T18:51:25.426Z"
   },
   {
    "duration": 1111,
    "start_time": "2022-04-28T18:51:58.260Z"
   },
   {
    "duration": 5,
    "start_time": "2022-04-28T18:51:59.373Z"
   },
   {
    "duration": 77,
    "start_time": "2022-04-28T18:51:59.380Z"
   },
   {
    "duration": 28,
    "start_time": "2022-04-28T18:51:59.459Z"
   },
   {
    "duration": 6,
    "start_time": "2022-04-28T18:51:59.489Z"
   },
   {
    "duration": 14,
    "start_time": "2022-04-28T18:51:59.497Z"
   },
   {
    "duration": 9,
    "start_time": "2022-04-28T18:51:59.513Z"
   },
   {
    "duration": 31,
    "start_time": "2022-04-28T18:51:59.524Z"
   },
   {
    "duration": 8,
    "start_time": "2022-04-28T18:51:59.558Z"
   },
   {
    "duration": 6,
    "start_time": "2022-04-28T18:51:59.569Z"
   },
   {
    "duration": 146,
    "start_time": "2022-04-28T18:51:59.577Z"
   },
   {
    "duration": 3,
    "start_time": "2022-04-28T18:51:59.725Z"
   },
   {
    "duration": 3,
    "start_time": "2022-04-28T19:07:44.493Z"
   },
   {
    "duration": 11,
    "start_time": "2022-04-28T19:07:44.499Z"
   },
   {
    "duration": 10,
    "start_time": "2022-04-28T19:07:44.512Z"
   },
   {
    "duration": 4,
    "start_time": "2022-04-28T19:12:30.648Z"
   },
   {
    "duration": 1907,
    "start_time": "2022-04-28T19:12:30.656Z"
   },
   {
    "duration": 4,
    "start_time": "2022-04-28T19:12:32.565Z"
   },
   {
    "duration": 1069,
    "start_time": "2022-04-28T19:12:32.572Z"
   },
   {
    "duration": 3,
    "start_time": "2022-04-28T19:12:33.644Z"
   },
   {
    "duration": 28,
    "start_time": "2022-04-28T19:12:33.652Z"
   },
   {
    "duration": 190,
    "start_time": "2022-04-28T19:12:33.681Z"
   },
   {
    "duration": 6,
    "start_time": "2022-04-28T19:12:33.873Z"
   },
   {
    "duration": 177,
    "start_time": "2022-04-28T19:12:33.883Z"
   },
   {
    "duration": 668,
    "start_time": "2022-04-28T19:12:34.062Z"
   },
   {
    "duration": 123,
    "start_time": "2022-04-28T19:12:34.732Z"
   },
   {
    "duration": 1074,
    "start_time": "2022-04-28T19:12:34.857Z"
   },
   {
    "duration": 919,
    "start_time": "2022-04-28T19:12:35.934Z"
   },
   {
    "duration": 28,
    "start_time": "2022-04-28T19:12:36.855Z"
   },
   {
    "duration": 186,
    "start_time": "2022-04-28T19:12:36.885Z"
   },
   {
    "duration": 14,
    "start_time": "2022-04-28T19:12:37.073Z"
   },
   {
    "duration": 172,
    "start_time": "2022-04-28T19:12:37.090Z"
   },
   {
    "duration": 26,
    "start_time": "2022-04-28T19:12:37.264Z"
   },
   {
    "duration": 26,
    "start_time": "2022-04-28T19:12:37.293Z"
   },
   {
    "duration": 49,
    "start_time": "2022-04-28T19:12:37.322Z"
   },
   {
    "duration": 29,
    "start_time": "2022-04-28T19:12:37.374Z"
   },
   {
    "duration": 55,
    "start_time": "2022-04-28T19:12:37.405Z"
   },
   {
    "duration": 29,
    "start_time": "2022-04-28T19:12:37.463Z"
   },
   {
    "duration": 8,
    "start_time": "2022-04-28T19:12:37.500Z"
   },
   {
    "duration": 50,
    "start_time": "2022-04-28T19:12:37.510Z"
   },
   {
    "duration": 168,
    "start_time": "2022-04-28T19:12:37.563Z"
   },
   {
    "duration": 37,
    "start_time": "2022-04-28T19:12:37.734Z"
   },
   {
    "duration": 3521,
    "start_time": "2022-04-28T19:12:37.773Z"
   },
   {
    "duration": 255,
    "start_time": "2022-04-28T19:12:41.296Z"
   },
   {
    "duration": 23,
    "start_time": "2022-04-28T19:12:41.554Z"
   },
   {
    "duration": 31,
    "start_time": "2022-04-28T19:12:41.579Z"
   },
   {
    "duration": 164,
    "start_time": "2022-04-28T19:12:41.613Z"
   },
   {
    "duration": 156,
    "start_time": "2022-04-28T19:12:41.779Z"
   },
   {
    "duration": 179,
    "start_time": "2022-04-28T19:12:41.937Z"
   },
   {
    "duration": 3,
    "start_time": "2022-04-28T19:12:42.119Z"
   },
   {
    "duration": 67,
    "start_time": "2022-04-28T19:12:42.125Z"
   },
   {
    "duration": 5,
    "start_time": "2022-04-28T19:12:42.195Z"
   },
   {
    "duration": 7,
    "start_time": "2022-04-28T19:12:42.202Z"
   },
   {
    "duration": 179,
    "start_time": "2022-04-28T19:12:42.211Z"
   },
   {
    "duration": 6,
    "start_time": "2022-04-28T19:12:42.392Z"
   },
   {
    "duration": 8,
    "start_time": "2022-04-28T19:12:42.400Z"
   },
   {
    "duration": 9,
    "start_time": "2022-04-28T19:12:42.410Z"
   },
   {
    "duration": 6,
    "start_time": "2022-04-28T19:12:42.452Z"
   },
   {
    "duration": 91,
    "start_time": "2022-04-28T19:12:42.460Z"
   },
   {
    "duration": 5,
    "start_time": "2022-04-28T19:12:42.553Z"
   },
   {
    "duration": 8,
    "start_time": "2022-04-28T19:12:42.560Z"
   },
   {
    "duration": 8,
    "start_time": "2022-04-28T19:12:42.570Z"
   },
   {
    "duration": 9,
    "start_time": "2022-04-28T19:12:42.580Z"
   },
   {
    "duration": 1495,
    "start_time": "2022-04-28T19:12:42.591Z"
   },
   {
    "duration": 5,
    "start_time": "2022-04-28T19:12:44.089Z"
   },
   {
    "duration": 567,
    "start_time": "2022-04-28T19:12:44.096Z"
   },
   {
    "duration": 138,
    "start_time": "2022-04-28T19:12:44.665Z"
   },
   {
    "duration": 5,
    "start_time": "2022-04-28T19:12:44.806Z"
   },
   {
    "duration": 11,
    "start_time": "2022-04-28T19:12:44.813Z"
   },
   {
    "duration": 27,
    "start_time": "2022-04-28T19:12:44.827Z"
   },
   {
    "duration": 10,
    "start_time": "2022-04-28T19:12:44.857Z"
   },
   {
    "duration": 7,
    "start_time": "2022-04-28T19:12:44.869Z"
   },
   {
    "duration": 10,
    "start_time": "2022-04-28T19:12:44.878Z"
   },
   {
    "duration": 3409,
    "start_time": "2022-04-28T19:12:44.890Z"
   },
   {
    "duration": 33053,
    "start_time": "2022-04-28T19:12:48.301Z"
   },
   {
    "duration": 1007,
    "start_time": "2022-04-28T19:13:21.356Z"
   },
   {
    "duration": 5,
    "start_time": "2022-04-28T19:13:22.365Z"
   },
   {
    "duration": 62,
    "start_time": "2022-04-28T19:13:22.372Z"
   },
   {
    "duration": 38,
    "start_time": "2022-04-28T19:13:22.436Z"
   },
   {
    "duration": 6,
    "start_time": "2022-04-28T19:13:22.476Z"
   },
   {
    "duration": 17,
    "start_time": "2022-04-28T19:13:22.484Z"
   },
   {
    "duration": 10,
    "start_time": "2022-04-28T19:13:22.504Z"
   },
   {
    "duration": 21,
    "start_time": "2022-04-28T19:13:22.516Z"
   },
   {
    "duration": 5,
    "start_time": "2022-04-28T19:13:22.553Z"
   },
   {
    "duration": 18,
    "start_time": "2022-04-28T19:13:22.560Z"
   },
   {
    "duration": 124,
    "start_time": "2022-04-28T19:13:22.580Z"
   },
   {
    "duration": 4,
    "start_time": "2022-04-28T19:21:14.596Z"
   },
   {
    "duration": 1914,
    "start_time": "2022-04-28T19:21:14.606Z"
   },
   {
    "duration": 4,
    "start_time": "2022-04-28T19:21:16.523Z"
   },
   {
    "duration": 1071,
    "start_time": "2022-04-28T19:21:16.529Z"
   },
   {
    "duration": 3,
    "start_time": "2022-04-28T19:21:17.603Z"
   },
   {
    "duration": 39,
    "start_time": "2022-04-28T19:21:17.608Z"
   },
   {
    "duration": 184,
    "start_time": "2022-04-28T19:21:17.652Z"
   },
   {
    "duration": 14,
    "start_time": "2022-04-28T19:21:17.839Z"
   },
   {
    "duration": 170,
    "start_time": "2022-04-28T19:21:17.855Z"
   },
   {
    "duration": 774,
    "start_time": "2022-04-28T19:21:18.027Z"
   },
   {
    "duration": 120,
    "start_time": "2022-04-28T19:21:18.805Z"
   },
   {
    "duration": 1061,
    "start_time": "2022-04-28T19:21:18.927Z"
   },
   {
    "duration": 835,
    "start_time": "2022-04-28T19:21:19.991Z"
   },
   {
    "duration": 36,
    "start_time": "2022-04-28T19:21:20.828Z"
   },
   {
    "duration": 181,
    "start_time": "2022-04-28T19:21:20.866Z"
   },
   {
    "duration": 12,
    "start_time": "2022-04-28T19:21:21.050Z"
   },
   {
    "duration": 171,
    "start_time": "2022-04-28T19:21:21.064Z"
   },
   {
    "duration": 27,
    "start_time": "2022-04-28T19:21:21.237Z"
   },
   {
    "duration": 26,
    "start_time": "2022-04-28T19:21:21.266Z"
   },
   {
    "duration": 28,
    "start_time": "2022-04-28T19:21:21.294Z"
   },
   {
    "duration": 52,
    "start_time": "2022-04-28T19:21:21.324Z"
   },
   {
    "duration": 29,
    "start_time": "2022-04-28T19:21:21.378Z"
   },
   {
    "duration": 53,
    "start_time": "2022-04-28T19:21:21.409Z"
   },
   {
    "duration": 8,
    "start_time": "2022-04-28T19:21:21.464Z"
   },
   {
    "duration": 16,
    "start_time": "2022-04-28T19:21:21.474Z"
   },
   {
    "duration": 170,
    "start_time": "2022-04-28T19:21:21.492Z"
   },
   {
    "duration": 28,
    "start_time": "2022-04-28T19:21:21.665Z"
   },
   {
    "duration": 3343,
    "start_time": "2022-04-28T19:21:21.695Z"
   },
   {
    "duration": 257,
    "start_time": "2022-04-28T19:21:25.051Z"
   },
   {
    "duration": 22,
    "start_time": "2022-04-28T19:21:25.310Z"
   },
   {
    "duration": 39,
    "start_time": "2022-04-28T19:21:25.334Z"
   },
   {
    "duration": 145,
    "start_time": "2022-04-28T19:21:25.375Z"
   },
   {
    "duration": 170,
    "start_time": "2022-04-28T19:21:25.523Z"
   },
   {
    "duration": 174,
    "start_time": "2022-04-28T19:21:25.696Z"
   },
   {
    "duration": 3,
    "start_time": "2022-04-28T19:21:25.873Z"
   },
   {
    "duration": 51,
    "start_time": "2022-04-28T19:21:25.879Z"
   },
   {
    "duration": 22,
    "start_time": "2022-04-28T19:21:25.932Z"
   },
   {
    "duration": 6,
    "start_time": "2022-04-28T19:21:25.956Z"
   },
   {
    "duration": 169,
    "start_time": "2022-04-28T19:21:25.964Z"
   },
   {
    "duration": 5,
    "start_time": "2022-04-28T19:21:26.136Z"
   },
   {
    "duration": 5,
    "start_time": "2022-04-28T19:21:26.151Z"
   },
   {
    "duration": 5,
    "start_time": "2022-04-28T19:21:26.158Z"
   },
   {
    "duration": 9,
    "start_time": "2022-04-28T19:21:26.165Z"
   },
   {
    "duration": 95,
    "start_time": "2022-04-28T19:21:26.176Z"
   },
   {
    "duration": 6,
    "start_time": "2022-04-28T19:21:26.273Z"
   },
   {
    "duration": 8,
    "start_time": "2022-04-28T19:21:26.280Z"
   },
   {
    "duration": 6,
    "start_time": "2022-04-28T19:21:26.290Z"
   },
   {
    "duration": 7,
    "start_time": "2022-04-28T19:21:26.298Z"
   },
   {
    "duration": 1487,
    "start_time": "2022-04-28T19:21:26.307Z"
   },
   {
    "duration": 5,
    "start_time": "2022-04-28T19:21:27.796Z"
   },
   {
    "duration": 557,
    "start_time": "2022-04-28T19:21:27.803Z"
   },
   {
    "duration": 132,
    "start_time": "2022-04-28T19:21:28.363Z"
   },
   {
    "duration": 6,
    "start_time": "2022-04-28T19:21:28.497Z"
   },
   {
    "duration": 7,
    "start_time": "2022-04-28T19:21:28.505Z"
   },
   {
    "duration": 11,
    "start_time": "2022-04-28T19:21:28.515Z"
   },
   {
    "duration": 26,
    "start_time": "2022-04-28T19:21:28.528Z"
   },
   {
    "duration": 13,
    "start_time": "2022-04-28T19:21:28.556Z"
   },
   {
    "duration": 8,
    "start_time": "2022-04-28T19:21:28.570Z"
   },
   {
    "duration": 3172,
    "start_time": "2022-04-28T19:21:28.580Z"
   },
   {
    "duration": 25504,
    "start_time": "2022-04-28T19:21:31.754Z"
   },
   {
    "duration": 1077,
    "start_time": "2022-04-28T19:21:57.261Z"
   },
   {
    "duration": 5,
    "start_time": "2022-04-28T19:21:58.341Z"
   },
   {
    "duration": 64,
    "start_time": "2022-04-28T19:21:58.353Z"
   },
   {
    "duration": 50,
    "start_time": "2022-04-28T19:21:58.420Z"
   },
   {
    "duration": 7,
    "start_time": "2022-04-28T19:21:58.472Z"
   },
   {
    "duration": 7,
    "start_time": "2022-04-28T19:21:58.482Z"
   },
   {
    "duration": 8,
    "start_time": "2022-04-28T19:21:58.491Z"
   },
   {
    "duration": 52,
    "start_time": "2022-04-28T19:21:58.501Z"
   },
   {
    "duration": 5,
    "start_time": "2022-04-28T19:21:58.555Z"
   },
   {
    "duration": 10,
    "start_time": "2022-04-28T19:21:58.562Z"
   },
   {
    "duration": 137,
    "start_time": "2022-04-28T19:21:58.574Z"
   },
   {
    "duration": 4,
    "start_time": "2022-04-28T19:21:58.713Z"
   },
   {
    "duration": 11,
    "start_time": "2022-04-28T19:21:58.718Z"
   },
   {
    "duration": 8222,
    "start_time": "2022-04-28T19:21:58.731Z"
   },
   {
    "duration": 3,
    "start_time": "2022-04-28T19:22:06.955Z"
   },
   {
    "duration": 8,
    "start_time": "2022-04-28T19:22:06.960Z"
   },
   {
    "duration": 7,
    "start_time": "2022-04-28T19:22:06.970Z"
   },
   {
    "duration": 510492,
    "start_time": "2022-04-28T19:22:06.980Z"
   },
   {
    "duration": 4,
    "start_time": "2022-04-28T19:30:37.474Z"
   },
   {
    "duration": 9,
    "start_time": "2022-04-28T19:30:37.480Z"
   },
   {
    "duration": 6,
    "start_time": "2022-04-28T19:30:37.491Z"
   },
   {
    "duration": 9,
    "start_time": "2022-04-28T19:30:37.499Z"
   },
   {
    "duration": 5,
    "start_time": "2022-04-28T19:34:05.365Z"
   },
   {
    "duration": 1925,
    "start_time": "2022-04-28T19:34:05.381Z"
   },
   {
    "duration": 5,
    "start_time": "2022-04-28T19:34:07.309Z"
   },
   {
    "duration": 1127,
    "start_time": "2022-04-28T19:34:07.316Z"
   },
   {
    "duration": 6,
    "start_time": "2022-04-28T19:34:08.445Z"
   },
   {
    "duration": 32,
    "start_time": "2022-04-28T19:34:08.454Z"
   },
   {
    "duration": 192,
    "start_time": "2022-04-28T19:34:08.489Z"
   },
   {
    "duration": 18,
    "start_time": "2022-04-28T19:34:08.684Z"
   },
   {
    "duration": 186,
    "start_time": "2022-04-28T19:34:08.705Z"
   },
   {
    "duration": 834,
    "start_time": "2022-04-28T19:34:08.894Z"
   },
   {
    "duration": 134,
    "start_time": "2022-04-28T19:34:09.730Z"
   },
   {
    "duration": 1128,
    "start_time": "2022-04-28T19:34:09.868Z"
   },
   {
    "duration": 909,
    "start_time": "2022-04-28T19:34:10.999Z"
   },
   {
    "duration": 28,
    "start_time": "2022-04-28T19:34:11.910Z"
   },
   {
    "duration": 195,
    "start_time": "2022-04-28T19:34:11.951Z"
   },
   {
    "duration": 18,
    "start_time": "2022-04-28T19:34:12.149Z"
   },
   {
    "duration": 182,
    "start_time": "2022-04-28T19:34:12.169Z"
   },
   {
    "duration": 35,
    "start_time": "2022-04-28T19:34:12.354Z"
   },
   {
    "duration": 28,
    "start_time": "2022-04-28T19:34:12.391Z"
   },
   {
    "duration": 47,
    "start_time": "2022-04-28T19:34:12.421Z"
   },
   {
    "duration": 29,
    "start_time": "2022-04-28T19:34:12.470Z"
   },
   {
    "duration": 61,
    "start_time": "2022-04-28T19:34:12.502Z"
   },
   {
    "duration": 38,
    "start_time": "2022-04-28T19:34:12.567Z"
   },
   {
    "duration": 7,
    "start_time": "2022-04-28T19:34:12.607Z"
   },
   {
    "duration": 15,
    "start_time": "2022-04-28T19:34:12.616Z"
   },
   {
    "duration": 147,
    "start_time": "2022-04-28T19:34:12.634Z"
   },
   {
    "duration": 29,
    "start_time": "2022-04-28T19:34:12.784Z"
   },
   {
    "duration": 3625,
    "start_time": "2022-04-28T19:34:12.815Z"
   },
   {
    "duration": 278,
    "start_time": "2022-04-28T19:34:16.442Z"
   },
   {
    "duration": 36,
    "start_time": "2022-04-28T19:34:16.722Z"
   },
   {
    "duration": 34,
    "start_time": "2022-04-28T19:34:16.760Z"
   },
   {
    "duration": 186,
    "start_time": "2022-04-28T19:34:16.796Z"
   },
   {
    "duration": 180,
    "start_time": "2022-04-28T19:34:16.985Z"
   },
   {
    "duration": 167,
    "start_time": "2022-04-28T19:34:17.167Z"
   },
   {
    "duration": 3,
    "start_time": "2022-04-28T19:34:17.337Z"
   },
   {
    "duration": 48,
    "start_time": "2022-04-28T19:34:17.352Z"
   },
   {
    "duration": 6,
    "start_time": "2022-04-28T19:34:17.402Z"
   },
   {
    "duration": 7,
    "start_time": "2022-04-28T19:34:17.410Z"
   },
   {
    "duration": 190,
    "start_time": "2022-04-28T19:34:17.420Z"
   },
   {
    "duration": 5,
    "start_time": "2022-04-28T19:34:17.613Z"
   },
   {
    "duration": 6,
    "start_time": "2022-04-28T19:34:17.620Z"
   },
   {
    "duration": 7,
    "start_time": "2022-04-28T19:34:17.658Z"
   },
   {
    "duration": 7,
    "start_time": "2022-04-28T19:34:17.667Z"
   },
   {
    "duration": 84,
    "start_time": "2022-04-28T19:34:17.677Z"
   },
   {
    "duration": 7,
    "start_time": "2022-04-28T19:34:17.763Z"
   },
   {
    "duration": 8,
    "start_time": "2022-04-28T19:34:17.773Z"
   },
   {
    "duration": 7,
    "start_time": "2022-04-28T19:34:17.783Z"
   },
   {
    "duration": 7,
    "start_time": "2022-04-28T19:34:17.792Z"
   },
   {
    "duration": 1358,
    "start_time": "2022-04-28T19:34:17.801Z"
   },
   {
    "duration": 6,
    "start_time": "2022-04-28T19:34:19.162Z"
   },
   {
    "duration": 602,
    "start_time": "2022-04-28T19:34:19.170Z"
   },
   {
    "duration": 137,
    "start_time": "2022-04-28T19:34:19.774Z"
   },
   {
    "duration": 6,
    "start_time": "2022-04-28T19:34:19.913Z"
   },
   {
    "duration": 8,
    "start_time": "2022-04-28T19:34:19.921Z"
   },
   {
    "duration": 5,
    "start_time": "2022-04-28T19:34:19.952Z"
   },
   {
    "duration": 21,
    "start_time": "2022-04-28T19:34:19.959Z"
   },
   {
    "duration": 8,
    "start_time": "2022-04-28T19:34:19.982Z"
   },
   {
    "duration": 6,
    "start_time": "2022-04-28T19:34:19.992Z"
   },
   {
    "duration": 3253,
    "start_time": "2022-04-28T19:34:19.999Z"
   },
   {
    "duration": 32302,
    "start_time": "2022-04-28T19:34:23.257Z"
   },
   {
    "duration": 1105,
    "start_time": "2022-04-28T19:34:55.564Z"
   },
   {
    "duration": 6,
    "start_time": "2022-04-28T19:34:56.671Z"
   },
   {
    "duration": 78,
    "start_time": "2022-04-28T19:34:56.679Z"
   },
   {
    "duration": 27,
    "start_time": "2022-04-28T19:34:56.760Z"
   },
   {
    "duration": 5,
    "start_time": "2022-04-28T19:34:56.790Z"
   },
   {
    "duration": 7,
    "start_time": "2022-04-28T19:34:56.797Z"
   },
   {
    "duration": 6,
    "start_time": "2022-04-28T19:34:56.806Z"
   },
   {
    "duration": 41,
    "start_time": "2022-04-28T19:34:56.814Z"
   },
   {
    "duration": 13,
    "start_time": "2022-04-28T19:34:56.858Z"
   },
   {
    "duration": 7,
    "start_time": "2022-04-28T19:34:56.874Z"
   },
   {
    "duration": 138,
    "start_time": "2022-04-28T19:34:56.884Z"
   },
   {
    "duration": 5,
    "start_time": "2022-04-28T19:34:57.024Z"
   },
   {
    "duration": 10,
    "start_time": "2022-04-28T19:34:57.031Z"
   },
   {
    "duration": 310777,
    "start_time": "2022-04-28T19:34:57.056Z"
   },
   {
    "duration": 0,
    "start_time": "2022-04-28T19:40:07.835Z"
   },
   {
    "duration": 0,
    "start_time": "2022-04-28T19:40:07.837Z"
   },
   {
    "duration": 0,
    "start_time": "2022-04-28T19:40:07.838Z"
   },
   {
    "duration": 0,
    "start_time": "2022-04-28T19:40:07.839Z"
   },
   {
    "duration": 0,
    "start_time": "2022-04-28T19:40:07.852Z"
   },
   {
    "duration": 1,
    "start_time": "2022-04-28T19:40:07.855Z"
   },
   {
    "duration": 0,
    "start_time": "2022-04-28T19:40:07.858Z"
   },
   {
    "duration": 0,
    "start_time": "2022-04-28T19:40:07.861Z"
   },
   {
    "duration": 353159,
    "start_time": "2022-04-28T19:41:42.158Z"
   },
   {
    "duration": 31837,
    "start_time": "2022-04-28T19:47:44.974Z"
   },
   {
    "duration": 726509,
    "start_time": "2022-04-28T19:48:21.398Z"
   },
   {
    "duration": 1277035,
    "start_time": "2022-04-28T20:01:17.404Z"
   },
   {
    "duration": 72,
    "start_time": "2022-04-29T03:37:56.592Z"
   },
   {
    "duration": 5,
    "start_time": "2022-04-29T03:38:05.499Z"
   },
   {
    "duration": 1960,
    "start_time": "2022-04-29T03:38:05.514Z"
   },
   {
    "duration": 4,
    "start_time": "2022-04-29T03:38:07.477Z"
   },
   {
    "duration": 1095,
    "start_time": "2022-04-29T03:38:07.483Z"
   },
   {
    "duration": 3,
    "start_time": "2022-04-29T03:38:08.580Z"
   },
   {
    "duration": 30,
    "start_time": "2022-04-29T03:38:08.587Z"
   },
   {
    "duration": 186,
    "start_time": "2022-04-29T03:38:08.619Z"
   },
   {
    "duration": 6,
    "start_time": "2022-04-29T03:38:08.807Z"
   },
   {
    "duration": 181,
    "start_time": "2022-04-29T03:38:08.814Z"
   },
   {
    "duration": 667,
    "start_time": "2022-04-29T03:38:08.997Z"
   },
   {
    "duration": 129,
    "start_time": "2022-04-29T03:38:09.666Z"
   },
   {
    "duration": 1039,
    "start_time": "2022-04-29T03:38:09.797Z"
   },
   {
    "duration": 813,
    "start_time": "2022-04-29T03:38:10.838Z"
   },
   {
    "duration": 27,
    "start_time": "2022-04-29T03:38:11.654Z"
   },
   {
    "duration": 192,
    "start_time": "2022-04-29T03:38:11.686Z"
   },
   {
    "duration": 13,
    "start_time": "2022-04-29T03:38:11.880Z"
   },
   {
    "duration": 181,
    "start_time": "2022-04-29T03:38:11.895Z"
   },
   {
    "duration": 27,
    "start_time": "2022-04-29T03:38:12.078Z"
   },
   {
    "duration": 45,
    "start_time": "2022-04-29T03:38:12.107Z"
   },
   {
    "duration": 26,
    "start_time": "2022-04-29T03:38:12.154Z"
   },
   {
    "duration": 26,
    "start_time": "2022-04-29T03:38:12.183Z"
   },
   {
    "duration": 49,
    "start_time": "2022-04-29T03:38:12.211Z"
   },
   {
    "duration": 27,
    "start_time": "2022-04-29T03:38:12.262Z"
   },
   {
    "duration": 7,
    "start_time": "2022-04-29T03:38:12.291Z"
   },
   {
    "duration": 14,
    "start_time": "2022-04-29T03:38:12.300Z"
   },
   {
    "duration": 127,
    "start_time": "2022-04-29T03:38:12.352Z"
   },
   {
    "duration": 27,
    "start_time": "2022-04-29T03:38:12.481Z"
   },
   {
    "duration": 3302,
    "start_time": "2022-04-29T03:38:12.510Z"
   },
   {
    "duration": 289,
    "start_time": "2022-04-29T03:38:15.814Z"
   },
   {
    "duration": 22,
    "start_time": "2022-04-29T03:38:16.105Z"
   },
   {
    "duration": 40,
    "start_time": "2022-04-29T03:38:16.130Z"
   },
   {
    "duration": 183,
    "start_time": "2022-04-29T03:38:16.173Z"
   },
   {
    "duration": 159,
    "start_time": "2022-04-29T03:38:16.359Z"
   },
   {
    "duration": 167,
    "start_time": "2022-04-29T03:38:16.520Z"
   },
   {
    "duration": 3,
    "start_time": "2022-04-29T03:38:16.690Z"
   },
   {
    "duration": 71,
    "start_time": "2022-04-29T03:38:16.696Z"
   },
   {
    "duration": 5,
    "start_time": "2022-04-29T03:38:16.769Z"
   },
   {
    "duration": 9,
    "start_time": "2022-04-29T03:38:16.776Z"
   },
   {
    "duration": 172,
    "start_time": "2022-04-29T03:38:16.787Z"
   },
   {
    "duration": 5,
    "start_time": "2022-04-29T03:38:16.961Z"
   },
   {
    "duration": 9,
    "start_time": "2022-04-29T03:38:16.968Z"
   },
   {
    "duration": 7,
    "start_time": "2022-04-29T03:38:16.983Z"
   },
   {
    "duration": 5,
    "start_time": "2022-04-29T03:38:16.992Z"
   },
   {
    "duration": 102,
    "start_time": "2022-04-29T03:38:16.999Z"
   },
   {
    "duration": 5,
    "start_time": "2022-04-29T03:38:17.103Z"
   },
   {
    "duration": 8,
    "start_time": "2022-04-29T03:38:17.111Z"
   },
   {
    "duration": 6,
    "start_time": "2022-04-29T03:38:17.121Z"
   },
   {
    "duration": 5,
    "start_time": "2022-04-29T03:38:17.151Z"
   },
   {
    "duration": 1425,
    "start_time": "2022-04-29T03:38:17.158Z"
   },
   {
    "duration": 5,
    "start_time": "2022-04-29T03:38:18.585Z"
   },
   {
    "duration": 564,
    "start_time": "2022-04-29T03:38:18.592Z"
   },
   {
    "duration": 127,
    "start_time": "2022-04-29T03:38:19.159Z"
   },
   {
    "duration": 5,
    "start_time": "2022-04-29T03:38:19.288Z"
   },
   {
    "duration": 9,
    "start_time": "2022-04-29T03:38:19.295Z"
   },
   {
    "duration": 8,
    "start_time": "2022-04-29T03:38:19.306Z"
   },
   {
    "duration": 7,
    "start_time": "2022-04-29T03:38:19.317Z"
   },
   {
    "duration": 5,
    "start_time": "2022-04-29T03:38:19.353Z"
   },
   {
    "duration": 13,
    "start_time": "2022-04-29T03:38:19.360Z"
   },
   {
    "duration": 3128,
    "start_time": "2022-04-29T03:38:19.376Z"
   },
   {
    "duration": 22450,
    "start_time": "2022-04-29T03:38:22.506Z"
   },
   {
    "duration": 1061,
    "start_time": "2022-04-29T03:38:44.959Z"
   },
   {
    "duration": 6,
    "start_time": "2022-04-29T03:38:46.023Z"
   },
   {
    "duration": 76,
    "start_time": "2022-04-29T03:38:46.031Z"
   },
   {
    "duration": 28,
    "start_time": "2022-04-29T03:38:46.110Z"
   },
   {
    "duration": 14,
    "start_time": "2022-04-29T03:38:46.140Z"
   },
   {
    "duration": 6,
    "start_time": "2022-04-29T03:38:46.156Z"
   },
   {
    "duration": 7,
    "start_time": "2022-04-29T03:38:46.164Z"
   },
   {
    "duration": 6,
    "start_time": "2022-04-29T03:38:46.173Z"
   },
   {
    "duration": 7,
    "start_time": "2022-04-29T03:38:46.181Z"
   },
   {
    "duration": 9,
    "start_time": "2022-04-29T03:38:46.190Z"
   },
   {
    "duration": 166,
    "start_time": "2022-04-29T03:38:46.201Z"
   },
   {
    "duration": 4,
    "start_time": "2022-04-29T03:38:46.370Z"
   },
   {
    "duration": 8,
    "start_time": "2022-04-29T03:38:46.376Z"
   },
   {
    "duration": 6,
    "start_time": "2022-04-29T03:38:46.386Z"
   },
   {
    "duration": 10,
    "start_time": "2022-04-29T03:38:46.395Z"
   },
   {
    "duration": 49752,
    "start_time": "2022-04-29T03:38:46.407Z"
   },
   {
    "duration": 158676,
    "start_time": "2022-04-29T03:39:36.161Z"
   },
   {
    "duration": 0,
    "start_time": "2022-04-29T03:42:14.840Z"
   },
   {
    "duration": 0,
    "start_time": "2022-04-29T03:42:14.852Z"
   },
   {
    "duration": 0,
    "start_time": "2022-04-29T03:42:14.853Z"
   },
   {
    "duration": 0,
    "start_time": "2022-04-29T03:42:14.855Z"
   },
   {
    "duration": 0,
    "start_time": "2022-04-29T03:42:14.856Z"
   },
   {
    "duration": 251905,
    "start_time": "2022-04-29T03:42:19.642Z"
   },
   {
    "duration": 721791,
    "start_time": "2022-04-29T08:03:25.384Z"
   },
   {
    "duration": 250,
    "start_time": "2022-04-29T08:20:35.892Z"
   },
   {
    "duration": 206,
    "start_time": "2022-04-29T08:21:38.047Z"
   },
   {
    "duration": 11,
    "start_time": "2022-04-29T08:21:57.319Z"
   },
   {
    "duration": 24293,
    "start_time": "2022-04-29T08:22:39.075Z"
   },
   {
    "duration": 3,
    "start_time": "2022-04-29T08:23:09.077Z"
   },
   {
    "duration": 155266,
    "start_time": "2022-04-29T08:23:58.515Z"
   },
   {
    "duration": 190774,
    "start_time": "2022-04-29T08:27:10.756Z"
   },
   {
    "duration": 197,
    "start_time": "2022-04-29T08:59:45.913Z"
   },
   {
    "duration": 3523,
    "start_time": "2022-04-29T08:59:53.993Z"
   },
   {
    "duration": 2373,
    "start_time": "2022-04-29T11:46:56.317Z"
   },
   {
    "duration": 4216,
    "start_time": "2022-04-29T11:47:03.994Z"
   },
   {
    "duration": 1937,
    "start_time": "2022-04-29T11:47:08.214Z"
   },
   {
    "duration": 4,
    "start_time": "2022-04-29T11:47:10.153Z"
   },
   {
    "duration": 1157,
    "start_time": "2022-04-29T11:47:10.161Z"
   },
   {
    "duration": 4,
    "start_time": "2022-04-29T11:47:11.321Z"
   },
   {
    "duration": 27,
    "start_time": "2022-04-29T11:47:11.327Z"
   },
   {
    "duration": 195,
    "start_time": "2022-04-29T11:47:11.356Z"
   },
   {
    "duration": 5,
    "start_time": "2022-04-29T11:47:11.554Z"
   },
   {
    "duration": 160,
    "start_time": "2022-04-29T11:47:11.582Z"
   },
   {
    "duration": 649,
    "start_time": "2022-04-29T11:47:11.747Z"
   },
   {
    "duration": 126,
    "start_time": "2022-04-29T11:47:12.398Z"
   },
   {
    "duration": 1145,
    "start_time": "2022-04-29T11:47:12.526Z"
   },
   {
    "duration": 831,
    "start_time": "2022-04-29T11:47:13.673Z"
   },
   {
    "duration": 25,
    "start_time": "2022-04-29T11:47:14.506Z"
   },
   {
    "duration": 173,
    "start_time": "2022-04-29T11:47:14.534Z"
   },
   {
    "duration": 13,
    "start_time": "2022-04-29T11:47:14.709Z"
   },
   {
    "duration": 162,
    "start_time": "2022-04-29T11:47:14.724Z"
   },
   {
    "duration": 26,
    "start_time": "2022-04-29T11:47:14.889Z"
   },
   {
    "duration": 27,
    "start_time": "2022-04-29T11:47:14.917Z"
   },
   {
    "duration": 45,
    "start_time": "2022-04-29T11:47:14.946Z"
   },
   {
    "duration": 35,
    "start_time": "2022-04-29T11:47:14.993Z"
   },
   {
    "duration": 51,
    "start_time": "2022-04-29T11:47:15.030Z"
   },
   {
    "duration": 26,
    "start_time": "2022-04-29T11:47:15.083Z"
   },
   {
    "duration": 8,
    "start_time": "2022-04-29T11:47:15.111Z"
   },
   {
    "duration": 15,
    "start_time": "2022-04-29T11:47:15.121Z"
   },
   {
    "duration": 179,
    "start_time": "2022-04-29T11:47:15.138Z"
   },
   {
    "duration": 26,
    "start_time": "2022-04-29T11:47:15.320Z"
   },
   {
    "duration": 3553,
    "start_time": "2022-04-29T11:47:15.352Z"
   },
   {
    "duration": 254,
    "start_time": "2022-04-29T11:47:18.907Z"
   },
   {
    "duration": 30,
    "start_time": "2022-04-29T11:47:19.163Z"
   },
   {
    "duration": 28,
    "start_time": "2022-04-29T11:47:19.195Z"
   },
   {
    "duration": 146,
    "start_time": "2022-04-29T11:47:19.225Z"
   },
   {
    "duration": 152,
    "start_time": "2022-04-29T11:47:19.373Z"
   },
   {
    "duration": 168,
    "start_time": "2022-04-29T11:47:19.527Z"
   },
   {
    "duration": 3,
    "start_time": "2022-04-29T11:47:19.698Z"
   },
   {
    "duration": 48,
    "start_time": "2022-04-29T11:47:19.703Z"
   },
   {
    "duration": 29,
    "start_time": "2022-04-29T11:47:19.754Z"
   },
   {
    "duration": 6,
    "start_time": "2022-04-29T11:47:19.785Z"
   },
   {
    "duration": 169,
    "start_time": "2022-04-29T11:47:19.793Z"
   },
   {
    "duration": 5,
    "start_time": "2022-04-29T11:47:19.965Z"
   },
   {
    "duration": 5,
    "start_time": "2022-04-29T11:47:19.981Z"
   },
   {
    "duration": 6,
    "start_time": "2022-04-29T11:47:19.989Z"
   },
   {
    "duration": 7,
    "start_time": "2022-04-29T11:47:19.997Z"
   },
   {
    "duration": 104,
    "start_time": "2022-04-29T11:47:20.006Z"
   },
   {
    "duration": 5,
    "start_time": "2022-04-29T11:47:20.112Z"
   },
   {
    "duration": 10,
    "start_time": "2022-04-29T11:47:20.118Z"
   },
   {
    "duration": 6,
    "start_time": "2022-04-29T11:47:20.130Z"
   },
   {
    "duration": 43,
    "start_time": "2022-04-29T11:47:20.138Z"
   },
   {
    "duration": 1438,
    "start_time": "2022-04-29T11:47:20.183Z"
   },
   {
    "duration": 5,
    "start_time": "2022-04-29T11:47:21.623Z"
   },
   {
    "duration": 582,
    "start_time": "2022-04-29T11:47:21.630Z"
   },
   {
    "duration": 130,
    "start_time": "2022-04-29T11:47:22.214Z"
   },
   {
    "duration": 5,
    "start_time": "2022-04-29T11:47:22.346Z"
   },
   {
    "duration": 12,
    "start_time": "2022-04-29T11:47:22.353Z"
   },
   {
    "duration": 18,
    "start_time": "2022-04-29T11:47:22.367Z"
   },
   {
    "duration": 8,
    "start_time": "2022-04-29T11:47:22.387Z"
   },
   {
    "duration": 7,
    "start_time": "2022-04-29T11:47:22.397Z"
   },
   {
    "duration": 11,
    "start_time": "2022-04-29T11:47:22.406Z"
   },
   {
    "duration": 3262,
    "start_time": "2022-04-29T11:47:22.419Z"
   },
   {
    "duration": 38804,
    "start_time": "2022-04-29T11:47:25.684Z"
   },
   {
    "duration": 1298,
    "start_time": "2022-04-29T11:48:04.491Z"
   },
   {
    "duration": 7,
    "start_time": "2022-04-29T11:48:05.791Z"
   },
   {
    "duration": 61,
    "start_time": "2022-04-29T11:48:05.800Z"
   },
   {
    "duration": 29,
    "start_time": "2022-04-29T11:48:05.883Z"
   },
   {
    "duration": 7,
    "start_time": "2022-04-29T11:48:05.915Z"
   },
   {
    "duration": 7,
    "start_time": "2022-04-29T11:48:05.924Z"
   },
   {
    "duration": 13,
    "start_time": "2022-04-29T11:48:05.934Z"
   },
   {
    "duration": 36,
    "start_time": "2022-04-29T11:48:05.950Z"
   },
   {
    "duration": 14,
    "start_time": "2022-04-29T11:48:05.988Z"
   },
   {
    "duration": 13,
    "start_time": "2022-04-29T11:48:06.005Z"
   },
   {
    "duration": 134,
    "start_time": "2022-04-29T11:48:06.020Z"
   },
   {
    "duration": 3,
    "start_time": "2022-04-29T11:48:06.156Z"
   },
   {
    "duration": 12,
    "start_time": "2022-04-29T11:48:06.161Z"
   },
   {
    "duration": 9,
    "start_time": "2022-04-29T11:48:06.183Z"
   },
   {
    "duration": 6,
    "start_time": "2022-04-29T11:48:06.194Z"
   },
   {
    "duration": 11,
    "start_time": "2022-04-29T11:48:06.202Z"
   },
   {
    "duration": 8,
    "start_time": "2022-04-29T11:48:06.215Z"
   },
   {
    "duration": 5,
    "start_time": "2022-04-29T11:48:06.225Z"
   },
   {
    "duration": 5,
    "start_time": "2022-04-29T11:48:06.232Z"
   },
   {
    "duration": 14,
    "start_time": "2022-04-29T11:48:06.239Z"
   },
   {
    "duration": 11,
    "start_time": "2022-04-29T11:57:59.601Z"
   },
   {
    "duration": 4,
    "start_time": "2022-04-29T12:01:38.810Z"
   },
   {
    "duration": 265739,
    "start_time": "2022-04-29T12:15:01.652Z"
   },
   {
    "duration": 691,
    "start_time": "2022-04-29T12:24:05.114Z"
   },
   {
    "duration": 5,
    "start_time": "2022-04-29T12:24:07.833Z"
   },
   {
    "duration": 7,
    "start_time": "2022-04-29T12:24:14.554Z"
   },
   {
    "duration": 12078,
    "start_time": "2022-04-29T12:30:23.681Z"
   },
   {
    "duration": 74609,
    "start_time": "2022-04-29T12:30:44.393Z"
   },
   {
    "duration": 59261,
    "start_time": "2022-04-29T12:32:33.037Z"
   },
   {
    "duration": 456354,
    "start_time": "2022-04-29T12:47:30.362Z"
   },
   {
    "duration": 77,
    "start_time": "2022-04-29T16:05:02.796Z"
   },
   {
    "duration": 4681,
    "start_time": "2022-04-29T16:05:13.904Z"
   },
   {
    "duration": 2279,
    "start_time": "2022-04-29T16:05:18.589Z"
   },
   {
    "duration": 5,
    "start_time": "2022-04-29T16:05:20.870Z"
   },
   {
    "duration": 1150,
    "start_time": "2022-04-29T16:05:20.877Z"
   },
   {
    "duration": 4,
    "start_time": "2022-04-29T16:05:22.029Z"
   },
   {
    "duration": 39,
    "start_time": "2022-04-29T16:05:22.036Z"
   },
   {
    "duration": 187,
    "start_time": "2022-04-29T16:05:22.077Z"
   },
   {
    "duration": 5,
    "start_time": "2022-04-29T16:05:22.266Z"
   },
   {
    "duration": 192,
    "start_time": "2022-04-29T16:05:22.273Z"
   },
   {
    "duration": 773,
    "start_time": "2022-04-29T16:05:22.469Z"
   },
   {
    "duration": 138,
    "start_time": "2022-04-29T16:05:23.245Z"
   },
   {
    "duration": 1120,
    "start_time": "2022-04-29T16:05:23.385Z"
   },
   {
    "duration": 868,
    "start_time": "2022-04-29T16:05:24.507Z"
   },
   {
    "duration": 29,
    "start_time": "2022-04-29T16:05:25.378Z"
   },
   {
    "duration": 190,
    "start_time": "2022-04-29T16:05:25.409Z"
   },
   {
    "duration": 23,
    "start_time": "2022-04-29T16:05:25.601Z"
   },
   {
    "duration": 162,
    "start_time": "2022-04-29T16:05:25.626Z"
   },
   {
    "duration": 34,
    "start_time": "2022-04-29T16:05:25.790Z"
   },
   {
    "duration": 27,
    "start_time": "2022-04-29T16:05:25.827Z"
   },
   {
    "duration": 28,
    "start_time": "2022-04-29T16:05:25.856Z"
   },
   {
    "duration": 53,
    "start_time": "2022-04-29T16:05:25.886Z"
   },
   {
    "duration": 30,
    "start_time": "2022-04-29T16:05:25.941Z"
   },
   {
    "duration": 52,
    "start_time": "2022-04-29T16:05:25.973Z"
   },
   {
    "duration": 8,
    "start_time": "2022-04-29T16:05:26.027Z"
   },
   {
    "duration": 16,
    "start_time": "2022-04-29T16:05:26.037Z"
   },
   {
    "duration": 174,
    "start_time": "2022-04-29T16:05:26.055Z"
   },
   {
    "duration": 27,
    "start_time": "2022-04-29T16:05:26.231Z"
   },
   {
    "duration": 3779,
    "start_time": "2022-04-29T16:05:26.265Z"
   },
   {
    "duration": 274,
    "start_time": "2022-04-29T16:05:30.046Z"
   },
   {
    "duration": 22,
    "start_time": "2022-04-29T16:05:30.325Z"
   },
   {
    "duration": 57,
    "start_time": "2022-04-29T16:05:30.350Z"
   },
   {
    "duration": 129,
    "start_time": "2022-04-29T16:05:30.410Z"
   },
   {
    "duration": 149,
    "start_time": "2022-04-29T16:05:30.541Z"
   },
   {
    "duration": 170,
    "start_time": "2022-04-29T16:05:30.692Z"
   },
   {
    "duration": 4,
    "start_time": "2022-04-29T16:05:30.864Z"
   },
   {
    "duration": 68,
    "start_time": "2022-04-29T16:05:30.870Z"
   },
   {
    "duration": 5,
    "start_time": "2022-04-29T16:05:30.941Z"
   },
   {
    "duration": 15,
    "start_time": "2022-04-29T16:05:30.948Z"
   },
   {
    "duration": 184,
    "start_time": "2022-04-29T16:05:30.965Z"
   },
   {
    "duration": 6,
    "start_time": "2022-04-29T16:05:31.151Z"
   },
   {
    "duration": 29,
    "start_time": "2022-04-29T16:05:31.158Z"
   },
   {
    "duration": 22,
    "start_time": "2022-04-29T16:05:31.189Z"
   },
   {
    "duration": 18,
    "start_time": "2022-04-29T16:05:31.213Z"
   },
   {
    "duration": 92,
    "start_time": "2022-04-29T16:05:31.233Z"
   },
   {
    "duration": 5,
    "start_time": "2022-04-29T16:05:31.328Z"
   },
   {
    "duration": 27,
    "start_time": "2022-04-29T16:05:31.335Z"
   },
   {
    "duration": 17,
    "start_time": "2022-04-29T16:05:31.364Z"
   },
   {
    "duration": 12,
    "start_time": "2022-04-29T16:05:31.383Z"
   },
   {
    "duration": 1665,
    "start_time": "2022-04-29T16:05:31.397Z"
   },
   {
    "duration": 5,
    "start_time": "2022-04-29T16:05:33.065Z"
   },
   {
    "duration": 603,
    "start_time": "2022-04-29T16:05:33.072Z"
   },
   {
    "duration": 146,
    "start_time": "2022-04-29T16:05:33.678Z"
   },
   {
    "duration": 7,
    "start_time": "2022-04-29T16:05:33.826Z"
   },
   {
    "duration": 23,
    "start_time": "2022-04-29T16:05:33.835Z"
   },
   {
    "duration": 42,
    "start_time": "2022-04-29T16:05:33.860Z"
   },
   {
    "duration": 29,
    "start_time": "2022-04-29T16:05:33.904Z"
   },
   {
    "duration": 13,
    "start_time": "2022-04-29T16:05:33.935Z"
   },
   {
    "duration": 15,
    "start_time": "2022-04-29T16:05:33.950Z"
   },
   {
    "duration": 3203,
    "start_time": "2022-04-29T16:05:33.968Z"
   },
   {
    "duration": 27151,
    "start_time": "2022-04-29T16:05:37.174Z"
   },
   {
    "duration": 1221,
    "start_time": "2022-04-29T16:06:04.328Z"
   },
   {
    "duration": 6,
    "start_time": "2022-04-29T16:06:05.552Z"
   },
   {
    "duration": 85,
    "start_time": "2022-04-29T16:06:05.561Z"
   },
   {
    "duration": 28,
    "start_time": "2022-04-29T16:06:05.649Z"
   },
   {
    "duration": 6,
    "start_time": "2022-04-29T16:06:05.680Z"
   },
   {
    "duration": 14,
    "start_time": "2022-04-29T16:06:05.688Z"
   },
   {
    "duration": 6,
    "start_time": "2022-04-29T16:06:05.724Z"
   },
   {
    "duration": 24,
    "start_time": "2022-04-29T16:06:05.733Z"
   },
   {
    "duration": 19,
    "start_time": "2022-04-29T16:06:05.759Z"
   },
   {
    "duration": 18,
    "start_time": "2022-04-29T16:06:05.781Z"
   },
   {
    "duration": 121,
    "start_time": "2022-04-29T16:06:05.801Z"
   },
   {
    "duration": 4,
    "start_time": "2022-04-29T16:06:05.924Z"
   },
   {
    "duration": 19,
    "start_time": "2022-04-29T16:06:05.930Z"
   },
   {
    "duration": 22,
    "start_time": "2022-04-29T16:06:05.951Z"
   },
   {
    "duration": 11,
    "start_time": "2022-04-29T16:06:05.975Z"
   },
   {
    "duration": 24,
    "start_time": "2022-04-29T16:06:05.988Z"
   },
   {
    "duration": 16,
    "start_time": "2022-04-29T16:06:06.013Z"
   },
   {
    "duration": 13,
    "start_time": "2022-04-29T16:06:06.031Z"
   },
   {
    "duration": 15,
    "start_time": "2022-04-29T16:06:06.046Z"
   },
   {
    "duration": 17,
    "start_time": "2022-04-29T16:06:06.063Z"
   },
   {
    "duration": 18,
    "start_time": "2022-04-29T16:06:06.082Z"
   },
   {
    "duration": 7419,
    "start_time": "2022-04-29T16:06:06.107Z"
   },
   {
    "duration": 189,
    "start_time": "2022-04-29T16:06:13.528Z"
   },
   {
    "duration": 0,
    "start_time": "2022-04-29T16:06:13.724Z"
   },
   {
    "duration": 0,
    "start_time": "2022-04-29T16:06:13.725Z"
   },
   {
    "duration": 0,
    "start_time": "2022-04-29T16:06:13.727Z"
   },
   {
    "duration": 12,
    "start_time": "2022-04-29T16:06:22.293Z"
   },
   {
    "duration": 735,
    "start_time": "2022-04-29T16:06:30.254Z"
   },
   {
    "duration": 7,
    "start_time": "2022-04-29T16:06:38.285Z"
   },
   {
    "duration": 60291,
    "start_time": "2022-04-29T16:06:40.045Z"
   },
   {
    "duration": 288765,
    "start_time": "2022-04-29T16:08:25.862Z"
   },
   {
    "duration": 997157,
    "start_time": "2022-04-29T16:25:39.870Z"
   },
   {
    "duration": 400893,
    "start_time": "2022-04-29T16:42:34.651Z"
   },
   {
    "duration": 723,
    "start_time": "2022-04-29T16:49:20.013Z"
   },
   {
    "duration": 1057679,
    "start_time": "2022-04-29T16:50:11.958Z"
   },
   {
    "duration": 2139494,
    "start_time": "2022-04-29T17:12:43.132Z"
   },
   {
    "duration": 24,
    "start_time": "2022-04-29T17:52:49.467Z"
   },
   {
    "duration": 111,
    "start_time": "2022-04-29T17:53:59.736Z"
   },
   {
    "duration": 14,
    "start_time": "2022-04-29T17:54:23.706Z"
   },
   {
    "duration": 635,
    "start_time": "2022-04-29T17:55:10.002Z"
   },
   {
    "duration": 13,
    "start_time": "2022-04-29T17:55:19.763Z"
   },
   {
    "duration": 13,
    "start_time": "2022-04-29T17:55:27.708Z"
   },
   {
    "duration": 139,
    "start_time": "2022-04-29T17:55:53.521Z"
   },
   {
    "duration": 95,
    "start_time": "2022-04-29T17:55:59.652Z"
   },
   {
    "duration": 125,
    "start_time": "2022-04-29T17:56:39.795Z"
   },
   {
    "duration": 24,
    "start_time": "2022-04-29T17:56:46.605Z"
   },
   {
    "duration": 24,
    "start_time": "2022-04-29T17:56:57.805Z"
   },
   {
    "duration": 19948,
    "start_time": "2022-04-29T18:03:30.589Z"
   },
   {
    "duration": 24019,
    "start_time": "2022-04-29T18:04:15.909Z"
   },
   {
    "duration": 223177,
    "start_time": "2022-04-29T18:05:14.565Z"
   },
   {
    "duration": 109768,
    "start_time": "2022-04-29T18:09:57.768Z"
   },
   {
    "duration": 746,
    "start_time": "2022-04-29T18:16:06.799Z"
   },
   {
    "duration": 2627645,
    "start_time": "2022-04-29T19:01:49.708Z"
   },
   {
    "duration": 298,
    "start_time": "2022-04-29T19:45:56.257Z"
   },
   {
    "duration": 300,
    "start_time": "2022-04-29T19:46:07.619Z"
   },
   {
    "duration": 308,
    "start_time": "2022-04-29T19:46:35.946Z"
   },
   {
    "duration": 305,
    "start_time": "2022-04-29T19:47:19.347Z"
   },
   {
    "duration": 3938,
    "start_time": "2022-04-29T19:48:22.892Z"
   },
   {
    "duration": 3408,
    "start_time": "2022-04-29T19:48:26.835Z"
   },
   {
    "duration": 7,
    "start_time": "2022-04-29T19:48:30.246Z"
   },
   {
    "duration": 1307,
    "start_time": "2022-04-29T19:48:30.257Z"
   },
   {
    "duration": 4,
    "start_time": "2022-04-29T19:48:31.566Z"
   },
   {
    "duration": 55,
    "start_time": "2022-04-29T19:48:31.573Z"
   },
   {
    "duration": 300,
    "start_time": "2022-04-29T19:48:31.630Z"
   },
   {
    "duration": 6,
    "start_time": "2022-04-29T19:48:31.933Z"
   },
   {
    "duration": 215,
    "start_time": "2022-04-29T19:48:31.942Z"
   },
   {
    "duration": 1017,
    "start_time": "2022-04-29T19:48:32.162Z"
   },
   {
    "duration": 153,
    "start_time": "2022-04-29T19:48:33.182Z"
   },
   {
    "duration": 504,
    "start_time": "2022-04-29T19:48:33.338Z"
   },
   {
    "duration": 0,
    "start_time": "2022-04-29T19:48:33.849Z"
   },
   {
    "duration": 0,
    "start_time": "2022-04-29T19:48:33.851Z"
   },
   {
    "duration": 0,
    "start_time": "2022-04-29T19:48:33.853Z"
   },
   {
    "duration": 0,
    "start_time": "2022-04-29T19:48:33.854Z"
   },
   {
    "duration": 0,
    "start_time": "2022-04-29T19:48:33.856Z"
   },
   {
    "duration": 0,
    "start_time": "2022-04-29T19:48:33.858Z"
   },
   {
    "duration": 0,
    "start_time": "2022-04-29T19:48:33.860Z"
   },
   {
    "duration": 0,
    "start_time": "2022-04-29T19:48:33.861Z"
   },
   {
    "duration": 0,
    "start_time": "2022-04-29T19:48:33.863Z"
   },
   {
    "duration": 0,
    "start_time": "2022-04-29T19:48:33.864Z"
   },
   {
    "duration": 0,
    "start_time": "2022-04-29T19:48:33.866Z"
   },
   {
    "duration": 0,
    "start_time": "2022-04-29T19:48:33.867Z"
   },
   {
    "duration": 0,
    "start_time": "2022-04-29T19:48:33.869Z"
   },
   {
    "duration": 0,
    "start_time": "2022-04-29T19:48:33.870Z"
   },
   {
    "duration": 0,
    "start_time": "2022-04-29T19:48:33.872Z"
   },
   {
    "duration": 0,
    "start_time": "2022-04-29T19:48:33.873Z"
   },
   {
    "duration": 0,
    "start_time": "2022-04-29T19:48:33.875Z"
   },
   {
    "duration": 0,
    "start_time": "2022-04-29T19:48:33.876Z"
   },
   {
    "duration": 0,
    "start_time": "2022-04-29T19:48:33.877Z"
   },
   {
    "duration": 0,
    "start_time": "2022-04-29T19:48:33.931Z"
   },
   {
    "duration": 1,
    "start_time": "2022-04-29T19:48:33.932Z"
   },
   {
    "duration": 0,
    "start_time": "2022-04-29T19:48:33.937Z"
   },
   {
    "duration": 0,
    "start_time": "2022-04-29T19:48:33.938Z"
   },
   {
    "duration": 0,
    "start_time": "2022-04-29T19:48:33.939Z"
   },
   {
    "duration": 0,
    "start_time": "2022-04-29T19:48:33.941Z"
   },
   {
    "duration": 0,
    "start_time": "2022-04-29T19:48:33.943Z"
   },
   {
    "duration": 0,
    "start_time": "2022-04-29T19:48:33.944Z"
   },
   {
    "duration": 0,
    "start_time": "2022-04-29T19:48:33.946Z"
   },
   {
    "duration": 0,
    "start_time": "2022-04-29T19:48:33.947Z"
   },
   {
    "duration": 0,
    "start_time": "2022-04-29T19:48:33.949Z"
   },
   {
    "duration": 0,
    "start_time": "2022-04-29T19:48:33.950Z"
   },
   {
    "duration": 0,
    "start_time": "2022-04-29T19:48:33.954Z"
   },
   {
    "duration": 0,
    "start_time": "2022-04-29T19:48:33.955Z"
   },
   {
    "duration": 0,
    "start_time": "2022-04-29T19:48:33.957Z"
   },
   {
    "duration": 0,
    "start_time": "2022-04-29T19:48:33.958Z"
   },
   {
    "duration": 0,
    "start_time": "2022-04-29T19:48:33.959Z"
   },
   {
    "duration": 0,
    "start_time": "2022-04-29T19:48:33.961Z"
   },
   {
    "duration": 0,
    "start_time": "2022-04-29T19:48:33.962Z"
   },
   {
    "duration": 0,
    "start_time": "2022-04-29T19:48:33.963Z"
   },
   {
    "duration": 0,
    "start_time": "2022-04-29T19:48:33.964Z"
   },
   {
    "duration": 0,
    "start_time": "2022-04-29T19:48:33.966Z"
   },
   {
    "duration": 0,
    "start_time": "2022-04-29T19:48:33.967Z"
   },
   {
    "duration": 0,
    "start_time": "2022-04-29T19:48:33.969Z"
   },
   {
    "duration": 0,
    "start_time": "2022-04-29T19:48:33.970Z"
   },
   {
    "duration": 0,
    "start_time": "2022-04-29T19:48:33.971Z"
   },
   {
    "duration": 0,
    "start_time": "2022-04-29T19:48:34.025Z"
   },
   {
    "duration": 1,
    "start_time": "2022-04-29T19:48:34.027Z"
   },
   {
    "duration": 0,
    "start_time": "2022-04-29T19:48:34.029Z"
   },
   {
    "duration": 0,
    "start_time": "2022-04-29T19:48:34.031Z"
   },
   {
    "duration": 0,
    "start_time": "2022-04-29T19:48:34.032Z"
   },
   {
    "duration": 0,
    "start_time": "2022-04-29T19:48:34.033Z"
   },
   {
    "duration": 0,
    "start_time": "2022-04-29T19:48:34.034Z"
   },
   {
    "duration": 0,
    "start_time": "2022-04-29T19:48:34.036Z"
   },
   {
    "duration": 0,
    "start_time": "2022-04-29T19:48:34.037Z"
   },
   {
    "duration": 0,
    "start_time": "2022-04-29T19:48:34.051Z"
   },
   {
    "duration": 0,
    "start_time": "2022-04-29T19:48:34.053Z"
   },
   {
    "duration": 0,
    "start_time": "2022-04-29T19:48:34.054Z"
   },
   {
    "duration": 0,
    "start_time": "2022-04-29T19:48:34.055Z"
   },
   {
    "duration": 0,
    "start_time": "2022-04-29T19:48:34.056Z"
   },
   {
    "duration": 0,
    "start_time": "2022-04-29T19:48:34.057Z"
   },
   {
    "duration": 0,
    "start_time": "2022-04-29T19:48:34.059Z"
   },
   {
    "duration": 0,
    "start_time": "2022-04-29T19:48:34.061Z"
   },
   {
    "duration": 0,
    "start_time": "2022-04-29T19:48:34.063Z"
   },
   {
    "duration": 0,
    "start_time": "2022-04-29T19:48:34.064Z"
   },
   {
    "duration": 0,
    "start_time": "2022-04-29T19:48:34.066Z"
   },
   {
    "duration": 0,
    "start_time": "2022-04-29T19:48:34.068Z"
   },
   {
    "duration": 0,
    "start_time": "2022-04-29T19:48:34.070Z"
   },
   {
    "duration": 0,
    "start_time": "2022-04-29T19:48:34.128Z"
   },
   {
    "duration": 0,
    "start_time": "2022-04-29T19:48:34.130Z"
   },
   {
    "duration": 0,
    "start_time": "2022-04-29T19:48:34.137Z"
   },
   {
    "duration": 0,
    "start_time": "2022-04-29T19:48:34.144Z"
   },
   {
    "duration": 0,
    "start_time": "2022-04-29T19:48:34.146Z"
   },
   {
    "duration": 0,
    "start_time": "2022-04-29T19:48:34.148Z"
   },
   {
    "duration": 0,
    "start_time": "2022-04-29T19:48:34.149Z"
   },
   {
    "duration": 293,
    "start_time": "2022-04-29T19:49:45.935Z"
   },
   {
    "duration": 124,
    "start_time": "2022-04-29T19:50:09.462Z"
   },
   {
    "duration": 120,
    "start_time": "2022-04-29T19:50:14.983Z"
   },
   {
    "duration": 16,
    "start_time": "2022-04-29T19:51:17.542Z"
   },
   {
    "duration": 58,
    "start_time": "2022-04-29T19:51:26.666Z"
   },
   {
    "duration": 58,
    "start_time": "2022-04-29T19:51:50.289Z"
   },
   {
    "duration": 135,
    "start_time": "2022-04-29T19:52:40.494Z"
   },
   {
    "duration": 148,
    "start_time": "2022-04-29T19:52:52.638Z"
   },
   {
    "duration": 44,
    "start_time": "2022-04-29T19:53:25.753Z"
   },
   {
    "duration": 17,
    "start_time": "2022-04-29T19:55:40.738Z"
   },
   {
    "duration": 11,
    "start_time": "2022-04-29T19:56:23.532Z"
   },
   {
    "duration": 6,
    "start_time": "2022-04-29T19:56:33.644Z"
   },
   {
    "duration": 1576,
    "start_time": "2022-04-29T19:57:13.255Z"
   },
   {
    "duration": 21,
    "start_time": "2022-04-29T19:57:43.901Z"
   },
   {
    "duration": 27,
    "start_time": "2022-04-29T19:58:00.566Z"
   },
   {
    "duration": 36,
    "start_time": "2022-04-29T19:59:59.874Z"
   },
   {
    "duration": 22,
    "start_time": "2022-04-29T20:00:04.128Z"
   },
   {
    "duration": 27,
    "start_time": "2022-04-29T20:00:34.502Z"
   },
   {
    "duration": 23,
    "start_time": "2022-04-29T20:02:43.960Z"
   },
   {
    "duration": 4086,
    "start_time": "2022-04-29T20:06:01.906Z"
   },
   {
    "duration": 2184,
    "start_time": "2022-04-29T20:06:05.996Z"
   },
   {
    "duration": 4,
    "start_time": "2022-04-29T20:06:08.182Z"
   },
   {
    "duration": 1331,
    "start_time": "2022-04-29T20:06:08.189Z"
   },
   {
    "duration": 4,
    "start_time": "2022-04-29T20:06:09.522Z"
   },
   {
    "duration": 36,
    "start_time": "2022-04-29T20:06:09.528Z"
   },
   {
    "duration": 184,
    "start_time": "2022-04-29T20:06:09.566Z"
   },
   {
    "duration": 5,
    "start_time": "2022-04-29T20:06:09.752Z"
   },
   {
    "duration": 189,
    "start_time": "2022-04-29T20:06:09.759Z"
   },
   {
    "duration": 750,
    "start_time": "2022-04-29T20:06:09.952Z"
   },
   {
    "duration": 140,
    "start_time": "2022-04-29T20:06:10.704Z"
   },
   {
    "duration": 1142,
    "start_time": "2022-04-29T20:06:10.846Z"
   },
   {
    "duration": 878,
    "start_time": "2022-04-29T20:06:11.990Z"
   },
   {
    "duration": 31,
    "start_time": "2022-04-29T20:06:12.870Z"
   },
   {
    "duration": 207,
    "start_time": "2022-04-29T20:06:12.924Z"
   },
   {
    "duration": 16,
    "start_time": "2022-04-29T20:06:13.134Z"
   },
   {
    "duration": 199,
    "start_time": "2022-04-29T20:06:13.153Z"
   },
   {
    "duration": 26,
    "start_time": "2022-04-29T20:06:13.355Z"
   },
   {
    "duration": 44,
    "start_time": "2022-04-29T20:06:13.383Z"
   },
   {
    "duration": 27,
    "start_time": "2022-04-29T20:06:13.429Z"
   },
   {
    "duration": 27,
    "start_time": "2022-04-29T20:06:13.459Z"
   },
   {
    "duration": 61,
    "start_time": "2022-04-29T20:06:13.488Z"
   },
   {
    "duration": 28,
    "start_time": "2022-04-29T20:06:13.552Z"
   },
   {
    "duration": 8,
    "start_time": "2022-04-29T20:06:13.582Z"
   },
   {
    "duration": 43,
    "start_time": "2022-04-29T20:06:13.592Z"
   },
   {
    "duration": 172,
    "start_time": "2022-04-29T20:06:13.637Z"
   },
   {
    "duration": 39,
    "start_time": "2022-04-29T20:06:13.812Z"
   },
   {
    "duration": 3897,
    "start_time": "2022-04-29T20:06:13.860Z"
   },
   {
    "duration": 307,
    "start_time": "2022-04-29T20:06:17.759Z"
   },
   {
    "duration": 22,
    "start_time": "2022-04-29T20:06:18.068Z"
   },
   {
    "duration": 53,
    "start_time": "2022-04-29T20:06:18.093Z"
   },
   {
    "duration": 179,
    "start_time": "2022-04-29T20:06:18.148Z"
   },
   {
    "duration": 161,
    "start_time": "2022-04-29T20:06:18.329Z"
   },
   {
    "duration": 175,
    "start_time": "2022-04-29T20:06:18.492Z"
   },
   {
    "duration": 4,
    "start_time": "2022-04-29T20:06:18.669Z"
   },
   {
    "duration": 74,
    "start_time": "2022-04-29T20:06:18.675Z"
   },
   {
    "duration": 5,
    "start_time": "2022-04-29T20:06:18.751Z"
   },
   {
    "duration": 11,
    "start_time": "2022-04-29T20:06:18.758Z"
   },
   {
    "duration": 215,
    "start_time": "2022-04-29T20:06:18.771Z"
   },
   {
    "duration": 6,
    "start_time": "2022-04-29T20:06:18.989Z"
   },
   {
    "duration": 29,
    "start_time": "2022-04-29T20:06:18.997Z"
   },
   {
    "duration": 8,
    "start_time": "2022-04-29T20:06:19.029Z"
   },
   {
    "duration": 10,
    "start_time": "2022-04-29T20:06:19.039Z"
   },
   {
    "duration": 95,
    "start_time": "2022-04-29T20:06:19.051Z"
   },
   {
    "duration": 6,
    "start_time": "2022-04-29T20:06:19.148Z"
   },
   {
    "duration": 11,
    "start_time": "2022-04-29T20:06:19.156Z"
   },
   {
    "duration": 9,
    "start_time": "2022-04-29T20:06:19.169Z"
   },
   {
    "duration": 46,
    "start_time": "2022-04-29T20:06:19.180Z"
   },
   {
    "duration": 1547,
    "start_time": "2022-04-29T20:06:19.228Z"
   },
   {
    "duration": 5,
    "start_time": "2022-04-29T20:06:20.778Z"
   },
   {
    "duration": 590,
    "start_time": "2022-04-29T20:06:20.785Z"
   },
   {
    "duration": 136,
    "start_time": "2022-04-29T20:06:21.377Z"
   },
   {
    "duration": 11,
    "start_time": "2022-04-29T20:06:21.515Z"
   },
   {
    "duration": 11,
    "start_time": "2022-04-29T20:06:21.528Z"
   },
   {
    "duration": 7,
    "start_time": "2022-04-29T20:06:21.541Z"
   },
   {
    "duration": 7,
    "start_time": "2022-04-29T20:06:21.551Z"
   },
   {
    "duration": 8,
    "start_time": "2022-04-29T20:06:21.560Z"
   },
   {
    "duration": 57,
    "start_time": "2022-04-29T20:06:21.570Z"
   },
   {
    "duration": 3225,
    "start_time": "2022-04-29T20:06:21.630Z"
   },
   {
    "duration": 38470,
    "start_time": "2022-04-29T20:06:24.857Z"
   },
   {
    "duration": 1551,
    "start_time": "2022-04-29T20:07:03.330Z"
   },
   {
    "duration": 6,
    "start_time": "2022-04-29T20:07:04.883Z"
   },
   {
    "duration": 103,
    "start_time": "2022-04-29T20:07:04.891Z"
   },
   {
    "duration": 48,
    "start_time": "2022-04-29T20:07:04.997Z"
   },
   {
    "duration": 5,
    "start_time": "2022-04-29T20:07:05.047Z"
   },
   {
    "duration": 28,
    "start_time": "2022-04-29T20:07:05.054Z"
   },
   {
    "duration": 19,
    "start_time": "2022-04-29T20:07:05.084Z"
   },
   {
    "duration": 21,
    "start_time": "2022-04-29T20:07:05.105Z"
   },
   {
    "duration": 10,
    "start_time": "2022-04-29T20:07:05.127Z"
   },
   {
    "duration": 15,
    "start_time": "2022-04-29T20:07:05.140Z"
   },
   {
    "duration": 133,
    "start_time": "2022-04-29T20:07:05.158Z"
   },
   {
    "duration": 4,
    "start_time": "2022-04-29T20:07:05.293Z"
   },
   {
    "duration": 83,
    "start_time": "2022-04-29T20:07:05.300Z"
   },
   {
    "duration": 25,
    "start_time": "2022-04-29T20:07:05.385Z"
   },
   {
    "duration": 11,
    "start_time": "2022-04-29T20:07:05.413Z"
   },
   {
    "duration": 14,
    "start_time": "2022-04-29T20:07:05.427Z"
   },
   {
    "duration": 11,
    "start_time": "2022-04-29T20:07:05.443Z"
   },
   {
    "duration": 14,
    "start_time": "2022-04-29T20:07:05.456Z"
   },
   {
    "duration": 16,
    "start_time": "2022-04-29T20:07:05.473Z"
   },
   {
    "duration": 9,
    "start_time": "2022-04-29T20:07:05.491Z"
   },
   {
    "duration": 11,
    "start_time": "2022-04-29T20:07:05.502Z"
   },
   {
    "duration": 34832,
    "start_time": "2022-04-29T20:07:05.529Z"
   },
   {
    "duration": 0,
    "start_time": "2022-04-29T20:07:40.363Z"
   },
   {
    "duration": 0,
    "start_time": "2022-04-29T20:07:40.365Z"
   },
   {
    "duration": 0,
    "start_time": "2022-04-29T20:07:40.366Z"
   },
   {
    "duration": 0,
    "start_time": "2022-04-29T20:07:40.368Z"
   },
   {
    "duration": 52797,
    "start_time": "2022-04-29T20:07:50.850Z"
   },
   {
    "duration": 163,
    "start_time": "2022-04-29T20:12:13.761Z"
   },
   {
    "duration": 150,
    "start_time": "2022-04-29T20:12:14.583Z"
   },
   {
    "duration": 158,
    "start_time": "2022-04-29T20:12:18.093Z"
   },
   {
    "duration": 3903,
    "start_time": "2022-04-29T20:13:23.886Z"
   },
   {
    "duration": 1976,
    "start_time": "2022-04-29T20:13:27.792Z"
   },
   {
    "duration": 4,
    "start_time": "2022-04-29T20:13:29.770Z"
   },
   {
    "duration": 1130,
    "start_time": "2022-04-29T20:13:29.777Z"
   },
   {
    "duration": 4,
    "start_time": "2022-04-29T20:13:30.909Z"
   },
   {
    "duration": 26,
    "start_time": "2022-04-29T20:13:30.926Z"
   },
   {
    "duration": 206,
    "start_time": "2022-04-29T20:13:30.954Z"
   },
   {
    "duration": 6,
    "start_time": "2022-04-29T20:13:31.162Z"
   },
   {
    "duration": 194,
    "start_time": "2022-04-29T20:13:31.170Z"
   },
   {
    "duration": 795,
    "start_time": "2022-04-29T20:13:31.368Z"
   },
   {
    "duration": 141,
    "start_time": "2022-04-29T20:13:32.166Z"
   },
   {
    "duration": 1542,
    "start_time": "2022-04-29T20:13:32.309Z"
   },
   {
    "duration": 1807,
    "start_time": "2022-04-29T20:13:33.853Z"
   },
   {
    "duration": 86,
    "start_time": "2022-04-29T20:13:35.663Z"
   },
   {
    "duration": 396,
    "start_time": "2022-04-29T20:13:35.752Z"
   },
   {
    "duration": 16,
    "start_time": "2022-04-29T20:13:36.151Z"
   },
   {
    "duration": 329,
    "start_time": "2022-04-29T20:13:36.226Z"
   },
   {
    "duration": 75,
    "start_time": "2022-04-29T20:13:36.558Z"
   },
   {
    "duration": 27,
    "start_time": "2022-04-29T20:13:36.636Z"
   },
   {
    "duration": 76,
    "start_time": "2022-04-29T20:13:36.666Z"
   },
   {
    "duration": 95,
    "start_time": "2022-04-29T20:13:36.745Z"
   },
   {
    "duration": 94,
    "start_time": "2022-04-29T20:13:36.843Z"
   },
   {
    "duration": 88,
    "start_time": "2022-04-29T20:13:36.940Z"
   },
   {
    "duration": 9,
    "start_time": "2022-04-29T20:13:37.031Z"
   },
   {
    "duration": 17,
    "start_time": "2022-04-29T20:13:37.043Z"
   },
   {
    "duration": 376,
    "start_time": "2022-04-29T20:13:37.062Z"
   },
   {
    "duration": 87,
    "start_time": "2022-04-29T20:13:37.441Z"
   },
   {
    "duration": 4812,
    "start_time": "2022-04-29T20:13:37.536Z"
   },
   {
    "duration": 261,
    "start_time": "2022-04-29T20:13:42.351Z"
   },
   {
    "duration": 28,
    "start_time": "2022-04-29T20:13:42.614Z"
   },
   {
    "duration": 31,
    "start_time": "2022-04-29T20:13:42.644Z"
   },
   {
    "duration": 171,
    "start_time": "2022-04-29T20:13:42.677Z"
   },
   {
    "duration": 158,
    "start_time": "2022-04-29T20:13:42.850Z"
   },
   {
    "duration": 174,
    "start_time": "2022-04-29T20:13:43.010Z"
   },
   {
    "duration": 4,
    "start_time": "2022-04-29T20:13:43.187Z"
   },
   {
    "duration": 73,
    "start_time": "2022-04-29T20:13:43.193Z"
   },
   {
    "duration": 6,
    "start_time": "2022-04-29T20:13:43.269Z"
   },
   {
    "duration": 6,
    "start_time": "2022-04-29T20:13:43.277Z"
   },
   {
    "duration": 200,
    "start_time": "2022-04-29T20:13:43.285Z"
   },
   {
    "duration": 5,
    "start_time": "2022-04-29T20:13:43.488Z"
   },
   {
    "duration": 9,
    "start_time": "2022-04-29T20:13:43.495Z"
   },
   {
    "duration": 6,
    "start_time": "2022-04-29T20:13:43.525Z"
   },
   {
    "duration": 15,
    "start_time": "2022-04-29T20:13:43.534Z"
   },
   {
    "duration": 95,
    "start_time": "2022-04-29T20:13:43.551Z"
   },
   {
    "duration": 6,
    "start_time": "2022-04-29T20:13:43.649Z"
   },
   {
    "duration": 12,
    "start_time": "2022-04-29T20:13:43.657Z"
   },
   {
    "duration": 11,
    "start_time": "2022-04-29T20:13:43.671Z"
   },
   {
    "duration": 42,
    "start_time": "2022-04-29T20:13:43.684Z"
   },
   {
    "duration": 1561,
    "start_time": "2022-04-29T20:13:43.729Z"
   },
   {
    "duration": 6,
    "start_time": "2022-04-29T20:13:45.292Z"
   },
   {
    "duration": 596,
    "start_time": "2022-04-29T20:13:45.300Z"
   },
   {
    "duration": 137,
    "start_time": "2022-04-29T20:13:45.898Z"
   },
   {
    "duration": 6,
    "start_time": "2022-04-29T20:13:46.037Z"
   },
   {
    "duration": 9,
    "start_time": "2022-04-29T20:13:46.045Z"
   },
   {
    "duration": 19,
    "start_time": "2022-04-29T20:13:46.056Z"
   },
   {
    "duration": 9,
    "start_time": "2022-04-29T20:13:46.077Z"
   },
   {
    "duration": 39,
    "start_time": "2022-04-29T20:13:46.088Z"
   },
   {
    "duration": 16,
    "start_time": "2022-04-29T20:13:46.129Z"
   },
   {
    "duration": 3271,
    "start_time": "2022-04-29T20:13:46.148Z"
   },
   {
    "duration": 37505,
    "start_time": "2022-04-29T20:13:49.421Z"
   },
   {
    "duration": 1004,
    "start_time": "2022-04-29T20:14:26.928Z"
   },
   {
    "duration": 5,
    "start_time": "2022-04-29T20:14:27.934Z"
   },
   {
    "duration": 85,
    "start_time": "2022-04-29T20:14:27.941Z"
   },
   {
    "duration": 27,
    "start_time": "2022-04-29T20:14:28.028Z"
   },
   {
    "duration": 5,
    "start_time": "2022-04-29T20:14:28.057Z"
   },
   {
    "duration": 7,
    "start_time": "2022-04-29T20:14:28.064Z"
   },
   {
    "duration": 7,
    "start_time": "2022-04-29T20:14:28.074Z"
   },
   {
    "duration": 5,
    "start_time": "2022-04-29T20:14:28.125Z"
   },
   {
    "duration": 10,
    "start_time": "2022-04-29T20:14:28.132Z"
   },
   {
    "duration": 9,
    "start_time": "2022-04-29T20:14:28.144Z"
   },
   {
    "duration": 172,
    "start_time": "2022-04-29T20:14:28.155Z"
   },
   {
    "duration": 51722,
    "start_time": "2022-04-29T20:14:28.329Z"
   },
   {
    "duration": 4,
    "start_time": "2022-04-29T20:15:20.053Z"
   },
   {
    "duration": 17,
    "start_time": "2022-04-29T20:15:20.060Z"
   },
   {
    "duration": 8,
    "start_time": "2022-04-29T20:15:20.079Z"
   },
   {
    "duration": 35,
    "start_time": "2022-04-29T20:15:20.089Z"
   },
   {
    "duration": 4,
    "start_time": "2022-04-29T20:15:20.127Z"
   },
   {
    "duration": 10,
    "start_time": "2022-04-29T20:15:20.133Z"
   },
   {
    "duration": 7,
    "start_time": "2022-04-29T20:15:20.145Z"
   },
   {
    "duration": 11,
    "start_time": "2022-04-29T20:15:20.154Z"
   },
   {
    "duration": 16,
    "start_time": "2022-04-29T20:15:20.167Z"
   },
   {
    "duration": 282937,
    "start_time": "2022-04-29T20:15:20.191Z"
   },
   {
    "duration": 798,
    "start_time": "2022-04-29T20:20:03.131Z"
   },
   {
    "duration": 8,
    "start_time": "2022-04-29T20:20:03.932Z"
   },
   {
    "duration": 3720,
    "start_time": "2022-04-29T20:20:39.009Z"
   },
   {
    "duration": 3028,
    "start_time": "2022-04-29T20:20:42.733Z"
   },
   {
    "duration": 4,
    "start_time": "2022-04-29T20:20:45.763Z"
   },
   {
    "duration": 1613,
    "start_time": "2022-04-29T20:20:45.770Z"
   },
   {
    "duration": 4,
    "start_time": "2022-04-29T20:20:47.386Z"
   },
   {
    "duration": 46,
    "start_time": "2022-04-29T20:20:47.393Z"
   },
   {
    "duration": 203,
    "start_time": "2022-04-29T20:20:47.441Z"
   },
   {
    "duration": 5,
    "start_time": "2022-04-29T20:20:47.646Z"
   },
   {
    "duration": 201,
    "start_time": "2022-04-29T20:20:47.653Z"
   },
   {
    "duration": 1054,
    "start_time": "2022-04-29T20:20:47.858Z"
   },
   {
    "duration": 136,
    "start_time": "2022-04-29T20:20:48.914Z"
   },
   {
    "duration": 1185,
    "start_time": "2022-04-29T20:20:49.053Z"
   },
   {
    "duration": 1000,
    "start_time": "2022-04-29T20:20:50.241Z"
   },
   {
    "duration": 30,
    "start_time": "2022-04-29T20:20:51.243Z"
   },
   {
    "duration": 192,
    "start_time": "2022-04-29T20:20:51.275Z"
   },
   {
    "duration": 14,
    "start_time": "2022-04-29T20:20:51.469Z"
   },
   {
    "duration": 186,
    "start_time": "2022-04-29T20:20:51.485Z"
   },
   {
    "duration": 29,
    "start_time": "2022-04-29T20:20:51.673Z"
   },
   {
    "duration": 46,
    "start_time": "2022-04-29T20:20:51.704Z"
   },
   {
    "duration": 30,
    "start_time": "2022-04-29T20:20:51.752Z"
   },
   {
    "duration": 58,
    "start_time": "2022-04-29T20:20:51.784Z"
   },
   {
    "duration": 31,
    "start_time": "2022-04-29T20:20:51.844Z"
   },
   {
    "duration": 67,
    "start_time": "2022-04-29T20:20:51.877Z"
   },
   {
    "duration": 8,
    "start_time": "2022-04-29T20:20:51.946Z"
   },
   {
    "duration": 18,
    "start_time": "2022-04-29T20:20:51.957Z"
   },
   {
    "duration": 210,
    "start_time": "2022-04-29T20:20:51.978Z"
   },
   {
    "duration": 46,
    "start_time": "2022-04-29T20:20:52.191Z"
   },
   {
    "duration": 4286,
    "start_time": "2022-04-29T20:20:52.247Z"
   },
   {
    "duration": 361,
    "start_time": "2022-04-29T20:20:56.536Z"
   },
   {
    "duration": 42,
    "start_time": "2022-04-29T20:20:56.900Z"
   },
   {
    "duration": 42,
    "start_time": "2022-04-29T20:20:56.945Z"
   },
   {
    "duration": 177,
    "start_time": "2022-04-29T20:20:56.989Z"
   },
   {
    "duration": 270,
    "start_time": "2022-04-29T20:20:57.169Z"
   },
   {
    "duration": 207,
    "start_time": "2022-04-29T20:20:57.442Z"
   },
   {
    "duration": 3,
    "start_time": "2022-04-29T20:20:57.652Z"
   },
   {
    "duration": 77,
    "start_time": "2022-04-29T20:20:57.658Z"
   },
   {
    "duration": 5,
    "start_time": "2022-04-29T20:20:57.738Z"
   },
   {
    "duration": 7,
    "start_time": "2022-04-29T20:20:57.746Z"
   },
   {
    "duration": 182,
    "start_time": "2022-04-29T20:20:57.755Z"
   },
   {
    "duration": 5,
    "start_time": "2022-04-29T20:20:57.940Z"
   },
   {
    "duration": 7,
    "start_time": "2022-04-29T20:20:57.947Z"
   },
   {
    "duration": 9,
    "start_time": "2022-04-29T20:20:57.956Z"
   },
   {
    "duration": 6,
    "start_time": "2022-04-29T20:20:57.967Z"
   },
   {
    "duration": 110,
    "start_time": "2022-04-29T20:20:57.975Z"
   },
   {
    "duration": 6,
    "start_time": "2022-04-29T20:20:58.087Z"
   },
   {
    "duration": 31,
    "start_time": "2022-04-29T20:20:58.095Z"
   },
   {
    "duration": 6,
    "start_time": "2022-04-29T20:20:58.128Z"
   },
   {
    "duration": 8,
    "start_time": "2022-04-29T20:20:58.136Z"
   },
   {
    "duration": 1641,
    "start_time": "2022-04-29T20:20:58.146Z"
   },
   {
    "duration": 5,
    "start_time": "2022-04-29T20:20:59.790Z"
   },
   {
    "duration": 593,
    "start_time": "2022-04-29T20:20:59.797Z"
   },
   {
    "duration": 141,
    "start_time": "2022-04-29T20:21:00.393Z"
   },
   {
    "duration": 5,
    "start_time": "2022-04-29T20:21:00.536Z"
   },
   {
    "duration": 9,
    "start_time": "2022-04-29T20:21:00.544Z"
   },
   {
    "duration": 16,
    "start_time": "2022-04-29T20:21:00.555Z"
   },
   {
    "duration": 15,
    "start_time": "2022-04-29T20:21:00.574Z"
   },
   {
    "duration": 5,
    "start_time": "2022-04-29T20:21:00.626Z"
   },
   {
    "duration": 26,
    "start_time": "2022-04-29T20:21:00.633Z"
   },
   {
    "duration": 3276,
    "start_time": "2022-04-29T20:21:00.661Z"
   },
   {
    "duration": 31585,
    "start_time": "2022-04-29T20:21:03.940Z"
   },
   {
    "duration": 893,
    "start_time": "2022-04-29T20:21:35.527Z"
   },
   {
    "duration": 6,
    "start_time": "2022-04-29T20:21:36.425Z"
   },
   {
    "duration": 63,
    "start_time": "2022-04-29T20:21:36.433Z"
   },
   {
    "duration": 50,
    "start_time": "2022-04-29T20:21:36.498Z"
   },
   {
    "duration": 6,
    "start_time": "2022-04-29T20:21:36.550Z"
   },
   {
    "duration": 6,
    "start_time": "2022-04-29T20:21:36.559Z"
   },
   {
    "duration": 13,
    "start_time": "2022-04-29T20:21:36.567Z"
   },
   {
    "duration": 6,
    "start_time": "2022-04-29T20:21:36.625Z"
   },
   {
    "duration": 15,
    "start_time": "2022-04-29T20:21:36.633Z"
   },
   {
    "duration": 7,
    "start_time": "2022-04-29T20:21:36.650Z"
   },
   {
    "duration": 171,
    "start_time": "2022-04-29T20:21:36.660Z"
   },
   {
    "duration": 50101,
    "start_time": "2022-04-29T20:21:36.833Z"
   },
   {
    "duration": 4,
    "start_time": "2022-04-29T20:22:26.937Z"
   },
   {
    "duration": 22,
    "start_time": "2022-04-29T20:22:26.944Z"
   },
   {
    "duration": 8,
    "start_time": "2022-04-29T20:22:26.969Z"
   },
   {
    "duration": 12,
    "start_time": "2022-04-29T20:22:26.980Z"
   },
   {
    "duration": 26654,
    "start_time": "2022-04-29T20:22:26.995Z"
   },
   {
    "duration": 0,
    "start_time": "2022-04-29T20:22:53.652Z"
   },
   {
    "duration": 0,
    "start_time": "2022-04-29T20:22:53.654Z"
   },
   {
    "duration": 0,
    "start_time": "2022-04-29T20:22:53.657Z"
   },
   {
    "duration": 0,
    "start_time": "2022-04-29T20:22:53.659Z"
   },
   {
    "duration": 0,
    "start_time": "2022-04-29T20:22:53.661Z"
   },
   {
    "duration": 0,
    "start_time": "2022-04-29T20:22:53.663Z"
   },
   {
    "duration": 0,
    "start_time": "2022-04-29T20:22:53.665Z"
   },
   {
    "duration": 0,
    "start_time": "2022-04-29T20:22:53.667Z"
   },
   {
    "duration": 0,
    "start_time": "2022-04-29T20:22:53.669Z"
   },
   {
    "duration": 6,
    "start_time": "2022-04-29T20:23:49.239Z"
   },
   {
    "duration": 6,
    "start_time": "2022-04-29T20:24:19.472Z"
   },
   {
    "duration": 7,
    "start_time": "2022-04-29T20:24:35.201Z"
   },
   {
    "duration": 7,
    "start_time": "2022-04-29T20:28:05.932Z"
   },
   {
    "duration": 6,
    "start_time": "2022-04-29T20:29:34.656Z"
   },
   {
    "duration": 103,
    "start_time": "2022-04-29T20:30:04.125Z"
   },
   {
    "duration": 7,
    "start_time": "2022-04-29T20:30:11.697Z"
   },
   {
    "duration": 7,
    "start_time": "2022-04-29T20:31:14.454Z"
   },
   {
    "duration": 39180,
    "start_time": "2022-04-29T20:31:37.746Z"
   },
   {
    "duration": 7,
    "start_time": "2022-04-29T20:32:52.836Z"
   },
   {
    "duration": 36144,
    "start_time": "2022-04-29T20:35:06.482Z"
   },
   {
    "duration": 31093,
    "start_time": "2022-04-29T20:38:24.834Z"
   },
   {
    "duration": 95,
    "start_time": "2022-04-29T20:38:55.931Z"
   },
   {
    "duration": 36445,
    "start_time": "2022-04-29T20:41:35.380Z"
   },
   {
    "duration": 92,
    "start_time": "2022-04-29T20:42:11.833Z"
   },
   {
    "duration": 56219,
    "start_time": "2022-04-29T20:43:00.241Z"
   },
   {
    "duration": 3522,
    "start_time": "2022-04-29T20:50:27.068Z"
   },
   {
    "duration": 2065,
    "start_time": "2022-04-29T20:50:30.594Z"
   },
   {
    "duration": 4,
    "start_time": "2022-04-29T20:50:32.662Z"
   },
   {
    "duration": 1507,
    "start_time": "2022-04-29T20:50:32.669Z"
   },
   {
    "duration": 4,
    "start_time": "2022-04-29T20:50:34.179Z"
   },
   {
    "duration": 51,
    "start_time": "2022-04-29T20:50:34.185Z"
   },
   {
    "duration": 196,
    "start_time": "2022-04-29T20:50:34.239Z"
   },
   {
    "duration": 7,
    "start_time": "2022-04-29T20:50:34.438Z"
   },
   {
    "duration": 203,
    "start_time": "2022-04-29T20:50:34.448Z"
   },
   {
    "duration": 770,
    "start_time": "2022-04-29T20:50:34.657Z"
   },
   {
    "duration": 144,
    "start_time": "2022-04-29T20:50:35.430Z"
   },
   {
    "duration": 1142,
    "start_time": "2022-04-29T20:50:35.577Z"
   },
   {
    "duration": 929,
    "start_time": "2022-04-29T20:50:36.723Z"
   },
   {
    "duration": 33,
    "start_time": "2022-04-29T20:50:37.655Z"
   },
   {
    "duration": 198,
    "start_time": "2022-04-29T20:50:37.691Z"
   },
   {
    "duration": 13,
    "start_time": "2022-04-29T20:50:37.892Z"
   },
   {
    "duration": 166,
    "start_time": "2022-04-29T20:50:37.925Z"
   },
   {
    "duration": 35,
    "start_time": "2022-04-29T20:50:38.093Z"
   },
   {
    "duration": 27,
    "start_time": "2022-04-29T20:50:38.130Z"
   },
   {
    "duration": 28,
    "start_time": "2022-04-29T20:50:38.159Z"
   },
   {
    "duration": 59,
    "start_time": "2022-04-29T20:50:38.190Z"
   },
   {
    "duration": 29,
    "start_time": "2022-04-29T20:50:38.252Z"
   },
   {
    "duration": 57,
    "start_time": "2022-04-29T20:50:38.284Z"
   },
   {
    "duration": 8,
    "start_time": "2022-04-29T20:50:38.344Z"
   },
   {
    "duration": 15,
    "start_time": "2022-04-29T20:50:38.354Z"
   },
   {
    "duration": 188,
    "start_time": "2022-04-29T20:50:38.372Z"
   },
   {
    "duration": 33,
    "start_time": "2022-04-29T20:50:38.562Z"
   },
   {
    "duration": 6238,
    "start_time": "2022-04-29T20:50:38.628Z"
   },
   {
    "duration": 575,
    "start_time": "2022-04-29T20:50:44.869Z"
   },
   {
    "duration": 25,
    "start_time": "2022-04-29T20:50:45.446Z"
   },
   {
    "duration": 58,
    "start_time": "2022-04-29T20:50:45.474Z"
   },
   {
    "duration": 154,
    "start_time": "2022-04-29T20:50:45.535Z"
   },
   {
    "duration": 166,
    "start_time": "2022-04-29T20:50:45.691Z"
   },
   {
    "duration": 296,
    "start_time": "2022-04-29T20:50:45.861Z"
   },
   {
    "duration": 4,
    "start_time": "2022-04-29T20:50:46.160Z"
   },
   {
    "duration": 98,
    "start_time": "2022-04-29T20:50:46.167Z"
   },
   {
    "duration": 7,
    "start_time": "2022-04-29T20:50:46.268Z"
   },
   {
    "duration": 15,
    "start_time": "2022-04-29T20:50:46.278Z"
   },
   {
    "duration": 215,
    "start_time": "2022-04-29T20:50:46.296Z"
   },
   {
    "duration": 13,
    "start_time": "2022-04-29T20:50:46.514Z"
   },
   {
    "duration": 9,
    "start_time": "2022-04-29T20:50:46.530Z"
   },
   {
    "duration": 9,
    "start_time": "2022-04-29T20:50:46.542Z"
   },
   {
    "duration": 10,
    "start_time": "2022-04-29T20:50:46.553Z"
   },
   {
    "duration": 127,
    "start_time": "2022-04-29T20:50:46.565Z"
   },
   {
    "duration": 7,
    "start_time": "2022-04-29T20:50:46.695Z"
   },
   {
    "duration": 24,
    "start_time": "2022-04-29T20:50:46.705Z"
   },
   {
    "duration": 9,
    "start_time": "2022-04-29T20:50:46.731Z"
   },
   {
    "duration": 8,
    "start_time": "2022-04-29T20:50:46.742Z"
   },
   {
    "duration": 1704,
    "start_time": "2022-04-29T20:50:46.753Z"
   },
   {
    "duration": 5,
    "start_time": "2022-04-29T20:50:48.460Z"
   },
   {
    "duration": 592,
    "start_time": "2022-04-29T20:50:48.467Z"
   },
   {
    "duration": 146,
    "start_time": "2022-04-29T20:50:49.061Z"
   },
   {
    "duration": 6,
    "start_time": "2022-04-29T20:50:49.210Z"
   },
   {
    "duration": 6,
    "start_time": "2022-04-29T20:50:49.225Z"
   },
   {
    "duration": 8,
    "start_time": "2022-04-29T20:50:49.234Z"
   },
   {
    "duration": 8,
    "start_time": "2022-04-29T20:50:49.244Z"
   },
   {
    "duration": 8,
    "start_time": "2022-04-29T20:50:49.255Z"
   },
   {
    "duration": 61,
    "start_time": "2022-04-29T20:50:49.265Z"
   },
   {
    "duration": 3320,
    "start_time": "2022-04-29T20:50:49.328Z"
   },
   {
    "duration": 35382,
    "start_time": "2022-04-29T20:50:52.651Z"
   },
   {
    "duration": 6,
    "start_time": "2022-04-29T20:51:28.124Z"
   },
   {
    "duration": 94,
    "start_time": "2022-04-29T20:51:28.133Z"
   },
   {
    "duration": 904,
    "start_time": "2022-04-29T20:51:28.229Z"
   },
   {
    "duration": 6,
    "start_time": "2022-04-29T20:51:29.135Z"
   },
   {
    "duration": 95,
    "start_time": "2022-04-29T20:51:29.143Z"
   },
   {
    "duration": 33,
    "start_time": "2022-04-29T20:51:29.241Z"
   },
   {
    "duration": 6,
    "start_time": "2022-04-29T20:51:29.277Z"
   },
   {
    "duration": 39,
    "start_time": "2022-04-29T20:51:29.285Z"
   },
   {
    "duration": 6,
    "start_time": "2022-04-29T20:51:29.327Z"
   },
   {
    "duration": 14,
    "start_time": "2022-04-29T20:51:29.336Z"
   },
   {
    "duration": 12,
    "start_time": "2022-04-29T20:51:29.352Z"
   },
   {
    "duration": 21,
    "start_time": "2022-04-29T20:51:29.367Z"
   },
   {
    "duration": 138,
    "start_time": "2022-04-29T20:51:29.390Z"
   },
   {
    "duration": 61340,
    "start_time": "2022-04-29T20:51:29.530Z"
   },
   {
    "duration": 4,
    "start_time": "2022-04-29T20:52:30.872Z"
   },
   {
    "duration": 32,
    "start_time": "2022-04-29T20:52:30.878Z"
   },
   {
    "duration": 13,
    "start_time": "2022-04-29T20:52:30.913Z"
   },
   {
    "duration": 11,
    "start_time": "2022-04-29T20:52:30.928Z"
   },
   {
    "duration": 145213,
    "start_time": "2022-04-29T20:52:30.941Z"
   },
   {
    "duration": 0,
    "start_time": "2022-04-29T20:54:56.157Z"
   },
   {
    "duration": 0,
    "start_time": "2022-04-29T20:54:56.159Z"
   },
   {
    "duration": 0,
    "start_time": "2022-04-29T20:54:56.161Z"
   },
   {
    "duration": 0,
    "start_time": "2022-04-29T20:54:56.163Z"
   },
   {
    "duration": 0,
    "start_time": "2022-04-29T20:54:56.164Z"
   },
   {
    "duration": 0,
    "start_time": "2022-04-29T20:54:56.166Z"
   },
   {
    "duration": 0,
    "start_time": "2022-04-29T20:54:56.167Z"
   },
   {
    "duration": 0,
    "start_time": "2022-04-29T20:54:56.169Z"
   },
   {
    "duration": 0,
    "start_time": "2022-04-29T20:54:56.170Z"
   },
   {
    "duration": 7,
    "start_time": "2022-04-29T20:56:27.276Z"
   },
   {
    "duration": 52456,
    "start_time": "2022-04-29T20:56:46.398Z"
   },
   {
    "duration": 11,
    "start_time": "2022-04-29T20:57:52.580Z"
   },
   {
    "duration": 594015,
    "start_time": "2022-04-29T20:57:53.415Z"
   },
   {
    "duration": 193346,
    "start_time": "2022-04-29T21:09:33.905Z"
   },
   {
    "duration": 446968,
    "start_time": "2022-04-29T21:13:07.258Z"
   },
   {
    "duration": 0,
    "start_time": "2022-04-29T21:20:34.228Z"
   },
   {
    "duration": 3201,
    "start_time": "2022-04-29T21:23:00.939Z"
   },
   {
    "duration": 24787,
    "start_time": "2022-04-29T21:23:04.142Z"
   },
   {
    "duration": 96,
    "start_time": "2022-04-29T21:23:28.933Z"
   },
   {
    "duration": 30892,
    "start_time": "2022-04-29T21:24:27.335Z"
   },
   {
    "duration": 95,
    "start_time": "2022-04-29T21:24:58.230Z"
   },
   {
    "duration": 40522,
    "start_time": "2022-04-29T21:26:30.819Z"
   },
   {
    "duration": 0,
    "start_time": "2022-04-29T21:27:11.344Z"
   },
   {
    "duration": 27914,
    "start_time": "2022-04-29T21:43:49.211Z"
   },
   {
    "duration": 93,
    "start_time": "2022-04-29T21:44:17.134Z"
   },
   {
    "duration": 31281,
    "start_time": "2022-04-29T21:45:35.200Z"
   },
   {
    "duration": 0,
    "start_time": "2022-04-29T21:46:06.484Z"
   },
   {
    "duration": 0,
    "start_time": "2022-04-29T21:46:06.485Z"
   },
   {
    "duration": 19,
    "start_time": "2022-04-29T21:46:13.329Z"
   },
   {
    "duration": 38656,
    "start_time": "2022-04-29T21:47:38.780Z"
   },
   {
    "duration": 98,
    "start_time": "2022-04-29T21:48:17.440Z"
   },
   {
    "duration": 3258,
    "start_time": "2022-04-29T21:50:07.112Z"
   },
   {
    "duration": 27755,
    "start_time": "2022-04-29T21:50:10.373Z"
   },
   {
    "duration": 91,
    "start_time": "2022-04-29T21:50:38.136Z"
   },
   {
    "duration": 12,
    "start_time": "2022-04-29T21:51:44.909Z"
   },
   {
    "duration": 74,
    "start_time": "2022-04-29T21:52:02.580Z"
   },
   {
    "duration": 18,
    "start_time": "2022-04-29T21:53:28.166Z"
   },
   {
    "duration": 22,
    "start_time": "2022-04-29T21:56:08.384Z"
   },
   {
    "duration": 3577,
    "start_time": "2022-04-29T21:56:20.084Z"
   },
   {
    "duration": 2079,
    "start_time": "2022-04-29T21:56:23.664Z"
   },
   {
    "duration": 5,
    "start_time": "2022-04-29T21:56:25.745Z"
   },
   {
    "duration": 2390,
    "start_time": "2022-04-29T21:56:25.753Z"
   },
   {
    "duration": 4,
    "start_time": "2022-04-29T21:56:28.145Z"
   },
   {
    "duration": 33,
    "start_time": "2022-04-29T21:56:28.151Z"
   },
   {
    "duration": 229,
    "start_time": "2022-04-29T21:56:28.186Z"
   },
   {
    "duration": 10,
    "start_time": "2022-04-29T21:56:28.417Z"
   },
   {
    "duration": 189,
    "start_time": "2022-04-29T21:56:28.429Z"
   },
   {
    "duration": 781,
    "start_time": "2022-04-29T21:56:28.625Z"
   },
   {
    "duration": 137,
    "start_time": "2022-04-29T21:56:29.409Z"
   },
   {
    "duration": 1138,
    "start_time": "2022-04-29T21:56:29.548Z"
   },
   {
    "duration": 916,
    "start_time": "2022-04-29T21:56:30.688Z"
   },
   {
    "duration": 41,
    "start_time": "2022-04-29T21:56:31.606Z"
   },
   {
    "duration": 199,
    "start_time": "2022-04-29T21:56:31.649Z"
   },
   {
    "duration": 15,
    "start_time": "2022-04-29T21:56:31.850Z"
   },
   {
    "duration": 192,
    "start_time": "2022-04-29T21:56:31.867Z"
   },
   {
    "duration": 30,
    "start_time": "2022-04-29T21:56:32.061Z"
   },
   {
    "duration": 46,
    "start_time": "2022-04-29T21:56:32.093Z"
   },
   {
    "duration": 27,
    "start_time": "2022-04-29T21:56:32.141Z"
   },
   {
    "duration": 61,
    "start_time": "2022-04-29T21:56:32.170Z"
   },
   {
    "duration": 31,
    "start_time": "2022-04-29T21:56:32.234Z"
   },
   {
    "duration": 66,
    "start_time": "2022-04-29T21:56:32.268Z"
   },
   {
    "duration": 11,
    "start_time": "2022-04-29T21:56:32.337Z"
   },
   {
    "duration": 16,
    "start_time": "2022-04-29T21:56:32.351Z"
   },
   {
    "duration": 209,
    "start_time": "2022-04-29T21:56:32.370Z"
   },
   {
    "duration": 50,
    "start_time": "2022-04-29T21:56:32.581Z"
   },
   {
    "duration": 3724,
    "start_time": "2022-04-29T21:56:32.642Z"
   },
   {
    "duration": 269,
    "start_time": "2022-04-29T21:56:36.368Z"
   },
   {
    "duration": 24,
    "start_time": "2022-04-29T21:56:36.639Z"
   },
   {
    "duration": 29,
    "start_time": "2022-04-29T21:56:36.665Z"
   },
   {
    "duration": 145,
    "start_time": "2022-04-29T21:56:36.725Z"
   },
   {
    "duration": 159,
    "start_time": "2022-04-29T21:56:36.872Z"
   },
   {
    "duration": 179,
    "start_time": "2022-04-29T21:56:37.033Z"
   },
   {
    "duration": 10,
    "start_time": "2022-04-29T21:56:37.214Z"
   },
   {
    "duration": 49,
    "start_time": "2022-04-29T21:56:37.227Z"
   },
   {
    "duration": 5,
    "start_time": "2022-04-29T21:56:37.278Z"
   },
   {
    "duration": 40,
    "start_time": "2022-04-29T21:56:37.285Z"
   },
   {
    "duration": 172,
    "start_time": "2022-04-29T21:56:37.328Z"
   },
   {
    "duration": 5,
    "start_time": "2022-04-29T21:56:37.503Z"
   },
   {
    "duration": 19,
    "start_time": "2022-04-29T21:56:37.510Z"
   },
   {
    "duration": 8,
    "start_time": "2022-04-29T21:56:37.531Z"
   },
   {
    "duration": 7,
    "start_time": "2022-04-29T21:56:37.541Z"
   },
   {
    "duration": 105,
    "start_time": "2022-04-29T21:56:37.550Z"
   },
   {
    "duration": 6,
    "start_time": "2022-04-29T21:56:37.657Z"
   },
   {
    "duration": 7,
    "start_time": "2022-04-29T21:56:37.665Z"
   },
   {
    "duration": 8,
    "start_time": "2022-04-29T21:56:37.674Z"
   },
   {
    "duration": 42,
    "start_time": "2022-04-29T21:56:37.684Z"
   },
   {
    "duration": 1585,
    "start_time": "2022-04-29T21:56:37.728Z"
   },
   {
    "duration": 11,
    "start_time": "2022-04-29T21:56:39.316Z"
   },
   {
    "duration": 610,
    "start_time": "2022-04-29T21:56:39.330Z"
   },
   {
    "duration": 150,
    "start_time": "2022-04-29T21:56:39.943Z"
   },
   {
    "duration": 7,
    "start_time": "2022-04-29T21:56:40.096Z"
   },
   {
    "duration": 22,
    "start_time": "2022-04-29T21:56:40.106Z"
   },
   {
    "duration": 8,
    "start_time": "2022-04-29T21:56:40.131Z"
   },
   {
    "duration": 7,
    "start_time": "2022-04-29T21:56:40.142Z"
   },
   {
    "duration": 8,
    "start_time": "2022-04-29T21:56:40.152Z"
   },
   {
    "duration": 65,
    "start_time": "2022-04-29T21:56:40.162Z"
   },
   {
    "duration": 3238,
    "start_time": "2022-04-29T21:56:40.230Z"
   },
   {
    "duration": 23857,
    "start_time": "2022-04-29T21:56:43.471Z"
   },
   {
    "duration": 96,
    "start_time": "2022-04-29T21:57:07.332Z"
   },
   {
    "duration": 244,
    "start_time": "2022-04-29T21:57:07.432Z"
   },
   {
    "duration": 0,
    "start_time": "2022-04-29T21:57:07.678Z"
   },
   {
    "duration": 0,
    "start_time": "2022-04-29T21:57:07.680Z"
   },
   {
    "duration": 0,
    "start_time": "2022-04-29T21:57:07.682Z"
   },
   {
    "duration": 0,
    "start_time": "2022-04-29T21:57:07.683Z"
   },
   {
    "duration": 0,
    "start_time": "2022-04-29T21:57:07.684Z"
   },
   {
    "duration": 0,
    "start_time": "2022-04-29T21:57:07.686Z"
   },
   {
    "duration": 0,
    "start_time": "2022-04-29T21:57:07.687Z"
   },
   {
    "duration": 1,
    "start_time": "2022-04-29T21:57:07.688Z"
   },
   {
    "duration": 0,
    "start_time": "2022-04-29T21:57:07.690Z"
   },
   {
    "duration": 0,
    "start_time": "2022-04-29T21:57:07.691Z"
   },
   {
    "duration": 0,
    "start_time": "2022-04-29T21:57:07.693Z"
   },
   {
    "duration": 0,
    "start_time": "2022-04-29T21:57:07.724Z"
   },
   {
    "duration": 0,
    "start_time": "2022-04-29T21:57:07.726Z"
   },
   {
    "duration": 1,
    "start_time": "2022-04-29T21:57:07.727Z"
   },
   {
    "duration": 0,
    "start_time": "2022-04-29T21:57:07.729Z"
   },
   {
    "duration": 0,
    "start_time": "2022-04-29T21:57:07.730Z"
   },
   {
    "duration": 0,
    "start_time": "2022-04-29T21:57:07.731Z"
   },
   {
    "duration": 0,
    "start_time": "2022-04-29T21:57:07.733Z"
   },
   {
    "duration": 0,
    "start_time": "2022-04-29T21:57:07.734Z"
   },
   {
    "duration": 0,
    "start_time": "2022-04-29T21:57:07.736Z"
   },
   {
    "duration": 0,
    "start_time": "2022-04-29T21:57:07.738Z"
   },
   {
    "duration": 0,
    "start_time": "2022-04-29T21:57:07.739Z"
   },
   {
    "duration": 0,
    "start_time": "2022-04-29T21:57:07.741Z"
   },
   {
    "duration": 0,
    "start_time": "2022-04-29T21:57:07.742Z"
   },
   {
    "duration": 0,
    "start_time": "2022-04-29T21:57:07.744Z"
   },
   {
    "duration": 0,
    "start_time": "2022-04-29T21:57:07.745Z"
   },
   {
    "duration": 3695,
    "start_time": "2022-04-29T21:57:20.401Z"
   },
   {
    "duration": 3146,
    "start_time": "2022-04-29T21:57:24.100Z"
   },
   {
    "duration": 5,
    "start_time": "2022-04-29T21:57:27.249Z"
   },
   {
    "duration": 1183,
    "start_time": "2022-04-29T21:57:27.259Z"
   },
   {
    "duration": 3,
    "start_time": "2022-04-29T21:57:28.445Z"
   },
   {
    "duration": 31,
    "start_time": "2022-04-29T21:57:28.451Z"
   },
   {
    "duration": 213,
    "start_time": "2022-04-29T21:57:28.486Z"
   },
   {
    "duration": 25,
    "start_time": "2022-04-29T21:57:28.702Z"
   },
   {
    "duration": 188,
    "start_time": "2022-04-29T21:57:28.730Z"
   },
   {
    "duration": 754,
    "start_time": "2022-04-29T21:57:28.926Z"
   },
   {
    "duration": 143,
    "start_time": "2022-04-29T21:57:29.683Z"
   },
   {
    "duration": 1129,
    "start_time": "2022-04-29T21:57:29.829Z"
   },
   {
    "duration": 921,
    "start_time": "2022-04-29T21:57:30.961Z"
   },
   {
    "duration": 41,
    "start_time": "2022-04-29T21:57:31.885Z"
   },
   {
    "duration": 241,
    "start_time": "2022-04-29T21:57:31.928Z"
   },
   {
    "duration": 64,
    "start_time": "2022-04-29T21:57:32.171Z"
   },
   {
    "duration": 315,
    "start_time": "2022-04-29T21:57:32.238Z"
   },
   {
    "duration": 93,
    "start_time": "2022-04-29T21:57:32.555Z"
   },
   {
    "duration": 101,
    "start_time": "2022-04-29T21:57:32.654Z"
   },
   {
    "duration": 87,
    "start_time": "2022-04-29T21:57:32.759Z"
   },
   {
    "duration": 107,
    "start_time": "2022-04-29T21:57:32.849Z"
   },
   {
    "duration": 99,
    "start_time": "2022-04-29T21:57:32.959Z"
   },
   {
    "duration": 98,
    "start_time": "2022-04-29T21:57:33.062Z"
   },
   {
    "duration": 62,
    "start_time": "2022-04-29T21:57:33.164Z"
   },
   {
    "duration": 18,
    "start_time": "2022-04-29T21:57:33.229Z"
   },
   {
    "duration": 302,
    "start_time": "2022-04-29T21:57:33.250Z"
   },
   {
    "duration": 86,
    "start_time": "2022-04-29T21:57:33.555Z"
   },
   {
    "duration": 10912,
    "start_time": "2022-04-29T21:57:33.653Z"
   },
   {
    "duration": 314,
    "start_time": "2022-04-29T21:57:44.567Z"
   },
   {
    "duration": 42,
    "start_time": "2022-04-29T21:57:44.884Z"
   },
   {
    "duration": 31,
    "start_time": "2022-04-29T21:57:44.930Z"
   },
   {
    "duration": 195,
    "start_time": "2022-04-29T21:57:44.964Z"
   },
   {
    "duration": 169,
    "start_time": "2022-04-29T21:57:45.161Z"
   },
   {
    "duration": 180,
    "start_time": "2022-04-29T21:57:45.332Z"
   },
   {
    "duration": 11,
    "start_time": "2022-04-29T21:57:45.514Z"
   },
   {
    "duration": 50,
    "start_time": "2022-04-29T21:57:45.527Z"
   },
   {
    "duration": 5,
    "start_time": "2022-04-29T21:57:45.579Z"
   },
   {
    "duration": 40,
    "start_time": "2022-04-29T21:57:45.586Z"
   },
   {
    "duration": 176,
    "start_time": "2022-04-29T21:57:45.628Z"
   },
   {
    "duration": 7,
    "start_time": "2022-04-29T21:57:45.806Z"
   },
   {
    "duration": 7,
    "start_time": "2022-04-29T21:57:45.825Z"
   },
   {
    "duration": 9,
    "start_time": "2022-04-29T21:57:45.834Z"
   },
   {
    "duration": 9,
    "start_time": "2022-04-29T21:57:45.845Z"
   },
   {
    "duration": 112,
    "start_time": "2022-04-29T21:57:45.856Z"
   },
   {
    "duration": 6,
    "start_time": "2022-04-29T21:57:45.970Z"
   },
   {
    "duration": 7,
    "start_time": "2022-04-29T21:57:45.978Z"
   },
   {
    "duration": 6,
    "start_time": "2022-04-29T21:57:45.988Z"
   },
   {
    "duration": 32,
    "start_time": "2022-04-29T21:57:45.996Z"
   },
   {
    "duration": 1562,
    "start_time": "2022-04-29T21:57:46.030Z"
   },
   {
    "duration": 5,
    "start_time": "2022-04-29T21:57:47.594Z"
   },
   {
    "duration": 597,
    "start_time": "2022-04-29T21:57:47.601Z"
   },
   {
    "duration": 139,
    "start_time": "2022-04-29T21:57:48.200Z"
   },
   {
    "duration": 5,
    "start_time": "2022-04-29T21:57:48.342Z"
   },
   {
    "duration": 18,
    "start_time": "2022-04-29T21:57:48.349Z"
   },
   {
    "duration": 10,
    "start_time": "2022-04-29T21:57:48.369Z"
   },
   {
    "duration": 43,
    "start_time": "2022-04-29T21:57:48.381Z"
   },
   {
    "duration": 5,
    "start_time": "2022-04-29T21:57:48.427Z"
   },
   {
    "duration": 16,
    "start_time": "2022-04-29T21:57:48.434Z"
   },
   {
    "duration": 3298,
    "start_time": "2022-04-29T21:57:48.452Z"
   },
   {
    "duration": 26273,
    "start_time": "2022-04-29T21:57:51.752Z"
   },
   {
    "duration": 8,
    "start_time": "2022-04-29T21:58:18.029Z"
   },
   {
    "duration": 190,
    "start_time": "2022-04-29T21:58:18.126Z"
   },
   {
    "duration": 0,
    "start_time": "2022-04-29T21:58:18.319Z"
   },
   {
    "duration": 0,
    "start_time": "2022-04-29T21:58:18.325Z"
   },
   {
    "duration": 0,
    "start_time": "2022-04-29T21:58:18.326Z"
   },
   {
    "duration": 0,
    "start_time": "2022-04-29T21:58:18.328Z"
   },
   {
    "duration": 0,
    "start_time": "2022-04-29T21:58:18.329Z"
   },
   {
    "duration": 0,
    "start_time": "2022-04-29T21:58:18.331Z"
   },
   {
    "duration": 0,
    "start_time": "2022-04-29T21:58:18.333Z"
   },
   {
    "duration": 0,
    "start_time": "2022-04-29T21:58:18.334Z"
   },
   {
    "duration": 0,
    "start_time": "2022-04-29T21:58:18.336Z"
   },
   {
    "duration": 0,
    "start_time": "2022-04-29T21:58:18.338Z"
   },
   {
    "duration": 0,
    "start_time": "2022-04-29T21:58:18.339Z"
   },
   {
    "duration": 0,
    "start_time": "2022-04-29T21:58:18.341Z"
   },
   {
    "duration": 0,
    "start_time": "2022-04-29T21:58:18.342Z"
   },
   {
    "duration": 0,
    "start_time": "2022-04-29T21:58:18.344Z"
   },
   {
    "duration": 0,
    "start_time": "2022-04-29T21:58:18.346Z"
   },
   {
    "duration": 0,
    "start_time": "2022-04-29T21:58:18.347Z"
   },
   {
    "duration": 0,
    "start_time": "2022-04-29T21:58:18.349Z"
   },
   {
    "duration": 0,
    "start_time": "2022-04-29T21:58:18.351Z"
   },
   {
    "duration": 0,
    "start_time": "2022-04-29T21:58:18.352Z"
   },
   {
    "duration": 0,
    "start_time": "2022-04-29T21:58:18.353Z"
   },
   {
    "duration": 0,
    "start_time": "2022-04-29T21:58:18.355Z"
   },
   {
    "duration": 0,
    "start_time": "2022-04-29T21:58:18.357Z"
   },
   {
    "duration": 0,
    "start_time": "2022-04-29T21:58:18.358Z"
   },
   {
    "duration": 0,
    "start_time": "2022-04-29T21:58:18.360Z"
   },
   {
    "duration": 0,
    "start_time": "2022-04-29T21:58:18.362Z"
   },
   {
    "duration": 0,
    "start_time": "2022-04-29T21:58:18.363Z"
   },
   {
    "duration": 15,
    "start_time": "2022-04-29T22:02:41.711Z"
   },
   {
    "duration": 3152,
    "start_time": "2022-04-29T22:03:27.018Z"
   },
   {
    "duration": 34857,
    "start_time": "2022-04-29T22:03:30.173Z"
   },
   {
    "duration": 94,
    "start_time": "2022-04-29T22:04:05.034Z"
   },
   {
    "duration": 19,
    "start_time": "2022-04-29T22:06:33.525Z"
   },
   {
    "duration": 70,
    "start_time": "2022-04-29T22:06:40.689Z"
   },
   {
    "duration": 82,
    "start_time": "2022-04-29T22:08:19.361Z"
   },
   {
    "duration": 124,
    "start_time": "2022-04-29T22:09:28.546Z"
   },
   {
    "duration": 26057,
    "start_time": "2022-04-29T22:10:50.872Z"
   },
   {
    "duration": 3195,
    "start_time": "2022-04-29T22:13:51.645Z"
   },
   {
    "duration": 2663,
    "start_time": "2022-04-30T17:01:21.802Z"
   },
   {
    "duration": 1625,
    "start_time": "2022-04-30T17:01:24.467Z"
   },
   {
    "duration": 3,
    "start_time": "2022-04-30T17:01:26.094Z"
   },
   {
    "duration": 832,
    "start_time": "2022-04-30T17:01:26.101Z"
   },
   {
    "duration": 3,
    "start_time": "2022-04-30T17:01:26.934Z"
   },
   {
    "duration": 18,
    "start_time": "2022-04-30T17:01:26.939Z"
   },
   {
    "duration": 154,
    "start_time": "2022-04-30T17:01:26.959Z"
   },
   {
    "duration": 8,
    "start_time": "2022-04-30T17:01:27.115Z"
   },
   {
    "duration": 144,
    "start_time": "2022-04-30T17:01:27.125Z"
   },
   {
    "duration": 482,
    "start_time": "2022-04-30T17:01:27.272Z"
   },
   {
    "duration": 92,
    "start_time": "2022-04-30T17:01:27.756Z"
   },
   {
    "duration": 784,
    "start_time": "2022-04-30T17:01:27.850Z"
   },
   {
    "duration": 579,
    "start_time": "2022-04-30T17:01:28.636Z"
   },
   {
    "duration": 25,
    "start_time": "2022-04-30T17:01:29.217Z"
   },
   {
    "duration": 123,
    "start_time": "2022-04-30T17:01:29.244Z"
   },
   {
    "duration": 10,
    "start_time": "2022-04-30T17:01:29.369Z"
   },
   {
    "duration": 108,
    "start_time": "2022-04-30T17:01:29.381Z"
   },
   {
    "duration": 21,
    "start_time": "2022-04-30T17:01:29.490Z"
   },
   {
    "duration": 31,
    "start_time": "2022-04-30T17:01:29.513Z"
   },
   {
    "duration": 30,
    "start_time": "2022-04-30T17:01:29.546Z"
   },
   {
    "duration": 31,
    "start_time": "2022-04-30T17:01:29.578Z"
   },
   {
    "duration": 37,
    "start_time": "2022-04-30T17:01:29.611Z"
   },
   {
    "duration": 26,
    "start_time": "2022-04-30T17:01:29.650Z"
   },
   {
    "duration": 7,
    "start_time": "2022-04-30T17:01:29.677Z"
   },
   {
    "duration": 19,
    "start_time": "2022-04-30T17:01:29.685Z"
   },
   {
    "duration": 105,
    "start_time": "2022-04-30T17:01:29.705Z"
   },
   {
    "duration": 24,
    "start_time": "2022-04-30T17:01:29.812Z"
   },
   {
    "duration": 2700,
    "start_time": "2022-04-30T17:01:29.841Z"
   },
   {
    "duration": 189,
    "start_time": "2022-04-30T17:01:32.543Z"
   },
   {
    "duration": 17,
    "start_time": "2022-04-30T17:01:32.734Z"
   },
   {
    "duration": 22,
    "start_time": "2022-04-30T17:01:32.753Z"
   },
   {
    "duration": 107,
    "start_time": "2022-04-30T17:01:32.777Z"
   },
   {
    "duration": 137,
    "start_time": "2022-04-30T17:01:32.886Z"
   },
   {
    "duration": 240,
    "start_time": "2022-04-30T17:01:33.026Z"
   },
   {
    "duration": 4,
    "start_time": "2022-04-30T17:01:33.268Z"
   },
   {
    "duration": 54,
    "start_time": "2022-04-30T17:01:33.274Z"
   },
   {
    "duration": 4,
    "start_time": "2022-04-30T17:01:33.331Z"
   },
   {
    "duration": 6,
    "start_time": "2022-04-30T17:01:33.337Z"
   },
   {
    "duration": 89,
    "start_time": "2022-04-30T17:01:33.345Z"
   },
   {
    "duration": 4,
    "start_time": "2022-04-30T17:01:33.436Z"
   },
   {
    "duration": 5,
    "start_time": "2022-04-30T17:01:33.442Z"
   },
   {
    "duration": 5,
    "start_time": "2022-04-30T17:01:33.449Z"
   },
   {
    "duration": 4,
    "start_time": "2022-04-30T17:01:33.456Z"
   },
   {
    "duration": 61,
    "start_time": "2022-04-30T17:01:33.462Z"
   },
   {
    "duration": 4,
    "start_time": "2022-04-30T17:01:33.525Z"
   },
   {
    "duration": 7,
    "start_time": "2022-04-30T17:01:33.531Z"
   },
   {
    "duration": 6,
    "start_time": "2022-04-30T17:01:33.540Z"
   },
   {
    "duration": 4,
    "start_time": "2022-04-30T17:01:33.548Z"
   },
   {
    "duration": 777,
    "start_time": "2022-04-30T17:01:33.554Z"
   },
   {
    "duration": 4,
    "start_time": "2022-04-30T17:01:34.333Z"
   },
   {
    "duration": 395,
    "start_time": "2022-04-30T17:01:34.338Z"
   },
   {
    "duration": 97,
    "start_time": "2022-04-30T17:01:34.735Z"
   },
   {
    "duration": 5,
    "start_time": "2022-04-30T17:01:34.834Z"
   },
   {
    "duration": 8,
    "start_time": "2022-04-30T17:01:34.840Z"
   },
   {
    "duration": 7,
    "start_time": "2022-04-30T17:01:34.849Z"
   },
   {
    "duration": 5,
    "start_time": "2022-04-30T17:01:34.858Z"
   },
   {
    "duration": 9,
    "start_time": "2022-04-30T17:01:34.865Z"
   },
   {
    "duration": 7,
    "start_time": "2022-04-30T17:01:34.875Z"
   },
   {
    "duration": 2288,
    "start_time": "2022-04-30T17:01:34.884Z"
   },
   {
    "duration": 23454,
    "start_time": "2022-04-30T17:01:37.174Z"
   },
   {
    "duration": 93,
    "start_time": "2022-04-30T17:02:00.630Z"
   },
   {
    "duration": 660,
    "start_time": "2022-04-30T17:02:00.726Z"
   },
   {
    "duration": 5,
    "start_time": "2022-04-30T17:02:01.388Z"
   },
   {
    "duration": 58,
    "start_time": "2022-04-30T17:02:01.395Z"
   },
   {
    "duration": 21,
    "start_time": "2022-04-30T17:02:01.455Z"
   },
   {
    "duration": 4,
    "start_time": "2022-04-30T17:02:01.478Z"
   },
   {
    "duration": 6,
    "start_time": "2022-04-30T17:02:01.485Z"
   },
   {
    "duration": 30,
    "start_time": "2022-04-30T17:02:01.494Z"
   },
   {
    "duration": 6,
    "start_time": "2022-04-30T17:02:01.526Z"
   },
   {
    "duration": 13,
    "start_time": "2022-04-30T17:02:01.534Z"
   },
   {
    "duration": 15,
    "start_time": "2022-04-30T17:02:01.549Z"
   },
   {
    "duration": 88,
    "start_time": "2022-04-30T17:02:01.565Z"
   },
   {
    "duration": 39930,
    "start_time": "2022-04-30T17:02:01.655Z"
   },
   {
    "duration": 3,
    "start_time": "2022-04-30T17:02:41.587Z"
   },
   {
    "duration": 6,
    "start_time": "2022-04-30T17:02:41.591Z"
   },
   {
    "duration": 4,
    "start_time": "2022-04-30T17:02:41.599Z"
   },
   {
    "duration": 24,
    "start_time": "2022-04-30T17:02:41.605Z"
   },
   {
    "duration": 119,
    "start_time": "2022-04-30T17:02:41.630Z"
   },
   {
    "duration": 0,
    "start_time": "2022-04-30T17:02:41.751Z"
   },
   {
    "duration": 0,
    "start_time": "2022-04-30T17:02:41.753Z"
   },
   {
    "duration": 0,
    "start_time": "2022-04-30T17:02:41.754Z"
   },
   {
    "duration": 0,
    "start_time": "2022-04-30T17:02:41.755Z"
   },
   {
    "duration": 0,
    "start_time": "2022-04-30T17:02:41.756Z"
   },
   {
    "duration": 0,
    "start_time": "2022-04-30T17:02:41.757Z"
   },
   {
    "duration": 0,
    "start_time": "2022-04-30T17:02:41.758Z"
   },
   {
    "duration": 0,
    "start_time": "2022-04-30T17:02:41.759Z"
   },
   {
    "duration": 0,
    "start_time": "2022-04-30T17:02:41.760Z"
   },
   {
    "duration": 21,
    "start_time": "2022-04-30T17:03:55.893Z"
   },
   {
    "duration": 25992,
    "start_time": "2022-04-30T17:43:21.131Z"
   },
   {
    "duration": 4,
    "start_time": "2022-04-30T17:44:08.097Z"
   },
   {
    "duration": 4,
    "start_time": "2022-04-30T17:44:22.522Z"
   },
   {
    "duration": 53,
    "start_time": "2022-04-30T17:44:44.923Z"
   },
   {
    "duration": 47,
    "start_time": "2022-04-30T17:46:23.769Z"
   },
   {
    "duration": 14,
    "start_time": "2022-04-30T17:47:46.772Z"
   },
   {
    "duration": 3612,
    "start_time": "2022-04-30T18:52:10.055Z"
   },
   {
    "duration": 2648,
    "start_time": "2022-04-30T18:52:13.670Z"
   },
   {
    "duration": 3,
    "start_time": "2022-04-30T18:52:16.321Z"
   },
   {
    "duration": 8019,
    "start_time": "2022-04-30T18:52:16.327Z"
   },
   {
    "duration": 3,
    "start_time": "2022-04-30T18:52:24.347Z"
   },
   {
    "duration": 20,
    "start_time": "2022-04-30T18:52:24.351Z"
   },
   {
    "duration": 159,
    "start_time": "2022-04-30T18:52:24.373Z"
   },
   {
    "duration": 4,
    "start_time": "2022-04-30T18:52:24.533Z"
   },
   {
    "duration": 137,
    "start_time": "2022-04-30T18:52:24.539Z"
   },
   {
    "duration": 499,
    "start_time": "2022-04-30T18:52:24.679Z"
   },
   {
    "duration": 102,
    "start_time": "2022-04-30T18:52:25.180Z"
   },
   {
    "duration": 793,
    "start_time": "2022-04-30T18:52:25.284Z"
   },
   {
    "duration": 583,
    "start_time": "2022-04-30T18:52:26.078Z"
   },
   {
    "duration": 23,
    "start_time": "2022-04-30T18:52:26.663Z"
   },
   {
    "duration": 126,
    "start_time": "2022-04-30T18:52:26.688Z"
   },
   {
    "duration": 11,
    "start_time": "2022-04-30T18:52:26.816Z"
   },
   {
    "duration": 110,
    "start_time": "2022-04-30T18:52:26.829Z"
   },
   {
    "duration": 23,
    "start_time": "2022-04-30T18:52:26.941Z"
   },
   {
    "duration": 21,
    "start_time": "2022-04-30T18:52:26.966Z"
   },
   {
    "duration": 39,
    "start_time": "2022-04-30T18:52:26.989Z"
   },
   {
    "duration": 18,
    "start_time": "2022-04-30T18:52:27.030Z"
   },
   {
    "duration": 21,
    "start_time": "2022-04-30T18:52:27.050Z"
   },
   {
    "duration": 18,
    "start_time": "2022-04-30T18:52:27.073Z"
   },
   {
    "duration": 30,
    "start_time": "2022-04-30T18:52:27.092Z"
   },
   {
    "duration": 9,
    "start_time": "2022-04-30T18:52:27.124Z"
   },
   {
    "duration": 104,
    "start_time": "2022-04-30T18:52:27.135Z"
   },
   {
    "duration": 20,
    "start_time": "2022-04-30T18:52:27.241Z"
   },
   {
    "duration": 2443,
    "start_time": "2022-04-30T18:52:27.266Z"
   },
   {
    "duration": 175,
    "start_time": "2022-04-30T18:52:29.711Z"
   },
   {
    "duration": 14,
    "start_time": "2022-04-30T18:52:29.888Z"
   },
   {
    "duration": 31,
    "start_time": "2022-04-30T18:52:29.903Z"
   },
   {
    "duration": 77,
    "start_time": "2022-04-30T18:52:29.936Z"
   },
   {
    "duration": 121,
    "start_time": "2022-04-30T18:52:30.014Z"
   },
   {
    "duration": 128,
    "start_time": "2022-04-30T18:52:30.137Z"
   },
   {
    "duration": 3,
    "start_time": "2022-04-30T18:52:30.266Z"
   },
   {
    "duration": 41,
    "start_time": "2022-04-30T18:52:30.270Z"
   },
   {
    "duration": 9,
    "start_time": "2022-04-30T18:52:30.313Z"
   },
   {
    "duration": 16,
    "start_time": "2022-04-30T18:52:30.324Z"
   },
   {
    "duration": 76,
    "start_time": "2022-04-30T18:52:30.341Z"
   },
   {
    "duration": 4,
    "start_time": "2022-04-30T18:52:30.430Z"
   },
   {
    "duration": 10,
    "start_time": "2022-04-30T18:52:30.436Z"
   },
   {
    "duration": 8,
    "start_time": "2022-04-30T18:52:30.447Z"
   },
   {
    "duration": 9,
    "start_time": "2022-04-30T18:52:30.456Z"
   },
   {
    "duration": 35,
    "start_time": "2022-04-30T18:52:30.467Z"
   },
   {
    "duration": 4,
    "start_time": "2022-04-30T18:52:30.503Z"
   },
   {
    "duration": 16,
    "start_time": "2022-04-30T18:52:30.508Z"
   },
   {
    "duration": 5,
    "start_time": "2022-04-30T18:52:30.526Z"
   },
   {
    "duration": 9,
    "start_time": "2022-04-30T18:52:30.533Z"
   },
   {
    "duration": 674,
    "start_time": "2022-04-30T18:52:31.462Z"
   },
   {
    "duration": 4,
    "start_time": "2022-04-30T18:52:32.138Z"
   },
   {
    "duration": 369,
    "start_time": "2022-04-30T18:52:34.401Z"
   },
   {
    "duration": 100,
    "start_time": "2022-04-30T18:52:34.772Z"
   },
   {
    "duration": 4,
    "start_time": "2022-04-30T18:52:34.874Z"
   },
   {
    "duration": 4,
    "start_time": "2022-04-30T18:52:37.288Z"
   },
   {
    "duration": 5,
    "start_time": "2022-04-30T18:52:37.294Z"
   },
   {
    "duration": 6,
    "start_time": "2022-04-30T18:52:37.300Z"
   },
   {
    "duration": 5,
    "start_time": "2022-04-30T18:52:37.307Z"
   },
   {
    "duration": 7,
    "start_time": "2022-04-30T18:52:37.314Z"
   },
   {
    "duration": 22,
    "start_time": "2022-04-30T18:52:37.322Z"
   },
   {
    "duration": 2209,
    "start_time": "2022-04-30T18:52:43.607Z"
   },
   {
    "duration": 18921,
    "start_time": "2022-04-30T18:52:47.102Z"
   },
   {
    "duration": 6,
    "start_time": "2022-04-30T18:53:06.026Z"
   },
   {
    "duration": 118,
    "start_time": "2022-04-30T18:53:06.033Z"
   },
   {
    "duration": 651,
    "start_time": "2022-04-30T18:53:06.153Z"
   },
   {
    "duration": 4,
    "start_time": "2022-04-30T18:53:06.806Z"
   },
   {
    "duration": 52,
    "start_time": "2022-04-30T18:53:06.812Z"
   },
   {
    "duration": 20,
    "start_time": "2022-04-30T18:53:06.866Z"
   },
   {
    "duration": 4,
    "start_time": "2022-04-30T18:53:06.889Z"
   },
   {
    "duration": 6,
    "start_time": "2022-04-30T18:53:06.894Z"
   },
   {
    "duration": 23,
    "start_time": "2022-04-30T18:53:06.902Z"
   },
   {
    "duration": 7,
    "start_time": "2022-04-30T18:53:06.927Z"
   },
   {
    "duration": 10,
    "start_time": "2022-04-30T18:53:06.936Z"
   },
   {
    "duration": 5,
    "start_time": "2022-04-30T18:53:06.948Z"
   },
   {
    "duration": 92,
    "start_time": "2022-04-30T18:53:06.955Z"
   },
   {
    "duration": 36696,
    "start_time": "2022-04-30T18:53:07.049Z"
   },
   {
    "duration": 3,
    "start_time": "2022-04-30T18:53:43.747Z"
   },
   {
    "duration": 7,
    "start_time": "2022-04-30T18:53:43.751Z"
   },
   {
    "duration": 4,
    "start_time": "2022-04-30T18:53:43.759Z"
   },
   {
    "duration": 8,
    "start_time": "2022-04-30T18:53:43.765Z"
   },
   {
    "duration": 119,
    "start_time": "2022-04-30T18:53:43.775Z"
   },
   {
    "duration": 0,
    "start_time": "2022-04-30T18:53:43.895Z"
   },
   {
    "duration": 0,
    "start_time": "2022-04-30T18:53:43.896Z"
   },
   {
    "duration": 0,
    "start_time": "2022-04-30T18:53:43.898Z"
   },
   {
    "duration": 0,
    "start_time": "2022-04-30T18:53:43.898Z"
   },
   {
    "duration": 0,
    "start_time": "2022-04-30T18:53:43.899Z"
   },
   {
    "duration": 0,
    "start_time": "2022-04-30T18:53:43.900Z"
   },
   {
    "duration": 0,
    "start_time": "2022-04-30T18:53:43.901Z"
   },
   {
    "duration": 0,
    "start_time": "2022-04-30T18:53:43.902Z"
   },
   {
    "duration": 0,
    "start_time": "2022-04-30T18:53:43.903Z"
   },
   {
    "duration": 2265,
    "start_time": "2022-04-30T18:54:44.083Z"
   },
   {
    "duration": 1676,
    "start_time": "2022-04-30T18:54:46.351Z"
   },
   {
    "duration": 3,
    "start_time": "2022-04-30T18:54:48.029Z"
   },
   {
    "duration": 810,
    "start_time": "2022-04-30T18:54:48.034Z"
   },
   {
    "duration": 2,
    "start_time": "2022-04-30T18:54:48.846Z"
   },
   {
    "duration": 18,
    "start_time": "2022-04-30T18:54:48.850Z"
   },
   {
    "duration": 139,
    "start_time": "2022-04-30T18:54:48.869Z"
   },
   {
    "duration": 3,
    "start_time": "2022-04-30T18:54:49.023Z"
   },
   {
    "duration": 130,
    "start_time": "2022-04-30T18:54:49.029Z"
   },
   {
    "duration": 465,
    "start_time": "2022-04-30T18:54:49.160Z"
   },
   {
    "duration": 84,
    "start_time": "2022-04-30T18:54:49.627Z"
   },
   {
    "duration": 754,
    "start_time": "2022-04-30T18:54:49.723Z"
   },
   {
    "duration": 562,
    "start_time": "2022-04-30T18:54:50.479Z"
   },
   {
    "duration": 23,
    "start_time": "2022-04-30T18:54:51.043Z"
   },
   {
    "duration": 125,
    "start_time": "2022-04-30T18:54:51.068Z"
   },
   {
    "duration": 10,
    "start_time": "2022-04-30T18:54:51.194Z"
   },
   {
    "duration": 111,
    "start_time": "2022-04-30T18:54:51.206Z"
   },
   {
    "duration": 19,
    "start_time": "2022-04-30T18:54:51.323Z"
   },
   {
    "duration": 19,
    "start_time": "2022-04-30T18:54:51.345Z"
   },
   {
    "duration": 19,
    "start_time": "2022-04-30T18:54:51.365Z"
   },
   {
    "duration": 40,
    "start_time": "2022-04-30T18:54:51.385Z"
   },
   {
    "duration": 20,
    "start_time": "2022-04-30T18:54:51.427Z"
   },
   {
    "duration": 18,
    "start_time": "2022-04-30T18:54:51.449Z"
   },
   {
    "duration": 5,
    "start_time": "2022-04-30T18:54:51.469Z"
   },
   {
    "duration": 10,
    "start_time": "2022-04-30T18:54:54.218Z"
   },
   {
    "duration": 78,
    "start_time": "2022-04-30T18:54:54.230Z"
   },
   {
    "duration": 32,
    "start_time": "2022-04-30T18:54:54.310Z"
   },
   {
    "duration": 2513,
    "start_time": "2022-04-30T18:54:54.344Z"
   },
   {
    "duration": 183,
    "start_time": "2022-04-30T18:54:56.859Z"
   },
   {
    "duration": 14,
    "start_time": "2022-04-30T18:54:57.044Z"
   },
   {
    "duration": 17,
    "start_time": "2022-04-30T18:54:57.060Z"
   },
   {
    "duration": 121,
    "start_time": "2022-04-30T18:54:57.079Z"
   },
   {
    "duration": 127,
    "start_time": "2022-04-30T18:54:57.202Z"
   },
   {
    "duration": 127,
    "start_time": "2022-04-30T18:54:57.331Z"
   },
   {
    "duration": 2,
    "start_time": "2022-04-30T18:54:57.460Z"
   },
   {
    "duration": 30,
    "start_time": "2022-04-30T18:55:08.652Z"
   },
   {
    "duration": 3,
    "start_time": "2022-04-30T18:55:08.684Z"
   },
   {
    "duration": 16,
    "start_time": "2022-04-30T18:55:08.689Z"
   },
   {
    "duration": 68,
    "start_time": "2022-04-30T18:55:12.184Z"
   },
   {
    "duration": 4,
    "start_time": "2022-04-30T18:55:12.254Z"
   },
   {
    "duration": 5,
    "start_time": "2022-04-30T18:55:12.259Z"
   },
   {
    "duration": 5,
    "start_time": "2022-04-30T18:55:12.265Z"
   },
   {
    "duration": 4,
    "start_time": "2022-04-30T18:55:12.272Z"
   },
   {
    "duration": 46,
    "start_time": "2022-04-30T18:55:12.277Z"
   },
   {
    "duration": 4,
    "start_time": "2022-04-30T18:55:12.325Z"
   },
   {
    "duration": 5,
    "start_time": "2022-04-30T18:55:12.330Z"
   },
   {
    "duration": 4,
    "start_time": "2022-04-30T18:55:14.775Z"
   },
   {
    "duration": 9,
    "start_time": "2022-04-30T18:55:14.782Z"
   },
   {
    "duration": 856,
    "start_time": "2022-04-30T18:55:14.792Z"
   },
   {
    "duration": 4,
    "start_time": "2022-04-30T18:55:15.650Z"
   },
   {
    "duration": 404,
    "start_time": "2022-04-30T18:55:15.657Z"
   },
   {
    "duration": 108,
    "start_time": "2022-04-30T18:55:16.063Z"
   },
   {
    "duration": 5,
    "start_time": "2022-04-30T18:55:16.173Z"
   },
   {
    "duration": 10,
    "start_time": "2022-04-30T18:55:16.179Z"
   },
   {
    "duration": 12,
    "start_time": "2022-04-30T18:55:16.191Z"
   },
   {
    "duration": 5,
    "start_time": "2022-04-30T18:55:16.205Z"
   },
   {
    "duration": 4,
    "start_time": "2022-04-30T18:55:16.223Z"
   },
   {
    "duration": 7,
    "start_time": "2022-04-30T18:55:16.229Z"
   },
   {
    "duration": 22,
    "start_time": "2022-04-30T18:55:16.238Z"
   },
   {
    "duration": 2323,
    "start_time": "2022-04-30T18:55:16.263Z"
   },
   {
    "duration": 18634,
    "start_time": "2022-04-30T18:55:18.588Z"
   },
   {
    "duration": 6,
    "start_time": "2022-04-30T18:55:37.225Z"
   },
   {
    "duration": 127,
    "start_time": "2022-04-30T18:55:37.232Z"
   },
   {
    "duration": 618,
    "start_time": "2022-04-30T18:55:37.360Z"
   },
   {
    "duration": 4,
    "start_time": "2022-04-30T18:55:37.980Z"
   },
   {
    "duration": 66,
    "start_time": "2022-04-30T18:55:37.987Z"
   },
   {
    "duration": 23,
    "start_time": "2022-04-30T18:55:38.057Z"
   },
   {
    "duration": 5,
    "start_time": "2022-04-30T18:55:38.082Z"
   },
   {
    "duration": 13,
    "start_time": "2022-04-30T18:55:38.088Z"
   },
   {
    "duration": 24,
    "start_time": "2022-04-30T18:55:38.103Z"
   },
   {
    "duration": 18,
    "start_time": "2022-04-30T18:55:38.128Z"
   },
   {
    "duration": 16,
    "start_time": "2022-04-30T18:55:38.148Z"
   },
   {
    "duration": 23,
    "start_time": "2022-04-30T18:55:38.166Z"
   },
   {
    "duration": 95,
    "start_time": "2022-04-30T18:55:38.191Z"
   },
   {
    "duration": 36764,
    "start_time": "2022-04-30T18:55:38.288Z"
   },
   {
    "duration": 3,
    "start_time": "2022-04-30T18:56:15.053Z"
   },
   {
    "duration": 8,
    "start_time": "2022-04-30T18:56:15.058Z"
   },
   {
    "duration": 5,
    "start_time": "2022-04-30T18:56:15.068Z"
   },
   {
    "duration": 7,
    "start_time": "2022-04-30T18:56:15.075Z"
   },
   {
    "duration": 124,
    "start_time": "2022-04-30T18:56:15.084Z"
   },
   {
    "duration": 0,
    "start_time": "2022-04-30T18:56:15.210Z"
   },
   {
    "duration": 0,
    "start_time": "2022-04-30T18:56:15.211Z"
   },
   {
    "duration": 0,
    "start_time": "2022-04-30T18:56:15.212Z"
   },
   {
    "duration": 0,
    "start_time": "2022-04-30T18:56:15.214Z"
   },
   {
    "duration": 0,
    "start_time": "2022-04-30T18:56:15.215Z"
   },
   {
    "duration": 0,
    "start_time": "2022-04-30T18:56:15.222Z"
   },
   {
    "duration": 0,
    "start_time": "2022-04-30T18:56:15.224Z"
   },
   {
    "duration": 0,
    "start_time": "2022-04-30T18:56:15.225Z"
   },
   {
    "duration": 0,
    "start_time": "2022-04-30T18:56:15.226Z"
   },
   {
    "duration": 3,
    "start_time": "2022-04-30T18:57:40.580Z"
   },
   {
    "duration": 9,
    "start_time": "2022-04-30T19:00:48.641Z"
   },
   {
    "duration": 2311,
    "start_time": "2022-04-30T19:01:01.456Z"
   },
   {
    "duration": 1535,
    "start_time": "2022-04-30T19:01:03.769Z"
   },
   {
    "duration": 2,
    "start_time": "2022-04-30T19:01:05.306Z"
   },
   {
    "duration": 839,
    "start_time": "2022-04-30T19:01:05.310Z"
   },
   {
    "duration": 2,
    "start_time": "2022-04-30T19:01:06.151Z"
   },
   {
    "duration": 25,
    "start_time": "2022-04-30T19:01:06.155Z"
   },
   {
    "duration": 139,
    "start_time": "2022-04-30T19:01:06.183Z"
   },
   {
    "duration": 4,
    "start_time": "2022-04-30T19:01:06.324Z"
   },
   {
    "duration": 140,
    "start_time": "2022-04-30T19:01:06.329Z"
   },
   {
    "duration": 505,
    "start_time": "2022-04-30T19:01:06.470Z"
   },
   {
    "duration": 102,
    "start_time": "2022-04-30T19:01:06.977Z"
   },
   {
    "duration": 780,
    "start_time": "2022-04-30T19:01:07.081Z"
   },
   {
    "duration": 578,
    "start_time": "2022-04-30T19:01:07.864Z"
   },
   {
    "duration": 26,
    "start_time": "2022-04-30T19:01:08.444Z"
   },
   {
    "duration": 14,
    "start_time": "2022-04-30T19:01:08.472Z"
   },
   {
    "duration": 129,
    "start_time": "2022-04-30T19:01:08.488Z"
   },
   {
    "duration": 12,
    "start_time": "2022-04-30T19:01:08.618Z"
   },
   {
    "duration": 114,
    "start_time": "2022-04-30T19:01:08.631Z"
   },
   {
    "duration": 20,
    "start_time": "2022-04-30T19:01:08.747Z"
   },
   {
    "duration": 21,
    "start_time": "2022-04-30T19:01:08.769Z"
   },
   {
    "duration": 36,
    "start_time": "2022-04-30T19:01:08.793Z"
   },
   {
    "duration": 20,
    "start_time": "2022-04-30T19:01:08.831Z"
   },
   {
    "duration": 21,
    "start_time": "2022-04-30T19:01:08.853Z"
   },
   {
    "duration": 19,
    "start_time": "2022-04-30T19:01:08.876Z"
   },
   {
    "duration": 31,
    "start_time": "2022-04-30T19:01:08.896Z"
   },
   {
    "duration": 10,
    "start_time": "2022-04-30T19:01:08.929Z"
   },
   {
    "duration": 85,
    "start_time": "2022-04-30T19:01:08.941Z"
   },
   {
    "duration": 20,
    "start_time": "2022-04-30T19:01:09.028Z"
   },
   {
    "duration": 2815,
    "start_time": "2022-04-30T19:01:10.214Z"
   },
   {
    "duration": 199,
    "start_time": "2022-04-30T19:01:13.031Z"
   },
   {
    "duration": 16,
    "start_time": "2022-04-30T19:01:13.231Z"
   },
   {
    "duration": 20,
    "start_time": "2022-04-30T19:01:13.248Z"
   },
   {
    "duration": 119,
    "start_time": "2022-04-30T19:01:13.271Z"
   },
   {
    "duration": 135,
    "start_time": "2022-04-30T19:01:13.392Z"
   },
   {
    "duration": 136,
    "start_time": "2022-04-30T19:01:13.529Z"
   },
   {
    "duration": 3,
    "start_time": "2022-04-30T19:01:13.667Z"
   },
   {
    "duration": 42,
    "start_time": "2022-04-30T19:01:13.672Z"
   },
   {
    "duration": 7,
    "start_time": "2022-04-30T19:01:13.716Z"
   },
   {
    "duration": 7,
    "start_time": "2022-04-30T19:01:13.726Z"
   },
   {
    "duration": 69,
    "start_time": "2022-04-30T19:01:13.735Z"
   },
   {
    "duration": 3,
    "start_time": "2022-04-30T19:01:13.823Z"
   },
   {
    "duration": 12,
    "start_time": "2022-04-30T19:01:13.831Z"
   },
   {
    "duration": 8,
    "start_time": "2022-04-30T19:01:13.845Z"
   },
   {
    "duration": 7,
    "start_time": "2022-04-30T19:01:13.855Z"
   },
   {
    "duration": 28,
    "start_time": "2022-04-30T19:01:13.864Z"
   },
   {
    "duration": 5,
    "start_time": "2022-04-30T19:01:13.894Z"
   },
   {
    "duration": 5,
    "start_time": "2022-04-30T19:01:13.922Z"
   },
   {
    "duration": 5,
    "start_time": "2022-04-30T19:01:13.929Z"
   },
   {
    "duration": 5,
    "start_time": "2022-04-30T19:01:13.936Z"
   },
   {
    "duration": 830,
    "start_time": "2022-04-30T19:01:13.943Z"
   },
   {
    "duration": 4,
    "start_time": "2022-04-30T19:01:14.775Z"
   },
   {
    "duration": 404,
    "start_time": "2022-04-30T19:01:14.781Z"
   },
   {
    "duration": 101,
    "start_time": "2022-04-30T19:01:15.187Z"
   },
   {
    "duration": 4,
    "start_time": "2022-04-30T19:01:15.290Z"
   },
   {
    "duration": 7,
    "start_time": "2022-04-30T19:01:15.296Z"
   },
   {
    "duration": 20,
    "start_time": "2022-04-30T19:01:15.304Z"
   },
   {
    "duration": 4,
    "start_time": "2022-04-30T19:01:15.326Z"
   },
   {
    "duration": 4,
    "start_time": "2022-04-30T19:01:15.332Z"
   },
   {
    "duration": 6,
    "start_time": "2022-04-30T19:01:15.338Z"
   },
   {
    "duration": 2332,
    "start_time": "2022-04-30T19:01:15.347Z"
   },
   {
    "duration": 18942,
    "start_time": "2022-04-30T19:01:17.681Z"
   },
   {
    "duration": 5,
    "start_time": "2022-04-30T19:01:36.626Z"
   },
   {
    "duration": 1144,
    "start_time": "2022-04-30T19:01:36.633Z"
   },
   {
    "duration": 4,
    "start_time": "2022-04-30T19:01:37.779Z"
   },
   {
    "duration": 62,
    "start_time": "2022-04-30T19:01:37.785Z"
   },
   {
    "duration": 25,
    "start_time": "2022-04-30T19:01:37.849Z"
   },
   {
    "duration": 5,
    "start_time": "2022-04-30T19:01:37.876Z"
   },
   {
    "duration": 5,
    "start_time": "2022-04-30T19:01:37.883Z"
   },
   {
    "duration": 4,
    "start_time": "2022-04-30T19:01:37.892Z"
   },
   {
    "duration": 28,
    "start_time": "2022-04-30T19:01:37.897Z"
   },
   {
    "duration": 5,
    "start_time": "2022-04-30T19:01:37.926Z"
   },
   {
    "duration": 5,
    "start_time": "2022-04-30T19:01:37.933Z"
   },
   {
    "duration": 96,
    "start_time": "2022-04-30T19:01:37.939Z"
   },
   {
    "duration": 37497,
    "start_time": "2022-04-30T19:01:38.037Z"
   },
   {
    "duration": 2,
    "start_time": "2022-04-30T19:02:15.536Z"
   },
   {
    "duration": 6,
    "start_time": "2022-04-30T19:02:15.540Z"
   },
   {
    "duration": 9,
    "start_time": "2022-04-30T19:02:15.548Z"
   },
   {
    "duration": 11,
    "start_time": "2022-04-30T19:02:15.559Z"
   },
   {
    "duration": 127,
    "start_time": "2022-04-30T19:02:15.572Z"
   },
   {
    "duration": 1,
    "start_time": "2022-04-30T19:02:15.700Z"
   },
   {
    "duration": 0,
    "start_time": "2022-04-30T19:02:15.701Z"
   },
   {
    "duration": 0,
    "start_time": "2022-04-30T19:02:15.703Z"
   },
   {
    "duration": 0,
    "start_time": "2022-04-30T19:02:15.704Z"
   },
   {
    "duration": 0,
    "start_time": "2022-04-30T19:02:15.705Z"
   },
   {
    "duration": 0,
    "start_time": "2022-04-30T19:02:15.706Z"
   },
   {
    "duration": 0,
    "start_time": "2022-04-30T19:02:15.708Z"
   },
   {
    "duration": 0,
    "start_time": "2022-04-30T19:02:15.723Z"
   },
   {
    "duration": 0,
    "start_time": "2022-04-30T19:02:15.724Z"
   },
   {
    "duration": 13,
    "start_time": "2022-04-30T19:03:20.274Z"
   },
   {
    "duration": 422,
    "start_time": "2022-04-30T19:04:43.729Z"
   },
   {
    "duration": 19,
    "start_time": "2022-04-30T19:12:22.883Z"
   },
   {
    "duration": 9,
    "start_time": "2022-04-30T19:12:25.449Z"
   },
   {
    "duration": 2329,
    "start_time": "2022-04-30T19:12:40.786Z"
   },
   {
    "duration": 1624,
    "start_time": "2022-04-30T19:12:45.448Z"
   },
   {
    "duration": 2,
    "start_time": "2022-04-30T19:12:47.074Z"
   },
   {
    "duration": 802,
    "start_time": "2022-04-30T19:12:47.078Z"
   },
   {
    "duration": 3,
    "start_time": "2022-04-30T19:12:47.882Z"
   },
   {
    "duration": 34,
    "start_time": "2022-04-30T19:12:47.886Z"
   },
   {
    "duration": 145,
    "start_time": "2022-04-30T19:12:47.921Z"
   },
   {
    "duration": 5,
    "start_time": "2022-04-30T19:12:50.080Z"
   },
   {
    "duration": 131,
    "start_time": "2022-04-30T19:12:50.087Z"
   },
   {
    "duration": 462,
    "start_time": "2022-04-30T19:12:50.219Z"
   },
   {
    "duration": 97,
    "start_time": "2022-04-30T19:12:53.210Z"
   },
   {
    "duration": 773,
    "start_time": "2022-04-30T19:12:53.309Z"
   },
   {
    "duration": 562,
    "start_time": "2022-04-30T19:12:54.084Z"
   },
   {
    "duration": 24,
    "start_time": "2022-04-30T19:12:54.647Z"
   },
   {
    "duration": 14,
    "start_time": "2022-04-30T19:12:54.673Z"
   },
   {
    "duration": 480,
    "start_time": "2022-04-30T19:12:54.689Z"
   },
   {
    "duration": 110,
    "start_time": "2022-04-30T19:12:57.654Z"
   },
   {
    "duration": 10,
    "start_time": "2022-04-30T19:12:57.766Z"
   },
   {
    "duration": 99,
    "start_time": "2022-04-30T19:13:04.132Z"
   },
   {
    "duration": 21,
    "start_time": "2022-04-30T19:13:04.233Z"
   },
   {
    "duration": 19,
    "start_time": "2022-04-30T19:13:04.256Z"
   },
   {
    "duration": 20,
    "start_time": "2022-04-30T19:13:10.619Z"
   },
   {
    "duration": 20,
    "start_time": "2022-04-30T19:13:10.642Z"
   },
   {
    "duration": 21,
    "start_time": "2022-04-30T19:13:10.663Z"
   },
   {
    "duration": 20,
    "start_time": "2022-04-30T19:14:04.400Z"
   },
   {
    "duration": 6,
    "start_time": "2022-04-30T19:14:04.422Z"
   },
   {
    "duration": 9,
    "start_time": "2022-04-30T19:14:04.430Z"
   },
   {
    "duration": 179,
    "start_time": "2022-04-30T19:14:13.095Z"
   },
   {
    "duration": 16,
    "start_time": "2022-04-30T19:14:13.276Z"
   },
   {
    "duration": 33,
    "start_time": "2022-04-30T19:14:13.294Z"
   },
   {
    "duration": 100,
    "start_time": "2022-04-30T19:14:13.329Z"
   },
   {
    "duration": 120,
    "start_time": "2022-04-30T19:14:13.431Z"
   },
   {
    "duration": 133,
    "start_time": "2022-04-30T19:14:13.553Z"
   },
   {
    "duration": 3,
    "start_time": "2022-04-30T19:14:13.687Z"
   },
   {
    "duration": 2300,
    "start_time": "2022-04-30T19:14:39.410Z"
   },
   {
    "duration": 1644,
    "start_time": "2022-04-30T19:14:41.712Z"
   },
   {
    "duration": 3,
    "start_time": "2022-04-30T19:14:43.358Z"
   },
   {
    "duration": 804,
    "start_time": "2022-04-30T19:14:43.363Z"
   },
   {
    "duration": 2,
    "start_time": "2022-04-30T19:14:44.169Z"
   },
   {
    "duration": 21,
    "start_time": "2022-04-30T19:14:44.173Z"
   },
   {
    "duration": 142,
    "start_time": "2022-04-30T19:14:44.195Z"
   },
   {
    "duration": 3,
    "start_time": "2022-04-30T19:14:44.339Z"
   },
   {
    "duration": 139,
    "start_time": "2022-04-30T19:14:44.344Z"
   },
   {
    "duration": 467,
    "start_time": "2022-04-30T19:14:44.485Z"
   },
   {
    "duration": 100,
    "start_time": "2022-04-30T19:14:44.954Z"
   },
   {
    "duration": 744,
    "start_time": "2022-04-30T19:14:46.328Z"
   },
   {
    "duration": 556,
    "start_time": "2022-04-30T19:14:47.074Z"
   },
   {
    "duration": 20,
    "start_time": "2022-04-30T19:14:47.632Z"
   },
   {
    "duration": 14,
    "start_time": "2022-04-30T19:14:49.241Z"
   },
   {
    "duration": 447,
    "start_time": "2022-04-30T19:14:49.257Z"
   },
   {
    "duration": 114,
    "start_time": "2022-04-30T19:14:49.706Z"
   },
   {
    "duration": 10,
    "start_time": "2022-04-30T19:14:49.823Z"
   },
   {
    "duration": 107,
    "start_time": "2022-04-30T19:14:52.123Z"
   },
   {
    "duration": 20,
    "start_time": "2022-04-30T19:14:52.232Z"
   },
   {
    "duration": 19,
    "start_time": "2022-04-30T19:14:55.040Z"
   },
   {
    "duration": 17,
    "start_time": "2022-04-30T19:14:55.061Z"
   },
   {
    "duration": 19,
    "start_time": "2022-04-30T19:14:55.080Z"
   },
   {
    "duration": 21,
    "start_time": "2022-04-30T19:14:55.101Z"
   },
   {
    "duration": 20,
    "start_time": "2022-04-30T19:14:58.039Z"
   },
   {
    "duration": 6,
    "start_time": "2022-04-30T19:14:58.061Z"
   },
   {
    "duration": 10,
    "start_time": "2022-04-30T19:15:00.800Z"
   },
   {
    "duration": 90,
    "start_time": "2022-04-30T19:15:00.812Z"
   },
   {
    "duration": 21,
    "start_time": "2022-04-30T19:15:02.496Z"
   },
   {
    "duration": 2568,
    "start_time": "2022-04-30T19:15:02.519Z"
   },
   {
    "duration": 188,
    "start_time": "2022-04-30T19:15:05.089Z"
   },
   {
    "duration": 16,
    "start_time": "2022-04-30T19:15:05.278Z"
   },
   {
    "duration": 35,
    "start_time": "2022-04-30T19:15:05.296Z"
   },
   {
    "duration": 104,
    "start_time": "2022-04-30T19:15:05.333Z"
   },
   {
    "duration": 119,
    "start_time": "2022-04-30T19:15:05.487Z"
   },
   {
    "duration": 124,
    "start_time": "2022-04-30T19:15:05.608Z"
   },
   {
    "duration": 3,
    "start_time": "2022-04-30T19:15:05.734Z"
   },
   {
    "duration": 29,
    "start_time": "2022-04-30T19:15:06.041Z"
   },
   {
    "duration": 4,
    "start_time": "2022-04-30T19:15:06.072Z"
   },
   {
    "duration": 6,
    "start_time": "2022-04-30T19:15:06.077Z"
   },
   {
    "duration": 74,
    "start_time": "2022-04-30T19:15:06.084Z"
   },
   {
    "duration": 4,
    "start_time": "2022-04-30T19:15:06.161Z"
   },
   {
    "duration": 8,
    "start_time": "2022-04-30T19:15:06.166Z"
   },
   {
    "duration": 5,
    "start_time": "2022-04-30T19:15:06.175Z"
   },
   {
    "duration": 5,
    "start_time": "2022-04-30T19:15:06.182Z"
   },
   {
    "duration": 50,
    "start_time": "2022-04-30T19:15:06.188Z"
   },
   {
    "duration": 3,
    "start_time": "2022-04-30T19:15:06.240Z"
   },
   {
    "duration": 7,
    "start_time": "2022-04-30T19:15:06.245Z"
   },
   {
    "duration": 7,
    "start_time": "2022-04-30T19:15:06.253Z"
   },
   {
    "duration": 7,
    "start_time": "2022-04-30T19:15:06.262Z"
   },
   {
    "duration": 847,
    "start_time": "2022-04-30T19:15:06.271Z"
   },
   {
    "duration": 3,
    "start_time": "2022-04-30T19:15:07.122Z"
   },
   {
    "duration": 391,
    "start_time": "2022-04-30T19:15:07.127Z"
   },
   {
    "duration": 105,
    "start_time": "2022-04-30T19:15:07.521Z"
   },
   {
    "duration": 4,
    "start_time": "2022-04-30T19:15:07.627Z"
   },
   {
    "duration": 5,
    "start_time": "2022-04-30T19:15:07.633Z"
   },
   {
    "duration": 10,
    "start_time": "2022-04-30T19:15:07.639Z"
   },
   {
    "duration": 4,
    "start_time": "2022-04-30T19:15:07.651Z"
   },
   {
    "duration": 7,
    "start_time": "2022-04-30T19:15:07.657Z"
   },
   {
    "duration": 5,
    "start_time": "2022-04-30T19:15:07.667Z"
   },
   {
    "duration": 2289,
    "start_time": "2022-04-30T19:15:07.674Z"
   },
   {
    "duration": 23070,
    "start_time": "2022-04-30T19:15:09.965Z"
   },
   {
    "duration": 5,
    "start_time": "2022-04-30T19:15:33.124Z"
   },
   {
    "duration": 705,
    "start_time": "2022-04-30T19:15:33.131Z"
   },
   {
    "duration": 4,
    "start_time": "2022-04-30T19:15:33.838Z"
   },
   {
    "duration": 48,
    "start_time": "2022-04-30T19:15:33.844Z"
   },
   {
    "duration": 28,
    "start_time": "2022-04-30T19:15:33.894Z"
   },
   {
    "duration": 4,
    "start_time": "2022-04-30T19:15:33.924Z"
   },
   {
    "duration": 14,
    "start_time": "2022-04-30T19:15:33.930Z"
   },
   {
    "duration": 7,
    "start_time": "2022-04-30T19:15:33.945Z"
   },
   {
    "duration": 11,
    "start_time": "2022-04-30T19:15:33.953Z"
   },
   {
    "duration": 6,
    "start_time": "2022-04-30T19:15:33.966Z"
   },
   {
    "duration": 11,
    "start_time": "2022-04-30T19:15:33.974Z"
   },
   {
    "duration": 87,
    "start_time": "2022-04-30T19:15:33.987Z"
   },
   {
    "duration": 36045,
    "start_time": "2022-04-30T19:15:34.076Z"
   },
   {
    "duration": 3,
    "start_time": "2022-04-30T19:16:10.123Z"
   },
   {
    "duration": 7,
    "start_time": "2022-04-30T19:16:10.127Z"
   },
   {
    "duration": 3,
    "start_time": "2022-04-30T19:16:10.138Z"
   },
   {
    "duration": 6,
    "start_time": "2022-04-30T19:16:10.143Z"
   },
   {
    "duration": 135,
    "start_time": "2022-04-30T19:16:10.150Z"
   },
   {
    "duration": 0,
    "start_time": "2022-04-30T19:16:10.288Z"
   },
   {
    "duration": 0,
    "start_time": "2022-04-30T19:16:10.290Z"
   },
   {
    "duration": 0,
    "start_time": "2022-04-30T19:16:10.291Z"
   },
   {
    "duration": 0,
    "start_time": "2022-04-30T19:16:10.292Z"
   },
   {
    "duration": 0,
    "start_time": "2022-04-30T19:16:10.294Z"
   },
   {
    "duration": 0,
    "start_time": "2022-04-30T19:16:10.295Z"
   },
   {
    "duration": 0,
    "start_time": "2022-04-30T19:16:10.297Z"
   },
   {
    "duration": 0,
    "start_time": "2022-04-30T19:16:10.298Z"
   },
   {
    "duration": 0,
    "start_time": "2022-04-30T19:16:10.323Z"
   },
   {
    "duration": 2373,
    "start_time": "2022-04-30T19:16:59.709Z"
   },
   {
    "duration": 1624,
    "start_time": "2022-04-30T19:17:02.084Z"
   },
   {
    "duration": 3,
    "start_time": "2022-04-30T19:17:03.710Z"
   },
   {
    "duration": 862,
    "start_time": "2022-04-30T19:17:03.723Z"
   },
   {
    "duration": 3,
    "start_time": "2022-04-30T19:17:04.587Z"
   },
   {
    "duration": 30,
    "start_time": "2022-04-30T19:17:04.592Z"
   },
   {
    "duration": 150,
    "start_time": "2022-04-30T19:17:04.624Z"
   },
   {
    "duration": 3,
    "start_time": "2022-04-30T19:17:04.776Z"
   },
   {
    "duration": 145,
    "start_time": "2022-04-30T19:17:04.781Z"
   },
   {
    "duration": 480,
    "start_time": "2022-04-30T19:17:04.929Z"
   },
   {
    "duration": 94,
    "start_time": "2022-04-30T19:17:05.410Z"
   },
   {
    "duration": 794,
    "start_time": "2022-04-30T19:17:05.506Z"
   },
   {
    "duration": 574,
    "start_time": "2022-04-30T19:17:06.302Z"
   },
   {
    "duration": 21,
    "start_time": "2022-04-30T19:17:06.878Z"
   },
   {
    "duration": 28,
    "start_time": "2022-04-30T19:17:06.901Z"
   },
   {
    "duration": 477,
    "start_time": "2022-04-30T19:17:06.931Z"
   },
   {
    "duration": 119,
    "start_time": "2022-04-30T19:17:07.409Z"
   },
   {
    "duration": 10,
    "start_time": "2022-04-30T19:17:07.893Z"
   },
   {
    "duration": 93,
    "start_time": "2022-04-30T19:17:07.905Z"
   },
   {
    "duration": 23,
    "start_time": "2022-04-30T19:17:07.999Z"
   },
   {
    "duration": 20,
    "start_time": "2022-04-30T19:17:08.024Z"
   },
   {
    "duration": 21,
    "start_time": "2022-04-30T19:17:08.327Z"
   },
   {
    "duration": 23,
    "start_time": "2022-04-30T19:17:08.350Z"
   },
   {
    "duration": 21,
    "start_time": "2022-04-30T19:17:08.375Z"
   },
   {
    "duration": 35,
    "start_time": "2022-04-30T19:17:08.398Z"
   },
   {
    "duration": 6,
    "start_time": "2022-04-30T19:17:08.435Z"
   },
   {
    "duration": 18,
    "start_time": "2022-04-30T19:17:08.443Z"
   },
   {
    "duration": 70,
    "start_time": "2022-04-30T19:17:09.134Z"
   },
   {
    "duration": 20,
    "start_time": "2022-04-30T19:17:09.205Z"
   },
   {
    "duration": 2572,
    "start_time": "2022-04-30T19:17:09.227Z"
   },
   {
    "duration": 182,
    "start_time": "2022-04-30T19:17:11.801Z"
   },
   {
    "duration": 16,
    "start_time": "2022-04-30T19:17:11.985Z"
   },
   {
    "duration": 32,
    "start_time": "2022-04-30T19:17:12.003Z"
   },
   {
    "duration": 115,
    "start_time": "2022-04-30T19:17:12.037Z"
   },
   {
    "duration": 119,
    "start_time": "2022-04-30T19:17:12.295Z"
   },
   {
    "duration": 133,
    "start_time": "2022-04-30T19:17:12.416Z"
   },
   {
    "duration": 3,
    "start_time": "2022-04-30T19:17:12.550Z"
   },
   {
    "duration": 38,
    "start_time": "2022-04-30T19:17:12.555Z"
   },
   {
    "duration": 4,
    "start_time": "2022-04-30T19:17:12.595Z"
   },
   {
    "duration": 4,
    "start_time": "2022-04-30T19:17:12.836Z"
   },
   {
    "duration": 68,
    "start_time": "2022-04-30T19:17:12.842Z"
   },
   {
    "duration": 4,
    "start_time": "2022-04-30T19:17:12.912Z"
   },
   {
    "duration": 4,
    "start_time": "2022-04-30T19:17:13.329Z"
   },
   {
    "duration": 5,
    "start_time": "2022-04-30T19:17:13.335Z"
   },
   {
    "duration": 7,
    "start_time": "2022-04-30T19:17:13.342Z"
   },
   {
    "duration": 32,
    "start_time": "2022-04-30T19:17:13.351Z"
   },
   {
    "duration": 4,
    "start_time": "2022-04-30T19:17:13.386Z"
   },
   {
    "duration": 32,
    "start_time": "2022-04-30T19:17:13.392Z"
   },
   {
    "duration": 8,
    "start_time": "2022-04-30T19:17:13.426Z"
   },
   {
    "duration": 9,
    "start_time": "2022-04-30T19:17:13.436Z"
   },
   {
    "duration": 903,
    "start_time": "2022-04-30T19:17:13.539Z"
   },
   {
    "duration": 5,
    "start_time": "2022-04-30T19:17:14.444Z"
   },
   {
    "duration": 399,
    "start_time": "2022-04-30T19:17:14.450Z"
   },
   {
    "duration": 105,
    "start_time": "2022-04-30T19:17:14.852Z"
   },
   {
    "duration": 4,
    "start_time": "2022-04-30T19:17:14.959Z"
   },
   {
    "duration": 4,
    "start_time": "2022-04-30T19:17:16.094Z"
   },
   {
    "duration": 5,
    "start_time": "2022-04-30T19:17:16.100Z"
   },
   {
    "duration": 4,
    "start_time": "2022-04-30T19:17:16.107Z"
   },
   {
    "duration": 4,
    "start_time": "2022-04-30T19:17:17.424Z"
   },
   {
    "duration": 8,
    "start_time": "2022-04-30T19:17:17.430Z"
   },
   {
    "duration": 2693,
    "start_time": "2022-04-30T19:17:17.440Z"
   },
   {
    "duration": 22591,
    "start_time": "2022-04-30T19:17:20.135Z"
   },
   {
    "duration": 94,
    "start_time": "2022-04-30T19:17:42.729Z"
   },
   {
    "duration": 1142,
    "start_time": "2022-04-30T19:17:42.826Z"
   },
   {
    "duration": 4,
    "start_time": "2022-04-30T19:17:43.970Z"
   },
   {
    "duration": 53,
    "start_time": "2022-04-30T19:17:43.976Z"
   },
   {
    "duration": 22,
    "start_time": "2022-04-30T19:17:44.031Z"
   },
   {
    "duration": 13,
    "start_time": "2022-04-30T19:17:44.054Z"
   },
   {
    "duration": 12,
    "start_time": "2022-04-30T19:17:44.069Z"
   },
   {
    "duration": 16,
    "start_time": "2022-04-30T19:17:44.083Z"
   },
   {
    "duration": 22,
    "start_time": "2022-04-30T19:17:44.100Z"
   },
   {
    "duration": 16,
    "start_time": "2022-04-30T19:17:44.126Z"
   },
   {
    "duration": 22,
    "start_time": "2022-04-30T19:17:44.144Z"
   },
   {
    "duration": 82,
    "start_time": "2022-04-30T19:17:44.168Z"
   },
   {
    "duration": 38582,
    "start_time": "2022-04-30T19:17:44.252Z"
   },
   {
    "duration": 2,
    "start_time": "2022-04-30T19:18:22.836Z"
   },
   {
    "duration": 7,
    "start_time": "2022-04-30T19:18:22.840Z"
   },
   {
    "duration": 6,
    "start_time": "2022-04-30T19:18:22.849Z"
   },
   {
    "duration": 7,
    "start_time": "2022-04-30T19:18:22.856Z"
   },
   {
    "duration": 126,
    "start_time": "2022-04-30T19:18:22.865Z"
   },
   {
    "duration": 0,
    "start_time": "2022-04-30T19:18:22.993Z"
   },
   {
    "duration": 0,
    "start_time": "2022-04-30T19:18:22.994Z"
   },
   {
    "duration": 0,
    "start_time": "2022-04-30T19:18:22.995Z"
   },
   {
    "duration": 0,
    "start_time": "2022-04-30T19:18:22.996Z"
   },
   {
    "duration": 0,
    "start_time": "2022-04-30T19:18:22.997Z"
   },
   {
    "duration": 0,
    "start_time": "2022-04-30T19:18:22.998Z"
   },
   {
    "duration": 0,
    "start_time": "2022-04-30T19:18:22.999Z"
   },
   {
    "duration": 0,
    "start_time": "2022-04-30T19:18:23.001Z"
   },
   {
    "duration": 0,
    "start_time": "2022-04-30T19:18:23.002Z"
   },
   {
    "duration": 2343,
    "start_time": "2022-04-30T19:18:48.986Z"
   },
   {
    "duration": 1527,
    "start_time": "2022-04-30T19:18:51.332Z"
   },
   {
    "duration": 4,
    "start_time": "2022-04-30T19:18:52.861Z"
   },
   {
    "duration": 822,
    "start_time": "2022-04-30T19:18:54.960Z"
   },
   {
    "duration": 4,
    "start_time": "2022-04-30T19:18:55.784Z"
   },
   {
    "duration": 17,
    "start_time": "2022-04-30T19:18:55.790Z"
   },
   {
    "duration": 147,
    "start_time": "2022-04-30T19:18:55.823Z"
   },
   {
    "duration": 4,
    "start_time": "2022-04-30T19:18:55.972Z"
   },
   {
    "duration": 144,
    "start_time": "2022-04-30T19:18:55.977Z"
   },
   {
    "duration": 474,
    "start_time": "2022-04-30T19:18:56.123Z"
   },
   {
    "duration": 93,
    "start_time": "2022-04-30T19:18:56.599Z"
   },
   {
    "duration": 743,
    "start_time": "2022-04-30T19:18:56.693Z"
   },
   {
    "duration": 594,
    "start_time": "2022-04-30T19:18:57.438Z"
   },
   {
    "duration": 20,
    "start_time": "2022-04-30T19:18:58.034Z"
   },
   {
    "duration": 15,
    "start_time": "2022-04-30T19:18:58.057Z"
   },
   {
    "duration": 481,
    "start_time": "2022-04-30T19:18:58.073Z"
   },
   {
    "duration": 115,
    "start_time": "2022-04-30T19:18:58.555Z"
   },
   {
    "duration": 10,
    "start_time": "2022-04-30T19:18:58.672Z"
   },
   {
    "duration": 109,
    "start_time": "2022-04-30T19:18:58.684Z"
   },
   {
    "duration": 19,
    "start_time": "2022-04-30T19:18:58.794Z"
   },
   {
    "duration": 21,
    "start_time": "2022-04-30T19:18:58.822Z"
   },
   {
    "duration": 20,
    "start_time": "2022-04-30T19:18:58.844Z"
   },
   {
    "duration": 20,
    "start_time": "2022-04-30T19:18:58.866Z"
   },
   {
    "duration": 42,
    "start_time": "2022-04-30T19:18:58.888Z"
   },
   {
    "duration": 20,
    "start_time": "2022-04-30T19:18:58.931Z"
   },
   {
    "duration": 7,
    "start_time": "2022-04-30T19:19:00.426Z"
   },
   {
    "duration": 13,
    "start_time": "2022-04-30T19:19:00.435Z"
   },
   {
    "duration": 83,
    "start_time": "2022-04-30T19:19:00.449Z"
   },
   {
    "duration": 19,
    "start_time": "2022-04-30T19:19:00.534Z"
   },
   {
    "duration": 2438,
    "start_time": "2022-04-30T19:19:00.555Z"
   },
   {
    "duration": 177,
    "start_time": "2022-04-30T19:19:02.995Z"
   },
   {
    "duration": 15,
    "start_time": "2022-04-30T19:19:03.174Z"
   },
   {
    "duration": 38,
    "start_time": "2022-04-30T19:19:03.191Z"
   },
   {
    "duration": 112,
    "start_time": "2022-04-30T19:19:03.231Z"
   },
   {
    "duration": 138,
    "start_time": "2022-04-30T19:19:03.346Z"
   },
   {
    "duration": 147,
    "start_time": "2022-04-30T19:19:03.487Z"
   },
   {
    "duration": 3,
    "start_time": "2022-04-30T19:19:03.636Z"
   },
   {
    "duration": 32,
    "start_time": "2022-04-30T19:19:03.644Z"
   },
   {
    "duration": 5,
    "start_time": "2022-04-30T19:19:03.678Z"
   },
   {
    "duration": 245,
    "start_time": "2022-04-30T19:19:03.684Z"
   },
   {
    "duration": 96,
    "start_time": "2022-04-30T19:19:03.934Z"
   },
   {
    "duration": 5,
    "start_time": "2022-04-30T19:19:04.032Z"
   },
   {
    "duration": 16,
    "start_time": "2022-04-30T19:19:04.039Z"
   },
   {
    "duration": 22,
    "start_time": "2022-04-30T19:19:04.057Z"
   },
   {
    "duration": 18,
    "start_time": "2022-04-30T19:19:04.081Z"
   },
   {
    "duration": 53,
    "start_time": "2022-04-30T19:19:04.101Z"
   },
   {
    "duration": 4,
    "start_time": "2022-04-30T19:19:04.156Z"
   },
   {
    "duration": 15,
    "start_time": "2022-04-30T19:19:04.162Z"
   },
   {
    "duration": 17,
    "start_time": "2022-04-30T19:19:04.178Z"
   },
   {
    "duration": 17,
    "start_time": "2022-04-30T19:19:04.198Z"
   },
   {
    "duration": 922,
    "start_time": "2022-04-30T19:19:04.216Z"
   },
   {
    "duration": 4,
    "start_time": "2022-04-30T19:19:05.140Z"
   },
   {
    "duration": 406,
    "start_time": "2022-04-30T19:19:05.145Z"
   },
   {
    "duration": 104,
    "start_time": "2022-04-30T19:19:05.554Z"
   },
   {
    "duration": 4,
    "start_time": "2022-04-30T19:19:05.660Z"
   },
   {
    "duration": 19,
    "start_time": "2022-04-30T19:19:05.666Z"
   },
   {
    "duration": 31,
    "start_time": "2022-04-30T19:19:05.687Z"
   },
   {
    "duration": 39,
    "start_time": "2022-04-30T19:19:05.721Z"
   },
   {
    "duration": 17,
    "start_time": "2022-04-30T19:19:05.762Z"
   },
   {
    "duration": 4,
    "start_time": "2022-04-30T19:19:06.303Z"
   },
   {
    "duration": 2251,
    "start_time": "2022-04-30T19:19:06.309Z"
   },
   {
    "duration": 21876,
    "start_time": "2022-04-30T19:19:08.562Z"
   },
   {
    "duration": 5,
    "start_time": "2022-04-30T19:19:30.524Z"
   },
   {
    "duration": 750,
    "start_time": "2022-04-30T19:19:30.532Z"
   },
   {
    "duration": 5,
    "start_time": "2022-04-30T19:19:31.284Z"
   },
   {
    "duration": 56,
    "start_time": "2022-04-30T19:19:31.290Z"
   },
   {
    "duration": 20,
    "start_time": "2022-04-30T19:19:31.348Z"
   },
   {
    "duration": 6,
    "start_time": "2022-04-30T19:19:31.370Z"
   },
   {
    "duration": 19,
    "start_time": "2022-04-30T19:19:31.378Z"
   },
   {
    "duration": 9,
    "start_time": "2022-04-30T19:19:31.399Z"
   },
   {
    "duration": 7,
    "start_time": "2022-04-30T19:19:31.409Z"
   },
   {
    "duration": 4,
    "start_time": "2022-04-30T19:19:31.422Z"
   },
   {
    "duration": 14,
    "start_time": "2022-04-30T19:19:31.429Z"
   },
   {
    "duration": 83,
    "start_time": "2022-04-30T19:19:31.444Z"
   },
   {
    "duration": 24395,
    "start_time": "2022-04-30T19:19:31.528Z"
   },
   {
    "duration": 0,
    "start_time": "2022-04-30T19:19:55.925Z"
   },
   {
    "duration": 0,
    "start_time": "2022-04-30T19:19:55.925Z"
   },
   {
    "duration": 0,
    "start_time": "2022-04-30T19:19:55.926Z"
   },
   {
    "duration": 0,
    "start_time": "2022-04-30T19:19:55.927Z"
   },
   {
    "duration": 0,
    "start_time": "2022-04-30T19:19:55.928Z"
   },
   {
    "duration": 0,
    "start_time": "2022-04-30T19:19:55.929Z"
   },
   {
    "duration": 0,
    "start_time": "2022-04-30T19:19:55.930Z"
   },
   {
    "duration": 0,
    "start_time": "2022-04-30T19:19:55.931Z"
   },
   {
    "duration": 0,
    "start_time": "2022-04-30T19:19:55.932Z"
   },
   {
    "duration": 0,
    "start_time": "2022-04-30T19:19:55.932Z"
   },
   {
    "duration": 0,
    "start_time": "2022-04-30T19:19:55.933Z"
   },
   {
    "duration": 0,
    "start_time": "2022-04-30T19:19:55.934Z"
   },
   {
    "duration": 0,
    "start_time": "2022-04-30T19:19:55.935Z"
   },
   {
    "duration": 0,
    "start_time": "2022-04-30T19:19:55.936Z"
   },
   {
    "duration": 2438,
    "start_time": "2022-04-30T19:20:21.771Z"
   },
   {
    "duration": 1713,
    "start_time": "2022-04-30T19:20:24.212Z"
   },
   {
    "duration": 3,
    "start_time": "2022-04-30T19:20:25.927Z"
   },
   {
    "duration": 880,
    "start_time": "2022-04-30T19:20:25.932Z"
   },
   {
    "duration": 3,
    "start_time": "2022-04-30T19:20:26.814Z"
   },
   {
    "duration": 22,
    "start_time": "2022-04-30T19:20:26.821Z"
   },
   {
    "duration": 142,
    "start_time": "2022-04-30T19:20:26.845Z"
   },
   {
    "duration": 5,
    "start_time": "2022-04-30T19:20:26.988Z"
   },
   {
    "duration": 142,
    "start_time": "2022-04-30T19:20:26.994Z"
   },
   {
    "duration": 485,
    "start_time": "2022-04-30T19:20:27.138Z"
   },
   {
    "duration": 98,
    "start_time": "2022-04-30T19:20:27.625Z"
   },
   {
    "duration": 753,
    "start_time": "2022-04-30T19:20:27.725Z"
   },
   {
    "duration": 564,
    "start_time": "2022-04-30T19:20:28.480Z"
   },
   {
    "duration": 22,
    "start_time": "2022-04-30T19:20:29.045Z"
   },
   {
    "duration": 114,
    "start_time": "2022-04-30T19:20:29.069Z"
   },
   {
    "duration": 16,
    "start_time": "2022-04-30T19:20:29.185Z"
   },
   {
    "duration": 471,
    "start_time": "2022-04-30T19:20:29.202Z"
   },
   {
    "duration": 118,
    "start_time": "2022-04-30T19:20:29.675Z"
   },
   {
    "duration": 10,
    "start_time": "2022-04-30T19:20:29.794Z"
   },
   {
    "duration": 107,
    "start_time": "2022-04-30T19:20:29.806Z"
   },
   {
    "duration": 23,
    "start_time": "2022-04-30T19:20:29.914Z"
   },
   {
    "duration": 22,
    "start_time": "2022-04-30T19:20:29.939Z"
   },
   {
    "duration": 20,
    "start_time": "2022-04-30T19:20:29.962Z"
   },
   {
    "duration": 19,
    "start_time": "2022-04-30T19:20:29.983Z"
   },
   {
    "duration": 19,
    "start_time": "2022-04-30T19:20:30.023Z"
   },
   {
    "duration": 21,
    "start_time": "2022-04-30T19:20:30.044Z"
   },
   {
    "duration": 6,
    "start_time": "2022-04-30T19:20:31.414Z"
   },
   {
    "duration": 9,
    "start_time": "2022-04-30T19:20:31.423Z"
   },
   {
    "duration": 71,
    "start_time": "2022-04-30T19:20:31.434Z"
   },
   {
    "duration": 34,
    "start_time": "2022-04-30T19:20:31.506Z"
   },
   {
    "duration": 3265,
    "start_time": "2022-04-30T19:20:31.543Z"
   },
   {
    "duration": 213,
    "start_time": "2022-04-30T19:20:34.809Z"
   },
   {
    "duration": 14,
    "start_time": "2022-04-30T19:20:35.024Z"
   },
   {
    "duration": 17,
    "start_time": "2022-04-30T19:20:35.040Z"
   },
   {
    "duration": 112,
    "start_time": "2022-04-30T19:20:35.058Z"
   },
   {
    "duration": 119,
    "start_time": "2022-04-30T19:20:35.172Z"
   },
   {
    "duration": 135,
    "start_time": "2022-04-30T19:20:35.293Z"
   },
   {
    "duration": 3,
    "start_time": "2022-04-30T19:20:35.430Z"
   },
   {
    "duration": 32,
    "start_time": "2022-04-30T19:20:35.435Z"
   },
   {
    "duration": 4,
    "start_time": "2022-04-30T19:20:35.469Z"
   },
   {
    "duration": 6,
    "start_time": "2022-04-30T19:20:35.475Z"
   },
   {
    "duration": 101,
    "start_time": "2022-04-30T19:20:35.483Z"
   },
   {
    "duration": 4,
    "start_time": "2022-04-30T19:20:35.586Z"
   },
   {
    "duration": 10,
    "start_time": "2022-04-30T19:20:35.591Z"
   },
   {
    "duration": 14,
    "start_time": "2022-04-30T19:20:35.603Z"
   },
   {
    "duration": 5,
    "start_time": "2022-04-30T19:20:35.618Z"
   },
   {
    "duration": 33,
    "start_time": "2022-04-30T19:20:35.625Z"
   },
   {
    "duration": 3,
    "start_time": "2022-04-30T19:20:35.660Z"
   },
   {
    "duration": 5,
    "start_time": "2022-04-30T19:20:35.665Z"
   },
   {
    "duration": 9,
    "start_time": "2022-04-30T19:20:35.672Z"
   },
   {
    "duration": 7,
    "start_time": "2022-04-30T19:20:35.683Z"
   },
   {
    "duration": 1254,
    "start_time": "2022-04-30T19:20:35.692Z"
   },
   {
    "duration": 4,
    "start_time": "2022-04-30T19:20:36.948Z"
   },
   {
    "duration": 400,
    "start_time": "2022-04-30T19:20:37.451Z"
   },
   {
    "duration": 105,
    "start_time": "2022-04-30T19:20:37.853Z"
   },
   {
    "duration": 4,
    "start_time": "2022-04-30T19:20:37.960Z"
   },
   {
    "duration": 8,
    "start_time": "2022-04-30T19:20:37.965Z"
   },
   {
    "duration": 11,
    "start_time": "2022-04-30T19:20:37.975Z"
   },
   {
    "duration": 5,
    "start_time": "2022-04-30T19:20:37.987Z"
   },
   {
    "duration": 9,
    "start_time": "2022-04-30T19:20:37.994Z"
   },
   {
    "duration": 5,
    "start_time": "2022-04-30T19:20:39.735Z"
   },
   {
    "duration": 2288,
    "start_time": "2022-04-30T19:20:39.742Z"
   },
   {
    "duration": 18791,
    "start_time": "2022-04-30T19:20:42.032Z"
   },
   {
    "duration": 6,
    "start_time": "2022-04-30T19:21:00.826Z"
   },
   {
    "duration": 657,
    "start_time": "2022-04-30T19:21:00.924Z"
   },
   {
    "duration": 4,
    "start_time": "2022-04-30T19:21:01.583Z"
   },
   {
    "duration": 50,
    "start_time": "2022-04-30T19:21:01.588Z"
   },
   {
    "duration": 20,
    "start_time": "2022-04-30T19:21:01.640Z"
   },
   {
    "duration": 4,
    "start_time": "2022-04-30T19:21:01.662Z"
   },
   {
    "duration": 12,
    "start_time": "2022-04-30T19:21:01.667Z"
   },
   {
    "duration": 5,
    "start_time": "2022-04-30T19:21:01.681Z"
   },
   {
    "duration": 10,
    "start_time": "2022-04-30T19:21:01.687Z"
   },
   {
    "duration": 24,
    "start_time": "2022-04-30T19:21:01.699Z"
   },
   {
    "duration": 13,
    "start_time": "2022-04-30T19:21:01.725Z"
   },
   {
    "duration": 79,
    "start_time": "2022-04-30T19:21:01.739Z"
   },
   {
    "duration": 2400,
    "start_time": "2022-04-30T19:21:10.460Z"
   },
   {
    "duration": 1685,
    "start_time": "2022-04-30T19:21:13.666Z"
   },
   {
    "duration": 3,
    "start_time": "2022-04-30T19:21:15.354Z"
   },
   {
    "duration": 886,
    "start_time": "2022-04-30T19:21:15.359Z"
   },
   {
    "duration": 2,
    "start_time": "2022-04-30T19:21:16.247Z"
   },
   {
    "duration": 19,
    "start_time": "2022-04-30T19:21:16.251Z"
   },
   {
    "duration": 155,
    "start_time": "2022-04-30T19:21:16.272Z"
   },
   {
    "duration": 4,
    "start_time": "2022-04-30T19:21:16.429Z"
   },
   {
    "duration": 142,
    "start_time": "2022-04-30T19:21:16.435Z"
   },
   {
    "duration": 502,
    "start_time": "2022-04-30T19:21:16.578Z"
   },
   {
    "duration": 96,
    "start_time": "2022-04-30T19:21:20.373Z"
   },
   {
    "duration": 794,
    "start_time": "2022-04-30T19:21:20.471Z"
   },
   {
    "duration": 569,
    "start_time": "2022-04-30T19:21:21.267Z"
   },
   {
    "duration": 20,
    "start_time": "2022-04-30T19:21:21.838Z"
   },
   {
    "duration": 99,
    "start_time": "2022-04-30T19:21:23.252Z"
   },
   {
    "duration": 19,
    "start_time": "2022-04-30T19:21:23.352Z"
   },
   {
    "duration": 529,
    "start_time": "2022-04-30T19:21:23.372Z"
   },
   {
    "duration": 111,
    "start_time": "2022-04-30T19:21:25.945Z"
   },
   {
    "duration": 10,
    "start_time": "2022-04-30T19:21:26.058Z"
   },
   {
    "duration": 109,
    "start_time": "2022-04-30T19:21:26.070Z"
   },
   {
    "duration": 20,
    "start_time": "2022-04-30T19:21:28.166Z"
   },
   {
    "duration": 20,
    "start_time": "2022-04-30T19:21:28.188Z"
   },
   {
    "duration": 20,
    "start_time": "2022-04-30T19:21:28.210Z"
   },
   {
    "duration": 20,
    "start_time": "2022-04-30T19:21:28.231Z"
   },
   {
    "duration": 22,
    "start_time": "2022-04-30T19:21:30.880Z"
   },
   {
    "duration": 32,
    "start_time": "2022-04-30T19:21:30.904Z"
   },
   {
    "duration": 7,
    "start_time": "2022-04-30T19:21:33.843Z"
   },
   {
    "duration": 18,
    "start_time": "2022-04-30T19:21:33.853Z"
   },
   {
    "duration": 92,
    "start_time": "2022-04-30T19:21:33.873Z"
   },
   {
    "duration": 23,
    "start_time": "2022-04-30T19:21:36.612Z"
   },
   {
    "duration": 2425,
    "start_time": "2022-04-30T19:21:36.637Z"
   },
   {
    "duration": 186,
    "start_time": "2022-04-30T19:21:39.064Z"
   },
   {
    "duration": 15,
    "start_time": "2022-04-30T19:21:39.252Z"
   },
   {
    "duration": 20,
    "start_time": "2022-04-30T19:21:39.270Z"
   },
   {
    "duration": 131,
    "start_time": "2022-04-30T19:21:39.292Z"
   },
   {
    "duration": 116,
    "start_time": "2022-04-30T19:21:39.425Z"
   },
   {
    "duration": 130,
    "start_time": "2022-04-30T19:21:39.542Z"
   },
   {
    "duration": 2,
    "start_time": "2022-04-30T19:21:39.675Z"
   },
   {
    "duration": 48,
    "start_time": "2022-04-30T19:21:39.679Z"
   },
   {
    "duration": 4,
    "start_time": "2022-04-30T19:21:39.729Z"
   },
   {
    "duration": 4,
    "start_time": "2022-04-30T19:21:40.441Z"
   },
   {
    "duration": 67,
    "start_time": "2022-04-30T19:21:40.448Z"
   },
   {
    "duration": 4,
    "start_time": "2022-04-30T19:21:40.517Z"
   },
   {
    "duration": 10,
    "start_time": "2022-04-30T19:21:40.524Z"
   },
   {
    "duration": 7,
    "start_time": "2022-04-30T19:21:40.536Z"
   },
   {
    "duration": 6,
    "start_time": "2022-04-30T19:21:40.545Z"
   },
   {
    "duration": 28,
    "start_time": "2022-04-30T19:21:40.553Z"
   },
   {
    "duration": 5,
    "start_time": "2022-04-30T19:21:40.583Z"
   },
   {
    "duration": 4,
    "start_time": "2022-04-30T19:21:40.979Z"
   },
   {
    "duration": 7,
    "start_time": "2022-04-30T19:21:40.985Z"
   },
   {
    "duration": 5,
    "start_time": "2022-04-30T19:21:40.994Z"
   },
   {
    "duration": 732,
    "start_time": "2022-04-30T19:21:41.521Z"
   },
   {
    "duration": 5,
    "start_time": "2022-04-30T19:21:42.255Z"
   },
   {
    "duration": 381,
    "start_time": "2022-04-30T19:21:43.705Z"
   },
   {
    "duration": 105,
    "start_time": "2022-04-30T19:21:44.089Z"
   },
   {
    "duration": 5,
    "start_time": "2022-04-30T19:21:44.196Z"
   },
   {
    "duration": 5,
    "start_time": "2022-04-30T19:21:44.203Z"
   },
   {
    "duration": 4,
    "start_time": "2022-04-30T19:21:44.223Z"
   },
   {
    "duration": 5,
    "start_time": "2022-04-30T19:21:44.229Z"
   },
   {
    "duration": 5,
    "start_time": "2022-04-30T19:21:44.236Z"
   },
   {
    "duration": 4,
    "start_time": "2022-04-30T19:21:44.242Z"
   },
   {
    "duration": 2316,
    "start_time": "2022-04-30T19:21:46.645Z"
   },
   {
    "duration": 2354,
    "start_time": "2022-04-30T19:22:16.053Z"
   },
   {
    "duration": 1627,
    "start_time": "2022-04-30T19:22:18.409Z"
   },
   {
    "duration": 3,
    "start_time": "2022-04-30T19:22:20.038Z"
   },
   {
    "duration": 965,
    "start_time": "2022-04-30T19:22:20.043Z"
   },
   {
    "duration": 3,
    "start_time": "2022-04-30T19:22:21.011Z"
   },
   {
    "duration": 18,
    "start_time": "2022-04-30T19:22:21.022Z"
   },
   {
    "duration": 163,
    "start_time": "2022-04-30T19:22:21.042Z"
   },
   {
    "duration": 5,
    "start_time": "2022-04-30T19:22:21.207Z"
   },
   {
    "duration": 146,
    "start_time": "2022-04-30T19:22:21.223Z"
   },
   {
    "duration": 493,
    "start_time": "2022-04-30T19:22:21.371Z"
   },
   {
    "duration": 101,
    "start_time": "2022-04-30T19:22:21.867Z"
   },
   {
    "duration": 757,
    "start_time": "2022-04-30T19:22:21.970Z"
   },
   {
    "duration": 573,
    "start_time": "2022-04-30T19:22:22.728Z"
   },
   {
    "duration": 26,
    "start_time": "2022-04-30T19:22:23.303Z"
   },
   {
    "duration": 95,
    "start_time": "2022-04-30T19:22:23.652Z"
   },
   {
    "duration": 19,
    "start_time": "2022-04-30T19:22:23.749Z"
   },
   {
    "duration": 232,
    "start_time": "2022-04-30T19:22:23.770Z"
   },
   {
    "duration": 119,
    "start_time": "2022-04-30T19:22:26.011Z"
   },
   {
    "duration": 10,
    "start_time": "2022-04-30T19:22:26.133Z"
   },
   {
    "duration": 95,
    "start_time": "2022-04-30T19:22:28.544Z"
   },
   {
    "duration": 19,
    "start_time": "2022-04-30T19:22:28.642Z"
   },
   {
    "duration": 20,
    "start_time": "2022-04-30T19:22:28.663Z"
   },
   {
    "duration": 20,
    "start_time": "2022-04-30T19:22:31.067Z"
   },
   {
    "duration": 20,
    "start_time": "2022-04-30T19:22:31.089Z"
   },
   {
    "duration": 26,
    "start_time": "2022-04-30T19:22:31.111Z"
   },
   {
    "duration": 18,
    "start_time": "2022-04-30T19:22:34.141Z"
   },
   {
    "duration": 6,
    "start_time": "2022-04-30T19:22:34.161Z"
   },
   {
    "duration": 8,
    "start_time": "2022-04-30T19:22:34.168Z"
   },
   {
    "duration": 68,
    "start_time": "2022-04-30T19:22:36.487Z"
   },
   {
    "duration": 20,
    "start_time": "2022-04-30T19:22:36.557Z"
   },
   {
    "duration": 2369,
    "start_time": "2022-04-30T19:22:39.136Z"
   },
   {
    "duration": 179,
    "start_time": "2022-04-30T19:22:41.507Z"
   },
   {
    "duration": 15,
    "start_time": "2022-04-30T19:22:41.688Z"
   },
   {
    "duration": 34,
    "start_time": "2022-04-30T19:22:41.705Z"
   },
   {
    "duration": 105,
    "start_time": "2022-04-30T19:22:41.741Z"
   },
   {
    "duration": 119,
    "start_time": "2022-04-30T19:22:41.848Z"
   },
   {
    "duration": 129,
    "start_time": "2022-04-30T19:22:41.968Z"
   },
   {
    "duration": 2,
    "start_time": "2022-04-30T19:22:42.099Z"
   },
   {
    "duration": 36,
    "start_time": "2022-04-30T19:22:42.103Z"
   },
   {
    "duration": 4,
    "start_time": "2022-04-30T19:22:42.141Z"
   },
   {
    "duration": 6,
    "start_time": "2022-04-30T19:22:42.146Z"
   },
   {
    "duration": 80,
    "start_time": "2022-04-30T19:22:42.154Z"
   },
   {
    "duration": 4,
    "start_time": "2022-04-30T19:22:42.236Z"
   },
   {
    "duration": 14,
    "start_time": "2022-04-30T19:22:42.242Z"
   },
   {
    "duration": 5,
    "start_time": "2022-04-30T19:22:42.258Z"
   },
   {
    "duration": 5,
    "start_time": "2022-04-30T19:22:42.265Z"
   },
   {
    "duration": 28,
    "start_time": "2022-04-30T19:22:42.271Z"
   },
   {
    "duration": 4,
    "start_time": "2022-04-30T19:22:42.301Z"
   },
   {
    "duration": 4,
    "start_time": "2022-04-30T19:22:42.405Z"
   },
   {
    "duration": 4,
    "start_time": "2022-04-30T19:22:42.411Z"
   },
   {
    "duration": 5,
    "start_time": "2022-04-30T19:22:42.417Z"
   },
   {
    "duration": 687,
    "start_time": "2022-04-30T19:22:42.853Z"
   },
   {
    "duration": 4,
    "start_time": "2022-04-30T19:22:43.542Z"
   },
   {
    "duration": 370,
    "start_time": "2022-04-30T19:22:48.265Z"
   },
   {
    "duration": 95,
    "start_time": "2022-04-30T19:22:48.637Z"
   },
   {
    "duration": 4,
    "start_time": "2022-04-30T19:22:48.734Z"
   },
   {
    "duration": 6,
    "start_time": "2022-04-30T19:22:48.740Z"
   },
   {
    "duration": 4,
    "start_time": "2022-04-30T19:22:48.748Z"
   },
   {
    "duration": 4,
    "start_time": "2022-04-30T19:22:48.754Z"
   },
   {
    "duration": 6,
    "start_time": "2022-04-30T19:22:48.760Z"
   },
   {
    "duration": 6,
    "start_time": "2022-04-30T19:22:48.768Z"
   },
   {
    "duration": 2211,
    "start_time": "2022-04-30T19:22:48.776Z"
   },
   {
    "duration": 18735,
    "start_time": "2022-04-30T19:22:50.988Z"
   },
   {
    "duration": 5,
    "start_time": "2022-04-30T19:23:09.726Z"
   },
   {
    "duration": 717,
    "start_time": "2022-04-30T19:23:09.824Z"
   },
   {
    "duration": 4,
    "start_time": "2022-04-30T19:23:10.543Z"
   },
   {
    "duration": 54,
    "start_time": "2022-04-30T19:23:10.551Z"
   },
   {
    "duration": 31,
    "start_time": "2022-04-30T19:23:10.606Z"
   },
   {
    "duration": 5,
    "start_time": "2022-04-30T19:23:10.639Z"
   },
   {
    "duration": 22,
    "start_time": "2022-04-30T19:23:10.645Z"
   },
   {
    "duration": 29,
    "start_time": "2022-04-30T19:23:10.669Z"
   },
   {
    "duration": 10,
    "start_time": "2022-04-30T19:23:10.700Z"
   },
   {
    "duration": 17,
    "start_time": "2022-04-30T19:23:10.711Z"
   },
   {
    "duration": 19,
    "start_time": "2022-04-30T19:23:10.730Z"
   },
   {
    "duration": 100,
    "start_time": "2022-04-30T19:23:10.751Z"
   },
   {
    "duration": 2256,
    "start_time": "2022-04-30T19:23:43.581Z"
   },
   {
    "duration": 1512,
    "start_time": "2022-04-30T19:23:47.260Z"
   },
   {
    "duration": 3,
    "start_time": "2022-04-30T19:23:48.774Z"
   },
   {
    "duration": 787,
    "start_time": "2022-04-30T19:23:49.654Z"
   },
   {
    "duration": 2,
    "start_time": "2022-04-30T19:23:50.443Z"
   },
   {
    "duration": 33,
    "start_time": "2022-04-30T19:23:50.447Z"
   },
   {
    "duration": 148,
    "start_time": "2022-04-30T19:23:50.851Z"
   },
   {
    "duration": 4,
    "start_time": "2022-04-30T19:23:51.001Z"
   },
   {
    "duration": 143,
    "start_time": "2022-04-30T19:23:51.006Z"
   },
   {
    "duration": 465,
    "start_time": "2022-04-30T19:23:51.150Z"
   },
   {
    "duration": 105,
    "start_time": "2022-04-30T19:23:51.622Z"
   },
   {
    "duration": 792,
    "start_time": "2022-04-30T19:23:53.263Z"
   },
   {
    "duration": 603,
    "start_time": "2022-04-30T19:23:54.057Z"
   },
   {
    "duration": 26,
    "start_time": "2022-04-30T19:23:54.662Z"
   },
   {
    "duration": 112,
    "start_time": "2022-04-30T19:23:54.690Z"
   },
   {
    "duration": 27,
    "start_time": "2022-04-30T19:23:54.805Z"
   },
   {
    "duration": 205,
    "start_time": "2022-04-30T19:23:54.834Z"
   },
   {
    "duration": 123,
    "start_time": "2022-04-30T19:23:55.041Z"
   },
   {
    "duration": 10,
    "start_time": "2022-04-30T19:23:55.166Z"
   },
   {
    "duration": 105,
    "start_time": "2022-04-30T19:23:55.177Z"
   },
   {
    "duration": 20,
    "start_time": "2022-04-30T19:23:57.051Z"
   },
   {
    "duration": 20,
    "start_time": "2022-04-30T19:23:57.073Z"
   },
   {
    "duration": 19,
    "start_time": "2022-04-30T19:23:57.094Z"
   },
   {
    "duration": 19,
    "start_time": "2022-04-30T19:23:57.115Z"
   },
   {
    "duration": 22,
    "start_time": "2022-04-30T19:23:57.136Z"
   },
   {
    "duration": 20,
    "start_time": "2022-04-30T19:23:57.160Z"
   },
   {
    "duration": 6,
    "start_time": "2022-04-30T19:23:57.182Z"
   },
   {
    "duration": 10,
    "start_time": "2022-04-30T19:23:59.432Z"
   },
   {
    "duration": 68,
    "start_time": "2022-04-30T19:23:59.444Z"
   },
   {
    "duration": 24,
    "start_time": "2022-04-30T19:23:59.514Z"
   },
   {
    "duration": 2497,
    "start_time": "2022-04-30T19:23:59.540Z"
   },
   {
    "duration": 175,
    "start_time": "2022-04-30T19:24:02.039Z"
   },
   {
    "duration": 15,
    "start_time": "2022-04-30T19:24:02.216Z"
   },
   {
    "duration": 18,
    "start_time": "2022-04-30T19:24:02.232Z"
   },
   {
    "duration": 98,
    "start_time": "2022-04-30T19:24:04.554Z"
   },
   {
    "duration": 120,
    "start_time": "2022-04-30T19:24:04.654Z"
   },
   {
    "duration": 128,
    "start_time": "2022-04-30T19:24:04.776Z"
   },
   {
    "duration": 3,
    "start_time": "2022-04-30T19:24:04.906Z"
   },
   {
    "duration": 38,
    "start_time": "2022-04-30T19:24:04.911Z"
   },
   {
    "duration": 4,
    "start_time": "2022-04-30T19:24:04.950Z"
   },
   {
    "duration": 5,
    "start_time": "2022-04-30T19:24:04.956Z"
   },
   {
    "duration": 85,
    "start_time": "2022-04-30T19:24:04.963Z"
   },
   {
    "duration": 4,
    "start_time": "2022-04-30T19:24:05.050Z"
   },
   {
    "duration": 6,
    "start_time": "2022-04-30T19:24:05.056Z"
   },
   {
    "duration": 13,
    "start_time": "2022-04-30T19:24:05.065Z"
   },
   {
    "duration": 5,
    "start_time": "2022-04-30T19:24:05.080Z"
   },
   {
    "duration": 51,
    "start_time": "2022-04-30T19:24:05.087Z"
   },
   {
    "duration": 4,
    "start_time": "2022-04-30T19:24:05.142Z"
   },
   {
    "duration": 18,
    "start_time": "2022-04-30T19:24:05.148Z"
   },
   {
    "duration": 12,
    "start_time": "2022-04-30T19:24:05.168Z"
   },
   {
    "duration": 11,
    "start_time": "2022-04-30T19:24:05.181Z"
   },
   {
    "duration": 954,
    "start_time": "2022-04-30T19:24:05.194Z"
   },
   {
    "duration": 5,
    "start_time": "2022-04-30T19:24:06.150Z"
   },
   {
    "duration": 400,
    "start_time": "2022-04-30T19:24:06.156Z"
   },
   {
    "duration": 104,
    "start_time": "2022-04-30T19:24:06.558Z"
   },
   {
    "duration": 3,
    "start_time": "2022-04-30T19:24:06.664Z"
   },
   {
    "duration": 18,
    "start_time": "2022-04-30T19:24:06.669Z"
   },
   {
    "duration": 27,
    "start_time": "2022-04-30T19:24:06.688Z"
   },
   {
    "duration": 20,
    "start_time": "2022-04-30T19:24:06.717Z"
   },
   {
    "duration": 25,
    "start_time": "2022-04-30T19:24:06.739Z"
   },
   {
    "duration": 17,
    "start_time": "2022-04-30T19:24:06.766Z"
   },
   {
    "duration": 3131,
    "start_time": "2022-04-30T19:24:06.785Z"
   },
   {
    "duration": 18905,
    "start_time": "2022-04-30T19:24:09.918Z"
   },
   {
    "duration": 6,
    "start_time": "2022-04-30T19:24:28.825Z"
   },
   {
    "duration": 640,
    "start_time": "2022-04-30T19:24:28.923Z"
   },
   {
    "duration": 4,
    "start_time": "2022-04-30T19:24:29.564Z"
   },
   {
    "duration": 52,
    "start_time": "2022-04-30T19:24:29.571Z"
   },
   {
    "duration": 20,
    "start_time": "2022-04-30T19:24:29.628Z"
   },
   {
    "duration": 4,
    "start_time": "2022-04-30T19:24:29.650Z"
   },
   {
    "duration": 5,
    "start_time": "2022-04-30T19:24:29.655Z"
   },
   {
    "duration": 5,
    "start_time": "2022-04-30T19:24:29.662Z"
   },
   {
    "duration": 5,
    "start_time": "2022-04-30T19:24:29.668Z"
   },
   {
    "duration": 8,
    "start_time": "2022-04-30T19:24:29.674Z"
   },
   {
    "duration": 9,
    "start_time": "2022-04-30T19:24:29.683Z"
   },
   {
    "duration": 103,
    "start_time": "2022-04-30T19:24:29.693Z"
   },
   {
    "duration": 35999,
    "start_time": "2022-04-30T19:24:29.798Z"
   },
   {
    "duration": 3,
    "start_time": "2022-04-30T19:25:05.799Z"
   },
   {
    "duration": 24,
    "start_time": "2022-04-30T19:25:05.804Z"
   },
   {
    "duration": 31,
    "start_time": "2022-04-30T19:25:05.830Z"
   },
   {
    "duration": 34,
    "start_time": "2022-04-30T19:25:05.863Z"
   },
   {
    "duration": 134,
    "start_time": "2022-04-30T19:25:05.899Z"
   },
   {
    "duration": 0,
    "start_time": "2022-04-30T19:25:06.035Z"
   },
   {
    "duration": 0,
    "start_time": "2022-04-30T19:25:06.036Z"
   },
   {
    "duration": 0,
    "start_time": "2022-04-30T19:25:06.038Z"
   },
   {
    "duration": 0,
    "start_time": "2022-04-30T19:25:06.039Z"
   },
   {
    "duration": 0,
    "start_time": "2022-04-30T19:25:06.040Z"
   },
   {
    "duration": 0,
    "start_time": "2022-04-30T19:25:06.042Z"
   },
   {
    "duration": 0,
    "start_time": "2022-04-30T19:25:06.042Z"
   },
   {
    "duration": 0,
    "start_time": "2022-04-30T19:25:06.043Z"
   },
   {
    "duration": 0,
    "start_time": "2022-04-30T19:25:06.045Z"
   },
   {
    "duration": 2445,
    "start_time": "2022-04-30T19:27:56.021Z"
   },
   {
    "duration": 1529,
    "start_time": "2022-04-30T19:27:58.469Z"
   },
   {
    "duration": 4,
    "start_time": "2022-04-30T19:28:00.000Z"
   },
   {
    "duration": 879,
    "start_time": "2022-04-30T19:28:00.006Z"
   },
   {
    "duration": 3,
    "start_time": "2022-04-30T19:28:00.887Z"
   },
   {
    "duration": 32,
    "start_time": "2022-04-30T19:28:00.892Z"
   },
   {
    "duration": 168,
    "start_time": "2022-04-30T19:28:00.926Z"
   },
   {
    "duration": 4,
    "start_time": "2022-04-30T19:28:01.096Z"
   },
   {
    "duration": 172,
    "start_time": "2022-04-30T19:28:01.101Z"
   },
   {
    "duration": 496,
    "start_time": "2022-04-30T19:28:01.275Z"
   },
   {
    "duration": 115,
    "start_time": "2022-04-30T19:28:01.773Z"
   },
   {
    "duration": 786,
    "start_time": "2022-04-30T19:28:01.890Z"
   },
   {
    "duration": 559,
    "start_time": "2022-04-30T19:28:02.678Z"
   },
   {
    "duration": 196,
    "start_time": "2022-04-30T19:28:03.238Z"
   },
   {
    "duration": 0,
    "start_time": "2022-04-30T19:28:03.436Z"
   },
   {
    "duration": 0,
    "start_time": "2022-04-30T19:28:03.437Z"
   },
   {
    "duration": 0,
    "start_time": "2022-04-30T19:28:03.438Z"
   },
   {
    "duration": 0,
    "start_time": "2022-04-30T19:28:03.440Z"
   },
   {
    "duration": 0,
    "start_time": "2022-04-30T19:28:03.440Z"
   },
   {
    "duration": 0,
    "start_time": "2022-04-30T19:28:03.442Z"
   },
   {
    "duration": 0,
    "start_time": "2022-04-30T19:28:03.443Z"
   },
   {
    "duration": 0,
    "start_time": "2022-04-30T19:28:03.444Z"
   },
   {
    "duration": 0,
    "start_time": "2022-04-30T19:28:03.445Z"
   },
   {
    "duration": 0,
    "start_time": "2022-04-30T19:28:03.446Z"
   },
   {
    "duration": 0,
    "start_time": "2022-04-30T19:28:03.447Z"
   },
   {
    "duration": 21,
    "start_time": "2022-04-30T19:28:05.756Z"
   },
   {
    "duration": 23,
    "start_time": "2022-04-30T19:28:05.779Z"
   },
   {
    "duration": 36,
    "start_time": "2022-04-30T19:28:05.804Z"
   },
   {
    "duration": 6,
    "start_time": "2022-04-30T19:28:05.842Z"
   },
   {
    "duration": 10,
    "start_time": "2022-04-30T19:28:05.850Z"
   },
   {
    "duration": 118,
    "start_time": "2022-04-30T19:28:08.979Z"
   },
   {
    "duration": 31,
    "start_time": "2022-04-30T19:28:09.099Z"
   },
   {
    "duration": 3129,
    "start_time": "2022-04-30T19:28:09.132Z"
   },
   {
    "duration": 213,
    "start_time": "2022-04-30T19:28:12.263Z"
   },
   {
    "duration": 31,
    "start_time": "2022-04-30T19:28:12.478Z"
   },
   {
    "duration": 30,
    "start_time": "2022-04-30T19:28:12.511Z"
   },
   {
    "duration": 125,
    "start_time": "2022-04-30T19:28:12.543Z"
   },
   {
    "duration": 131,
    "start_time": "2022-04-30T19:28:12.670Z"
   },
   {
    "duration": 142,
    "start_time": "2022-04-30T19:28:12.803Z"
   },
   {
    "duration": 3,
    "start_time": "2022-04-30T19:28:12.947Z"
   },
   {
    "duration": 33,
    "start_time": "2022-04-30T19:28:12.952Z"
   },
   {
    "duration": 4,
    "start_time": "2022-04-30T19:28:12.987Z"
   },
   {
    "duration": 33,
    "start_time": "2022-04-30T19:28:12.993Z"
   },
   {
    "duration": 73,
    "start_time": "2022-04-30T19:28:13.028Z"
   },
   {
    "duration": 4,
    "start_time": "2022-04-30T19:28:13.609Z"
   },
   {
    "duration": 5,
    "start_time": "2022-04-30T19:28:13.615Z"
   },
   {
    "duration": 5,
    "start_time": "2022-04-30T19:28:13.622Z"
   },
   {
    "duration": 4,
    "start_time": "2022-04-30T19:28:13.629Z"
   },
   {
    "duration": 30,
    "start_time": "2022-04-30T19:28:13.636Z"
   },
   {
    "duration": 5,
    "start_time": "2022-04-30T19:28:13.668Z"
   },
   {
    "duration": 5,
    "start_time": "2022-04-30T19:28:13.674Z"
   },
   {
    "duration": 9,
    "start_time": "2022-04-30T19:28:13.681Z"
   },
   {
    "duration": 34,
    "start_time": "2022-04-30T19:28:13.692Z"
   },
   {
    "duration": 945,
    "start_time": "2022-04-30T19:28:14.423Z"
   },
   {
    "duration": 5,
    "start_time": "2022-04-30T19:28:15.370Z"
   },
   {
    "duration": 413,
    "start_time": "2022-04-30T19:28:17.881Z"
   },
   {
    "duration": 112,
    "start_time": "2022-04-30T19:28:18.296Z"
   },
   {
    "duration": 4,
    "start_time": "2022-04-30T19:28:20.969Z"
   },
   {
    "duration": 4,
    "start_time": "2022-04-30T19:28:20.975Z"
   },
   {
    "duration": 4,
    "start_time": "2022-04-30T19:28:20.980Z"
   },
   {
    "duration": 4,
    "start_time": "2022-04-30T19:28:23.774Z"
   },
   {
    "duration": 6,
    "start_time": "2022-04-30T19:28:23.779Z"
   },
   {
    "duration": 5,
    "start_time": "2022-04-30T19:28:23.786Z"
   },
   {
    "duration": 2470,
    "start_time": "2022-04-30T19:28:23.792Z"
   },
   {
    "duration": 23964,
    "start_time": "2022-04-30T19:28:26.265Z"
   },
   {
    "duration": 92,
    "start_time": "2022-04-30T19:28:50.232Z"
   },
   {
    "duration": 157,
    "start_time": "2022-04-30T19:28:50.327Z"
   },
   {
    "duration": 0,
    "start_time": "2022-04-30T19:28:50.487Z"
   },
   {
    "duration": 0,
    "start_time": "2022-04-30T19:28:50.488Z"
   },
   {
    "duration": 0,
    "start_time": "2022-04-30T19:28:50.489Z"
   },
   {
    "duration": 0,
    "start_time": "2022-04-30T19:28:50.490Z"
   },
   {
    "duration": 0,
    "start_time": "2022-04-30T19:28:50.491Z"
   },
   {
    "duration": 0,
    "start_time": "2022-04-30T19:28:50.492Z"
   },
   {
    "duration": 0,
    "start_time": "2022-04-30T19:28:50.493Z"
   },
   {
    "duration": 0,
    "start_time": "2022-04-30T19:28:50.494Z"
   },
   {
    "duration": 0,
    "start_time": "2022-04-30T19:28:50.495Z"
   },
   {
    "duration": 0,
    "start_time": "2022-04-30T19:28:50.496Z"
   },
   {
    "duration": 0,
    "start_time": "2022-04-30T19:28:50.497Z"
   },
   {
    "duration": 0,
    "start_time": "2022-04-30T19:28:50.498Z"
   },
   {
    "duration": 0,
    "start_time": "2022-04-30T19:28:50.499Z"
   },
   {
    "duration": 0,
    "start_time": "2022-04-30T19:28:50.500Z"
   },
   {
    "duration": 0,
    "start_time": "2022-04-30T19:28:50.501Z"
   },
   {
    "duration": 0,
    "start_time": "2022-04-30T19:28:50.502Z"
   },
   {
    "duration": 0,
    "start_time": "2022-04-30T19:28:50.503Z"
   },
   {
    "duration": 0,
    "start_time": "2022-04-30T19:28:50.505Z"
   },
   {
    "duration": 0,
    "start_time": "2022-04-30T19:28:50.506Z"
   },
   {
    "duration": 0,
    "start_time": "2022-04-30T19:28:50.522Z"
   },
   {
    "duration": 0,
    "start_time": "2022-04-30T19:28:50.523Z"
   },
   {
    "duration": 0,
    "start_time": "2022-04-30T19:28:50.524Z"
   },
   {
    "duration": 0,
    "start_time": "2022-04-30T19:28:50.525Z"
   },
   {
    "duration": 0,
    "start_time": "2022-04-30T19:28:50.527Z"
   },
   {
    "duration": 0,
    "start_time": "2022-04-30T19:28:50.528Z"
   },
   {
    "duration": 0,
    "start_time": "2022-04-30T19:28:50.530Z"
   },
   {
    "duration": 0,
    "start_time": "2022-04-30T19:28:50.531Z"
   },
   {
    "duration": 0,
    "start_time": "2022-04-30T19:28:50.532Z"
   },
   {
    "duration": 17,
    "start_time": "2022-04-30T19:28:57.970Z"
   },
   {
    "duration": 20,
    "start_time": "2022-04-30T19:28:59.850Z"
   },
   {
    "duration": 20,
    "start_time": "2022-04-30T19:29:01.699Z"
   },
   {
    "duration": 169,
    "start_time": "2022-04-30T19:30:26.201Z"
   },
   {
    "duration": 810,
    "start_time": "2022-04-30T19:30:49.282Z"
   },
   {
    "duration": 1465,
    "start_time": "2022-04-30T19:31:11.808Z"
   },
   {
    "duration": 2856,
    "start_time": "2022-04-30T19:31:38.723Z"
   },
   {
    "duration": 173,
    "start_time": "2022-04-30T19:31:57.610Z"
   },
   {
    "duration": 291,
    "start_time": "2022-04-30T19:32:07.521Z"
   },
   {
    "duration": 1579,
    "start_time": "2022-04-30T19:32:44.089Z"
   },
   {
    "duration": 259,
    "start_time": "2022-04-30T19:32:58.256Z"
   },
   {
    "duration": 242,
    "start_time": "2022-04-30T19:33:23.282Z"
   },
   {
    "duration": 16,
    "start_time": "2022-04-30T19:34:32.340Z"
   },
   {
    "duration": 19,
    "start_time": "2022-04-30T19:34:43.345Z"
   },
   {
    "duration": 444,
    "start_time": "2022-04-30T19:35:43.550Z"
   },
   {
    "duration": 472,
    "start_time": "2022-04-30T19:37:17.866Z"
   },
   {
    "duration": 180,
    "start_time": "2022-04-30T19:37:29.115Z"
   },
   {
    "duration": 180,
    "start_time": "2022-04-30T19:37:42.060Z"
   },
   {
    "duration": 1084,
    "start_time": "2022-04-30T19:37:46.846Z"
   },
   {
    "duration": 252,
    "start_time": "2022-04-30T19:37:52.765Z"
   },
   {
    "duration": 20,
    "start_time": "2022-04-30T19:38:59.223Z"
   },
   {
    "duration": 192,
    "start_time": "2022-04-30T19:39:07.194Z"
   },
   {
    "duration": 19,
    "start_time": "2022-04-30T19:39:50.277Z"
   },
   {
    "duration": 22,
    "start_time": "2022-04-30T19:41:03.525Z"
   },
   {
    "duration": 22,
    "start_time": "2022-04-30T19:41:20.397Z"
   },
   {
    "duration": 21,
    "start_time": "2022-04-30T19:41:29.945Z"
   },
   {
    "duration": 2553,
    "start_time": "2022-04-30T19:42:34.726Z"
   },
   {
    "duration": 1706,
    "start_time": "2022-04-30T19:42:37.281Z"
   },
   {
    "duration": 2,
    "start_time": "2022-04-30T19:42:38.989Z"
   },
   {
    "duration": 830,
    "start_time": "2022-04-30T19:42:38.993Z"
   },
   {
    "duration": 3,
    "start_time": "2022-04-30T19:42:39.824Z"
   },
   {
    "duration": 23,
    "start_time": "2022-04-30T19:42:39.829Z"
   },
   {
    "duration": 142,
    "start_time": "2022-04-30T19:42:39.854Z"
   },
   {
    "duration": 4,
    "start_time": "2022-04-30T19:42:39.998Z"
   },
   {
    "duration": 140,
    "start_time": "2022-04-30T19:42:40.004Z"
   },
   {
    "duration": 482,
    "start_time": "2022-04-30T19:42:40.146Z"
   },
   {
    "duration": 99,
    "start_time": "2022-04-30T19:42:40.630Z"
   },
   {
    "duration": 901,
    "start_time": "2022-04-30T19:42:40.731Z"
   },
   {
    "duration": 578,
    "start_time": "2022-04-30T19:42:41.634Z"
   },
   {
    "duration": 329,
    "start_time": "2022-04-30T19:42:42.214Z"
   },
   {
    "duration": 468,
    "start_time": "2022-04-30T19:42:42.545Z"
   },
   {
    "duration": 23,
    "start_time": "2022-04-30T19:42:43.014Z"
   },
   {
    "duration": 18,
    "start_time": "2022-04-30T19:42:43.039Z"
   },
   {
    "duration": 19,
    "start_time": "2022-04-30T19:42:43.059Z"
   },
   {
    "duration": 44,
    "start_time": "2022-04-30T19:42:43.079Z"
   },
   {
    "duration": 21,
    "start_time": "2022-04-30T19:42:43.125Z"
   },
   {
    "duration": 15,
    "start_time": "2022-04-30T19:42:43.149Z"
   },
   {
    "duration": 142,
    "start_time": "2022-04-30T19:42:43.165Z"
   },
   {
    "duration": 20,
    "start_time": "2022-04-30T19:42:43.308Z"
   },
   {
    "duration": 108,
    "start_time": "2022-04-30T19:42:43.329Z"
   },
   {
    "duration": 20,
    "start_time": "2022-04-30T19:42:43.439Z"
   },
   {
    "duration": 19,
    "start_time": "2022-04-30T19:42:43.461Z"
   },
   {
    "duration": 19,
    "start_time": "2022-04-30T19:42:43.482Z"
   },
   {
    "duration": 20,
    "start_time": "2022-04-30T19:42:43.522Z"
   },
   {
    "duration": 21,
    "start_time": "2022-04-30T19:42:43.544Z"
   },
   {
    "duration": 21,
    "start_time": "2022-04-30T19:42:43.872Z"
   },
   {
    "duration": 6,
    "start_time": "2022-04-30T19:42:43.895Z"
   },
   {
    "duration": 8,
    "start_time": "2022-04-30T19:42:43.903Z"
   },
   {
    "duration": 69,
    "start_time": "2022-04-30T19:42:43.913Z"
   },
   {
    "duration": 20,
    "start_time": "2022-04-30T19:42:43.984Z"
   },
   {
    "duration": 2539,
    "start_time": "2022-04-30T19:42:45.008Z"
   },
   {
    "duration": 187,
    "start_time": "2022-04-30T19:42:47.550Z"
   },
   {
    "duration": 17,
    "start_time": "2022-04-30T19:42:47.739Z"
   },
   {
    "duration": 21,
    "start_time": "2022-04-30T19:42:47.758Z"
   },
   {
    "duration": 121,
    "start_time": "2022-04-30T19:42:47.781Z"
   },
   {
    "duration": 143,
    "start_time": "2022-04-30T19:42:47.904Z"
   },
   {
    "duration": 133,
    "start_time": "2022-04-30T19:42:48.049Z"
   },
   {
    "duration": 3,
    "start_time": "2022-04-30T19:42:48.184Z"
   },
   {
    "duration": 47,
    "start_time": "2022-04-30T19:42:48.188Z"
   },
   {
    "duration": 5,
    "start_time": "2022-04-30T19:42:53.967Z"
   },
   {
    "duration": 12,
    "start_time": "2022-04-30T19:42:53.974Z"
   },
   {
    "duration": 66,
    "start_time": "2022-04-30T19:42:58.496Z"
   },
   {
    "duration": 4,
    "start_time": "2022-04-30T19:42:58.564Z"
   },
   {
    "duration": 6,
    "start_time": "2022-04-30T19:42:58.569Z"
   },
   {
    "duration": 6,
    "start_time": "2022-04-30T19:42:58.577Z"
   },
   {
    "duration": 5,
    "start_time": "2022-04-30T19:42:58.585Z"
   },
   {
    "duration": 48,
    "start_time": "2022-04-30T19:42:58.591Z"
   },
   {
    "duration": 4,
    "start_time": "2022-04-30T19:42:58.641Z"
   },
   {
    "duration": 5,
    "start_time": "2022-04-30T19:42:58.646Z"
   },
   {
    "duration": 5,
    "start_time": "2022-04-30T19:42:58.653Z"
   },
   {
    "duration": 7,
    "start_time": "2022-04-30T19:42:58.659Z"
   },
   {
    "duration": 822,
    "start_time": "2022-04-30T19:42:58.668Z"
   },
   {
    "duration": 4,
    "start_time": "2022-04-30T19:42:59.491Z"
   },
   {
    "duration": 394,
    "start_time": "2022-04-30T19:42:59.497Z"
   },
   {
    "duration": 97,
    "start_time": "2022-04-30T19:43:01.497Z"
   },
   {
    "duration": 5,
    "start_time": "2022-04-30T19:43:01.596Z"
   },
   {
    "duration": 14,
    "start_time": "2022-04-30T19:43:01.602Z"
   },
   {
    "duration": 7,
    "start_time": "2022-04-30T19:43:01.618Z"
   },
   {
    "duration": 6,
    "start_time": "2022-04-30T19:43:01.627Z"
   },
   {
    "duration": 13,
    "start_time": "2022-04-30T19:43:01.634Z"
   },
   {
    "duration": 7,
    "start_time": "2022-04-30T19:43:01.648Z"
   },
   {
    "duration": 2274,
    "start_time": "2022-04-30T19:43:04.282Z"
   },
   {
    "duration": 20580,
    "start_time": "2022-04-30T19:43:06.558Z"
   },
   {
    "duration": 5,
    "start_time": "2022-04-30T19:43:27.224Z"
   },
   {
    "duration": 700,
    "start_time": "2022-04-30T19:43:27.232Z"
   },
   {
    "duration": 3,
    "start_time": "2022-04-30T19:43:27.935Z"
   },
   {
    "duration": 69,
    "start_time": "2022-04-30T19:43:27.940Z"
   },
   {
    "duration": 20,
    "start_time": "2022-04-30T19:43:28.011Z"
   },
   {
    "duration": 4,
    "start_time": "2022-04-30T19:43:28.033Z"
   },
   {
    "duration": 13,
    "start_time": "2022-04-30T19:43:28.039Z"
   },
   {
    "duration": 11,
    "start_time": "2022-04-30T19:43:28.054Z"
   },
   {
    "duration": 5,
    "start_time": "2022-04-30T19:43:28.066Z"
   },
   {
    "duration": 7,
    "start_time": "2022-04-30T19:43:28.072Z"
   },
   {
    "duration": 5,
    "start_time": "2022-04-30T19:43:28.082Z"
   },
   {
    "duration": 101,
    "start_time": "2022-04-30T19:43:28.088Z"
   },
   {
    "duration": 37993,
    "start_time": "2022-04-30T19:43:28.191Z"
   },
   {
    "duration": 3,
    "start_time": "2022-04-30T19:44:06.186Z"
   },
   {
    "duration": 7,
    "start_time": "2022-04-30T19:44:06.190Z"
   },
   {
    "duration": 8,
    "start_time": "2022-04-30T19:44:06.198Z"
   },
   {
    "duration": 3,
    "start_time": "2022-04-30T19:44:06.223Z"
   },
   {
    "duration": 121,
    "start_time": "2022-04-30T19:44:06.228Z"
   },
   {
    "duration": 0,
    "start_time": "2022-04-30T19:44:06.351Z"
   },
   {
    "duration": 0,
    "start_time": "2022-04-30T19:44:06.352Z"
   },
   {
    "duration": 0,
    "start_time": "2022-04-30T19:44:06.354Z"
   },
   {
    "duration": 0,
    "start_time": "2022-04-30T19:44:06.355Z"
   },
   {
    "duration": 0,
    "start_time": "2022-04-30T19:44:06.357Z"
   },
   {
    "duration": 0,
    "start_time": "2022-04-30T19:44:06.358Z"
   },
   {
    "duration": 0,
    "start_time": "2022-04-30T19:44:06.360Z"
   },
   {
    "duration": 0,
    "start_time": "2022-04-30T19:44:06.361Z"
   },
   {
    "duration": 0,
    "start_time": "2022-04-30T19:44:06.363Z"
   },
   {
    "duration": 2254,
    "start_time": "2022-04-30T19:44:33.929Z"
   },
   {
    "duration": 1543,
    "start_time": "2022-04-30T19:44:41.761Z"
   },
   {
    "duration": 3,
    "start_time": "2022-04-30T19:44:43.306Z"
   },
   {
    "duration": 838,
    "start_time": "2022-04-30T19:44:43.310Z"
   },
   {
    "duration": 2,
    "start_time": "2022-04-30T19:44:44.150Z"
   },
   {
    "duration": 18,
    "start_time": "2022-04-30T19:44:44.154Z"
   },
   {
    "duration": 160,
    "start_time": "2022-04-30T19:44:44.174Z"
   },
   {
    "duration": 4,
    "start_time": "2022-04-30T19:44:44.336Z"
   },
   {
    "duration": 148,
    "start_time": "2022-04-30T19:44:44.342Z"
   },
   {
    "duration": 491,
    "start_time": "2022-04-30T19:44:44.493Z"
   },
   {
    "duration": 103,
    "start_time": "2022-04-30T19:44:44.986Z"
   },
   {
    "duration": 769,
    "start_time": "2022-04-30T19:44:45.091Z"
   },
   {
    "duration": 583,
    "start_time": "2022-04-30T19:44:45.862Z"
   },
   {
    "duration": 265,
    "start_time": "2022-04-30T19:44:46.447Z"
   },
   {
    "duration": 463,
    "start_time": "2022-04-30T19:44:46.715Z"
   },
   {
    "duration": 19,
    "start_time": "2022-04-30T19:44:47.179Z"
   },
   {
    "duration": 35,
    "start_time": "2022-04-30T19:44:47.200Z"
   },
   {
    "duration": 18,
    "start_time": "2022-04-30T19:44:47.237Z"
   },
   {
    "duration": 19,
    "start_time": "2022-04-30T19:44:47.257Z"
   },
   {
    "duration": 45,
    "start_time": "2022-04-30T19:44:47.277Z"
   },
   {
    "duration": 16,
    "start_time": "2022-04-30T19:44:47.324Z"
   },
   {
    "duration": 127,
    "start_time": "2022-04-30T19:44:47.341Z"
   },
   {
    "duration": 10,
    "start_time": "2022-04-30T19:44:47.470Z"
   },
   {
    "duration": 107,
    "start_time": "2022-04-30T19:44:47.481Z"
   },
   {
    "duration": 19,
    "start_time": "2022-04-30T19:44:47.590Z"
   },
   {
    "duration": 28,
    "start_time": "2022-04-30T19:44:47.611Z"
   },
   {
    "duration": 19,
    "start_time": "2022-04-30T19:44:47.640Z"
   },
   {
    "duration": 19,
    "start_time": "2022-04-30T19:44:47.661Z"
   },
   {
    "duration": 46,
    "start_time": "2022-04-30T19:44:47.682Z"
   },
   {
    "duration": 20,
    "start_time": "2022-04-30T19:44:47.730Z"
   },
   {
    "duration": 6,
    "start_time": "2022-04-30T19:44:47.752Z"
   },
   {
    "duration": 8,
    "start_time": "2022-04-30T19:44:47.760Z"
   },
   {
    "duration": 98,
    "start_time": "2022-04-30T19:44:47.770Z"
   },
   {
    "duration": 21,
    "start_time": "2022-04-30T19:44:47.869Z"
   },
   {
    "duration": 2680,
    "start_time": "2022-04-30T19:44:53.797Z"
   },
   {
    "duration": 171,
    "start_time": "2022-04-30T19:44:56.479Z"
   },
   {
    "duration": 14,
    "start_time": "2022-04-30T19:44:56.652Z"
   },
   {
    "duration": 18,
    "start_time": "2022-04-30T19:44:56.668Z"
   },
   {
    "duration": 114,
    "start_time": "2022-04-30T19:44:56.688Z"
   },
   {
    "duration": 127,
    "start_time": "2022-04-30T19:44:56.804Z"
   },
   {
    "duration": 136,
    "start_time": "2022-04-30T19:44:56.933Z"
   },
   {
    "duration": 2,
    "start_time": "2022-04-30T19:44:57.071Z"
   },
   {
    "duration": 30,
    "start_time": "2022-04-30T19:44:57.075Z"
   },
   {
    "duration": 18,
    "start_time": "2022-04-30T19:44:57.106Z"
   },
   {
    "duration": 8,
    "start_time": "2022-04-30T19:44:57.126Z"
   },
   {
    "duration": 87,
    "start_time": "2022-04-30T19:44:57.136Z"
   },
   {
    "duration": 4,
    "start_time": "2022-04-30T19:44:57.224Z"
   },
   {
    "duration": 4,
    "start_time": "2022-04-30T19:44:57.231Z"
   },
   {
    "duration": 5,
    "start_time": "2022-04-30T19:44:57.236Z"
   },
   {
    "duration": 4,
    "start_time": "2022-04-30T19:44:57.242Z"
   },
   {
    "duration": 29,
    "start_time": "2022-04-30T19:44:57.247Z"
   },
   {
    "duration": 4,
    "start_time": "2022-04-30T19:44:57.277Z"
   },
   {
    "duration": 40,
    "start_time": "2022-04-30T19:44:57.283Z"
   },
   {
    "duration": 4,
    "start_time": "2022-04-30T19:44:57.325Z"
   },
   {
    "duration": 5,
    "start_time": "2022-04-30T19:44:57.330Z"
   },
   {
    "duration": 734,
    "start_time": "2022-04-30T19:44:57.841Z"
   },
   {
    "duration": 5,
    "start_time": "2022-04-30T19:44:58.577Z"
   },
   {
    "duration": 402,
    "start_time": "2022-04-30T19:44:58.584Z"
   },
   {
    "duration": 106,
    "start_time": "2022-04-30T19:44:58.988Z"
   },
   {
    "duration": 5,
    "start_time": "2022-04-30T19:44:59.097Z"
   },
   {
    "duration": 20,
    "start_time": "2022-04-30T19:44:59.104Z"
   },
   {
    "duration": 4,
    "start_time": "2022-04-30T19:44:59.126Z"
   },
   {
    "duration": 5,
    "start_time": "2022-04-30T19:45:02.373Z"
   },
   {
    "duration": 6,
    "start_time": "2022-04-30T19:45:02.380Z"
   },
   {
    "duration": 11,
    "start_time": "2022-04-30T19:45:02.388Z"
   },
   {
    "duration": 2327,
    "start_time": "2022-04-30T19:45:03.642Z"
   },
   {
    "duration": 23205,
    "start_time": "2022-04-30T19:45:06.718Z"
   },
   {
    "duration": 6,
    "start_time": "2022-04-30T19:45:29.926Z"
   },
   {
    "duration": 633,
    "start_time": "2022-04-30T19:45:30.023Z"
   },
   {
    "duration": 3,
    "start_time": "2022-04-30T19:45:30.658Z"
   },
   {
    "duration": 57,
    "start_time": "2022-04-30T19:45:30.663Z"
   },
   {
    "duration": 22,
    "start_time": "2022-04-30T19:45:30.723Z"
   },
   {
    "duration": 9,
    "start_time": "2022-04-30T19:45:30.747Z"
   },
   {
    "duration": 10,
    "start_time": "2022-04-30T19:45:30.758Z"
   },
   {
    "duration": 24,
    "start_time": "2022-04-30T19:45:30.769Z"
   },
   {
    "duration": 15,
    "start_time": "2022-04-30T19:45:30.795Z"
   },
   {
    "duration": 12,
    "start_time": "2022-04-30T19:45:30.811Z"
   },
   {
    "duration": 12,
    "start_time": "2022-04-30T19:45:30.824Z"
   },
   {
    "duration": 94,
    "start_time": "2022-04-30T19:45:30.837Z"
   },
   {
    "duration": 38433,
    "start_time": "2022-04-30T19:45:30.934Z"
   },
   {
    "duration": 3,
    "start_time": "2022-04-30T19:46:09.368Z"
   },
   {
    "duration": 20,
    "start_time": "2022-04-30T19:46:09.372Z"
   },
   {
    "duration": 14,
    "start_time": "2022-04-30T19:46:09.393Z"
   },
   {
    "duration": 27,
    "start_time": "2022-04-30T19:46:09.409Z"
   },
   {
    "duration": 126,
    "start_time": "2022-04-30T19:46:09.438Z"
   },
   {
    "duration": 0,
    "start_time": "2022-04-30T19:46:09.566Z"
   },
   {
    "duration": 0,
    "start_time": "2022-04-30T19:46:09.568Z"
   },
   {
    "duration": 0,
    "start_time": "2022-04-30T19:46:09.569Z"
   },
   {
    "duration": 0,
    "start_time": "2022-04-30T19:46:09.570Z"
   },
   {
    "duration": 0,
    "start_time": "2022-04-30T19:46:09.572Z"
   },
   {
    "duration": 0,
    "start_time": "2022-04-30T19:46:09.574Z"
   },
   {
    "duration": 0,
    "start_time": "2022-04-30T19:46:09.575Z"
   },
   {
    "duration": 0,
    "start_time": "2022-04-30T19:46:09.577Z"
   },
   {
    "duration": 0,
    "start_time": "2022-04-30T19:46:09.578Z"
   },
   {
    "duration": 2435,
    "start_time": "2022-04-30T19:47:16.032Z"
   },
   {
    "duration": 2069,
    "start_time": "2022-04-30T19:47:24.666Z"
   },
   {
    "duration": 3,
    "start_time": "2022-04-30T19:47:26.737Z"
   },
   {
    "duration": 816,
    "start_time": "2022-04-30T19:47:26.741Z"
   },
   {
    "duration": 2,
    "start_time": "2022-04-30T19:47:28.197Z"
   },
   {
    "duration": 19,
    "start_time": "2022-04-30T19:47:28.201Z"
   },
   {
    "duration": 137,
    "start_time": "2022-04-30T19:47:28.222Z"
   },
   {
    "duration": 4,
    "start_time": "2022-04-30T19:47:29.274Z"
   },
   {
    "duration": 129,
    "start_time": "2022-04-30T19:47:29.280Z"
   },
   {
    "duration": 460,
    "start_time": "2022-04-30T19:47:29.411Z"
   },
   {
    "duration": 94,
    "start_time": "2022-04-30T19:47:29.873Z"
   },
   {
    "duration": 743,
    "start_time": "2022-04-30T19:47:29.970Z"
   },
   {
    "duration": 593,
    "start_time": "2022-04-30T19:47:32.319Z"
   },
   {
    "duration": 268,
    "start_time": "2022-04-30T19:47:32.914Z"
   },
   {
    "duration": 497,
    "start_time": "2022-04-30T19:47:33.184Z"
   },
   {
    "duration": 19,
    "start_time": "2022-04-30T19:47:33.683Z"
   },
   {
    "duration": 17,
    "start_time": "2022-04-30T19:47:35.160Z"
   },
   {
    "duration": 28,
    "start_time": "2022-04-30T19:47:35.179Z"
   },
   {
    "duration": 113,
    "start_time": "2022-04-30T19:47:35.209Z"
   },
   {
    "duration": 10,
    "start_time": "2022-04-30T19:47:37.848Z"
   },
   {
    "duration": 105,
    "start_time": "2022-04-30T19:47:37.860Z"
   },
   {
    "duration": 19,
    "start_time": "2022-04-30T19:47:40.488Z"
   },
   {
    "duration": 19,
    "start_time": "2022-04-30T19:47:40.509Z"
   },
   {
    "duration": 20,
    "start_time": "2022-04-30T19:47:40.529Z"
   },
   {
    "duration": 20,
    "start_time": "2022-04-30T19:47:43.452Z"
   },
   {
    "duration": 28,
    "start_time": "2022-04-30T19:47:43.474Z"
   },
   {
    "duration": 25,
    "start_time": "2022-04-30T19:47:43.504Z"
   },
   {
    "duration": 7,
    "start_time": "2022-04-30T19:47:47.393Z"
   },
   {
    "duration": 12,
    "start_time": "2022-04-30T19:47:47.402Z"
   },
   {
    "duration": 72,
    "start_time": "2022-04-30T19:47:47.415Z"
   },
   {
    "duration": 21,
    "start_time": "2022-04-30T19:47:50.092Z"
   },
   {
    "duration": 2648,
    "start_time": "2022-04-30T19:47:50.114Z"
   },
   {
    "duration": 198,
    "start_time": "2022-04-30T19:47:52.764Z"
   },
   {
    "duration": 15,
    "start_time": "2022-04-30T19:47:52.964Z"
   },
   {
    "duration": 19,
    "start_time": "2022-04-30T19:47:52.981Z"
   },
   {
    "duration": 128,
    "start_time": "2022-04-30T19:47:53.002Z"
   },
   {
    "duration": 125,
    "start_time": "2022-04-30T19:47:53.131Z"
   },
   {
    "duration": 132,
    "start_time": "2022-04-30T19:47:53.258Z"
   },
   {
    "duration": 3,
    "start_time": "2022-04-30T19:47:53.392Z"
   },
   {
    "duration": 44,
    "start_time": "2022-04-30T19:47:53.397Z"
   },
   {
    "duration": 4,
    "start_time": "2022-04-30T19:47:54.370Z"
   },
   {
    "duration": 5,
    "start_time": "2022-04-30T19:47:54.376Z"
   },
   {
    "duration": 69,
    "start_time": "2022-04-30T19:47:54.382Z"
   },
   {
    "duration": 4,
    "start_time": "2022-04-30T19:47:54.452Z"
   },
   {
    "duration": 5,
    "start_time": "2022-04-30T19:47:54.458Z"
   },
   {
    "duration": 6,
    "start_time": "2022-04-30T19:47:54.464Z"
   },
   {
    "duration": 6,
    "start_time": "2022-04-30T19:47:54.471Z"
   },
   {
    "duration": 44,
    "start_time": "2022-04-30T19:47:54.478Z"
   },
   {
    "duration": 4,
    "start_time": "2022-04-30T19:47:54.524Z"
   },
   {
    "duration": 5,
    "start_time": "2022-04-30T19:47:54.529Z"
   },
   {
    "duration": 6,
    "start_time": "2022-04-30T19:47:54.535Z"
   },
   {
    "duration": 7,
    "start_time": "2022-04-30T19:47:54.542Z"
   },
   {
    "duration": 700,
    "start_time": "2022-04-30T19:47:54.551Z"
   },
   {
    "duration": 4,
    "start_time": "2022-04-30T19:47:55.255Z"
   },
   {
    "duration": 394,
    "start_time": "2022-04-30T19:47:55.260Z"
   },
   {
    "duration": 103,
    "start_time": "2022-04-30T19:47:55.655Z"
   },
   {
    "duration": 4,
    "start_time": "2022-04-30T19:47:55.760Z"
   },
   {
    "duration": 5,
    "start_time": "2022-04-30T19:47:55.766Z"
   },
   {
    "duration": 5,
    "start_time": "2022-04-30T19:47:55.772Z"
   },
   {
    "duration": 5,
    "start_time": "2022-04-30T19:47:55.779Z"
   },
   {
    "duration": 6,
    "start_time": "2022-04-30T19:47:55.785Z"
   },
   {
    "duration": 30,
    "start_time": "2022-04-30T19:47:55.793Z"
   },
   {
    "duration": 2334,
    "start_time": "2022-04-30T19:47:55.824Z"
   },
   {
    "duration": 19263,
    "start_time": "2022-04-30T19:47:58.160Z"
   },
   {
    "duration": 98,
    "start_time": "2022-04-30T19:48:17.425Z"
   },
   {
    "duration": 639,
    "start_time": "2022-04-30T19:48:17.525Z"
   },
   {
    "duration": 4,
    "start_time": "2022-04-30T19:48:18.168Z"
   },
   {
    "duration": 56,
    "start_time": "2022-04-30T19:48:18.174Z"
   },
   {
    "duration": 21,
    "start_time": "2022-04-30T19:48:18.232Z"
   },
   {
    "duration": 4,
    "start_time": "2022-04-30T19:48:18.255Z"
   },
   {
    "duration": 7,
    "start_time": "2022-04-30T19:48:18.260Z"
   },
   {
    "duration": 7,
    "start_time": "2022-04-30T19:48:18.268Z"
   },
   {
    "duration": 7,
    "start_time": "2022-04-30T19:48:18.276Z"
   },
   {
    "duration": 5,
    "start_time": "2022-04-30T19:48:18.285Z"
   },
   {
    "duration": 35,
    "start_time": "2022-04-30T19:48:18.291Z"
   },
   {
    "duration": 94,
    "start_time": "2022-04-30T19:48:18.328Z"
   },
   {
    "duration": 37276,
    "start_time": "2022-04-30T19:48:18.424Z"
   },
   {
    "duration": 3,
    "start_time": "2022-04-30T19:48:55.701Z"
   },
   {
    "duration": 9,
    "start_time": "2022-04-30T19:48:55.706Z"
   },
   {
    "duration": 4,
    "start_time": "2022-04-30T19:48:55.723Z"
   },
   {
    "duration": 18,
    "start_time": "2022-04-30T19:48:55.728Z"
   },
   {
    "duration": 119,
    "start_time": "2022-04-30T19:48:55.748Z"
   },
   {
    "duration": 0,
    "start_time": "2022-04-30T19:48:55.869Z"
   },
   {
    "duration": 0,
    "start_time": "2022-04-30T19:48:55.870Z"
   },
   {
    "duration": 0,
    "start_time": "2022-04-30T19:48:55.872Z"
   },
   {
    "duration": 0,
    "start_time": "2022-04-30T19:48:55.873Z"
   },
   {
    "duration": 0,
    "start_time": "2022-04-30T19:48:55.874Z"
   },
   {
    "duration": 0,
    "start_time": "2022-04-30T19:48:55.875Z"
   },
   {
    "duration": 0,
    "start_time": "2022-04-30T19:48:55.877Z"
   },
   {
    "duration": 0,
    "start_time": "2022-04-30T19:48:55.878Z"
   },
   {
    "duration": 0,
    "start_time": "2022-04-30T19:48:55.879Z"
   },
   {
    "duration": 0,
    "start_time": "2022-04-30T19:48:55.880Z"
   },
   {
    "duration": 3148,
    "start_time": "2022-04-30T19:49:10.131Z"
   },
   {
    "duration": 1931,
    "start_time": "2022-04-30T19:49:13.282Z"
   },
   {
    "duration": 7,
    "start_time": "2022-04-30T19:49:15.216Z"
   },
   {
    "duration": 1276,
    "start_time": "2022-04-30T19:49:15.225Z"
   },
   {
    "duration": 3,
    "start_time": "2022-04-30T19:49:16.503Z"
   },
   {
    "duration": 31,
    "start_time": "2022-04-30T19:49:16.507Z"
   },
   {
    "duration": 193,
    "start_time": "2022-04-30T19:49:16.540Z"
   },
   {
    "duration": 5,
    "start_time": "2022-04-30T19:49:16.736Z"
   },
   {
    "duration": 153,
    "start_time": "2022-04-30T19:49:16.743Z"
   },
   {
    "duration": 549,
    "start_time": "2022-04-30T19:49:16.898Z"
   },
   {
    "duration": 106,
    "start_time": "2022-04-30T19:49:17.720Z"
   },
   {
    "duration": 932,
    "start_time": "2022-04-30T19:49:17.828Z"
   },
   {
    "duration": 675,
    "start_time": "2022-04-30T19:49:18.761Z"
   },
   {
    "duration": 483,
    "start_time": "2022-04-30T19:49:20.037Z"
   },
   {
    "duration": 837,
    "start_time": "2022-04-30T19:49:20.524Z"
   },
   {
    "duration": 19,
    "start_time": "2022-04-30T19:49:21.362Z"
   },
   {
    "duration": 18,
    "start_time": "2022-04-30T19:49:21.383Z"
   },
   {
    "duration": 39,
    "start_time": "2022-04-30T19:49:21.403Z"
   },
   {
    "duration": 144,
    "start_time": "2022-04-30T19:49:21.444Z"
   },
   {
    "duration": 12,
    "start_time": "2022-04-30T19:49:21.589Z"
   },
   {
    "duration": 120,
    "start_time": "2022-04-30T19:49:21.603Z"
   },
   {
    "duration": 21,
    "start_time": "2022-04-30T19:49:21.726Z"
   },
   {
    "duration": 21,
    "start_time": "2022-04-30T19:49:23.719Z"
   },
   {
    "duration": 23,
    "start_time": "2022-04-30T19:49:23.742Z"
   },
   {
    "duration": 23,
    "start_time": "2022-04-30T19:49:23.767Z"
   },
   {
    "duration": 35,
    "start_time": "2022-04-30T19:49:23.792Z"
   },
   {
    "duration": 22,
    "start_time": "2022-04-30T19:49:23.830Z"
   },
   {
    "duration": 7,
    "start_time": "2022-04-30T19:49:23.853Z"
   },
   {
    "duration": 17,
    "start_time": "2022-04-30T19:49:23.862Z"
   },
   {
    "duration": 94,
    "start_time": "2022-04-30T19:49:23.881Z"
   },
   {
    "duration": 20,
    "start_time": "2022-04-30T19:49:24.795Z"
   },
   {
    "duration": 2424,
    "start_time": "2022-04-30T19:49:24.817Z"
   },
   {
    "duration": 180,
    "start_time": "2022-04-30T19:49:27.243Z"
   },
   {
    "duration": 15,
    "start_time": "2022-04-30T19:49:27.425Z"
   },
   {
    "duration": 18,
    "start_time": "2022-04-30T19:49:27.442Z"
   },
   {
    "duration": 97,
    "start_time": "2022-04-30T19:49:27.549Z"
   },
   {
    "duration": 120,
    "start_time": "2022-04-30T19:49:27.648Z"
   },
   {
    "duration": 134,
    "start_time": "2022-04-30T19:49:27.770Z"
   },
   {
    "duration": 3,
    "start_time": "2022-04-30T19:49:28.416Z"
   },
   {
    "duration": 30,
    "start_time": "2022-04-30T19:49:28.420Z"
   },
   {
    "duration": 4,
    "start_time": "2022-04-30T19:49:28.452Z"
   },
   {
    "duration": 6,
    "start_time": "2022-04-30T19:49:28.457Z"
   },
   {
    "duration": 74,
    "start_time": "2022-04-30T19:49:28.465Z"
   },
   {
    "duration": 3,
    "start_time": "2022-04-30T19:49:28.541Z"
   },
   {
    "duration": 5,
    "start_time": "2022-04-30T19:49:28.546Z"
   },
   {
    "duration": 8,
    "start_time": "2022-04-30T19:49:28.552Z"
   },
   {
    "duration": 5,
    "start_time": "2022-04-30T19:49:28.562Z"
   },
   {
    "duration": 53,
    "start_time": "2022-04-30T19:49:28.569Z"
   },
   {
    "duration": 5,
    "start_time": "2022-04-30T19:49:28.624Z"
   },
   {
    "duration": 5,
    "start_time": "2022-04-30T19:49:28.631Z"
   },
   {
    "duration": 5,
    "start_time": "2022-04-30T19:49:28.638Z"
   },
   {
    "duration": 6,
    "start_time": "2022-04-30T19:49:28.646Z"
   },
   {
    "duration": 842,
    "start_time": "2022-04-30T19:49:28.653Z"
   },
   {
    "duration": 4,
    "start_time": "2022-04-30T19:49:29.497Z"
   },
   {
    "duration": 404,
    "start_time": "2022-04-30T19:49:29.503Z"
   },
   {
    "duration": 107,
    "start_time": "2022-04-30T19:49:29.909Z"
   },
   {
    "duration": 7,
    "start_time": "2022-04-30T19:49:30.017Z"
   },
   {
    "duration": 5,
    "start_time": "2022-04-30T19:49:30.026Z"
   },
   {
    "duration": 9,
    "start_time": "2022-04-30T19:49:30.033Z"
   },
   {
    "duration": 16,
    "start_time": "2022-04-30T19:49:30.044Z"
   },
   {
    "duration": 3,
    "start_time": "2022-04-30T19:49:30.153Z"
   },
   {
    "duration": 13,
    "start_time": "2022-04-30T19:49:30.159Z"
   },
   {
    "duration": 2384,
    "start_time": "2022-04-30T19:49:33.562Z"
   },
   {
    "duration": 30274,
    "start_time": "2022-04-30T19:49:35.949Z"
   },
   {
    "duration": 6,
    "start_time": "2022-04-30T19:50:06.226Z"
   },
   {
    "duration": 745,
    "start_time": "2022-04-30T19:50:06.234Z"
   },
   {
    "duration": 4,
    "start_time": "2022-04-30T19:50:06.981Z"
   },
   {
    "duration": 55,
    "start_time": "2022-04-30T19:50:06.987Z"
   },
   {
    "duration": 22,
    "start_time": "2022-04-30T19:50:07.043Z"
   },
   {
    "duration": 4,
    "start_time": "2022-04-30T19:50:07.067Z"
   },
   {
    "duration": 32,
    "start_time": "2022-04-30T19:50:07.072Z"
   },
   {
    "duration": 14,
    "start_time": "2022-04-30T19:50:07.106Z"
   },
   {
    "duration": 5,
    "start_time": "2022-04-30T19:50:07.122Z"
   },
   {
    "duration": 6,
    "start_time": "2022-04-30T19:50:07.129Z"
   },
   {
    "duration": 4,
    "start_time": "2022-04-30T19:50:07.137Z"
   },
   {
    "duration": 111,
    "start_time": "2022-04-30T19:50:07.144Z"
   },
   {
    "duration": 40417,
    "start_time": "2022-04-30T19:50:07.257Z"
   },
   {
    "duration": 2,
    "start_time": "2022-04-30T19:50:47.676Z"
   },
   {
    "duration": 7,
    "start_time": "2022-04-30T19:50:47.680Z"
   },
   {
    "duration": 6,
    "start_time": "2022-04-30T19:50:47.688Z"
   },
   {
    "duration": 5,
    "start_time": "2022-04-30T19:50:47.696Z"
   },
   {
    "duration": 131,
    "start_time": "2022-04-30T19:50:47.703Z"
   },
   {
    "duration": 0,
    "start_time": "2022-04-30T19:50:47.836Z"
   },
   {
    "duration": 0,
    "start_time": "2022-04-30T19:50:47.837Z"
   },
   {
    "duration": 0,
    "start_time": "2022-04-30T19:50:47.838Z"
   },
   {
    "duration": 0,
    "start_time": "2022-04-30T19:50:47.839Z"
   },
   {
    "duration": 0,
    "start_time": "2022-04-30T19:50:47.840Z"
   },
   {
    "duration": 0,
    "start_time": "2022-04-30T19:50:47.842Z"
   },
   {
    "duration": 0,
    "start_time": "2022-04-30T19:50:47.843Z"
   },
   {
    "duration": 0,
    "start_time": "2022-04-30T19:50:47.844Z"
   },
   {
    "duration": 0,
    "start_time": "2022-04-30T19:50:47.845Z"
   },
   {
    "duration": 5,
    "start_time": "2022-04-30T19:52:29.613Z"
   },
   {
    "duration": 445188,
    "start_time": "2022-04-30T19:52:31.353Z"
   },
   {
    "duration": 616002,
    "start_time": "2022-04-30T20:03:48.610Z"
   },
   {
    "duration": 569,
    "start_time": "2022-04-30T20:16:47.833Z"
   },
   {
    "duration": 2,
    "start_time": "2022-04-30T20:17:31.243Z"
   },
   {
    "duration": 3,
    "start_time": "2022-04-30T20:17:33.400Z"
   },
   {
    "duration": 2273,
    "start_time": "2022-04-30T20:24:47.205Z"
   },
   {
    "duration": 1799,
    "start_time": "2022-04-30T20:24:52.082Z"
   },
   {
    "duration": 2,
    "start_time": "2022-04-30T20:24:53.884Z"
   },
   {
    "duration": 799,
    "start_time": "2022-04-30T20:24:53.888Z"
   },
   {
    "duration": 2,
    "start_time": "2022-04-30T20:24:54.689Z"
   },
   {
    "duration": 19,
    "start_time": "2022-04-30T20:24:54.693Z"
   },
   {
    "duration": 134,
    "start_time": "2022-04-30T20:24:54.723Z"
   },
   {
    "duration": 4,
    "start_time": "2022-04-30T20:24:54.859Z"
   },
   {
    "duration": 141,
    "start_time": "2022-04-30T20:24:54.865Z"
   },
   {
    "duration": 461,
    "start_time": "2022-04-30T20:24:55.008Z"
   },
   {
    "duration": 90,
    "start_time": "2022-04-30T20:24:55.470Z"
   },
   {
    "duration": 768,
    "start_time": "2022-04-30T20:24:55.562Z"
   },
   {
    "duration": 591,
    "start_time": "2022-04-30T20:24:56.332Z"
   },
   {
    "duration": 251,
    "start_time": "2022-04-30T20:25:51.031Z"
   },
   {
    "duration": 461,
    "start_time": "2022-04-30T20:25:51.284Z"
   },
   {
    "duration": 19,
    "start_time": "2022-04-30T20:25:51.746Z"
   },
   {
    "duration": 17,
    "start_time": "2022-04-30T20:25:53.905Z"
   },
   {
    "duration": 19,
    "start_time": "2022-04-30T20:25:53.924Z"
   },
   {
    "duration": 125,
    "start_time": "2022-04-30T20:25:53.945Z"
   },
   {
    "duration": 11,
    "start_time": "2022-04-30T20:25:56.597Z"
   },
   {
    "duration": 104,
    "start_time": "2022-04-30T20:25:56.610Z"
   },
   {
    "duration": 20,
    "start_time": "2022-04-30T20:25:56.716Z"
   },
   {
    "duration": 21,
    "start_time": "2022-04-30T20:25:56.738Z"
   },
   {
    "duration": 22,
    "start_time": "2022-04-30T20:25:56.761Z"
   },
   {
    "duration": 21,
    "start_time": "2022-04-30T20:25:59.288Z"
   },
   {
    "duration": 29,
    "start_time": "2022-04-30T20:25:59.311Z"
   },
   {
    "duration": 27,
    "start_time": "2022-04-30T20:25:59.342Z"
   },
   {
    "duration": 7,
    "start_time": "2022-04-30T20:25:59.371Z"
   },
   {
    "duration": 10,
    "start_time": "2022-04-30T20:26:00.606Z"
   },
   {
    "duration": 111,
    "start_time": "2022-04-30T20:26:00.618Z"
   },
   {
    "duration": 20,
    "start_time": "2022-04-30T20:26:00.731Z"
   },
   {
    "duration": 2531,
    "start_time": "2022-04-30T20:26:02.983Z"
   },
   {
    "duration": 181,
    "start_time": "2022-04-30T20:26:05.516Z"
   },
   {
    "duration": 15,
    "start_time": "2022-04-30T20:26:05.699Z"
   },
   {
    "duration": 21,
    "start_time": "2022-04-30T20:26:05.723Z"
   },
   {
    "duration": 116,
    "start_time": "2022-04-30T20:26:05.746Z"
   },
   {
    "duration": 124,
    "start_time": "2022-04-30T20:26:05.864Z"
   },
   {
    "duration": 145,
    "start_time": "2022-04-30T20:26:05.990Z"
   },
   {
    "duration": 3,
    "start_time": "2022-04-30T20:26:06.137Z"
   },
   {
    "duration": 31,
    "start_time": "2022-04-30T20:26:06.142Z"
   },
   {
    "duration": 4,
    "start_time": "2022-04-30T20:26:06.175Z"
   },
   {
    "duration": 5,
    "start_time": "2022-04-30T20:26:06.181Z"
   },
   {
    "duration": 103,
    "start_time": "2022-04-30T20:26:06.188Z"
   },
   {
    "duration": 5,
    "start_time": "2022-04-30T20:26:06.293Z"
   },
   {
    "duration": 8,
    "start_time": "2022-04-30T20:26:06.300Z"
   },
   {
    "duration": 4,
    "start_time": "2022-04-30T20:26:06.520Z"
   },
   {
    "duration": 5,
    "start_time": "2022-04-30T20:26:06.526Z"
   },
   {
    "duration": 29,
    "start_time": "2022-04-30T20:26:06.533Z"
   },
   {
    "duration": 4,
    "start_time": "2022-04-30T20:26:06.884Z"
   },
   {
    "duration": 4,
    "start_time": "2022-04-30T20:26:06.890Z"
   },
   {
    "duration": 4,
    "start_time": "2022-04-30T20:26:06.896Z"
   },
   {
    "duration": 4,
    "start_time": "2022-04-30T20:26:06.902Z"
   },
   {
    "duration": 914,
    "start_time": "2022-04-30T20:26:06.908Z"
   },
   {
    "duration": 4,
    "start_time": "2022-04-30T20:26:07.824Z"
   },
   {
    "duration": 404,
    "start_time": "2022-04-30T20:26:07.829Z"
   },
   {
    "duration": 104,
    "start_time": "2022-04-30T20:26:08.236Z"
   },
   {
    "duration": 4,
    "start_time": "2022-04-30T20:26:08.342Z"
   },
   {
    "duration": 12,
    "start_time": "2022-04-30T20:26:08.347Z"
   },
   {
    "duration": 16,
    "start_time": "2022-04-30T20:26:08.361Z"
   },
   {
    "duration": 14,
    "start_time": "2022-04-30T20:26:08.379Z"
   },
   {
    "duration": 15,
    "start_time": "2022-04-30T20:26:08.395Z"
   },
   {
    "duration": 13,
    "start_time": "2022-04-30T20:26:08.412Z"
   },
   {
    "duration": 19947,
    "start_time": "2022-04-30T20:26:10.776Z"
   },
   {
    "duration": 6,
    "start_time": "2022-04-30T20:26:30.726Z"
   },
   {
    "duration": 629,
    "start_time": "2022-04-30T20:26:30.823Z"
   },
   {
    "duration": 5,
    "start_time": "2022-04-30T20:26:31.454Z"
   },
   {
    "duration": 61,
    "start_time": "2022-04-30T20:26:31.461Z"
   },
   {
    "duration": 20,
    "start_time": "2022-04-30T20:26:31.524Z"
   },
   {
    "duration": 12,
    "start_time": "2022-04-30T20:26:31.546Z"
   },
   {
    "duration": 14,
    "start_time": "2022-04-30T20:26:31.560Z"
   },
   {
    "duration": 21,
    "start_time": "2022-04-30T20:26:31.576Z"
   },
   {
    "duration": 11,
    "start_time": "2022-04-30T20:26:31.599Z"
   },
   {
    "duration": 7,
    "start_time": "2022-04-30T20:26:31.612Z"
   },
   {
    "duration": 2484,
    "start_time": "2022-04-30T20:29:02.030Z"
   },
   {
    "duration": 1716,
    "start_time": "2022-04-30T20:29:04.521Z"
   },
   {
    "duration": 3,
    "start_time": "2022-04-30T20:29:06.239Z"
   },
   {
    "duration": 895,
    "start_time": "2022-04-30T20:29:06.244Z"
   },
   {
    "duration": 3,
    "start_time": "2022-04-30T20:29:07.140Z"
   },
   {
    "duration": 20,
    "start_time": "2022-04-30T20:29:07.145Z"
   },
   {
    "duration": 160,
    "start_time": "2022-04-30T20:29:07.167Z"
   },
   {
    "duration": 4,
    "start_time": "2022-04-30T20:29:07.329Z"
   },
   {
    "duration": 152,
    "start_time": "2022-04-30T20:29:07.335Z"
   },
   {
    "duration": 506,
    "start_time": "2022-04-30T20:29:07.488Z"
   },
   {
    "duration": 96,
    "start_time": "2022-04-30T20:29:07.995Z"
   },
   {
    "duration": 824,
    "start_time": "2022-04-30T20:29:08.093Z"
   },
   {
    "duration": 596,
    "start_time": "2022-04-30T20:29:08.922Z"
   },
   {
    "duration": 265,
    "start_time": "2022-04-30T20:29:09.520Z"
   },
   {
    "duration": 475,
    "start_time": "2022-04-30T20:29:09.788Z"
   },
   {
    "duration": 18,
    "start_time": "2022-04-30T20:29:10.265Z"
   },
   {
    "duration": 17,
    "start_time": "2022-04-30T20:29:10.285Z"
   },
   {
    "duration": 38,
    "start_time": "2022-04-30T20:29:10.303Z"
   },
   {
    "duration": 129,
    "start_time": "2022-04-30T20:29:10.343Z"
   },
   {
    "duration": 10,
    "start_time": "2022-04-30T20:29:10.474Z"
   },
   {
    "duration": 113,
    "start_time": "2022-04-30T20:29:10.486Z"
   },
   {
    "duration": 26,
    "start_time": "2022-04-30T20:29:10.600Z"
   },
   {
    "duration": 22,
    "start_time": "2022-04-30T20:29:10.628Z"
   },
   {
    "duration": 21,
    "start_time": "2022-04-30T20:29:10.652Z"
   },
   {
    "duration": 20,
    "start_time": "2022-04-30T20:29:10.674Z"
   },
   {
    "duration": 46,
    "start_time": "2022-04-30T20:29:10.696Z"
   },
   {
    "duration": 20,
    "start_time": "2022-04-30T20:29:10.744Z"
   },
   {
    "duration": 7,
    "start_time": "2022-04-30T20:29:10.765Z"
   },
   {
    "duration": 12,
    "start_time": "2022-04-30T20:29:10.773Z"
   },
   {
    "duration": 102,
    "start_time": "2022-04-30T20:29:10.786Z"
   },
   {
    "duration": 21,
    "start_time": "2022-04-30T20:29:11.267Z"
   },
   {
    "duration": 2718,
    "start_time": "2022-04-30T20:29:11.290Z"
   },
   {
    "duration": 188,
    "start_time": "2022-04-30T20:29:14.010Z"
   },
   {
    "duration": 24,
    "start_time": "2022-04-30T20:29:14.200Z"
   },
   {
    "duration": 20,
    "start_time": "2022-04-30T20:29:14.226Z"
   },
   {
    "duration": 122,
    "start_time": "2022-04-30T20:29:14.248Z"
   },
   {
    "duration": 135,
    "start_time": "2022-04-30T20:29:14.372Z"
   },
   {
    "duration": 136,
    "start_time": "2022-04-30T20:29:14.509Z"
   },
   {
    "duration": 3,
    "start_time": "2022-04-30T20:29:14.648Z"
   },
   {
    "duration": 30,
    "start_time": "2022-04-30T20:29:14.653Z"
   },
   {
    "duration": 4,
    "start_time": "2022-04-30T20:29:14.685Z"
   },
   {
    "duration": 33,
    "start_time": "2022-04-30T20:29:14.691Z"
   },
   {
    "duration": 70,
    "start_time": "2022-04-30T20:29:14.726Z"
   },
   {
    "duration": 4,
    "start_time": "2022-04-30T20:29:14.799Z"
   },
   {
    "duration": 5,
    "start_time": "2022-04-30T20:29:15.712Z"
   },
   {
    "duration": 14,
    "start_time": "2022-04-30T20:29:15.719Z"
   },
   {
    "duration": 4,
    "start_time": "2022-04-30T20:29:15.735Z"
   },
   {
    "duration": 31,
    "start_time": "2022-04-30T20:29:15.740Z"
   },
   {
    "duration": 4,
    "start_time": "2022-04-30T20:29:15.773Z"
   },
   {
    "duration": 5,
    "start_time": "2022-04-30T20:29:15.779Z"
   },
   {
    "duration": 6,
    "start_time": "2022-04-30T20:29:15.786Z"
   },
   {
    "duration": 12,
    "start_time": "2022-04-30T20:29:15.794Z"
   },
   {
    "duration": 919,
    "start_time": "2022-04-30T20:29:15.807Z"
   },
   {
    "duration": 4,
    "start_time": "2022-04-30T20:29:16.728Z"
   },
   {
    "duration": 404,
    "start_time": "2022-04-30T20:29:16.734Z"
   },
   {
    "duration": 96,
    "start_time": "2022-04-30T20:29:19.557Z"
   },
   {
    "duration": 3,
    "start_time": "2022-04-30T20:29:19.656Z"
   },
   {
    "duration": 7,
    "start_time": "2022-04-30T20:29:19.661Z"
   },
   {
    "duration": 8,
    "start_time": "2022-04-30T20:29:19.669Z"
   },
   {
    "duration": 5,
    "start_time": "2022-04-30T20:29:19.679Z"
   },
   {
    "duration": 5,
    "start_time": "2022-04-30T20:29:19.685Z"
   },
   {
    "duration": 6,
    "start_time": "2022-04-30T20:29:19.692Z"
   },
   {
    "duration": 2255,
    "start_time": "2022-04-30T20:29:19.722Z"
   },
   {
    "duration": 18967,
    "start_time": "2022-04-30T20:29:21.979Z"
   },
   {
    "duration": 7,
    "start_time": "2022-04-30T20:29:41.025Z"
   },
   {
    "duration": 623,
    "start_time": "2022-04-30T20:29:41.123Z"
   },
   {
    "duration": 4,
    "start_time": "2022-04-30T20:29:41.747Z"
   },
   {
    "duration": 42,
    "start_time": "2022-04-30T20:29:41.752Z"
   },
   {
    "duration": 37,
    "start_time": "2022-04-30T20:29:41.797Z"
   },
   {
    "duration": 4,
    "start_time": "2022-04-30T20:29:41.836Z"
   },
   {
    "duration": 6,
    "start_time": "2022-04-30T20:29:41.841Z"
   },
   {
    "duration": 4,
    "start_time": "2022-04-30T20:29:41.848Z"
   },
   {
    "duration": 5,
    "start_time": "2022-04-30T20:29:41.853Z"
   },
   {
    "duration": 4,
    "start_time": "2022-04-30T20:29:41.860Z"
   },
   {
    "duration": 6,
    "start_time": "2022-04-30T20:29:41.865Z"
   },
   {
    "duration": 106,
    "start_time": "2022-04-30T20:29:41.872Z"
   },
   {
    "duration": 3345,
    "start_time": "2022-04-30T20:30:01.188Z"
   },
   {
    "duration": 1900,
    "start_time": "2022-04-30T20:31:00.553Z"
   },
   {
    "duration": 3,
    "start_time": "2022-04-30T20:31:02.455Z"
   },
   {
    "duration": 794,
    "start_time": "2022-04-30T20:31:02.460Z"
   },
   {
    "duration": 3,
    "start_time": "2022-04-30T20:31:03.647Z"
   },
   {
    "duration": 18,
    "start_time": "2022-04-30T20:31:03.652Z"
   },
   {
    "duration": 142,
    "start_time": "2022-04-30T20:31:03.671Z"
   },
   {
    "duration": 4,
    "start_time": "2022-04-30T20:31:06.720Z"
   },
   {
    "duration": 137,
    "start_time": "2022-04-30T20:31:06.726Z"
   },
   {
    "duration": 574,
    "start_time": "2022-04-30T20:31:06.865Z"
   },
   {
    "duration": 91,
    "start_time": "2022-04-30T20:31:12.904Z"
   },
   {
    "duration": 786,
    "start_time": "2022-04-30T20:31:12.997Z"
   },
   {
    "duration": 555,
    "start_time": "2022-04-30T20:31:13.785Z"
   },
   {
    "duration": 278,
    "start_time": "2022-04-30T20:31:14.342Z"
   },
   {
    "duration": 498,
    "start_time": "2022-04-30T20:31:14.622Z"
   },
   {
    "duration": 23,
    "start_time": "2022-04-30T20:31:15.949Z"
   },
   {
    "duration": 19,
    "start_time": "2022-04-30T20:31:15.974Z"
   },
   {
    "duration": 20,
    "start_time": "2022-04-30T20:31:15.994Z"
   },
   {
    "duration": 113,
    "start_time": "2022-04-30T20:31:16.727Z"
   },
   {
    "duration": 12,
    "start_time": "2022-04-30T20:31:16.842Z"
   },
   {
    "duration": 115,
    "start_time": "2022-04-30T20:31:16.856Z"
   },
   {
    "duration": 20,
    "start_time": "2022-04-30T20:31:16.973Z"
   },
   {
    "duration": 30,
    "start_time": "2022-04-30T20:31:16.995Z"
   },
   {
    "duration": 21,
    "start_time": "2022-04-30T20:31:17.596Z"
   },
   {
    "duration": 21,
    "start_time": "2022-04-30T20:31:17.619Z"
   },
   {
    "duration": 22,
    "start_time": "2022-04-30T20:31:17.642Z"
   },
   {
    "duration": 19,
    "start_time": "2022-04-30T20:31:17.666Z"
   },
   {
    "duration": 6,
    "start_time": "2022-04-30T20:31:17.688Z"
   },
   {
    "duration": 30,
    "start_time": "2022-04-30T20:31:17.696Z"
   },
   {
    "duration": 69,
    "start_time": "2022-04-30T20:31:17.727Z"
   },
   {
    "duration": 40,
    "start_time": "2022-04-30T20:31:17.798Z"
   },
   {
    "duration": 2526,
    "start_time": "2022-04-30T20:31:17.840Z"
   },
   {
    "duration": 217,
    "start_time": "2022-04-30T20:31:20.368Z"
   },
   {
    "duration": 16,
    "start_time": "2022-04-30T20:31:20.586Z"
   },
   {
    "duration": 34,
    "start_time": "2022-04-30T20:31:20.603Z"
   },
   {
    "duration": 106,
    "start_time": "2022-04-30T20:31:20.639Z"
   },
   {
    "duration": 124,
    "start_time": "2022-04-30T20:31:20.748Z"
   },
   {
    "duration": 143,
    "start_time": "2022-04-30T20:31:20.874Z"
   },
   {
    "duration": 3,
    "start_time": "2022-04-30T20:31:21.022Z"
   },
   {
    "duration": 30,
    "start_time": "2022-04-30T20:31:21.027Z"
   },
   {
    "duration": 5,
    "start_time": "2022-04-30T20:31:24.798Z"
   },
   {
    "duration": 5,
    "start_time": "2022-04-30T20:31:24.805Z"
   },
   {
    "duration": 68,
    "start_time": "2022-04-30T20:31:24.811Z"
   },
   {
    "duration": 3477,
    "start_time": "2022-05-01T04:26:13.716Z"
   },
   {
    "duration": 2113,
    "start_time": "2022-05-01T04:26:17.197Z"
   },
   {
    "duration": 4,
    "start_time": "2022-05-01T04:26:19.313Z"
   },
   {
    "duration": 1103,
    "start_time": "2022-05-01T04:26:19.321Z"
   },
   {
    "duration": 3,
    "start_time": "2022-05-01T04:26:20.426Z"
   },
   {
    "duration": 39,
    "start_time": "2022-05-01T04:26:20.431Z"
   },
   {
    "duration": 186,
    "start_time": "2022-05-01T04:26:20.472Z"
   },
   {
    "duration": 6,
    "start_time": "2022-05-01T04:26:20.660Z"
   },
   {
    "duration": 178,
    "start_time": "2022-05-01T04:26:20.670Z"
   },
   {
    "duration": 673,
    "start_time": "2022-05-01T04:26:20.854Z"
   },
   {
    "duration": 125,
    "start_time": "2022-05-01T04:26:21.530Z"
   },
   {
    "duration": 1028,
    "start_time": "2022-05-01T04:27:35.212Z"
   },
   {
    "duration": 773,
    "start_time": "2022-05-01T04:27:36.251Z"
   },
   {
    "duration": 438,
    "start_time": "2022-05-01T04:27:37.026Z"
   },
   {
    "duration": 596,
    "start_time": "2022-05-01T04:27:37.466Z"
   },
   {
    "duration": 25,
    "start_time": "2022-05-01T04:27:38.065Z"
   },
   {
    "duration": 24,
    "start_time": "2022-05-01T04:27:38.092Z"
   },
   {
    "duration": 54,
    "start_time": "2022-05-01T04:27:38.118Z"
   },
   {
    "duration": 187,
    "start_time": "2022-05-01T04:27:38.174Z"
   },
   {
    "duration": 13,
    "start_time": "2022-05-01T04:27:38.363Z"
   },
   {
    "duration": 169,
    "start_time": "2022-05-01T04:27:38.378Z"
   },
   {
    "duration": 26,
    "start_time": "2022-05-01T04:27:38.551Z"
   },
   {
    "duration": 26,
    "start_time": "2022-05-01T04:27:38.579Z"
   },
   {
    "duration": 46,
    "start_time": "2022-05-01T04:27:38.607Z"
   },
   {
    "duration": 25,
    "start_time": "2022-05-01T04:27:38.657Z"
   },
   {
    "duration": 27,
    "start_time": "2022-05-01T04:27:38.685Z"
   },
   {
    "duration": 52,
    "start_time": "2022-05-01T04:27:38.714Z"
   },
   {
    "duration": 8,
    "start_time": "2022-05-01T04:27:38.768Z"
   },
   {
    "duration": 17,
    "start_time": "2022-05-01T04:27:38.778Z"
   },
   {
    "duration": 143,
    "start_time": "2022-05-01T04:27:38.798Z"
   },
   {
    "duration": 33,
    "start_time": "2022-05-01T04:27:38.943Z"
   },
   {
    "duration": 3222,
    "start_time": "2022-05-01T04:27:38.978Z"
   },
   {
    "duration": 347,
    "start_time": "2022-05-01T04:27:42.202Z"
   },
   {
    "duration": 22,
    "start_time": "2022-05-01T04:27:42.552Z"
   },
   {
    "duration": 28,
    "start_time": "2022-05-01T04:27:42.576Z"
   },
   {
    "duration": 179,
    "start_time": "2022-05-01T04:27:42.607Z"
   },
   {
    "duration": 144,
    "start_time": "2022-05-01T04:27:42.788Z"
   },
   {
    "duration": 151,
    "start_time": "2022-05-01T04:27:42.934Z"
   },
   {
    "duration": 4,
    "start_time": "2022-05-01T04:27:43.087Z"
   },
   {
    "duration": 60,
    "start_time": "2022-05-01T04:27:43.093Z"
   },
   {
    "duration": 5,
    "start_time": "2022-05-01T04:27:43.155Z"
   },
   {
    "duration": 12,
    "start_time": "2022-05-01T04:27:43.162Z"
   },
   {
    "duration": 145,
    "start_time": "2022-05-01T04:27:43.176Z"
   },
   {
    "duration": 6,
    "start_time": "2022-05-01T04:27:43.323Z"
   },
   {
    "duration": 8,
    "start_time": "2022-05-01T04:27:43.332Z"
   },
   {
    "duration": 13,
    "start_time": "2022-05-01T04:27:43.342Z"
   },
   {
    "duration": 6,
    "start_time": "2022-05-01T04:27:43.358Z"
   },
   {
    "duration": 55,
    "start_time": "2022-05-01T04:27:43.366Z"
   },
   {
    "duration": 6,
    "start_time": "2022-05-01T04:27:43.423Z"
   },
   {
    "duration": 5,
    "start_time": "2022-05-01T04:27:43.451Z"
   },
   {
    "duration": 8,
    "start_time": "2022-05-01T04:27:43.458Z"
   },
   {
    "duration": 5,
    "start_time": "2022-05-01T04:27:43.472Z"
   },
   {
    "duration": 1338,
    "start_time": "2022-05-01T04:27:43.479Z"
   },
   {
    "duration": 6,
    "start_time": "2022-05-01T04:27:44.820Z"
   },
   {
    "duration": 563,
    "start_time": "2022-05-01T04:27:44.830Z"
   },
   {
    "duration": 130,
    "start_time": "2022-05-01T04:27:45.395Z"
   },
   {
    "duration": 5,
    "start_time": "2022-05-01T04:27:45.528Z"
   },
   {
    "duration": 20,
    "start_time": "2022-05-01T04:27:45.535Z"
   },
   {
    "duration": 9,
    "start_time": "2022-05-01T04:27:45.558Z"
   },
   {
    "duration": 7,
    "start_time": "2022-05-01T04:27:45.569Z"
   },
   {
    "duration": 8,
    "start_time": "2022-05-01T04:27:45.578Z"
   },
   {
    "duration": 6,
    "start_time": "2022-05-01T04:27:45.588Z"
   },
   {
    "duration": 3204,
    "start_time": "2022-05-01T04:27:45.596Z"
   },
   {
    "duration": 24656,
    "start_time": "2022-05-01T04:27:48.802Z"
   },
   {
    "duration": 94,
    "start_time": "2022-05-01T04:28:13.461Z"
   },
   {
    "duration": 953,
    "start_time": "2022-05-01T04:28:13.557Z"
   },
   {
    "duration": 6,
    "start_time": "2022-05-01T04:28:14.512Z"
   },
   {
    "duration": 81,
    "start_time": "2022-05-01T04:28:14.521Z"
   },
   {
    "duration": 27,
    "start_time": "2022-05-01T04:28:14.604Z"
   },
   {
    "duration": 19,
    "start_time": "2022-05-01T04:28:14.633Z"
   },
   {
    "duration": 5,
    "start_time": "2022-05-01T04:28:14.654Z"
   },
   {
    "duration": 7,
    "start_time": "2022-05-01T04:28:14.662Z"
   },
   {
    "duration": 6,
    "start_time": "2022-05-01T04:28:14.672Z"
   },
   {
    "duration": 8,
    "start_time": "2022-05-01T04:28:14.680Z"
   },
   {
    "duration": 6,
    "start_time": "2022-05-01T04:28:14.690Z"
   },
   {
    "duration": 153,
    "start_time": "2022-05-01T04:28:14.699Z"
   },
   {
    "duration": 44667,
    "start_time": "2022-05-01T04:28:14.854Z"
   },
   {
    "duration": 4,
    "start_time": "2022-05-01T04:28:59.523Z"
   },
   {
    "duration": 25,
    "start_time": "2022-05-01T04:28:59.530Z"
   },
   {
    "duration": 7,
    "start_time": "2022-05-01T04:28:59.557Z"
   },
   {
    "duration": 10,
    "start_time": "2022-05-01T04:28:59.566Z"
   },
   {
    "duration": 9,
    "start_time": "2022-05-01T04:28:59.578Z"
   },
   {
    "duration": 9,
    "start_time": "2022-05-01T04:28:59.589Z"
   },
   {
    "duration": 9,
    "start_time": "2022-05-01T04:28:59.600Z"
   },
   {
    "duration": 9,
    "start_time": "2022-05-01T04:28:59.611Z"
   },
   {
    "duration": 8,
    "start_time": "2022-05-01T04:28:59.622Z"
   },
   {
    "duration": 6030,
    "start_time": "2022-05-01T04:28:59.632Z"
   },
   {
    "duration": 798,
    "start_time": "2022-05-01T04:29:05.664Z"
   },
   {
    "duration": 87,
    "start_time": "2022-05-01T04:29:06.464Z"
   },
   {
    "duration": 1452613,
    "start_time": "2022-05-01T04:29:06.553Z"
   },
   {
    "duration": 824,
    "start_time": "2022-05-01T04:53:19.169Z"
   },
   {
    "duration": 5,
    "start_time": "2022-05-01T05:00:28.446Z"
   },
   {
    "duration": 540,
    "start_time": "2022-05-01T05:06:15.929Z"
   },
   {
    "duration": 15,
    "start_time": "2022-05-01T05:16:23.366Z"
   },
   {
    "duration": 14,
    "start_time": "2022-05-01T05:16:34.441Z"
   },
   {
    "duration": 14,
    "start_time": "2022-05-01T05:16:57.159Z"
   },
   {
    "duration": 15,
    "start_time": "2022-05-01T05:17:09.813Z"
   },
   {
    "duration": 15,
    "start_time": "2022-05-01T05:17:32.279Z"
   },
   {
    "duration": 14,
    "start_time": "2022-05-01T05:19:07.286Z"
   },
   {
    "duration": 15,
    "start_time": "2022-05-01T05:19:41.888Z"
   },
   {
    "duration": 15,
    "start_time": "2022-05-01T05:20:10.179Z"
   },
   {
    "duration": 17,
    "start_time": "2022-05-01T05:20:34.739Z"
   },
   {
    "duration": 16,
    "start_time": "2022-05-01T05:24:13.336Z"
   },
   {
    "duration": 13,
    "start_time": "2022-05-01T05:24:40.650Z"
   },
   {
    "duration": 0,
    "start_time": "2022-05-01T05:25:03.069Z"
   },
   {
    "duration": 22034,
    "start_time": "2022-05-01T05:26:00.423Z"
   },
   {
    "duration": 14248,
    "start_time": "2022-05-01T05:30:45.412Z"
   },
   {
    "duration": 13784,
    "start_time": "2022-05-01T05:33:27.985Z"
   },
   {
    "duration": 11322,
    "start_time": "2022-05-01T05:35:48.539Z"
   },
   {
    "duration": 564,
    "start_time": "2022-05-01T05:36:10.604Z"
   },
   {
    "duration": 498,
    "start_time": "2022-05-01T06:00:27.775Z"
   },
   {
    "duration": 488,
    "start_time": "2022-05-01T06:01:09.285Z"
   },
   {
    "duration": 107,
    "start_time": "2022-05-01T06:01:38.085Z"
   },
   {
    "duration": 4,
    "start_time": "2022-05-01T06:02:21.800Z"
   },
   {
    "duration": 27,
    "start_time": "2022-05-01T06:02:24.857Z"
   },
   {
    "duration": 34,
    "start_time": "2022-05-01T06:02:43.765Z"
   },
   {
    "duration": 38597,
    "start_time": "2022-05-01T06:02:52.769Z"
   },
   {
    "duration": 5,
    "start_time": "2022-05-01T06:03:31.566Z"
   },
   {
    "duration": 28329,
    "start_time": "2022-05-01T06:03:33.223Z"
   },
   {
    "duration": 40964,
    "start_time": "2022-05-01T06:04:12.896Z"
   },
   {
    "duration": 36394,
    "start_time": "2022-05-01T06:23:06.969Z"
   },
   {
    "duration": 14,
    "start_time": "2022-05-01T06:43:09.802Z"
   },
   {
    "duration": 13,
    "start_time": "2022-05-01T06:43:44.145Z"
   },
   {
    "duration": 14,
    "start_time": "2022-05-01T06:44:12.789Z"
   },
   {
    "duration": 13,
    "start_time": "2022-05-01T06:44:36.433Z"
   },
   {
    "duration": 60947,
    "start_time": "2022-05-01T06:45:49.116Z"
   },
   {
    "duration": 22974,
    "start_time": "2022-05-01T06:51:56.191Z"
   },
   {
    "duration": 25656,
    "start_time": "2022-05-01T06:53:19.298Z"
   },
   {
    "duration": 91,
    "start_time": "2022-05-01T06:55:36.821Z"
   },
   {
    "duration": 22163,
    "start_time": "2022-05-01T06:56:47.502Z"
   },
   {
    "duration": 63868,
    "start_time": "2022-05-01T06:57:42.995Z"
   },
   {
    "duration": 0,
    "start_time": "2022-05-01T07:02:10.079Z"
   },
   {
    "duration": 23226,
    "start_time": "2022-05-01T07:02:48.150Z"
   },
   {
    "duration": 65430,
    "start_time": "2022-05-01T07:03:35.745Z"
   },
   {
    "duration": 105,
    "start_time": "2022-05-01T07:12:00.703Z"
   },
   {
    "duration": 99424,
    "start_time": "2022-05-01T07:12:39.936Z"
   },
   {
    "duration": 11,
    "start_time": "2022-05-01T11:23:44.863Z"
   },
   {
    "duration": 71,
    "start_time": "2022-05-01T11:23:49.200Z"
   },
   {
    "duration": 3775,
    "start_time": "2022-05-01T11:23:59.861Z"
   },
   {
    "duration": 2207,
    "start_time": "2022-05-01T11:24:03.639Z"
   },
   {
    "duration": 4,
    "start_time": "2022-05-01T11:24:05.849Z"
   },
   {
    "duration": 1110,
    "start_time": "2022-05-01T11:24:05.856Z"
   },
   {
    "duration": 3,
    "start_time": "2022-05-01T11:24:06.969Z"
   },
   {
    "duration": 31,
    "start_time": "2022-05-01T11:24:06.975Z"
   },
   {
    "duration": 180,
    "start_time": "2022-05-01T11:24:07.025Z"
   },
   {
    "duration": 23,
    "start_time": "2022-05-01T11:24:07.207Z"
   },
   {
    "duration": 166,
    "start_time": "2022-05-01T11:24:07.232Z"
   },
   {
    "duration": 723,
    "start_time": "2022-05-01T11:24:07.402Z"
   },
   {
    "duration": 123,
    "start_time": "2022-05-01T11:24:08.127Z"
   },
   {
    "duration": 1125,
    "start_time": "2022-05-01T11:24:08.252Z"
   },
   {
    "duration": 910,
    "start_time": "2022-05-01T11:24:09.379Z"
   },
   {
    "duration": 463,
    "start_time": "2022-05-01T11:24:10.291Z"
   },
   {
    "duration": 635,
    "start_time": "2022-05-01T11:24:10.756Z"
   },
   {
    "duration": 34,
    "start_time": "2022-05-01T11:24:11.394Z"
   },
   {
    "duration": 24,
    "start_time": "2022-05-01T11:24:11.430Z"
   },
   {
    "duration": 27,
    "start_time": "2022-05-01T11:24:11.456Z"
   },
   {
    "duration": 211,
    "start_time": "2022-05-01T11:24:11.486Z"
   },
   {
    "duration": 14,
    "start_time": "2022-05-01T11:24:11.699Z"
   },
   {
    "duration": 165,
    "start_time": "2022-05-01T11:24:11.725Z"
   },
   {
    "duration": 36,
    "start_time": "2022-05-01T11:24:11.892Z"
   },
   {
    "duration": 27,
    "start_time": "2022-05-01T11:24:11.930Z"
   },
   {
    "duration": 28,
    "start_time": "2022-05-01T11:24:11.959Z"
   },
   {
    "duration": 50,
    "start_time": "2022-05-01T11:24:11.989Z"
   },
   {
    "duration": 32,
    "start_time": "2022-05-01T11:24:12.041Z"
   },
   {
    "duration": 51,
    "start_time": "2022-05-01T11:24:12.076Z"
   },
   {
    "duration": 8,
    "start_time": "2022-05-01T11:24:12.133Z"
   },
   {
    "duration": 12,
    "start_time": "2022-05-01T11:24:12.143Z"
   },
   {
    "duration": 150,
    "start_time": "2022-05-01T11:24:12.158Z"
   },
   {
    "duration": 36,
    "start_time": "2022-05-01T11:24:12.310Z"
   },
   {
    "duration": 3458,
    "start_time": "2022-05-01T11:24:12.348Z"
   },
   {
    "duration": 253,
    "start_time": "2022-05-01T11:24:15.808Z"
   },
   {
    "duration": 22,
    "start_time": "2022-05-01T11:24:16.063Z"
   },
   {
    "duration": 52,
    "start_time": "2022-05-01T11:24:16.087Z"
   },
   {
    "duration": 164,
    "start_time": "2022-05-01T11:24:16.141Z"
   },
   {
    "duration": 152,
    "start_time": "2022-05-01T11:24:16.307Z"
   },
   {
    "duration": 173,
    "start_time": "2022-05-01T11:24:16.461Z"
   },
   {
    "duration": 4,
    "start_time": "2022-05-01T11:24:16.636Z"
   },
   {
    "duration": 49,
    "start_time": "2022-05-01T11:24:16.642Z"
   },
   {
    "duration": 31,
    "start_time": "2022-05-01T11:24:16.693Z"
   },
   {
    "duration": 6,
    "start_time": "2022-05-01T11:24:16.726Z"
   },
   {
    "duration": 1470,
    "start_time": "2022-05-01T11:24:16.734Z"
   },
   {
    "duration": 5,
    "start_time": "2022-05-01T11:24:18.207Z"
   },
   {
    "duration": 562,
    "start_time": "2022-05-01T11:24:18.225Z"
   },
   {
    "duration": 130,
    "start_time": "2022-05-01T11:24:18.790Z"
   },
   {
    "duration": 5,
    "start_time": "2022-05-01T11:24:18.925Z"
   },
   {
    "duration": 7,
    "start_time": "2022-05-01T11:24:18.932Z"
   },
   {
    "duration": 6,
    "start_time": "2022-05-01T11:24:18.941Z"
   },
   {
    "duration": 7,
    "start_time": "2022-05-01T11:24:18.949Z"
   },
   {
    "duration": 7,
    "start_time": "2022-05-01T11:24:18.958Z"
   },
   {
    "duration": 6,
    "start_time": "2022-05-01T11:24:18.967Z"
   },
   {
    "duration": 3354,
    "start_time": "2022-05-01T11:24:18.975Z"
   },
   {
    "duration": 34497,
    "start_time": "2022-05-01T11:24:22.331Z"
   },
   {
    "duration": 96,
    "start_time": "2022-05-01T11:24:56.831Z"
   },
   {
    "duration": 1382,
    "start_time": "2022-05-01T11:24:56.930Z"
   },
   {
    "duration": 11,
    "start_time": "2022-05-01T11:24:58.315Z"
   },
   {
    "duration": 80,
    "start_time": "2022-05-01T11:24:58.329Z"
   },
   {
    "duration": 36,
    "start_time": "2022-05-01T11:24:58.426Z"
   },
   {
    "duration": 7,
    "start_time": "2022-05-01T11:24:58.465Z"
   },
   {
    "duration": 9,
    "start_time": "2022-05-01T11:24:58.474Z"
   },
   {
    "duration": 41,
    "start_time": "2022-05-01T11:24:58.485Z"
   },
   {
    "duration": 5,
    "start_time": "2022-05-01T11:24:58.530Z"
   },
   {
    "duration": 12,
    "start_time": "2022-05-01T11:24:58.538Z"
   },
   {
    "duration": 8,
    "start_time": "2022-05-01T11:24:58.552Z"
   },
   {
    "duration": 151,
    "start_time": "2022-05-01T11:24:58.562Z"
   },
   {
    "duration": 51608,
    "start_time": "2022-05-01T11:24:58.718Z"
   },
   {
    "duration": 3,
    "start_time": "2022-05-01T11:25:50.328Z"
   },
   {
    "duration": 10,
    "start_time": "2022-05-01T11:25:50.334Z"
   },
   {
    "duration": 22,
    "start_time": "2022-05-01T11:25:50.347Z"
   },
   {
    "duration": 20,
    "start_time": "2022-05-01T11:25:50.371Z"
   },
   {
    "duration": 12,
    "start_time": "2022-05-01T11:25:50.393Z"
   },
   {
    "duration": 14,
    "start_time": "2022-05-01T11:25:50.407Z"
   },
   {
    "duration": 24,
    "start_time": "2022-05-01T11:25:50.423Z"
   },
   {
    "duration": 16,
    "start_time": "2022-05-01T11:25:50.449Z"
   },
   {
    "duration": 2407185,
    "start_time": "2022-05-01T11:25:50.467Z"
   },
   {
    "duration": 4,
    "start_time": "2022-05-01T12:05:57.655Z"
   },
   {
    "duration": 25865,
    "start_time": "2022-05-01T12:05:57.660Z"
   },
   {
    "duration": 4931,
    "start_time": "2022-05-01T12:45:37.987Z"
   },
   {
    "duration": 2024,
    "start_time": "2022-05-01T12:45:42.922Z"
   },
   {
    "duration": 5,
    "start_time": "2022-05-01T12:45:44.948Z"
   },
   {
    "duration": 1233,
    "start_time": "2022-05-01T12:45:44.955Z"
   },
   {
    "duration": 4,
    "start_time": "2022-05-01T12:45:46.190Z"
   },
   {
    "duration": 41,
    "start_time": "2022-05-01T12:45:46.196Z"
   },
   {
    "duration": 184,
    "start_time": "2022-05-01T12:45:46.240Z"
   },
   {
    "duration": 6,
    "start_time": "2022-05-01T12:45:46.427Z"
   },
   {
    "duration": 180,
    "start_time": "2022-05-01T12:45:46.438Z"
   },
   {
    "duration": 744,
    "start_time": "2022-05-01T12:45:46.622Z"
   },
   {
    "duration": 131,
    "start_time": "2022-05-01T12:45:47.368Z"
   },
   {
    "duration": 1081,
    "start_time": "2022-05-01T12:45:47.501Z"
   },
   {
    "duration": 825,
    "start_time": "2022-05-01T12:45:48.584Z"
   },
   {
    "duration": 457,
    "start_time": "2022-05-01T12:45:49.411Z"
   },
   {
    "duration": 648,
    "start_time": "2022-05-01T12:45:49.870Z"
   },
   {
    "duration": 26,
    "start_time": "2022-05-01T12:45:50.526Z"
   },
   {
    "duration": 23,
    "start_time": "2022-05-01T12:45:50.555Z"
   },
   {
    "duration": 63,
    "start_time": "2022-05-01T12:45:50.580Z"
   },
   {
    "duration": 183,
    "start_time": "2022-05-01T12:45:50.645Z"
   },
   {
    "duration": 14,
    "start_time": "2022-05-01T12:45:50.831Z"
   },
   {
    "duration": 183,
    "start_time": "2022-05-01T12:45:50.847Z"
   },
   {
    "duration": 28,
    "start_time": "2022-05-01T12:45:51.032Z"
   },
   {
    "duration": 29,
    "start_time": "2022-05-01T12:45:51.063Z"
   },
   {
    "duration": 58,
    "start_time": "2022-05-01T12:45:51.094Z"
   },
   {
    "duration": 29,
    "start_time": "2022-05-01T12:45:51.155Z"
   },
   {
    "duration": 50,
    "start_time": "2022-05-01T12:45:51.186Z"
   },
   {
    "duration": 29,
    "start_time": "2022-05-01T12:45:51.238Z"
   },
   {
    "duration": 8,
    "start_time": "2022-05-01T12:45:51.274Z"
   },
   {
    "duration": 50,
    "start_time": "2022-05-01T12:45:51.284Z"
   },
   {
    "duration": 134,
    "start_time": "2022-05-01T12:45:51.336Z"
   },
   {
    "duration": 29,
    "start_time": "2022-05-01T12:45:51.472Z"
   },
   {
    "duration": 3875,
    "start_time": "2022-05-01T12:45:51.503Z"
   },
   {
    "duration": 266,
    "start_time": "2022-05-01T12:45:55.381Z"
   },
   {
    "duration": 23,
    "start_time": "2022-05-01T12:45:55.650Z"
   },
   {
    "duration": 231,
    "start_time": "2022-05-01T12:45:55.675Z"
   },
   {
    "duration": 266,
    "start_time": "2022-05-01T12:45:55.909Z"
   },
   {
    "duration": 163,
    "start_time": "2022-05-01T12:45:56.178Z"
   },
   {
    "duration": 288,
    "start_time": "2022-05-01T12:45:56.343Z"
   },
   {
    "duration": 109,
    "start_time": "2022-05-01T12:45:56.633Z"
   },
   {
    "duration": 203,
    "start_time": "2022-05-01T12:45:56.744Z"
   },
   {
    "duration": 103,
    "start_time": "2022-05-01T12:45:56.949Z"
   },
   {
    "duration": 155,
    "start_time": "2022-05-01T12:45:57.054Z"
   },
   {
    "duration": 1672,
    "start_time": "2022-05-01T12:45:57.211Z"
   },
   {
    "duration": 5,
    "start_time": "2022-05-01T12:45:58.886Z"
   },
   {
    "duration": 581,
    "start_time": "2022-05-01T12:45:58.894Z"
   },
   {
    "duration": 159,
    "start_time": "2022-05-01T12:45:59.477Z"
   },
   {
    "duration": 6,
    "start_time": "2022-05-01T12:45:59.638Z"
   },
   {
    "duration": 10,
    "start_time": "2022-05-01T12:45:59.647Z"
   },
   {
    "duration": 15,
    "start_time": "2022-05-01T12:45:59.660Z"
   },
   {
    "duration": 18,
    "start_time": "2022-05-01T12:45:59.677Z"
   },
   {
    "duration": 28,
    "start_time": "2022-05-01T12:45:59.698Z"
   },
   {
    "duration": 6,
    "start_time": "2022-05-01T12:45:59.729Z"
   },
   {
    "duration": 3560,
    "start_time": "2022-05-01T12:45:59.738Z"
   },
   {
    "duration": 34727,
    "start_time": "2022-05-01T12:46:03.301Z"
   },
   {
    "duration": 95,
    "start_time": "2022-05-01T12:46:38.031Z"
   },
   {
    "duration": 896,
    "start_time": "2022-05-01T12:46:38.128Z"
   },
   {
    "duration": 5,
    "start_time": "2022-05-01T12:46:39.027Z"
   },
   {
    "duration": 67,
    "start_time": "2022-05-01T12:46:39.035Z"
   },
   {
    "duration": 44,
    "start_time": "2022-05-01T12:46:39.104Z"
   },
   {
    "duration": 8,
    "start_time": "2022-05-01T12:46:39.150Z"
   },
   {
    "duration": 10,
    "start_time": "2022-05-01T12:46:39.160Z"
   },
   {
    "duration": 9,
    "start_time": "2022-05-01T12:46:39.173Z"
   },
   {
    "duration": 41,
    "start_time": "2022-05-01T12:46:39.186Z"
   },
   {
    "duration": 17,
    "start_time": "2022-05-01T12:46:39.230Z"
   },
   {
    "duration": 19,
    "start_time": "2022-05-01T12:46:39.250Z"
   },
   {
    "duration": 122,
    "start_time": "2022-05-01T12:46:39.271Z"
   },
   {
    "duration": 50311,
    "start_time": "2022-05-01T12:46:39.396Z"
   },
   {
    "duration": 20,
    "start_time": "2022-05-01T12:47:29.710Z"
   },
   {
    "duration": 7,
    "start_time": "2022-05-01T12:47:29.733Z"
   },
   {
    "duration": 11,
    "start_time": "2022-05-01T12:47:29.743Z"
   },
   {
    "duration": 14,
    "start_time": "2022-05-01T12:47:29.756Z"
   },
   {
    "duration": 7,
    "start_time": "2022-05-01T12:47:29.772Z"
   },
   {
    "duration": 14,
    "start_time": "2022-05-01T12:47:29.782Z"
   },
   {
    "duration": 26,
    "start_time": "2022-05-01T12:47:29.798Z"
   },
   {
    "duration": 7,
    "start_time": "2022-05-01T12:47:29.826Z"
   },
   {
    "duration": 7,
    "start_time": "2022-05-01T12:47:29.836Z"
   },
   {
    "duration": 6,
    "start_time": "2022-05-01T12:47:29.846Z"
   },
   {
    "duration": 309376,
    "start_time": "2022-05-01T12:47:29.855Z"
   },
   {
    "duration": 6,
    "start_time": "2022-05-01T12:52:39.234Z"
   },
   {
    "duration": 17,
    "start_time": "2022-05-01T12:52:39.242Z"
   },
   {
    "duration": 7,
    "start_time": "2022-05-01T12:53:21.870Z"
   },
   {
    "duration": 12,
    "start_time": "2022-05-01T12:53:22.792Z"
   },
   {
    "duration": 7,
    "start_time": "2022-05-01T12:55:25.012Z"
   },
   {
    "duration": 12,
    "start_time": "2022-05-01T12:55:27.399Z"
   },
   {
    "duration": 212526,
    "start_time": "2022-05-01T12:56:33.718Z"
   },
   {
    "duration": 234906,
    "start_time": "2022-05-01T13:01:50.120Z"
   },
   {
    "duration": 8,
    "start_time": "2022-05-01T13:05:57.789Z"
   },
   {
    "duration": 12,
    "start_time": "2022-05-01T13:05:58.738Z"
   },
   {
    "duration": 4,
    "start_time": "2022-05-01T13:06:47.239Z"
   },
   {
    "duration": 4,
    "start_time": "2022-05-01T13:06:50.221Z"
   },
   {
    "duration": 205038,
    "start_time": "2022-05-01T13:07:22.512Z"
   },
   {
    "duration": 9,
    "start_time": "2022-05-01T15:33:13.164Z"
   },
   {
    "duration": 3450,
    "start_time": "2022-05-01T15:34:14.811Z"
   },
   {
    "duration": 1879,
    "start_time": "2022-05-01T15:34:18.264Z"
   },
   {
    "duration": 4,
    "start_time": "2022-05-01T15:34:20.145Z"
   },
   {
    "duration": 1139,
    "start_time": "2022-05-01T15:34:20.152Z"
   },
   {
    "duration": 4,
    "start_time": "2022-05-01T15:34:21.293Z"
   },
   {
    "duration": 39,
    "start_time": "2022-05-01T15:34:21.298Z"
   },
   {
    "duration": 190,
    "start_time": "2022-05-01T15:34:21.339Z"
   },
   {
    "duration": 6,
    "start_time": "2022-05-01T15:34:21.531Z"
   },
   {
    "duration": 180,
    "start_time": "2022-05-01T15:34:21.539Z"
   },
   {
    "duration": 734,
    "start_time": "2022-05-01T15:34:21.726Z"
   },
   {
    "duration": 132,
    "start_time": "2022-05-01T15:34:22.462Z"
   },
   {
    "duration": 1164,
    "start_time": "2022-05-01T15:34:22.597Z"
   },
   {
    "duration": 927,
    "start_time": "2022-05-01T15:34:23.763Z"
   },
   {
    "duration": 458,
    "start_time": "2022-05-01T15:34:24.693Z"
   },
   {
    "duration": 652,
    "start_time": "2022-05-01T15:34:25.154Z"
   },
   {
    "duration": 34,
    "start_time": "2022-05-01T15:34:25.808Z"
   },
   {
    "duration": 26,
    "start_time": "2022-05-01T15:34:25.844Z"
   },
   {
    "duration": 57,
    "start_time": "2022-05-01T15:34:25.872Z"
   },
   {
    "duration": 188,
    "start_time": "2022-05-01T15:34:25.931Z"
   },
   {
    "duration": 14,
    "start_time": "2022-05-01T15:34:26.121Z"
   },
   {
    "duration": 177,
    "start_time": "2022-05-01T15:34:26.137Z"
   },
   {
    "duration": 32,
    "start_time": "2022-05-01T15:34:26.316Z"
   },
   {
    "duration": 29,
    "start_time": "2022-05-01T15:34:26.350Z"
   },
   {
    "duration": 50,
    "start_time": "2022-05-01T15:34:26.381Z"
   },
   {
    "duration": 30,
    "start_time": "2022-05-01T15:34:26.434Z"
   },
   {
    "duration": 59,
    "start_time": "2022-05-01T15:34:26.467Z"
   },
   {
    "duration": 30,
    "start_time": "2022-05-01T15:34:26.529Z"
   },
   {
    "duration": 9,
    "start_time": "2022-05-01T15:34:26.568Z"
   },
   {
    "duration": 47,
    "start_time": "2022-05-01T15:34:26.579Z"
   },
   {
    "duration": 146,
    "start_time": "2022-05-01T15:34:26.629Z"
   },
   {
    "duration": 32,
    "start_time": "2022-05-01T15:34:26.777Z"
   },
   {
    "duration": 3583,
    "start_time": "2022-05-01T15:34:26.812Z"
   },
   {
    "duration": 283,
    "start_time": "2022-05-01T15:34:30.397Z"
   },
   {
    "duration": 23,
    "start_time": "2022-05-01T15:34:30.682Z"
   },
   {
    "duration": 47,
    "start_time": "2022-05-01T15:34:30.707Z"
   },
   {
    "duration": 175,
    "start_time": "2022-05-01T15:34:30.756Z"
   },
   {
    "duration": 157,
    "start_time": "2022-05-01T15:34:30.933Z"
   },
   {
    "duration": 168,
    "start_time": "2022-05-01T15:34:31.092Z"
   },
   {
    "duration": 4,
    "start_time": "2022-05-01T15:34:31.262Z"
   },
   {
    "duration": 71,
    "start_time": "2022-05-01T15:34:31.268Z"
   },
   {
    "duration": 5,
    "start_time": "2022-05-01T15:34:31.341Z"
   },
   {
    "duration": 10,
    "start_time": "2022-05-01T15:34:31.348Z"
   },
   {
    "duration": 1549,
    "start_time": "2022-05-01T15:34:31.361Z"
   },
   {
    "duration": 6,
    "start_time": "2022-05-01T15:34:32.912Z"
   },
   {
    "duration": 690,
    "start_time": "2022-05-01T15:34:32.925Z"
   },
   {
    "duration": 141,
    "start_time": "2022-05-01T15:34:33.617Z"
   },
   {
    "duration": 5,
    "start_time": "2022-05-01T15:34:33.760Z"
   },
   {
    "duration": 9,
    "start_time": "2022-05-01T15:34:33.767Z"
   },
   {
    "duration": 14,
    "start_time": "2022-05-01T15:34:33.779Z"
   },
   {
    "duration": 21,
    "start_time": "2022-05-01T15:34:33.795Z"
   },
   {
    "duration": 10,
    "start_time": "2022-05-01T15:34:33.818Z"
   },
   {
    "duration": 9,
    "start_time": "2022-05-01T15:34:33.830Z"
   },
   {
    "duration": 3391,
    "start_time": "2022-05-01T15:34:33.841Z"
   },
   {
    "duration": 25099,
    "start_time": "2022-05-01T15:34:37.234Z"
   },
   {
    "duration": 6,
    "start_time": "2022-05-01T15:35:02.426Z"
   },
   {
    "duration": 945,
    "start_time": "2022-05-01T15:35:02.435Z"
   },
   {
    "duration": 5,
    "start_time": "2022-05-01T15:35:03.382Z"
   },
   {
    "duration": 73,
    "start_time": "2022-05-01T15:35:03.389Z"
   },
   {
    "duration": 27,
    "start_time": "2022-05-01T15:35:03.464Z"
   },
   {
    "duration": 6,
    "start_time": "2022-05-01T15:35:03.493Z"
   },
   {
    "duration": 6,
    "start_time": "2022-05-01T15:35:03.524Z"
   },
   {
    "duration": 11,
    "start_time": "2022-05-01T15:35:03.532Z"
   },
   {
    "duration": 20,
    "start_time": "2022-05-01T15:35:03.546Z"
   },
   {
    "duration": 18,
    "start_time": "2022-05-01T15:35:03.569Z"
   },
   {
    "duration": 16,
    "start_time": "2022-05-01T15:35:03.589Z"
   },
   {
    "duration": 125,
    "start_time": "2022-05-01T15:35:03.607Z"
   },
   {
    "duration": 49268,
    "start_time": "2022-05-01T15:35:03.735Z"
   },
   {
    "duration": 4,
    "start_time": "2022-05-01T15:35:53.005Z"
   },
   {
    "duration": 21,
    "start_time": "2022-05-01T15:35:53.011Z"
   },
   {
    "duration": 27,
    "start_time": "2022-05-01T15:35:53.034Z"
   },
   {
    "duration": 15,
    "start_time": "2022-05-01T15:35:53.063Z"
   },
   {
    "duration": 587297,
    "start_time": "2022-05-01T15:35:53.080Z"
   },
   {
    "duration": 820268,
    "start_time": "2022-05-01T15:45:40.379Z"
   },
   {
    "duration": 4,
    "start_time": "2022-05-01T15:59:20.649Z"
   },
   {
    "duration": 8,
    "start_time": "2022-05-01T15:59:20.656Z"
   },
   {
    "duration": 2484092,
    "start_time": "2022-05-01T15:59:20.666Z"
   },
   {
    "duration": 4,
    "start_time": "2022-05-01T16:40:44.760Z"
   },
   {
    "duration": 108782,
    "start_time": "2022-05-01T16:40:44.767Z"
   },
   {
    "duration": 7,
    "start_time": "2022-05-01T16:42:33.551Z"
   },
   {
    "duration": 78,
    "start_time": "2022-05-01T16:42:33.561Z"
   },
   {
    "duration": 7366,
    "start_time": "2022-05-02T12:36:26.073Z"
   },
   {
    "duration": 1707,
    "start_time": "2022-05-02T12:36:33.441Z"
   },
   {
    "duration": 4,
    "start_time": "2022-05-02T12:36:35.150Z"
   },
   {
    "duration": 805,
    "start_time": "2022-05-02T12:36:35.156Z"
   },
   {
    "duration": 2,
    "start_time": "2022-05-02T12:36:35.964Z"
   },
   {
    "duration": 19,
    "start_time": "2022-05-02T12:36:35.968Z"
   },
   {
    "duration": 148,
    "start_time": "2022-05-02T12:36:35.989Z"
   },
   {
    "duration": 4,
    "start_time": "2022-05-02T12:36:36.139Z"
   },
   {
    "duration": 146,
    "start_time": "2022-05-02T12:36:36.144Z"
   },
   {
    "duration": 467,
    "start_time": "2022-05-02T12:36:36.292Z"
   },
   {
    "duration": 104,
    "start_time": "2022-05-02T12:36:36.761Z"
   },
   {
    "duration": 747,
    "start_time": "2022-05-02T12:36:36.867Z"
   },
   {
    "duration": 534,
    "start_time": "2022-05-02T12:36:37.615Z"
   },
   {
    "duration": 301,
    "start_time": "2022-05-02T12:36:38.152Z"
   },
   {
    "duration": 481,
    "start_time": "2022-05-02T12:36:38.456Z"
   },
   {
    "duration": 17,
    "start_time": "2022-05-02T12:36:38.940Z"
   },
   {
    "duration": 17,
    "start_time": "2022-05-02T12:36:38.959Z"
   },
   {
    "duration": 46,
    "start_time": "2022-05-02T12:36:38.978Z"
   },
   {
    "duration": 121,
    "start_time": "2022-05-02T12:36:39.026Z"
   },
   {
    "duration": 11,
    "start_time": "2022-05-02T12:36:39.149Z"
   },
   {
    "duration": 113,
    "start_time": "2022-05-02T12:36:39.162Z"
   },
   {
    "duration": 35,
    "start_time": "2022-05-02T12:36:39.277Z"
   },
   {
    "duration": 23,
    "start_time": "2022-05-02T12:36:39.313Z"
   },
   {
    "duration": 22,
    "start_time": "2022-05-02T12:36:39.338Z"
   },
   {
    "duration": 45,
    "start_time": "2022-05-02T12:36:39.362Z"
   },
   {
    "duration": 23,
    "start_time": "2022-05-02T12:36:39.409Z"
   },
   {
    "duration": 18,
    "start_time": "2022-05-02T12:36:39.434Z"
   },
   {
    "duration": 6,
    "start_time": "2022-05-02T12:36:39.454Z"
   },
   {
    "duration": 9,
    "start_time": "2022-05-02T12:36:39.461Z"
   },
   {
    "duration": 93,
    "start_time": "2022-05-02T12:36:39.472Z"
   },
   {
    "duration": 18,
    "start_time": "2022-05-02T12:36:39.567Z"
   },
   {
    "duration": 2431,
    "start_time": "2022-05-02T12:36:39.586Z"
   },
   {
    "duration": 166,
    "start_time": "2022-05-02T12:36:42.018Z"
   },
   {
    "duration": 14,
    "start_time": "2022-05-02T12:36:42.186Z"
   },
   {
    "duration": 25,
    "start_time": "2022-05-02T12:36:42.201Z"
   },
   {
    "duration": 105,
    "start_time": "2022-05-02T12:36:42.227Z"
   },
   {
    "duration": 131,
    "start_time": "2022-05-02T12:36:42.334Z"
   },
   {
    "duration": 131,
    "start_time": "2022-05-02T12:36:42.466Z"
   },
   {
    "duration": 3,
    "start_time": "2022-05-02T12:36:42.608Z"
   },
   {
    "duration": 29,
    "start_time": "2022-05-02T12:36:42.612Z"
   },
   {
    "duration": 4,
    "start_time": "2022-05-02T12:36:42.645Z"
   },
   {
    "duration": 5,
    "start_time": "2022-05-02T12:36:42.650Z"
   },
   {
    "duration": 822,
    "start_time": "2022-05-02T12:36:42.657Z"
   },
   {
    "duration": 4,
    "start_time": "2022-05-02T12:36:43.480Z"
   },
   {
    "duration": 422,
    "start_time": "2022-05-02T12:36:43.485Z"
   },
   {
    "duration": 100,
    "start_time": "2022-05-02T12:36:43.909Z"
   },
   {
    "duration": 4,
    "start_time": "2022-05-02T12:36:44.011Z"
   },
   {
    "duration": 6,
    "start_time": "2022-05-02T12:36:44.016Z"
   },
   {
    "duration": 6,
    "start_time": "2022-05-02T12:36:44.023Z"
   },
   {
    "duration": 5,
    "start_time": "2022-05-02T12:36:44.030Z"
   },
   {
    "duration": 7,
    "start_time": "2022-05-02T12:36:44.036Z"
   },
   {
    "duration": 5,
    "start_time": "2022-05-02T12:36:44.044Z"
   },
   {
    "duration": 2564,
    "start_time": "2022-05-02T12:36:44.051Z"
   },
   {
    "duration": 31091,
    "start_time": "2022-05-02T12:36:46.617Z"
   },
   {
    "duration": 6,
    "start_time": "2022-05-02T12:37:17.710Z"
   },
   {
    "duration": 762,
    "start_time": "2022-05-02T12:37:17.718Z"
   },
   {
    "duration": 4,
    "start_time": "2022-05-02T12:37:18.482Z"
   },
   {
    "duration": 58,
    "start_time": "2022-05-02T12:37:18.487Z"
   },
   {
    "duration": 21,
    "start_time": "2022-05-02T12:37:18.547Z"
   },
   {
    "duration": 4,
    "start_time": "2022-05-02T12:37:18.570Z"
   },
   {
    "duration": 6,
    "start_time": "2022-05-02T12:37:18.575Z"
   },
   {
    "duration": 26,
    "start_time": "2022-05-02T12:37:18.582Z"
   },
   {
    "duration": 16,
    "start_time": "2022-05-02T12:37:18.610Z"
   },
   {
    "duration": 9,
    "start_time": "2022-05-02T12:37:18.628Z"
   },
   {
    "duration": 25,
    "start_time": "2022-05-02T12:37:18.638Z"
   },
   {
    "duration": 100,
    "start_time": "2022-05-02T12:37:18.665Z"
   },
   {
    "duration": 39327,
    "start_time": "2022-05-02T12:37:18.767Z"
   },
   {
    "duration": 3,
    "start_time": "2022-05-02T12:37:58.096Z"
   },
   {
    "duration": 12,
    "start_time": "2022-05-02T12:37:58.101Z"
   },
   {
    "duration": 5,
    "start_time": "2022-05-02T12:37:58.116Z"
   },
   {
    "duration": 5,
    "start_time": "2022-05-02T12:37:58.122Z"
   },
   {
    "duration": 438864,
    "start_time": "2022-05-02T12:37:58.129Z"
   },
   {
    "duration": 1013799,
    "start_time": "2022-05-02T12:45:16.995Z"
   },
   {
    "duration": 2,
    "start_time": "2022-05-02T13:02:10.796Z"
   },
   {
    "duration": 9,
    "start_time": "2022-05-02T13:02:10.800Z"
   },
   {
    "duration": 1792007,
    "start_time": "2022-05-02T13:02:10.811Z"
   },
   {
    "duration": 4,
    "start_time": "2022-05-02T13:32:02.820Z"
   },
   {
    "duration": 67399,
    "start_time": "2022-05-02T13:32:02.826Z"
   },
   {
    "duration": 5,
    "start_time": "2022-05-02T13:33:10.227Z"
   },
   {
    "duration": 9,
    "start_time": "2022-05-02T13:33:10.307Z"
   },
   {
    "duration": 66,
    "start_time": "2022-05-02T13:33:10.320Z"
   },
   {
    "duration": 41,
    "start_time": "2022-05-02T17:28:17.001Z"
   },
   {
    "duration": 185,
    "start_time": "2022-05-02T17:28:39.761Z"
   },
   {
    "duration": 186,
    "start_time": "2022-05-02T17:28:52.416Z"
   },
   {
    "duration": 6,
    "start_time": "2022-05-02T17:29:10.773Z"
   },
   {
    "duration": 2579,
    "start_time": "2022-05-02T17:29:22.602Z"
   },
   {
    "duration": 1644,
    "start_time": "2022-05-02T17:29:25.183Z"
   },
   {
    "duration": 2,
    "start_time": "2022-05-02T17:29:26.829Z"
   },
   {
    "duration": 690,
    "start_time": "2022-05-02T17:29:26.833Z"
   },
   {
    "duration": 2,
    "start_time": "2022-05-02T17:29:27.525Z"
   },
   {
    "duration": 21,
    "start_time": "2022-05-02T17:29:27.528Z"
   },
   {
    "duration": 130,
    "start_time": "2022-05-02T17:29:27.550Z"
   },
   {
    "duration": 3,
    "start_time": "2022-05-02T17:29:27.682Z"
   },
   {
    "duration": 132,
    "start_time": "2022-05-02T17:29:27.687Z"
   },
   {
    "duration": 395,
    "start_time": "2022-05-02T17:29:27.822Z"
   },
   {
    "duration": 89,
    "start_time": "2022-05-02T17:29:28.219Z"
   },
   {
    "duration": 640,
    "start_time": "2022-05-02T17:29:28.309Z"
   },
   {
    "duration": 456,
    "start_time": "2022-05-02T17:29:28.951Z"
   },
   {
    "duration": 240,
    "start_time": "2022-05-02T17:29:29.409Z"
   },
   {
    "duration": 385,
    "start_time": "2022-05-02T17:29:29.651Z"
   },
   {
    "duration": 16,
    "start_time": "2022-05-02T17:29:30.037Z"
   },
   {
    "duration": 14,
    "start_time": "2022-05-02T17:29:30.055Z"
   },
   {
    "duration": 38,
    "start_time": "2022-05-02T17:29:30.070Z"
   },
   {
    "duration": 106,
    "start_time": "2022-05-02T17:29:30.110Z"
   },
   {
    "duration": 9,
    "start_time": "2022-05-02T17:29:30.217Z"
   },
   {
    "duration": 95,
    "start_time": "2022-05-02T17:29:30.228Z"
   },
   {
    "duration": 17,
    "start_time": "2022-05-02T17:29:30.324Z"
   },
   {
    "duration": 18,
    "start_time": "2022-05-02T17:29:30.343Z"
   },
   {
    "duration": 17,
    "start_time": "2022-05-02T17:29:30.362Z"
   },
   {
    "duration": 31,
    "start_time": "2022-05-02T17:29:30.381Z"
   },
   {
    "duration": 26,
    "start_time": "2022-05-02T17:29:30.413Z"
   },
   {
    "duration": 17,
    "start_time": "2022-05-02T17:29:30.441Z"
   },
   {
    "duration": 5,
    "start_time": "2022-05-02T17:29:30.463Z"
   },
   {
    "duration": 16,
    "start_time": "2022-05-02T17:29:30.469Z"
   },
   {
    "duration": 64,
    "start_time": "2022-05-02T17:29:30.500Z"
   },
   {
    "duration": 18,
    "start_time": "2022-05-02T17:29:30.565Z"
   },
   {
    "duration": 2094,
    "start_time": "2022-05-02T17:29:30.584Z"
   },
   {
    "duration": 150,
    "start_time": "2022-05-02T17:29:32.679Z"
   },
   {
    "duration": 13,
    "start_time": "2022-05-02T17:29:32.830Z"
   },
   {
    "duration": 16,
    "start_time": "2022-05-02T17:29:32.845Z"
   },
   {
    "duration": 103,
    "start_time": "2022-05-02T17:29:32.863Z"
   },
   {
    "duration": 106,
    "start_time": "2022-05-02T17:29:32.967Z"
   },
   {
    "duration": 126,
    "start_time": "2022-05-02T17:29:33.074Z"
   },
   {
    "duration": 2,
    "start_time": "2022-05-02T17:29:33.202Z"
   },
   {
    "duration": 23,
    "start_time": "2022-05-02T17:29:33.206Z"
   },
   {
    "duration": 184,
    "start_time": "2022-05-02T17:29:33.231Z"
   },
   {
    "duration": 0,
    "start_time": "2022-05-02T17:29:33.416Z"
   },
   {
    "duration": 0,
    "start_time": "2022-05-02T17:29:33.418Z"
   },
   {
    "duration": 0,
    "start_time": "2022-05-02T17:29:33.418Z"
   },
   {
    "duration": 0,
    "start_time": "2022-05-02T17:29:33.419Z"
   },
   {
    "duration": 0,
    "start_time": "2022-05-02T17:29:33.420Z"
   },
   {
    "duration": 0,
    "start_time": "2022-05-02T17:29:33.421Z"
   },
   {
    "duration": 0,
    "start_time": "2022-05-02T17:29:33.421Z"
   },
   {
    "duration": 0,
    "start_time": "2022-05-02T17:29:33.422Z"
   },
   {
    "duration": 0,
    "start_time": "2022-05-02T17:29:33.423Z"
   },
   {
    "duration": 0,
    "start_time": "2022-05-02T17:29:33.424Z"
   },
   {
    "duration": 0,
    "start_time": "2022-05-02T17:29:33.425Z"
   },
   {
    "duration": 0,
    "start_time": "2022-05-02T17:29:33.426Z"
   },
   {
    "duration": 0,
    "start_time": "2022-05-02T17:29:33.427Z"
   },
   {
    "duration": 0,
    "start_time": "2022-05-02T17:29:33.428Z"
   },
   {
    "duration": 0,
    "start_time": "2022-05-02T17:29:33.429Z"
   },
   {
    "duration": 0,
    "start_time": "2022-05-02T17:29:33.430Z"
   },
   {
    "duration": 0,
    "start_time": "2022-05-02T17:29:33.431Z"
   },
   {
    "duration": 0,
    "start_time": "2022-05-02T17:29:33.432Z"
   },
   {
    "duration": 0,
    "start_time": "2022-05-02T17:29:33.433Z"
   },
   {
    "duration": 0,
    "start_time": "2022-05-02T17:29:33.434Z"
   },
   {
    "duration": 0,
    "start_time": "2022-05-02T17:29:33.435Z"
   },
   {
    "duration": 0,
    "start_time": "2022-05-02T17:29:33.436Z"
   },
   {
    "duration": 0,
    "start_time": "2022-05-02T17:29:33.437Z"
   },
   {
    "duration": 0,
    "start_time": "2022-05-02T17:29:33.438Z"
   },
   {
    "duration": 0,
    "start_time": "2022-05-02T17:29:33.441Z"
   },
   {
    "duration": 0,
    "start_time": "2022-05-02T17:29:33.442Z"
   },
   {
    "duration": 0,
    "start_time": "2022-05-02T17:29:33.443Z"
   },
   {
    "duration": 0,
    "start_time": "2022-05-02T17:29:33.443Z"
   },
   {
    "duration": 0,
    "start_time": "2022-05-02T17:29:33.444Z"
   },
   {
    "duration": 0,
    "start_time": "2022-05-02T17:29:33.446Z"
   },
   {
    "duration": 0,
    "start_time": "2022-05-02T17:29:33.447Z"
   },
   {
    "duration": 0,
    "start_time": "2022-05-02T17:29:33.448Z"
   },
   {
    "duration": 0,
    "start_time": "2022-05-02T17:29:33.449Z"
   },
   {
    "duration": 0,
    "start_time": "2022-05-02T17:29:33.450Z"
   },
   {
    "duration": 0,
    "start_time": "2022-05-02T17:29:33.451Z"
   },
   {
    "duration": 0,
    "start_time": "2022-05-02T17:29:33.452Z"
   },
   {
    "duration": 0,
    "start_time": "2022-05-02T17:29:33.500Z"
   },
   {
    "duration": 0,
    "start_time": "2022-05-02T17:29:33.502Z"
   },
   {
    "duration": 0,
    "start_time": "2022-05-02T17:29:33.503Z"
   },
   {
    "duration": 0,
    "start_time": "2022-05-02T17:29:33.504Z"
   },
   {
    "duration": 221,
    "start_time": "2022-05-02T17:31:42.643Z"
   },
   {
    "duration": 232,
    "start_time": "2022-05-02T17:35:27.388Z"
   },
   {
    "duration": 265,
    "start_time": "2022-05-02T17:36:22.241Z"
   },
   {
    "duration": 695,
    "start_time": "2022-05-02T17:39:25.282Z"
   },
   {
    "duration": 44,
    "start_time": "2022-05-02T20:25:12.317Z"
   },
   {
    "duration": 1513,
    "start_time": "2022-05-02T20:25:21.296Z"
   },
   {
    "duration": 72,
    "start_time": "2022-05-02T20:25:40.592Z"
   },
   {
    "duration": 7,
    "start_time": "2022-05-02T20:25:58.932Z"
   },
   {
    "duration": 2137,
    "start_time": "2022-05-02T20:26:47.765Z"
   },
   {
    "duration": 1464,
    "start_time": "2022-05-02T20:26:49.904Z"
   },
   {
    "duration": 3,
    "start_time": "2022-05-02T20:26:51.370Z"
   },
   {
    "duration": 714,
    "start_time": "2022-05-02T20:26:51.375Z"
   },
   {
    "duration": 2,
    "start_time": "2022-05-02T20:26:52.091Z"
   },
   {
    "duration": 15,
    "start_time": "2022-05-02T20:26:52.100Z"
   },
   {
    "duration": 125,
    "start_time": "2022-05-02T20:26:52.116Z"
   },
   {
    "duration": 3,
    "start_time": "2022-05-02T20:26:52.243Z"
   },
   {
    "duration": 126,
    "start_time": "2022-05-02T20:26:52.247Z"
   },
   {
    "duration": 426,
    "start_time": "2022-05-02T20:26:52.375Z"
   },
   {
    "duration": 799,
    "start_time": "2022-05-02T20:26:52.802Z"
   },
   {
    "duration": 821,
    "start_time": "2022-05-02T20:26:53.603Z"
   },
   {
    "duration": 628,
    "start_time": "2022-05-02T20:26:54.426Z"
   },
   {
    "duration": 344,
    "start_time": "2022-05-02T20:26:55.056Z"
   },
   {
    "duration": 402,
    "start_time": "2022-05-02T20:26:55.402Z"
   },
   {
    "duration": 15,
    "start_time": "2022-05-02T20:26:55.806Z"
   },
   {
    "duration": 13,
    "start_time": "2022-05-02T20:26:55.823Z"
   },
   {
    "duration": 16,
    "start_time": "2022-05-02T20:26:55.838Z"
   },
   {
    "duration": 123,
    "start_time": "2022-05-02T20:26:55.856Z"
   },
   {
    "duration": 10,
    "start_time": "2022-05-02T20:26:55.980Z"
   },
   {
    "duration": 87,
    "start_time": "2022-05-02T20:26:56.000Z"
   },
   {
    "duration": 27,
    "start_time": "2022-05-02T20:26:56.089Z"
   },
   {
    "duration": 20,
    "start_time": "2022-05-02T20:26:56.117Z"
   },
   {
    "duration": 17,
    "start_time": "2022-05-02T20:26:56.139Z"
   },
   {
    "duration": 17,
    "start_time": "2022-05-02T20:26:56.158Z"
   },
   {
    "duration": 39,
    "start_time": "2022-05-02T20:26:56.177Z"
   },
   {
    "duration": 17,
    "start_time": "2022-05-02T20:26:56.218Z"
   },
   {
    "duration": 6,
    "start_time": "2022-05-02T20:26:56.239Z"
   },
   {
    "duration": 12,
    "start_time": "2022-05-02T20:26:56.247Z"
   },
   {
    "duration": 94,
    "start_time": "2022-05-02T20:26:56.261Z"
   },
   {
    "duration": 19,
    "start_time": "2022-05-02T20:26:56.356Z"
   },
   {
    "duration": 2356,
    "start_time": "2022-05-02T20:26:56.376Z"
   },
   {
    "duration": 170,
    "start_time": "2022-05-02T20:26:58.733Z"
   },
   {
    "duration": 13,
    "start_time": "2022-05-02T20:26:58.905Z"
   },
   {
    "duration": 16,
    "start_time": "2022-05-02T20:26:58.919Z"
   },
   {
    "duration": 92,
    "start_time": "2022-05-02T20:26:58.936Z"
   },
   {
    "duration": 131,
    "start_time": "2022-05-02T20:26:59.030Z"
   },
   {
    "duration": 118,
    "start_time": "2022-05-02T20:26:59.162Z"
   },
   {
    "duration": 2,
    "start_time": "2022-05-02T20:26:59.282Z"
   },
   {
    "duration": 23,
    "start_time": "2022-05-02T20:26:59.285Z"
   },
   {
    "duration": 3,
    "start_time": "2022-05-02T20:26:59.310Z"
   },
   {
    "duration": 6,
    "start_time": "2022-05-02T20:26:59.314Z"
   },
   {
    "duration": 928,
    "start_time": "2022-05-02T20:26:59.321Z"
   },
   {
    "duration": 4,
    "start_time": "2022-05-02T20:27:00.250Z"
   },
   {
    "duration": 392,
    "start_time": "2022-05-02T20:27:00.255Z"
   },
   {
    "duration": 111,
    "start_time": "2022-05-02T20:27:00.649Z"
   },
   {
    "duration": 5,
    "start_time": "2022-05-02T20:27:00.761Z"
   },
   {
    "duration": 13,
    "start_time": "2022-05-02T20:27:00.768Z"
   },
   {
    "duration": 17,
    "start_time": "2022-05-02T20:27:00.783Z"
   },
   {
    "duration": 20,
    "start_time": "2022-05-02T20:27:00.802Z"
   },
   {
    "duration": 9,
    "start_time": "2022-05-02T20:27:00.824Z"
   },
   {
    "duration": 22,
    "start_time": "2022-05-02T20:27:00.835Z"
   },
   {
    "duration": 2311,
    "start_time": "2022-05-02T20:27:00.859Z"
   },
   {
    "duration": 23830,
    "start_time": "2022-05-02T20:27:03.172Z"
   },
   {
    "duration": 96,
    "start_time": "2022-05-02T20:27:27.004Z"
   },
   {
    "duration": 984,
    "start_time": "2022-05-02T20:27:27.102Z"
   },
   {
    "duration": 3,
    "start_time": "2022-05-02T20:27:28.088Z"
   },
   {
    "duration": 54,
    "start_time": "2022-05-02T20:27:28.100Z"
   },
   {
    "duration": 24,
    "start_time": "2022-05-02T20:27:28.156Z"
   },
   {
    "duration": 9,
    "start_time": "2022-05-02T20:27:28.182Z"
   },
   {
    "duration": 8,
    "start_time": "2022-05-02T20:27:28.193Z"
   },
   {
    "duration": 6,
    "start_time": "2022-05-02T20:27:28.202Z"
   },
   {
    "duration": 5,
    "start_time": "2022-05-02T20:27:28.209Z"
   },
   {
    "duration": 6,
    "start_time": "2022-05-02T20:27:28.215Z"
   },
   {
    "duration": 5,
    "start_time": "2022-05-02T20:27:28.223Z"
   },
   {
    "duration": 115,
    "start_time": "2022-05-02T20:27:28.229Z"
   },
   {
    "duration": 49494,
    "start_time": "2022-05-02T20:27:28.346Z"
   },
   {
    "duration": 3,
    "start_time": "2022-05-02T20:28:17.841Z"
   },
   {
    "duration": 7,
    "start_time": "2022-05-02T20:28:17.846Z"
   },
   {
    "duration": 7,
    "start_time": "2022-05-02T20:28:17.854Z"
   },
   {
    "duration": 6,
    "start_time": "2022-05-02T20:28:17.863Z"
   },
   {
    "duration": 13292,
    "start_time": "2022-05-02T20:28:17.871Z"
   },
   {
    "duration": 0,
    "start_time": "2022-05-02T20:28:31.165Z"
   },
   {
    "duration": 0,
    "start_time": "2022-05-02T20:28:31.166Z"
   },
   {
    "duration": 0,
    "start_time": "2022-05-02T20:28:31.167Z"
   },
   {
    "duration": 0,
    "start_time": "2022-05-02T20:28:31.168Z"
   },
   {
    "duration": 0,
    "start_time": "2022-05-02T20:28:31.169Z"
   },
   {
    "duration": 0,
    "start_time": "2022-05-02T20:28:31.170Z"
   },
   {
    "duration": 0,
    "start_time": "2022-05-02T20:28:31.171Z"
   },
   {
    "duration": 0,
    "start_time": "2022-05-02T20:28:31.173Z"
   },
   {
    "duration": 0,
    "start_time": "2022-05-02T20:28:31.174Z"
   },
   {
    "duration": 9,
    "start_time": "2022-05-02T20:29:00.476Z"
   },
   {
    "duration": 9,
    "start_time": "2022-05-02T20:35:42.437Z"
   },
   {
    "duration": 10,
    "start_time": "2022-05-02T20:35:59.322Z"
   },
   {
    "duration": 105,
    "start_time": "2022-05-02T20:36:14.650Z"
   },
   {
    "duration": 9,
    "start_time": "2022-05-02T20:36:16.806Z"
   },
   {
    "duration": 32,
    "start_time": "2022-05-02T20:36:34.799Z"
   },
   {
    "duration": 31,
    "start_time": "2022-05-02T20:47:45.806Z"
   },
   {
    "duration": 108,
    "start_time": "2022-05-02T20:51:20.371Z"
   },
   {
    "duration": 97,
    "start_time": "2022-05-02T20:51:58.432Z"
   },
   {
    "duration": 97,
    "start_time": "2022-05-02T20:52:36.280Z"
   },
   {
    "duration": 99,
    "start_time": "2022-05-02T20:53:00.135Z"
   },
   {
    "duration": 101,
    "start_time": "2022-05-02T20:54:02.050Z"
   },
   {
    "duration": 93,
    "start_time": "2022-05-02T20:55:24.159Z"
   },
   {
    "duration": 16643,
    "start_time": "2022-05-02T20:58:12.880Z"
   },
   {
    "duration": 16411,
    "start_time": "2022-05-02T20:58:48.518Z"
   },
   {
    "duration": 19386,
    "start_time": "2022-05-02T21:00:31.719Z"
   },
   {
    "duration": 3709,
    "start_time": "2022-05-03T12:14:54.479Z"
   },
   {
    "duration": 2140,
    "start_time": "2022-05-03T12:14:58.192Z"
   },
   {
    "duration": 4,
    "start_time": "2022-05-03T12:15:00.335Z"
   },
   {
    "duration": 1074,
    "start_time": "2022-05-03T12:15:00.353Z"
   },
   {
    "duration": 4,
    "start_time": "2022-05-03T12:15:01.429Z"
   },
   {
    "duration": 109,
    "start_time": "2022-05-03T12:15:01.435Z"
   },
   {
    "duration": 184,
    "start_time": "2022-05-03T12:15:01.546Z"
   },
   {
    "duration": 7,
    "start_time": "2022-05-03T12:15:01.734Z"
   },
   {
    "duration": 322,
    "start_time": "2022-05-03T12:15:01.752Z"
   },
   {
    "duration": 994,
    "start_time": "2022-05-03T12:15:02.079Z"
   },
   {
    "duration": 1120,
    "start_time": "2022-05-03T12:15:03.075Z"
   },
   {
    "duration": 1238,
    "start_time": "2022-05-03T12:15:04.198Z"
   },
   {
    "duration": 841,
    "start_time": "2022-05-03T12:15:05.438Z"
   },
   {
    "duration": 440,
    "start_time": "2022-05-03T12:15:06.281Z"
   },
   {
    "duration": 634,
    "start_time": "2022-05-03T12:15:06.724Z"
   },
   {
    "duration": 23,
    "start_time": "2022-05-03T12:15:07.361Z"
   },
   {
    "duration": 22,
    "start_time": "2022-05-03T12:15:07.386Z"
   },
   {
    "duration": 143,
    "start_time": "2022-05-03T12:15:07.410Z"
   },
   {
    "duration": 169,
    "start_time": "2022-05-03T12:15:07.555Z"
   },
   {
    "duration": 25,
    "start_time": "2022-05-03T12:15:07.726Z"
   },
   {
    "duration": 155,
    "start_time": "2022-05-03T12:15:07.754Z"
   },
   {
    "duration": 27,
    "start_time": "2022-05-03T12:15:07.912Z"
   },
   {
    "duration": 35,
    "start_time": "2022-05-03T12:15:07.941Z"
   },
   {
    "duration": 27,
    "start_time": "2022-05-03T12:15:07.979Z"
   },
   {
    "duration": 49,
    "start_time": "2022-05-03T12:15:08.008Z"
   },
   {
    "duration": 29,
    "start_time": "2022-05-03T12:15:08.059Z"
   },
   {
    "duration": 27,
    "start_time": "2022-05-03T12:15:08.090Z"
   },
   {
    "duration": 32,
    "start_time": "2022-05-03T12:15:08.126Z"
   },
   {
    "duration": 14,
    "start_time": "2022-05-03T12:15:08.160Z"
   },
   {
    "duration": 134,
    "start_time": "2022-05-03T12:15:08.175Z"
   },
   {
    "duration": 25,
    "start_time": "2022-05-03T12:15:08.311Z"
   },
   {
    "duration": 3248,
    "start_time": "2022-05-03T12:15:08.338Z"
   },
   {
    "duration": 280,
    "start_time": "2022-05-03T12:15:11.588Z"
   },
   {
    "duration": 23,
    "start_time": "2022-05-03T12:15:11.870Z"
   },
   {
    "duration": 29,
    "start_time": "2022-05-03T12:15:11.895Z"
   },
   {
    "duration": 184,
    "start_time": "2022-05-03T12:15:11.926Z"
   },
   {
    "duration": 155,
    "start_time": "2022-05-03T12:15:12.112Z"
   },
   {
    "duration": 160,
    "start_time": "2022-05-03T12:15:12.270Z"
   },
   {
    "duration": 4,
    "start_time": "2022-05-03T12:15:12.432Z"
   },
   {
    "duration": 49,
    "start_time": "2022-05-03T12:15:12.438Z"
   },
   {
    "duration": 5,
    "start_time": "2022-05-03T12:15:12.489Z"
   },
   {
    "duration": 7,
    "start_time": "2022-05-03T12:15:12.496Z"
   },
   {
    "duration": 1346,
    "start_time": "2022-05-03T12:15:12.505Z"
   },
   {
    "duration": 5,
    "start_time": "2022-05-03T12:15:13.853Z"
   },
   {
    "duration": 551,
    "start_time": "2022-05-03T12:15:13.860Z"
   },
   {
    "duration": 131,
    "start_time": "2022-05-03T12:15:14.413Z"
   },
   {
    "duration": 6,
    "start_time": "2022-05-03T12:15:14.546Z"
   },
   {
    "duration": 6,
    "start_time": "2022-05-03T12:15:14.554Z"
   },
   {
    "duration": 7,
    "start_time": "2022-05-03T12:15:14.562Z"
   },
   {
    "duration": 9,
    "start_time": "2022-05-03T12:15:14.571Z"
   },
   {
    "duration": 8,
    "start_time": "2022-05-03T12:15:14.581Z"
   },
   {
    "duration": 9,
    "start_time": "2022-05-03T12:15:14.591Z"
   },
   {
    "duration": 3166,
    "start_time": "2022-05-03T12:15:14.603Z"
   },
   {
    "duration": 28086,
    "start_time": "2022-05-03T12:15:17.771Z"
   },
   {
    "duration": 93,
    "start_time": "2022-05-03T12:15:45.861Z"
   },
   {
    "duration": 961,
    "start_time": "2022-05-03T12:15:45.956Z"
   },
   {
    "duration": 5,
    "start_time": "2022-05-03T12:15:46.920Z"
   },
   {
    "duration": 74,
    "start_time": "2022-05-03T12:15:46.927Z"
   },
   {
    "duration": 29,
    "start_time": "2022-05-03T12:15:47.003Z"
   },
   {
    "duration": 7,
    "start_time": "2022-05-03T12:15:47.053Z"
   },
   {
    "duration": 14,
    "start_time": "2022-05-03T12:15:47.064Z"
   },
   {
    "duration": 8,
    "start_time": "2022-05-03T12:15:47.081Z"
   },
   {
    "duration": 12,
    "start_time": "2022-05-03T12:15:47.091Z"
   },
   {
    "duration": 9,
    "start_time": "2022-05-03T12:15:47.106Z"
   },
   {
    "duration": 37,
    "start_time": "2022-05-03T12:15:47.118Z"
   },
   {
    "duration": 155,
    "start_time": "2022-05-03T12:15:47.158Z"
   },
   {
    "duration": 51760,
    "start_time": "2022-05-03T12:15:47.316Z"
   },
   {
    "duration": 4,
    "start_time": "2022-05-03T12:16:39.079Z"
   },
   {
    "duration": 18,
    "start_time": "2022-05-03T12:16:39.086Z"
   },
   {
    "duration": 11,
    "start_time": "2022-05-03T12:16:39.106Z"
   },
   {
    "duration": 12,
    "start_time": "2022-05-03T12:16:39.120Z"
   },
   {
    "duration": 185,
    "start_time": "2022-05-03T12:16:39.134Z"
   },
   {
    "duration": 0,
    "start_time": "2022-05-03T12:16:39.321Z"
   },
   {
    "duration": 0,
    "start_time": "2022-05-03T12:16:39.323Z"
   },
   {
    "duration": 0,
    "start_time": "2022-05-03T12:16:39.325Z"
   },
   {
    "duration": 0,
    "start_time": "2022-05-03T12:16:39.326Z"
   },
   {
    "duration": 0,
    "start_time": "2022-05-03T12:16:39.327Z"
   },
   {
    "duration": 0,
    "start_time": "2022-05-03T12:16:39.329Z"
   },
   {
    "duration": 0,
    "start_time": "2022-05-03T12:16:39.330Z"
   },
   {
    "duration": 0,
    "start_time": "2022-05-03T12:16:39.353Z"
   },
   {
    "duration": 0,
    "start_time": "2022-05-03T12:16:39.355Z"
   },
   {
    "duration": 0,
    "start_time": "2022-05-03T12:16:39.358Z"
   },
   {
    "duration": 239,
    "start_time": "2022-05-03T12:18:01.697Z"
   },
   {
    "duration": 205,
    "start_time": "2022-05-03T12:18:21.211Z"
   },
   {
    "duration": 3346,
    "start_time": "2022-05-03T12:29:37.834Z"
   },
   {
    "duration": 2346,
    "start_time": "2022-05-03T12:29:41.183Z"
   },
   {
    "duration": 4,
    "start_time": "2022-05-03T12:29:43.532Z"
   },
   {
    "duration": 3076,
    "start_time": "2022-05-03T12:29:43.551Z"
   },
   {
    "duration": 3,
    "start_time": "2022-05-03T12:29:46.630Z"
   },
   {
    "duration": 36,
    "start_time": "2022-05-03T12:29:46.635Z"
   },
   {
    "duration": 191,
    "start_time": "2022-05-03T12:29:46.673Z"
   },
   {
    "duration": 5,
    "start_time": "2022-05-03T12:29:46.866Z"
   },
   {
    "duration": 175,
    "start_time": "2022-05-03T12:29:46.873Z"
   },
   {
    "duration": 648,
    "start_time": "2022-05-03T12:29:47.054Z"
   },
   {
    "duration": 1111,
    "start_time": "2022-05-03T12:29:47.704Z"
   },
   {
    "duration": 1143,
    "start_time": "2022-05-03T12:29:48.817Z"
   },
   {
    "duration": 845,
    "start_time": "2022-05-03T12:29:49.962Z"
   },
   {
    "duration": 445,
    "start_time": "2022-05-03T12:29:50.809Z"
   },
   {
    "duration": 602,
    "start_time": "2022-05-03T12:29:51.257Z"
   },
   {
    "duration": 24,
    "start_time": "2022-05-03T12:29:51.862Z"
   },
   {
    "duration": 24,
    "start_time": "2022-05-03T12:29:51.889Z"
   },
   {
    "duration": 59,
    "start_time": "2022-05-03T12:29:51.915Z"
   },
   {
    "duration": 182,
    "start_time": "2022-05-03T12:29:51.976Z"
   },
   {
    "duration": 14,
    "start_time": "2022-05-03T12:29:52.160Z"
   },
   {
    "duration": 178,
    "start_time": "2022-05-03T12:29:52.176Z"
   },
   {
    "duration": 27,
    "start_time": "2022-05-03T12:29:52.356Z"
   },
   {
    "duration": 27,
    "start_time": "2022-05-03T12:29:52.385Z"
   },
   {
    "duration": 51,
    "start_time": "2022-05-03T12:29:52.415Z"
   },
   {
    "duration": 27,
    "start_time": "2022-05-03T12:29:52.468Z"
   },
   {
    "duration": 28,
    "start_time": "2022-05-03T12:29:52.497Z"
   },
   {
    "duration": 47,
    "start_time": "2022-05-03T12:29:52.527Z"
   },
   {
    "duration": 8,
    "start_time": "2022-05-03T12:29:52.581Z"
   },
   {
    "duration": 13,
    "start_time": "2022-05-03T12:29:52.591Z"
   },
   {
    "duration": 160,
    "start_time": "2022-05-03T12:29:52.607Z"
   },
   {
    "duration": 28,
    "start_time": "2022-05-03T12:29:52.769Z"
   },
   {
    "duration": 3516,
    "start_time": "2022-05-03T12:29:52.800Z"
   },
   {
    "duration": 313,
    "start_time": "2022-05-03T12:29:56.319Z"
   },
   {
    "duration": 27,
    "start_time": "2022-05-03T12:29:56.634Z"
   },
   {
    "duration": 42,
    "start_time": "2022-05-03T12:29:56.663Z"
   },
   {
    "duration": 181,
    "start_time": "2022-05-03T12:29:56.708Z"
   },
   {
    "duration": 161,
    "start_time": "2022-05-03T12:29:56.892Z"
   },
   {
    "duration": 235,
    "start_time": "2022-05-03T12:29:57.055Z"
   },
   {
    "duration": 3,
    "start_time": "2022-05-03T12:29:57.292Z"
   },
   {
    "duration": 60,
    "start_time": "2022-05-03T12:29:57.297Z"
   },
   {
    "duration": 5,
    "start_time": "2022-05-03T12:29:57.359Z"
   },
   {
    "duration": 9,
    "start_time": "2022-05-03T12:29:57.366Z"
   },
   {
    "duration": 1326,
    "start_time": "2022-05-03T12:29:57.376Z"
   },
   {
    "duration": 6,
    "start_time": "2022-05-03T12:29:58.704Z"
   },
   {
    "duration": 555,
    "start_time": "2022-05-03T12:29:58.712Z"
   },
   {
    "duration": 131,
    "start_time": "2022-05-03T12:29:59.270Z"
   },
   {
    "duration": 6,
    "start_time": "2022-05-03T12:29:59.403Z"
   },
   {
    "duration": 17,
    "start_time": "2022-05-03T12:29:59.411Z"
   },
   {
    "duration": 26,
    "start_time": "2022-05-03T12:29:59.430Z"
   },
   {
    "duration": 19,
    "start_time": "2022-05-03T12:29:59.459Z"
   },
   {
    "duration": 10,
    "start_time": "2022-05-03T12:29:59.480Z"
   },
   {
    "duration": 11,
    "start_time": "2022-05-03T12:29:59.493Z"
   },
   {
    "duration": 3090,
    "start_time": "2022-05-03T12:29:59.506Z"
   },
   {
    "duration": 24060,
    "start_time": "2022-05-03T12:30:02.599Z"
   },
   {
    "duration": 6,
    "start_time": "2022-05-03T12:30:26.753Z"
   },
   {
    "duration": 962,
    "start_time": "2022-05-03T12:30:26.762Z"
   },
   {
    "duration": 7,
    "start_time": "2022-05-03T12:30:27.726Z"
   },
   {
    "duration": 66,
    "start_time": "2022-05-03T12:30:27.736Z"
   },
   {
    "duration": 27,
    "start_time": "2022-05-03T12:30:27.804Z"
   },
   {
    "duration": 23,
    "start_time": "2022-05-03T12:30:27.833Z"
   },
   {
    "duration": 6,
    "start_time": "2022-05-03T12:30:27.859Z"
   },
   {
    "duration": 6,
    "start_time": "2022-05-03T12:30:27.868Z"
   },
   {
    "duration": 6,
    "start_time": "2022-05-03T12:30:27.877Z"
   },
   {
    "duration": 6,
    "start_time": "2022-05-03T12:30:27.886Z"
   },
   {
    "duration": 59,
    "start_time": "2022-05-03T12:30:27.895Z"
   },
   {
    "duration": 110,
    "start_time": "2022-05-03T12:30:27.956Z"
   },
   {
    "duration": 48384,
    "start_time": "2022-05-03T12:30:28.068Z"
   },
   {
    "duration": 3,
    "start_time": "2022-05-03T12:31:16.454Z"
   },
   {
    "duration": 10,
    "start_time": "2022-05-03T12:31:16.459Z"
   },
   {
    "duration": 7,
    "start_time": "2022-05-03T12:31:16.471Z"
   },
   {
    "duration": 6,
    "start_time": "2022-05-03T12:31:16.480Z"
   },
   {
    "duration": 8,
    "start_time": "2022-05-03T12:31:16.488Z"
   },
   {
    "duration": 9,
    "start_time": "2022-05-03T12:31:16.498Z"
   },
   {
    "duration": 7,
    "start_time": "2022-05-03T12:31:16.509Z"
   },
   {
    "duration": 6,
    "start_time": "2022-05-03T12:31:16.518Z"
   },
   {
    "duration": 4,
    "start_time": "2022-05-03T12:31:16.552Z"
   },
   {
    "duration": 8,
    "start_time": "2022-05-03T12:31:16.558Z"
   },
   {
    "duration": 226,
    "start_time": "2022-05-03T12:31:16.568Z"
   },
   {
    "duration": 27986,
    "start_time": "2022-05-03T12:31:16.797Z"
   },
   {
    "duration": 94608,
    "start_time": "2022-05-03T12:31:44.785Z"
   },
   {
    "duration": 7,
    "start_time": "2022-05-03T12:33:19.396Z"
   },
   {
    "duration": 13,
    "start_time": "2022-05-03T12:33:19.459Z"
   },
   {
    "duration": 200,
    "start_time": "2022-05-03T12:35:57.069Z"
   },
   {
    "duration": 216,
    "start_time": "2022-05-03T12:35:57.944Z"
   },
   {
    "duration": 197801,
    "start_time": "2022-05-03T12:35:59.096Z"
   },
   {
    "duration": 3641599,
    "start_time": "2022-05-03T12:40:02.972Z"
   },
   {
    "duration": 279456,
    "start_time": "2022-05-03T13:43:14.507Z"
   },
   {
    "duration": 34262,
    "start_time": "2022-05-03T13:52:58.509Z"
   },
   {
    "duration": 4781,
    "start_time": "2022-05-03T13:53:36.032Z"
   },
   {
    "duration": 1966,
    "start_time": "2022-05-03T13:53:40.816Z"
   },
   {
    "duration": 4,
    "start_time": "2022-05-03T13:53:42.784Z"
   },
   {
    "duration": 1153,
    "start_time": "2022-05-03T13:53:42.791Z"
   },
   {
    "duration": 3,
    "start_time": "2022-05-03T13:53:43.951Z"
   },
   {
    "duration": 35,
    "start_time": "2022-05-03T13:53:43.956Z"
   },
   {
    "duration": 202,
    "start_time": "2022-05-03T13:53:43.994Z"
   },
   {
    "duration": 7,
    "start_time": "2022-05-03T13:53:44.198Z"
   },
   {
    "duration": 317,
    "start_time": "2022-05-03T13:53:44.207Z"
   },
   {
    "duration": 1060,
    "start_time": "2022-05-03T13:53:44.529Z"
   },
   {
    "duration": 1262,
    "start_time": "2022-05-03T13:53:45.591Z"
   },
   {
    "duration": 1197,
    "start_time": "2022-05-03T13:53:46.855Z"
   },
   {
    "duration": 873,
    "start_time": "2022-05-03T13:53:48.055Z"
   },
   {
    "duration": 452,
    "start_time": "2022-05-03T13:53:48.930Z"
   },
   {
    "duration": 641,
    "start_time": "2022-05-03T13:53:49.385Z"
   },
   {
    "duration": 36,
    "start_time": "2022-05-03T13:53:50.028Z"
   },
   {
    "duration": 24,
    "start_time": "2022-05-03T13:53:50.067Z"
   },
   {
    "duration": 27,
    "start_time": "2022-05-03T13:53:50.093Z"
   },
   {
    "duration": 210,
    "start_time": "2022-05-03T13:53:50.122Z"
   },
   {
    "duration": 16,
    "start_time": "2022-05-03T13:53:50.335Z"
   },
   {
    "duration": 168,
    "start_time": "2022-05-03T13:53:50.354Z"
   },
   {
    "duration": 37,
    "start_time": "2022-05-03T13:53:50.525Z"
   },
   {
    "duration": 27,
    "start_time": "2022-05-03T13:53:50.564Z"
   },
   {
    "duration": 28,
    "start_time": "2022-05-03T13:53:50.593Z"
   },
   {
    "duration": 48,
    "start_time": "2022-05-03T13:53:50.623Z"
   },
   {
    "duration": 29,
    "start_time": "2022-05-03T13:53:50.673Z"
   },
   {
    "duration": 50,
    "start_time": "2022-05-03T13:53:50.705Z"
   },
   {
    "duration": 7,
    "start_time": "2022-05-03T13:53:50.763Z"
   },
   {
    "duration": 13,
    "start_time": "2022-05-03T13:53:50.773Z"
   },
   {
    "duration": 162,
    "start_time": "2022-05-03T13:53:50.789Z"
   },
   {
    "duration": 34,
    "start_time": "2022-05-03T13:53:50.954Z"
   },
   {
    "duration": 5075,
    "start_time": "2022-05-03T13:53:50.990Z"
   },
   {
    "duration": 293,
    "start_time": "2022-05-03T13:53:56.068Z"
   },
   {
    "duration": 25,
    "start_time": "2022-05-03T13:53:56.363Z"
   },
   {
    "duration": 30,
    "start_time": "2022-05-03T13:53:56.391Z"
   },
   {
    "duration": 199,
    "start_time": "2022-05-03T13:53:56.423Z"
   },
   {
    "duration": 158,
    "start_time": "2022-05-03T13:53:56.625Z"
   },
   {
    "duration": 184,
    "start_time": "2022-05-03T13:53:56.785Z"
   },
   {
    "duration": 5,
    "start_time": "2022-05-03T13:53:56.972Z"
   },
   {
    "duration": 41,
    "start_time": "2022-05-03T13:53:56.980Z"
   },
   {
    "duration": 31,
    "start_time": "2022-05-03T13:53:57.024Z"
   },
   {
    "duration": 9,
    "start_time": "2022-05-03T13:53:57.058Z"
   },
   {
    "duration": 1423,
    "start_time": "2022-05-03T13:53:57.069Z"
   },
   {
    "duration": 5,
    "start_time": "2022-05-03T13:53:58.494Z"
   },
   {
    "duration": 866,
    "start_time": "2022-05-03T13:53:58.501Z"
   },
   {
    "duration": 144,
    "start_time": "2022-05-03T13:53:59.370Z"
   },
   {
    "duration": 5,
    "start_time": "2022-05-03T13:53:59.516Z"
   },
   {
    "duration": 8,
    "start_time": "2022-05-03T13:53:59.523Z"
   },
   {
    "duration": 22,
    "start_time": "2022-05-03T13:53:59.533Z"
   },
   {
    "duration": 13,
    "start_time": "2022-05-03T13:53:59.557Z"
   },
   {
    "duration": 16,
    "start_time": "2022-05-03T13:53:59.573Z"
   },
   {
    "duration": 12,
    "start_time": "2022-05-03T13:53:59.592Z"
   },
   {
    "duration": 3156,
    "start_time": "2022-05-03T13:53:59.606Z"
   },
   {
    "duration": 32687,
    "start_time": "2022-05-03T13:54:02.765Z"
   },
   {
    "duration": 96,
    "start_time": "2022-05-03T13:54:35.456Z"
   },
   {
    "duration": 855,
    "start_time": "2022-05-03T13:54:35.555Z"
   },
   {
    "duration": 5,
    "start_time": "2022-05-03T13:54:36.413Z"
   },
   {
    "duration": 70,
    "start_time": "2022-05-03T13:54:36.420Z"
   },
   {
    "duration": 24,
    "start_time": "2022-05-03T13:54:36.493Z"
   },
   {
    "duration": 6,
    "start_time": "2022-05-03T13:54:36.519Z"
   },
   {
    "duration": 26,
    "start_time": "2022-05-03T13:54:36.527Z"
   },
   {
    "duration": 5,
    "start_time": "2022-05-03T13:54:36.555Z"
   },
   {
    "duration": 9,
    "start_time": "2022-05-03T13:54:36.563Z"
   },
   {
    "duration": 7,
    "start_time": "2022-05-03T13:54:36.575Z"
   },
   {
    "duration": 10,
    "start_time": "2022-05-03T13:54:36.584Z"
   },
   {
    "duration": 142,
    "start_time": "2022-05-03T13:54:36.596Z"
   },
   {
    "duration": 49777,
    "start_time": "2022-05-03T13:54:36.740Z"
   },
   {
    "duration": 4,
    "start_time": "2022-05-03T13:55:26.520Z"
   },
   {
    "duration": 25,
    "start_time": "2022-05-03T13:55:26.527Z"
   },
   {
    "duration": 12,
    "start_time": "2022-05-03T13:55:26.554Z"
   },
   {
    "duration": 22,
    "start_time": "2022-05-03T13:55:26.569Z"
   },
   {
    "duration": 10,
    "start_time": "2022-05-03T13:55:26.593Z"
   },
   {
    "duration": 8,
    "start_time": "2022-05-03T13:55:26.606Z"
   },
   {
    "duration": 7,
    "start_time": "2022-05-03T13:55:26.616Z"
   },
   {
    "duration": 7,
    "start_time": "2022-05-03T13:55:26.626Z"
   },
   {
    "duration": 231,
    "start_time": "2022-05-03T13:55:26.635Z"
   },
   {
    "duration": 279323,
    "start_time": "2022-05-03T13:55:26.868Z"
   },
   {
    "duration": 0,
    "start_time": "2022-05-03T14:00:06.193Z"
   },
   {
    "duration": 0,
    "start_time": "2022-05-03T14:00:06.195Z"
   },
   {
    "duration": 0,
    "start_time": "2022-05-03T14:00:06.197Z"
   },
   {
    "duration": 0,
    "start_time": "2022-05-03T14:00:06.199Z"
   },
   {
    "duration": 0,
    "start_time": "2022-05-03T14:00:06.200Z"
   },
   {
    "duration": 0,
    "start_time": "2022-05-03T14:00:06.202Z"
   },
   {
    "duration": 0,
    "start_time": "2022-05-03T14:00:06.207Z"
   },
   {
    "duration": 210,
    "start_time": "2022-05-03T14:00:11.623Z"
   },
   {
    "duration": 185949,
    "start_time": "2022-05-03T14:00:29.616Z"
   },
   {
    "duration": 303,
    "start_time": "2022-05-03T14:04:40.950Z"
   },
   {
    "duration": 447176,
    "start_time": "2022-05-03T14:04:44.025Z"
   },
   {
    "duration": 150903,
    "start_time": "2022-05-03T14:36:17.869Z"
   },
   {
    "duration": 915,
    "start_time": "2022-05-03T14:42:05.019Z"
   },
   {
    "duration": 3421,
    "start_time": "2022-05-03T14:42:25.796Z"
   },
   {
    "duration": 3242,
    "start_time": "2022-05-03T14:42:29.220Z"
   },
   {
    "duration": 4,
    "start_time": "2022-05-03T14:42:32.465Z"
   },
   {
    "duration": 1758,
    "start_time": "2022-05-03T14:42:32.474Z"
   },
   {
    "duration": 4,
    "start_time": "2022-05-03T14:42:34.234Z"
   },
   {
    "duration": 34,
    "start_time": "2022-05-03T14:42:34.239Z"
   },
   {
    "duration": 198,
    "start_time": "2022-05-03T14:42:34.275Z"
   },
   {
    "duration": 5,
    "start_time": "2022-05-03T14:42:34.475Z"
   },
   {
    "duration": 177,
    "start_time": "2022-05-03T14:42:34.482Z"
   },
   {
    "duration": 708,
    "start_time": "2022-05-03T14:42:34.662Z"
   },
   {
    "duration": 1153,
    "start_time": "2022-05-03T14:42:35.373Z"
   },
   {
    "duration": 1148,
    "start_time": "2022-05-03T14:42:36.528Z"
   },
   {
    "duration": 842,
    "start_time": "2022-05-03T14:42:37.679Z"
   },
   {
    "duration": 436,
    "start_time": "2022-05-03T14:42:38.524Z"
   },
   {
    "duration": 610,
    "start_time": "2022-05-03T14:42:38.962Z"
   },
   {
    "duration": 26,
    "start_time": "2022-05-03T14:42:39.575Z"
   },
   {
    "duration": 54,
    "start_time": "2022-05-03T14:42:39.604Z"
   },
   {
    "duration": 27,
    "start_time": "2022-05-03T14:42:39.661Z"
   },
   {
    "duration": 210,
    "start_time": "2022-05-03T14:42:39.691Z"
   },
   {
    "duration": 13,
    "start_time": "2022-05-03T14:42:39.904Z"
   },
   {
    "duration": 178,
    "start_time": "2022-05-03T14:42:39.919Z"
   },
   {
    "duration": 27,
    "start_time": "2022-05-03T14:42:40.099Z"
   },
   {
    "duration": 41,
    "start_time": "2022-05-03T14:42:40.128Z"
   },
   {
    "duration": 26,
    "start_time": "2022-05-03T14:42:40.171Z"
   },
   {
    "duration": 27,
    "start_time": "2022-05-03T14:42:40.199Z"
   },
   {
    "duration": 49,
    "start_time": "2022-05-03T14:42:40.228Z"
   },
   {
    "duration": 29,
    "start_time": "2022-05-03T14:42:40.279Z"
   },
   {
    "duration": 8,
    "start_time": "2022-05-03T14:42:40.314Z"
   },
   {
    "duration": 38,
    "start_time": "2022-05-03T14:42:40.324Z"
   },
   {
    "duration": 142,
    "start_time": "2022-05-03T14:42:40.364Z"
   },
   {
    "duration": 28,
    "start_time": "2022-05-03T14:42:40.509Z"
   },
   {
    "duration": 3285,
    "start_time": "2022-05-03T14:42:40.539Z"
   },
   {
    "duration": 289,
    "start_time": "2022-05-03T14:42:43.827Z"
   },
   {
    "duration": 35,
    "start_time": "2022-05-03T14:42:44.118Z"
   },
   {
    "duration": 28,
    "start_time": "2022-05-03T14:42:44.155Z"
   },
   {
    "duration": 180,
    "start_time": "2022-05-03T14:42:44.185Z"
   },
   {
    "duration": 148,
    "start_time": "2022-05-03T14:42:44.367Z"
   },
   {
    "duration": 201,
    "start_time": "2022-05-03T14:42:44.517Z"
   },
   {
    "duration": 4,
    "start_time": "2022-05-03T14:42:44.720Z"
   },
   {
    "duration": 64,
    "start_time": "2022-05-03T14:42:44.726Z"
   },
   {
    "duration": 5,
    "start_time": "2022-05-03T14:42:44.792Z"
   },
   {
    "duration": 7,
    "start_time": "2022-05-03T14:42:44.800Z"
   },
   {
    "duration": 1323,
    "start_time": "2022-05-03T14:42:44.809Z"
   },
   {
    "duration": 6,
    "start_time": "2022-05-03T14:42:46.134Z"
   },
   {
    "duration": 540,
    "start_time": "2022-05-03T14:42:46.151Z"
   },
   {
    "duration": 137,
    "start_time": "2022-05-03T14:42:46.694Z"
   },
   {
    "duration": 6,
    "start_time": "2022-05-03T14:42:46.833Z"
   },
   {
    "duration": 6,
    "start_time": "2022-05-03T14:42:46.852Z"
   },
   {
    "duration": 7,
    "start_time": "2022-05-03T14:42:46.860Z"
   },
   {
    "duration": 7,
    "start_time": "2022-05-03T14:42:46.869Z"
   },
   {
    "duration": 9,
    "start_time": "2022-05-03T14:42:46.878Z"
   },
   {
    "duration": 9,
    "start_time": "2022-05-03T14:42:46.889Z"
   },
   {
    "duration": 3624,
    "start_time": "2022-05-03T14:42:46.900Z"
   },
   {
    "duration": 38130,
    "start_time": "2022-05-03T14:42:50.527Z"
   },
   {
    "duration": 91,
    "start_time": "2022-05-03T14:43:28.660Z"
   },
   {
    "duration": 1521,
    "start_time": "2022-05-03T14:43:28.755Z"
   },
   {
    "duration": 6,
    "start_time": "2022-05-03T14:43:30.279Z"
   },
   {
    "duration": 96,
    "start_time": "2022-05-03T14:43:30.288Z"
   },
   {
    "duration": 36,
    "start_time": "2022-05-03T14:43:30.386Z"
   },
   {
    "duration": 6,
    "start_time": "2022-05-03T14:43:30.425Z"
   },
   {
    "duration": 6,
    "start_time": "2022-05-03T14:43:30.453Z"
   },
   {
    "duration": 15,
    "start_time": "2022-05-03T14:43:30.462Z"
   },
   {
    "duration": 25,
    "start_time": "2022-05-03T14:43:30.480Z"
   },
   {
    "duration": 21,
    "start_time": "2022-05-03T14:43:30.509Z"
   },
   {
    "duration": 15,
    "start_time": "2022-05-03T14:43:30.533Z"
   },
   {
    "duration": 114,
    "start_time": "2022-05-03T14:43:30.551Z"
   },
   {
    "duration": 49430,
    "start_time": "2022-05-03T14:43:30.668Z"
   },
   {
    "duration": 4,
    "start_time": "2022-05-03T14:44:20.101Z"
   },
   {
    "duration": 15,
    "start_time": "2022-05-03T14:44:20.107Z"
   },
   {
    "duration": 14,
    "start_time": "2022-05-03T14:44:20.124Z"
   },
   {
    "duration": 5,
    "start_time": "2022-05-03T14:44:20.152Z"
   },
   {
    "duration": 7,
    "start_time": "2022-05-03T14:44:20.160Z"
   },
   {
    "duration": 23,
    "start_time": "2022-05-03T14:44:20.169Z"
   },
   {
    "duration": 9,
    "start_time": "2022-05-03T14:44:20.194Z"
   },
   {
    "duration": 9,
    "start_time": "2022-05-03T14:44:20.205Z"
   },
   {
    "duration": 1392,
    "start_time": "2022-05-03T14:44:20.216Z"
   },
   {
    "duration": 0,
    "start_time": "2022-05-03T14:44:21.610Z"
   },
   {
    "duration": 0,
    "start_time": "2022-05-03T14:44:21.612Z"
   },
   {
    "duration": 0,
    "start_time": "2022-05-03T14:44:21.613Z"
   },
   {
    "duration": 0,
    "start_time": "2022-05-03T14:44:21.614Z"
   },
   {
    "duration": 0,
    "start_time": "2022-05-03T14:44:21.616Z"
   },
   {
    "duration": 0,
    "start_time": "2022-05-03T14:44:21.617Z"
   },
   {
    "duration": 0,
    "start_time": "2022-05-03T14:44:21.619Z"
   },
   {
    "duration": 89,
    "start_time": "2022-05-03T14:45:51.090Z"
   },
   {
    "duration": 914,
    "start_time": "2022-05-03T14:49:51.028Z"
   },
   {
    "duration": 1550,
    "start_time": "2022-05-03T14:52:31.311Z"
   },
   {
    "duration": 966,
    "start_time": "2022-05-03T14:52:53.854Z"
   },
   {
    "duration": 87,
    "start_time": "2022-05-03T14:53:20.871Z"
   },
   {
    "duration": 98,
    "start_time": "2022-05-03T14:53:47.113Z"
   },
   {
    "duration": 96,
    "start_time": "2022-05-03T14:54:29.305Z"
   },
   {
    "duration": 920,
    "start_time": "2022-05-03T14:55:07.703Z"
   },
   {
    "duration": 882,
    "start_time": "2022-05-03T14:57:22.312Z"
   },
   {
    "duration": 98,
    "start_time": "2022-05-03T14:59:49.184Z"
   },
   {
    "duration": 254,
    "start_time": "2022-05-03T15:00:21.737Z"
   },
   {
    "duration": 272,
    "start_time": "2022-05-03T15:00:48.377Z"
   },
   {
    "duration": 114,
    "start_time": "2022-05-03T15:01:32.792Z"
   },
   {
    "duration": 105,
    "start_time": "2022-05-03T15:01:51.349Z"
   },
   {
    "duration": 95,
    "start_time": "2022-05-03T15:02:09.894Z"
   },
   {
    "duration": 13,
    "start_time": "2022-05-03T15:02:31.626Z"
   },
   {
    "duration": 89,
    "start_time": "2022-05-03T15:03:34.449Z"
   },
   {
    "duration": 12,
    "start_time": "2022-05-03T15:03:52.938Z"
   },
   {
    "duration": 17,
    "start_time": "2022-05-03T15:05:10.158Z"
   },
   {
    "duration": 1517,
    "start_time": "2022-05-03T15:06:11.743Z"
   },
   {
    "duration": 1166,
    "start_time": "2022-05-03T15:10:25.178Z"
   },
   {
    "duration": 904,
    "start_time": "2022-05-03T15:21:08.075Z"
   },
   {
    "duration": 174,
    "start_time": "2022-05-03T15:21:44.660Z"
   },
   {
    "duration": 237,
    "start_time": "2022-05-03T15:22:14.858Z"
   },
   {
    "duration": 187,
    "start_time": "2022-05-03T15:27:18.826Z"
   },
   {
    "duration": 311,
    "start_time": "2022-05-03T15:30:13.191Z"
   },
   {
    "duration": 67,
    "start_time": "2022-05-03T15:32:34.577Z"
   },
   {
    "duration": 107,
    "start_time": "2022-05-03T15:32:58.750Z"
   },
   {
    "duration": 30,
    "start_time": "2022-05-03T15:35:38.148Z"
   },
   {
    "duration": 42,
    "start_time": "2022-05-03T15:36:01.665Z"
   },
   {
    "duration": 257,
    "start_time": "2022-05-03T15:36:37.779Z"
   },
   {
    "duration": 297,
    "start_time": "2022-05-03T15:36:50.108Z"
   },
   {
    "duration": 30220,
    "start_time": "2022-05-03T15:37:17.539Z"
   },
   {
    "duration": 138143,
    "start_time": "2022-05-03T15:40:06.228Z"
   },
   {
    "duration": 7,
    "start_time": "2022-05-03T15:49:26.932Z"
   },
   {
    "duration": 583,
    "start_time": "2022-05-03T15:51:56.501Z"
   },
   {
    "duration": 5,
    "start_time": "2022-05-03T15:52:09.789Z"
   },
   {
    "duration": 6,
    "start_time": "2022-05-03T15:52:11.753Z"
   },
   {
    "duration": 5,
    "start_time": "2022-05-03T15:52:13.579Z"
   },
   {
    "duration": 6,
    "start_time": "2022-05-03T15:52:14.588Z"
   },
   {
    "duration": 6,
    "start_time": "2022-05-03T15:52:15.547Z"
   },
   {
    "duration": 6,
    "start_time": "2022-05-03T15:52:16.419Z"
   },
   {
    "duration": 5,
    "start_time": "2022-05-03T15:52:19.508Z"
   },
   {
    "duration": 3235,
    "start_time": "2022-05-03T15:52:28.150Z"
   },
   {
    "duration": 34370,
    "start_time": "2022-05-03T15:52:31.387Z"
   },
   {
    "duration": 92,
    "start_time": "2022-05-03T15:53:05.761Z"
   },
   {
    "duration": 743,
    "start_time": "2022-05-03T15:55:11.260Z"
   },
   {
    "duration": 3,
    "start_time": "2022-05-03T15:55:12.174Z"
   },
   {
    "duration": 4,
    "start_time": "2022-05-03T15:55:12.750Z"
   },
   {
    "duration": 6,
    "start_time": "2022-05-03T15:55:13.337Z"
   },
   {
    "duration": 6,
    "start_time": "2022-05-03T15:55:14.199Z"
   },
   {
    "duration": 6,
    "start_time": "2022-05-03T15:55:15.022Z"
   },
   {
    "duration": 6,
    "start_time": "2022-05-03T15:55:15.717Z"
   },
   {
    "duration": 6,
    "start_time": "2022-05-03T15:55:16.873Z"
   },
   {
    "duration": 6,
    "start_time": "2022-05-03T15:55:17.831Z"
   },
   {
    "duration": 3355,
    "start_time": "2022-05-03T15:55:35.947Z"
   },
   {
    "duration": 31247,
    "start_time": "2022-05-03T15:55:39.305Z"
   },
   {
    "duration": 7,
    "start_time": "2022-05-03T15:56:10.556Z"
   },
   {
    "duration": 95,
    "start_time": "2022-05-03T15:56:59.543Z"
   },
   {
    "duration": 4,
    "start_time": "2022-05-03T15:57:19.466Z"
   },
   {
    "duration": 5,
    "start_time": "2022-05-03T15:57:20.823Z"
   },
   {
    "duration": 5,
    "start_time": "2022-05-03T15:57:21.838Z"
   },
   {
    "duration": 6,
    "start_time": "2022-05-03T15:57:22.739Z"
   },
   {
    "duration": 7,
    "start_time": "2022-05-03T15:57:25.573Z"
   },
   {
    "duration": 6,
    "start_time": "2022-05-03T15:57:26.786Z"
   },
   {
    "duration": 98,
    "start_time": "2022-05-03T15:57:33.103Z"
   },
   {
    "duration": 54898,
    "start_time": "2022-05-03T15:57:45.715Z"
   },
   {
    "duration": 9,
    "start_time": "2022-05-03T16:03:02.671Z"
   },
   {
    "duration": 69,
    "start_time": "2022-05-03T16:03:08.265Z"
   },
   {
    "duration": 305,
    "start_time": "2022-05-03T16:03:12.966Z"
   },
   {
    "duration": 62752,
    "start_time": "2022-05-03T16:03:20.100Z"
   },
   {
    "duration": 178225,
    "start_time": "2022-05-03T16:05:34.742Z"
   },
   {
    "duration": 3462,
    "start_time": "2022-05-03T16:11:49.983Z"
   },
   {
    "duration": 1919,
    "start_time": "2022-05-03T16:11:53.449Z"
   },
   {
    "duration": 4,
    "start_time": "2022-05-03T16:11:55.371Z"
   },
   {
    "duration": 3034,
    "start_time": "2022-05-03T16:11:55.378Z"
   },
   {
    "duration": 3,
    "start_time": "2022-05-03T16:11:58.415Z"
   },
   {
    "duration": 50,
    "start_time": "2022-05-03T16:11:58.420Z"
   },
   {
    "duration": 237,
    "start_time": "2022-05-03T16:11:58.473Z"
   },
   {
    "duration": 6,
    "start_time": "2022-05-03T16:11:58.714Z"
   },
   {
    "duration": 190,
    "start_time": "2022-05-03T16:11:58.723Z"
   },
   {
    "duration": 814,
    "start_time": "2022-05-03T16:11:58.917Z"
   },
   {
    "duration": 1220,
    "start_time": "2022-05-03T16:11:59.733Z"
   },
   {
    "duration": 1222,
    "start_time": "2022-05-03T16:12:00.955Z"
   },
   {
    "duration": 850,
    "start_time": "2022-05-03T16:12:02.180Z"
   },
   {
    "duration": 441,
    "start_time": "2022-05-03T16:12:03.032Z"
   },
   {
    "duration": 622,
    "start_time": "2022-05-03T16:12:03.475Z"
   },
   {
    "duration": 25,
    "start_time": "2022-05-03T16:12:04.099Z"
   },
   {
    "duration": 43,
    "start_time": "2022-05-03T16:12:04.126Z"
   },
   {
    "duration": 26,
    "start_time": "2022-05-03T16:12:04.172Z"
   },
   {
    "duration": 227,
    "start_time": "2022-05-03T16:12:04.200Z"
   },
   {
    "duration": 27,
    "start_time": "2022-05-03T16:12:04.430Z"
   },
   {
    "duration": 194,
    "start_time": "2022-05-03T16:12:04.459Z"
   },
   {
    "duration": 45,
    "start_time": "2022-05-03T16:12:04.656Z"
   },
   {
    "duration": 54,
    "start_time": "2022-05-03T16:12:04.704Z"
   },
   {
    "duration": 43,
    "start_time": "2022-05-03T16:12:04.761Z"
   },
   {
    "duration": 62,
    "start_time": "2022-05-03T16:12:04.807Z"
   },
   {
    "duration": 44,
    "start_time": "2022-05-03T16:12:04.872Z"
   },
   {
    "duration": 60,
    "start_time": "2022-05-03T16:12:04.919Z"
   },
   {
    "duration": 9,
    "start_time": "2022-05-03T16:12:04.989Z"
   },
   {
    "duration": 21,
    "start_time": "2022-05-03T16:12:05.001Z"
   },
   {
    "duration": 163,
    "start_time": "2022-05-03T16:12:05.025Z"
   },
   {
    "duration": 36,
    "start_time": "2022-05-03T16:12:05.191Z"
   },
   {
    "duration": 4995,
    "start_time": "2022-05-03T16:12:05.230Z"
   },
   {
    "duration": 495,
    "start_time": "2022-05-03T16:12:10.228Z"
   },
   {
    "duration": 49,
    "start_time": "2022-05-03T16:12:10.726Z"
   },
   {
    "duration": 39,
    "start_time": "2022-05-03T16:12:10.778Z"
   },
   {
    "duration": 209,
    "start_time": "2022-05-03T16:12:10.819Z"
   },
   {
    "duration": 284,
    "start_time": "2022-05-03T16:12:11.031Z"
   },
   {
    "duration": 295,
    "start_time": "2022-05-03T16:12:11.318Z"
   },
   {
    "duration": 4,
    "start_time": "2022-05-03T16:12:11.615Z"
   },
   {
    "duration": 62,
    "start_time": "2022-05-03T16:12:11.621Z"
   },
   {
    "duration": 6,
    "start_time": "2022-05-03T16:12:11.686Z"
   },
   {
    "duration": 9,
    "start_time": "2022-05-03T16:12:11.694Z"
   },
   {
    "duration": 1384,
    "start_time": "2022-05-03T16:12:11.705Z"
   },
   {
    "duration": 7,
    "start_time": "2022-05-03T16:12:13.091Z"
   },
   {
    "duration": 12,
    "start_time": "2022-05-03T16:12:13.099Z"
   },
   {
    "duration": 692,
    "start_time": "2022-05-03T16:12:13.113Z"
   },
   {
    "duration": 4,
    "start_time": "2022-05-03T16:12:13.807Z"
   },
   {
    "duration": 10,
    "start_time": "2022-05-03T16:12:13.813Z"
   },
   {
    "duration": 10,
    "start_time": "2022-05-03T16:12:13.826Z"
   },
   {
    "duration": 6,
    "start_time": "2022-05-03T16:12:13.852Z"
   },
   {
    "duration": 13,
    "start_time": "2022-05-03T16:12:13.860Z"
   },
   {
    "duration": 10,
    "start_time": "2022-05-03T16:12:13.875Z"
   },
   {
    "duration": 8,
    "start_time": "2022-05-03T16:12:13.887Z"
   },
   {
    "duration": 9,
    "start_time": "2022-05-03T16:12:13.897Z"
   },
   {
    "duration": 3174,
    "start_time": "2022-05-03T16:12:13.909Z"
   },
   {
    "duration": 32866,
    "start_time": "2022-05-03T16:12:17.086Z"
   },
   {
    "duration": 6,
    "start_time": "2022-05-03T16:12:49.955Z"
   },
   {
    "duration": 1026,
    "start_time": "2022-05-03T16:12:49.963Z"
   },
   {
    "duration": 6,
    "start_time": "2022-05-03T16:12:50.991Z"
   },
   {
    "duration": 88,
    "start_time": "2022-05-03T16:12:50.999Z"
   },
   {
    "duration": 3,
    "start_time": "2022-05-03T16:12:51.090Z"
   },
   {
    "duration": 9,
    "start_time": "2022-05-03T16:12:51.095Z"
   },
   {
    "duration": 10,
    "start_time": "2022-05-03T16:12:51.106Z"
   },
   {
    "duration": 7,
    "start_time": "2022-05-03T16:12:51.118Z"
   },
   {
    "duration": 27,
    "start_time": "2022-05-03T16:12:51.127Z"
   },
   {
    "duration": 5,
    "start_time": "2022-05-03T16:12:51.156Z"
   },
   {
    "duration": 9,
    "start_time": "2022-05-03T16:12:51.163Z"
   },
   {
    "duration": 9,
    "start_time": "2022-05-03T16:12:51.174Z"
   },
   {
    "duration": 137,
    "start_time": "2022-05-03T16:12:51.185Z"
   },
   {
    "duration": 47552,
    "start_time": "2022-05-03T16:12:51.324Z"
   },
   {
    "duration": 3,
    "start_time": "2022-05-03T16:13:38.879Z"
   },
   {
    "duration": 10,
    "start_time": "2022-05-03T16:13:38.884Z"
   },
   {
    "duration": 13,
    "start_time": "2022-05-03T16:13:38.896Z"
   },
   {
    "duration": 9,
    "start_time": "2022-05-03T16:13:38.911Z"
   },
   {
    "duration": 8,
    "start_time": "2022-05-03T16:13:38.922Z"
   },
   {
    "duration": 23,
    "start_time": "2022-05-03T16:13:38.932Z"
   },
   {
    "duration": 9,
    "start_time": "2022-05-03T16:13:38.957Z"
   },
   {
    "duration": 8,
    "start_time": "2022-05-03T16:13:38.969Z"
   },
   {
    "duration": 244,
    "start_time": "2022-05-03T16:13:38.979Z"
   },
   {
    "duration": 75,
    "start_time": "2022-05-03T16:13:39.225Z"
   },
   {
    "duration": 372,
    "start_time": "2022-05-03T16:13:39.302Z"
   },
   {
    "duration": 0,
    "start_time": "2022-05-03T16:13:39.676Z"
   },
   {
    "duration": 0,
    "start_time": "2022-05-03T16:13:39.678Z"
   },
   {
    "duration": 0,
    "start_time": "2022-05-03T16:13:39.680Z"
   },
   {
    "duration": 0,
    "start_time": "2022-05-03T16:13:39.681Z"
   },
   {
    "duration": 0,
    "start_time": "2022-05-03T16:13:39.682Z"
   },
   {
    "duration": 0,
    "start_time": "2022-05-03T16:13:39.684Z"
   },
   {
    "duration": 0,
    "start_time": "2022-05-03T16:13:39.685Z"
   },
   {
    "duration": 69,
    "start_time": "2022-05-03T16:14:58.827Z"
   },
   {
    "duration": 266,
    "start_time": "2022-05-03T16:15:00.865Z"
   },
   {
    "duration": 34342,
    "start_time": "2022-05-03T16:15:29.911Z"
   },
   {
    "duration": 142708,
    "start_time": "2022-05-03T16:16:25.468Z"
   },
   {
    "duration": 57,
    "start_time": "2022-05-03T16:35:51.217Z"
   },
   {
    "duration": 14,
    "start_time": "2022-05-03T16:37:51.436Z"
   },
   {
    "duration": 19,
    "start_time": "2022-05-03T16:38:58.699Z"
   },
   {
    "duration": 8771,
    "start_time": "2022-05-03T16:39:51.094Z"
   },
   {
    "duration": 188,
    "start_time": "2022-05-03T16:39:59.870Z"
   },
   {
    "duration": 642,
    "start_time": "2022-05-03T16:40:28.658Z"
   },
   {
    "duration": 6,
    "start_time": "2022-05-03T16:41:29.754Z"
   },
   {
    "duration": 179,
    "start_time": "2022-05-03T16:41:31.776Z"
   },
   {
    "duration": 6,
    "start_time": "2022-05-03T16:41:34.908Z"
   },
   {
    "duration": 5,
    "start_time": "2022-05-03T16:41:35.869Z"
   },
   {
    "duration": 6,
    "start_time": "2022-05-03T16:41:36.795Z"
   },
   {
    "duration": 7,
    "start_time": "2022-05-03T16:41:37.697Z"
   },
   {
    "duration": 6,
    "start_time": "2022-05-03T16:41:38.335Z"
   },
   {
    "duration": 6,
    "start_time": "2022-05-03T16:41:40.981Z"
   },
   {
    "duration": 692,
    "start_time": "2022-05-03T16:41:57.824Z"
   },
   {
    "duration": 4401,
    "start_time": "2022-05-03T16:42:03.754Z"
   },
   {
    "duration": 5,
    "start_time": "2022-05-03T16:42:09.742Z"
   },
   {
    "duration": 6771,
    "start_time": "2022-05-03T16:43:42.387Z"
   },
   {
    "duration": 1969,
    "start_time": "2022-05-03T16:43:49.162Z"
   },
   {
    "duration": 5,
    "start_time": "2022-05-03T16:43:51.133Z"
   },
   {
    "duration": 1099,
    "start_time": "2022-05-03T16:43:51.141Z"
   },
   {
    "duration": 4,
    "start_time": "2022-05-03T16:43:52.242Z"
   },
   {
    "duration": 24,
    "start_time": "2022-05-03T16:43:52.251Z"
   },
   {
    "duration": 298,
    "start_time": "2022-05-03T16:43:52.278Z"
   },
   {
    "duration": 6,
    "start_time": "2022-05-03T16:43:52.579Z"
   },
   {
    "duration": 297,
    "start_time": "2022-05-03T16:43:52.588Z"
   },
   {
    "duration": 938,
    "start_time": "2022-05-03T16:43:52.890Z"
   },
   {
    "duration": 1692,
    "start_time": "2022-05-03T16:43:53.831Z"
   },
   {
    "duration": 1093,
    "start_time": "2022-05-03T16:43:55.526Z"
   },
   {
    "duration": 930,
    "start_time": "2022-05-03T16:43:56.622Z"
   },
   {
    "duration": 447,
    "start_time": "2022-05-03T16:43:57.554Z"
   },
   {
    "duration": 727,
    "start_time": "2022-05-03T16:43:58.004Z"
   },
   {
    "duration": 38,
    "start_time": "2022-05-03T16:43:58.733Z"
   },
   {
    "duration": 25,
    "start_time": "2022-05-03T16:43:58.773Z"
   },
   {
    "duration": 53,
    "start_time": "2022-05-03T16:43:58.800Z"
   },
   {
    "duration": 178,
    "start_time": "2022-05-03T16:43:58.855Z"
   },
   {
    "duration": 17,
    "start_time": "2022-05-03T16:43:59.037Z"
   },
   {
    "duration": 187,
    "start_time": "2022-05-03T16:43:59.056Z"
   },
   {
    "duration": 27,
    "start_time": "2022-05-03T16:43:59.245Z"
   },
   {
    "duration": 27,
    "start_time": "2022-05-03T16:43:59.275Z"
   },
   {
    "duration": 54,
    "start_time": "2022-05-03T16:43:59.305Z"
   },
   {
    "duration": 26,
    "start_time": "2022-05-03T16:43:59.362Z"
   },
   {
    "duration": 30,
    "start_time": "2022-05-03T16:43:59.390Z"
   },
   {
    "duration": 51,
    "start_time": "2022-05-03T16:43:59.423Z"
   },
   {
    "duration": 7,
    "start_time": "2022-05-03T16:43:59.481Z"
   },
   {
    "duration": 12,
    "start_time": "2022-05-03T16:43:59.490Z"
   },
   {
    "duration": 160,
    "start_time": "2022-05-03T16:43:59.504Z"
   },
   {
    "duration": 28,
    "start_time": "2022-05-03T16:43:59.666Z"
   },
   {
    "duration": 4272,
    "start_time": "2022-05-03T16:43:59.696Z"
   },
   {
    "duration": 316,
    "start_time": "2022-05-03T16:44:03.970Z"
   },
   {
    "duration": 22,
    "start_time": "2022-05-03T16:44:04.289Z"
   },
   {
    "duration": 48,
    "start_time": "2022-05-03T16:44:04.313Z"
   },
   {
    "duration": 180,
    "start_time": "2022-05-03T16:44:04.363Z"
   },
   {
    "duration": 153,
    "start_time": "2022-05-03T16:44:04.545Z"
   },
   {
    "duration": 168,
    "start_time": "2022-05-03T16:44:04.700Z"
   },
   {
    "duration": 3,
    "start_time": "2022-05-03T16:44:04.871Z"
   },
   {
    "duration": 44,
    "start_time": "2022-05-03T16:44:04.876Z"
   },
   {
    "duration": 5,
    "start_time": "2022-05-03T16:44:04.922Z"
   },
   {
    "duration": 5,
    "start_time": "2022-05-03T16:44:04.952Z"
   },
   {
    "duration": 6,
    "start_time": "2022-05-03T16:44:04.960Z"
   },
   {
    "duration": 29,
    "start_time": "2022-05-03T16:44:04.968Z"
   },
   {
    "duration": 242,
    "start_time": "2022-05-03T16:44:05.000Z"
   },
   {
    "duration": 778,
    "start_time": "2022-05-03T16:44:05.245Z"
   },
   {
    "duration": 5,
    "start_time": "2022-05-03T16:44:06.026Z"
   },
   {
    "duration": 189,
    "start_time": "2022-05-03T16:44:06.033Z"
   },
   {
    "duration": 3,
    "start_time": "2022-05-03T16:44:06.225Z"
   },
   {
    "duration": 7,
    "start_time": "2022-05-03T16:44:06.230Z"
   },
   {
    "duration": 14,
    "start_time": "2022-05-03T16:44:06.252Z"
   },
   {
    "duration": 9,
    "start_time": "2022-05-03T16:44:06.268Z"
   },
   {
    "duration": 13,
    "start_time": "2022-05-03T16:44:06.279Z"
   },
   {
    "duration": 7,
    "start_time": "2022-05-03T16:44:06.294Z"
   },
   {
    "duration": 5,
    "start_time": "2022-05-03T16:44:06.304Z"
   },
   {
    "duration": 7,
    "start_time": "2022-05-03T16:44:06.312Z"
   },
   {
    "duration": 744,
    "start_time": "2022-05-03T16:44:06.351Z"
   },
   {
    "duration": 4255,
    "start_time": "2022-05-03T16:44:07.097Z"
   },
   {
    "duration": 7,
    "start_time": "2022-05-03T16:44:11.356Z"
   },
   {
    "duration": 2103,
    "start_time": "2022-05-03T16:44:11.365Z"
   },
   {
    "duration": 5,
    "start_time": "2022-05-03T16:44:13.470Z"
   },
   {
    "duration": 192,
    "start_time": "2022-05-03T16:44:13.477Z"
   },
   {
    "duration": 4,
    "start_time": "2022-05-03T16:44:13.672Z"
   },
   {
    "duration": 12,
    "start_time": "2022-05-03T16:44:13.679Z"
   },
   {
    "duration": 8,
    "start_time": "2022-05-03T16:44:13.693Z"
   },
   {
    "duration": 53,
    "start_time": "2022-05-03T16:44:13.703Z"
   },
   {
    "duration": 17,
    "start_time": "2022-05-03T16:44:13.759Z"
   },
   {
    "duration": 6,
    "start_time": "2022-05-03T16:44:13.779Z"
   },
   {
    "duration": 8,
    "start_time": "2022-05-03T16:44:13.787Z"
   },
   {
    "duration": 64,
    "start_time": "2022-05-03T16:44:13.797Z"
   },
   {
    "duration": 208,
    "start_time": "2022-05-03T16:44:13.864Z"
   },
   {
    "duration": 48910,
    "start_time": "2022-05-03T16:44:14.074Z"
   },
   {
    "duration": 3,
    "start_time": "2022-05-03T16:45:02.986Z"
   },
   {
    "duration": 13,
    "start_time": "2022-05-03T16:45:02.990Z"
   },
   {
    "duration": 7,
    "start_time": "2022-05-03T16:45:03.005Z"
   },
   {
    "duration": 7,
    "start_time": "2022-05-03T16:45:03.014Z"
   },
   {
    "duration": 7,
    "start_time": "2022-05-03T16:45:03.023Z"
   },
   {
    "duration": 3,
    "start_time": "2022-05-03T16:45:03.052Z"
   },
   {
    "duration": 7,
    "start_time": "2022-05-03T16:45:03.057Z"
   },
   {
    "duration": 7,
    "start_time": "2022-05-03T16:45:03.066Z"
   },
   {
    "duration": 257,
    "start_time": "2022-05-03T16:45:03.075Z"
   },
   {
    "duration": 69,
    "start_time": "2022-05-03T16:45:03.339Z"
   },
   {
    "duration": 278,
    "start_time": "2022-05-03T16:45:03.410Z"
   },
   {
    "duration": 4,
    "start_time": "2022-05-03T16:45:03.690Z"
   },
   {
    "duration": 120971,
    "start_time": "2022-05-03T16:45:03.697Z"
   },
   {
    "duration": 4,
    "start_time": "2022-05-03T16:47:04.671Z"
   },
   {
    "duration": 73799,
    "start_time": "2022-05-03T16:47:04.678Z"
   },
   {
    "duration": 6,
    "start_time": "2022-05-03T16:48:18.480Z"
   },
   {
    "duration": 68,
    "start_time": "2022-05-03T16:48:18.488Z"
   },
   {
    "duration": 97,
    "start_time": "2022-05-03T16:48:18.560Z"
   },
   {
    "duration": 2132,
    "start_time": "2022-05-03T16:49:19.988Z"
   },
   {
    "duration": 6788,
    "start_time": "2022-05-03T16:50:20.473Z"
   },
   {
    "duration": 1993,
    "start_time": "2022-05-03T16:50:27.265Z"
   },
   {
    "duration": 4,
    "start_time": "2022-05-03T16:50:29.260Z"
   },
   {
    "duration": 2210,
    "start_time": "2022-05-03T16:50:29.266Z"
   },
   {
    "duration": 3,
    "start_time": "2022-05-03T16:50:31.479Z"
   },
   {
    "duration": 82,
    "start_time": "2022-05-03T16:50:31.484Z"
   },
   {
    "duration": 331,
    "start_time": "2022-05-03T16:50:31.569Z"
   },
   {
    "duration": 7,
    "start_time": "2022-05-03T16:50:31.903Z"
   },
   {
    "duration": 187,
    "start_time": "2022-05-03T16:50:31.951Z"
   },
   {
    "duration": 709,
    "start_time": "2022-05-03T16:50:32.142Z"
   },
   {
    "duration": 1110,
    "start_time": "2022-05-03T16:50:32.854Z"
   },
   {
    "duration": 1060,
    "start_time": "2022-05-03T16:50:33.967Z"
   },
   {
    "duration": 936,
    "start_time": "2022-05-03T16:50:35.029Z"
   },
   {
    "duration": 454,
    "start_time": "2022-05-03T16:50:35.967Z"
   },
   {
    "duration": 728,
    "start_time": "2022-05-03T16:50:36.423Z"
   },
   {
    "duration": 26,
    "start_time": "2022-05-03T16:50:37.154Z"
   },
   {
    "duration": 26,
    "start_time": "2022-05-03T16:50:37.183Z"
   },
   {
    "duration": 60,
    "start_time": "2022-05-03T16:50:37.212Z"
   },
   {
    "duration": 188,
    "start_time": "2022-05-03T16:50:37.275Z"
   },
   {
    "duration": 13,
    "start_time": "2022-05-03T16:50:37.466Z"
   },
   {
    "duration": 178,
    "start_time": "2022-05-03T16:50:37.481Z"
   },
   {
    "duration": 26,
    "start_time": "2022-05-03T16:50:37.661Z"
   },
   {
    "duration": 46,
    "start_time": "2022-05-03T16:50:37.690Z"
   },
   {
    "duration": 27,
    "start_time": "2022-05-03T16:50:37.738Z"
   },
   {
    "duration": 40,
    "start_time": "2022-05-03T16:50:37.767Z"
   },
   {
    "duration": 32,
    "start_time": "2022-05-03T16:50:37.809Z"
   },
   {
    "duration": 59,
    "start_time": "2022-05-03T16:50:37.843Z"
   },
   {
    "duration": 10,
    "start_time": "2022-05-03T16:50:37.913Z"
   },
   {
    "duration": 33,
    "start_time": "2022-05-03T16:50:37.925Z"
   },
   {
    "duration": 136,
    "start_time": "2022-05-03T16:50:37.960Z"
   },
   {
    "duration": 27,
    "start_time": "2022-05-03T16:50:38.098Z"
   },
   {
    "duration": 3491,
    "start_time": "2022-05-03T16:50:38.128Z"
   },
   {
    "duration": 261,
    "start_time": "2022-05-03T16:50:41.621Z"
   },
   {
    "duration": 23,
    "start_time": "2022-05-03T16:50:41.885Z"
   },
   {
    "duration": 54,
    "start_time": "2022-05-03T16:50:41.910Z"
   },
   {
    "duration": 168,
    "start_time": "2022-05-03T16:50:41.966Z"
   },
   {
    "duration": 158,
    "start_time": "2022-05-03T16:50:42.137Z"
   },
   {
    "duration": 172,
    "start_time": "2022-05-03T16:50:42.297Z"
   },
   {
    "duration": 4,
    "start_time": "2022-05-03T16:50:42.471Z"
   },
   {
    "duration": 41,
    "start_time": "2022-05-03T16:50:42.477Z"
   },
   {
    "duration": 5,
    "start_time": "2022-05-03T16:50:42.520Z"
   },
   {
    "duration": 28,
    "start_time": "2022-05-03T16:50:42.527Z"
   },
   {
    "duration": 6,
    "start_time": "2022-05-03T16:50:42.557Z"
   },
   {
    "duration": 8,
    "start_time": "2022-05-03T16:50:42.565Z"
   },
   {
    "duration": 266,
    "start_time": "2022-05-03T16:50:42.576Z"
   },
   {
    "duration": 763,
    "start_time": "2022-05-03T16:50:42.844Z"
   },
   {
    "duration": 70,
    "start_time": "2022-05-03T16:50:43.610Z"
   },
   {
    "duration": 279,
    "start_time": "2022-05-03T16:50:43.682Z"
   },
   {
    "duration": 5,
    "start_time": "2022-05-03T16:50:43.963Z"
   },
   {
    "duration": 5,
    "start_time": "2022-05-03T16:50:43.971Z"
   },
   {
    "duration": 10,
    "start_time": "2022-05-03T16:50:43.979Z"
   },
   {
    "duration": 6,
    "start_time": "2022-05-03T16:50:43.992Z"
   },
   {
    "duration": 10,
    "start_time": "2022-05-03T16:50:44.001Z"
   },
   {
    "duration": 43,
    "start_time": "2022-05-03T16:50:44.014Z"
   },
   {
    "duration": 9,
    "start_time": "2022-05-03T16:50:44.060Z"
   },
   {
    "duration": 6,
    "start_time": "2022-05-03T16:50:44.071Z"
   },
   {
    "duration": 729,
    "start_time": "2022-05-03T16:50:44.080Z"
   },
   {
    "duration": 3846,
    "start_time": "2022-05-03T16:50:44.812Z"
   },
   {
    "duration": 90,
    "start_time": "2022-05-03T16:50:48.661Z"
   },
   {
    "duration": 918,
    "start_time": "2022-05-03T16:50:48.754Z"
   },
   {
    "duration": 6,
    "start_time": "2022-05-03T16:50:49.674Z"
   },
   {
    "duration": 107,
    "start_time": "2022-05-03T16:50:49.682Z"
   },
   {
    "duration": 3,
    "start_time": "2022-05-03T16:50:49.791Z"
   },
   {
    "duration": 6,
    "start_time": "2022-05-03T16:50:49.796Z"
   },
   {
    "duration": 8,
    "start_time": "2022-05-03T16:50:49.804Z"
   },
   {
    "duration": 7,
    "start_time": "2022-05-03T16:50:49.814Z"
   },
   {
    "duration": 5,
    "start_time": "2022-05-03T16:50:49.852Z"
   },
   {
    "duration": 7,
    "start_time": "2022-05-03T16:50:49.859Z"
   },
   {
    "duration": 8,
    "start_time": "2022-05-03T16:50:49.869Z"
   },
   {
    "duration": 7,
    "start_time": "2022-05-03T16:50:49.879Z"
   },
   {
    "duration": 130,
    "start_time": "2022-05-03T16:50:49.888Z"
   },
   {
    "duration": 48067,
    "start_time": "2022-05-03T16:50:50.020Z"
   },
   {
    "duration": 4,
    "start_time": "2022-05-03T16:51:38.089Z"
   },
   {
    "duration": 9,
    "start_time": "2022-05-03T16:51:38.095Z"
   },
   {
    "duration": 6,
    "start_time": "2022-05-03T16:51:38.106Z"
   },
   {
    "duration": 6,
    "start_time": "2022-05-03T16:51:38.114Z"
   },
   {
    "duration": 30,
    "start_time": "2022-05-03T16:51:38.122Z"
   },
   {
    "duration": 9,
    "start_time": "2022-05-03T16:51:38.155Z"
   },
   {
    "duration": 7,
    "start_time": "2022-05-03T16:51:38.166Z"
   },
   {
    "duration": 7,
    "start_time": "2022-05-03T16:51:38.175Z"
   },
   {
    "duration": 247,
    "start_time": "2022-05-03T16:51:38.184Z"
   },
   {
    "duration": 75,
    "start_time": "2022-05-03T16:51:38.438Z"
   },
   {
    "duration": 288,
    "start_time": "2022-05-03T16:51:38.515Z"
   },
   {
    "duration": 4,
    "start_time": "2022-05-03T16:51:38.805Z"
   },
   {
    "duration": 243662,
    "start_time": "2022-05-03T16:51:38.811Z"
   },
   {
    "duration": 78,
    "start_time": "2022-05-03T16:55:42.475Z"
   },
   {
    "duration": 76015,
    "start_time": "2022-05-03T16:55:42.556Z"
   },
   {
    "duration": 7,
    "start_time": "2022-05-03T16:56:58.573Z"
   },
   {
    "duration": 13,
    "start_time": "2022-05-03T16:56:58.651Z"
   },
   {
    "duration": 6,
    "start_time": "2022-05-03T16:57:31.311Z"
   },
   {
    "duration": 4400,
    "start_time": "2022-05-03T17:08:33.425Z"
   },
   {
    "duration": 73108,
    "start_time": "2022-05-03T17:09:35.145Z"
   },
   {
    "duration": 0,
    "start_time": "2022-05-03T17:25:07.453Z"
   },
   {
    "duration": 8630,
    "start_time": "2022-05-03T17:25:41.840Z"
   },
   {
    "duration": 459400,
    "start_time": "2022-05-03T17:26:40.259Z"
   },
   {
    "duration": 13,
    "start_time": "2022-05-03T17:35:49.742Z"
   },
   {
    "duration": 13,
    "start_time": "2022-05-03T17:36:59.899Z"
   },
   {
    "duration": 7,
    "start_time": "2022-05-03T17:38:18.829Z"
   },
   {
    "duration": 12,
    "start_time": "2022-05-03T17:38:19.974Z"
   },
   {
    "duration": 34088,
    "start_time": "2022-05-03T17:48:52.975Z"
   },
   {
    "duration": 4281,
    "start_time": "2022-05-03T17:51:40.778Z"
   },
   {
    "duration": 91,
    "start_time": "2022-05-03T17:55:00.869Z"
   },
   {
    "duration": 90,
    "start_time": "2022-05-03T17:56:32.664Z"
   },
   {
    "duration": 4269,
    "start_time": "2022-05-03T17:57:27.000Z"
   },
   {
    "duration": 7218,
    "start_time": "2022-05-03T18:11:44.972Z"
   },
   {
    "duration": 2078,
    "start_time": "2022-05-03T18:11:52.194Z"
   },
   {
    "duration": 3,
    "start_time": "2022-05-03T18:11:54.274Z"
   },
   {
    "duration": 1110,
    "start_time": "2022-05-03T18:11:54.280Z"
   },
   {
    "duration": 3,
    "start_time": "2022-05-03T18:11:55.393Z"
   },
   {
    "duration": 28,
    "start_time": "2022-05-03T18:11:55.399Z"
   },
   {
    "duration": 196,
    "start_time": "2022-05-03T18:11:55.429Z"
   },
   {
    "duration": 6,
    "start_time": "2022-05-03T18:11:55.627Z"
   },
   {
    "duration": 197,
    "start_time": "2022-05-03T18:11:55.635Z"
   },
   {
    "duration": 687,
    "start_time": "2022-05-03T18:11:55.836Z"
   },
   {
    "duration": 1113,
    "start_time": "2022-05-03T18:11:56.525Z"
   },
   {
    "duration": 1069,
    "start_time": "2022-05-03T18:11:57.640Z"
   },
   {
    "duration": 812,
    "start_time": "2022-05-03T18:11:58.712Z"
   },
   {
    "duration": 449,
    "start_time": "2022-05-03T18:11:59.526Z"
   },
   {
    "duration": 714,
    "start_time": "2022-05-03T18:11:59.978Z"
   },
   {
    "duration": 25,
    "start_time": "2022-05-03T18:12:00.695Z"
   },
   {
    "duration": 49,
    "start_time": "2022-05-03T18:12:00.722Z"
   },
   {
    "duration": 28,
    "start_time": "2022-05-03T18:12:00.773Z"
   },
   {
    "duration": 203,
    "start_time": "2022-05-03T18:12:00.803Z"
   },
   {
    "duration": 13,
    "start_time": "2022-05-03T18:12:01.009Z"
   },
   {
    "duration": 198,
    "start_time": "2022-05-03T18:12:01.025Z"
   },
   {
    "duration": 32,
    "start_time": "2022-05-03T18:12:01.225Z"
   },
   {
    "duration": 28,
    "start_time": "2022-05-03T18:12:01.259Z"
   },
   {
    "duration": 27,
    "start_time": "2022-05-03T18:12:01.290Z"
   },
   {
    "duration": 56,
    "start_time": "2022-05-03T18:12:01.320Z"
   },
   {
    "duration": 38,
    "start_time": "2022-05-03T18:12:01.378Z"
   },
   {
    "duration": 50,
    "start_time": "2022-05-03T18:12:01.419Z"
   },
   {
    "duration": 10,
    "start_time": "2022-05-03T18:12:01.476Z"
   },
   {
    "duration": 29,
    "start_time": "2022-05-03T18:12:01.488Z"
   },
   {
    "duration": 146,
    "start_time": "2022-05-03T18:12:01.520Z"
   },
   {
    "duration": 31,
    "start_time": "2022-05-03T18:12:01.669Z"
   },
   {
    "duration": 3920,
    "start_time": "2022-05-03T18:12:01.703Z"
   },
   {
    "duration": 332,
    "start_time": "2022-05-03T18:12:05.625Z"
   },
   {
    "duration": 24,
    "start_time": "2022-05-03T18:12:05.959Z"
   },
   {
    "duration": 29,
    "start_time": "2022-05-03T18:12:05.985Z"
   },
   {
    "duration": 199,
    "start_time": "2022-05-03T18:12:06.017Z"
   },
   {
    "duration": 159,
    "start_time": "2022-05-03T18:12:06.219Z"
   },
   {
    "duration": 197,
    "start_time": "2022-05-03T18:12:06.381Z"
   },
   {
    "duration": 4,
    "start_time": "2022-05-03T18:12:06.581Z"
   },
   {
    "duration": 48,
    "start_time": "2022-05-03T18:12:06.588Z"
   },
   {
    "duration": 7,
    "start_time": "2022-05-03T18:12:06.653Z"
   },
   {
    "duration": 10,
    "start_time": "2022-05-03T18:12:06.663Z"
   },
   {
    "duration": 14,
    "start_time": "2022-05-03T18:12:06.676Z"
   },
   {
    "duration": 10,
    "start_time": "2022-05-03T18:12:06.694Z"
   },
   {
    "duration": 332,
    "start_time": "2022-05-03T18:12:06.708Z"
   },
   {
    "duration": 1101,
    "start_time": "2022-05-03T18:12:07.043Z"
   },
   {
    "duration": 7,
    "start_time": "2022-05-03T18:12:08.151Z"
   },
   {
    "duration": 292,
    "start_time": "2022-05-03T18:12:08.161Z"
   },
   {
    "duration": 6,
    "start_time": "2022-05-03T18:12:08.456Z"
   },
   {
    "duration": 7,
    "start_time": "2022-05-03T18:12:08.465Z"
   },
   {
    "duration": 7,
    "start_time": "2022-05-03T18:12:08.475Z"
   },
   {
    "duration": 10,
    "start_time": "2022-05-03T18:12:08.484Z"
   },
   {
    "duration": 8,
    "start_time": "2022-05-03T18:12:08.496Z"
   },
   {
    "duration": 50,
    "start_time": "2022-05-03T18:12:08.506Z"
   },
   {
    "duration": 710,
    "start_time": "2022-05-03T18:12:08.559Z"
   },
   {
    "duration": 4086,
    "start_time": "2022-05-03T18:12:09.271Z"
   },
   {
    "duration": 91,
    "start_time": "2022-05-03T18:12:13.361Z"
   },
   {
    "duration": 1164,
    "start_time": "2022-05-03T18:12:13.456Z"
   },
   {
    "duration": 5,
    "start_time": "2022-05-03T18:12:14.623Z"
   },
   {
    "duration": 85,
    "start_time": "2022-05-03T18:12:14.630Z"
   },
   {
    "duration": 6,
    "start_time": "2022-05-03T18:12:14.718Z"
   },
   {
    "duration": 7,
    "start_time": "2022-05-03T18:12:14.726Z"
   },
   {
    "duration": 21,
    "start_time": "2022-05-03T18:12:14.735Z"
   },
   {
    "duration": 8,
    "start_time": "2022-05-03T18:12:14.758Z"
   },
   {
    "duration": 6,
    "start_time": "2022-05-03T18:12:14.768Z"
   },
   {
    "duration": 9,
    "start_time": "2022-05-03T18:12:14.776Z"
   },
   {
    "duration": 129,
    "start_time": "2022-05-03T18:12:14.787Z"
   },
   {
    "duration": 47074,
    "start_time": "2022-05-03T18:12:14.918Z"
   },
   {
    "duration": 4,
    "start_time": "2022-05-03T18:13:01.994Z"
   },
   {
    "duration": 24,
    "start_time": "2022-05-03T18:13:02.000Z"
   },
   {
    "duration": 14,
    "start_time": "2022-05-03T18:13:02.026Z"
   },
   {
    "duration": 10,
    "start_time": "2022-05-03T18:13:02.042Z"
   },
   {
    "duration": 552805,
    "start_time": "2022-05-03T18:13:02.054Z"
   },
   {
    "duration": 746958,
    "start_time": "2022-05-03T18:22:14.861Z"
   },
   {
    "duration": 3,
    "start_time": "2022-05-03T18:34:41.822Z"
   },
   {
    "duration": 23,
    "start_time": "2022-05-03T18:34:41.828Z"
   },
   {
    "duration": 174,
    "start_time": "2022-05-03T18:34:41.854Z"
   },
   {
    "duration": 0,
    "start_time": "2022-05-03T18:34:42.032Z"
   },
   {
    "duration": 0,
    "start_time": "2022-05-03T18:34:42.035Z"
   },
   {
    "duration": 0,
    "start_time": "2022-05-03T18:34:42.036Z"
   },
   {
    "duration": 0,
    "start_time": "2022-05-03T18:34:42.037Z"
   },
   {
    "duration": 0,
    "start_time": "2022-05-03T18:34:42.052Z"
   },
   {
    "duration": 0,
    "start_time": "2022-05-03T18:34:42.054Z"
   },
   {
    "duration": 0,
    "start_time": "2022-05-03T18:34:42.056Z"
   },
   {
    "duration": 0,
    "start_time": "2022-05-03T18:34:42.058Z"
   },
   {
    "duration": 0,
    "start_time": "2022-05-03T18:34:42.061Z"
   },
   {
    "duration": 0,
    "start_time": "2022-05-03T18:34:42.063Z"
   },
   {
    "duration": 0,
    "start_time": "2022-05-03T18:34:42.065Z"
   },
   {
    "duration": 270,
    "start_time": "2022-05-03T18:42:33.581Z"
   },
   {
    "duration": 67,
    "start_time": "2022-05-03T18:42:33.854Z"
   },
   {
    "duration": 283,
    "start_time": "2022-05-03T18:42:33.923Z"
   },
   {
    "duration": 4,
    "start_time": "2022-05-03T18:42:34.209Z"
   },
   {
    "duration": 859739,
    "start_time": "2022-05-03T18:42:34.215Z"
   },
   {
    "duration": 5,
    "start_time": "2022-05-03T18:56:53.956Z"
   },
   {
    "duration": 209191,
    "start_time": "2022-05-03T18:56:53.964Z"
   },
   {
    "duration": 6,
    "start_time": "2022-05-03T19:00:23.157Z"
   },
   {
    "duration": 28,
    "start_time": "2022-05-03T19:00:23.166Z"
   },
   {
    "duration": 96,
    "start_time": "2022-05-03T19:00:23.198Z"
   },
   {
    "duration": 0,
    "start_time": "2022-05-03T19:00:23.297Z"
   },
   {
    "duration": 0,
    "start_time": "2022-05-03T19:00:23.299Z"
   },
   {
    "duration": 21377,
    "start_time": "2022-05-03T19:01:02.585Z"
   },
   {
    "duration": 4299,
    "start_time": "2022-05-03T19:01:23.966Z"
   },
   {
    "duration": 4286,
    "start_time": "2022-05-03T19:01:28.267Z"
   },
   {
    "duration": 132,
    "start_time": "2022-05-03T20:09:45.428Z"
   },
   {
    "duration": 88,
    "start_time": "2022-05-03T20:10:31.101Z"
   },
   {
    "duration": 93,
    "start_time": "2022-05-03T20:19:17.113Z"
   },
   {
    "duration": 201,
    "start_time": "2022-05-03T20:25:03.653Z"
   },
   {
    "duration": 5,
    "start_time": "2022-05-04T07:35:37.214Z"
   },
   {
    "duration": 2,
    "start_time": "2022-05-04T07:35:38.813Z"
   },
   {
    "duration": 6290,
    "start_time": "2022-05-04T07:36:08.732Z"
   },
   {
    "duration": 2143,
    "start_time": "2022-05-04T07:36:15.025Z"
   },
   {
    "duration": 4,
    "start_time": "2022-05-04T07:36:17.170Z"
   },
   {
    "duration": 966,
    "start_time": "2022-05-04T07:36:17.177Z"
   },
   {
    "duration": 3,
    "start_time": "2022-05-04T07:36:18.146Z"
   },
   {
    "duration": 27,
    "start_time": "2022-05-04T07:36:18.151Z"
   },
   {
    "duration": 163,
    "start_time": "2022-05-04T07:36:18.179Z"
   },
   {
    "duration": 4,
    "start_time": "2022-05-04T07:36:18.344Z"
   },
   {
    "duration": 273,
    "start_time": "2022-05-04T07:36:18.350Z"
   },
   {
    "duration": 503,
    "start_time": "2022-05-04T07:36:18.626Z"
   },
   {
    "duration": 969,
    "start_time": "2022-05-04T07:36:19.130Z"
   },
   {
    "duration": 811,
    "start_time": "2022-05-04T07:36:20.101Z"
   },
   {
    "duration": 571,
    "start_time": "2022-05-04T07:36:20.914Z"
   },
   {
    "duration": 377,
    "start_time": "2022-05-04T07:36:21.486Z"
   },
   {
    "duration": 480,
    "start_time": "2022-05-04T07:36:21.864Z"
   },
   {
    "duration": 17,
    "start_time": "2022-05-04T07:36:22.346Z"
   },
   {
    "duration": 35,
    "start_time": "2022-05-04T07:36:22.365Z"
   },
   {
    "duration": 20,
    "start_time": "2022-05-04T07:36:22.403Z"
   },
   {
    "duration": 128,
    "start_time": "2022-05-04T07:36:22.424Z"
   },
   {
    "duration": 11,
    "start_time": "2022-05-04T07:36:22.554Z"
   },
   {
    "duration": 135,
    "start_time": "2022-05-04T07:36:22.568Z"
   },
   {
    "duration": 32,
    "start_time": "2022-05-04T07:36:22.705Z"
   },
   {
    "duration": 45,
    "start_time": "2022-05-04T07:36:22.740Z"
   },
   {
    "duration": 36,
    "start_time": "2022-05-04T07:36:22.787Z"
   },
   {
    "duration": 24,
    "start_time": "2022-05-04T07:36:22.826Z"
   },
   {
    "duration": 23,
    "start_time": "2022-05-04T07:36:22.852Z"
   },
   {
    "duration": 38,
    "start_time": "2022-05-04T07:36:22.876Z"
   },
   {
    "duration": 6,
    "start_time": "2022-05-04T07:36:22.919Z"
   },
   {
    "duration": 9,
    "start_time": "2022-05-04T07:36:22.926Z"
   },
   {
    "duration": 97,
    "start_time": "2022-05-04T07:36:22.937Z"
   },
   {
    "duration": 19,
    "start_time": "2022-05-04T07:36:23.036Z"
   },
   {
    "duration": 2717,
    "start_time": "2022-05-04T07:36:23.057Z"
   },
   {
    "duration": 190,
    "start_time": "2022-05-04T07:36:25.775Z"
   },
   {
    "duration": 15,
    "start_time": "2022-05-04T07:36:25.967Z"
   },
   {
    "duration": 25,
    "start_time": "2022-05-04T07:36:25.993Z"
   },
   {
    "duration": 115,
    "start_time": "2022-05-04T07:36:26.020Z"
   },
   {
    "duration": 131,
    "start_time": "2022-05-04T07:36:26.137Z"
   },
   {
    "duration": 150,
    "start_time": "2022-05-04T07:36:26.270Z"
   },
   {
    "duration": 3,
    "start_time": "2022-05-04T07:36:26.423Z"
   },
   {
    "duration": 33,
    "start_time": "2022-05-04T07:36:26.427Z"
   },
   {
    "duration": 7,
    "start_time": "2022-05-04T07:36:26.462Z"
   },
   {
    "duration": 15,
    "start_time": "2022-05-04T07:36:26.471Z"
   },
   {
    "duration": 14,
    "start_time": "2022-05-04T07:36:26.497Z"
   },
   {
    "duration": 17,
    "start_time": "2022-05-04T07:36:26.513Z"
   },
   {
    "duration": 241,
    "start_time": "2022-05-04T07:36:26.532Z"
   },
   {
    "duration": 589,
    "start_time": "2022-05-04T07:36:26.775Z"
   },
   {
    "duration": 3,
    "start_time": "2022-05-04T07:36:27.366Z"
   },
   {
    "duration": 169,
    "start_time": "2022-05-04T07:36:27.370Z"
   },
   {
    "duration": 4,
    "start_time": "2022-05-04T07:36:27.541Z"
   },
   {
    "duration": 12,
    "start_time": "2022-05-04T07:36:27.546Z"
   },
   {
    "duration": 12,
    "start_time": "2022-05-04T07:36:27.560Z"
   },
   {
    "duration": 9,
    "start_time": "2022-05-04T07:36:27.574Z"
   },
   {
    "duration": 22,
    "start_time": "2022-05-04T07:36:27.585Z"
   },
   {
    "duration": 6,
    "start_time": "2022-05-04T07:36:27.610Z"
   },
   {
    "duration": 545,
    "start_time": "2022-05-04T07:36:27.618Z"
   },
   {
    "duration": 3933,
    "start_time": "2022-05-04T07:36:28.164Z"
   },
   {
    "duration": 11,
    "start_time": "2022-05-04T07:36:32.099Z"
   },
   {
    "duration": 928,
    "start_time": "2022-05-04T07:36:32.113Z"
   },
   {
    "duration": 4,
    "start_time": "2022-05-04T07:36:33.042Z"
   },
   {
    "duration": 52,
    "start_time": "2022-05-04T07:36:33.048Z"
   },
   {
    "duration": 4,
    "start_time": "2022-05-04T07:36:33.103Z"
   },
   {
    "duration": 5,
    "start_time": "2022-05-04T07:36:33.109Z"
   },
   {
    "duration": 4,
    "start_time": "2022-05-04T07:36:33.116Z"
   },
   {
    "duration": 4,
    "start_time": "2022-05-04T07:36:33.122Z"
   },
   {
    "duration": 6,
    "start_time": "2022-05-04T07:36:33.128Z"
   },
   {
    "duration": 9,
    "start_time": "2022-05-04T07:36:33.135Z"
   },
   {
    "duration": 89,
    "start_time": "2022-05-04T07:36:33.145Z"
   },
   {
    "duration": 43591,
    "start_time": "2022-05-04T07:36:33.236Z"
   },
   {
    "duration": 3,
    "start_time": "2022-05-04T07:37:16.829Z"
   },
   {
    "duration": 21,
    "start_time": "2022-05-04T07:37:16.834Z"
   },
   {
    "duration": 17,
    "start_time": "2022-05-04T07:37:16.857Z"
   },
   {
    "duration": 15,
    "start_time": "2022-05-04T07:37:16.876Z"
   },
   {
    "duration": 502235,
    "start_time": "2022-05-04T07:37:16.897Z"
   },
   {
    "duration": 693879,
    "start_time": "2022-05-04T07:45:39.133Z"
   },
   {
    "duration": 3,
    "start_time": "2022-05-04T07:57:13.014Z"
   },
   {
    "duration": 6,
    "start_time": "2022-05-04T07:57:13.018Z"
   },
   {
    "duration": 180,
    "start_time": "2022-05-04T07:57:13.026Z"
   },
   {
    "duration": 54,
    "start_time": "2022-05-04T07:57:13.208Z"
   },
   {
    "duration": 225,
    "start_time": "2022-05-04T07:57:13.264Z"
   },
   {
    "duration": 3,
    "start_time": "2022-05-04T07:57:13.493Z"
   },
   {
    "duration": 1126310,
    "start_time": "2022-05-04T07:57:13.498Z"
   },
   {
    "duration": 0,
    "start_time": "2022-05-04T08:15:59.811Z"
   },
   {
    "duration": 0,
    "start_time": "2022-05-04T08:15:59.812Z"
   },
   {
    "duration": 0,
    "start_time": "2022-05-04T08:15:59.813Z"
   },
   {
    "duration": 0,
    "start_time": "2022-05-04T08:15:59.814Z"
   },
   {
    "duration": 0,
    "start_time": "2022-05-04T08:15:59.815Z"
   },
   {
    "duration": 0,
    "start_time": "2022-05-04T08:15:59.817Z"
   },
   {
    "duration": 0,
    "start_time": "2022-05-04T08:15:59.818Z"
   },
   {
    "duration": 3,
    "start_time": "2022-05-04T08:16:35.256Z"
   },
   {
    "duration": 445235,
    "start_time": "2022-05-04T08:16:35.273Z"
   },
   {
    "duration": 0,
    "start_time": "2022-05-04T08:24:00.510Z"
   },
   {
    "duration": 0,
    "start_time": "2022-05-04T08:24:00.511Z"
   },
   {
    "duration": 0,
    "start_time": "2022-05-04T08:24:00.513Z"
   },
   {
    "duration": 0,
    "start_time": "2022-05-04T08:24:00.515Z"
   },
   {
    "duration": 0,
    "start_time": "2022-05-04T08:24:00.519Z"
   },
   {
    "duration": 3,
    "start_time": "2022-05-04T08:24:15.838Z"
   },
   {
    "duration": 3,
    "start_time": "2022-05-04T08:24:15.864Z"
   },
   {
    "duration": 504653,
    "start_time": "2022-05-04T08:24:15.887Z"
   },
   {
    "duration": 0,
    "start_time": "2022-05-04T08:32:40.542Z"
   },
   {
    "duration": 0,
    "start_time": "2022-05-04T08:32:40.543Z"
   },
   {
    "duration": 0,
    "start_time": "2022-05-04T08:32:40.545Z"
   },
   {
    "duration": 0,
    "start_time": "2022-05-04T08:32:40.546Z"
   },
   {
    "duration": 0,
    "start_time": "2022-05-04T08:32:40.548Z"
   },
   {
    "duration": 6035,
    "start_time": "2022-05-04T08:33:26.274Z"
   },
   {
    "duration": 1701,
    "start_time": "2022-05-04T08:33:32.315Z"
   },
   {
    "duration": 4,
    "start_time": "2022-05-04T08:33:34.018Z"
   },
   {
    "duration": 1306,
    "start_time": "2022-05-04T08:33:34.025Z"
   },
   {
    "duration": 3,
    "start_time": "2022-05-04T08:33:35.336Z"
   },
   {
    "duration": 24,
    "start_time": "2022-05-04T08:33:35.341Z"
   },
   {
    "duration": 265,
    "start_time": "2022-05-04T08:33:35.367Z"
   },
   {
    "duration": 4,
    "start_time": "2022-05-04T08:33:35.637Z"
   },
   {
    "duration": 173,
    "start_time": "2022-05-04T08:33:35.642Z"
   },
   {
    "duration": 512,
    "start_time": "2022-05-04T08:33:35.820Z"
   },
   {
    "duration": 997,
    "start_time": "2022-05-04T08:33:36.333Z"
   },
   {
    "duration": 931,
    "start_time": "2022-05-04T08:33:37.332Z"
   },
   {
    "duration": 608,
    "start_time": "2022-05-04T08:33:38.265Z"
   },
   {
    "duration": 294,
    "start_time": "2022-05-04T08:33:38.875Z"
   },
   {
    "duration": 676,
    "start_time": "2022-05-04T08:33:39.171Z"
   },
   {
    "duration": 16,
    "start_time": "2022-05-04T08:33:39.849Z"
   },
   {
    "duration": 15,
    "start_time": "2022-05-04T08:33:39.866Z"
   },
   {
    "duration": 39,
    "start_time": "2022-05-04T08:33:39.883Z"
   },
   {
    "duration": 123,
    "start_time": "2022-05-04T08:33:39.923Z"
   },
   {
    "duration": 12,
    "start_time": "2022-05-04T08:33:40.048Z"
   },
   {
    "duration": 121,
    "start_time": "2022-05-04T08:33:40.062Z"
   },
   {
    "duration": 41,
    "start_time": "2022-05-04T08:33:40.186Z"
   },
   {
    "duration": 21,
    "start_time": "2022-05-04T08:33:40.229Z"
   },
   {
    "duration": 21,
    "start_time": "2022-05-04T08:33:40.251Z"
   },
   {
    "duration": 60,
    "start_time": "2022-05-04T08:33:40.274Z"
   },
   {
    "duration": 23,
    "start_time": "2022-05-04T08:33:40.336Z"
   },
   {
    "duration": 19,
    "start_time": "2022-05-04T08:33:40.361Z"
   },
   {
    "duration": 25,
    "start_time": "2022-05-04T08:33:40.385Z"
   },
   {
    "duration": 20,
    "start_time": "2022-05-04T08:33:40.417Z"
   },
   {
    "duration": 94,
    "start_time": "2022-05-04T08:33:40.439Z"
   },
   {
    "duration": 17,
    "start_time": "2022-05-04T08:33:40.535Z"
   },
   {
    "duration": 2792,
    "start_time": "2022-05-04T08:33:40.554Z"
   },
   {
    "duration": 195,
    "start_time": "2022-05-04T08:33:43.348Z"
   },
   {
    "duration": 14,
    "start_time": "2022-05-04T08:33:43.545Z"
   },
   {
    "duration": 40,
    "start_time": "2022-05-04T08:33:43.561Z"
   },
   {
    "duration": 97,
    "start_time": "2022-05-04T08:33:43.604Z"
   },
   {
    "duration": 153,
    "start_time": "2022-05-04T08:33:43.703Z"
   },
   {
    "duration": 154,
    "start_time": "2022-05-04T08:33:43.857Z"
   },
   {
    "duration": 12,
    "start_time": "2022-05-04T08:33:44.014Z"
   },
   {
    "duration": 25,
    "start_time": "2022-05-04T08:33:44.028Z"
   },
   {
    "duration": 4,
    "start_time": "2022-05-04T08:33:44.054Z"
   },
   {
    "duration": 5,
    "start_time": "2022-05-04T08:33:44.060Z"
   },
   {
    "duration": 44,
    "start_time": "2022-05-04T08:33:44.067Z"
   },
   {
    "duration": 5,
    "start_time": "2022-05-04T08:33:44.118Z"
   },
   {
    "duration": 193,
    "start_time": "2022-05-04T08:33:44.125Z"
   },
   {
    "duration": 610,
    "start_time": "2022-05-04T08:33:44.323Z"
   },
   {
    "duration": 4,
    "start_time": "2022-05-04T08:33:44.935Z"
   },
   {
    "duration": 173,
    "start_time": "2022-05-04T08:33:44.940Z"
   },
   {
    "duration": 6,
    "start_time": "2022-05-04T08:33:45.115Z"
   },
   {
    "duration": 8,
    "start_time": "2022-05-04T08:33:45.123Z"
   },
   {
    "duration": 5,
    "start_time": "2022-05-04T08:33:45.132Z"
   },
   {
    "duration": 6,
    "start_time": "2022-05-04T08:33:45.138Z"
   },
   {
    "duration": 8,
    "start_time": "2022-05-04T08:33:45.146Z"
   },
   {
    "duration": 7,
    "start_time": "2022-05-04T08:33:45.155Z"
   },
   {
    "duration": 541,
    "start_time": "2022-05-04T08:33:45.164Z"
   },
   {
    "duration": 3803,
    "start_time": "2022-05-04T08:33:45.707Z"
   },
   {
    "duration": 13,
    "start_time": "2022-05-04T08:33:49.513Z"
   },
   {
    "duration": 880,
    "start_time": "2022-05-04T08:33:49.529Z"
   },
   {
    "duration": 8,
    "start_time": "2022-05-04T08:33:50.412Z"
   },
   {
    "duration": 53,
    "start_time": "2022-05-04T08:33:50.422Z"
   },
   {
    "duration": 4,
    "start_time": "2022-05-04T08:33:50.477Z"
   },
   {
    "duration": 21,
    "start_time": "2022-05-04T08:33:50.483Z"
   },
   {
    "duration": 28,
    "start_time": "2022-05-04T08:33:50.506Z"
   },
   {
    "duration": 5,
    "start_time": "2022-05-04T08:33:50.536Z"
   },
   {
    "duration": 5,
    "start_time": "2022-05-04T08:33:50.543Z"
   },
   {
    "duration": 5,
    "start_time": "2022-05-04T08:33:50.549Z"
   },
   {
    "duration": 114,
    "start_time": "2022-05-04T08:33:50.556Z"
   },
   {
    "duration": 45440,
    "start_time": "2022-05-04T08:33:50.672Z"
   },
   {
    "duration": 3,
    "start_time": "2022-05-04T08:34:36.114Z"
   },
   {
    "duration": 12,
    "start_time": "2022-05-04T08:34:36.119Z"
   },
   {
    "duration": 5,
    "start_time": "2022-05-04T08:34:36.134Z"
   },
   {
    "duration": 6,
    "start_time": "2022-05-04T08:34:36.141Z"
   },
   {
    "duration": 151,
    "start_time": "2022-05-04T08:34:36.149Z"
   },
   {
    "duration": 0,
    "start_time": "2022-05-04T08:34:36.303Z"
   },
   {
    "duration": 0,
    "start_time": "2022-05-04T08:34:36.305Z"
   },
   {
    "duration": 0,
    "start_time": "2022-05-04T08:34:36.306Z"
   },
   {
    "duration": 0,
    "start_time": "2022-05-04T08:34:36.307Z"
   },
   {
    "duration": 0,
    "start_time": "2022-05-04T08:34:36.309Z"
   },
   {
    "duration": 0,
    "start_time": "2022-05-04T08:34:36.310Z"
   },
   {
    "duration": 1,
    "start_time": "2022-05-04T08:34:36.311Z"
   },
   {
    "duration": 0,
    "start_time": "2022-05-04T08:34:36.314Z"
   },
   {
    "duration": 0,
    "start_time": "2022-05-04T08:34:36.316Z"
   },
   {
    "duration": 0,
    "start_time": "2022-05-04T08:34:36.316Z"
   },
   {
    "duration": 0,
    "start_time": "2022-05-04T08:34:36.318Z"
   },
   {
    "duration": 0,
    "start_time": "2022-05-04T08:34:36.319Z"
   },
   {
    "duration": 0,
    "start_time": "2022-05-04T08:34:36.320Z"
   },
   {
    "duration": 1,
    "start_time": "2022-05-04T08:34:36.321Z"
   },
   {
    "duration": 0,
    "start_time": "2022-05-04T08:34:36.322Z"
   },
   {
    "duration": 5631,
    "start_time": "2022-05-04T08:36:41.443Z"
   },
   {
    "duration": 1811,
    "start_time": "2022-05-04T08:36:47.077Z"
   },
   {
    "duration": 6,
    "start_time": "2022-05-04T08:36:48.893Z"
   },
   {
    "duration": 902,
    "start_time": "2022-05-04T08:36:48.902Z"
   },
   {
    "duration": 3,
    "start_time": "2022-05-04T08:36:49.806Z"
   },
   {
    "duration": 20,
    "start_time": "2022-05-04T08:36:49.810Z"
   },
   {
    "duration": 165,
    "start_time": "2022-05-04T08:36:49.831Z"
   },
   {
    "duration": 5,
    "start_time": "2022-05-04T08:36:49.998Z"
   },
   {
    "duration": 154,
    "start_time": "2022-05-04T08:36:50.005Z"
   },
   {
    "duration": 516,
    "start_time": "2022-05-04T08:36:50.162Z"
   },
   {
    "duration": 1069,
    "start_time": "2022-05-04T08:36:50.680Z"
   },
   {
    "duration": 855,
    "start_time": "2022-05-04T08:36:51.752Z"
   },
   {
    "duration": 604,
    "start_time": "2022-05-04T08:36:52.611Z"
   },
   {
    "duration": 340,
    "start_time": "2022-05-04T08:36:53.217Z"
   },
   {
    "duration": 695,
    "start_time": "2022-05-04T08:36:53.559Z"
   },
   {
    "duration": 19,
    "start_time": "2022-05-04T08:36:54.256Z"
   },
   {
    "duration": 35,
    "start_time": "2022-05-04T08:36:54.277Z"
   },
   {
    "duration": 37,
    "start_time": "2022-05-04T08:36:54.314Z"
   },
   {
    "duration": 135,
    "start_time": "2022-05-04T08:36:54.353Z"
   },
   {
    "duration": 24,
    "start_time": "2022-05-04T08:36:54.490Z"
   },
   {
    "duration": 115,
    "start_time": "2022-05-04T08:36:54.516Z"
   },
   {
    "duration": 22,
    "start_time": "2022-05-04T08:36:54.633Z"
   },
   {
    "duration": 23,
    "start_time": "2022-05-04T08:36:54.657Z"
   },
   {
    "duration": 41,
    "start_time": "2022-05-04T08:36:54.681Z"
   },
   {
    "duration": 22,
    "start_time": "2022-05-04T08:36:54.724Z"
   },
   {
    "duration": 22,
    "start_time": "2022-05-04T08:36:54.748Z"
   },
   {
    "duration": 43,
    "start_time": "2022-05-04T08:36:54.771Z"
   },
   {
    "duration": 7,
    "start_time": "2022-05-04T08:36:54.819Z"
   },
   {
    "duration": 10,
    "start_time": "2022-05-04T08:36:54.830Z"
   },
   {
    "duration": 103,
    "start_time": "2022-05-04T08:36:54.843Z"
   },
   {
    "duration": 20,
    "start_time": "2022-05-04T08:36:54.948Z"
   },
   {
    "duration": 3571,
    "start_time": "2022-05-04T08:36:54.970Z"
   },
   {
    "duration": 207,
    "start_time": "2022-05-04T08:36:58.542Z"
   },
   {
    "duration": 15,
    "start_time": "2022-05-04T08:36:58.751Z"
   },
   {
    "duration": 45,
    "start_time": "2022-05-04T08:36:58.767Z"
   },
   {
    "duration": 121,
    "start_time": "2022-05-04T08:36:58.814Z"
   },
   {
    "duration": 195,
    "start_time": "2022-05-04T08:36:58.937Z"
   },
   {
    "duration": 147,
    "start_time": "2022-05-04T08:36:59.134Z"
   },
   {
    "duration": 9,
    "start_time": "2022-05-04T08:36:59.292Z"
   },
   {
    "duration": 40,
    "start_time": "2022-05-04T08:36:59.303Z"
   },
   {
    "duration": 4,
    "start_time": "2022-05-04T08:36:59.346Z"
   },
   {
    "duration": 9,
    "start_time": "2022-05-04T08:36:59.351Z"
   },
   {
    "duration": 7,
    "start_time": "2022-05-04T08:36:59.362Z"
   },
   {
    "duration": 14,
    "start_time": "2022-05-04T08:36:59.371Z"
   },
   {
    "duration": 210,
    "start_time": "2022-05-04T08:36:59.387Z"
   },
   {
    "duration": 658,
    "start_time": "2022-05-04T08:36:59.599Z"
   },
   {
    "duration": 5,
    "start_time": "2022-05-04T08:37:00.259Z"
   },
   {
    "duration": 193,
    "start_time": "2022-05-04T08:37:00.265Z"
   },
   {
    "duration": 4,
    "start_time": "2022-05-04T08:37:00.460Z"
   },
   {
    "duration": 24,
    "start_time": "2022-05-04T08:37:00.466Z"
   },
   {
    "duration": 28,
    "start_time": "2022-05-04T08:37:00.492Z"
   },
   {
    "duration": 19,
    "start_time": "2022-05-04T08:37:00.522Z"
   },
   {
    "duration": 17,
    "start_time": "2022-05-04T08:37:00.543Z"
   },
   {
    "duration": 13,
    "start_time": "2022-05-04T08:37:00.561Z"
   },
   {
    "duration": 597,
    "start_time": "2022-05-04T08:37:00.575Z"
   },
   {
    "duration": 4144,
    "start_time": "2022-05-04T08:37:01.174Z"
   },
   {
    "duration": 85,
    "start_time": "2022-05-04T08:37:05.321Z"
   },
   {
    "duration": 805,
    "start_time": "2022-05-04T08:37:05.409Z"
   },
   {
    "duration": 4,
    "start_time": "2022-05-04T08:37:06.216Z"
   },
   {
    "duration": 48,
    "start_time": "2022-05-04T08:37:06.222Z"
   },
   {
    "duration": 28,
    "start_time": "2022-05-04T08:37:06.272Z"
   },
   {
    "duration": 10,
    "start_time": "2022-05-04T08:37:06.303Z"
   },
   {
    "duration": 4,
    "start_time": "2022-05-04T08:37:06.315Z"
   },
   {
    "duration": 11,
    "start_time": "2022-05-04T08:37:06.321Z"
   },
   {
    "duration": 8,
    "start_time": "2022-05-04T08:37:06.334Z"
   },
   {
    "duration": 5,
    "start_time": "2022-05-04T08:37:06.344Z"
   },
   {
    "duration": 106,
    "start_time": "2022-05-04T08:37:06.351Z"
   },
   {
    "duration": 43249,
    "start_time": "2022-05-04T08:37:06.459Z"
   },
   {
    "duration": 6,
    "start_time": "2022-05-04T08:37:49.710Z"
   },
   {
    "duration": 8,
    "start_time": "2022-05-04T08:37:49.717Z"
   },
   {
    "duration": 8,
    "start_time": "2022-05-04T08:37:49.726Z"
   },
   {
    "duration": 6,
    "start_time": "2022-05-04T08:37:49.736Z"
   },
   {
    "duration": 6,
    "start_time": "2022-05-04T08:37:49.744Z"
   },
   {
    "duration": 12,
    "start_time": "2022-05-04T08:37:49.753Z"
   },
   {
    "duration": 8,
    "start_time": "2022-05-04T08:37:49.767Z"
   },
   {
    "duration": 13,
    "start_time": "2022-05-04T08:37:49.776Z"
   },
   {
    "duration": 182,
    "start_time": "2022-05-04T08:37:49.790Z"
   },
   {
    "duration": 84,
    "start_time": "2022-05-04T08:37:49.974Z"
   },
   {
    "duration": 287,
    "start_time": "2022-05-04T08:37:50.061Z"
   },
   {
    "duration": 3,
    "start_time": "2022-05-04T08:37:50.350Z"
   },
   {
    "duration": 14,
    "start_time": "2022-05-04T08:37:50.355Z"
   },
   {
    "duration": 6,
    "start_time": "2022-05-04T08:37:50.374Z"
   },
   {
    "duration": 6430,
    "start_time": "2022-05-04T09:00:27.544Z"
   },
   {
    "duration": 1999,
    "start_time": "2022-05-04T09:00:33.977Z"
   },
   {
    "duration": 3,
    "start_time": "2022-05-04T09:00:35.978Z"
   },
   {
    "duration": 1057,
    "start_time": "2022-05-04T09:00:35.983Z"
   },
   {
    "duration": 3,
    "start_time": "2022-05-04T09:00:37.042Z"
   },
   {
    "duration": 31,
    "start_time": "2022-05-04T09:00:37.047Z"
   },
   {
    "duration": 195,
    "start_time": "2022-05-04T09:00:37.081Z"
   },
   {
    "duration": 5,
    "start_time": "2022-05-04T09:00:37.278Z"
   },
   {
    "duration": 227,
    "start_time": "2022-05-04T09:00:37.284Z"
   },
   {
    "duration": 751,
    "start_time": "2022-05-04T09:00:37.517Z"
   },
   {
    "duration": 1158,
    "start_time": "2022-05-04T09:00:38.270Z"
   },
   {
    "duration": 1155,
    "start_time": "2022-05-04T09:00:39.430Z"
   },
   {
    "duration": 815,
    "start_time": "2022-05-04T09:00:40.588Z"
   },
   {
    "duration": 405,
    "start_time": "2022-05-04T09:00:41.405Z"
   },
   {
    "duration": 905,
    "start_time": "2022-05-04T09:00:41.812Z"
   },
   {
    "duration": 20,
    "start_time": "2022-05-04T09:00:42.719Z"
   },
   {
    "duration": 21,
    "start_time": "2022-05-04T09:00:42.741Z"
   },
   {
    "duration": 50,
    "start_time": "2022-05-04T09:00:42.764Z"
   },
   {
    "duration": 123,
    "start_time": "2022-05-04T09:00:42.816Z"
   },
   {
    "duration": 12,
    "start_time": "2022-05-04T09:00:42.941Z"
   },
   {
    "duration": 122,
    "start_time": "2022-05-04T09:00:42.955Z"
   },
   {
    "duration": 32,
    "start_time": "2022-05-04T09:00:43.079Z"
   },
   {
    "duration": 48,
    "start_time": "2022-05-04T09:00:43.113Z"
   },
   {
    "duration": 22,
    "start_time": "2022-05-04T09:00:43.163Z"
   },
   {
    "duration": 42,
    "start_time": "2022-05-04T09:00:43.187Z"
   },
   {
    "duration": 40,
    "start_time": "2022-05-04T09:00:43.231Z"
   },
   {
    "duration": 28,
    "start_time": "2022-05-04T09:00:43.273Z"
   },
   {
    "duration": 7,
    "start_time": "2022-05-04T09:00:43.308Z"
   },
   {
    "duration": 29,
    "start_time": "2022-05-04T09:00:43.317Z"
   },
   {
    "duration": 91,
    "start_time": "2022-05-04T09:00:43.348Z"
   },
   {
    "duration": 20,
    "start_time": "2022-05-04T09:00:43.440Z"
   },
   {
    "duration": 3032,
    "start_time": "2022-05-04T09:00:43.462Z"
   },
   {
    "duration": 261,
    "start_time": "2022-05-04T09:00:46.499Z"
   },
   {
    "duration": 17,
    "start_time": "2022-05-04T09:00:46.762Z"
   },
   {
    "duration": 35,
    "start_time": "2022-05-04T09:00:46.792Z"
   },
   {
    "duration": 134,
    "start_time": "2022-05-04T09:00:46.829Z"
   },
   {
    "duration": 252,
    "start_time": "2022-05-04T09:00:46.965Z"
   },
   {
    "duration": 223,
    "start_time": "2022-05-04T09:00:47.219Z"
   },
   {
    "duration": 3,
    "start_time": "2022-05-04T09:00:47.444Z"
   },
   {
    "duration": 31,
    "start_time": "2022-05-04T09:00:47.449Z"
   },
   {
    "duration": 4,
    "start_time": "2022-05-04T09:00:47.482Z"
   },
   {
    "duration": 11,
    "start_time": "2022-05-04T09:00:47.504Z"
   },
   {
    "duration": 20,
    "start_time": "2022-05-04T09:00:47.517Z"
   },
   {
    "duration": 8,
    "start_time": "2022-05-04T09:00:47.539Z"
   },
   {
    "duration": 239,
    "start_time": "2022-05-04T09:00:47.550Z"
   },
   {
    "duration": 827,
    "start_time": "2022-05-04T09:00:47.791Z"
   },
   {
    "duration": 7,
    "start_time": "2022-05-04T09:00:48.620Z"
   },
   {
    "duration": 159,
    "start_time": "2022-05-04T09:00:48.632Z"
   },
   {
    "duration": 20,
    "start_time": "2022-05-04T09:00:48.795Z"
   },
   {
    "duration": 16,
    "start_time": "2022-05-04T09:00:48.819Z"
   },
   {
    "duration": 7,
    "start_time": "2022-05-04T09:00:48.837Z"
   },
   {
    "duration": 14,
    "start_time": "2022-05-04T09:00:48.846Z"
   },
   {
    "duration": 16,
    "start_time": "2022-05-04T09:00:48.862Z"
   },
   {
    "duration": 55,
    "start_time": "2022-05-04T09:00:48.880Z"
   },
   {
    "duration": 562,
    "start_time": "2022-05-04T09:00:48.937Z"
   },
   {
    "duration": 3904,
    "start_time": "2022-05-04T09:00:49.504Z"
   },
   {
    "duration": 12,
    "start_time": "2022-05-04T09:00:53.415Z"
   },
   {
    "duration": 834,
    "start_time": "2022-05-04T09:00:53.432Z"
   },
   {
    "duration": 4,
    "start_time": "2022-05-04T09:00:54.268Z"
   },
   {
    "duration": 69,
    "start_time": "2022-05-04T09:00:54.274Z"
   },
   {
    "duration": 4,
    "start_time": "2022-05-04T09:00:54.345Z"
   },
   {
    "duration": 5,
    "start_time": "2022-05-04T09:00:54.351Z"
   },
   {
    "duration": 5,
    "start_time": "2022-05-04T09:00:54.358Z"
   },
   {
    "duration": 43,
    "start_time": "2022-05-04T09:00:54.365Z"
   },
   {
    "duration": 17,
    "start_time": "2022-05-04T09:00:54.412Z"
   },
   {
    "duration": 8,
    "start_time": "2022-05-04T09:00:54.430Z"
   },
   {
    "duration": 92,
    "start_time": "2022-05-04T09:00:54.439Z"
   },
   {
    "duration": 44418,
    "start_time": "2022-05-04T09:00:54.533Z"
   },
   {
    "duration": 2,
    "start_time": "2022-05-04T09:01:38.953Z"
   },
   {
    "duration": 7,
    "start_time": "2022-05-04T09:01:38.957Z"
   },
   {
    "duration": 5,
    "start_time": "2022-05-04T09:01:38.965Z"
   },
   {
    "duration": 5,
    "start_time": "2022-05-04T09:01:38.972Z"
   },
   {
    "duration": 14,
    "start_time": "2022-05-04T09:01:39.001Z"
   },
   {
    "duration": 16,
    "start_time": "2022-05-04T09:01:39.017Z"
   },
   {
    "duration": 4,
    "start_time": "2022-05-04T09:01:39.035Z"
   },
   {
    "duration": 6,
    "start_time": "2022-05-04T09:01:39.041Z"
   },
   {
    "duration": 186,
    "start_time": "2022-05-04T09:01:39.048Z"
   },
   {
    "duration": 70,
    "start_time": "2022-05-04T09:01:39.236Z"
   },
   {
    "duration": 234,
    "start_time": "2022-05-04T09:01:39.309Z"
   },
   {
    "duration": 4,
    "start_time": "2022-05-04T09:01:39.545Z"
   },
   {
    "duration": 9,
    "start_time": "2022-05-04T09:01:39.551Z"
   },
   {
    "duration": 3,
    "start_time": "2022-05-04T09:01:39.566Z"
   },
   {
    "duration": 5033,
    "start_time": "2022-05-04T09:57:02.835Z"
   },
   {
    "duration": 1735,
    "start_time": "2022-05-04T09:57:07.871Z"
   },
   {
    "duration": 3,
    "start_time": "2022-05-04T09:57:09.609Z"
   },
   {
    "duration": 832,
    "start_time": "2022-05-04T09:57:09.614Z"
   },
   {
    "duration": 2,
    "start_time": "2022-05-04T09:57:10.448Z"
   },
   {
    "duration": 21,
    "start_time": "2022-05-04T09:57:10.452Z"
   },
   {
    "duration": 155,
    "start_time": "2022-05-04T09:57:10.474Z"
   },
   {
    "duration": 5,
    "start_time": "2022-05-04T09:57:10.631Z"
   },
   {
    "duration": 164,
    "start_time": "2022-05-04T09:57:10.638Z"
   },
   {
    "duration": 492,
    "start_time": "2022-05-04T09:57:10.806Z"
   },
   {
    "duration": 931,
    "start_time": "2022-05-04T09:57:11.300Z"
   },
   {
    "duration": 806,
    "start_time": "2022-05-04T09:57:12.233Z"
   },
   {
    "duration": 589,
    "start_time": "2022-05-04T09:57:13.040Z"
   },
   {
    "duration": 321,
    "start_time": "2022-05-04T09:57:13.632Z"
   },
   {
    "duration": 579,
    "start_time": "2022-05-04T09:57:13.955Z"
   },
   {
    "duration": 16,
    "start_time": "2022-05-04T09:57:14.536Z"
   },
   {
    "duration": 15,
    "start_time": "2022-05-04T09:57:14.554Z"
   },
   {
    "duration": 45,
    "start_time": "2022-05-04T09:57:14.571Z"
   },
   {
    "duration": 119,
    "start_time": "2022-05-04T09:57:14.618Z"
   },
   {
    "duration": 10,
    "start_time": "2022-05-04T09:57:14.739Z"
   },
   {
    "duration": 114,
    "start_time": "2022-05-04T09:57:14.751Z"
   },
   {
    "duration": 33,
    "start_time": "2022-05-04T09:57:14.867Z"
   },
   {
    "duration": 23,
    "start_time": "2022-05-04T09:57:14.902Z"
   },
   {
    "duration": 20,
    "start_time": "2022-05-04T09:57:14.926Z"
   },
   {
    "duration": 19,
    "start_time": "2022-05-04T09:57:14.948Z"
   },
   {
    "duration": 48,
    "start_time": "2022-05-04T09:57:14.969Z"
   },
   {
    "duration": 26,
    "start_time": "2022-05-04T09:57:15.019Z"
   },
   {
    "duration": 7,
    "start_time": "2022-05-04T09:57:15.051Z"
   },
   {
    "duration": 17,
    "start_time": "2022-05-04T09:57:15.060Z"
   },
   {
    "duration": 83,
    "start_time": "2022-05-04T09:57:15.079Z"
   },
   {
    "duration": 32,
    "start_time": "2022-05-04T09:57:15.164Z"
   },
   {
    "duration": 3541,
    "start_time": "2022-05-04T09:57:15.199Z"
   },
   {
    "duration": 243,
    "start_time": "2022-05-04T09:57:18.741Z"
   },
   {
    "duration": 22,
    "start_time": "2022-05-04T09:57:18.986Z"
   },
   {
    "duration": 24,
    "start_time": "2022-05-04T09:57:19.010Z"
   },
   {
    "duration": 132,
    "start_time": "2022-05-04T09:57:19.036Z"
   },
   {
    "duration": 150,
    "start_time": "2022-05-04T09:57:19.170Z"
   },
   {
    "duration": 211,
    "start_time": "2022-05-04T09:57:19.322Z"
   },
   {
    "duration": 50,
    "start_time": "2022-05-04T09:57:19.534Z"
   },
   {
    "duration": 35,
    "start_time": "2022-05-04T09:57:19.586Z"
   },
   {
    "duration": 5,
    "start_time": "2022-05-04T09:57:19.623Z"
   },
   {
    "duration": 5,
    "start_time": "2022-05-04T09:57:19.629Z"
   },
   {
    "duration": 6,
    "start_time": "2022-05-04T09:57:19.636Z"
   },
   {
    "duration": 8,
    "start_time": "2022-05-04T09:57:19.644Z"
   },
   {
    "duration": 193,
    "start_time": "2022-05-04T09:57:19.653Z"
   },
   {
    "duration": 560,
    "start_time": "2022-05-04T09:57:19.848Z"
   },
   {
    "duration": 4,
    "start_time": "2022-05-04T09:57:20.410Z"
   },
   {
    "duration": 154,
    "start_time": "2022-05-04T09:57:20.416Z"
   },
   {
    "duration": 3,
    "start_time": "2022-05-04T09:57:20.572Z"
   },
   {
    "duration": 21,
    "start_time": "2022-05-04T09:57:20.577Z"
   },
   {
    "duration": 6,
    "start_time": "2022-05-04T09:57:20.600Z"
   },
   {
    "duration": 10,
    "start_time": "2022-05-04T09:57:20.607Z"
   },
   {
    "duration": 9,
    "start_time": "2022-05-04T09:57:20.618Z"
   },
   {
    "duration": 5,
    "start_time": "2022-05-04T09:57:20.629Z"
   },
   {
    "duration": 545,
    "start_time": "2022-05-04T09:57:20.635Z"
   },
   {
    "duration": 3722,
    "start_time": "2022-05-04T09:57:21.182Z"
   },
   {
    "duration": 5,
    "start_time": "2022-05-04T09:57:24.911Z"
   },
   {
    "duration": 801,
    "start_time": "2022-05-04T09:57:24.918Z"
   },
   {
    "duration": 4,
    "start_time": "2022-05-04T09:57:25.722Z"
   },
   {
    "duration": 67,
    "start_time": "2022-05-04T09:57:25.729Z"
   },
   {
    "duration": 5,
    "start_time": "2022-05-04T09:57:25.799Z"
   },
   {
    "duration": 18,
    "start_time": "2022-05-04T09:57:25.806Z"
   },
   {
    "duration": 6,
    "start_time": "2022-05-04T09:57:25.826Z"
   },
   {
    "duration": 7,
    "start_time": "2022-05-04T09:57:25.834Z"
   },
   {
    "duration": 14,
    "start_time": "2022-05-04T09:57:25.843Z"
   },
   {
    "duration": 8,
    "start_time": "2022-05-04T09:57:25.859Z"
   },
   {
    "duration": 95,
    "start_time": "2022-05-04T09:57:25.869Z"
   },
   {
    "duration": 42235,
    "start_time": "2022-05-04T09:57:25.966Z"
   },
   {
    "duration": 3,
    "start_time": "2022-05-04T09:58:08.203Z"
   },
   {
    "duration": 12,
    "start_time": "2022-05-04T09:58:08.209Z"
   },
   {
    "duration": 8,
    "start_time": "2022-05-04T09:58:08.223Z"
   },
   {
    "duration": 5,
    "start_time": "2022-05-04T09:58:08.232Z"
   },
   {
    "duration": 10,
    "start_time": "2022-05-04T09:58:08.239Z"
   },
   {
    "duration": 12,
    "start_time": "2022-05-04T09:58:08.251Z"
   },
   {
    "duration": 5,
    "start_time": "2022-05-04T09:58:08.264Z"
   },
   {
    "duration": 9,
    "start_time": "2022-05-04T09:58:08.271Z"
   },
   {
    "duration": 182,
    "start_time": "2022-05-04T09:58:08.282Z"
   },
   {
    "duration": 68,
    "start_time": "2022-05-04T09:58:08.465Z"
   },
   {
    "duration": 225,
    "start_time": "2022-05-04T09:58:08.534Z"
   },
   {
    "duration": 3,
    "start_time": "2022-05-04T09:58:08.761Z"
   },
   {
    "duration": 15,
    "start_time": "2022-05-04T09:58:08.766Z"
   },
   {
    "duration": 11,
    "start_time": "2022-05-04T09:58:08.788Z"
   },
   {
    "duration": 5491,
    "start_time": "2022-05-04T10:17:45.345Z"
   },
   {
    "duration": 1880,
    "start_time": "2022-05-04T10:17:50.838Z"
   },
   {
    "duration": 3,
    "start_time": "2022-05-04T10:17:52.720Z"
   },
   {
    "duration": 870,
    "start_time": "2022-05-04T10:17:52.725Z"
   },
   {
    "duration": 3,
    "start_time": "2022-05-04T10:17:53.598Z"
   },
   {
    "duration": 30,
    "start_time": "2022-05-04T10:17:53.603Z"
   },
   {
    "duration": 152,
    "start_time": "2022-05-04T10:17:53.634Z"
   },
   {
    "duration": 5,
    "start_time": "2022-05-04T10:17:53.792Z"
   },
   {
    "duration": 155,
    "start_time": "2022-05-04T10:17:53.799Z"
   },
   {
    "duration": 496,
    "start_time": "2022-05-04T10:17:53.957Z"
   },
   {
    "duration": 974,
    "start_time": "2022-05-04T10:17:54.455Z"
   },
   {
    "duration": 834,
    "start_time": "2022-05-04T10:17:55.431Z"
   },
   {
    "duration": 760,
    "start_time": "2022-05-04T10:17:56.266Z"
   },
   {
    "duration": 392,
    "start_time": "2022-05-04T10:17:57.028Z"
   },
   {
    "duration": 857,
    "start_time": "2022-05-04T10:17:57.422Z"
   },
   {
    "duration": 27,
    "start_time": "2022-05-04T10:17:58.281Z"
   },
   {
    "duration": 19,
    "start_time": "2022-05-04T10:17:58.311Z"
   },
   {
    "duration": 22,
    "start_time": "2022-05-04T10:17:58.332Z"
   },
   {
    "duration": 165,
    "start_time": "2022-05-04T10:17:58.356Z"
   },
   {
    "duration": 10,
    "start_time": "2022-05-04T10:17:58.523Z"
   },
   {
    "duration": 124,
    "start_time": "2022-05-04T10:17:58.535Z"
   },
   {
    "duration": 20,
    "start_time": "2022-05-04T10:17:58.661Z"
   },
   {
    "duration": 35,
    "start_time": "2022-05-04T10:17:58.683Z"
   },
   {
    "duration": 21,
    "start_time": "2022-05-04T10:17:58.720Z"
   },
   {
    "duration": 21,
    "start_time": "2022-05-04T10:17:58.743Z"
   },
   {
    "duration": 39,
    "start_time": "2022-05-04T10:17:58.765Z"
   },
   {
    "duration": 28,
    "start_time": "2022-05-04T10:17:58.807Z"
   },
   {
    "duration": 6,
    "start_time": "2022-05-04T10:17:58.840Z"
   },
   {
    "duration": 18,
    "start_time": "2022-05-04T10:17:58.848Z"
   },
   {
    "duration": 97,
    "start_time": "2022-05-04T10:17:58.868Z"
   },
   {
    "duration": 29,
    "start_time": "2022-05-04T10:17:58.967Z"
   },
   {
    "duration": 2982,
    "start_time": "2022-05-04T10:17:58.998Z"
   },
   {
    "duration": 198,
    "start_time": "2022-05-04T10:18:01.981Z"
   },
   {
    "duration": 28,
    "start_time": "2022-05-04T10:18:02.181Z"
   },
   {
    "duration": 21,
    "start_time": "2022-05-04T10:18:02.212Z"
   },
   {
    "duration": 124,
    "start_time": "2022-05-04T10:18:02.235Z"
   },
   {
    "duration": 155,
    "start_time": "2022-05-04T10:18:02.361Z"
   },
   {
    "duration": 149,
    "start_time": "2022-05-04T10:18:02.517Z"
   },
   {
    "duration": 3,
    "start_time": "2022-05-04T10:18:02.669Z"
   },
   {
    "duration": 45,
    "start_time": "2022-05-04T10:18:02.673Z"
   },
   {
    "duration": 5,
    "start_time": "2022-05-04T10:18:02.720Z"
   },
   {
    "duration": 6,
    "start_time": "2022-05-04T10:18:02.726Z"
   },
   {
    "duration": 7,
    "start_time": "2022-05-04T10:18:02.734Z"
   },
   {
    "duration": 11,
    "start_time": "2022-05-04T10:18:02.742Z"
   },
   {
    "duration": 209,
    "start_time": "2022-05-04T10:18:02.755Z"
   },
   {
    "duration": 593,
    "start_time": "2022-05-04T10:18:02.966Z"
   },
   {
    "duration": 5,
    "start_time": "2022-05-04T10:18:03.561Z"
   },
   {
    "duration": 225,
    "start_time": "2022-05-04T10:18:03.567Z"
   },
   {
    "duration": 4,
    "start_time": "2022-05-04T10:18:03.795Z"
   },
   {
    "duration": 3,
    "start_time": "2022-05-04T10:18:03.801Z"
   },
   {
    "duration": 18,
    "start_time": "2022-05-04T10:18:03.806Z"
   },
   {
    "duration": 7,
    "start_time": "2022-05-04T10:18:03.826Z"
   },
   {
    "duration": 8,
    "start_time": "2022-05-04T10:18:03.835Z"
   },
   {
    "duration": 7,
    "start_time": "2022-05-04T10:18:03.845Z"
   },
   {
    "duration": 542,
    "start_time": "2022-05-04T10:18:03.854Z"
   },
   {
    "duration": 3809,
    "start_time": "2022-05-04T10:18:04.399Z"
   },
   {
    "duration": 5,
    "start_time": "2022-05-04T10:18:08.210Z"
   },
   {
    "duration": 849,
    "start_time": "2022-05-04T10:18:08.217Z"
   },
   {
    "duration": 5,
    "start_time": "2022-05-04T10:18:09.068Z"
   },
   {
    "duration": 58,
    "start_time": "2022-05-04T10:18:09.075Z"
   },
   {
    "duration": 5,
    "start_time": "2022-05-04T10:18:09.136Z"
   },
   {
    "duration": 9,
    "start_time": "2022-05-04T10:18:09.143Z"
   },
   {
    "duration": 5,
    "start_time": "2022-05-04T10:18:09.154Z"
   },
   {
    "duration": 7,
    "start_time": "2022-05-04T10:18:09.161Z"
   },
   {
    "duration": 6,
    "start_time": "2022-05-04T10:18:09.170Z"
   },
   {
    "duration": 24,
    "start_time": "2022-05-04T10:18:09.178Z"
   },
   {
    "duration": 78,
    "start_time": "2022-05-04T10:18:09.205Z"
   },
   {
    "duration": 45643,
    "start_time": "2022-05-04T10:18:09.285Z"
   },
   {
    "duration": 3,
    "start_time": "2022-05-04T10:18:54.930Z"
   },
   {
    "duration": 13,
    "start_time": "2022-05-04T10:18:54.935Z"
   },
   {
    "duration": 17,
    "start_time": "2022-05-04T10:18:54.950Z"
   },
   {
    "duration": 19,
    "start_time": "2022-05-04T10:18:54.969Z"
   },
   {
    "duration": 488550,
    "start_time": "2022-05-04T10:18:54.990Z"
   },
   {
    "duration": 661756,
    "start_time": "2022-05-04T10:27:03.543Z"
   },
   {
    "duration": 3,
    "start_time": "2022-05-04T10:38:05.302Z"
   },
   {
    "duration": 6,
    "start_time": "2022-05-04T10:38:05.307Z"
   },
   {
    "duration": 169,
    "start_time": "2022-05-04T10:38:05.315Z"
   },
   {
    "duration": 64,
    "start_time": "2022-05-04T10:38:05.485Z"
   },
   {
    "duration": 222,
    "start_time": "2022-05-04T10:38:05.551Z"
   },
   {
    "duration": 3,
    "start_time": "2022-05-04T10:38:05.775Z"
   },
   {
    "duration": 149,
    "start_time": "2022-05-04T10:38:05.780Z"
   },
   {
    "duration": 0,
    "start_time": "2022-05-04T10:38:05.931Z"
   },
   {
    "duration": 0,
    "start_time": "2022-05-04T10:38:05.932Z"
   },
   {
    "duration": 0,
    "start_time": "2022-05-04T10:38:05.933Z"
   },
   {
    "duration": 0,
    "start_time": "2022-05-04T10:38:05.935Z"
   },
   {
    "duration": 0,
    "start_time": "2022-05-04T10:38:05.936Z"
   },
   {
    "duration": 0,
    "start_time": "2022-05-04T10:38:05.937Z"
   },
   {
    "duration": 0,
    "start_time": "2022-05-04T10:38:05.938Z"
   },
   {
    "duration": 3,
    "start_time": "2022-05-04T10:41:56.090Z"
   },
   {
    "duration": 2759999,
    "start_time": "2022-05-04T10:41:56.096Z"
   },
   {
    "duration": 3,
    "start_time": "2022-05-04T11:27:56.097Z"
   },
   {
    "duration": 2553704,
    "start_time": "2022-05-04T11:27:56.102Z"
   },
   {
    "duration": 4,
    "start_time": "2022-05-04T12:10:29.808Z"
   },
   {
    "duration": 80,
    "start_time": "2022-05-04T12:10:29.814Z"
   },
   {
    "duration": 2,
    "start_time": "2022-05-04T12:10:29.896Z"
   },
   {
    "duration": 8,
    "start_time": "2022-05-04T12:10:29.900Z"
   },
   {
    "duration": 2101,
    "start_time": "2022-05-04T12:10:29.910Z"
   }
  ],
  "kernelspec": {
   "display_name": "Python 3 (ipykernel)",
   "language": "python",
   "name": "python3"
  },
  "language_info": {
   "codemirror_mode": {
    "name": "ipython",
    "version": 3
   },
   "file_extension": ".py",
   "mimetype": "text/x-python",
   "name": "python",
   "nbconvert_exporter": "python",
   "pygments_lexer": "ipython3",
   "version": "3.7.8"
  },
  "toc": {
   "base_numbering": 1,
   "nav_menu": {},
   "number_sections": true,
   "sideBar": true,
   "skip_h1_title": true,
   "title_cell": "Table of Contents",
   "title_sidebar": "Contents",
   "toc_cell": false,
   "toc_position": {
    "height": "calc(100% - 180px)",
    "left": "10px",
    "top": "150px",
    "width": "366.389px"
   },
   "toc_section_display": true,
   "toc_window_display": true
  }
 },
 "nbformat": 4,
 "nbformat_minor": 2
}
